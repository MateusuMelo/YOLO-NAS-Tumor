{
 "cells": [
  {
   "cell_type": "code",
   "execution_count": 1,
   "id": "24aa75fa-84be-43ba-9cac-3129f34fc597",
   "metadata": {
    "tags": []
   },
   "outputs": [
    {
     "name": "stdout",
     "output_type": "stream",
     "text": [
      "^C\n",
      "Requirement already satisfied: super-gradients in c:\\users\\mateu\\appdata\\local\\programs\\python\\python37\\lib\\site-packages (3.2.0)\n",
      "Requirement already satisfied: torch>=1.9.0 in c:\\users\\mateu\\appdata\\local\\programs\\python\\python37\\lib\\site-packages (from super-gradients) (1.13.1)\n",
      "Requirement already satisfied: tqdm>=4.57.0 in c:\\users\\mateu\\appdata\\local\\programs\\python\\python37\\lib\\site-packages (from super-gradients) (4.65.0)\n",
      "Requirement already satisfied: boto3>=1.17.15 in c:\\users\\mateu\\appdata\\local\\programs\\python\\python37\\lib\\site-packages (from super-gradients) (1.28.39)\n",
      "Requirement already satisfied: jsonschema>=3.2.0 in c:\\users\\mateu\\appdata\\local\\programs\\python\\python37\\lib\\site-packages (from super-gradients) (4.17.3)\n",
      "Requirement already satisfied: Deprecated>=1.2.11 in c:\\users\\mateu\\appdata\\local\\programs\\python\\python37\\lib\\site-packages (from super-gradients) (1.2.14)\n",
      "Requirement already satisfied: opencv-python>=4.5.1 in c:\\users\\mateu\\appdata\\local\\programs\\python\\python37\\lib\\site-packages (from super-gradients) (4.7.0.72)\n",
      "Requirement already satisfied: scipy>=1.6.1 in c:\\users\\mateu\\appdata\\local\\programs\\python\\python37\\lib\\site-packages (from super-gradients) (1.7.3)\n",
      "Requirement already satisfied: matplotlib>=3.3.4 in c:\\users\\mateu\\appdata\\local\\programs\\python\\python37\\lib\\site-packages (from super-gradients) (3.5.3)\n",
      "Requirement already satisfied: psutil>=5.8.0 in c:\\users\\mateu\\appdata\\local\\programs\\python\\python37\\lib\\site-packages (from super-gradients) (5.9.5)\n",
      "Requirement already satisfied: tensorboard>=2.4.1 in c:\\users\\mateu\\appdata\\local\\programs\\python\\python37\\lib\\site-packages (from super-gradients) (2.11.2)\n",
      "Requirement already satisfied: setuptools>=21.0.0 in c:\\users\\mateu\\appdata\\local\\programs\\python\\python37\\lib\\site-packages (from super-gradients) (60.2.0)\n",
      "Requirement already satisfied: coverage~=5.3.1 in c:\\users\\mateu\\appdata\\local\\programs\\python\\python37\\lib\\site-packages (from super-gradients) (5.3.1)\n",
      "Requirement already satisfied: torchvision>=0.10.0 in c:\\users\\mateu\\appdata\\local\\programs\\python\\python37\\lib\\site-packages (from super-gradients) (0.14.1)\n",
      "Requirement already satisfied: sphinx~=4.0.2 in c:\\users\\mateu\\appdata\\local\\programs\\python\\python37\\lib\\site-packages (from super-gradients) (4.0.3)\n",
      "Requirement already satisfied: sphinx-rtd-theme in c:\\users\\mateu\\appdata\\local\\programs\\python\\python37\\lib\\site-packages (from super-gradients) (1.3.0)\n",
      "Requirement already satisfied: torchmetrics==0.8 in c:\\users\\mateu\\appdata\\local\\programs\\python\\python37\\lib\\site-packages (from super-gradients) (0.8.0)\n",
      "Requirement already satisfied: hydra-core>=1.2.0 in c:\\users\\mateu\\appdata\\local\\programs\\python\\python37\\lib\\site-packages (from super-gradients) (1.3.2)\n",
      "Requirement already satisfied: omegaconf in c:\\users\\mateu\\appdata\\local\\programs\\python\\python37\\lib\\site-packages (from super-gradients) (2.3.0)\n",
      "Requirement already satisfied: onnxruntime==1.13.1 in c:\\users\\mateu\\appdata\\local\\programs\\python\\python37\\lib\\site-packages (from super-gradients) (1.13.1)\n",
      "Requirement already satisfied: onnx==1.13.0 in c:\\users\\mateu\\appdata\\local\\programs\\python\\python37\\lib\\site-packages (from super-gradients) (1.13.0)\n",
      "Requirement already satisfied: pillow!=8.3,>=5.3.0 in c:\\users\\mateu\\appdata\\local\\programs\\python\\python37\\lib\\site-packages (from super-gradients) (9.5.0)\n",
      "Requirement already satisfied: pip-tools>=6.12.1 in c:\\users\\mateu\\appdata\\local\\programs\\python\\python37\\lib\\site-packages (from super-gradients) (6.14.0)\n",
      "Requirement already satisfied: pyparsing==2.4.5 in c:\\users\\mateu\\appdata\\local\\programs\\python\\python37\\lib\\site-packages (from super-gradients) (2.4.5)\n",
      "Requirement already satisfied: einops==0.3.2 in c:\\users\\mateu\\appdata\\local\\programs\\python\\python37\\lib\\site-packages (from super-gradients) (0.3.2)\n",
      "Requirement already satisfied: pycocotools==2.0.6 in c:\\users\\mateu\\appdata\\local\\programs\\python\\python37\\lib\\site-packages (from super-gradients) (2.0.6)\n",
      "Requirement already satisfied: protobuf==3.20.3 in c:\\users\\mateu\\appdata\\local\\programs\\python\\python37\\lib\\site-packages (from super-gradients) (3.20.3)\n",
      "Requirement already satisfied: treelib==1.6.1 in c:\\users\\mateu\\appdata\\local\\programs\\python\\python37\\lib\\site-packages (from super-gradients) (1.6.1)\n",
      "Requirement already satisfied: termcolor==1.1.0 in c:\\users\\mateu\\appdata\\local\\programs\\python\\python37\\lib\\site-packages (from super-gradients) (1.1.0)\n",
      "Requirement already satisfied: packaging>=20.4 in c:\\users\\mateu\\appdata\\local\\programs\\python\\python37\\lib\\site-packages (from super-gradients) (23.1)\n",
      "Requirement already satisfied: wheel>=0.38.0 in c:\\users\\mateu\\appdata\\local\\programs\\python\\python37\\lib\\site-packages (from super-gradients) (0.40.0)\n",
      "Requirement already satisfied: pygments>=2.7.4 in c:\\users\\mateu\\appdata\\local\\programs\\python\\python37\\lib\\site-packages (from super-gradients) (2.15.1)\n",
      "Requirement already satisfied: stringcase>=1.2.0 in c:\\users\\mateu\\appdata\\local\\programs\\python\\python37\\lib\\site-packages (from super-gradients) (1.2.0)\n",
      "Requirement already satisfied: numpy<=1.23 in c:\\users\\mateu\\appdata\\local\\programs\\python\\python37\\lib\\site-packages (from super-gradients) (1.21.6)\n",
      "Requirement already satisfied: rapidfuzz in c:\\users\\mateu\\appdata\\local\\programs\\python\\python37\\lib\\site-packages (from super-gradients) (3.2.0)\n",
      "Requirement already satisfied: json-tricks==3.16.1 in c:\\users\\mateu\\appdata\\local\\programs\\python\\python37\\lib\\site-packages (from super-gradients) (3.16.1)\n",
      "Requirement already satisfied: onnx-simplifier<1.0,>=0.3.6 in c:\\users\\mateu\\appdata\\local\\programs\\python\\python37\\lib\\site-packages (from super-gradients) (0.4.33)\n",
      "Requirement already satisfied: typing-extensions>=3.6.2.1 in c:\\users\\mateu\\appdata\\local\\programs\\python\\python37\\lib\\site-packages (from onnx==1.13.0->super-gradients) (4.7.1)\n",
      "Requirement already satisfied: coloredlogs in c:\\users\\mateu\\appdata\\local\\programs\\python\\python37\\lib\\site-packages (from onnxruntime==1.13.1->super-gradients) (15.0.1)\n",
      "Requirement already satisfied: flatbuffers in c:\\users\\mateu\\appdata\\local\\programs\\python\\python37\\lib\\site-packages (from onnxruntime==1.13.1->super-gradients) (23.5.26)\n",
      "Requirement already satisfied: sympy in c:\\users\\mateu\\appdata\\local\\programs\\python\\python37\\lib\\site-packages (from onnxruntime==1.13.1->super-gradients) (1.10.1)\n",
      "Requirement already satisfied: pyDeprecate==0.3.* in c:\\users\\mateu\\appdata\\local\\programs\\python\\python37\\lib\\site-packages (from torchmetrics==0.8->super-gradients) (0.3.2)\n",
      "Requirement already satisfied: future in c:\\users\\mateu\\appdata\\local\\programs\\python\\python37\\lib\\site-packages (from treelib==1.6.1->super-gradients) (0.18.3)\n",
      "Requirement already satisfied: botocore<1.32.0,>=1.31.39 in c:\\users\\mateu\\appdata\\local\\programs\\python\\python37\\lib\\site-packages (from boto3>=1.17.15->super-gradients) (1.31.39)\n",
      "Requirement already satisfied: jmespath<2.0.0,>=0.7.1 in c:\\users\\mateu\\appdata\\local\\programs\\python\\python37\\lib\\site-packages (from boto3>=1.17.15->super-gradients) (0.10.0)\n",
      "Requirement already satisfied: s3transfer<0.7.0,>=0.6.0 in c:\\users\\mateu\\appdata\\local\\programs\\python\\python37\\lib\\site-packages (from boto3>=1.17.15->super-gradients) (0.6.2)\n",
      "Requirement already satisfied: wrapt<2,>=1.10 in c:\\users\\mateu\\appdata\\local\\programs\\python\\python37\\lib\\site-packages (from Deprecated>=1.2.11->super-gradients) (1.15.0)\n",
      "Requirement already satisfied: antlr4-python3-runtime==4.9.* in c:\\users\\mateu\\appdata\\local\\programs\\python\\python37\\lib\\site-packages (from hydra-core>=1.2.0->super-gradients) (4.9.3)\n",
      "Requirement already satisfied: importlib-resources in c:\\users\\mateu\\appdata\\local\\programs\\python\\python37\\lib\\site-packages (from hydra-core>=1.2.0->super-gradients) (5.12.0)\n",
      "Requirement already satisfied: attrs>=17.4.0 in c:\\users\\mateu\\appdata\\local\\programs\\python\\python37\\lib\\site-packages (from jsonschema>=3.2.0->super-gradients) (23.1.0)\n",
      "Requirement already satisfied: importlib-metadata in c:\\users\\mateu\\appdata\\local\\programs\\python\\python37\\lib\\site-packages (from jsonschema>=3.2.0->super-gradients) (6.6.0)\n",
      "Requirement already satisfied: pkgutil-resolve-name>=1.3.10 in c:\\users\\mateu\\appdata\\local\\programs\\python\\python37\\lib\\site-packages (from jsonschema>=3.2.0->super-gradients) (1.3.10)\n",
      "Requirement already satisfied: pyrsistent!=0.17.0,!=0.17.1,!=0.17.2,>=0.14.0 in c:\\users\\mateu\\appdata\\local\\programs\\python\\python37\\lib\\site-packages (from jsonschema>=3.2.0->super-gradients) (0.19.3)\n",
      "Requirement already satisfied: cycler>=0.10 in c:\\users\\mateu\\appdata\\local\\programs\\python\\python37\\lib\\site-packages (from matplotlib>=3.3.4->super-gradients) (0.10.0)\n",
      "Requirement already satisfied: fonttools>=4.22.0 in c:\\users\\mateu\\appdata\\local\\programs\\python\\python37\\lib\\site-packages (from matplotlib>=3.3.4->super-gradients) (4.38.0)\n",
      "Requirement already satisfied: kiwisolver>=1.0.1 in c:\\users\\mateu\\appdata\\local\\programs\\python\\python37\\lib\\site-packages (from matplotlib>=3.3.4->super-gradients) (1.4.4)\n",
      "Requirement already satisfied: python-dateutil>=2.7 in c:\\users\\mateu\\appdata\\local\\programs\\python\\python37\\lib\\site-packages (from matplotlib>=3.3.4->super-gradients) (2.8.2)\n",
      "Requirement already satisfied: PyYAML>=5.1.0 in c:\\users\\mateu\\appdata\\local\\programs\\python\\python37\\lib\\site-packages (from omegaconf->super-gradients) (6.0)\n",
      "Requirement already satisfied: rich in c:\\users\\mateu\\appdata\\local\\programs\\python\\python37\\lib\\site-packages (from onnx-simplifier<1.0,>=0.3.6->super-gradients) (13.5.2)\n",
      "Requirement already satisfied: build in c:\\users\\mateu\\appdata\\local\\programs\\python\\python37\\lib\\site-packages (from pip-tools>=6.12.1->super-gradients) (0.10.0)\n",
      "Requirement already satisfied: click>=8 in c:\\users\\mateu\\appdata\\local\\programs\\python\\python37\\lib\\site-packages (from pip-tools>=6.12.1->super-gradients) (8.1.7)\n",
      "Requirement already satisfied: pip>=22.2 in c:\\users\\mateu\\appdata\\local\\programs\\python\\python37\\lib\\site-packages (from pip-tools>=6.12.1->super-gradients) (23.2.1)\n",
      "Requirement already satisfied: tomli in c:\\users\\mateu\\appdata\\local\\programs\\python\\python37\\lib\\site-packages (from pip-tools>=6.12.1->super-gradients) (2.0.1)\n",
      "Requirement already satisfied: sphinxcontrib-applehelp in c:\\users\\mateu\\appdata\\local\\programs\\python\\python37\\lib\\site-packages (from sphinx~=4.0.2->super-gradients) (1.0.2)\n",
      "Requirement already satisfied: sphinxcontrib-devhelp in c:\\users\\mateu\\appdata\\local\\programs\\python\\python37\\lib\\site-packages (from sphinx~=4.0.2->super-gradients) (1.0.2)\n",
      "Requirement already satisfied: sphinxcontrib-jsmath in c:\\users\\mateu\\appdata\\local\\programs\\python\\python37\\lib\\site-packages (from sphinx~=4.0.2->super-gradients) (1.0.1)\n",
      "Requirement already satisfied: sphinxcontrib-htmlhelp in c:\\users\\mateu\\appdata\\local\\programs\\python\\python37\\lib\\site-packages (from sphinx~=4.0.2->super-gradients) (2.0.0)\n",
      "Requirement already satisfied: sphinxcontrib-serializinghtml in c:\\users\\mateu\\appdata\\local\\programs\\python\\python37\\lib\\site-packages (from sphinx~=4.0.2->super-gradients) (1.1.5)\n",
      "Requirement already satisfied: sphinxcontrib-qthelp in c:\\users\\mateu\\appdata\\local\\programs\\python\\python37\\lib\\site-packages (from sphinx~=4.0.2->super-gradients) (1.0.3)\n",
      "Requirement already satisfied: Jinja2>=2.3 in c:\\users\\mateu\\appdata\\local\\programs\\python\\python37\\lib\\site-packages (from sphinx~=4.0.2->super-gradients) (3.1.2)\n",
      "Requirement already satisfied: docutils<0.18,>=0.14 in c:\\users\\mateu\\appdata\\local\\programs\\python\\python37\\lib\\site-packages (from sphinx~=4.0.2->super-gradients) (0.17.1)\n",
      "Requirement already satisfied: snowballstemmer>=1.1 in c:\\users\\mateu\\appdata\\local\\programs\\python\\python37\\lib\\site-packages (from sphinx~=4.0.2->super-gradients) (2.2.0)\n",
      "Requirement already satisfied: babel>=1.3 in c:\\users\\mateu\\appdata\\local\\programs\\python\\python37\\lib\\site-packages (from sphinx~=4.0.2->super-gradients) (2.12.1)\n",
      "Requirement already satisfied: alabaster<0.8,>=0.7 in c:\\users\\mateu\\appdata\\local\\programs\\python\\python37\\lib\\site-packages (from sphinx~=4.0.2->super-gradients) (0.7.13)\n",
      "Requirement already satisfied: imagesize in c:\\users\\mateu\\appdata\\local\\programs\\python\\python37\\lib\\site-packages (from sphinx~=4.0.2->super-gradients) (1.4.1)\n",
      "Requirement already satisfied: requests>=2.5.0 in c:\\users\\mateu\\appdata\\local\\programs\\python\\python37\\lib\\site-packages (from sphinx~=4.0.2->super-gradients) (2.28.2)\n",
      "Requirement already satisfied: colorama>=0.3.5 in c:\\users\\mateu\\appdata\\local\\programs\\python\\python37\\lib\\site-packages (from sphinx~=4.0.2->super-gradients) (0.4.6)\n",
      "Requirement already satisfied: absl-py>=0.4 in c:\\users\\mateu\\appdata\\local\\programs\\python\\python37\\lib\\site-packages (from tensorboard>=2.4.1->super-gradients) (1.4.0)\n",
      "Requirement already satisfied: grpcio>=1.24.3 in c:\\users\\mateu\\appdata\\local\\programs\\python\\python37\\lib\\site-packages (from tensorboard>=2.4.1->super-gradients) (1.54.2)\n",
      "Requirement already satisfied: google-auth<3,>=1.6.3 in c:\\users\\mateu\\appdata\\local\\programs\\python\\python37\\lib\\site-packages (from tensorboard>=2.4.1->super-gradients) (2.20.0)\n",
      "Requirement already satisfied: google-auth-oauthlib<0.5,>=0.4.1 in c:\\users\\mateu\\appdata\\local\\programs\\python\\python37\\lib\\site-packages (from tensorboard>=2.4.1->super-gradients) (0.4.6)\n",
      "Requirement already satisfied: markdown>=2.6.8 in c:\\users\\mateu\\appdata\\local\\programs\\python\\python37\\lib\\site-packages (from tensorboard>=2.4.1->super-gradients) (3.4.3)\n",
      "Requirement already satisfied: tensorboard-data-server<0.7.0,>=0.6.0 in c:\\users\\mateu\\appdata\\local\\programs\\python\\python37\\lib\\site-packages (from tensorboard>=2.4.1->super-gradients) (0.6.1)\n",
      "Requirement already satisfied: tensorboard-plugin-wit>=1.6.0 in c:\\users\\mateu\\appdata\\local\\programs\\python\\python37\\lib\\site-packages (from tensorboard>=2.4.1->super-gradients) (1.8.1)\n",
      "Requirement already satisfied: werkzeug>=1.0.1 in c:\\users\\mateu\\appdata\\local\\programs\\python\\python37\\lib\\site-packages (from tensorboard>=2.4.1->super-gradients) (2.2.3)\n",
      "Requirement already satisfied: sphinxcontrib-jquery<5,>=4 in c:\\users\\mateu\\appdata\\local\\programs\\python\\python37\\lib\\site-packages (from sphinx-rtd-theme->super-gradients) (4.1)\n",
      "Requirement already satisfied: pytz>=2015.7 in c:\\users\\mateu\\appdata\\local\\programs\\python\\python37\\lib\\site-packages (from babel>=1.3->sphinx~=4.0.2->super-gradients) (2023.3)\n",
      "Requirement already satisfied: urllib3<1.27,>=1.25.4 in c:\\users\\mateu\\appdata\\local\\programs\\python\\python37\\lib\\site-packages (from botocore<1.32.0,>=1.31.39->boto3>=1.17.15->super-gradients) (1.26.16)\n",
      "Requirement already satisfied: six in c:\\users\\mateu\\appdata\\local\\programs\\python\\python37\\lib\\site-packages (from cycler>=0.10->matplotlib>=3.3.4->super-gradients) (1.16.0)\n",
      "Requirement already satisfied: cachetools<6.0,>=2.0.0 in c:\\users\\mateu\\appdata\\local\\programs\\python\\python37\\lib\\site-packages (from google-auth<3,>=1.6.3->tensorboard>=2.4.1->super-gradients) (5.3.1)\n",
      "Requirement already satisfied: pyasn1-modules>=0.2.1 in c:\\users\\mateu\\appdata\\local\\programs\\python\\python37\\lib\\site-packages (from google-auth<3,>=1.6.3->tensorboard>=2.4.1->super-gradients) (0.3.0)\n",
      "Requirement already satisfied: rsa<5,>=3.1.4 in c:\\users\\mateu\\appdata\\local\\programs\\python\\python37\\lib\\site-packages (from google-auth<3,>=1.6.3->tensorboard>=2.4.1->super-gradients) (4.9)\n",
      "Requirement already satisfied: requests-oauthlib>=0.7.0 in c:\\users\\mateu\\appdata\\local\\programs\\python\\python37\\lib\\site-packages (from google-auth-oauthlib<0.5,>=0.4.1->tensorboard>=2.4.1->super-gradients) (1.3.1)\n",
      "Requirement already satisfied: zipp>=3.1.0 in c:\\users\\mateu\\appdata\\local\\programs\\python\\python37\\lib\\site-packages (from importlib-resources->hydra-core>=1.2.0->super-gradients) (3.15.0)\n",
      "Requirement already satisfied: MarkupSafe>=2.0 in c:\\users\\mateu\\appdata\\local\\programs\\python\\python37\\lib\\site-packages (from Jinja2>=2.3->sphinx~=4.0.2->super-gradients) (2.1.3)\n",
      "Requirement already satisfied: charset-normalizer<4,>=2 in c:\\users\\mateu\\appdata\\local\\programs\\python\\python37\\lib\\site-packages (from requests>=2.5.0->sphinx~=4.0.2->super-gradients) (3.1.0)\n",
      "Requirement already satisfied: idna<4,>=2.5 in c:\\users\\mateu\\appdata\\local\\programs\\python\\python37\\lib\\site-packages (from requests>=2.5.0->sphinx~=4.0.2->super-gradients) (2.10)\n",
      "Requirement already satisfied: certifi>=2017.4.17 in c:\\users\\mateu\\appdata\\local\\programs\\python\\python37\\lib\\site-packages (from requests>=2.5.0->sphinx~=4.0.2->super-gradients) (2022.12.7)\n",
      "Requirement already satisfied: pyproject_hooks in c:\\users\\mateu\\appdata\\local\\programs\\python\\python37\\lib\\site-packages (from build->pip-tools>=6.12.1->super-gradients) (1.0.0)\n",
      "Requirement already satisfied: humanfriendly>=9.1 in c:\\users\\mateu\\appdata\\local\\programs\\python\\python37\\lib\\site-packages (from coloredlogs->onnxruntime==1.13.1->super-gradients) (10.0)\n",
      "Requirement already satisfied: markdown-it-py>=2.2.0 in c:\\users\\mateu\\appdata\\local\\programs\\python\\python37\\lib\\site-packages (from rich->onnx-simplifier<1.0,>=0.3.6->super-gradients) (2.2.0)\n",
      "Requirement already satisfied: mpmath>=0.19 in c:\\users\\mateu\\appdata\\local\\programs\\python\\python37\\lib\\site-packages (from sympy->onnxruntime==1.13.1->super-gradients) (1.3.0)\n",
      "Requirement already satisfied: pyreadline in c:\\users\\mateu\\appdata\\local\\programs\\python\\python37\\lib\\site-packages (from humanfriendly>=9.1->coloredlogs->onnxruntime==1.13.1->super-gradients) (2.1)\n",
      "Requirement already satisfied: mdurl~=0.1 in c:\\users\\mateu\\appdata\\local\\programs\\python\\python37\\lib\\site-packages (from markdown-it-py>=2.2.0->rich->onnx-simplifier<1.0,>=0.3.6->super-gradients) (0.1.2)\n",
      "Requirement already satisfied: pyasn1<0.6.0,>=0.4.6 in c:\\users\\mateu\\appdata\\local\\programs\\python\\python37\\lib\\site-packages (from pyasn1-modules>=0.2.1->google-auth<3,>=1.6.3->tensorboard>=2.4.1->super-gradients) (0.5.0)\n",
      "Requirement already satisfied: oauthlib>=3.0.0 in c:\\users\\mateu\\appdata\\local\\programs\\python\\python37\\lib\\site-packages (from requests-oauthlib>=0.7.0->google-auth-oauthlib<0.5,>=0.4.1->tensorboard>=2.4.1->super-gradients) (3.2.2)\n"
     ]
    }
   ],
   "source": [
    "!pip install super-gradients"
   ]
  },
  {
   "cell_type": "code",
   "execution_count": 2,
   "id": "62f7a1c2-1197-46df-b261-bb559cbcabde",
   "metadata": {
    "tags": []
   },
   "outputs": [],
   "source": [
    "import torch\n",
    "\n",
    "DEVICE = 'cuda' if torch.cuda.is_available() else \"cpu\"\n",
    "MODEL_ARCH = 'yolo_nas_l'"
   ]
  },
  {
   "cell_type": "code",
   "execution_count": 4,
   "id": "8d53441f-661c-4f36-90a5-bd28609d525c",
   "metadata": {
    "tags": []
   },
   "outputs": [
    {
     "ename": "ModuleNotFoundError",
     "evalue": "No module named 'super_gradients'",
     "output_type": "error",
     "traceback": [
      "\u001b[1;31m---------------------------------------------------------------------------\u001b[0m",
      "\u001b[1;31mModuleNotFoundError\u001b[0m                       Traceback (most recent call last)",
      "Cell \u001b[1;32mIn[4], line 1\u001b[0m\n\u001b[1;32m----> 1\u001b[0m \u001b[38;5;28;01mfrom\u001b[39;00m \u001b[38;5;21;01msuper_gradients\u001b[39;00m\u001b[38;5;21;01m.\u001b[39;00m\u001b[38;5;21;01mtraining\u001b[39;00m \u001b[38;5;28;01mimport\u001b[39;00m models\n\u001b[0;32m      3\u001b[0m model \u001b[38;5;241m=\u001b[39m models\u001b[38;5;241m.\u001b[39mget(MODEL_ARCH, pretrained_weights\u001b[38;5;241m=\u001b[39m\u001b[38;5;124m\"\u001b[39m\u001b[38;5;124mcoco\u001b[39m\u001b[38;5;124m\"\u001b[39m)\u001b[38;5;241m.\u001b[39mto(DEVICE)\n",
      "\u001b[1;31mModuleNotFoundError\u001b[0m: No module named 'super_gradients'"
     ]
    }
   ],
   "source": [
    "from super_gradients.training import models\n",
    "\n",
    "model = models.get(MODEL_ARCH, pretrained_weights=\"coco\").to(DEVICE)"
   ]
  },
  {
   "cell_type": "code",
   "execution_count": 2,
   "id": "a79a89ec-78ea-4949-8194-d32ddf814c4e",
   "metadata": {
    "tags": []
   },
   "outputs": [
    {
     "name": "stderr",
     "output_type": "stream",
     "text": [
      "'wget' nÆo ‚ reconhecido como um comando interno\n",
      "ou externo, um programa oper vel ou um arquivo em lotes.\n"
     ]
    },
    {
     "ename": "NameError",
     "evalue": "name 'model' is not defined",
     "output_type": "error",
     "traceback": [
      "\u001b[1;31m---------------------------------------------------------------------------\u001b[0m",
      "\u001b[1;31mNameError\u001b[0m                                 Traceback (most recent call last)",
      "Cell \u001b[1;32mIn[2], line 7\u001b[0m\n\u001b[0;32m      4\u001b[0m \u001b[38;5;28;01mimport\u001b[39;00m \u001b[38;5;21;01mcv2\u001b[39;00m\n\u001b[0;32m      6\u001b[0m image \u001b[38;5;241m=\u001b[39m cv2\u001b[38;5;241m.\u001b[39mimread(SOURCE_IMAGE_PATH)\n\u001b[1;32m----> 7\u001b[0m result \u001b[38;5;241m=\u001b[39m \u001b[38;5;28mlist\u001b[39m(\u001b[43mmodel\u001b[49m\u001b[38;5;241m.\u001b[39mpredict(image, conf\u001b[38;5;241m=\u001b[39m\u001b[38;5;241m0.35\u001b[39m))[\u001b[38;5;241m0\u001b[39m]\n\u001b[0;32m      9\u001b[0m \u001b[38;5;28mtype\u001b[39m(result)\n",
      "\u001b[1;31mNameError\u001b[0m: name 'model' is not defined"
     ]
    }
   ],
   "source": [
    "!wget -q https://media.roboflow.com/notebooks/examples/dog.jpeg\n",
    "SOURCE_IMAGE_PATH = \"/content/dog.jpeg\"\n",
    "\n",
    "import cv2\n",
    "\n",
    "image = cv2.imread(SOURCE_IMAGE_PATH)\n",
    "result = list(model.predict(image, conf=0.35))[0]\n",
    "\n",
    "type(result)"
   ]
  },
  {
   "cell_type": "code",
   "execution_count": null,
   "id": "ae17eabd-e9e2-490e-ab73-cc1a8637a986",
   "metadata": {},
   "outputs": [],
   "source": [
    "!pip install supervision\n",
    "import supervision as sv\n",
    "\n",
    "detections = sv.Detections(\n",
    "    xyxy=result.prediction.bboxes_xyxy,\n",
    "    confidence=result.prediction.confidence,\n",
    "    class_id=result.prediction.labels.astype(int)\n",
    ")\n",
    "\n",
    "box_annotator = sv.BoxAnnotator()\n",
    "\n",
    "labels = [\n",
    "    f\"{result.class_names[class_id]} {confidence:0.2f}\"\n",
    "    for _, _, confidence, class_id, _\n",
    "    in detections\n",
    "]\n",
    "\n",
    "annotated_frame = box_annotator.annotate(\n",
    "    scene=image.copy(),\n",
    "    detections=detections,\n",
    "    labels=labels\n",
    ")\n",
    "\n",
    "%matplotlib inline\n",
    "sv.plot_image(annotated_frame, (12, 12))"
   ]
  },
  {
   "cell_type": "code",
   "execution_count": 2,
   "id": "757d38f3-25b2-4c28-9502-cac25757bc9a",
   "metadata": {
    "tags": []
   },
   "outputs": [
    {
     "name": "stderr",
     "output_type": "stream",
     "text": [
      "ERROR: Could not find a version that satisfies the requirement upgrade (from versions: none)\n",
      "ERROR: No matching distribution found for upgrade\n"
     ]
    }
   ],
   "source": [
    "!pip install upgrade pip"
   ]
  },
  {
   "cell_type": "code",
   "execution_count": null,
   "id": "ee696874-0125-4f47-bbfa-c417a75b6be7",
   "metadata": {},
   "outputs": [],
   "source": []
  }
 ],
 "metadata": {
  "kernelspec": {
   "display_name": "Python 3 (ipykernel)",
   "language": "python",
   "name": "python3"
  },
  "language_info": {
   "codemirror_mode": {
    "name": "ipython",
    "version": 3
   },
   "file_extension": ".py",
   "mimetype": "text/x-python",
   "name": "python",
   "nbconvert_exporter": "python",
   "pygments_lexer": "ipython3",
   "version": "3.7.5"
  }
 },
 "nbformat": 4,
 "nbformat_minor": 5
}
