{
  "cells": [
    {
      "cell_type": "code",
      "execution_count": 2,
      "id": "24aa75fa-84be-43ba-9cac-3129f34fc597",
      "metadata": {
        "colab": {
          "base_uri": "https://localhost:8080/",
          "height": 1000
        },
        "id": "24aa75fa-84be-43ba-9cac-3129f34fc597",
        "outputId": "0f4d6e76-8098-416f-cc4f-ee079a2885fc",
        "tags": []
      },
      "outputs": [
        {
          "output_type": "stream",
          "name": "stdout",
          "text": [
            "Collecting super-gradients\n",
            "  Downloading super_gradients-3.3.0-py3-none-any.whl (6.5 MB)\n",
            "\u001b[2K     \u001b[90m━━━━━━━━━━━━━━━━━━━━━━━━━━━━━━━━━━━━━━━━\u001b[0m \u001b[32m6.5/6.5 MB\u001b[0m \u001b[31m43.3 MB/s\u001b[0m eta \u001b[36m0:00:00\u001b[0m\n",
            "\u001b[?25hRequirement already satisfied: torch>=1.9.0 in /usr/local/lib/python3.10/dist-packages (from super-gradients) (2.0.1+cu118)\n",
            "Requirement already satisfied: tqdm>=4.57.0 in /usr/local/lib/python3.10/dist-packages (from super-gradients) (4.66.1)\n",
            "Collecting boto3>=1.17.15 (from super-gradients)\n",
            "  Downloading boto3-1.28.66-py3-none-any.whl (135 kB)\n",
            "\u001b[2K     \u001b[90m━━━━━━━━━━━━━━━━━━━━━━━━━━━━━━━━━━━━━━━━\u001b[0m \u001b[32m135.8/135.8 kB\u001b[0m \u001b[31m19.0 MB/s\u001b[0m eta \u001b[36m0:00:00\u001b[0m\n",
            "\u001b[?25hRequirement already satisfied: jsonschema>=3.2.0 in /usr/local/lib/python3.10/dist-packages (from super-gradients) (4.19.1)\n",
            "Collecting Deprecated>=1.2.11 (from super-gradients)\n",
            "  Downloading Deprecated-1.2.14-py2.py3-none-any.whl (9.6 kB)\n",
            "Requirement already satisfied: opencv-python>=4.5.1 in /usr/local/lib/python3.10/dist-packages (from super-gradients) (4.8.0.76)\n",
            "Requirement already satisfied: scipy>=1.6.1 in /usr/local/lib/python3.10/dist-packages (from super-gradients) (1.11.3)\n",
            "Requirement already satisfied: matplotlib>=3.3.4 in /usr/local/lib/python3.10/dist-packages (from super-gradients) (3.7.1)\n",
            "Requirement already satisfied: psutil>=5.8.0 in /usr/local/lib/python3.10/dist-packages (from super-gradients) (5.9.5)\n",
            "Requirement already satisfied: tensorboard>=2.4.1 in /usr/local/lib/python3.10/dist-packages (from super-gradients) (2.13.0)\n",
            "Requirement already satisfied: setuptools>=21.0.0 in /usr/local/lib/python3.10/dist-packages (from super-gradients) (67.7.2)\n",
            "Collecting coverage~=5.3.1 (from super-gradients)\n",
            "  Downloading coverage-5.3.1.tar.gz (684 kB)\n",
            "\u001b[2K     \u001b[90m━━━━━━━━━━━━━━━━━━━━━━━━━━━━━━━━━━━━━━━━\u001b[0m \u001b[32m684.5/684.5 kB\u001b[0m \u001b[31m61.9 MB/s\u001b[0m eta \u001b[36m0:00:00\u001b[0m\n",
            "\u001b[?25h  Preparing metadata (setup.py) ... \u001b[?25l\u001b[?25hdone\n",
            "Requirement already satisfied: torchvision>=0.10.0 in /usr/local/lib/python3.10/dist-packages (from super-gradients) (0.15.2+cu118)\n",
            "Collecting sphinx~=4.0.2 (from super-gradients)\n",
            "  Downloading Sphinx-4.0.3-py3-none-any.whl (2.9 MB)\n",
            "\u001b[2K     \u001b[90m━━━━━━━━━━━━━━━━━━━━━━━━━━━━━━━━━━━━━━━━\u001b[0m \u001b[32m2.9/2.9 MB\u001b[0m \u001b[31m95.6 MB/s\u001b[0m eta \u001b[36m0:00:00\u001b[0m\n",
            "\u001b[?25hCollecting sphinx-rtd-theme (from super-gradients)\n",
            "  Downloading sphinx_rtd_theme-1.3.0-py2.py3-none-any.whl (2.8 MB)\n",
            "\u001b[2K     \u001b[90m━━━━━━━━━━━━━━━━━━━━━━━━━━━━━━━━━━━━━━━━\u001b[0m \u001b[32m2.8/2.8 MB\u001b[0m \u001b[31m110.7 MB/s\u001b[0m eta \u001b[36m0:00:00\u001b[0m\n",
            "\u001b[?25hCollecting torchmetrics==0.8 (from super-gradients)\n",
            "  Downloading torchmetrics-0.8.0-py3-none-any.whl (408 kB)\n",
            "\u001b[2K     \u001b[90m━━━━━━━━━━━━━━━━━━━━━━━━━━━━━━━━━━━━━━━━\u001b[0m \u001b[32m408.6/408.6 kB\u001b[0m \u001b[31m38.5 MB/s\u001b[0m eta \u001b[36m0:00:00\u001b[0m\n",
            "\u001b[?25hCollecting hydra-core>=1.2.0 (from super-gradients)\n",
            "  Downloading hydra_core-1.3.2-py3-none-any.whl (154 kB)\n",
            "\u001b[2K     \u001b[90m━━━━━━━━━━━━━━━━━━━━━━━━━━━━━━━━━━━━━━━━\u001b[0m \u001b[32m154.5/154.5 kB\u001b[0m \u001b[31m21.6 MB/s\u001b[0m eta \u001b[36m0:00:00\u001b[0m\n",
            "\u001b[?25hCollecting omegaconf (from super-gradients)\n",
            "  Downloading omegaconf-2.3.0-py3-none-any.whl (79 kB)\n",
            "\u001b[2K     \u001b[90m━━━━━━━━━━━━━━━━━━━━━━━━━━━━━━━━━━━━━━━━\u001b[0m \u001b[32m79.5/79.5 kB\u001b[0m \u001b[31m11.5 MB/s\u001b[0m eta \u001b[36m0:00:00\u001b[0m\n",
            "\u001b[?25hCollecting onnxruntime==1.13.1 (from super-gradients)\n",
            "  Downloading onnxruntime-1.13.1-cp310-cp310-manylinux_2_27_x86_64.whl (4.5 MB)\n",
            "\u001b[2K     \u001b[90m━━━━━━━━━━━━━━━━━━━━━━━━━━━━━━━━━━━━━━━━\u001b[0m \u001b[32m4.5/4.5 MB\u001b[0m \u001b[31m114.1 MB/s\u001b[0m eta \u001b[36m0:00:00\u001b[0m\n",
            "\u001b[?25hCollecting onnx==1.13.0 (from super-gradients)\n",
            "  Downloading onnx-1.13.0-cp310-cp310-manylinux_2_17_x86_64.manylinux2014_x86_64.whl (13.5 MB)\n",
            "\u001b[2K     \u001b[90m━━━━━━━━━━━━━━━━━━━━━━━━━━━━━━━━━━━━━━━━\u001b[0m \u001b[32m13.5/13.5 MB\u001b[0m \u001b[31m93.1 MB/s\u001b[0m eta \u001b[36m0:00:00\u001b[0m\n",
            "\u001b[?25hRequirement already satisfied: pillow!=8.3,>=5.3.0 in /usr/local/lib/python3.10/dist-packages (from super-gradients) (9.4.0)\n",
            "Requirement already satisfied: pip-tools>=6.12.1 in /usr/local/lib/python3.10/dist-packages (from super-gradients) (6.13.0)\n",
            "Collecting pyparsing==2.4.5 (from super-gradients)\n",
            "  Downloading pyparsing-2.4.5-py2.py3-none-any.whl (67 kB)\n",
            "\u001b[2K     \u001b[90m━━━━━━━━━━━━━━━━━━━━━━━━━━━━━━━━━━━━━━━━\u001b[0m \u001b[32m68.0/68.0 kB\u001b[0m \u001b[31m9.1 MB/s\u001b[0m eta \u001b[36m0:00:00\u001b[0m\n",
            "\u001b[?25hCollecting einops==0.3.2 (from super-gradients)\n",
            "  Downloading einops-0.3.2-py3-none-any.whl (25 kB)\n",
            "Collecting pycocotools==2.0.6 (from super-gradients)\n",
            "  Downloading pycocotools-2.0.6.tar.gz (24 kB)\n",
            "  Installing build dependencies ... \u001b[?25l\u001b[?25hdone\n",
            "  Getting requirements to build wheel ... \u001b[?25l\u001b[?25hdone\n",
            "  Preparing metadata (pyproject.toml) ... \u001b[?25l\u001b[?25hdone\n",
            "Requirement already satisfied: protobuf==3.20.3 in /usr/local/lib/python3.10/dist-packages (from super-gradients) (3.20.3)\n",
            "Collecting treelib==1.6.1 (from super-gradients)\n",
            "  Downloading treelib-1.6.1.tar.gz (24 kB)\n",
            "  Preparing metadata (setup.py) ... \u001b[?25l\u001b[?25hdone\n",
            "Collecting termcolor==1.1.0 (from super-gradients)\n",
            "  Downloading termcolor-1.1.0.tar.gz (3.9 kB)\n",
            "  Preparing metadata (setup.py) ... \u001b[?25l\u001b[?25hdone\n",
            "Requirement already satisfied: packaging>=20.4 in /usr/local/lib/python3.10/dist-packages (from super-gradients) (23.2)\n",
            "Requirement already satisfied: wheel>=0.38.0 in /usr/local/lib/python3.10/dist-packages (from super-gradients) (0.41.2)\n",
            "Requirement already satisfied: pygments>=2.7.4 in /usr/local/lib/python3.10/dist-packages (from super-gradients) (2.16.1)\n",
            "Collecting stringcase>=1.2.0 (from super-gradients)\n",
            "  Downloading stringcase-1.2.0.tar.gz (3.0 kB)\n",
            "  Preparing metadata (setup.py) ... \u001b[?25l\u001b[?25hdone\n",
            "Collecting numpy<=1.23 (from super-gradients)\n",
            "  Downloading numpy-1.23.0-cp310-cp310-manylinux_2_17_x86_64.manylinux2014_x86_64.whl (17.0 MB)\n",
            "\u001b[2K     \u001b[90m━━━━━━━━━━━━━━━━━━━━━━━━━━━━━━━━━━━━━━━━\u001b[0m \u001b[32m17.0/17.0 MB\u001b[0m \u001b[31m47.7 MB/s\u001b[0m eta \u001b[36m0:00:00\u001b[0m\n",
            "\u001b[?25hCollecting rapidfuzz (from super-gradients)\n",
            "  Downloading rapidfuzz-3.4.0-cp310-cp310-manylinux_2_17_x86_64.manylinux2014_x86_64.whl (3.2 MB)\n",
            "\u001b[2K     \u001b[90m━━━━━━━━━━━━━━━━━━━━━━━━━━━━━━━━━━━━━━━━\u001b[0m \u001b[32m3.2/3.2 MB\u001b[0m \u001b[31m104.6 MB/s\u001b[0m eta \u001b[36m0:00:00\u001b[0m\n",
            "\u001b[?25hCollecting json-tricks==3.16.1 (from super-gradients)\n",
            "  Downloading json_tricks-3.16.1-py2.py3-none-any.whl (27 kB)\n",
            "Collecting onnx-simplifier<1.0,>=0.3.6 (from super-gradients)\n",
            "  Downloading onnx_simplifier-0.4.33-cp310-cp310-manylinux_2_17_x86_64.manylinux2014_x86_64.whl (2.2 MB)\n",
            "\u001b[2K     \u001b[90m━━━━━━━━━━━━━━━━━━━━━━━━━━━━━━━━━━━━━━━━\u001b[0m \u001b[32m2.2/2.2 MB\u001b[0m \u001b[31m100.0 MB/s\u001b[0m eta \u001b[36m0:00:00\u001b[0m\n",
            "\u001b[?25hCollecting data-gradients>=0.2.0 (from super-gradients)\n",
            "  Downloading data_gradients-0.2.1-py3-none-any.whl (454 kB)\n",
            "\u001b[2K     \u001b[90m━━━━━━━━━━━━━━━━━━━━━━━━━━━━━━━━━━━━━━━━\u001b[0m \u001b[32m454.9/454.9 kB\u001b[0m \u001b[31m42.9 MB/s\u001b[0m eta \u001b[36m0:00:00\u001b[0m\n",
            "\u001b[?25hRequirement already satisfied: typing-extensions>=3.6.2.1 in /usr/local/lib/python3.10/dist-packages (from onnx==1.13.0->super-gradients) (4.5.0)\n",
            "Collecting coloredlogs (from onnxruntime==1.13.1->super-gradients)\n",
            "  Downloading coloredlogs-15.0.1-py2.py3-none-any.whl (46 kB)\n",
            "\u001b[2K     \u001b[90m━━━━━━━━━━━━━━━━━━━━━━━━━━━━━━━━━━━━━━━━\u001b[0m \u001b[32m46.0/46.0 kB\u001b[0m \u001b[31m6.3 MB/s\u001b[0m eta \u001b[36m0:00:00\u001b[0m\n",
            "\u001b[?25hRequirement already satisfied: flatbuffers in /usr/local/lib/python3.10/dist-packages (from onnxruntime==1.13.1->super-gradients) (23.5.26)\n",
            "Requirement already satisfied: sympy in /usr/local/lib/python3.10/dist-packages (from onnxruntime==1.13.1->super-gradients) (1.12)\n",
            "Collecting pyDeprecate==0.3.* (from torchmetrics==0.8->super-gradients)\n",
            "  Downloading pyDeprecate-0.3.2-py3-none-any.whl (10 kB)\n",
            "Requirement already satisfied: future in /usr/local/lib/python3.10/dist-packages (from treelib==1.6.1->super-gradients) (0.18.3)\n",
            "Collecting botocore<1.32.0,>=1.31.66 (from boto3>=1.17.15->super-gradients)\n",
            "  Downloading botocore-1.31.66-py3-none-any.whl (11.3 MB)\n",
            "\u001b[2K     \u001b[90m━━━━━━━━━━━━━━━━━━━━━━━━━━━━━━━━━━━━━━━━\u001b[0m \u001b[32m11.3/11.3 MB\u001b[0m \u001b[31m103.9 MB/s\u001b[0m eta \u001b[36m0:00:00\u001b[0m\n",
            "\u001b[?25hCollecting jmespath<2.0.0,>=0.7.1 (from boto3>=1.17.15->super-gradients)\n",
            "  Downloading jmespath-1.0.1-py3-none-any.whl (20 kB)\n",
            "Collecting s3transfer<0.8.0,>=0.7.0 (from boto3>=1.17.15->super-gradients)\n",
            "  Downloading s3transfer-0.7.0-py3-none-any.whl (79 kB)\n",
            "\u001b[2K     \u001b[90m━━━━━━━━━━━━━━━━━━━━━━━━━━━━━━━━━━━━━━━━\u001b[0m \u001b[32m79.8/79.8 kB\u001b[0m \u001b[31m10.2 MB/s\u001b[0m eta \u001b[36m0:00:00\u001b[0m\n",
            "\u001b[?25hRequirement already satisfied: platformdirs>=2.5.2 in /usr/local/lib/python3.10/dist-packages (from data-gradients>=0.2.0->super-gradients) (3.11.0)\n",
            "Requirement already satisfied: seaborn in /usr/local/lib/python3.10/dist-packages (from data-gradients>=0.2.0->super-gradients) (0.12.2)\n",
            "Collecting xhtml2pdf (from data-gradients>=0.2.0->super-gradients)\n",
            "  Downloading xhtml2pdf-0.2.11.tar.gz (108 kB)\n",
            "\u001b[2K     \u001b[90m━━━━━━━━━━━━━━━━━━━━━━━━━━━━━━━━━━━━━━━━\u001b[0m \u001b[32m108.3/108.3 kB\u001b[0m \u001b[31m15.2 MB/s\u001b[0m eta \u001b[36m0:00:00\u001b[0m\n",
            "\u001b[?25h  Preparing metadata (setup.py) ... \u001b[?25l\u001b[?25hdone\n",
            "Requirement already satisfied: jinja2 in /usr/local/lib/python3.10/dist-packages (from data-gradients>=0.2.0->super-gradients) (3.1.2)\n",
            "Collecting imagededup (from data-gradients>=0.2.0->super-gradients)\n",
            "  Downloading imagededup-0.3.2-cp310-cp310-manylinux_2_17_x86_64.manylinux2014_x86_64.whl (176 kB)\n",
            "\u001b[2K     \u001b[90m━━━━━━━━━━━━━━━━━━━━━━━━━━━━━━━━━━━━━━━━\u001b[0m \u001b[32m176.0/176.0 kB\u001b[0m \u001b[31m23.1 MB/s\u001b[0m eta \u001b[36m0:00:00\u001b[0m\n",
            "\u001b[?25hRequirement already satisfied: wrapt<2,>=1.10 in /usr/local/lib/python3.10/dist-packages (from Deprecated>=1.2.11->super-gradients) (1.15.0)\n",
            "Collecting antlr4-python3-runtime==4.9.* (from hydra-core>=1.2.0->super-gradients)\n",
            "  Downloading antlr4-python3-runtime-4.9.3.tar.gz (117 kB)\n",
            "\u001b[2K     \u001b[90m━━━━━━━━━━━━━━━━━━━━━━━━━━━━━━━━━━━━━━━━\u001b[0m \u001b[32m117.0/117.0 kB\u001b[0m \u001b[31m17.2 MB/s\u001b[0m eta \u001b[36m0:00:00\u001b[0m\n",
            "\u001b[?25h  Preparing metadata (setup.py) ... \u001b[?25l\u001b[?25hdone\n",
            "Requirement already satisfied: attrs>=22.2.0 in /usr/local/lib/python3.10/dist-packages (from jsonschema>=3.2.0->super-gradients) (23.1.0)\n",
            "Requirement already satisfied: jsonschema-specifications>=2023.03.6 in /usr/local/lib/python3.10/dist-packages (from jsonschema>=3.2.0->super-gradients) (2023.7.1)\n",
            "Requirement already satisfied: referencing>=0.28.4 in /usr/local/lib/python3.10/dist-packages (from jsonschema>=3.2.0->super-gradients) (0.30.2)\n",
            "Requirement already satisfied: rpds-py>=0.7.1 in /usr/local/lib/python3.10/dist-packages (from jsonschema>=3.2.0->super-gradients) (0.10.6)\n",
            "Requirement already satisfied: contourpy>=1.0.1 in /usr/local/lib/python3.10/dist-packages (from matplotlib>=3.3.4->super-gradients) (1.1.1)\n",
            "Requirement already satisfied: cycler>=0.10 in /usr/local/lib/python3.10/dist-packages (from matplotlib>=3.3.4->super-gradients) (0.12.1)\n",
            "Requirement already satisfied: fonttools>=4.22.0 in /usr/local/lib/python3.10/dist-packages (from matplotlib>=3.3.4->super-gradients) (4.43.1)\n",
            "Requirement already satisfied: kiwisolver>=1.0.1 in /usr/local/lib/python3.10/dist-packages (from matplotlib>=3.3.4->super-gradients) (1.4.5)\n",
            "Requirement already satisfied: python-dateutil>=2.7 in /usr/local/lib/python3.10/dist-packages (from matplotlib>=3.3.4->super-gradients) (2.8.2)\n",
            "Requirement already satisfied: PyYAML>=5.1.0 in /usr/local/lib/python3.10/dist-packages (from omegaconf->super-gradients) (6.0.1)\n",
            "Requirement already satisfied: rich in /usr/local/lib/python3.10/dist-packages (from onnx-simplifier<1.0,>=0.3.6->super-gradients) (13.6.0)\n",
            "Requirement already satisfied: build in /usr/local/lib/python3.10/dist-packages (from pip-tools>=6.12.1->super-gradients) (1.0.3)\n",
            "Requirement already satisfied: click>=8 in /usr/local/lib/python3.10/dist-packages (from pip-tools>=6.12.1->super-gradients) (8.1.7)\n",
            "Requirement already satisfied: pip>=22.2 in /usr/local/lib/python3.10/dist-packages (from pip-tools>=6.12.1->super-gradients) (23.1.2)\n",
            "Requirement already satisfied: sphinxcontrib-applehelp in /usr/local/lib/python3.10/dist-packages (from sphinx~=4.0.2->super-gradients) (1.0.7)\n",
            "Requirement already satisfied: sphinxcontrib-devhelp in /usr/local/lib/python3.10/dist-packages (from sphinx~=4.0.2->super-gradients) (1.0.5)\n",
            "Requirement already satisfied: sphinxcontrib-jsmath in /usr/local/lib/python3.10/dist-packages (from sphinx~=4.0.2->super-gradients) (1.0.1)\n",
            "Requirement already satisfied: sphinxcontrib-htmlhelp in /usr/local/lib/python3.10/dist-packages (from sphinx~=4.0.2->super-gradients) (2.0.4)\n",
            "Requirement already satisfied: sphinxcontrib-serializinghtml in /usr/local/lib/python3.10/dist-packages (from sphinx~=4.0.2->super-gradients) (1.1.9)\n",
            "Requirement already satisfied: sphinxcontrib-qthelp in /usr/local/lib/python3.10/dist-packages (from sphinx~=4.0.2->super-gradients) (1.0.6)\n",
            "Collecting docutils<0.18,>=0.14 (from sphinx~=4.0.2->super-gradients)\n",
            "  Downloading docutils-0.17.1-py2.py3-none-any.whl (575 kB)\n",
            "\u001b[2K     \u001b[90m━━━━━━━━━━━━━━━━━━━━━━━━━━━━━━━━━━━━━━━━\u001b[0m \u001b[32m575.5/575.5 kB\u001b[0m \u001b[31m54.9 MB/s\u001b[0m eta \u001b[36m0:00:00\u001b[0m\n",
            "\u001b[?25hRequirement already satisfied: snowballstemmer>=1.1 in /usr/local/lib/python3.10/dist-packages (from sphinx~=4.0.2->super-gradients) (2.2.0)\n",
            "Requirement already satisfied: babel>=1.3 in /usr/local/lib/python3.10/dist-packages (from sphinx~=4.0.2->super-gradients) (2.13.0)\n",
            "Requirement already satisfied: alabaster<0.8,>=0.7 in /usr/local/lib/python3.10/dist-packages (from sphinx~=4.0.2->super-gradients) (0.7.13)\n",
            "Requirement already satisfied: imagesize in /usr/local/lib/python3.10/dist-packages (from sphinx~=4.0.2->super-gradients) (1.4.1)\n",
            "Requirement already satisfied: requests>=2.5.0 in /usr/local/lib/python3.10/dist-packages (from sphinx~=4.0.2->super-gradients) (2.31.0)\n",
            "Requirement already satisfied: absl-py>=0.4 in /usr/local/lib/python3.10/dist-packages (from tensorboard>=2.4.1->super-gradients) (1.4.0)\n",
            "Requirement already satisfied: grpcio>=1.48.2 in /usr/local/lib/python3.10/dist-packages (from tensorboard>=2.4.1->super-gradients) (1.59.0)\n",
            "Requirement already satisfied: google-auth<3,>=1.6.3 in /usr/local/lib/python3.10/dist-packages (from tensorboard>=2.4.1->super-gradients) (2.17.3)\n",
            "Requirement already satisfied: google-auth-oauthlib<1.1,>=0.5 in /usr/local/lib/python3.10/dist-packages (from tensorboard>=2.4.1->super-gradients) (1.0.0)\n",
            "Requirement already satisfied: markdown>=2.6.8 in /usr/local/lib/python3.10/dist-packages (from tensorboard>=2.4.1->super-gradients) (3.5)\n",
            "Requirement already satisfied: tensorboard-data-server<0.8.0,>=0.7.0 in /usr/local/lib/python3.10/dist-packages (from tensorboard>=2.4.1->super-gradients) (0.7.1)\n",
            "Requirement already satisfied: werkzeug>=1.0.1 in /usr/local/lib/python3.10/dist-packages (from tensorboard>=2.4.1->super-gradients) (3.0.0)\n",
            "Requirement already satisfied: filelock in /usr/local/lib/python3.10/dist-packages (from torch>=1.9.0->super-gradients) (3.12.4)\n",
            "Requirement already satisfied: networkx in /usr/local/lib/python3.10/dist-packages (from torch>=1.9.0->super-gradients) (3.1)\n",
            "Requirement already satisfied: triton==2.0.0 in /usr/local/lib/python3.10/dist-packages (from torch>=1.9.0->super-gradients) (2.0.0)\n",
            "Requirement already satisfied: cmake in /usr/local/lib/python3.10/dist-packages (from triton==2.0.0->torch>=1.9.0->super-gradients) (3.27.7)\n",
            "Requirement already satisfied: lit in /usr/local/lib/python3.10/dist-packages (from triton==2.0.0->torch>=1.9.0->super-gradients) (17.0.2)\n",
            "Collecting sphinxcontrib-jquery<5,>=4 (from sphinx-rtd-theme->super-gradients)\n",
            "  Downloading sphinxcontrib_jquery-4.1-py2.py3-none-any.whl (121 kB)\n",
            "\u001b[2K     \u001b[90m━━━━━━━━━━━━━━━━━━━━━━━━━━━━━━━━━━━━━━━━\u001b[0m \u001b[32m121.1/121.1 kB\u001b[0m \u001b[31m19.0 MB/s\u001b[0m eta \u001b[36m0:00:00\u001b[0m\n",
            "\u001b[?25hRequirement already satisfied: urllib3<2.1,>=1.25.4 in /usr/local/lib/python3.10/dist-packages (from botocore<1.32.0,>=1.31.66->boto3>=1.17.15->super-gradients) (2.0.6)\n",
            "Requirement already satisfied: cachetools<6.0,>=2.0.0 in /usr/local/lib/python3.10/dist-packages (from google-auth<3,>=1.6.3->tensorboard>=2.4.1->super-gradients) (5.3.1)\n",
            "Requirement already satisfied: pyasn1-modules>=0.2.1 in /usr/local/lib/python3.10/dist-packages (from google-auth<3,>=1.6.3->tensorboard>=2.4.1->super-gradients) (0.3.0)\n",
            "Requirement already satisfied: six>=1.9.0 in /usr/local/lib/python3.10/dist-packages (from google-auth<3,>=1.6.3->tensorboard>=2.4.1->super-gradients) (1.16.0)\n",
            "Requirement already satisfied: rsa<5,>=3.1.4 in /usr/local/lib/python3.10/dist-packages (from google-auth<3,>=1.6.3->tensorboard>=2.4.1->super-gradients) (4.9)\n",
            "Requirement already satisfied: requests-oauthlib>=0.7.0 in /usr/local/lib/python3.10/dist-packages (from google-auth-oauthlib<1.1,>=0.5->tensorboard>=2.4.1->super-gradients) (1.3.1)\n",
            "Requirement already satisfied: MarkupSafe>=2.0 in /usr/local/lib/python3.10/dist-packages (from jinja2->data-gradients>=0.2.0->super-gradients) (2.1.3)\n",
            "Requirement already satisfied: charset-normalizer<4,>=2 in /usr/local/lib/python3.10/dist-packages (from requests>=2.5.0->sphinx~=4.0.2->super-gradients) (3.3.0)\n",
            "Requirement already satisfied: idna<4,>=2.5 in /usr/local/lib/python3.10/dist-packages (from requests>=2.5.0->sphinx~=4.0.2->super-gradients) (3.4)\n",
            "Requirement already satisfied: certifi>=2017.4.17 in /usr/local/lib/python3.10/dist-packages (from requests>=2.5.0->sphinx~=4.0.2->super-gradients) (2023.7.22)\n",
            "Requirement already satisfied: pyproject_hooks in /usr/local/lib/python3.10/dist-packages (from build->pip-tools>=6.12.1->super-gradients) (1.0.0)\n",
            "Requirement already satisfied: tomli>=1.1.0 in /usr/local/lib/python3.10/dist-packages (from build->pip-tools>=6.12.1->super-gradients) (2.0.1)\n",
            "Collecting humanfriendly>=9.1 (from coloredlogs->onnxruntime==1.13.1->super-gradients)\n",
            "  Downloading humanfriendly-10.0-py2.py3-none-any.whl (86 kB)\n",
            "\u001b[2K     \u001b[90m━━━━━━━━━━━━━━━━━━━━━━━━━━━━━━━━━━━━━━━━\u001b[0m \u001b[32m86.8/86.8 kB\u001b[0m \u001b[31m12.8 MB/s\u001b[0m eta \u001b[36m0:00:00\u001b[0m\n",
            "\u001b[?25hRequirement already satisfied: scikit-learn in /usr/local/lib/python3.10/dist-packages (from imagededup->data-gradients>=0.2.0->super-gradients) (1.2.2)\n",
            "Requirement already satisfied: PyWavelets in /usr/local/lib/python3.10/dist-packages (from imagededup->data-gradients>=0.2.0->super-gradients) (1.4.1)\n",
            "Requirement already satisfied: markdown-it-py>=2.2.0 in /usr/local/lib/python3.10/dist-packages (from rich->onnx-simplifier<1.0,>=0.3.6->super-gradients) (3.0.0)\n",
            "Requirement already satisfied: pandas>=0.25 in /usr/local/lib/python3.10/dist-packages (from seaborn->data-gradients>=0.2.0->super-gradients) (1.5.3)\n",
            "INFO: pip is looking at multiple versions of sphinxcontrib-applehelp to determine which version is compatible with other requirements. This could take a while.\n",
            "Collecting sphinxcontrib-applehelp (from sphinx~=4.0.2->super-gradients)\n",
            "  Downloading sphinxcontrib_applehelp-1.0.6-py3-none-any.whl (120 kB)\n",
            "\u001b[2K     \u001b[90m━━━━━━━━━━━━━━━━━━━━━━━━━━━━━━━━━━━━━━━━\u001b[0m \u001b[32m120.0/120.0 kB\u001b[0m \u001b[31m16.9 MB/s\u001b[0m eta \u001b[36m0:00:00\u001b[0m\n",
            "\u001b[?25h  Downloading sphinxcontrib_applehelp-1.0.5-py3-none-any.whl (120 kB)\n",
            "\u001b[2K     \u001b[90m━━━━━━━━━━━━━━━━━━━━━━━━━━━━━━━━━━━━━━━━\u001b[0m \u001b[32m120.0/120.0 kB\u001b[0m \u001b[31m16.1 MB/s\u001b[0m eta \u001b[36m0:00:00\u001b[0m\n",
            "\u001b[?25h  Downloading sphinxcontrib_applehelp-1.0.4-py3-none-any.whl (120 kB)\n",
            "\u001b[2K     \u001b[90m━━━━━━━━━━━━━━━━━━━━━━━━━━━━━━━━━━━━━━━━\u001b[0m \u001b[32m120.6/120.6 kB\u001b[0m \u001b[31m17.1 MB/s\u001b[0m eta \u001b[36m0:00:00\u001b[0m\n",
            "\u001b[?25hINFO: pip is looking at multiple versions of sphinxcontrib-devhelp to determine which version is compatible with other requirements. This could take a while.\n",
            "Collecting sphinxcontrib-devhelp (from sphinx~=4.0.2->super-gradients)\n",
            "  Downloading sphinxcontrib_devhelp-1.0.4-py3-none-any.whl (83 kB)\n",
            "\u001b[2K     \u001b[90m━━━━━━━━━━━━━━━━━━━━━━━━━━━━━━━━━━━━━━━━\u001b[0m \u001b[32m83.5/83.5 kB\u001b[0m \u001b[31m12.3 MB/s\u001b[0m eta \u001b[36m0:00:00\u001b[0m\n",
            "\u001b[?25h  Downloading sphinxcontrib_devhelp-1.0.3-py3-none-any.whl (83 kB)\n",
            "\u001b[2K     \u001b[90m━━━━━━━━━━━━━━━━━━━━━━━━━━━━━━━━━━━━━━━━\u001b[0m \u001b[32m83.5/83.5 kB\u001b[0m \u001b[31m12.5 MB/s\u001b[0m eta \u001b[36m0:00:00\u001b[0m\n",
            "\u001b[?25h  Downloading sphinxcontrib_devhelp-1.0.2-py2.py3-none-any.whl (84 kB)\n",
            "\u001b[2K     \u001b[90m━━━━━━━━━━━━━━━━━━━━━━━━━━━━━━━━━━━━━━━━\u001b[0m \u001b[32m84.7/84.7 kB\u001b[0m \u001b[31m13.2 MB/s\u001b[0m eta \u001b[36m0:00:00\u001b[0m\n",
            "\u001b[?25hINFO: pip is looking at multiple versions of sphinxcontrib-htmlhelp to determine which version is compatible with other requirements. This could take a while.\n",
            "Collecting sphinxcontrib-htmlhelp (from sphinx~=4.0.2->super-gradients)\n",
            "  Downloading sphinxcontrib_htmlhelp-2.0.3-py3-none-any.whl (99 kB)\n",
            "\u001b[2K     \u001b[90m━━━━━━━━━━━━━━━━━━━━━━━━━━━━━━━━━━━━━━━━\u001b[0m \u001b[32m99.2/99.2 kB\u001b[0m \u001b[31m13.8 MB/s\u001b[0m eta \u001b[36m0:00:00\u001b[0m\n",
            "\u001b[?25h  Downloading sphinxcontrib_htmlhelp-2.0.2-py3-none-any.whl (99 kB)\n",
            "\u001b[2K     \u001b[90m━━━━━━━━━━━━━━━━━━━━━━━━━━━━━━━━━━━━━━━━\u001b[0m \u001b[32m99.2/99.2 kB\u001b[0m \u001b[31m13.1 MB/s\u001b[0m eta \u001b[36m0:00:00\u001b[0m\n",
            "\u001b[?25h  Downloading sphinxcontrib_htmlhelp-2.0.1-py3-none-any.whl (99 kB)\n",
            "\u001b[2K     \u001b[90m━━━━━━━━━━━━━━━━━━━━━━━━━━━━━━━━━━━━━━━━\u001b[0m \u001b[32m99.8/99.8 kB\u001b[0m \u001b[31m16.1 MB/s\u001b[0m eta \u001b[36m0:00:00\u001b[0m\n",
            "\u001b[?25hINFO: pip is looking at multiple versions of sphinxcontrib-qthelp to determine which version is compatible with other requirements. This could take a while.\n",
            "Collecting sphinxcontrib-qthelp (from sphinx~=4.0.2->super-gradients)\n",
            "  Downloading sphinxcontrib_qthelp-1.0.5-py3-none-any.whl (89 kB)\n",
            "\u001b[2K     \u001b[90m━━━━━━━━━━━━━━━━━━━━━━━━━━━━━━━━━━━━━━━━\u001b[0m \u001b[32m89.4/89.4 kB\u001b[0m \u001b[31m13.3 MB/s\u001b[0m eta \u001b[36m0:00:00\u001b[0m\n",
            "\u001b[?25h  Downloading sphinxcontrib_qthelp-1.0.4-py3-none-any.whl (89 kB)\n",
            "\u001b[2K     \u001b[90m━━━━━━━━━━━━━━━━━━━━━━━━━━━━━━━━━━━━━━━━\u001b[0m \u001b[32m89.4/89.4 kB\u001b[0m \u001b[31m13.0 MB/s\u001b[0m eta \u001b[36m0:00:00\u001b[0m\n",
            "\u001b[?25h  Downloading sphinxcontrib_qthelp-1.0.3-py2.py3-none-any.whl (90 kB)\n",
            "\u001b[2K     \u001b[90m━━━━━━━━━━━━━━━━━━━━━━━━━━━━━━━━━━━━━━━━\u001b[0m \u001b[32m90.6/90.6 kB\u001b[0m \u001b[31m14.3 MB/s\u001b[0m eta \u001b[36m0:00:00\u001b[0m\n",
            "\u001b[?25hINFO: pip is looking at multiple versions of sphinxcontrib-serializinghtml to determine which version is compatible with other requirements. This could take a while.\n",
            "Collecting sphinxcontrib-serializinghtml (from sphinx~=4.0.2->super-gradients)\n",
            "  Downloading sphinxcontrib_serializinghtml-1.1.8-py3-none-any.whl (92 kB)\n",
            "\u001b[2K     \u001b[90m━━━━━━━━━━━━━━━━━━━━━━━━━━━━━━━━━━━━━━━━\u001b[0m \u001b[32m92.6/92.6 kB\u001b[0m \u001b[31m13.7 MB/s\u001b[0m eta \u001b[36m0:00:00\u001b[0m\n",
            "\u001b[?25h  Downloading sphinxcontrib_serializinghtml-1.1.7-py3-none-any.whl (92 kB)\n",
            "\u001b[2K     \u001b[90m━━━━━━━━━━━━━━━━━━━━━━━━━━━━━━━━━━━━━━━━\u001b[0m \u001b[32m92.6/92.6 kB\u001b[0m \u001b[31m12.5 MB/s\u001b[0m eta \u001b[36m0:00:00\u001b[0m\n",
            "\u001b[?25h  Downloading sphinxcontrib_serializinghtml-1.1.6-py3-none-any.whl (92 kB)\n",
            "\u001b[2K     \u001b[90m━━━━━━━━━━━━━━━━━━━━━━━━━━━━━━━━━━━━━━━━\u001b[0m \u001b[32m92.6/92.6 kB\u001b[0m \u001b[31m13.2 MB/s\u001b[0m eta \u001b[36m0:00:00\u001b[0m\n",
            "\u001b[?25h  Downloading sphinxcontrib_serializinghtml-1.1.5-py2.py3-none-any.whl (94 kB)\n",
            "\u001b[2K     \u001b[90m━━━━━━━━━━━━━━━━━━━━━━━━━━━━━━━━━━━━━━━━\u001b[0m \u001b[32m94.0/94.0 kB\u001b[0m \u001b[31m14.7 MB/s\u001b[0m eta \u001b[36m0:00:00\u001b[0m\n",
            "\u001b[?25hRequirement already satisfied: mpmath>=0.19 in /usr/local/lib/python3.10/dist-packages (from sympy->onnxruntime==1.13.1->super-gradients) (1.3.0)\n",
            "Collecting arabic-reshaper>=3.0.0 (from xhtml2pdf->data-gradients>=0.2.0->super-gradients)\n",
            "  Downloading arabic_reshaper-3.0.0-py3-none-any.whl (20 kB)\n",
            "Requirement already satisfied: html5lib>=1.0.1 in /usr/local/lib/python3.10/dist-packages (from xhtml2pdf->data-gradients>=0.2.0->super-gradients) (1.1)\n",
            "Collecting pyHanko>=0.12.1 (from xhtml2pdf->data-gradients>=0.2.0->super-gradients)\n",
            "  Downloading pyHanko-0.20.1-py3-none-any.whl (407 kB)\n",
            "\u001b[2K     \u001b[90m━━━━━━━━━━━━━━━━━━━━━━━━━━━━━━━━━━━━━━━━\u001b[0m \u001b[32m407.7/407.7 kB\u001b[0m \u001b[31m46.9 MB/s\u001b[0m eta \u001b[36m0:00:00\u001b[0m\n",
            "\u001b[?25hCollecting pyhanko-certvalidator>=0.19.5 (from xhtml2pdf->data-gradients>=0.2.0->super-gradients)\n",
            "  Downloading pyhanko_certvalidator-0.25.0-py3-none-any.whl (107 kB)\n",
            "\u001b[2K     \u001b[90m━━━━━━━━━━━━━━━━━━━━━━━━━━━━━━━━━━━━━━━━\u001b[0m \u001b[32m107.7/107.7 kB\u001b[0m \u001b[31m15.1 MB/s\u001b[0m eta \u001b[36m0:00:00\u001b[0m\n",
            "\u001b[?25hCollecting pypdf>=3.1.0 (from xhtml2pdf->data-gradients>=0.2.0->super-gradients)\n",
            "  Downloading pypdf-3.16.4-py3-none-any.whl (276 kB)\n",
            "\u001b[2K     \u001b[90m━━━━━━━━━━━━━━━━━━━━━━━━━━━━━━━━━━━━━━━━\u001b[0m \u001b[32m276.6/276.6 kB\u001b[0m \u001b[31m32.0 MB/s\u001b[0m eta \u001b[36m0:00:00\u001b[0m\n",
            "\u001b[?25hCollecting python-bidi>=0.4.2 (from xhtml2pdf->data-gradients>=0.2.0->super-gradients)\n",
            "  Downloading python_bidi-0.4.2-py2.py3-none-any.whl (30 kB)\n",
            "Collecting reportlab<4,>=3.5.53 (from xhtml2pdf->data-gradients>=0.2.0->super-gradients)\n",
            "  Downloading reportlab-3.6.13-cp310-cp310-manylinux_2_17_x86_64.manylinux2014_x86_64.whl (2.8 MB)\n",
            "\u001b[2K     \u001b[90m━━━━━━━━━━━━━━━━━━━━━━━━━━━━━━━━━━━━━━━━\u001b[0m \u001b[32m2.8/2.8 MB\u001b[0m \u001b[31m96.0 MB/s\u001b[0m eta \u001b[36m0:00:00\u001b[0m\n",
            "\u001b[?25hCollecting svglib>=1.2.1 (from xhtml2pdf->data-gradients>=0.2.0->super-gradients)\n",
            "  Downloading svglib-1.5.1.tar.gz (913 kB)\n",
            "\u001b[2K     \u001b[90m━━━━━━━━━━━━━━━━━━━━━━━━━━━━━━━━━━━━━━━━\u001b[0m \u001b[32m913.9/913.9 kB\u001b[0m \u001b[31m72.3 MB/s\u001b[0m eta \u001b[36m0:00:00\u001b[0m\n",
            "\u001b[?25h  Preparing metadata (setup.py) ... \u001b[?25l\u001b[?25hdone\n",
            "Requirement already satisfied: webencodings in /usr/local/lib/python3.10/dist-packages (from html5lib>=1.0.1->xhtml2pdf->data-gradients>=0.2.0->super-gradients) (0.5.1)\n",
            "Requirement already satisfied: mdurl~=0.1 in /usr/local/lib/python3.10/dist-packages (from markdown-it-py>=2.2.0->rich->onnx-simplifier<1.0,>=0.3.6->super-gradients) (0.1.2)\n",
            "Requirement already satisfied: pytz>=2020.1 in /usr/local/lib/python3.10/dist-packages (from pandas>=0.25->seaborn->data-gradients>=0.2.0->super-gradients) (2023.3.post1)\n",
            "Requirement already satisfied: pyasn1<0.6.0,>=0.4.6 in /usr/local/lib/python3.10/dist-packages (from pyasn1-modules>=0.2.1->google-auth<3,>=1.6.3->tensorboard>=2.4.1->super-gradients) (0.5.0)\n",
            "Collecting asn1crypto>=1.5.1 (from pyHanko>=0.12.1->xhtml2pdf->data-gradients>=0.2.0->super-gradients)\n",
            "  Downloading asn1crypto-1.5.1-py2.py3-none-any.whl (105 kB)\n",
            "\u001b[2K     \u001b[90m━━━━━━━━━━━━━━━━━━━━━━━━━━━━━━━━━━━━━━━━\u001b[0m \u001b[32m105.0/105.0 kB\u001b[0m \u001b[31m14.7 MB/s\u001b[0m eta \u001b[36m0:00:00\u001b[0m\n",
            "\u001b[?25hCollecting qrcode>=6.1 (from pyHanko>=0.12.1->xhtml2pdf->data-gradients>=0.2.0->super-gradients)\n",
            "  Downloading qrcode-7.4.2-py3-none-any.whl (46 kB)\n",
            "\u001b[2K     \u001b[90m━━━━━━━━━━━━━━━━━━━━━━━━━━━━━━━━━━━━━━━━\u001b[0m \u001b[32m46.2/46.2 kB\u001b[0m \u001b[31m6.7 MB/s\u001b[0m eta \u001b[36m0:00:00\u001b[0m\n",
            "\u001b[?25hRequirement already satisfied: tzlocal>=4.3 in /usr/local/lib/python3.10/dist-packages (from pyHanko>=0.12.1->xhtml2pdf->data-gradients>=0.2.0->super-gradients) (5.1)\n",
            "Collecting pyhanko-certvalidator>=0.19.5 (from xhtml2pdf->data-gradients>=0.2.0->super-gradients)\n",
            "  Downloading pyhanko_certvalidator-0.24.1-py3-none-any.whl (106 kB)\n",
            "\u001b[2K     \u001b[90m━━━━━━━━━━━━━━━━━━━━━━━━━━━━━━━━━━━━━━━━\u001b[0m \u001b[32m106.8/106.8 kB\u001b[0m \u001b[31m14.8 MB/s\u001b[0m eta \u001b[36m0:00:00\u001b[0m\n",
            "\u001b[?25hRequirement already satisfied: cryptography>=3.3.1 in /usr/local/lib/python3.10/dist-packages (from pyHanko>=0.12.1->xhtml2pdf->data-gradients>=0.2.0->super-gradients) (41.0.4)\n",
            "Collecting oscrypto>=1.1.0 (from pyhanko-certvalidator>=0.19.5->xhtml2pdf->data-gradients>=0.2.0->super-gradients)\n",
            "  Downloading oscrypto-1.3.0-py2.py3-none-any.whl (194 kB)\n",
            "\u001b[2K     \u001b[90m━━━━━━━━━━━━━━━━━━━━━━━━━━━━━━━━━━━━━━━━\u001b[0m \u001b[32m194.6/194.6 kB\u001b[0m \u001b[31m24.3 MB/s\u001b[0m eta \u001b[36m0:00:00\u001b[0m\n",
            "\u001b[?25hCollecting uritools>=3.0.1 (from pyhanko-certvalidator>=0.19.5->xhtml2pdf->data-gradients>=0.2.0->super-gradients)\n",
            "  Downloading uritools-4.0.2-py3-none-any.whl (10 kB)\n",
            "Requirement already satisfied: oauthlib>=3.0.0 in /usr/local/lib/python3.10/dist-packages (from requests-oauthlib>=0.7.0->google-auth-oauthlib<1.1,>=0.5->tensorboard>=2.4.1->super-gradients) (3.2.2)\n",
            "Requirement already satisfied: lxml in /usr/local/lib/python3.10/dist-packages (from svglib>=1.2.1->xhtml2pdf->data-gradients>=0.2.0->super-gradients) (4.9.3)\n",
            "Requirement already satisfied: tinycss2>=0.6.0 in /usr/local/lib/python3.10/dist-packages (from svglib>=1.2.1->xhtml2pdf->data-gradients>=0.2.0->super-gradients) (1.2.1)\n",
            "Collecting cssselect2>=0.2.0 (from svglib>=1.2.1->xhtml2pdf->data-gradients>=0.2.0->super-gradients)\n",
            "  Downloading cssselect2-0.7.0-py3-none-any.whl (15 kB)\n",
            "Requirement already satisfied: joblib>=1.1.1 in /usr/local/lib/python3.10/dist-packages (from scikit-learn->imagededup->data-gradients>=0.2.0->super-gradients) (1.3.2)\n",
            "Requirement already satisfied: threadpoolctl>=2.0.0 in /usr/local/lib/python3.10/dist-packages (from scikit-learn->imagededup->data-gradients>=0.2.0->super-gradients) (3.2.0)\n",
            "Requirement already satisfied: cffi>=1.12 in /usr/local/lib/python3.10/dist-packages (from cryptography>=3.3.1->pyHanko>=0.12.1->xhtml2pdf->data-gradients>=0.2.0->super-gradients) (1.16.0)\n",
            "Collecting pypng (from qrcode>=6.1->pyHanko>=0.12.1->xhtml2pdf->data-gradients>=0.2.0->super-gradients)\n",
            "  Downloading pypng-0.20220715.0-py3-none-any.whl (58 kB)\n",
            "\u001b[2K     \u001b[90m━━━━━━━━━━━━━━━━━━━━━━━━━━━━━━━━━━━━━━━━\u001b[0m \u001b[32m58.1/58.1 kB\u001b[0m \u001b[31m8.7 MB/s\u001b[0m eta \u001b[36m0:00:00\u001b[0m\n",
            "\u001b[?25hRequirement already satisfied: pycparser in /usr/local/lib/python3.10/dist-packages (from cffi>=1.12->cryptography>=3.3.1->pyHanko>=0.12.1->xhtml2pdf->data-gradients>=0.2.0->super-gradients) (2.21)\n",
            "Building wheels for collected packages: pycocotools, termcolor, treelib, coverage, antlr4-python3-runtime, stringcase, xhtml2pdf, svglib\n",
            "  Building wheel for pycocotools (pyproject.toml) ... \u001b[?25l\u001b[?25hdone\n",
            "  Created wheel for pycocotools: filename=pycocotools-2.0.6-cp310-cp310-linux_x86_64.whl size=376861 sha256=710258185f904649c0e6ec750ef165ae4feb0eae0d4538bd4a646fa092b1bf90\n",
            "  Stored in directory: /root/.cache/pip/wheels/58/e6/f9/f87c8f8be098b51b616871315318329cae12cdb618f4caac93\n",
            "  Building wheel for termcolor (setup.py) ... \u001b[?25l\u001b[?25hdone\n",
            "  Created wheel for termcolor: filename=termcolor-1.1.0-py3-none-any.whl size=4832 sha256=03bbb5719ff9ea0cbdbc1a3e6feeb1a994181020baeae4855d4d2a9bdd9ecefe\n",
            "  Stored in directory: /root/.cache/pip/wheels/a1/49/46/1b13a65d8da11238af9616b00fdde6d45b0f95d9291bac8452\n",
            "  Building wheel for treelib (setup.py) ... \u001b[?25l\u001b[?25hdone\n",
            "  Created wheel for treelib: filename=treelib-1.6.1-py3-none-any.whl size=18368 sha256=3cd5dddf8d7e82f9f9f85f3cbc69a9d549143d4f91d7fd0a57036c765ffb6db7\n",
            "  Stored in directory: /root/.cache/pip/wheels/63/72/8b/76569b82bf280a03c4e294c3b29ee2398217186369c427ed4b\n",
            "  Building wheel for coverage (setup.py) ... \u001b[?25l\u001b[?25hdone\n",
            "  Created wheel for coverage: filename=coverage-5.3.1-cp310-cp310-linux_x86_64.whl size=235257 sha256=81466a7494754b6b4f7cb8ed5a0ebe78d3bd1567985aafb1d910696aab8ac2c3\n",
            "  Stored in directory: /root/.cache/pip/wheels/e2/70/10/313be697f460d6024cfa94b7f0e22ffc1c53aab718fb4f42af\n",
            "  Building wheel for antlr4-python3-runtime (setup.py) ... \u001b[?25l\u001b[?25hdone\n",
            "  Created wheel for antlr4-python3-runtime: filename=antlr4_python3_runtime-4.9.3-py3-none-any.whl size=144554 sha256=c8073031c0f02661d9dd4521634db11e6c352ac128c6855f8e57fa78ec86e4af\n",
            "  Stored in directory: /root/.cache/pip/wheels/12/93/dd/1f6a127edc45659556564c5730f6d4e300888f4bca2d4c5a88\n",
            "  Building wheel for stringcase (setup.py) ... \u001b[?25l\u001b[?25hdone\n",
            "  Created wheel for stringcase: filename=stringcase-1.2.0-py3-none-any.whl size=3568 sha256=6d46efc0c818e6562fe5ad9aa4d9dc6764c8e7d2c9f7b5eaa72c1e29923d1a26\n",
            "  Stored in directory: /root/.cache/pip/wheels/31/ba/22/1a2d952a9ce8aa86e42fda41e2c87fdaf20e238c88bf8df013\n",
            "  Building wheel for xhtml2pdf (setup.py) ... \u001b[?25l\u001b[?25hdone\n",
            "  Created wheel for xhtml2pdf: filename=xhtml2pdf-0.2.11-py3-none-any.whl size=262644 sha256=886c0925e10a0478aa94ccba1aa2c43d6c1227bdb0d671e98ad73d0c92cc6b68\n",
            "  Stored in directory: /root/.cache/pip/wheels/72/77/fb/e473c11c4e30a7680bf5b1b7f1d07ef04932184a2f39118e8d\n",
            "  Building wheel for svglib (setup.py) ... \u001b[?25l\u001b[?25hdone\n",
            "  Created wheel for svglib: filename=svglib-1.5.1-py3-none-any.whl size=30904 sha256=d6ceb8ae8b2b741c8b37e5fab16d493cb022745bb3663b145227b157f534087d\n",
            "  Stored in directory: /root/.cache/pip/wheels/56/9f/90/f37f4b9dbf82987a24ae14f15586e96715cb669a4710b3b85d\n",
            "Successfully built pycocotools termcolor treelib coverage antlr4-python3-runtime stringcase xhtml2pdf svglib\n",
            "Installing collected packages: termcolor, stringcase, pypng, json-tricks, einops, asn1crypto, arabic-reshaper, antlr4-python3-runtime, uritools, treelib, sphinxcontrib-serializinghtml, sphinxcontrib-qthelp, sphinxcontrib-htmlhelp, sphinxcontrib-devhelp, sphinxcontrib-applehelp, reportlab, rapidfuzz, qrcode, python-bidi, pypdf, pyparsing, pyDeprecate, oscrypto, omegaconf, numpy, jmespath, humanfriendly, docutils, Deprecated, coverage, sphinx, onnx, hydra-core, cssselect2, coloredlogs, botocore, svglib, sphinxcontrib-jquery, s3transfer, pyhanko-certvalidator, onnxruntime, onnx-simplifier, sphinx-rtd-theme, pyHanko, pycocotools, boto3, xhtml2pdf, imagededup, torchmetrics, data-gradients, super-gradients\n",
            "  Attempting uninstall: termcolor\n",
            "    Found existing installation: termcolor 2.3.0\n",
            "    Uninstalling termcolor-2.3.0:\n",
            "      Successfully uninstalled termcolor-2.3.0\n",
            "  Attempting uninstall: sphinxcontrib-serializinghtml\n",
            "    Found existing installation: sphinxcontrib-serializinghtml 1.1.9\n",
            "    Uninstalling sphinxcontrib-serializinghtml-1.1.9:\n",
            "      Successfully uninstalled sphinxcontrib-serializinghtml-1.1.9\n",
            "  Attempting uninstall: sphinxcontrib-qthelp\n",
            "    Found existing installation: sphinxcontrib-qthelp 1.0.6\n",
            "    Uninstalling sphinxcontrib-qthelp-1.0.6:\n",
            "      Successfully uninstalled sphinxcontrib-qthelp-1.0.6\n",
            "  Attempting uninstall: sphinxcontrib-htmlhelp\n",
            "    Found existing installation: sphinxcontrib-htmlhelp 2.0.4\n",
            "    Uninstalling sphinxcontrib-htmlhelp-2.0.4:\n",
            "      Successfully uninstalled sphinxcontrib-htmlhelp-2.0.4\n",
            "  Attempting uninstall: sphinxcontrib-devhelp\n",
            "    Found existing installation: sphinxcontrib-devhelp 1.0.5\n",
            "    Uninstalling sphinxcontrib-devhelp-1.0.5:\n",
            "      Successfully uninstalled sphinxcontrib-devhelp-1.0.5\n",
            "  Attempting uninstall: sphinxcontrib-applehelp\n",
            "    Found existing installation: sphinxcontrib-applehelp 1.0.7\n",
            "    Uninstalling sphinxcontrib-applehelp-1.0.7:\n",
            "      Successfully uninstalled sphinxcontrib-applehelp-1.0.7\n",
            "  Attempting uninstall: pyparsing\n",
            "    Found existing installation: pyparsing 3.1.1\n",
            "    Uninstalling pyparsing-3.1.1:\n",
            "      Successfully uninstalled pyparsing-3.1.1\n",
            "  Attempting uninstall: numpy\n",
            "    Found existing installation: numpy 1.23.5\n",
            "    Uninstalling numpy-1.23.5:\n",
            "      Successfully uninstalled numpy-1.23.5\n",
            "  Attempting uninstall: docutils\n",
            "    Found existing installation: docutils 0.18.1\n",
            "    Uninstalling docutils-0.18.1:\n",
            "      Successfully uninstalled docutils-0.18.1\n",
            "  Attempting uninstall: sphinx\n",
            "    Found existing installation: Sphinx 5.0.2\n",
            "    Uninstalling Sphinx-5.0.2:\n",
            "      Successfully uninstalled Sphinx-5.0.2\n",
            "  Attempting uninstall: pycocotools\n",
            "    Found existing installation: pycocotools 2.0.7\n",
            "    Uninstalling pycocotools-2.0.7:\n",
            "      Successfully uninstalled pycocotools-2.0.7\n",
            "\u001b[31mERROR: pip's dependency resolver does not currently take into account all the packages that are installed. This behaviour is the source of the following dependency conflicts.\n",
            "lida 0.0.10 requires fastapi, which is not installed.\n",
            "lida 0.0.10 requires kaleido, which is not installed.\n",
            "lida 0.0.10 requires python-multipart, which is not installed.\n",
            "lida 0.0.10 requires uvicorn, which is not installed.\u001b[0m\u001b[31m\n",
            "\u001b[0mSuccessfully installed Deprecated-1.2.14 antlr4-python3-runtime-4.9.3 arabic-reshaper-3.0.0 asn1crypto-1.5.1 boto3-1.28.66 botocore-1.31.66 coloredlogs-15.0.1 coverage-5.3.1 cssselect2-0.7.0 data-gradients-0.2.1 docutils-0.17.1 einops-0.3.2 humanfriendly-10.0 hydra-core-1.3.2 imagededup-0.3.2 jmespath-1.0.1 json-tricks-3.16.1 numpy-1.23.0 omegaconf-2.3.0 onnx-1.13.0 onnx-simplifier-0.4.33 onnxruntime-1.13.1 oscrypto-1.3.0 pyDeprecate-0.3.2 pyHanko-0.20.1 pycocotools-2.0.6 pyhanko-certvalidator-0.24.1 pyparsing-2.4.5 pypdf-3.16.4 pypng-0.20220715.0 python-bidi-0.4.2 qrcode-7.4.2 rapidfuzz-3.4.0 reportlab-3.6.13 s3transfer-0.7.0 sphinx-4.0.3 sphinx-rtd-theme-1.3.0 sphinxcontrib-applehelp-1.0.4 sphinxcontrib-devhelp-1.0.2 sphinxcontrib-htmlhelp-2.0.1 sphinxcontrib-jquery-4.1 sphinxcontrib-qthelp-1.0.3 sphinxcontrib-serializinghtml-1.1.5 stringcase-1.2.0 super-gradients-3.3.0 svglib-1.5.1 termcolor-1.1.0 torchmetrics-0.8.0 treelib-1.6.1 uritools-4.0.2 xhtml2pdf-0.2.11\n"
          ]
        },
        {
          "output_type": "display_data",
          "data": {
            "application/vnd.colab-display-data+json": {
              "pip_warning": {
                "packages": [
                  "numpy",
                  "pydevd_plugins",
                  "pyparsing",
                  "sphinxcontrib"
                ]
              }
            }
          },
          "metadata": {}
        },
        {
          "output_type": "stream",
          "name": "stdout",
          "text": [
            "Requirement already satisfied: torch in /usr/local/lib/python3.10/dist-packages (2.0.1+cu118)\n",
            "Requirement already satisfied: filelock in /usr/local/lib/python3.10/dist-packages (from torch) (3.12.4)\n",
            "Requirement already satisfied: typing-extensions in /usr/local/lib/python3.10/dist-packages (from torch) (4.5.0)\n",
            "Requirement already satisfied: sympy in /usr/local/lib/python3.10/dist-packages (from torch) (1.12)\n",
            "Requirement already satisfied: networkx in /usr/local/lib/python3.10/dist-packages (from torch) (3.1)\n",
            "Requirement already satisfied: jinja2 in /usr/local/lib/python3.10/dist-packages (from torch) (3.1.2)\n",
            "Requirement already satisfied: triton==2.0.0 in /usr/local/lib/python3.10/dist-packages (from torch) (2.0.0)\n",
            "Requirement already satisfied: cmake in /usr/local/lib/python3.10/dist-packages (from triton==2.0.0->torch) (3.27.7)\n",
            "Requirement already satisfied: lit in /usr/local/lib/python3.10/dist-packages (from triton==2.0.0->torch) (17.0.2)\n",
            "Requirement already satisfied: MarkupSafe>=2.0 in /usr/local/lib/python3.10/dist-packages (from jinja2->torch) (2.1.3)\n",
            "Requirement already satisfied: mpmath>=0.19 in /usr/local/lib/python3.10/dist-packages (from sympy->torch) (1.3.0)\n",
            "Collecting supervision\n",
            "  Downloading supervision-0.16.0-py3-none-any.whl (72 kB)\n",
            "\u001b[2K     \u001b[90m━━━━━━━━━━━━━━━━━━━━━━━━━━━━━━━━━━━━━━━━\u001b[0m \u001b[32m72.2/72.2 kB\u001b[0m \u001b[31m1.7 MB/s\u001b[0m eta \u001b[36m0:00:00\u001b[0m\n",
            "\u001b[?25hRequirement already satisfied: matplotlib<4.0.0,>=3.7.1 in /usr/local/lib/python3.10/dist-packages (from supervision) (3.7.1)\n",
            "Requirement already satisfied: numpy<2.0.0,>=1.20.0 in /usr/local/lib/python3.10/dist-packages (from supervision) (1.23.0)\n",
            "Requirement already satisfied: opencv-python-headless<5.0.0.0,>=4.8.0.74 in /usr/local/lib/python3.10/dist-packages (from supervision) (4.8.1.78)\n",
            "Requirement already satisfied: pillow<11.0,>=9.4 in /usr/local/lib/python3.10/dist-packages (from supervision) (9.4.0)\n",
            "Requirement already satisfied: pyyaml<7.0,>=6.0 in /usr/local/lib/python3.10/dist-packages (from supervision) (6.0.1)\n",
            "Requirement already satisfied: scipy<2.0.0,>=1.9.0 in /usr/local/lib/python3.10/dist-packages (from supervision) (1.11.3)\n",
            "Requirement already satisfied: contourpy>=1.0.1 in /usr/local/lib/python3.10/dist-packages (from matplotlib<4.0.0,>=3.7.1->supervision) (1.1.1)\n",
            "Requirement already satisfied: cycler>=0.10 in /usr/local/lib/python3.10/dist-packages (from matplotlib<4.0.0,>=3.7.1->supervision) (0.12.1)\n",
            "Requirement already satisfied: fonttools>=4.22.0 in /usr/local/lib/python3.10/dist-packages (from matplotlib<4.0.0,>=3.7.1->supervision) (4.43.1)\n",
            "Requirement already satisfied: kiwisolver>=1.0.1 in /usr/local/lib/python3.10/dist-packages (from matplotlib<4.0.0,>=3.7.1->supervision) (1.4.5)\n",
            "Requirement already satisfied: packaging>=20.0 in /usr/local/lib/python3.10/dist-packages (from matplotlib<4.0.0,>=3.7.1->supervision) (23.2)\n",
            "Requirement already satisfied: pyparsing>=2.3.1 in /usr/local/lib/python3.10/dist-packages (from matplotlib<4.0.0,>=3.7.1->supervision) (2.4.5)\n",
            "Requirement already satisfied: python-dateutil>=2.7 in /usr/local/lib/python3.10/dist-packages (from matplotlib<4.0.0,>=3.7.1->supervision) (2.8.2)\n",
            "Requirement already satisfied: six>=1.5 in /usr/local/lib/python3.10/dist-packages (from python-dateutil>=2.7->matplotlib<4.0.0,>=3.7.1->supervision) (1.16.0)\n",
            "Installing collected packages: supervision\n",
            "Successfully installed supervision-0.16.0\n",
            "Collecting roboflow\n",
            "  Downloading roboflow-1.1.7-py3-none-any.whl (58 kB)\n",
            "\u001b[2K     \u001b[90m━━━━━━━━━━━━━━━━━━━━━━━━━━━━━━━━━━━━━━━━\u001b[0m \u001b[32m58.8/58.8 kB\u001b[0m \u001b[31m1.5 MB/s\u001b[0m eta \u001b[36m0:00:00\u001b[0m\n",
            "\u001b[?25hCollecting certifi==2022.12.7 (from roboflow)\n",
            "  Downloading certifi-2022.12.7-py3-none-any.whl (155 kB)\n",
            "\u001b[2K     \u001b[90m━━━━━━━━━━━━━━━━━━━━━━━━━━━━━━━━━━━━━━━━\u001b[0m \u001b[32m155.3/155.3 kB\u001b[0m \u001b[31m6.0 MB/s\u001b[0m eta \u001b[36m0:00:00\u001b[0m\n",
            "\u001b[?25hCollecting chardet==4.0.0 (from roboflow)\n",
            "  Downloading chardet-4.0.0-py2.py3-none-any.whl (178 kB)\n",
            "\u001b[2K     \u001b[90m━━━━━━━━━━━━━━━━━━━━━━━━━━━━━━━━━━━━━━━━\u001b[0m \u001b[32m178.7/178.7 kB\u001b[0m \u001b[31m19.4 MB/s\u001b[0m eta \u001b[36m0:00:00\u001b[0m\n",
            "\u001b[?25hCollecting cycler==0.10.0 (from roboflow)\n",
            "  Downloading cycler-0.10.0-py2.py3-none-any.whl (6.5 kB)\n",
            "Collecting idna==2.10 (from roboflow)\n",
            "  Downloading idna-2.10-py2.py3-none-any.whl (58 kB)\n",
            "\u001b[2K     \u001b[90m━━━━━━━━━━━━━━━━━━━━━━━━━━━━━━━━━━━━━━━━\u001b[0m \u001b[32m58.8/58.8 kB\u001b[0m \u001b[31m7.2 MB/s\u001b[0m eta \u001b[36m0:00:00\u001b[0m\n",
            "\u001b[?25hRequirement already satisfied: kiwisolver>=1.3.1 in /usr/local/lib/python3.10/dist-packages (from roboflow) (1.4.5)\n",
            "Requirement already satisfied: matplotlib in /usr/local/lib/python3.10/dist-packages (from roboflow) (3.7.1)\n",
            "Requirement already satisfied: numpy>=1.18.5 in /usr/local/lib/python3.10/dist-packages (from roboflow) (1.23.0)\n",
            "Collecting opencv-python-headless==4.8.0.74 (from roboflow)\n",
            "  Downloading opencv_python_headless-4.8.0.74-cp37-abi3-manylinux_2_17_x86_64.manylinux2014_x86_64.whl (49.1 MB)\n",
            "\u001b[2K     \u001b[90m━━━━━━━━━━━━━━━━━━━━━━━━━━━━━━━━━━━━━━━━\u001b[0m \u001b[32m49.1/49.1 MB\u001b[0m \u001b[31m18.0 MB/s\u001b[0m eta \u001b[36m0:00:00\u001b[0m\n",
            "\u001b[?25hRequirement already satisfied: Pillow>=7.1.2 in /usr/local/lib/python3.10/dist-packages (from roboflow) (9.4.0)\n",
            "Collecting pyparsing==2.4.7 (from roboflow)\n",
            "  Downloading pyparsing-2.4.7-py2.py3-none-any.whl (67 kB)\n",
            "\u001b[2K     \u001b[90m━━━━━━━━━━━━━━━━━━━━━━━━━━━━━━━━━━━━━━━━\u001b[0m \u001b[32m67.8/67.8 kB\u001b[0m \u001b[31m9.0 MB/s\u001b[0m eta \u001b[36m0:00:00\u001b[0m\n",
            "\u001b[?25hRequirement already satisfied: python-dateutil in /usr/local/lib/python3.10/dist-packages (from roboflow) (2.8.2)\n",
            "Collecting python-dotenv (from roboflow)\n",
            "  Downloading python_dotenv-1.0.0-py3-none-any.whl (19 kB)\n",
            "Requirement already satisfied: requests in /usr/local/lib/python3.10/dist-packages (from roboflow) (2.31.0)\n",
            "Requirement already satisfied: six in /usr/local/lib/python3.10/dist-packages (from roboflow) (1.16.0)\n",
            "Requirement already satisfied: supervision in /usr/local/lib/python3.10/dist-packages (from roboflow) (0.16.0)\n",
            "Requirement already satisfied: urllib3>=1.26.6 in /usr/local/lib/python3.10/dist-packages (from roboflow) (2.0.6)\n",
            "Requirement already satisfied: tqdm>=4.41.0 in /usr/local/lib/python3.10/dist-packages (from roboflow) (4.66.1)\n",
            "Requirement already satisfied: PyYAML>=5.3.1 in /usr/local/lib/python3.10/dist-packages (from roboflow) (6.0.1)\n",
            "Collecting requests-toolbelt (from roboflow)\n",
            "  Downloading requests_toolbelt-1.0.0-py2.py3-none-any.whl (54 kB)\n",
            "\u001b[2K     \u001b[90m━━━━━━━━━━━━━━━━━━━━━━━━━━━━━━━━━━━━━━━━\u001b[0m \u001b[32m54.5/54.5 kB\u001b[0m \u001b[31m7.2 MB/s\u001b[0m eta \u001b[36m0:00:00\u001b[0m\n",
            "\u001b[?25hRequirement already satisfied: contourpy>=1.0.1 in /usr/local/lib/python3.10/dist-packages (from matplotlib->roboflow) (1.1.1)\n",
            "Requirement already satisfied: fonttools>=4.22.0 in /usr/local/lib/python3.10/dist-packages (from matplotlib->roboflow) (4.43.1)\n",
            "Requirement already satisfied: packaging>=20.0 in /usr/local/lib/python3.10/dist-packages (from matplotlib->roboflow) (23.2)\n",
            "Requirement already satisfied: charset-normalizer<4,>=2 in /usr/local/lib/python3.10/dist-packages (from requests->roboflow) (3.3.0)\n",
            "Requirement already satisfied: scipy<2.0.0,>=1.9.0 in /usr/local/lib/python3.10/dist-packages (from supervision->roboflow) (1.11.3)\n",
            "Installing collected packages: python-dotenv, pyparsing, opencv-python-headless, idna, cycler, chardet, certifi, requests-toolbelt, roboflow\n",
            "  Attempting uninstall: pyparsing\n",
            "    Found existing installation: pyparsing 2.4.5\n",
            "    Uninstalling pyparsing-2.4.5:\n",
            "      Successfully uninstalled pyparsing-2.4.5\n",
            "  Attempting uninstall: opencv-python-headless\n",
            "    Found existing installation: opencv-python-headless 4.8.1.78\n",
            "    Uninstalling opencv-python-headless-4.8.1.78:\n",
            "      Successfully uninstalled opencv-python-headless-4.8.1.78\n",
            "  Attempting uninstall: idna\n",
            "    Found existing installation: idna 3.4\n",
            "    Uninstalling idna-3.4:\n",
            "      Successfully uninstalled idna-3.4\n",
            "  Attempting uninstall: cycler\n",
            "    Found existing installation: cycler 0.12.1\n",
            "    Uninstalling cycler-0.12.1:\n",
            "      Successfully uninstalled cycler-0.12.1\n",
            "  Attempting uninstall: chardet\n",
            "    Found existing installation: chardet 5.2.0\n",
            "    Uninstalling chardet-5.2.0:\n",
            "      Successfully uninstalled chardet-5.2.0\n",
            "  Attempting uninstall: certifi\n",
            "    Found existing installation: certifi 2023.7.22\n",
            "    Uninstalling certifi-2023.7.22:\n",
            "      Successfully uninstalled certifi-2023.7.22\n",
            "\u001b[31mERROR: pip's dependency resolver does not currently take into account all the packages that are installed. This behaviour is the source of the following dependency conflicts.\n",
            "lida 0.0.10 requires fastapi, which is not installed.\n",
            "lida 0.0.10 requires kaleido, which is not installed.\n",
            "lida 0.0.10 requires python-multipart, which is not installed.\n",
            "lida 0.0.10 requires uvicorn, which is not installed.\n",
            "super-gradients 3.3.0 requires pyparsing==2.4.5, but you have pyparsing 2.4.7 which is incompatible.\u001b[0m\u001b[31m\n",
            "\u001b[0mSuccessfully installed certifi-2022.12.7 chardet-4.0.0 cycler-0.10.0 idna-2.10 opencv-python-headless-4.8.0.74 pyparsing-2.4.7 python-dotenv-1.0.0 requests-toolbelt-1.0.0 roboflow-1.1.7\n"
          ]
        },
        {
          "output_type": "display_data",
          "data": {
            "application/vnd.colab-display-data+json": {
              "pip_warning": {
                "packages": [
                  "certifi",
                  "cycler",
                  "pyparsing"
                ]
              }
            }
          },
          "metadata": {}
        },
        {
          "output_type": "stream",
          "name": "stdout",
          "text": [
            "Collecting onemetric\n",
            "  Downloading onemetric-0.1.2-py3-none-any.whl (21 kB)\n",
            "Requirement already satisfied: Pillow in /usr/local/lib/python3.10/dist-packages (from onemetric) (9.4.0)\n",
            "Requirement already satisfied: numpy in /usr/local/lib/python3.10/dist-packages (from onemetric) (1.23.0)\n",
            "Requirement already satisfied: seaborn in /usr/local/lib/python3.10/dist-packages (from onemetric) (0.12.2)\n",
            "Requirement already satisfied: matplotlib in /usr/local/lib/python3.10/dist-packages (from onemetric) (3.7.1)\n",
            "Collecting dataclasses-json (from onemetric)\n",
            "  Downloading dataclasses_json-0.6.1-py3-none-any.whl (27 kB)\n",
            "Collecting marshmallow<4.0.0,>=3.18.0 (from dataclasses-json->onemetric)\n",
            "  Downloading marshmallow-3.20.1-py3-none-any.whl (49 kB)\n",
            "\u001b[2K     \u001b[90m━━━━━━━━━━━━━━━━━━━━━━━━━━━━━━━━━━━━━━━━\u001b[0m \u001b[32m49.4/49.4 kB\u001b[0m \u001b[31m4.5 MB/s\u001b[0m eta \u001b[36m0:00:00\u001b[0m\n",
            "\u001b[?25hCollecting typing-inspect<1,>=0.4.0 (from dataclasses-json->onemetric)\n",
            "  Downloading typing_inspect-0.9.0-py3-none-any.whl (8.8 kB)\n",
            "Requirement already satisfied: contourpy>=1.0.1 in /usr/local/lib/python3.10/dist-packages (from matplotlib->onemetric) (1.1.1)\n",
            "Requirement already satisfied: cycler>=0.10 in /usr/local/lib/python3.10/dist-packages (from matplotlib->onemetric) (0.10.0)\n",
            "Requirement already satisfied: fonttools>=4.22.0 in /usr/local/lib/python3.10/dist-packages (from matplotlib->onemetric) (4.43.1)\n",
            "Requirement already satisfied: kiwisolver>=1.0.1 in /usr/local/lib/python3.10/dist-packages (from matplotlib->onemetric) (1.4.5)\n",
            "Requirement already satisfied: packaging>=20.0 in /usr/local/lib/python3.10/dist-packages (from matplotlib->onemetric) (23.2)\n",
            "Requirement already satisfied: pyparsing>=2.3.1 in /usr/local/lib/python3.10/dist-packages (from matplotlib->onemetric) (2.4.7)\n",
            "Requirement already satisfied: python-dateutil>=2.7 in /usr/local/lib/python3.10/dist-packages (from matplotlib->onemetric) (2.8.2)\n",
            "Requirement already satisfied: pandas>=0.25 in /usr/local/lib/python3.10/dist-packages (from seaborn->onemetric) (1.5.3)\n",
            "Requirement already satisfied: six in /usr/local/lib/python3.10/dist-packages (from cycler>=0.10->matplotlib->onemetric) (1.16.0)\n",
            "Requirement already satisfied: pytz>=2020.1 in /usr/local/lib/python3.10/dist-packages (from pandas>=0.25->seaborn->onemetric) (2023.3.post1)\n",
            "Collecting mypy-extensions>=0.3.0 (from typing-inspect<1,>=0.4.0->dataclasses-json->onemetric)\n",
            "  Downloading mypy_extensions-1.0.0-py3-none-any.whl (4.7 kB)\n",
            "Requirement already satisfied: typing-extensions>=3.7.4 in /usr/local/lib/python3.10/dist-packages (from typing-inspect<1,>=0.4.0->dataclasses-json->onemetric) (4.5.0)\n",
            "Installing collected packages: mypy-extensions, marshmallow, typing-inspect, dataclasses-json, onemetric\n",
            "Successfully installed dataclasses-json-0.6.1 marshmallow-3.20.1 mypy-extensions-1.0.0 onemetric-0.1.2 typing-inspect-0.9.0\n"
          ]
        }
      ],
      "source": [
        "%pip install super-gradients\n",
        "%pip install torch\n",
        "%pip install supervision\n",
        "%pip install roboflow\n",
        "%pip install onemetric\n",
        "%cd /content/drive/MyDrive"
      ]
    },
    {
      "cell_type": "code",
      "execution_count": 3,
      "id": "c2eac127",
      "metadata": {
        "colab": {
          "base_uri": "https://localhost:8080/"
        },
        "id": "c2eac127",
        "outputId": "05060dcd-5f52-4ef1-811a-2bf5b9c08c0d"
      },
      "outputs": [
        {
          "output_type": "stream",
          "name": "stdout",
          "text": [
            "loading Roboflow workspace...\n",
            "loading Roboflow project...\n",
            "[WARNING] we noticed you are downloading a `yolov8` datasets but you don't have `ultralytics` installed. Roboflow `.deploy` supports only models trained with `ultralytics==8.0.134`, to intall it `pip install ultralytics==8.0.134`.\n"
          ]
        },
        {
          "output_type": "stream",
          "name": "stderr",
          "text": [
            "Downloading Dataset Version Zip in CsiLab-BrainTumor-Detection-2 to yolov8:: 100%|██████████| 23248/23248 [00:00<00:00, 58094.29it/s]"
          ]
        },
        {
          "output_type": "stream",
          "name": "stdout",
          "text": [
            "\n"
          ]
        },
        {
          "output_type": "stream",
          "name": "stderr",
          "text": [
            "\n",
            "Extracting Dataset Version Zip to CsiLab-BrainTumor-Detection-2 in yolov8:: 100%|██████████| 1356/1356 [00:00<00:00, 8689.94it/s]\n"
          ]
        }
      ],
      "source": [
        "from roboflow import Roboflow\n",
        "rf = Roboflow(api_key=\"OZmt7veKofDCRjgyQ5XE\")\n",
        "project = rf.workspace(\"csilab\").project(\"csilab-braintumor-detection\")\n",
        "dataset = project.version(2).download(\"yolov8\")\n",
        "\n"
      ]
    },
    {
      "cell_type": "code",
      "execution_count": 4,
      "id": "62f7a1c2-1197-46df-b261-bb559cbcabde",
      "metadata": {
        "colab": {
          "base_uri": "https://localhost:8080/"
        },
        "id": "62f7a1c2-1197-46df-b261-bb559cbcabde",
        "outputId": "a52c77fc-5b07-4566-8121-6e88e8dea9f9",
        "tags": []
      },
      "outputs": [
        {
          "output_type": "stream",
          "name": "stderr",
          "text": [
            "[2023-10-19 13:49:56] INFO - crash_tips_setup.py - Crash tips is enabled. You can set your environment variable to CRASH_HANDLER=FALSE to disable it\n"
          ]
        },
        {
          "output_type": "stream",
          "name": "stdout",
          "text": [
            "The console stream is logged into /root/sg_logs/console.log\n"
          ]
        },
        {
          "output_type": "stream",
          "name": "stderr",
          "text": [
            "[2023-10-19 13:49:56] WARNING - __init__.py - Failed to import pytorch_quantization\n",
            "Downloading: \"https://download.pytorch.org/models/mobilenet_v3_small-047dcff4.pth\" to /root/.cache/torch/hub/checkpoints/mobilenet_v3_small-047dcff4.pth\n",
            "100%|██████████| 9.83M/9.83M [00:00<00:00, 54.0MB/s]\n",
            "[2023-10-19 13:50:06] WARNING - calibrator.py - Failed to import pytorch_quantization\n",
            "[2023-10-19 13:50:06] WARNING - export.py - Failed to import pytorch_quantization\n",
            "[2023-10-19 13:50:06] WARNING - selective_quantization_utils.py - Failed to import pytorch_quantization\n",
            "[2023-10-19 13:50:06] WARNING - env_sanity_check.py - \u001b[31mFailed to verify installed packages: boto3 required but not found\u001b[0m\n",
            "[2023-10-19 13:50:06] WARNING - env_sanity_check.py - \u001b[31mFailed to verify installed packages: deprecated required but not found\u001b[0m\n",
            "[2023-10-19 13:50:06] WARNING - env_sanity_check.py - \u001b[31mFailed to verify installed packages: coverage required but not found\u001b[0m\n",
            "[2023-10-19 13:50:06] WARNING - env_sanity_check.py - \u001b[31mFailed to verify installed packages: sphinx-rtd-theme required but not found\u001b[0m\n",
            "[2023-10-19 13:50:06] WARNING - env_sanity_check.py - \u001b[31mFailed to verify installed packages: torchmetrics required but not found\u001b[0m\n",
            "[2023-10-19 13:50:06] WARNING - env_sanity_check.py - \u001b[31mFailed to verify installed packages: hydra-core required but not found\u001b[0m\n",
            "[2023-10-19 13:50:06] WARNING - env_sanity_check.py - \u001b[31mFailed to verify installed packages: omegaconf required but not found\u001b[0m\n",
            "[2023-10-19 13:50:06] WARNING - env_sanity_check.py - \u001b[31mFailed to verify installed packages: onnxruntime required but not found\u001b[0m\n",
            "[2023-10-19 13:50:06] WARNING - env_sanity_check.py - \u001b[31mFailed to verify installed packages: onnx required but not found\u001b[0m\n",
            "[2023-10-19 13:50:06] WARNING - env_sanity_check.py - \u001b[31mFailed to verify installed packages: einops required but not found\u001b[0m\n",
            "[2023-10-19 13:50:06] WARNING - env_sanity_check.py - \u001b[31mFailed to verify installed packages: treelib required but not found\u001b[0m\n",
            "[2023-10-19 13:50:06] WARNING - env_sanity_check.py - \u001b[31mFailed to verify installed packages: stringcase required but not found\u001b[0m\n",
            "[2023-10-19 13:50:06] WARNING - env_sanity_check.py - \u001b[31mFailed to verify installed packages: rapidfuzz required but not found\u001b[0m\n",
            "[2023-10-19 13:50:07] WARNING - env_sanity_check.py - \u001b[31mFailed to verify installed packages: json-tricks required but not found\u001b[0m\n",
            "[2023-10-19 13:50:07] WARNING - env_sanity_check.py - \u001b[31mFailed to verify installed packages: onnx-simplifier required but not found\u001b[0m\n",
            "[2023-10-19 13:50:07] WARNING - env_sanity_check.py - \u001b[31mFailed to verify installed packages: data-gradients required but not found\u001b[0m\n"
          ]
        },
        {
          "output_type": "stream",
          "name": "stdout",
          "text": [
            "['Tumor']\n"
          ]
        }
      ],
      "source": [
        "import torch\n",
        "from super_gradients.training import Trainer\n",
        "\n",
        "DEVICE = 'cuda' if torch.cuda.is_available() else \"cpu\"\n",
        "MODEL_ARCH = 'yolo_nas_l'\n",
        "BATCH_SIZE = 8\n",
        "MAX_EPOCHS = 15\n",
        "CHECKPOINT_DIR = './checkpoints'\n",
        "EXPERIMENT_NAME = project.name.lower().replace(\" \", \"_\")\n",
        "\n",
        "from super_gradients.training import Trainer\n",
        "\n",
        "trainer = Trainer(experiment_name=EXPERIMENT_NAME, ckpt_root_dir=CHECKPOINT_DIR)\n",
        "\n",
        "LOCATION = dataset.location\n",
        "CLASSES = sorted(project.classes.keys())\n",
        "\n",
        "dataset_params = {\n",
        "    'data_dir': LOCATION,\n",
        "    'train_images_dir':'train/images',\n",
        "    'train_labels_dir':'train/labels',\n",
        "    'val_images_dir':'valid/images',\n",
        "    'val_labels_dir':'valid/labels',\n",
        "    'test_images_dir':'test/images',\n",
        "    'test_labels_dir':'test/labels',\n",
        "    'classes': CLASSES\n",
        "}\n",
        "print(dataset_params['classes'])\n"
      ]
    },
    {
      "cell_type": "code",
      "execution_count": 5,
      "id": "8d53441f-661c-4f36-90a5-bd28609d525c",
      "metadata": {
        "colab": {
          "base_uri": "https://localhost:8080/"
        },
        "id": "8d53441f-661c-4f36-90a5-bd28609d525c",
        "outputId": "5e3a7727-d596-45f1-b353-b83913e99d1b",
        "tags": []
      },
      "outputs": [
        {
          "output_type": "stream",
          "name": "stderr",
          "text": [
            "[2023-10-19 13:50:15] INFO - detection_dataset.py - Dataset Initialization in progress. `cache_annotations=True` causes the process to take longer due to full dataset indexing.\n",
            "Indexing dataset annotations: 100%|██████████| 582/582 [00:00<00:00, 3697.45it/s]\n",
            "[2023-10-19 13:50:15] INFO - detection_dataset.py - Dataset Initialization in progress. `cache_annotations=True` causes the process to take longer due to full dataset indexing.\n",
            "Indexing dataset annotations: 100%|██████████| 60/60 [00:00<00:00, 3669.88it/s]\n",
            "[2023-10-19 13:50:15] INFO - detection_dataset.py - Dataset Initialization in progress. `cache_annotations=True` causes the process to take longer due to full dataset indexing.\n"
          ]
        }
      ],
      "source": [
        "from super_gradients.training.dataloaders.dataloaders import (coco_detection_yolo_format_train, coco_detection_yolo_format_val)\n",
        "\n",
        "train_data = coco_detection_yolo_format_train(\n",
        "    dataset_params={\n",
        "        'data_dir': dataset_params['data_dir'],\n",
        "        'images_dir': dataset_params['train_images_dir'],\n",
        "        'labels_dir': dataset_params['train_labels_dir'],\n",
        "        'classes': dataset_params['classes']\n",
        "    },\n",
        "    dataloader_params={\n",
        "        'batch_size': BATCH_SIZE,\n",
        "        'num_workers': 1\n",
        "    }\n",
        ")\n",
        "\n",
        "val_data = coco_detection_yolo_format_val(\n",
        "    dataset_params={\n",
        "        'data_dir': dataset_params['data_dir'],\n",
        "        'images_dir': dataset_params['val_images_dir'],\n",
        "        'labels_dir': dataset_params['val_labels_dir'],\n",
        "        'classes': dataset_params['classes']\n",
        "    },\n",
        "    dataloader_params={\n",
        "        'batch_size': BATCH_SIZE,\n",
        "        'num_workers': 1\n",
        "    }\n",
        ")\n",
        "\n",
        "test_data = coco_detection_yolo_format_val(\n",
        "    dataset_params={\n",
        "        'data_dir': dataset_params['data_dir'],\n",
        "        'images_dir': dataset_params['test_images_dir'],\n",
        "        'labels_dir': dataset_params['test_labels_dir'],\n",
        "        'classes': dataset_params['classes']\n",
        "    },\n",
        "    dataloader_params={\n",
        "        'batch_size': BATCH_SIZE,\n",
        "        'num_workers': 2\n",
        "    }\n",
        ")"
      ]
    },
    {
      "cell_type": "code",
      "execution_count": 6,
      "id": "a79a89ec-78ea-4949-8194-d32ddf814c4e",
      "metadata": {
        "colab": {
          "base_uri": "https://localhost:8080/"
        },
        "id": "a79a89ec-78ea-4949-8194-d32ddf814c4e",
        "outputId": "8c3a3556-7adb-48c3-86f0-70b1f29613d0",
        "tags": []
      },
      "outputs": [
        {
          "output_type": "stream",
          "name": "stderr",
          "text": [
            "[2023-10-19 13:50:21] INFO - checkpoint_utils.py - License Notification: YOLO-NAS pre-trained weights are subjected to the specific license terms and conditions detailed in \n",
            "https://github.com/Deci-AI/super-gradients/blob/master/LICENSE.YOLONAS.md\n",
            "By downloading the pre-trained weight files you agree to comply with these terms.\n",
            "Downloading: \"https://sghub.deci.ai/models/yolo_nas_l_coco.pth\" to /root/.cache/torch/hub/checkpoints/yolo_nas_l_coco.pth\n",
            "100%|██████████| 256M/256M [00:01<00:00, 143MB/s]\n",
            "[2023-10-19 13:50:23] INFO - checkpoint_utils.py - Successfully loaded pretrained weights for architecture yolo_nas_l\n"
          ]
        }
      ],
      "source": [
        "from super_gradients.training import models\n",
        "\n",
        "model = models.get(\n",
        "    MODEL_ARCH,\n",
        "    num_classes=len(dataset_params['classes']),\n",
        "    pretrained_weights=\"coco\"\n",
        ")"
      ]
    },
    {
      "cell_type": "code",
      "execution_count": 7,
      "id": "ae17eabd-e9e2-490e-ab73-cc1a8637a986",
      "metadata": {
        "id": "ae17eabd-e9e2-490e-ab73-cc1a8637a986"
      },
      "outputs": [],
      "source": [
        "from super_gradients.training.losses import PPYoloELoss\n",
        "from super_gradients.training.metrics import DetectionMetrics_050\n",
        "from super_gradients.training.models.detection_models.pp_yolo_e import PPYoloEPostPredictionCallback\n",
        "\n",
        "train_params = {\n",
        "    'silent_mode': False,\n",
        "    \"average_best_models\":True,\n",
        "    \"warmup_mode\": \"linear_epoch_step\",\n",
        "    \"warmup_initial_lr\": 1e-6,\n",
        "    \"lr_warmup_epochs\": 3,\n",
        "    \"initial_lr\": 5e-4,\n",
        "    \"lr_mode\": \"cosine\",\n",
        "    \"cosine_final_lr_ratio\": 0.1,\n",
        "    \"optimizer\": \"Adam\",\n",
        "    \"optimizer_params\": {\"weight_decay\": 0.0001},\n",
        "    \"zero_weight_decay_on_bias_and_bn\": True,\n",
        "    \"ema\": True,\n",
        "    \"ema_params\": {\"decay\": 0.9, \"decay_type\": \"threshold\"},\n",
        "    \"max_epochs\": MAX_EPOCHS,\n",
        "    \"mixed_precision\": True,\n",
        "    \"loss\": PPYoloELoss(\n",
        "        use_static_assigner=False,\n",
        "        num_classes=len(dataset_params['classes']),\n",
        "        reg_max=16\n",
        "    ),\n",
        "    \"valid_metrics_list\": [\n",
        "        DetectionMetrics_050(\n",
        "            score_thres=0.1,\n",
        "            top_k_predictions=300,\n",
        "            num_cls=len(dataset_params['classes']),\n",
        "            normalize_targets=True,\n",
        "            post_prediction_callback=PPYoloEPostPredictionCallback(\n",
        "                score_threshold=0.01,\n",
        "                nms_top_k=1000,\n",
        "                max_predictions=300,\n",
        "                nms_threshold=0.7\n",
        "            )\n",
        "        )\n",
        "    ],\n",
        "    \"metric_to_watch\": 'mAP@0.50'\n",
        "}"
      ]
    },
    {
      "cell_type": "code",
      "execution_count": null,
      "id": "e5b3f5e1",
      "metadata": {
        "colab": {
          "base_uri": "https://localhost:8080/"
        },
        "id": "e5b3f5e1",
        "outputId": "887385ad-0070-49fe-c006-8f6fb3bdb1ba"
      },
      "outputs": [
        {
          "output_type": "stream",
          "name": "stderr",
          "text": [
            "[2023-10-18 16:27:46] INFO - sg_trainer.py - Starting a new run with `run_id=RUN_20231018_162746_414674`\n",
            "[2023-10-18 16:27:46] INFO - sg_trainer.py - Checkpoints directory: ./checkpoints/csilab-braintumor-detection/RUN_20231018_162746_414674\n",
            "[2023-10-18 16:27:46] INFO - sg_trainer.py - Using EMA with params {'decay': 0.9, 'decay_type': 'threshold'}\n",
            "Object name `linear_epoch_step` is now deprecated. Please replace it with `LinearEpochLRWarmup`.\n"
          ]
        },
        {
          "output_type": "stream",
          "name": "stdout",
          "text": [
            "The console stream is now moved to ./checkpoints/csilab-braintumor-detection/RUN_20231018_162746_414674/console_Oct18_16_27_46.txt\n"
          ]
        },
        {
          "output_type": "stream",
          "name": "stderr",
          "text": [
            "[2023-10-18 16:27:47] INFO - sg_trainer_utils.py - TRAINING PARAMETERS:\n",
            "    - Mode:                         Single GPU\n",
            "    - Number of GPUs:               1          (1 available on the machine)\n",
            "    - Dataset size:                 582        (len(train_set))\n",
            "    - Batch size per GPU:           8          (batch_size)\n",
            "    - Batch Accumulate:             1          (batch_accumulate)\n",
            "    - Total batch size:             8          (num_gpus * batch_size)\n",
            "    - Effective Batch size:         8          (num_gpus * batch_size * batch_accumulate)\n",
            "    - Iterations per epoch:         72         (len(train_loader))\n",
            "    - Gradient updates per epoch:   72         (len(train_loader) / batch_accumulate)\n",
            "\n",
            "[2023-10-18 16:27:47] INFO - sg_trainer.py - Started training for 15 epochs (0/14)\n",
            "\n",
            "Train epoch 0: 100%|██████████| 72/72 [01:03<00:00,  1.13it/s, PPYoloELoss/loss=3.82, PPYoloELoss/loss_cls=2.44, PPYoloELoss/loss_dfl=1.46, PPYoloELoss/loss_iou=0.257, gpu_mem=6.75]\n",
            "Validating: 100%|██████████| 8/8 [00:02<00:00,  2.72it/s]\n",
            "[2023-10-18 16:29:04] INFO - base_sg_logger.py - Checkpoint saved in ./checkpoints/csilab-braintumor-detection/RUN_20231018_162746_414674/ckpt_best.pth\n",
            "[2023-10-18 16:29:04] INFO - sg_trainer.py - Best checkpoint overriden: validation mAP@0.50: 0.02205701358616352\n"
          ]
        },
        {
          "output_type": "stream",
          "name": "stdout",
          "text": [
            "===========================================================\n",
            "SUMMARY OF EPOCH 0\n",
            "├── Train\n",
            "│   ├── Ppyoloeloss/loss_cls = 2.4418\n",
            "│   ├── Ppyoloeloss/loss_iou = 0.2574\n",
            "│   ├── Ppyoloeloss/loss_dfl = 1.461\n",
            "│   └── Ppyoloeloss/loss = 3.8158\n",
            "└── Validation\n",
            "    ├── Ppyoloeloss/loss_cls = 2.506\n",
            "    ├── Ppyoloeloss/loss_iou = 0.1829\n",
            "    ├── Ppyoloeloss/loss_dfl = 1.1569\n",
            "    ├── Ppyoloeloss/loss = 3.5417\n",
            "    ├── Precision@0.50 = 0.0\n",
            "    ├── Recall@0.50 = 0.0\n",
            "    ├── Map@0.50 = 0.0221\n",
            "    └── F1@0.50 = 0.0\n",
            "\n",
            "===========================================================\n"
          ]
        },
        {
          "output_type": "stream",
          "name": "stderr",
          "text": [
            "Train epoch 1: 100%|██████████| 72/72 [00:55<00:00,  1.29it/s, PPYoloELoss/loss=2.26, PPYoloELoss/loss_cls=1.16, PPYoloELoss/loss_dfl=1.19, PPYoloELoss/loss_iou=0.203, gpu_mem=7.04]\n",
            "Validating epoch 1: 100%|██████████| 8/8 [00:02<00:00,  2.76it/s]\n",
            "[2023-10-18 16:30:14] INFO - base_sg_logger.py - Checkpoint saved in ./checkpoints/csilab-braintumor-detection/RUN_20231018_162746_414674/ckpt_best.pth\n",
            "[2023-10-18 16:30:14] INFO - sg_trainer.py - Best checkpoint overriden: validation mAP@0.50: 0.8126352429389954\n"
          ]
        },
        {
          "output_type": "stream",
          "name": "stdout",
          "text": [
            "===========================================================\n",
            "SUMMARY OF EPOCH 1\n",
            "├── Train\n",
            "│   ├── Ppyoloeloss/loss_cls = 1.1571\n",
            "│   │   ├── Epoch N-1      = 2.4418 (\u001b[32m↘ -1.2848\u001b[0m)\n",
            "│   │   └── Best until now = 2.4418 (\u001b[32m↘ -1.2848\u001b[0m)\n",
            "│   ├── Ppyoloeloss/loss_iou = 0.2029\n",
            "│   │   ├── Epoch N-1      = 0.2574 (\u001b[32m↘ -0.0545\u001b[0m)\n",
            "│   │   └── Best until now = 0.2574 (\u001b[32m↘ -0.0545\u001b[0m)\n",
            "│   ├── Ppyoloeloss/loss_dfl = 1.193\n",
            "│   │   ├── Epoch N-1      = 1.461  (\u001b[32m↘ -0.2681\u001b[0m)\n",
            "│   │   └── Best until now = 1.461  (\u001b[32m↘ -0.2681\u001b[0m)\n",
            "│   └── Ppyoloeloss/loss = 2.2607\n",
            "│       ├── Epoch N-1      = 3.8158 (\u001b[32m↘ -1.5551\u001b[0m)\n",
            "│       └── Best until now = 3.8158 (\u001b[32m↘ -1.5551\u001b[0m)\n",
            "└── Validation\n",
            "    ├── Ppyoloeloss/loss_cls = 1.4088\n",
            "    │   ├── Epoch N-1      = 2.506  (\u001b[32m↘ -1.0972\u001b[0m)\n",
            "    │   └── Best until now = 2.506  (\u001b[32m↘ -1.0972\u001b[0m)\n",
            "    ├── Ppyoloeloss/loss_iou = 0.1604\n",
            "    │   ├── Epoch N-1      = 0.1829 (\u001b[32m↘ -0.0225\u001b[0m)\n",
            "    │   └── Best until now = 0.1829 (\u001b[32m↘ -0.0225\u001b[0m)\n",
            "    ├── Ppyoloeloss/loss_dfl = 1.1404\n",
            "    │   ├── Epoch N-1      = 1.1569 (\u001b[32m↘ -0.0165\u001b[0m)\n",
            "    │   └── Best until now = 1.1569 (\u001b[32m↘ -0.0165\u001b[0m)\n",
            "    ├── Ppyoloeloss/loss = 2.38\n",
            "    │   ├── Epoch N-1      = 3.5417 (\u001b[32m↘ -1.1618\u001b[0m)\n",
            "    │   └── Best until now = 3.5417 (\u001b[32m↘ -1.1618\u001b[0m)\n",
            "    ├── Precision@0.50 = 0.0091\n",
            "    │   ├── Epoch N-1      = 0.0    (\u001b[32m↗ 0.0091\u001b[0m)\n",
            "    │   └── Best until now = 0.0    (\u001b[32m↗ 0.0091\u001b[0m)\n",
            "    ├── Recall@0.50 = 0.9677\n",
            "    │   ├── Epoch N-1      = 0.0    (\u001b[32m↗ 0.9677\u001b[0m)\n",
            "    │   └── Best until now = 0.0    (\u001b[32m↗ 0.9677\u001b[0m)\n",
            "    ├── Map@0.50 = 0.8126\n",
            "    │   ├── Epoch N-1      = 0.0221 (\u001b[32m↗ 0.7906\u001b[0m)\n",
            "    │   └── Best until now = 0.0221 (\u001b[32m↗ 0.7906\u001b[0m)\n",
            "    └── F1@0.50 = 0.0181\n",
            "        ├── Epoch N-1      = 0.0    (\u001b[32m↗ 0.0181\u001b[0m)\n",
            "        └── Best until now = 0.0    (\u001b[32m↗ 0.0181\u001b[0m)\n",
            "\n",
            "===========================================================\n"
          ]
        },
        {
          "output_type": "stream",
          "name": "stderr",
          "text": [
            "Train epoch 2: 100%|██████████| 72/72 [00:55<00:00,  1.30it/s, PPYoloELoss/loss=2.16, PPYoloELoss/loss_cls=1.02, PPYoloELoss/loss_dfl=1.24, PPYoloELoss/loss_iou=0.205, gpu_mem=7.03]\n",
            "Validating epoch 2: 100%|██████████| 8/8 [00:03<00:00,  2.40it/s]\n",
            "[2023-10-18 16:31:35] INFO - base_sg_logger.py - Checkpoint saved in ./checkpoints/csilab-braintumor-detection/RUN_20231018_162746_414674/ckpt_best.pth\n",
            "[2023-10-18 16:31:35] INFO - sg_trainer.py - Best checkpoint overriden: validation mAP@0.50: 0.8433739542961121\n"
          ]
        },
        {
          "output_type": "stream",
          "name": "stdout",
          "text": [
            "===========================================================\n",
            "SUMMARY OF EPOCH 2\n",
            "├── Train\n",
            "│   ├── Ppyoloeloss/loss_cls = 1.0241\n",
            "│   │   ├── Epoch N-1      = 1.1571 (\u001b[32m↘ -0.133\u001b[0m)\n",
            "│   │   └── Best until now = 1.1571 (\u001b[32m↘ -0.133\u001b[0m)\n",
            "│   ├── Ppyoloeloss/loss_iou = 0.2049\n",
            "│   │   ├── Epoch N-1      = 0.2029 (\u001b[31m↗ 0.002\u001b[0m)\n",
            "│   │   └── Best until now = 0.2029 (\u001b[31m↗ 0.002\u001b[0m)\n",
            "│   ├── Ppyoloeloss/loss_dfl = 1.2418\n",
            "│   │   ├── Epoch N-1      = 1.193  (\u001b[31m↗ 0.0488\u001b[0m)\n",
            "│   │   └── Best until now = 1.193  (\u001b[31m↗ 0.0488\u001b[0m)\n",
            "│   └── Ppyoloeloss/loss = 2.1572\n",
            "│       ├── Epoch N-1      = 2.2607 (\u001b[32m↘ -0.1035\u001b[0m)\n",
            "│       └── Best until now = 2.2607 (\u001b[32m↘ -0.1035\u001b[0m)\n",
            "└── Validation\n",
            "    ├── Ppyoloeloss/loss_cls = 1.1487\n",
            "    │   ├── Epoch N-1      = 1.4088 (\u001b[32m↘ -0.2601\u001b[0m)\n",
            "    │   └── Best until now = 1.4088 (\u001b[32m↘ -0.2601\u001b[0m)\n",
            "    ├── Ppyoloeloss/loss_iou = 0.1686\n",
            "    │   ├── Epoch N-1      = 0.1604 (\u001b[31m↗ 0.0082\u001b[0m)\n",
            "    │   └── Best until now = 0.1604 (\u001b[31m↗ 0.0082\u001b[0m)\n",
            "    ├── Ppyoloeloss/loss_dfl = 1.1772\n",
            "    │   ├── Epoch N-1      = 1.1404 (\u001b[31m↗ 0.0368\u001b[0m)\n",
            "    │   └── Best until now = 1.1404 (\u001b[31m↗ 0.0368\u001b[0m)\n",
            "    ├── Ppyoloeloss/loss = 2.1587\n",
            "    │   ├── Epoch N-1      = 2.38   (\u001b[32m↘ -0.2213\u001b[0m)\n",
            "    │   └── Best until now = 2.38   (\u001b[32m↘ -0.2213\u001b[0m)\n",
            "    ├── Precision@0.50 = 0.0124\n",
            "    │   ├── Epoch N-1      = 0.0091 (\u001b[32m↗ 0.0032\u001b[0m)\n",
            "    │   └── Best until now = 0.0091 (\u001b[32m↗ 0.0032\u001b[0m)\n",
            "    ├── Recall@0.50 = 0.9677\n",
            "    │   ├── Epoch N-1      = 0.9677 (\u001b[37m= 0.0\u001b[0m)\n",
            "    │   └── Best until now = 0.9677 (\u001b[37m= 0.0\u001b[0m)\n",
            "    ├── Map@0.50 = 0.8434\n",
            "    │   ├── Epoch N-1      = 0.8126 (\u001b[32m↗ 0.0307\u001b[0m)\n",
            "    │   └── Best until now = 0.8126 (\u001b[32m↗ 0.0307\u001b[0m)\n",
            "    └── F1@0.50 = 0.0244\n",
            "        ├── Epoch N-1      = 0.0181 (\u001b[32m↗ 0.0063\u001b[0m)\n",
            "        └── Best until now = 0.0181 (\u001b[32m↗ 0.0063\u001b[0m)\n",
            "\n",
            "===========================================================\n"
          ]
        },
        {
          "output_type": "stream",
          "name": "stderr",
          "text": [
            "Train epoch 3: 100%|██████████| 72/72 [00:55<00:00,  1.30it/s, PPYoloELoss/loss=2.17, PPYoloELoss/loss_cls=1.02, PPYoloELoss/loss_dfl=1.26, PPYoloELoss/loss_iou=0.209, gpu_mem=7.03]\n",
            "Validating epoch 3: 100%|██████████| 8/8 [00:03<00:00,  2.42it/s]\n"
          ]
        },
        {
          "output_type": "stream",
          "name": "stdout",
          "text": [
            "===========================================================\n",
            "SUMMARY OF EPOCH 3\n",
            "├── Train\n",
            "│   ├── Ppyoloeloss/loss_cls = 1.0191\n",
            "│   │   ├── Epoch N-1      = 1.0241 (\u001b[32m↘ -0.0049\u001b[0m)\n",
            "│   │   └── Best until now = 1.0241 (\u001b[32m↘ -0.0049\u001b[0m)\n",
            "│   ├── Ppyoloeloss/loss_iou = 0.2089\n",
            "│   │   ├── Epoch N-1      = 0.2049 (\u001b[31m↗ 0.004\u001b[0m)\n",
            "│   │   └── Best until now = 0.2029 (\u001b[31m↗ 0.006\u001b[0m)\n",
            "│   ├── Ppyoloeloss/loss_dfl = 1.2621\n",
            "│   │   ├── Epoch N-1      = 1.2418 (\u001b[31m↗ 0.0203\u001b[0m)\n",
            "│   │   └── Best until now = 1.193  (\u001b[31m↗ 0.0691\u001b[0m)\n",
            "│   └── Ppyoloeloss/loss = 2.1723\n",
            "│       ├── Epoch N-1      = 2.1572 (\u001b[31m↗ 0.0151\u001b[0m)\n",
            "│       └── Best until now = 2.1572 (\u001b[31m↗ 0.0151\u001b[0m)\n",
            "└── Validation\n",
            "    ├── Ppyoloeloss/loss_cls = 1.0046\n",
            "    │   ├── Epoch N-1      = 1.1487 (\u001b[32m↘ -0.1441\u001b[0m)\n",
            "    │   └── Best until now = 1.1487 (\u001b[32m↘ -0.1441\u001b[0m)\n",
            "    ├── Ppyoloeloss/loss_iou = 0.1898\n",
            "    │   ├── Epoch N-1      = 0.1686 (\u001b[31m↗ 0.0213\u001b[0m)\n",
            "    │   └── Best until now = 0.1604 (\u001b[31m↗ 0.0294\u001b[0m)\n",
            "    ├── Ppyoloeloss/loss_dfl = 1.2858\n",
            "    │   ├── Epoch N-1      = 1.1772 (\u001b[31m↗ 0.1086\u001b[0m)\n",
            "    │   └── Best until now = 1.1404 (\u001b[31m↗ 0.1454\u001b[0m)\n",
            "    ├── Ppyoloeloss/loss = 2.1221\n",
            "    │   ├── Epoch N-1      = 2.1587 (\u001b[32m↘ -0.0366\u001b[0m)\n",
            "    │   └── Best until now = 2.1587 (\u001b[32m↘ -0.0366\u001b[0m)\n",
            "    ├── Precision@0.50 = 0.028\n",
            "    │   ├── Epoch N-1      = 0.0124 (\u001b[32m↗ 0.0157\u001b[0m)\n",
            "    │   └── Best until now = 0.0124 (\u001b[32m↗ 0.0157\u001b[0m)\n",
            "    ├── Recall@0.50 = 0.9677\n",
            "    │   ├── Epoch N-1      = 0.9677 (\u001b[37m= 0.0\u001b[0m)\n",
            "    │   └── Best until now = 0.9677 (\u001b[37m= 0.0\u001b[0m)\n",
            "    ├── Map@0.50 = 0.7792\n",
            "    │   ├── Epoch N-1      = 0.8434 (\u001b[31m↘ -0.0642\u001b[0m)\n",
            "    │   └── Best until now = 0.8434 (\u001b[31m↘ -0.0642\u001b[0m)\n",
            "    └── F1@0.50 = 0.0545\n",
            "        ├── Epoch N-1      = 0.0244 (\u001b[32m↗ 0.03\u001b[0m)\n",
            "        └── Best until now = 0.0244 (\u001b[32m↗ 0.03\u001b[0m)\n",
            "\n",
            "===========================================================\n"
          ]
        },
        {
          "output_type": "stream",
          "name": "stderr",
          "text": [
            "Train epoch 4: 100%|██████████| 72/72 [00:55<00:00,  1.30it/s, PPYoloELoss/loss=2.12, PPYoloELoss/loss_cls=0.988, PPYoloELoss/loss_dfl=1.24, PPYoloELoss/loss_iou=0.204, gpu_mem=7.03]\n",
            "Validating epoch 4: 100%|██████████| 8/8 [00:02<00:00,  2.72it/s]\n",
            "[2023-10-18 16:34:11] INFO - base_sg_logger.py - Checkpoint saved in ./checkpoints/csilab-braintumor-detection/RUN_20231018_162746_414674/ckpt_best.pth\n",
            "[2023-10-18 16:34:11] INFO - sg_trainer.py - Best checkpoint overriden: validation mAP@0.50: 0.8594447374343872\n"
          ]
        },
        {
          "output_type": "stream",
          "name": "stdout",
          "text": [
            "===========================================================\n",
            "SUMMARY OF EPOCH 4\n",
            "├── Train\n",
            "│   ├── Ppyoloeloss/loss_cls = 0.9881\n",
            "│   │   ├── Epoch N-1      = 1.0191 (\u001b[32m↘ -0.0311\u001b[0m)\n",
            "│   │   └── Best until now = 1.0191 (\u001b[32m↘ -0.0311\u001b[0m)\n",
            "│   ├── Ppyoloeloss/loss_iou = 0.2037\n",
            "│   │   ├── Epoch N-1      = 0.2089 (\u001b[32m↘ -0.0052\u001b[0m)\n",
            "│   │   └── Best until now = 0.2029 (\u001b[31m↗ 0.0009\u001b[0m)\n",
            "│   ├── Ppyoloeloss/loss_dfl = 1.241\n",
            "│   │   ├── Epoch N-1      = 1.2621 (\u001b[32m↘ -0.021\u001b[0m)\n",
            "│   │   └── Best until now = 1.193  (\u001b[31m↗ 0.0481\u001b[0m)\n",
            "│   └── Ppyoloeloss/loss = 2.1179\n",
            "│       ├── Epoch N-1      = 2.1723 (\u001b[32m↘ -0.0545\u001b[0m)\n",
            "│       └── Best until now = 2.1572 (\u001b[32m↘ -0.0394\u001b[0m)\n",
            "└── Validation\n",
            "    ├── Ppyoloeloss/loss_cls = 0.9392\n",
            "    │   ├── Epoch N-1      = 1.0046 (\u001b[32m↘ -0.0654\u001b[0m)\n",
            "    │   └── Best until now = 1.0046 (\u001b[32m↘ -0.0654\u001b[0m)\n",
            "    ├── Ppyoloeloss/loss_iou = 0.1652\n",
            "    │   ├── Epoch N-1      = 0.1898 (\u001b[32m↘ -0.0247\u001b[0m)\n",
            "    │   └── Best until now = 0.1604 (\u001b[31m↗ 0.0048\u001b[0m)\n",
            "    ├── Ppyoloeloss/loss_dfl = 1.0832\n",
            "    │   ├── Epoch N-1      = 1.2858 (\u001b[32m↘ -0.2025\u001b[0m)\n",
            "    │   └── Best until now = 1.1404 (\u001b[32m↘ -0.0571\u001b[0m)\n",
            "    ├── Ppyoloeloss/loss = 1.8937\n",
            "    │   ├── Epoch N-1      = 2.1221 (\u001b[32m↘ -0.2283\u001b[0m)\n",
            "    │   └── Best until now = 2.1221 (\u001b[32m↘ -0.2283\u001b[0m)\n",
            "    ├── Precision@0.50 = 0.0175\n",
            "    │   ├── Epoch N-1      = 0.028  (\u001b[31m↘ -0.0105\u001b[0m)\n",
            "    │   └── Best until now = 0.028  (\u001b[31m↘ -0.0105\u001b[0m)\n",
            "    ├── Recall@0.50 = 0.9677\n",
            "    │   ├── Epoch N-1      = 0.9677 (\u001b[37m= 0.0\u001b[0m)\n",
            "    │   └── Best until now = 0.9677 (\u001b[37m= 0.0\u001b[0m)\n",
            "    ├── Map@0.50 = 0.8594\n",
            "    │   ├── Epoch N-1      = 0.7792 (\u001b[32m↗ 0.0803\u001b[0m)\n",
            "    │   └── Best until now = 0.8434 (\u001b[32m↗ 0.0161\u001b[0m)\n",
            "    └── F1@0.50 = 0.0344\n",
            "        ├── Epoch N-1      = 0.0545 (\u001b[31m↘ -0.02\u001b[0m)\n",
            "        └── Best until now = 0.0545 (\u001b[31m↘ -0.02\u001b[0m)\n",
            "\n",
            "===========================================================\n"
          ]
        },
        {
          "output_type": "stream",
          "name": "stderr",
          "text": [
            "Train epoch 5: 100%|██████████| 72/72 [00:57<00:00,  1.26it/s, PPYoloELoss/loss=2.03, PPYoloELoss/loss_cls=0.956, PPYoloELoss/loss_dfl=1.19, PPYoloELoss/loss_iou=0.193, gpu_mem=7.03]\n",
            "Validating epoch 5: 100%|██████████| 8/8 [00:02<00:00,  2.70it/s]\n",
            "[2023-10-18 16:35:43] INFO - base_sg_logger.py - Checkpoint saved in ./checkpoints/csilab-braintumor-detection/RUN_20231018_162746_414674/ckpt_best.pth\n",
            "[2023-10-18 16:35:43] INFO - sg_trainer.py - Best checkpoint overriden: validation mAP@0.50: 0.8841829299926758\n"
          ]
        },
        {
          "output_type": "stream",
          "name": "stdout",
          "text": [
            "===========================================================\n",
            "SUMMARY OF EPOCH 5\n",
            "├── Train\n",
            "│   ├── Ppyoloeloss/loss_cls = 0.956\n",
            "│   │   ├── Epoch N-1      = 0.9881 (\u001b[32m↘ -0.032\u001b[0m)\n",
            "│   │   └── Best until now = 0.9881 (\u001b[32m↘ -0.032\u001b[0m)\n",
            "│   ├── Ppyoloeloss/loss_iou = 0.1934\n",
            "│   │   ├── Epoch N-1      = 0.2037 (\u001b[32m↘ -0.0103\u001b[0m)\n",
            "│   │   └── Best until now = 0.2029 (\u001b[32m↘ -0.0095\u001b[0m)\n",
            "│   ├── Ppyoloeloss/loss_dfl = 1.1894\n",
            "│   │   ├── Epoch N-1      = 1.241  (\u001b[32m↘ -0.0516\u001b[0m)\n",
            "│   │   └── Best until now = 1.193  (\u001b[32m↘ -0.0036\u001b[0m)\n",
            "│   └── Ppyoloeloss/loss = 2.0342\n",
            "│       ├── Epoch N-1      = 2.1179 (\u001b[32m↘ -0.0837\u001b[0m)\n",
            "│       └── Best until now = 2.1179 (\u001b[32m↘ -0.0837\u001b[0m)\n",
            "└── Validation\n",
            "    ├── Ppyoloeloss/loss_cls = 0.911\n",
            "    │   ├── Epoch N-1      = 0.9392 (\u001b[32m↘ -0.0282\u001b[0m)\n",
            "    │   └── Best until now = 0.9392 (\u001b[32m↘ -0.0282\u001b[0m)\n",
            "    ├── Ppyoloeloss/loss_iou = 0.1758\n",
            "    │   ├── Epoch N-1      = 0.1652 (\u001b[31m↗ 0.0106\u001b[0m)\n",
            "    │   └── Best until now = 0.1604 (\u001b[31m↗ 0.0154\u001b[0m)\n",
            "    ├── Ppyoloeloss/loss_dfl = 1.1982\n",
            "    │   ├── Epoch N-1      = 1.0832 (\u001b[31m↗ 0.115\u001b[0m)\n",
            "    │   └── Best until now = 1.0832 (\u001b[31m↗ 0.115\u001b[0m)\n",
            "    ├── Ppyoloeloss/loss = 1.9495\n",
            "    │   ├── Epoch N-1      = 1.8937 (\u001b[31m↗ 0.0558\u001b[0m)\n",
            "    │   └── Best until now = 1.8937 (\u001b[31m↗ 0.0558\u001b[0m)\n",
            "    ├── Precision@0.50 = 0.0278\n",
            "    │   ├── Epoch N-1      = 0.0175 (\u001b[32m↗ 0.0103\u001b[0m)\n",
            "    │   └── Best until now = 0.028  (\u001b[31m↘ -0.0002\u001b[0m)\n",
            "    ├── Recall@0.50 = 0.9677\n",
            "    │   ├── Epoch N-1      = 0.9677 (\u001b[37m= 0.0\u001b[0m)\n",
            "    │   └── Best until now = 0.9677 (\u001b[37m= 0.0\u001b[0m)\n",
            "    ├── Map@0.50 = 0.8842\n",
            "    │   ├── Epoch N-1      = 0.8594 (\u001b[32m↗ 0.0247\u001b[0m)\n",
            "    │   └── Best until now = 0.8594 (\u001b[32m↗ 0.0247\u001b[0m)\n",
            "    └── F1@0.50 = 0.0541\n",
            "        ├── Epoch N-1      = 0.0344 (\u001b[32m↗ 0.0196\u001b[0m)\n",
            "        └── Best until now = 0.0545 (\u001b[31m↘ -0.0004\u001b[0m)\n",
            "\n",
            "===========================================================\n"
          ]
        },
        {
          "output_type": "stream",
          "name": "stderr",
          "text": [
            "Train epoch 6: 100%|██████████| 72/72 [00:54<00:00,  1.31it/s, PPYoloELoss/loss=2, PPYoloELoss/loss_cls=0.919, PPYoloELoss/loss_dfl=1.2, PPYoloELoss/loss_iou=0.194, gpu_mem=7.04]\n",
            "Validating epoch 6: 100%|██████████| 8/8 [00:03<00:00,  2.57it/s]\n",
            "[2023-10-18 16:37:13] INFO - base_sg_logger.py - Checkpoint saved in ./checkpoints/csilab-braintumor-detection/RUN_20231018_162746_414674/ckpt_best.pth\n",
            "[2023-10-18 16:37:13] INFO - sg_trainer.py - Best checkpoint overriden: validation mAP@0.50: 0.8896334767341614\n"
          ]
        },
        {
          "output_type": "stream",
          "name": "stdout",
          "text": [
            "===========================================================\n",
            "SUMMARY OF EPOCH 6\n",
            "├── Train\n",
            "│   ├── Ppyoloeloss/loss_cls = 0.9186\n",
            "│   │   ├── Epoch N-1      = 0.956  (\u001b[32m↘ -0.0375\u001b[0m)\n",
            "│   │   └── Best until now = 0.956  (\u001b[32m↘ -0.0375\u001b[0m)\n",
            "│   ├── Ppyoloeloss/loss_iou = 0.1942\n",
            "│   │   ├── Epoch N-1      = 0.1934 (\u001b[31m↗ 0.0008\u001b[0m)\n",
            "│   │   └── Best until now = 0.1934 (\u001b[31m↗ 0.0008\u001b[0m)\n",
            "│   ├── Ppyoloeloss/loss_dfl = 1.2017\n",
            "│   │   ├── Epoch N-1      = 1.1894 (\u001b[31m↗ 0.0123\u001b[0m)\n",
            "│   │   └── Best until now = 1.1894 (\u001b[31m↗ 0.0123\u001b[0m)\n",
            "│   └── Ppyoloeloss/loss = 2.005\n",
            "│       ├── Epoch N-1      = 2.0342 (\u001b[32m↘ -0.0292\u001b[0m)\n",
            "│       └── Best until now = 2.0342 (\u001b[32m↘ -0.0292\u001b[0m)\n",
            "└── Validation\n",
            "    ├── Ppyoloeloss/loss_cls = 0.8524\n",
            "    │   ├── Epoch N-1      = 0.911  (\u001b[32m↘ -0.0586\u001b[0m)\n",
            "    │   └── Best until now = 0.911  (\u001b[32m↘ -0.0586\u001b[0m)\n",
            "    ├── Ppyoloeloss/loss_iou = 0.1729\n",
            "    │   ├── Epoch N-1      = 0.1758 (\u001b[32m↘ -0.0029\u001b[0m)\n",
            "    │   └── Best until now = 0.1604 (\u001b[31m↗ 0.0125\u001b[0m)\n",
            "    ├── Ppyoloeloss/loss_dfl = 1.1791\n",
            "    │   ├── Epoch N-1      = 1.1982 (\u001b[32m↘ -0.0192\u001b[0m)\n",
            "    │   └── Best until now = 1.0832 (\u001b[31m↗ 0.0958\u001b[0m)\n",
            "    ├── Ppyoloeloss/loss = 1.8741\n",
            "    │   ├── Epoch N-1      = 1.9495 (\u001b[32m↘ -0.0754\u001b[0m)\n",
            "    │   └── Best until now = 1.8937 (\u001b[32m↘ -0.0196\u001b[0m)\n",
            "    ├── Precision@0.50 = 0.0383\n",
            "    │   ├── Epoch N-1      = 0.0278 (\u001b[32m↗ 0.0105\u001b[0m)\n",
            "    │   └── Best until now = 0.028  (\u001b[32m↗ 0.0102\u001b[0m)\n",
            "    ├── Recall@0.50 = 0.9677\n",
            "    │   ├── Epoch N-1      = 0.9677 (\u001b[37m= 0.0\u001b[0m)\n",
            "    │   └── Best until now = 0.9677 (\u001b[37m= 0.0\u001b[0m)\n",
            "    ├── Map@0.50 = 0.8896\n",
            "    │   ├── Epoch N-1      = 0.8842 (\u001b[32m↗ 0.0055\u001b[0m)\n",
            "    │   └── Best until now = 0.8842 (\u001b[32m↗ 0.0055\u001b[0m)\n",
            "    └── F1@0.50 = 0.0736\n",
            "        ├── Epoch N-1      = 0.0541 (\u001b[32m↗ 0.0196\u001b[0m)\n",
            "        └── Best until now = 0.0545 (\u001b[32m↗ 0.0191\u001b[0m)\n",
            "\n",
            "===========================================================\n"
          ]
        },
        {
          "output_type": "stream",
          "name": "stderr",
          "text": [
            "Train epoch 7: 100%|██████████| 72/72 [00:54<00:00,  1.32it/s, PPYoloELoss/loss=2.02, PPYoloELoss/loss_cls=0.924, PPYoloELoss/loss_dfl=1.21, PPYoloELoss/loss_iou=0.196, gpu_mem=7.04]\n",
            "Validating epoch 7: 100%|██████████| 8/8 [00:02<00:00,  2.69it/s]\n",
            "[2023-10-18 16:39:13] INFO - base_sg_logger.py - Checkpoint saved in ./checkpoints/csilab-braintumor-detection/RUN_20231018_162746_414674/ckpt_best.pth\n",
            "[2023-10-18 16:39:13] INFO - sg_trainer.py - Best checkpoint overriden: validation mAP@0.50: 0.9108665585517883\n"
          ]
        },
        {
          "output_type": "stream",
          "name": "stdout",
          "text": [
            "===========================================================\n",
            "SUMMARY OF EPOCH 7\n",
            "├── Train\n",
            "│   ├── Ppyoloeloss/loss_cls = 0.9244\n",
            "│   │   ├── Epoch N-1      = 0.9186 (\u001b[31m↗ 0.0058\u001b[0m)\n",
            "│   │   └── Best until now = 0.9186 (\u001b[31m↗ 0.0058\u001b[0m)\n",
            "│   ├── Ppyoloeloss/loss_iou = 0.1956\n",
            "│   │   ├── Epoch N-1      = 0.1942 (\u001b[31m↗ 0.0014\u001b[0m)\n",
            "│   │   └── Best until now = 0.1934 (\u001b[31m↗ 0.0022\u001b[0m)\n",
            "│   ├── Ppyoloeloss/loss_dfl = 1.2109\n",
            "│   │   ├── Epoch N-1      = 1.2017 (\u001b[31m↗ 0.0092\u001b[0m)\n",
            "│   │   └── Best until now = 1.1894 (\u001b[31m↗ 0.0215\u001b[0m)\n",
            "│   └── Ppyoloeloss/loss = 2.0188\n",
            "│       ├── Epoch N-1      = 2.005  (\u001b[31m↗ 0.0139\u001b[0m)\n",
            "│       └── Best until now = 2.005  (\u001b[31m↗ 0.0139\u001b[0m)\n",
            "└── Validation\n",
            "    ├── Ppyoloeloss/loss_cls = 0.7821\n",
            "    │   ├── Epoch N-1      = 0.8524 (\u001b[32m↘ -0.0703\u001b[0m)\n",
            "    │   └── Best until now = 0.8524 (\u001b[32m↘ -0.0703\u001b[0m)\n",
            "    ├── Ppyoloeloss/loss_iou = 0.1692\n",
            "    │   ├── Epoch N-1      = 0.1729 (\u001b[32m↘ -0.0037\u001b[0m)\n",
            "    │   └── Best until now = 0.1604 (\u001b[31m↗ 0.0088\u001b[0m)\n",
            "    ├── Ppyoloeloss/loss_dfl = 1.1364\n",
            "    │   ├── Epoch N-1      = 1.1791 (\u001b[32m↘ -0.0427\u001b[0m)\n",
            "    │   └── Best until now = 1.0832 (\u001b[31m↗ 0.0531\u001b[0m)\n",
            "    ├── Ppyoloeloss/loss = 1.7731\n",
            "    │   ├── Epoch N-1      = 1.8741 (\u001b[32m↘ -0.101\u001b[0m)\n",
            "    │   └── Best until now = 1.8741 (\u001b[32m↘ -0.101\u001b[0m)\n",
            "    ├── Precision@0.50 = 0.0579\n",
            "    │   ├── Epoch N-1      = 0.0383 (\u001b[32m↗ 0.0196\u001b[0m)\n",
            "    │   └── Best until now = 0.0383 (\u001b[32m↗ 0.0196\u001b[0m)\n",
            "    ├── Recall@0.50 = 0.9677\n",
            "    │   ├── Epoch N-1      = 0.9677 (\u001b[37m= 0.0\u001b[0m)\n",
            "    │   └── Best until now = 0.9677 (\u001b[37m= 0.0\u001b[0m)\n",
            "    ├── Map@0.50 = 0.9109\n",
            "    │   ├── Epoch N-1      = 0.8896 (\u001b[32m↗ 0.0212\u001b[0m)\n",
            "    │   └── Best until now = 0.8896 (\u001b[32m↗ 0.0212\u001b[0m)\n",
            "    └── F1@0.50 = 0.1092\n",
            "        ├── Epoch N-1      = 0.0736 (\u001b[32m↗ 0.0356\u001b[0m)\n",
            "        └── Best until now = 0.0736 (\u001b[32m↗ 0.0356\u001b[0m)\n",
            "\n",
            "===========================================================\n"
          ]
        },
        {
          "output_type": "stream",
          "name": "stderr",
          "text": [
            "Train epoch 8: 100%|██████████| 72/72 [00:55<00:00,  1.29it/s, PPYoloELoss/loss=1.92, PPYoloELoss/loss_cls=0.885, PPYoloELoss/loss_dfl=1.15, PPYoloELoss/loss_iou=0.184, gpu_mem=7.04]\n",
            "Validating epoch 8: 100%|██████████| 8/8 [00:02<00:00,  2.69it/s]\n",
            "[2023-10-18 16:41:38] INFO - base_sg_logger.py - Checkpoint saved in ./checkpoints/csilab-braintumor-detection/RUN_20231018_162746_414674/ckpt_best.pth\n",
            "[2023-10-18 16:41:38] INFO - sg_trainer.py - Best checkpoint overriden: validation mAP@0.50: 0.9185841083526611\n"
          ]
        },
        {
          "output_type": "stream",
          "name": "stdout",
          "text": [
            "===========================================================\n",
            "SUMMARY OF EPOCH 8\n",
            "├── Train\n",
            "│   ├── Ppyoloeloss/loss_cls = 0.8852\n",
            "│   │   ├── Epoch N-1      = 0.9244 (\u001b[32m↘ -0.0393\u001b[0m)\n",
            "│   │   └── Best until now = 0.9186 (\u001b[32m↘ -0.0334\u001b[0m)\n",
            "│   ├── Ppyoloeloss/loss_iou = 0.1841\n",
            "│   │   ├── Epoch N-1      = 0.1956 (\u001b[32m↘ -0.0114\u001b[0m)\n",
            "│   │   └── Best until now = 0.1934 (\u001b[32m↘ -0.0092\u001b[0m)\n",
            "│   ├── Ppyoloeloss/loss_dfl = 1.1525\n",
            "│   │   ├── Epoch N-1      = 1.2109 (\u001b[32m↘ -0.0584\u001b[0m)\n",
            "│   │   └── Best until now = 1.1894 (\u001b[32m↘ -0.0369\u001b[0m)\n",
            "│   └── Ppyoloeloss/loss = 1.9217\n",
            "│       ├── Epoch N-1      = 2.0188 (\u001b[32m↘ -0.0971\u001b[0m)\n",
            "│       └── Best until now = 2.005  (\u001b[32m↘ -0.0832\u001b[0m)\n",
            "└── Validation\n",
            "    ├── Ppyoloeloss/loss_cls = 0.7681\n",
            "    │   ├── Epoch N-1      = 0.7821 (\u001b[32m↘ -0.014\u001b[0m)\n",
            "    │   └── Best until now = 0.7821 (\u001b[32m↘ -0.014\u001b[0m)\n",
            "    ├── Ppyoloeloss/loss_iou = 0.1705\n",
            "    │   ├── Epoch N-1      = 0.1692 (\u001b[31m↗ 0.0013\u001b[0m)\n",
            "    │   └── Best until now = 0.1604 (\u001b[31m↗ 0.0101\u001b[0m)\n",
            "    ├── Ppyoloeloss/loss_dfl = 1.1726\n",
            "    │   ├── Epoch N-1      = 1.1364 (\u001b[31m↗ 0.0362\u001b[0m)\n",
            "    │   └── Best until now = 1.0832 (\u001b[31m↗ 0.0893\u001b[0m)\n",
            "    ├── Ppyoloeloss/loss = 1.7805\n",
            "    │   ├── Epoch N-1      = 1.7731 (\u001b[31m↗ 0.0074\u001b[0m)\n",
            "    │   └── Best until now = 1.7731 (\u001b[31m↗ 0.0074\u001b[0m)\n",
            "    ├── Precision@0.50 = 0.0662\n",
            "    │   ├── Epoch N-1      = 0.0579 (\u001b[32m↗ 0.0084\u001b[0m)\n",
            "    │   └── Best until now = 0.0579 (\u001b[32m↗ 0.0084\u001b[0m)\n",
            "    ├── Recall@0.50 = 0.9677\n",
            "    │   ├── Epoch N-1      = 0.9677 (\u001b[37m= 0.0\u001b[0m)\n",
            "    │   └── Best until now = 0.9677 (\u001b[37m= 0.0\u001b[0m)\n",
            "    ├── Map@0.50 = 0.9186\n",
            "    │   ├── Epoch N-1      = 0.9109 (\u001b[32m↗ 0.0077\u001b[0m)\n",
            "    │   └── Best until now = 0.9109 (\u001b[32m↗ 0.0077\u001b[0m)\n",
            "    └── F1@0.50 = 0.124\n",
            "        ├── Epoch N-1      = 0.1092 (\u001b[32m↗ 0.0148\u001b[0m)\n",
            "        └── Best until now = 0.1092 (\u001b[32m↗ 0.0148\u001b[0m)\n",
            "\n",
            "===========================================================\n"
          ]
        },
        {
          "output_type": "stream",
          "name": "stderr",
          "text": [
            "Train epoch 9: 100%|██████████| 72/72 [00:56<00:00,  1.27it/s, PPYoloELoss/loss=1.93, PPYoloELoss/loss_cls=0.879, PPYoloELoss/loss_dfl=1.16, PPYoloELoss/loss_iou=0.188, gpu_mem=7.03]\n",
            "Validating epoch 9: 100%|██████████| 8/8 [00:02<00:00,  2.69it/s]\n",
            "[2023-10-18 16:44:34] INFO - base_sg_logger.py - Checkpoint saved in ./checkpoints/csilab-braintumor-detection/RUN_20231018_162746_414674/ckpt_best.pth\n",
            "[2023-10-18 16:44:34] INFO - sg_trainer.py - Best checkpoint overriden: validation mAP@0.50: 0.923082172870636\n"
          ]
        },
        {
          "output_type": "stream",
          "name": "stdout",
          "text": [
            "===========================================================\n",
            "SUMMARY OF EPOCH 9\n",
            "├── Train\n",
            "│   ├── Ppyoloeloss/loss_cls = 0.8788\n",
            "│   │   ├── Epoch N-1      = 0.8852 (\u001b[32m↘ -0.0063\u001b[0m)\n",
            "│   │   └── Best until now = 0.8852 (\u001b[32m↘ -0.0063\u001b[0m)\n",
            "│   ├── Ppyoloeloss/loss_iou = 0.1878\n",
            "│   │   ├── Epoch N-1      = 0.1841 (\u001b[31m↗ 0.0036\u001b[0m)\n",
            "│   │   └── Best until now = 0.1841 (\u001b[31m↗ 0.0036\u001b[0m)\n",
            "│   ├── Ppyoloeloss/loss_dfl = 1.1584\n",
            "│   │   ├── Epoch N-1      = 1.1525 (\u001b[31m↗ 0.0059\u001b[0m)\n",
            "│   │   └── Best until now = 1.1525 (\u001b[31m↗ 0.0059\u001b[0m)\n",
            "│   └── Ppyoloeloss/loss = 1.9275\n",
            "│       ├── Epoch N-1      = 1.9217 (\u001b[31m↗ 0.0057\u001b[0m)\n",
            "│       └── Best until now = 1.9217 (\u001b[31m↗ 0.0057\u001b[0m)\n",
            "└── Validation\n",
            "    ├── Ppyoloeloss/loss_cls = 0.7569\n",
            "    │   ├── Epoch N-1      = 0.7681 (\u001b[32m↘ -0.0112\u001b[0m)\n",
            "    │   └── Best until now = 0.7681 (\u001b[32m↘ -0.0112\u001b[0m)\n",
            "    ├── Ppyoloeloss/loss_iou = 0.1624\n",
            "    │   ├── Epoch N-1      = 0.1705 (\u001b[32m↘ -0.0081\u001b[0m)\n",
            "    │   └── Best until now = 0.1604 (\u001b[31m↗ 0.002\u001b[0m)\n",
            "    ├── Ppyoloeloss/loss_dfl = 1.1228\n",
            "    │   ├── Epoch N-1      = 1.1726 (\u001b[32m↘ -0.0498\u001b[0m)\n",
            "    │   └── Best until now = 1.0832 (\u001b[31m↗ 0.0396\u001b[0m)\n",
            "    ├── Ppyoloeloss/loss = 1.7243\n",
            "    │   ├── Epoch N-1      = 1.7805 (\u001b[32m↘ -0.0563\u001b[0m)\n",
            "    │   └── Best until now = 1.7731 (\u001b[32m↘ -0.0489\u001b[0m)\n",
            "    ├── Precision@0.50 = 0.0541\n",
            "    │   ├── Epoch N-1      = 0.0662 (\u001b[31m↘ -0.0121\u001b[0m)\n",
            "    │   └── Best until now = 0.0662 (\u001b[31m↘ -0.0121\u001b[0m)\n",
            "    ├── Recall@0.50 = 0.9677\n",
            "    │   ├── Epoch N-1      = 0.9677 (\u001b[37m= 0.0\u001b[0m)\n",
            "    │   └── Best until now = 0.9677 (\u001b[37m= 0.0\u001b[0m)\n",
            "    ├── Map@0.50 = 0.9231\n",
            "    │   ├── Epoch N-1      = 0.9186 (\u001b[32m↗ 0.0045\u001b[0m)\n",
            "    │   └── Best until now = 0.9186 (\u001b[32m↗ 0.0045\u001b[0m)\n",
            "    └── F1@0.50 = 0.1025\n",
            "        ├── Epoch N-1      = 0.124  (\u001b[31m↘ -0.0215\u001b[0m)\n",
            "        └── Best until now = 0.124  (\u001b[31m↘ -0.0215\u001b[0m)\n",
            "\n",
            "===========================================================\n"
          ]
        },
        {
          "output_type": "stream",
          "name": "stderr",
          "text": [
            "Train epoch 10: 100%|██████████| 72/72 [00:54<00:00,  1.32it/s, PPYoloELoss/loss=1.88, PPYoloELoss/loss_cls=0.859, PPYoloELoss/loss_dfl=1.13, PPYoloELoss/loss_iou=0.181, gpu_mem=7.04]\n",
            "Validating epoch 10: 100%|██████████| 8/8 [00:02<00:00,  2.70it/s]\n"
          ]
        },
        {
          "output_type": "stream",
          "name": "stdout",
          "text": [
            "===========================================================\n",
            "SUMMARY OF EPOCH 10\n",
            "├── Train\n",
            "│   ├── Ppyoloeloss/loss_cls = 0.8589\n",
            "│   │   ├── Epoch N-1      = 0.8788 (\u001b[32m↘ -0.0199\u001b[0m)\n",
            "│   │   └── Best until now = 0.8788 (\u001b[32m↘ -0.0199\u001b[0m)\n",
            "│   ├── Ppyoloeloss/loss_iou = 0.1813\n",
            "│   │   ├── Epoch N-1      = 0.1878 (\u001b[32m↘ -0.0065\u001b[0m)\n",
            "│   │   └── Best until now = 0.1841 (\u001b[32m↘ -0.0029\u001b[0m)\n",
            "│   ├── Ppyoloeloss/loss_dfl = 1.1326\n",
            "│   │   ├── Epoch N-1      = 1.1584 (\u001b[32m↘ -0.0257\u001b[0m)\n",
            "│   │   └── Best until now = 1.1525 (\u001b[32m↘ -0.0198\u001b[0m)\n",
            "│   └── Ppyoloeloss/loss = 1.8784\n",
            "│       ├── Epoch N-1      = 1.9275 (\u001b[32m↘ -0.0491\u001b[0m)\n",
            "│       └── Best until now = 1.9217 (\u001b[32m↘ -0.0434\u001b[0m)\n",
            "└── Validation\n",
            "    ├── Ppyoloeloss/loss_cls = 0.7223\n",
            "    │   ├── Epoch N-1      = 0.7569 (\u001b[32m↘ -0.0346\u001b[0m)\n",
            "    │   └── Best until now = 0.7569 (\u001b[32m↘ -0.0346\u001b[0m)\n",
            "    ├── Ppyoloeloss/loss_iou = 0.1573\n",
            "    │   ├── Epoch N-1      = 0.1624 (\u001b[32m↘ -0.0051\u001b[0m)\n",
            "    │   └── Best until now = 0.1604 (\u001b[32m↘ -0.0031\u001b[0m)\n",
            "    ├── Ppyoloeloss/loss_dfl = 1.1048\n",
            "    │   ├── Epoch N-1      = 1.1228 (\u001b[32m↘ -0.018\u001b[0m)\n",
            "    │   └── Best until now = 1.0832 (\u001b[31m↗ 0.0216\u001b[0m)\n",
            "    ├── Ppyoloeloss/loss = 1.6679\n",
            "    │   ├── Epoch N-1      = 1.7243 (\u001b[32m↘ -0.0564\u001b[0m)\n",
            "    │   └── Best until now = 1.7243 (\u001b[32m↘ -0.0564\u001b[0m)\n",
            "    ├── Precision@0.50 = 0.0837\n",
            "    │   ├── Epoch N-1      = 0.0541 (\u001b[32m↗ 0.0296\u001b[0m)\n",
            "    │   └── Best until now = 0.0662 (\u001b[32m↗ 0.0175\u001b[0m)\n",
            "    ├── Recall@0.50 = 0.9677\n",
            "    │   ├── Epoch N-1      = 0.9677 (\u001b[37m= 0.0\u001b[0m)\n",
            "    │   └── Best until now = 0.9677 (\u001b[37m= 0.0\u001b[0m)\n",
            "    ├── Map@0.50 = 0.9225\n",
            "    │   ├── Epoch N-1      = 0.9231 (\u001b[31m↘ -0.0005\u001b[0m)\n",
            "    │   └── Best until now = 0.9231 (\u001b[31m↘ -0.0005\u001b[0m)\n",
            "    └── F1@0.50 = 0.154\n",
            "        ├── Epoch N-1      = 0.1025 (\u001b[32m↗ 0.0516\u001b[0m)\n",
            "        └── Best until now = 0.124  (\u001b[32m↗ 0.0301\u001b[0m)\n",
            "\n",
            "===========================================================\n"
          ]
        },
        {
          "output_type": "stream",
          "name": "stderr",
          "text": [
            "Train epoch 11: 100%|██████████| 72/72 [00:55<00:00,  1.30it/s, PPYoloELoss/loss=1.85, PPYoloELoss/loss_cls=0.836, PPYoloELoss/loss_dfl=1.13, PPYoloELoss/loss_iou=0.18, gpu_mem=7.03]\n",
            "Validating epoch 11: 100%|██████████| 8/8 [00:03<00:00,  2.66it/s]\n",
            "[2023-10-18 16:50:27] INFO - base_sg_logger.py - Checkpoint saved in ./checkpoints/csilab-braintumor-detection/RUN_20231018_162746_414674/ckpt_best.pth\n",
            "[2023-10-18 16:50:27] INFO - sg_trainer.py - Best checkpoint overriden: validation mAP@0.50: 0.9378922581672668\n"
          ]
        },
        {
          "output_type": "stream",
          "name": "stdout",
          "text": [
            "===========================================================\n",
            "SUMMARY OF EPOCH 11\n",
            "├── Train\n",
            "│   ├── Ppyoloeloss/loss_cls = 0.8365\n",
            "│   │   ├── Epoch N-1      = 0.8589 (\u001b[32m↘ -0.0224\u001b[0m)\n",
            "│   │   └── Best until now = 0.8589 (\u001b[32m↘ -0.0224\u001b[0m)\n",
            "│   ├── Ppyoloeloss/loss_iou = 0.1799\n",
            "│   │   ├── Epoch N-1      = 0.1813 (\u001b[32m↘ -0.0013\u001b[0m)\n",
            "│   │   └── Best until now = 0.1813 (\u001b[32m↘ -0.0013\u001b[0m)\n",
            "│   ├── Ppyoloeloss/loss_dfl = 1.1332\n",
            "│   │   ├── Epoch N-1      = 1.1326 (\u001b[31m↗ 0.0006\u001b[0m)\n",
            "│   │   └── Best until now = 1.1326 (\u001b[31m↗ 0.0006\u001b[0m)\n",
            "│   └── Ppyoloeloss/loss = 1.8529\n",
            "│       ├── Epoch N-1      = 1.8784 (\u001b[32m↘ -0.0255\u001b[0m)\n",
            "│       └── Best until now = 1.8784 (\u001b[32m↘ -0.0255\u001b[0m)\n",
            "└── Validation\n",
            "    ├── Ppyoloeloss/loss_cls = 0.7058\n",
            "    │   ├── Epoch N-1      = 0.7223 (\u001b[32m↘ -0.0165\u001b[0m)\n",
            "    │   └── Best until now = 0.7223 (\u001b[32m↘ -0.0165\u001b[0m)\n",
            "    ├── Ppyoloeloss/loss_iou = 0.1637\n",
            "    │   ├── Epoch N-1      = 0.1573 (\u001b[31m↗ 0.0064\u001b[0m)\n",
            "    │   └── Best until now = 0.1573 (\u001b[31m↗ 0.0064\u001b[0m)\n",
            "    ├── Ppyoloeloss/loss_dfl = 1.1227\n",
            "    │   ├── Epoch N-1      = 1.1048 (\u001b[31m↗ 0.0179\u001b[0m)\n",
            "    │   └── Best until now = 1.0832 (\u001b[31m↗ 0.0395\u001b[0m)\n",
            "    ├── Ppyoloeloss/loss = 1.6764\n",
            "    │   ├── Epoch N-1      = 1.6679 (\u001b[31m↗ 0.0085\u001b[0m)\n",
            "    │   └── Best until now = 1.6679 (\u001b[31m↗ 0.0085\u001b[0m)\n",
            "    ├── Precision@0.50 = 0.1085\n",
            "    │   ├── Epoch N-1      = 0.0837 (\u001b[32m↗ 0.0248\u001b[0m)\n",
            "    │   └── Best until now = 0.0837 (\u001b[32m↗ 0.0248\u001b[0m)\n",
            "    ├── Recall@0.50 = 0.9677\n",
            "    │   ├── Epoch N-1      = 0.9677 (\u001b[37m= 0.0\u001b[0m)\n",
            "    │   └── Best until now = 0.9677 (\u001b[37m= 0.0\u001b[0m)\n",
            "    ├── Map@0.50 = 0.9379\n",
            "    │   ├── Epoch N-1      = 0.9225 (\u001b[32m↗ 0.0153\u001b[0m)\n",
            "    │   └── Best until now = 0.9231 (\u001b[32m↗ 0.0148\u001b[0m)\n",
            "    └── F1@0.50 = 0.1951\n",
            "        ├── Epoch N-1      = 0.154  (\u001b[32m↗ 0.0411\u001b[0m)\n",
            "        └── Best until now = 0.154  (\u001b[32m↗ 0.0411\u001b[0m)\n",
            "\n",
            "===========================================================\n"
          ]
        },
        {
          "output_type": "stream",
          "name": "stderr",
          "text": [
            "Train epoch 12: 100%|██████████| 72/72 [00:57<00:00,  1.26it/s, PPYoloELoss/loss=1.83, PPYoloELoss/loss_cls=0.835, PPYoloELoss/loss_dfl=1.12, PPYoloELoss/loss_iou=0.176, gpu_mem=7.04]\n",
            "Validating epoch 12: 100%|██████████| 8/8 [00:02<00:00,  2.68it/s]\n",
            "[2023-10-18 16:52:45] INFO - base_sg_logger.py - Checkpoint saved in ./checkpoints/csilab-braintumor-detection/RUN_20231018_162746_414674/ckpt_best.pth\n",
            "[2023-10-18 16:52:45] INFO - sg_trainer.py - Best checkpoint overriden: validation mAP@0.50: 0.9413454532623291\n"
          ]
        },
        {
          "output_type": "stream",
          "name": "stdout",
          "text": [
            "===========================================================\n",
            "SUMMARY OF EPOCH 12\n",
            "├── Train\n",
            "│   ├── Ppyoloeloss/loss_cls = 0.8352\n",
            "│   │   ├── Epoch N-1      = 0.8365 (\u001b[32m↘ -0.0013\u001b[0m)\n",
            "│   │   └── Best until now = 0.8365 (\u001b[32m↘ -0.0013\u001b[0m)\n",
            "│   ├── Ppyoloeloss/loss_iou = 0.1761\n",
            "│   │   ├── Epoch N-1      = 0.1799 (\u001b[32m↘ -0.0038\u001b[0m)\n",
            "│   │   └── Best until now = 0.1799 (\u001b[32m↘ -0.0038\u001b[0m)\n",
            "│   ├── Ppyoloeloss/loss_dfl = 1.115\n",
            "│   │   ├── Epoch N-1      = 1.1332 (\u001b[32m↘ -0.0182\u001b[0m)\n",
            "│   │   └── Best until now = 1.1326 (\u001b[32m↘ -0.0176\u001b[0m)\n",
            "│   └── Ppyoloeloss/loss = 1.8329\n",
            "│       ├── Epoch N-1      = 1.8529 (\u001b[32m↘ -0.02\u001b[0m)\n",
            "│       └── Best until now = 1.8529 (\u001b[32m↘ -0.02\u001b[0m)\n",
            "└── Validation\n",
            "    ├── Ppyoloeloss/loss_cls = 0.7277\n",
            "    │   ├── Epoch N-1      = 0.7058 (\u001b[31m↗ 0.0219\u001b[0m)\n",
            "    │   └── Best until now = 0.7058 (\u001b[31m↗ 0.0219\u001b[0m)\n",
            "    ├── Ppyoloeloss/loss_iou = 0.1623\n",
            "    │   ├── Epoch N-1      = 0.1637 (\u001b[32m↘ -0.0014\u001b[0m)\n",
            "    │   └── Best until now = 0.1573 (\u001b[31m↗ 0.005\u001b[0m)\n",
            "    ├── Ppyoloeloss/loss_dfl = 1.1153\n",
            "    │   ├── Epoch N-1      = 1.1227 (\u001b[32m↘ -0.0074\u001b[0m)\n",
            "    │   └── Best until now = 1.0832 (\u001b[31m↗ 0.0321\u001b[0m)\n",
            "    ├── Ppyoloeloss/loss = 1.6911\n",
            "    │   ├── Epoch N-1      = 1.6764 (\u001b[31m↗ 0.0147\u001b[0m)\n",
            "    │   └── Best until now = 1.6679 (\u001b[31m↗ 0.0232\u001b[0m)\n",
            "    ├── Precision@0.50 = 0.0894\n",
            "    │   ├── Epoch N-1      = 0.1085 (\u001b[31m↘ -0.0191\u001b[0m)\n",
            "    │   └── Best until now = 0.1085 (\u001b[31m↘ -0.0191\u001b[0m)\n",
            "    ├── Recall@0.50 = 0.9677\n",
            "    │   ├── Epoch N-1      = 0.9677 (\u001b[37m= 0.0\u001b[0m)\n",
            "    │   └── Best until now = 0.9677 (\u001b[37m= 0.0\u001b[0m)\n",
            "    ├── Map@0.50 = 0.9413\n",
            "    │   ├── Epoch N-1      = 0.9379 (\u001b[32m↗ 0.0035\u001b[0m)\n",
            "    │   └── Best until now = 0.9379 (\u001b[32m↗ 0.0035\u001b[0m)\n",
            "    └── F1@0.50 = 0.1637\n",
            "        ├── Epoch N-1      = 0.1951 (\u001b[31m↘ -0.0314\u001b[0m)\n",
            "        └── Best until now = 0.1951 (\u001b[31m↘ -0.0314\u001b[0m)\n",
            "\n",
            "===========================================================\n"
          ]
        },
        {
          "output_type": "stream",
          "name": "stderr",
          "text": [
            "Train epoch 13: 100%|██████████| 72/72 [00:54<00:00,  1.32it/s, PPYoloELoss/loss=1.79, PPYoloELoss/loss_cls=0.805, PPYoloELoss/loss_dfl=1.1, PPYoloELoss/loss_iou=0.172, gpu_mem=7.04]\n",
            "Validating epoch 13: 100%|██████████| 8/8 [00:03<00:00,  2.35it/s]\n"
          ]
        },
        {
          "output_type": "stream",
          "name": "stdout",
          "text": [
            "===========================================================\n",
            "SUMMARY OF EPOCH 13\n",
            "├── Train\n",
            "│   ├── Ppyoloeloss/loss_cls = 0.8055\n",
            "│   │   ├── Epoch N-1      = 0.8352 (\u001b[32m↘ -0.0297\u001b[0m)\n",
            "│   │   └── Best until now = 0.8352 (\u001b[32m↘ -0.0297\u001b[0m)\n",
            "│   ├── Ppyoloeloss/loss_iou = 0.1724\n",
            "│   │   ├── Epoch N-1      = 0.1761 (\u001b[32m↘ -0.0037\u001b[0m)\n",
            "│   │   └── Best until now = 0.1761 (\u001b[32m↘ -0.0037\u001b[0m)\n",
            "│   ├── Ppyoloeloss/loss_dfl = 1.1013\n",
            "│   │   ├── Epoch N-1      = 1.115  (\u001b[32m↘ -0.0137\u001b[0m)\n",
            "│   │   └── Best until now = 1.115  (\u001b[32m↘ -0.0137\u001b[0m)\n",
            "│   └── Ppyoloeloss/loss = 1.7871\n",
            "│       ├── Epoch N-1      = 1.8329 (\u001b[32m↘ -0.0459\u001b[0m)\n",
            "│       └── Best until now = 1.8329 (\u001b[32m↘ -0.0459\u001b[0m)\n",
            "└── Validation\n",
            "    ├── Ppyoloeloss/loss_cls = 0.7191\n",
            "    │   ├── Epoch N-1      = 0.7277 (\u001b[32m↘ -0.0086\u001b[0m)\n",
            "    │   └── Best until now = 0.7058 (\u001b[31m↗ 0.0133\u001b[0m)\n",
            "    ├── Ppyoloeloss/loss_iou = 0.1627\n",
            "    │   ├── Epoch N-1      = 0.1623 (\u001b[31m↗ 0.0004\u001b[0m)\n",
            "    │   └── Best until now = 0.1573 (\u001b[31m↗ 0.0054\u001b[0m)\n",
            "    ├── Ppyoloeloss/loss_dfl = 1.0981\n",
            "    │   ├── Epoch N-1      = 1.1153 (\u001b[32m↘ -0.0172\u001b[0m)\n",
            "    │   └── Best until now = 1.0832 (\u001b[31m↗ 0.0149\u001b[0m)\n",
            "    ├── Ppyoloeloss/loss = 1.6749\n",
            "    │   ├── Epoch N-1      = 1.6911 (\u001b[32m↘ -0.0162\u001b[0m)\n",
            "    │   └── Best until now = 1.6679 (\u001b[31m↗ 0.007\u001b[0m)\n",
            "    ├── Precision@0.50 = 0.1351\n",
            "    │   ├── Epoch N-1      = 0.0894 (\u001b[32m↗ 0.0457\u001b[0m)\n",
            "    │   └── Best until now = 0.1085 (\u001b[32m↗ 0.0266\u001b[0m)\n",
            "    ├── Recall@0.50 = 0.9677\n",
            "    │   ├── Epoch N-1      = 0.9677 (\u001b[37m= 0.0\u001b[0m)\n",
            "    │   └── Best until now = 0.9677 (\u001b[37m= 0.0\u001b[0m)\n",
            "    ├── Map@0.50 = 0.9261\n",
            "    │   ├── Epoch N-1      = 0.9413 (\u001b[31m↘ -0.0153\u001b[0m)\n",
            "    │   └── Best until now = 0.9413 (\u001b[31m↘ -0.0153\u001b[0m)\n",
            "    └── F1@0.50 = 0.2372\n",
            "        ├── Epoch N-1      = 0.1637 (\u001b[32m↗ 0.0734\u001b[0m)\n",
            "        └── Best until now = 0.1951 (\u001b[32m↗ 0.042\u001b[0m)\n",
            "\n",
            "===========================================================\n"
          ]
        },
        {
          "output_type": "stream",
          "name": "stderr",
          "text": [
            "Train epoch 14: 100%|██████████| 72/72 [00:55<00:00,  1.31it/s, PPYoloELoss/loss=1.77, PPYoloELoss/loss_cls=0.802, PPYoloELoss/loss_dfl=1.09, PPYoloELoss/loss_iou=0.171, gpu_mem=7.03]\n",
            "Validating epoch 14: 100%|██████████| 8/8 [00:02<00:00,  2.68it/s]\n"
          ]
        },
        {
          "output_type": "stream",
          "name": "stdout",
          "text": [
            "===========================================================\n",
            "SUMMARY OF EPOCH 14\n",
            "├── Train\n",
            "│   ├── Ppyoloeloss/loss_cls = 0.8016\n",
            "│   │   ├── Epoch N-1      = 0.8055 (\u001b[32m↘ -0.0039\u001b[0m)\n",
            "│   │   └── Best until now = 0.8055 (\u001b[32m↘ -0.0039\u001b[0m)\n",
            "│   ├── Ppyoloeloss/loss_iou = 0.171\n",
            "│   │   ├── Epoch N-1      = 0.1724 (\u001b[32m↘ -0.0014\u001b[0m)\n",
            "│   │   └── Best until now = 0.1724 (\u001b[32m↘ -0.0014\u001b[0m)\n",
            "│   ├── Ppyoloeloss/loss_dfl = 1.0907\n",
            "│   │   ├── Epoch N-1      = 1.1013 (\u001b[32m↘ -0.0106\u001b[0m)\n",
            "│   │   └── Best until now = 1.1013 (\u001b[32m↘ -0.0106\u001b[0m)\n",
            "│   └── Ppyoloeloss/loss = 1.7745\n",
            "│       ├── Epoch N-1      = 1.7871 (\u001b[32m↘ -0.0126\u001b[0m)\n",
            "│       └── Best until now = 1.7871 (\u001b[32m↘ -0.0126\u001b[0m)\n",
            "└── Validation\n",
            "    ├── Ppyoloeloss/loss_cls = 0.6833\n",
            "    │   ├── Epoch N-1      = 0.7191 (\u001b[32m↘ -0.0359\u001b[0m)\n",
            "    │   └── Best until now = 0.7058 (\u001b[32m↘ -0.0226\u001b[0m)\n",
            "    ├── Ppyoloeloss/loss_iou = 0.1677\n",
            "    │   ├── Epoch N-1      = 0.1627 (\u001b[31m↗ 0.005\u001b[0m)\n",
            "    │   └── Best until now = 0.1573 (\u001b[31m↗ 0.0104\u001b[0m)\n",
            "    ├── Ppyoloeloss/loss_dfl = 1.1367\n",
            "    │   ├── Epoch N-1      = 1.0981 (\u001b[31m↗ 0.0385\u001b[0m)\n",
            "    │   └── Best until now = 1.0832 (\u001b[31m↗ 0.0534\u001b[0m)\n",
            "    ├── Ppyoloeloss/loss = 1.6709\n",
            "    │   ├── Epoch N-1      = 1.6749 (\u001b[32m↘ -0.004\u001b[0m)\n",
            "    │   └── Best until now = 1.6679 (\u001b[31m↗ 0.003\u001b[0m)\n",
            "    ├── Precision@0.50 = 0.1379\n",
            "    │   ├── Epoch N-1      = 0.1351 (\u001b[32m↗ 0.0028\u001b[0m)\n",
            "    │   └── Best until now = 0.1351 (\u001b[32m↗ 0.0028\u001b[0m)\n",
            "    ├── Recall@0.50 = 0.9677\n",
            "    │   ├── Epoch N-1      = 0.9677 (\u001b[37m= 0.0\u001b[0m)\n",
            "    │   └── Best until now = 0.9677 (\u001b[37m= 0.0\u001b[0m)\n",
            "    ├── Map@0.50 = 0.9409\n",
            "    │   ├── Epoch N-1      = 0.9261 (\u001b[32m↗ 0.0148\u001b[0m)\n",
            "    │   └── Best until now = 0.9413 (\u001b[31m↘ -0.0005\u001b[0m)\n",
            "    └── F1@0.50 = 0.2414\n",
            "        ├── Epoch N-1      = 0.2372 (\u001b[32m↗ 0.0043\u001b[0m)\n",
            "        └── Best until now = 0.2372 (\u001b[32m↗ 0.0043\u001b[0m)\n",
            "\n",
            "===========================================================\n"
          ]
        },
        {
          "output_type": "stream",
          "name": "stderr",
          "text": [
            "[2023-10-18 16:59:27] INFO - sg_trainer.py - RUNNING ADDITIONAL TEST ON THE AVERAGED MODEL...\n",
            "Validating epoch 15: 100%|██████████| 8/8 [00:03<00:00,  2.54it/s]\n"
          ]
        }
      ],
      "source": [
        "trainer.train(\n",
        "    model=model,\n",
        "    training_params=train_params,\n",
        "    train_loader=train_data,\n",
        "    valid_loader=val_data\n",
        ")"
      ]
    },
    {
      "cell_type": "code",
      "execution_count": 10,
      "id": "6e89fc22",
      "metadata": {
        "colab": {
          "base_uri": "https://localhost:8080/"
        },
        "id": "6e89fc22",
        "outputId": "31bdeb08-a3e7-4127-deff-d652aa7bf9ad"
      },
      "outputs": [
        {
          "output_type": "stream",
          "name": "stderr",
          "text": [
            "[2023-10-19 13:52:07] INFO - checkpoint_utils.py - Successfully loaded model weights from /content/drive/MyDrive/checkpoints/csilab-braintumor-detection/RUN_20231018_162746_414674/average_model.pth EMA checkpoint.\n"
          ]
        }
      ],
      "source": [
        "best_model = models.get(\n",
        "    MODEL_ARCH,\n",
        "    num_classes=len(dataset_params['classes']),\n",
        "    checkpoint_path=\"/content/drive/MyDrive/checkpoints/csilab-braintumor-detection/RUN_20231018_162746_414674/average_model.pth\"\n",
        ").to(DEVICE)\n"
      ]
    },
    {
      "cell_type": "code",
      "execution_count": 11,
      "id": "hX0bMXz0H_mk",
      "metadata": {
        "colab": {
          "base_uri": "https://localhost:8080/"
        },
        "id": "hX0bMXz0H_mk",
        "outputId": "78630aa4-0257-482b-c385-3c026bfbc7db"
      },
      "outputs": [
        {
          "output_type": "stream",
          "name": "stderr",
          "text": [
            "Testing:  75%|███████▌  | 3/4 [00:11<00:02,  2.58s/it]"
          ]
        },
        {
          "output_type": "execute_result",
          "data": {
            "text/plain": [
              "{'Precision@0.50': 0.15075376629829407,\n",
              " 'Recall@0.50': 1.0,\n",
              " 'mAP@0.50': 0.9390162825584412,\n",
              " 'F1@0.50': 0.2620087265968323}"
            ]
          },
          "metadata": {},
          "execution_count": 11
        },
        {
          "output_type": "stream",
          "name": "stderr",
          "text": [
            "\rTesting: 100%|██████████| 4/4 [00:11<00:00,  1.66s/it]\rTesting: 100%|██████████| 4/4 [00:11<00:00,  2.85s/it]\n"
          ]
        }
      ],
      "source": [
        "trainer.test(\n",
        "    model=best_model,\n",
        "    test_loader=test_data,\n",
        "    test_metrics_list=DetectionMetrics_050(\n",
        "        score_thres=0.1,\n",
        "        top_k_predictions=300,\n",
        "        num_cls=len(dataset_params['classes']),\n",
        "        normalize_targets=True,\n",
        "        post_prediction_callback=PPYoloEPostPredictionCallback(\n",
        "            score_threshold=0.01,\n",
        "            nms_top_k=1000,\n",
        "            max_predictions=300,\n",
        "            nms_threshold=0.7\n",
        "        )\n",
        "    )\n",
        ")"
      ]
    },
    {
      "cell_type": "code",
      "execution_count": 12,
      "id": "63f1045c",
      "metadata": {
        "id": "63f1045c"
      },
      "outputs": [],
      "source": [
        "import supervision as sv\n",
        "\n",
        "ds = sv.DetectionDataset.from_yolo(\n",
        "    images_directory_path=f\"{dataset.location}/test/images\",\n",
        "    annotations_directory_path=f\"{dataset.location}/test/labels\",\n",
        "    data_yaml_path=f\"{dataset.location}/data.yaml\",\n",
        "    force_masks=False\n",
        ")\n"
      ]
    },
    {
      "cell_type": "code",
      "execution_count": 31,
      "id": "89e4e1b7",
      "metadata": {
        "colab": {
          "base_uri": "https://localhost:8080/"
        },
        "id": "89e4e1b7",
        "outputId": "bed897ce-533a-4a44-cfe9-6fda097d9d58"
      },
      "outputs": [
        {
          "output_type": "stream",
          "name": "stderr",
          "text": [
            "[2023-10-19 14:09:20] INFO - pipelines.py - Fusing some of the model's layers. If this takes too much memory, you can deactivate it by setting `fuse_model=False`\n",
            "[2023-10-19 14:09:21] INFO - pipelines.py - Fusing some of the model's layers. If this takes too much memory, you can deactivate it by setting `fuse_model=False`\n"
          ]
        },
        {
          "output_type": "stream",
          "name": "stdout",
          "text": [
            "/content/CsiLab-BrainTumor-Detection-2/test/images/40_jpg.rf.736ee6792123cd61290057daabf1cfc6.jpg\n"
          ]
        },
        {
          "output_type": "stream",
          "name": "stderr",
          "text": [
            "[2023-10-19 14:09:21] INFO - pipelines.py - Fusing some of the model's layers. If this takes too much memory, you can deactivate it by setting `fuse_model=False`\n"
          ]
        },
        {
          "output_type": "stream",
          "name": "stdout",
          "text": [
            "/content/CsiLab-BrainTumor-Detection-2/test/images/Te-me_0185_jpg.rf.e2b9c4c2cea69421cec16d4517cd00cb.jpg\n"
          ]
        },
        {
          "output_type": "stream",
          "name": "stderr",
          "text": [
            "[2023-10-19 14:09:21] INFO - pipelines.py - Fusing some of the model's layers. If this takes too much memory, you can deactivate it by setting `fuse_model=False`\n"
          ]
        },
        {
          "output_type": "stream",
          "name": "stdout",
          "text": [
            "/content/CsiLab-BrainTumor-Detection-2/test/images/66_jpg.rf.804da7c3830217be212507157665affa.jpg\n"
          ]
        },
        {
          "output_type": "stream",
          "name": "stderr",
          "text": [
            "[2023-10-19 14:09:21] INFO - pipelines.py - Fusing some of the model's layers. If this takes too much memory, you can deactivate it by setting `fuse_model=False`\n"
          ]
        },
        {
          "output_type": "stream",
          "name": "stdout",
          "text": [
            "/content/CsiLab-BrainTumor-Detection-2/test/images/4_jpg.rf.2be8e3f4afa4752b9e07a4da0601eae4.jpg\n"
          ]
        },
        {
          "output_type": "stream",
          "name": "stderr",
          "text": [
            "[2023-10-19 14:09:21] INFO - pipelines.py - Fusing some of the model's layers. If this takes too much memory, you can deactivate it by setting `fuse_model=False`\n"
          ]
        },
        {
          "output_type": "stream",
          "name": "stdout",
          "text": [
            "/content/CsiLab-BrainTumor-Detection-2/test/images/Te-me_0125_jpg.rf.c972b09d30d46451ebb46c810a3f1ec1.jpg\n"
          ]
        },
        {
          "output_type": "stream",
          "name": "stderr",
          "text": [
            "[2023-10-19 14:09:22] INFO - pipelines.py - Fusing some of the model's layers. If this takes too much memory, you can deactivate it by setting `fuse_model=False`\n"
          ]
        },
        {
          "output_type": "stream",
          "name": "stdout",
          "text": [
            "/content/CsiLab-BrainTumor-Detection-2/test/images/Te-me_0122_jpg.rf.387be9120771a6f3348d65e214fa81cc.jpg\n"
          ]
        },
        {
          "output_type": "stream",
          "name": "stderr",
          "text": [
            "[2023-10-19 14:09:22] INFO - pipelines.py - Fusing some of the model's layers. If this takes too much memory, you can deactivate it by setting `fuse_model=False`\n"
          ]
        },
        {
          "output_type": "stream",
          "name": "stdout",
          "text": [
            "/content/CsiLab-BrainTumor-Detection-2/test/images/Te-me_0047_jpg.rf.8b8d6403b65ecde05392b5447788de48.jpg\n"
          ]
        },
        {
          "output_type": "stream",
          "name": "stderr",
          "text": [
            "[2023-10-19 14:09:23] INFO - pipelines.py - Fusing some of the model's layers. If this takes too much memory, you can deactivate it by setting `fuse_model=False`\n"
          ]
        },
        {
          "output_type": "stream",
          "name": "stdout",
          "text": [
            "/content/CsiLab-BrainTumor-Detection-2/test/images/Te-me_0188_jpg.rf.b4f4733a0a773c68895bf0e1c9dd20c0.jpg\n"
          ]
        },
        {
          "output_type": "stream",
          "name": "stderr",
          "text": [
            "[2023-10-19 14:09:23] INFO - pipelines.py - Fusing some of the model's layers. If this takes too much memory, you can deactivate it by setting `fuse_model=False`\n"
          ]
        },
        {
          "output_type": "stream",
          "name": "stdout",
          "text": [
            "/content/CsiLab-BrainTumor-Detection-2/test/images/Te-me_0024_jpg.rf.288a0c8835a3b18e4c7618a06c8d1c67.jpg\n"
          ]
        },
        {
          "output_type": "stream",
          "name": "stderr",
          "text": [
            "[2023-10-19 14:09:23] INFO - pipelines.py - Fusing some of the model's layers. If this takes too much memory, you can deactivate it by setting `fuse_model=False`\n"
          ]
        },
        {
          "output_type": "stream",
          "name": "stdout",
          "text": [
            "/content/CsiLab-BrainTumor-Detection-2/test/images/80_jpg.rf.6adb11e53168bd64016d802e59c42d83.jpg\n"
          ]
        },
        {
          "output_type": "stream",
          "name": "stderr",
          "text": [
            "[2023-10-19 14:09:24] INFO - pipelines.py - Fusing some of the model's layers. If this takes too much memory, you can deactivate it by setting `fuse_model=False`\n"
          ]
        },
        {
          "output_type": "stream",
          "name": "stdout",
          "text": [
            "/content/CsiLab-BrainTumor-Detection-2/test/images/Te-me_0123_jpg.rf.a46fdfcb4557f4c9189c9c5238c4e31f.jpg\n"
          ]
        },
        {
          "output_type": "stream",
          "name": "stderr",
          "text": [
            "[2023-10-19 14:09:24] INFO - pipelines.py - Fusing some of the model's layers. If this takes too much memory, you can deactivate it by setting `fuse_model=False`\n"
          ]
        },
        {
          "output_type": "stream",
          "name": "stdout",
          "text": [
            "/content/CsiLab-BrainTumor-Detection-2/test/images/Te-me_0058_jpg.rf.e2e8385920cb74bb8ffdd744c5f1bf60.jpg\n"
          ]
        },
        {
          "output_type": "stream",
          "name": "stderr",
          "text": [
            "[2023-10-19 14:09:24] INFO - pipelines.py - Fusing some of the model's layers. If this takes too much memory, you can deactivate it by setting `fuse_model=False`\n"
          ]
        },
        {
          "output_type": "stream",
          "name": "stdout",
          "text": [
            "/content/CsiLab-BrainTumor-Detection-2/test/images/97_jpg.rf.cd4bb5f52949a15689a4be55d00ef183.jpg\n"
          ]
        },
        {
          "output_type": "stream",
          "name": "stderr",
          "text": [
            "[2023-10-19 14:09:25] INFO - pipelines.py - Fusing some of the model's layers. If this takes too much memory, you can deactivate it by setting `fuse_model=False`\n"
          ]
        },
        {
          "output_type": "stream",
          "name": "stdout",
          "text": [
            "/content/CsiLab-BrainTumor-Detection-2/test/images/Te-me_0090_jpg.rf.8b018feecacd9d5ce67eabaa101bfecd.jpg\n"
          ]
        },
        {
          "output_type": "stream",
          "name": "stderr",
          "text": [
            "[2023-10-19 14:09:25] INFO - pipelines.py - Fusing some of the model's layers. If this takes too much memory, you can deactivate it by setting `fuse_model=False`\n"
          ]
        },
        {
          "output_type": "stream",
          "name": "stdout",
          "text": [
            "/content/CsiLab-BrainTumor-Detection-2/test/images/Te-me_0030_jpg.rf.2d3a0928075689c4d40613059da115e8.jpg\n"
          ]
        },
        {
          "output_type": "stream",
          "name": "stderr",
          "text": [
            "[2023-10-19 14:09:25] INFO - pipelines.py - Fusing some of the model's layers. If this takes too much memory, you can deactivate it by setting `fuse_model=False`\n"
          ]
        },
        {
          "output_type": "stream",
          "name": "stdout",
          "text": [
            "/content/CsiLab-BrainTumor-Detection-2/test/images/35_jpg.rf.cab669c5610c769bb471aec8910c8175.jpg\n"
          ]
        },
        {
          "output_type": "stream",
          "name": "stderr",
          "text": [
            "[2023-10-19 14:09:26] INFO - pipelines.py - Fusing some of the model's layers. If this takes too much memory, you can deactivate it by setting `fuse_model=False`\n"
          ]
        },
        {
          "output_type": "stream",
          "name": "stdout",
          "text": [
            "/content/CsiLab-BrainTumor-Detection-2/test/images/Te-me_0104_jpg.rf.5b77bca98732a082283e64dcbe9eaa32.jpg\n"
          ]
        },
        {
          "output_type": "stream",
          "name": "stderr",
          "text": [
            "[2023-10-19 14:09:26] INFO - pipelines.py - Fusing some of the model's layers. If this takes too much memory, you can deactivate it by setting `fuse_model=False`\n"
          ]
        },
        {
          "output_type": "stream",
          "name": "stdout",
          "text": [
            "/content/CsiLab-BrainTumor-Detection-2/test/images/Te-me_0068_jpg.rf.6b70899c316927bf06f5de9e7f8688c8.jpg\n"
          ]
        },
        {
          "output_type": "stream",
          "name": "stderr",
          "text": [
            "[2023-10-19 14:09:26] INFO - pipelines.py - Fusing some of the model's layers. If this takes too much memory, you can deactivate it by setting `fuse_model=False`\n"
          ]
        },
        {
          "output_type": "stream",
          "name": "stdout",
          "text": [
            "/content/CsiLab-BrainTumor-Detection-2/test/images/Te-me_0060_jpg.rf.dc089059d973dd70b00d5ba9d9e2a593.jpg\n"
          ]
        },
        {
          "output_type": "stream",
          "name": "stderr",
          "text": [
            "[2023-10-19 14:09:27] INFO - pipelines.py - Fusing some of the model's layers. If this takes too much memory, you can deactivate it by setting `fuse_model=False`\n"
          ]
        },
        {
          "output_type": "stream",
          "name": "stdout",
          "text": [
            "/content/CsiLab-BrainTumor-Detection-2/test/images/Te-me_0205_jpg.rf.22d874683a8b7d16c1c08392be8f7d3e.jpg\n"
          ]
        },
        {
          "output_type": "stream",
          "name": "stderr",
          "text": [
            "[2023-10-19 14:09:28] INFO - pipelines.py - Fusing some of the model's layers. If this takes too much memory, you can deactivate it by setting `fuse_model=False`\n"
          ]
        },
        {
          "output_type": "stream",
          "name": "stdout",
          "text": [
            "/content/CsiLab-BrainTumor-Detection-2/test/images/Te-me_0021_jpg.rf.61dee38d1edd1571e4acf51cf9d918c9.jpg\n"
          ]
        },
        {
          "output_type": "stream",
          "name": "stderr",
          "text": [
            "[2023-10-19 14:09:28] INFO - pipelines.py - Fusing some of the model's layers. If this takes too much memory, you can deactivate it by setting `fuse_model=False`\n"
          ]
        },
        {
          "output_type": "stream",
          "name": "stdout",
          "text": [
            "/content/CsiLab-BrainTumor-Detection-2/test/images/Te-me_0119_jpg.rf.73c4b7c16278b1b3f2757408be32470a.jpg\n"
          ]
        },
        {
          "output_type": "stream",
          "name": "stderr",
          "text": [
            "[2023-10-19 14:09:28] INFO - pipelines.py - Fusing some of the model's layers. If this takes too much memory, you can deactivate it by setting `fuse_model=False`\n"
          ]
        },
        {
          "output_type": "stream",
          "name": "stdout",
          "text": [
            "/content/CsiLab-BrainTumor-Detection-2/test/images/90_jpg.rf.737f92e5b7bd51fe4581dcfa5f9a791a.jpg\n"
          ]
        },
        {
          "output_type": "stream",
          "name": "stderr",
          "text": [
            "[2023-10-19 14:09:29] INFO - pipelines.py - Fusing some of the model's layers. If this takes too much memory, you can deactivate it by setting `fuse_model=False`\n"
          ]
        },
        {
          "output_type": "stream",
          "name": "stdout",
          "text": [
            "/content/CsiLab-BrainTumor-Detection-2/test/images/Te-me_0127_jpg.rf.b7593e9432117bc4f3c1bba8cbc4688e.jpg\n"
          ]
        },
        {
          "output_type": "stream",
          "name": "stderr",
          "text": [
            "[2023-10-19 14:09:29] INFO - pipelines.py - Fusing some of the model's layers. If this takes too much memory, you can deactivate it by setting `fuse_model=False`\n"
          ]
        },
        {
          "output_type": "stream",
          "name": "stdout",
          "text": [
            "/content/CsiLab-BrainTumor-Detection-2/test/images/Te-me_0049_jpg.rf.bd0ae319cdec547a5da604d630c8e572.jpg\n"
          ]
        },
        {
          "output_type": "stream",
          "name": "stderr",
          "text": [
            "[2023-10-19 14:09:29] INFO - pipelines.py - Fusing some of the model's layers. If this takes too much memory, you can deactivate it by setting `fuse_model=False`\n"
          ]
        },
        {
          "output_type": "stream",
          "name": "stdout",
          "text": [
            "/content/CsiLab-BrainTumor-Detection-2/test/images/Te-me_0130_jpg.rf.1feb35c3bf682ee4c94059a5f495bffa.jpg\n"
          ]
        },
        {
          "output_type": "stream",
          "name": "stderr",
          "text": [
            "[2023-10-19 14:09:29] INFO - pipelines.py - Fusing some of the model's layers. If this takes too much memory, you can deactivate it by setting `fuse_model=False`\n"
          ]
        },
        {
          "output_type": "stream",
          "name": "stdout",
          "text": [
            "/content/CsiLab-BrainTumor-Detection-2/test/images/Te-me_0133_jpg.rf.489fde902fd3ef68d0c2246ba63256fe.jpg\n"
          ]
        },
        {
          "output_type": "stream",
          "name": "stderr",
          "text": [
            "[2023-10-19 14:09:30] INFO - pipelines.py - Fusing some of the model's layers. If this takes too much memory, you can deactivate it by setting `fuse_model=False`\n"
          ]
        },
        {
          "output_type": "stream",
          "name": "stdout",
          "text": [
            "/content/CsiLab-BrainTumor-Detection-2/test/images/52_jpg.rf.ddeb36fb7aa1fab30d8abfd754e4672a.jpg\n"
          ]
        },
        {
          "output_type": "stream",
          "name": "stderr",
          "text": [
            "[2023-10-19 14:09:30] INFO - pipelines.py - Fusing some of the model's layers. If this takes too much memory, you can deactivate it by setting `fuse_model=False`\n"
          ]
        },
        {
          "output_type": "stream",
          "name": "stdout",
          "text": [
            "/content/CsiLab-BrainTumor-Detection-2/test/images/6_jpg.rf.50131eca8e5f987cf87f021751cdfe92.jpg\n"
          ]
        }
      ],
      "source": [
        "CONFIDENCE_TRESHOLD = 0.5\n",
        "\n",
        "predictions = {}\n",
        "\n",
        "for image_name, image in ds.images.items():\n",
        "    result = list(best_model.predict(image, conf=CONFIDENCE_TRESHOLD))[0]\n",
        "    detections = sv.Detections(\n",
        "        xyxy=result.prediction.bboxes_xyxy,\n",
        "        confidence=result.prediction.confidence,\n",
        "        class_id=result.prediction.labels.astype(int)\n",
        "    )\n",
        "    predictions[image_name] = detections"
      ]
    },
    {
      "cell_type": "code",
      "source": [
        "previsao = list(best_model.predict('/content/CsiLab-BrainTumor-Detection-2/test/images/Te-me_0125_jpg.rf.c972b09d30d46451ebb46c810a3f1ec1.jpg', conf=CONFIDENCE_TRESHOLD))[0]\n",
        "print(type(previsao))\n",
        "print(previsao.prediction.bboxes_xyxy) ## bounding boxes de previsão\n"
      ],
      "metadata": {
        "colab": {
          "base_uri": "https://localhost:8080/"
        },
        "id": "bfWxTFfDx0j8",
        "outputId": "d419b7c4-58cb-49ad-ac56-e704ad9f51ae"
      },
      "id": "bfWxTFfDx0j8",
      "execution_count": 14,
      "outputs": [
        {
          "output_type": "stream",
          "name": "stderr",
          "text": [
            "[2023-10-19 13:53:51] INFO - pipelines.py - Fusing some of the model's layers. If this takes too much memory, you can deactivate it by setting `fuse_model=False`\n"
          ]
        },
        {
          "output_type": "stream",
          "name": "stdout",
          "text": [
            "<class 'super_gradients.training.utils.predict.prediction_results.ImageDetectionPrediction'>\n",
            "[[229.75 394.5  299.75 483.  ]]\n"
          ]
        }
      ]
    },
    {
      "cell_type": "code",
      "execution_count": 30,
      "id": "c18c0e67",
      "metadata": {
        "colab": {
          "base_uri": "https://localhost:8080/",
          "height": 245
        },
        "id": "c18c0e67",
        "outputId": "d7fa6e77-df32-4db4-f7d7-8f617003c47a"
      },
      "outputs": [
        {
          "output_type": "error",
          "ename": "TypeError",
          "evalue": "ignored",
          "traceback": [
            "\u001b[0;31m---------------------------------------------------------------------------\u001b[0m",
            "\u001b[0;31mTypeError\u001b[0m                                 Traceback (most recent call last)",
            "\u001b[0;32m<ipython-input-30-5d3de51002d4>\u001b[0m in \u001b[0;36m<cell line: 18>\u001b[0;34m()\u001b[0m\n\u001b[1;32m     27\u001b[0m     frame_with_predictions = box_annotator.annotate(\n\u001b[1;32m     28\u001b[0m         \u001b[0mscene\u001b[0m\u001b[0;34m=\u001b[0m\u001b[0mds\u001b[0m\u001b[0;34m.\u001b[0m\u001b[0mimages\u001b[0m\u001b[0;34m[\u001b[0m\u001b[0mkey\u001b[0m\u001b[0;34m]\u001b[0m\u001b[0;34m.\u001b[0m\u001b[0mcopy\u001b[0m\u001b[0;34m(\u001b[0m\u001b[0;34m)\u001b[0m\u001b[0;34m,\u001b[0m\u001b[0;34m\u001b[0m\u001b[0;34m\u001b[0m\u001b[0m\n\u001b[0;32m---> 29\u001b[0;31m         \u001b[0mdetections\u001b[0m\u001b[0;34m=\u001b[0m\u001b[0mpredictions\u001b[0m\u001b[0;34m[\u001b[0m\u001b[0mkey\u001b[0m\u001b[0;34m]\u001b[0m\u001b[0;34m,\u001b[0m\u001b[0;34m\u001b[0m\u001b[0;34m\u001b[0m\u001b[0m\n\u001b[0m\u001b[1;32m     30\u001b[0m         \u001b[0mskip_label\u001b[0m\u001b[0;34m=\u001b[0m\u001b[0;32mTrue\u001b[0m\u001b[0;34m\u001b[0m\u001b[0;34m\u001b[0m\u001b[0m\n\u001b[1;32m     31\u001b[0m \u001b[0;34m\u001b[0m\u001b[0m\n",
            "\u001b[0;31mTypeError\u001b[0m: list indices must be integers or slices, not str"
          ]
        }
      ],
      "source": [
        "import random\n",
        "import supervision as sv\n",
        "\n",
        "random.seed(10)\n",
        "\n",
        "MAX_IMAGE_COUNT = 5\n",
        "\n",
        "n = min(MAX_IMAGE_COUNT, len(ds.images))\n",
        "\n",
        "keys = list(ds.images.keys())\n",
        "keys = random.sample(keys, n)\n",
        "\n",
        "box_annotator = sv.BoxAnnotator()\n",
        "\n",
        "images = []\n",
        "titles = []\n",
        "\n",
        "for key in keys:\n",
        "    frame_with_annotations = box_annotator.annotate(\n",
        "        scene=ds.images[key].copy(),\n",
        "        detections=ds.annotations[key],\n",
        "        skip_label=True\n",
        "\n",
        "    )\n",
        "    images.append(frame_with_annotations)\n",
        "    titles.append('annotations')\n",
        "    frame_with_predictions = box_annotator.annotate(\n",
        "        scene=ds.images[key].copy(),\n",
        "        detections=predictions[key],\n",
        "        skip_label=True\n",
        "\n",
        "    )\n",
        "    #checar os prints\n",
        "    #print(frame_with_predictions)\n",
        "    images.append(frame_with_predictions)\n",
        "    titles.append('predictions')\n",
        "\n",
        "%matplotlib inline\n",
        "sv.plot_images_grid(images=images, titles=titles, grid_size=(n, 2), size=(2 * 4, n * 4))"
      ]
    },
    {
      "cell_type": "code",
      "execution_count": null,
      "id": "cd1dd988",
      "metadata": {
        "colab": {
          "base_uri": "https://localhost:8080/",
          "height": 1000
        },
        "id": "cd1dd988",
        "outputId": "b1caa6ca-07c6-4537-d6b9-604566af27ca"
      },
      "outputs": [
        {
          "ename": "FileNotFoundError",
          "evalue": "ignored",
          "output_type": "error",
          "traceback": [
            "\u001b[0;31m---------------------------------------------------------------------------\u001b[0m",
            "\u001b[0;31mFileNotFoundError\u001b[0m                         Traceback (most recent call last)",
            "\u001b[0;32m<ipython-input-15-7426407c0e2d>\u001b[0m in \u001b[0;36m<cell line: 34>\u001b[0;34m()\u001b[0m\n\u001b[1;32m     32\u001b[0m )\n\u001b[1;32m     33\u001b[0m \u001b[0;34m\u001b[0m\u001b[0m\n\u001b[0;32m---> 34\u001b[0;31m \u001b[0mconfusion_matrix\u001b[0m\u001b[0;34m.\u001b[0m\u001b[0mplot\u001b[0m\u001b[0;34m(\u001b[0m\u001b[0mos\u001b[0m\u001b[0;34m.\u001b[0m\u001b[0mpath\u001b[0m\u001b[0;34m.\u001b[0m\u001b[0mjoin\u001b[0m\u001b[0;34m(\u001b[0m\u001b[0;34m\"./content\"\u001b[0m\u001b[0;34m,\u001b[0m \u001b[0;34m\"confusion_matrix.png\"\u001b[0m\u001b[0;34m)\u001b[0m\u001b[0;34m,\u001b[0m \u001b[0mclass_names\u001b[0m\u001b[0;34m=\u001b[0m\u001b[0mds\u001b[0m\u001b[0;34m.\u001b[0m\u001b[0mclasses\u001b[0m\u001b[0;34m)\u001b[0m\u001b[0;34m\u001b[0m\u001b[0;34m\u001b[0m\u001b[0m\n\u001b[0m",
            "\u001b[0;32m/usr/local/lib/python3.10/dist-packages/onemetric/cv/object_detection/confusion_matrix.py\u001b[0m in \u001b[0;36mplot\u001b[0;34m(self, target_path, title, class_names, normalize)\u001b[0m\n\u001b[1;32m    144\u001b[0m         \u001b[0mfig\u001b[0m\u001b[0;34m.\u001b[0m\u001b[0maxes\u001b[0m\u001b[0;34m[\u001b[0m\u001b[0;36m0\u001b[0m\u001b[0;34m]\u001b[0m\u001b[0;34m.\u001b[0m\u001b[0mset_ylabel\u001b[0m\u001b[0;34m(\u001b[0m\u001b[0;34m'True'\u001b[0m\u001b[0;34m)\u001b[0m\u001b[0;34m\u001b[0m\u001b[0;34m\u001b[0m\u001b[0m\n\u001b[1;32m    145\u001b[0m         \u001b[0mfig\u001b[0m\u001b[0;34m.\u001b[0m\u001b[0maxes\u001b[0m\u001b[0;34m[\u001b[0m\u001b[0;36m0\u001b[0m\u001b[0;34m]\u001b[0m\u001b[0;34m.\u001b[0m\u001b[0mset_facecolor\u001b[0m\u001b[0;34m(\u001b[0m\u001b[0;34m'white'\u001b[0m\u001b[0;34m)\u001b[0m\u001b[0;34m\u001b[0m\u001b[0;34m\u001b[0m\u001b[0m\n\u001b[0;32m--> 146\u001b[0;31m         \u001b[0mfig\u001b[0m\u001b[0;34m.\u001b[0m\u001b[0msavefig\u001b[0m\u001b[0;34m(\u001b[0m\u001b[0mtarget_path\u001b[0m\u001b[0;34m,\u001b[0m \u001b[0mdpi\u001b[0m\u001b[0;34m=\u001b[0m\u001b[0;36m250\u001b[0m\u001b[0;34m,\u001b[0m \u001b[0mfacecolor\u001b[0m\u001b[0;34m=\u001b[0m\u001b[0mfig\u001b[0m\u001b[0;34m.\u001b[0m\u001b[0mget_facecolor\u001b[0m\u001b[0;34m(\u001b[0m\u001b[0;34m)\u001b[0m\u001b[0;34m,\u001b[0m \u001b[0mtransparent\u001b[0m\u001b[0;34m=\u001b[0m\u001b[0;32mTrue\u001b[0m\u001b[0;34m)\u001b[0m\u001b[0;34m\u001b[0m\u001b[0;34m\u001b[0m\u001b[0m\n\u001b[0m\u001b[1;32m    147\u001b[0m \u001b[0;34m\u001b[0m\u001b[0m\n\u001b[1;32m    148\u001b[0m     \u001b[0;34m@\u001b[0m\u001b[0mstaticmethod\u001b[0m\u001b[0;34m\u001b[0m\u001b[0;34m\u001b[0m\u001b[0m\n",
            "\u001b[0;32m/usr/local/lib/python3.10/dist-packages/matplotlib/figure.py\u001b[0m in \u001b[0;36msavefig\u001b[0;34m(self, fname, transparent, **kwargs)\u001b[0m\n\u001b[1;32m   3341\u001b[0m                         ax.patch._cm_set(facecolor='none', edgecolor='none'))\n\u001b[1;32m   3342\u001b[0m \u001b[0;34m\u001b[0m\u001b[0m\n\u001b[0;32m-> 3343\u001b[0;31m             \u001b[0mself\u001b[0m\u001b[0;34m.\u001b[0m\u001b[0mcanvas\u001b[0m\u001b[0;34m.\u001b[0m\u001b[0mprint_figure\u001b[0m\u001b[0;34m(\u001b[0m\u001b[0mfname\u001b[0m\u001b[0;34m,\u001b[0m \u001b[0;34m**\u001b[0m\u001b[0mkwargs\u001b[0m\u001b[0;34m)\u001b[0m\u001b[0;34m\u001b[0m\u001b[0;34m\u001b[0m\u001b[0m\n\u001b[0m\u001b[1;32m   3344\u001b[0m \u001b[0;34m\u001b[0m\u001b[0m\n\u001b[1;32m   3345\u001b[0m     def ginput(self, n=1, timeout=30, show_clicks=True,\n",
            "\u001b[0;32m/usr/local/lib/python3.10/dist-packages/matplotlib/backend_bases.py\u001b[0m in \u001b[0;36mprint_figure\u001b[0;34m(self, filename, dpi, facecolor, edgecolor, orientation, format, bbox_inches, pad_inches, bbox_extra_artists, backend, **kwargs)\u001b[0m\n\u001b[1;32m   2364\u001b[0m                 \u001b[0;31m# force the figure dpi to 72), so we need to set it again here.\u001b[0m\u001b[0;34m\u001b[0m\u001b[0;34m\u001b[0m\u001b[0m\n\u001b[1;32m   2365\u001b[0m                 \u001b[0;32mwith\u001b[0m \u001b[0mcbook\u001b[0m\u001b[0;34m.\u001b[0m\u001b[0m_setattr_cm\u001b[0m\u001b[0;34m(\u001b[0m\u001b[0mself\u001b[0m\u001b[0;34m.\u001b[0m\u001b[0mfigure\u001b[0m\u001b[0;34m,\u001b[0m \u001b[0mdpi\u001b[0m\u001b[0;34m=\u001b[0m\u001b[0mdpi\u001b[0m\u001b[0;34m)\u001b[0m\u001b[0;34m:\u001b[0m\u001b[0;34m\u001b[0m\u001b[0;34m\u001b[0m\u001b[0m\n\u001b[0;32m-> 2366\u001b[0;31m                     result = print_method(\n\u001b[0m\u001b[1;32m   2367\u001b[0m                         \u001b[0mfilename\u001b[0m\u001b[0;34m,\u001b[0m\u001b[0;34m\u001b[0m\u001b[0;34m\u001b[0m\u001b[0m\n\u001b[1;32m   2368\u001b[0m                         \u001b[0mfacecolor\u001b[0m\u001b[0;34m=\u001b[0m\u001b[0mfacecolor\u001b[0m\u001b[0;34m,\u001b[0m\u001b[0;34m\u001b[0m\u001b[0;34m\u001b[0m\u001b[0m\n",
            "\u001b[0;32m/usr/local/lib/python3.10/dist-packages/matplotlib/backend_bases.py\u001b[0m in \u001b[0;36m<lambda>\u001b[0;34m(*args, **kwargs)\u001b[0m\n\u001b[1;32m   2230\u001b[0m                 \"bbox_inches_restore\"}\n\u001b[1;32m   2231\u001b[0m             \u001b[0mskip\u001b[0m \u001b[0;34m=\u001b[0m \u001b[0moptional_kws\u001b[0m \u001b[0;34m-\u001b[0m \u001b[0;34m{\u001b[0m\u001b[0;34m*\u001b[0m\u001b[0minspect\u001b[0m\u001b[0;34m.\u001b[0m\u001b[0msignature\u001b[0m\u001b[0;34m(\u001b[0m\u001b[0mmeth\u001b[0m\u001b[0;34m)\u001b[0m\u001b[0;34m.\u001b[0m\u001b[0mparameters\u001b[0m\u001b[0;34m}\u001b[0m\u001b[0;34m\u001b[0m\u001b[0;34m\u001b[0m\u001b[0m\n\u001b[0;32m-> 2232\u001b[0;31m             print_method = functools.wraps(meth)(lambda *args, **kwargs: meth(\n\u001b[0m\u001b[1;32m   2233\u001b[0m                 *args, **{k: v for k, v in kwargs.items() if k not in skip}))\n\u001b[1;32m   2234\u001b[0m         \u001b[0;32melse\u001b[0m\u001b[0;34m:\u001b[0m  \u001b[0;31m# Let third-parties do as they see fit.\u001b[0m\u001b[0;34m\u001b[0m\u001b[0;34m\u001b[0m\u001b[0m\n",
            "\u001b[0;32m/usr/local/lib/python3.10/dist-packages/matplotlib/backends/backend_agg.py\u001b[0m in \u001b[0;36mprint_png\u001b[0;34m(self, filename_or_obj, metadata, pil_kwargs)\u001b[0m\n\u001b[1;32m    507\u001b[0m             \u001b[0;34m*\u001b[0m\u001b[0mmetadata\u001b[0m\u001b[0;34m*\u001b[0m\u001b[0;34m,\u001b[0m \u001b[0mincluding\u001b[0m \u001b[0mthe\u001b[0m \u001b[0mdefault\u001b[0m \u001b[0;34m'Software'\u001b[0m \u001b[0mkey\u001b[0m\u001b[0;34m.\u001b[0m\u001b[0;34m\u001b[0m\u001b[0;34m\u001b[0m\u001b[0m\n\u001b[1;32m    508\u001b[0m         \"\"\"\n\u001b[0;32m--> 509\u001b[0;31m         \u001b[0mself\u001b[0m\u001b[0;34m.\u001b[0m\u001b[0m_print_pil\u001b[0m\u001b[0;34m(\u001b[0m\u001b[0mfilename_or_obj\u001b[0m\u001b[0;34m,\u001b[0m \u001b[0;34m\"png\"\u001b[0m\u001b[0;34m,\u001b[0m \u001b[0mpil_kwargs\u001b[0m\u001b[0;34m,\u001b[0m \u001b[0mmetadata\u001b[0m\u001b[0;34m)\u001b[0m\u001b[0;34m\u001b[0m\u001b[0;34m\u001b[0m\u001b[0m\n\u001b[0m\u001b[1;32m    510\u001b[0m \u001b[0;34m\u001b[0m\u001b[0m\n\u001b[1;32m    511\u001b[0m     \u001b[0;32mdef\u001b[0m \u001b[0mprint_to_buffer\u001b[0m\u001b[0;34m(\u001b[0m\u001b[0mself\u001b[0m\u001b[0;34m)\u001b[0m\u001b[0;34m:\u001b[0m\u001b[0;34m\u001b[0m\u001b[0;34m\u001b[0m\u001b[0m\n",
            "\u001b[0;32m/usr/local/lib/python3.10/dist-packages/matplotlib/backends/backend_agg.py\u001b[0m in \u001b[0;36m_print_pil\u001b[0;34m(self, filename_or_obj, fmt, pil_kwargs, metadata)\u001b[0m\n\u001b[1;32m    456\u001b[0m         \"\"\"\n\u001b[1;32m    457\u001b[0m         \u001b[0mFigureCanvasAgg\u001b[0m\u001b[0;34m.\u001b[0m\u001b[0mdraw\u001b[0m\u001b[0;34m(\u001b[0m\u001b[0mself\u001b[0m\u001b[0;34m)\u001b[0m\u001b[0;34m\u001b[0m\u001b[0;34m\u001b[0m\u001b[0m\n\u001b[0;32m--> 458\u001b[0;31m         mpl.image.imsave(\n\u001b[0m\u001b[1;32m    459\u001b[0m             \u001b[0mfilename_or_obj\u001b[0m\u001b[0;34m,\u001b[0m \u001b[0mself\u001b[0m\u001b[0;34m.\u001b[0m\u001b[0mbuffer_rgba\u001b[0m\u001b[0;34m(\u001b[0m\u001b[0;34m)\u001b[0m\u001b[0;34m,\u001b[0m \u001b[0mformat\u001b[0m\u001b[0;34m=\u001b[0m\u001b[0mfmt\u001b[0m\u001b[0;34m,\u001b[0m \u001b[0morigin\u001b[0m\u001b[0;34m=\u001b[0m\u001b[0;34m\"upper\"\u001b[0m\u001b[0;34m,\u001b[0m\u001b[0;34m\u001b[0m\u001b[0;34m\u001b[0m\u001b[0m\n\u001b[1;32m    460\u001b[0m             dpi=self.figure.dpi, metadata=metadata, pil_kwargs=pil_kwargs)\n",
            "\u001b[0;32m/usr/local/lib/python3.10/dist-packages/matplotlib/image.py\u001b[0m in \u001b[0;36mimsave\u001b[0;34m(fname, arr, vmin, vmax, cmap, format, origin, dpi, metadata, pil_kwargs)\u001b[0m\n\u001b[1;32m   1687\u001b[0m         \u001b[0mpil_kwargs\u001b[0m\u001b[0;34m.\u001b[0m\u001b[0msetdefault\u001b[0m\u001b[0;34m(\u001b[0m\u001b[0;34m\"format\"\u001b[0m\u001b[0;34m,\u001b[0m \u001b[0mformat\u001b[0m\u001b[0;34m)\u001b[0m\u001b[0;34m\u001b[0m\u001b[0;34m\u001b[0m\u001b[0m\n\u001b[1;32m   1688\u001b[0m         \u001b[0mpil_kwargs\u001b[0m\u001b[0;34m.\u001b[0m\u001b[0msetdefault\u001b[0m\u001b[0;34m(\u001b[0m\u001b[0;34m\"dpi\"\u001b[0m\u001b[0;34m,\u001b[0m \u001b[0;34m(\u001b[0m\u001b[0mdpi\u001b[0m\u001b[0;34m,\u001b[0m \u001b[0mdpi\u001b[0m\u001b[0;34m)\u001b[0m\u001b[0;34m)\u001b[0m\u001b[0;34m\u001b[0m\u001b[0;34m\u001b[0m\u001b[0m\n\u001b[0;32m-> 1689\u001b[0;31m         \u001b[0mimage\u001b[0m\u001b[0;34m.\u001b[0m\u001b[0msave\u001b[0m\u001b[0;34m(\u001b[0m\u001b[0mfname\u001b[0m\u001b[0;34m,\u001b[0m \u001b[0;34m**\u001b[0m\u001b[0mpil_kwargs\u001b[0m\u001b[0;34m)\u001b[0m\u001b[0;34m\u001b[0m\u001b[0;34m\u001b[0m\u001b[0m\n\u001b[0m\u001b[1;32m   1690\u001b[0m \u001b[0;34m\u001b[0m\u001b[0m\n\u001b[1;32m   1691\u001b[0m \u001b[0;34m\u001b[0m\u001b[0m\n",
            "\u001b[0;32m/usr/local/lib/python3.10/dist-packages/PIL/Image.py\u001b[0m in \u001b[0;36msave\u001b[0;34m(self, fp, format, **params)\u001b[0m\n\u001b[1;32m   2426\u001b[0m                 \u001b[0mfp\u001b[0m \u001b[0;34m=\u001b[0m \u001b[0mbuiltins\u001b[0m\u001b[0;34m.\u001b[0m\u001b[0mopen\u001b[0m\u001b[0;34m(\u001b[0m\u001b[0mfilename\u001b[0m\u001b[0;34m,\u001b[0m \u001b[0;34m\"r+b\"\u001b[0m\u001b[0;34m)\u001b[0m\u001b[0;34m\u001b[0m\u001b[0;34m\u001b[0m\u001b[0m\n\u001b[1;32m   2427\u001b[0m             \u001b[0;32melse\u001b[0m\u001b[0;34m:\u001b[0m\u001b[0;34m\u001b[0m\u001b[0;34m\u001b[0m\u001b[0m\n\u001b[0;32m-> 2428\u001b[0;31m                 \u001b[0mfp\u001b[0m \u001b[0;34m=\u001b[0m \u001b[0mbuiltins\u001b[0m\u001b[0;34m.\u001b[0m\u001b[0mopen\u001b[0m\u001b[0;34m(\u001b[0m\u001b[0mfilename\u001b[0m\u001b[0;34m,\u001b[0m \u001b[0;34m\"w+b\"\u001b[0m\u001b[0;34m)\u001b[0m\u001b[0;34m\u001b[0m\u001b[0;34m\u001b[0m\u001b[0m\n\u001b[0m\u001b[1;32m   2429\u001b[0m \u001b[0;34m\u001b[0m\u001b[0m\n\u001b[1;32m   2430\u001b[0m         \u001b[0;32mtry\u001b[0m\u001b[0;34m:\u001b[0m\u001b[0;34m\u001b[0m\u001b[0;34m\u001b[0m\u001b[0m\n",
            "\u001b[0;31mFileNotFoundError\u001b[0m: [Errno 2] No such file or directory: './content/confusion_matrix.png'"
          ]
        },
        {
          "data": {
            "image/png": "[encoded data removed]",
            "text/plain": [
              "<Figure size 1200x1000 with 2 Axes>"
            ]
          },
          "metadata": {},
          "output_type": "display_data"
        }
      ],
      "source": [
        "\n",
        "import os\n",
        "\n",
        "import numpy as np\n",
        "\n",
        "from onemetric.cv.object_detection import ConfusionMatrix\n",
        "\n",
        "keys = list(ds.images.keys())\n",
        "\n",
        "annotation_batches, prediction_batches = [], []\n",
        "\n",
        "for key in keys:\n",
        "    annotation=ds.annotations[key]\n",
        "    annotation_batch = np.column_stack((\n",
        "        annotation.xyxy,\n",
        "        annotation.class_id\n",
        "    ))\n",
        "    annotation_batches.append(annotation_batch)\n",
        "\n",
        "    prediction=predictions[key]\n",
        "    prediction_batch = np.column_stack((\n",
        "        prediction.xyxy,\n",
        "        prediction.class_id,\n",
        "        prediction.confidence\n",
        "    ))\n",
        "    prediction_batches.append(prediction_batch)\n",
        "\n",
        "confusion_matrix = ConfusionMatrix.from_detections(\n",
        "    true_batches=annotation_batches,\n",
        "    detection_batches=prediction_batches,\n",
        "    num_classes=len(ds.classes),\n",
        "    conf_threshold=CONFIDENCE_TRESHOLD\n",
        ")\n",
        "\n",
        "confusion_matrix.plot(os.path.join(\"/content\", \"confusion_matrix.png\"), class_names=ds.classes)"
      ]
    },
    {
      "cell_type": "code",
      "execution_count": 32,
      "id": "353b72f5",
      "metadata": {
        "id": "353b72f5"
      },
      "outputs": [],
      "source": [
        "import random\n",
        "import supervision as sv\n",
        "\n",
        "random.seed(10)\n",
        "\n",
        "MAX_IMAGE_COUNT = 5\n",
        "\n",
        "n = min(MAX_IMAGE_COUNT, len(ds.images))\n",
        "\n",
        "keys = list(ds.images.keys())\n",
        "keys = random.sample(keys, n)\n",
        "\n",
        "box_annotator = sv.BoxAnnotator()\n",
        "\n",
        "images = []\n",
        "titles = []"
      ]
    },
    {
      "cell_type": "code",
      "source": [
        "detections_list = []\n",
        "prediction_list = []\n",
        "for key in keys:\n",
        "    # Para anotações\n",
        "    annotation_detections = ds.annotations[key]\n",
        "    for detection in annotation_detections:\n",
        "        detections_list.append(detection[0])\n",
        "\n",
        "    # Para previsões\n",
        "    prediction_detections = predictions[key]\n",
        "    for prediction in prediction_detections:\n",
        "        prediction_list.append(prediction[0])"
      ],
      "metadata": {
        "id": "Ext1BDE2P35p"
      },
      "id": "Ext1BDE2P35p",
      "execution_count": 44,
      "outputs": []
    },
    {
      "cell_type": "code",
      "source": [
        "import numpy as np\n",
        "\n",
        "\n",
        "def iou(box1, box2):\n",
        "    # Verifica se as bounding boxes são válidas.\n",
        "    if box1[2] is None or box2[2] is None:\n",
        "        return 0.0\n",
        "\n",
        "    # Calcula as interseções das bounding boxes.\n",
        "    inter_top = np.maximum(box1[0], box2[0])\n",
        "    inter_bottom = np.minimum(box1[2], box2[2])\n",
        "    inter_left = np.maximum(box1[1], box2[1])\n",
        "    inter_right = np.minimum(box1[3], box2[3])\n",
        "    inter_area = (inter_right - inter_left) * (inter_bottom - inter_top)\n",
        "\n",
        "    # Calcula as áreas das bounding boxes.\n",
        "    box1_area = (box1[2] - box1[0]) * (box1[3] - box1[1])\n",
        "    box2_area = (box2[2] - box2[0]) * (box2[3] - box2[1])\n",
        "\n",
        "    # Calcula o IoU.\n",
        "    iou = inter_area / (box1_area + box2_area - inter_area)\n",
        "\n",
        "    return iou\n",
        "\n",
        "for i in range(len(detections_list)):\n",
        "  iou_score = iou(detections_list[i], prediction_list[i])\n",
        "\n",
        "  # Imprime o IoU.\n",
        "  print(iou_score)"
      ],
      "metadata": {
        "id": "HiUJvDozP4ry",
        "outputId": "99328226-9e62-412e-d95c-dac2e881359c",
        "colab": {
          "base_uri": "https://localhost:8080/"
        }
      },
      "execution_count": 47,
      "outputs": [
        {
          "output_type": "stream",
          "name": "stdout",
          "text": [
            "0.8873508\n",
            "0.8898279\n",
            "0.91539186\n",
            "0.91630524\n",
            "0.8592779\n"
          ]
        }
      ],
      "id": "HiUJvDozP4ry"
    },
    {
      "cell_type": "code",
      "source": [],
      "metadata": {
        "id": "QDF1q-06-JTT",
        "outputId": "2cc5d07c-c6db-42fc-ec61-c8ddea289106",
        "colab": {
          "base_uri": "https://localhost:8080/"
        }
      },
      "execution_count": 41,
      "outputs": [
        {
          "output_type": "stream",
          "name": "stdout",
          "text": [
            "<class 'list'>\n"
          ]
        }
      ],
      "id": "QDF1q-06-JTT"
    },
    {
      "cell_type": "code",
      "source": [
        "from google.colab import drive\n",
        "drive.mount('/content/drive')\n"
      ],
      "metadata": {
        "colab": {
          "base_uri": "https://localhost:8080/"
        },
        "id": "9jGfPc7L-LYm",
        "outputId": "61d0944f-1522-4b1d-9a88-cc860456f967"
      },
      "id": "9jGfPc7L-LYm",
      "execution_count": 1,
      "outputs": [
        {
          "output_type": "stream",
          "name": "stdout",
          "text": [
            "Mounted at /content/drive\n"
          ]
        }
      ]
    }
  ],
  "metadata": {
    "accelerator": "GPU",
    "colab": {
      "gpuType": "T4",
      "provenance": []
    },
    "kernelspec": {
      "display_name": "Python 3",
      "name": "python3"
    },
    "language_info": {
      "codemirror_mode": {
        "name": "ipython",
        "version": 3
      },
      "file_extension": ".py",
      "mimetype": "text/x-python",
      "name": "python",
      "nbconvert_exporter": "python",
      "pygments_lexer": "ipython3",
      "version": "3.9.0"
    }
  },
  "nbformat": 4,
  "nbformat_minor": 5
}