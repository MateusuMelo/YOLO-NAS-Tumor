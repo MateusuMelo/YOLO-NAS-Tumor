{
 "cells": [
  {
   "cell_type": "code",
   "execution_count": 1,
   "id": "24aa75fa-84be-43ba-9cac-3129f34fc597",
   "metadata": {
    "tags": []
   },
   "outputs": [
    {
     "name": "stdout",
     "output_type": "stream",
     "text": [
      "loading Roboflow workspace...\n",
      "loading Roboflow project...\n",
      "Dependency ultralytics<=8.0.20 is required but found version=8.0.168, to fix: `pip install ultralytics<=8.0.20`\n",
      "Downloading Dataset Version Zip in BrainTumor-4 to yolov8: 100% [23067607 / 23067607] bytes\n"
     ]
    },
    {
     "name": "stderr",
     "output_type": "stream",
     "text": [
      "Extracting Dataset Version Zip to BrainTumor-4 in yolov8:: 100%|██████████| 1222/1222 [00:00<00:00, 1388.31it/s]\n"
     ]
    }
   ],
   "source": [
    "#%pip install super-gradients\n",
    "#!pip install torch\n",
    "#%pip install supervision\n",
    "\n",
    "from roboflow import Roboflow\n",
    "rf = Roboflow(api_key=\"NNsjGsIb23GWj3zGDggC\")\n",
    "project = rf.workspace(\"iot-inatel\").project(\"braintumor-spfys\")\n",
    "dataset = project.version(4).download(\"yolov8\")"
   ]
  },
  {
   "cell_type": "code",
   "execution_count": 3,
   "id": "62f7a1c2-1197-46df-b261-bb559cbcabde",
   "metadata": {
    "tags": []
   },
   "outputs": [],
   "source": [
    "import torch\n",
    "from super_gradients.training import Trainer\n",
    "\n",
    "dataset.location = 'c:/Users/mateu/ICC/CS&I-LAB/YOLO-NAS-Tumor/BrainTumor-4'\n",
    "DEVICE = 'cuda' if torch.cuda.is_available() else \"cpu\"\n",
    "MODEL_ARCH = 'yolo_nas_l'\n",
    "ATCH_SIZE = 8\n",
    "MAX_EPOCHS = 10\n",
    "CHECKPOINT_DIR = './checkpoints'\n",
    "EXPERIMENT_NAME = project.name.lower().replace(\" \", \"_\")\n",
    "LOCATION = dataset.location\n",
    "CLASSES = sorted(project.classes.keys())\n",
    "\n",
    "dataset_params = {\n",
    "    'data_dir': LOCATION,\n",
    "    'train_images_dir':'train/images',\n",
    "    'train_labels_dir':'train/labels',\n",
    "    'val_images_dir':'valid/images',\n",
    "    'val_labels_dir':'valid/labels',\n",
    "    'test_images_dir':'test/images',\n",
    "    'test_labels_dir':'test/labels',\n",
    "    'classes': CLASSES\n",
    "}\n",
    "\n"
   ]
  },
  {
   "cell_type": "code",
   "execution_count": 7,
   "id": "8d53441f-661c-4f36-90a5-bd28609d525c",
   "metadata": {
    "tags": []
   },
   "outputs": [
    {
     "name": "stderr",
     "output_type": "stream",
     "text": [
      "[2023-09-01 22:03:05] INFO - detection_dataset.py - Dataset Initialization in progress. `cache_annotations=True` causes the process to take longer due to full dataset indexing.\n",
      "Indexing dataset annotations: 100%|██████████| 1184/1184 [00:11<00:00, 104.38it/s]\n",
      "[2023-09-01 22:03:16] INFO - detection_dataset.py - Dataset Initialization in progress. `cache_annotations=True` causes the process to take longer due to full dataset indexing.\n",
      "Indexing dataset annotations:  94%|█████████▍| 319/338 [00:03<00:00, 97.10it/s] "
     ]
    },
    {
     "name": "stderr",
     "output_type": "stream",
     "text": [
      "Indexing dataset annotations: 100%|██████████| 338/338 [00:03<00:00, 101.53it/s]\n"
     ]
    }
   ],
   "source": [
    "from super_gradients.training.dataloaders.dataloaders import (coco_detection_yolo_format_train, coco_detection_yolo_format_val)\n",
    "\n",
    "train_data = coco_detection_yolo_format_train(\n",
    "    dataset_params={\n",
    "        'data_dir': dataset_params['data_dir'],\n",
    "        'images_dir': dataset_params['train_images_dir'],\n",
    "        'labels_dir': dataset_params['train_labels_dir'],\n",
    "        'classes': dataset_params['classes']\n",
    "    },\n",
    "    dataloader_params={\n",
    "        'batch_size': 32,\n",
    "        'num_workers': 2\n",
    "    }\n",
    ")\n",
    "\n",
    "val_data = coco_detection_yolo_format_val(\n",
    "    dataset_params={\n",
    "        'data_dir': dataset_params['data_dir'],\n",
    "        'images_dir': dataset_params['val_images_dir'],\n",
    "        'labels_dir': dataset_params['val_labels_dir'],\n",
    "        'classes': dataset_params['classes']\n",
    "    },\n",
    "    dataloader_params={\n",
    "        'batch_size': 32,\n",
    "        'num_workers': 2\n",
    "    }\n",
    ")"
   ]
  },
  {
   "cell_type": "code",
   "execution_count": 8,
   "id": "a79a89ec-78ea-4949-8194-d32ddf814c4e",
   "metadata": {
    "tags": []
   },
   "outputs": [
    {
     "name": "stderr",
     "output_type": "stream",
     "text": [
      "[2023-09-01 22:03:25] INFO - checkpoint_utils.py - License Notification: YOLO-NAS pre-trained weights are subjected to the specific license terms and conditions detailed in \n",
      "https://github.com/Deci-AI/super-gradients/blob/master/LICENSE.YOLONAS.md\n",
      "By downloading the pre-trained weight files you agree to comply with these terms.\n",
      "[2023-09-01 22:03:25] INFO - checkpoint_utils.py - Successfully loaded pretrained weights for architecture yolo_nas_l\n"
     ]
    }
   ],
   "source": [
    "from super_gradients.training import models\n",
    "\n",
    "model = models.get(\n",
    "    MODEL_ARCH, \n",
    "    num_classes=len(dataset_params['classes']), \n",
    "    pretrained_weights=\"coco\"\n",
    ")"
   ]
  },
  {
   "cell_type": "code",
   "execution_count": 56,
   "id": "ae17eabd-e9e2-490e-ab73-cc1a8637a986",
   "metadata": {},
   "outputs": [],
   "source": [
    "from super_gradients.training.losses import PPYoloELoss\n",
    "from super_gradients.training.metrics import DetectionMetrics_050\n",
    "from super_gradients.training.models.detection_models.pp_yolo_e import PPYoloEPostPredictionCallback\n",
    "\n",
    "train_params = {\n",
    "    'silent_mode': False,\n",
    "    \"average_best_models\":True,\n",
    "    \"warmup_mode\": \"linear_epoch_step\",\n",
    "    \"warmup_initial_lr\": 1e-6,\n",
    "    \"lr_warmup_epochs\": 3,\n",
    "    \"initial_lr\": 5e-4,\n",
    "    \"lr_mode\": \"cosine\",\n",
    "    \"cosine_final_lr_ratio\": 0.1,\n",
    "    \"optimizer\": \"Adam\",\n",
    "    \"optimizer_params\": {\"weight_decay\": 0.0001},\n",
    "    \"zero_weight_decay_on_bias_and_bn\": True,\n",
    "    \"ema\": True,\n",
    "    \"ema_params\": {\"decay\": 0.9, \"decay_type\": \"threshold\"},\n",
    "    \"max_epochs\": MAX_EPOCHS,\n",
    "    \"mixed_precision\": True,\n",
    "    \"loss\": PPYoloELoss(\n",
    "        use_static_assigner=False,\n",
    "        num_classes=len(dataset_params['classes']),\n",
    "        reg_max=16\n",
    "    ),\n",
    "    \"valid_metrics_list\": [\n",
    "        DetectionMetrics_050(\n",
    "            score_thres=0.1,\n",
    "            top_k_predictions=300,\n",
    "            num_cls=len(dataset_params['classes']),\n",
    "            normalize_targets=True,\n",
    "            post_prediction_callback=PPYoloEPostPredictionCallback(\n",
    "                score_threshold=0.01,\n",
    "                nms_top_k=1000,\n",
    "                max_predictions=300,\n",
    "                nms_threshold=0.7\n",
    "            )\n",
    "        )\n",
    "    ],\n",
    "    \"metric_to_watch\": 'mAP@0.50'\n",
    "}"
   ]
  },
  {
   "cell_type": "code",
   "execution_count": 57,
   "id": "e5b3f5e1",
   "metadata": {},
   "outputs": [
    {
     "name": "stdout",
     "output_type": "stream",
     "text": [
      "cuda\n",
      "The console stream is now moved to ./checkpoints\\unreal_ships_detection/console_set01_21_48_40.txt\n"
     ]
    },
    {
     "name": "stderr",
     "output_type": "stream",
     "text": [
      "[2023-09-01 21:48:42] INFO - sg_trainer.py - Using EMA with params {'decay': 0.9, 'decay_type': 'threshold'}\n"
     ]
    },
    {
     "ename": "AssertionError",
     "evalue": "mixed precision is not available for CPU",
     "output_type": "error",
     "traceback": [
      "\u001b[1;31m---------------------------------------------------------------------------\u001b[0m",
      "\u001b[1;31mAssertionError\u001b[0m                            Traceback (most recent call last)",
      "Cell \u001b[1;32mIn[57], line 2\u001b[0m\n\u001b[0;32m      1\u001b[0m \u001b[39mprint\u001b[39m(DEVICE)\n\u001b[1;32m----> 2\u001b[0m trainer\u001b[39m.\u001b[39;49mtrain(\n\u001b[0;32m      3\u001b[0m     model\u001b[39m=\u001b[39;49mmodel, \n\u001b[0;32m      4\u001b[0m     training_params\u001b[39m=\u001b[39;49mtrain_params, \n\u001b[0;32m      5\u001b[0m     train_loader\u001b[39m=\u001b[39;49mtrain_data, \n\u001b[0;32m      6\u001b[0m     valid_loader\u001b[39m=\u001b[39;49mval_data\n\u001b[0;32m      7\u001b[0m )\n",
      "File \u001b[1;32mc:\\Users\\mateu\\AppData\\Local\\Programs\\Python\\Python39\\lib\\site-packages\\super_gradients\\training\\sg_trainer\\sg_trainer.py:1279\u001b[0m, in \u001b[0;36mTrainer.train\u001b[1;34m(self, model, training_params, train_loader, valid_loader, test_loaders, additional_configs_to_log)\u001b[0m\n\u001b[0;32m   1275\u001b[0m     \u001b[39mself\u001b[39m\u001b[39m.\u001b[39moptimizer\u001b[39m.\u001b[39mload_state_dict(\u001b[39mself\u001b[39m\u001b[39m.\u001b[39mcheckpoint[\u001b[39m\"\u001b[39m\u001b[39moptimizer_state_dict\u001b[39m\u001b[39m\"\u001b[39m])\n\u001b[0;32m   1277\u001b[0m \u001b[39mself\u001b[39m\u001b[39m.\u001b[39mpre_prediction_callback \u001b[39m=\u001b[39m CallbacksFactory()\u001b[39m.\u001b[39mget(\u001b[39mself\u001b[39m\u001b[39m.\u001b[39mtraining_params\u001b[39m.\u001b[39mpre_prediction_callback)\n\u001b[1;32m-> 1279\u001b[0m \u001b[39mself\u001b[39;49m\u001b[39m.\u001b[39;49m_initialize_mixed_precision(\u001b[39mself\u001b[39;49m\u001b[39m.\u001b[39;49mtraining_params\u001b[39m.\u001b[39;49mmixed_precision)\n\u001b[0;32m   1281\u001b[0m \u001b[39mself\u001b[39m\u001b[39m.\u001b[39mckpt_best_name \u001b[39m=\u001b[39m \u001b[39mself\u001b[39m\u001b[39m.\u001b[39mtraining_params\u001b[39m.\u001b[39mckpt_best_name\n\u001b[0;32m   1283\u001b[0m \u001b[39mif\u001b[39;00m \u001b[39mself\u001b[39m\u001b[39m.\u001b[39mtraining_params\u001b[39m.\u001b[39mmax_train_batches \u001b[39mis\u001b[39;00m \u001b[39mnot\u001b[39;00m \u001b[39mNone\u001b[39;00m:\n",
      "File \u001b[1;32mc:\\Users\\mateu\\AppData\\Local\\Programs\\Python\\Python39\\lib\\site-packages\\super_gradients\\training\\sg_trainer\\sg_trainer.py:1528\u001b[0m, in \u001b[0;36mTrainer._initialize_mixed_precision\u001b[1;34m(self, mixed_precision_enabled)\u001b[0m\n\u001b[0;32m   1525\u001b[0m \u001b[39mself\u001b[39m\u001b[39m.\u001b[39mscaler \u001b[39m=\u001b[39m GradScaler(enabled\u001b[39m=\u001b[39mmixed_precision_enabled)\n\u001b[0;32m   1527\u001b[0m \u001b[39mif\u001b[39;00m mixed_precision_enabled:\n\u001b[1;32m-> 1528\u001b[0m     \u001b[39massert\u001b[39;00m device_config\u001b[39m.\u001b[39mdevice\u001b[39m.\u001b[39mstartswith(\u001b[39m\"\u001b[39m\u001b[39mcuda\u001b[39m\u001b[39m\"\u001b[39m), \u001b[39m\"\u001b[39m\u001b[39mmixed precision is not available for CPU\u001b[39m\u001b[39m\"\u001b[39m\n\u001b[0;32m   1529\u001b[0m     \u001b[39mif\u001b[39;00m device_config\u001b[39m.\u001b[39mmulti_gpu \u001b[39m==\u001b[39m MultiGPUMode\u001b[39m.\u001b[39mDATA_PARALLEL:\n\u001b[0;32m   1530\u001b[0m         \u001b[39m# IN DATAPARALLEL MODE WE NEED TO WRAP THE FORWARD FUNCTION OF OUR MODEL SO IT WILL RUN WITH AUTOCAST.\u001b[39;00m\n\u001b[0;32m   1531\u001b[0m         \u001b[39m# BUT SINCE THE MODULE IS CLONED TO THE DEVICES ON EACH FORWARD CALL OF A DATAPARALLEL MODEL,\u001b[39;00m\n\u001b[0;32m   1532\u001b[0m         \u001b[39m# WE HAVE TO REGISTER THE WRAPPER BEFORE EVERY FORWARD CALL\u001b[39;00m\n\u001b[0;32m   1533\u001b[0m         \u001b[39mdef\u001b[39;00m \u001b[39mhook\u001b[39m(module, _):\n",
      "\u001b[1;31mAssertionError\u001b[0m: mixed precision is not available for CPU"
     ]
    },
    {
     "name": "stderr",
     "output_type": "stream",
     "text": [
      "torch.cuda.amp.GradScaler is enabled, but CUDA is not available.  Disabling.\n"
     ]
    }
   ],
   "source": [
    "print(DEVICE)\n",
    "trainer.train(\n",
    "    model=model, \n",
    "    training_params=train_params, \n",
    "    train_loader=train_data, \n",
    "    valid_loader=val_data\n",
    ")"
   ]
  },
  {
   "cell_type": "code",
   "execution_count": 1,
   "id": "6e89fc22",
   "metadata": {},
   "outputs": [
    {
     "name": "stdout",
     "output_type": "stream",
     "text": [
      "GPU não disponível.\n"
     ]
    }
   ],
   "source": [
    "import torch\n",
    "\n",
    "if torch.cuda.is_available():\n",
    "    device = torch.device(\"cuda\")\n",
    "    print(\"GPU disponível.\")\n",
    "    print(\"Dispositivo atual:\", torch.cuda.get_device_name(0))  # 0 é o índice da GPU, pode ser diferente\n",
    "    print(\"Memória VRAM disponível:\", torch.cuda.get_device_properties(0).total_memory / (1024 ** 2), \"MB\")\n",
    "else:\n",
    "    print(\"GPU não disponível.\")\n"
   ]
  },
  {
   "cell_type": "code",
   "execution_count": 7,
   "id": "e908871a",
   "metadata": {},
   "outputs": [
    {
     "name": "stdout",
     "output_type": "stream",
     "text": [
      "Looking in indexes: https://download.pytorch.org/whl/cu117\n",
      "Requirement already satisfied: torch in c:\\users\\mateu\\appdata\\local\\programs\\python\\python39\\lib\\site-packages (2.0.1)\n",
      "Requirement already satisfied: torchvision in c:\\users\\mateu\\appdata\\local\\programs\\python\\python39\\lib\\site-packages (0.15.2)\n",
      "Requirement already satisfied: torchaudio in c:\\users\\mateu\\appdata\\local\\programs\\python\\python39\\lib\\site-packages (2.0.2+cu118)\n",
      "Requirement already satisfied: filelock in c:\\users\\mateu\\appdata\\local\\programs\\python\\python39\\lib\\site-packages (from torch) (3.12.3)\n",
      "Requirement already satisfied: typing-extensions in c:\\users\\mateu\\appdata\\roaming\\python\\python39\\site-packages (from torch) (4.7.1)\n",
      "Requirement already satisfied: sympy in c:\\users\\mateu\\appdata\\local\\programs\\python\\python39\\lib\\site-packages (from torch) (1.12)\n",
      "Requirement already satisfied: networkx in c:\\users\\mateu\\appdata\\local\\programs\\python\\python39\\lib\\site-packages (from torch) (3.1)\n",
      "Requirement already satisfied: jinja2 in c:\\users\\mateu\\appdata\\local\\programs\\python\\python39\\lib\\site-packages (from torch) (3.1.2)\n",
      "Requirement already satisfied: numpy in c:\\users\\mateu\\appdata\\local\\programs\\python\\python39\\lib\\site-packages (from torchvision) (1.23.0)\n",
      "Requirement already satisfied: requests in c:\\users\\mateu\\appdata\\local\\programs\\python\\python39\\lib\\site-packages (from torchvision) (2.28.2)\n",
      "Requirement already satisfied: pillow!=8.3.*,>=5.3.0 in c:\\users\\mateu\\appdata\\local\\programs\\python\\python39\\lib\\site-packages (from torchvision) (9.5.0)\n",
      "Requirement already satisfied: MarkupSafe>=2.0 in c:\\users\\mateu\\appdata\\local\\programs\\python\\python39\\lib\\site-packages (from jinja2->torch) (2.1.3)\n",
      "Requirement already satisfied: charset-normalizer<4,>=2 in c:\\users\\mateu\\appdata\\local\\programs\\python\\python39\\lib\\site-packages (from requests->torchvision) (3.1.0)\n",
      "Requirement already satisfied: idna<4,>=2.5 in c:\\users\\mateu\\appdata\\local\\programs\\python\\python39\\lib\\site-packages (from requests->torchvision) (2.10)\n",
      "Requirement already satisfied: urllib3<1.27,>=1.21.1 in c:\\users\\mateu\\appdata\\local\\programs\\python\\python39\\lib\\site-packages (from requests->torchvision) (1.26.15)\n",
      "Requirement already satisfied: certifi>=2017.4.17 in c:\\users\\mateu\\appdata\\local\\programs\\python\\python39\\lib\\site-packages (from requests->torchvision) (2022.12.7)\n",
      "Requirement already satisfied: mpmath>=0.19 in c:\\users\\mateu\\appdata\\local\\programs\\python\\python39\\lib\\site-packages (from sympy->torch) (1.3.0)\n",
      "Note: you may need to restart the kernel to use updated packages.\n"
     ]
    }
   ],
   "source": [
    "%pip install torch torchvision torchaudio --index-url https://download.pytorch.org/whl/cu117"
   ]
  }
 ],
 "metadata": {
  "kernelspec": {
   "display_name": "Python 3 (ipykernel)",
   "language": "python",
   "name": "python3"
  },
  "language_info": {
   "codemirror_mode": {
    "name": "ipython",
    "version": 3
   },
   "file_extension": ".py",
   "mimetype": "text/x-python",
   "name": "python",
   "nbconvert_exporter": "python",
   "pygments_lexer": "ipython3",
   "version": "3.9.0"
  }
 },
 "nbformat": 4,
 "nbformat_minor": 5
}
