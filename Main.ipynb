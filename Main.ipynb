{
  "cells": [
    {
      "cell_type": "code",
      "execution_count": 1,
      "id": "24aa75fa-84be-43ba-9cac-3129f34fc597",
      "metadata": {
        "colab": {
          "base_uri": "https://localhost:8080/",
          "height": 1000
        },
        "id": "24aa75fa-84be-43ba-9cac-3129f34fc597",
        "outputId": "0d6c3634-f2c0-47a1-913f-e874f2a1852d",
        "tags": []
      },
      "outputs": [
        {
          "output_type": "stream",
          "name": "stdout",
          "text": [
            "Collecting super-gradients\n",
            "  Downloading super_gradients-3.5.0-py3-none-any.whl (12.0 MB)\n",
            "\u001b[2K     \u001b[90m━━━━━━━━━━━━━━━━━━━━━━━━━━━━━━━━━━━━━━━━\u001b[0m \u001b[32m12.0/12.0 MB\u001b[0m \u001b[31m52.7 MB/s\u001b[0m eta \u001b[36m0:00:00\u001b[0m\n",
            "\u001b[?25hRequirement already satisfied: torch>=1.9.0 in /usr/local/lib/python3.10/dist-packages (from super-gradients) (2.1.0+cu118)\n",
            "Requirement already satisfied: tqdm>=4.57.0 in /usr/local/lib/python3.10/dist-packages (from super-gradients) (4.66.1)\n",
            "Collecting boto3>=1.17.15 (from super-gradients)\n",
            "  Downloading boto3-1.34.0-py3-none-any.whl (139 kB)\n",
            "\u001b[2K     \u001b[90m━━━━━━━━━━━━━━━━━━━━━━━━━━━━━━━━━━━━━━━━\u001b[0m \u001b[32m139.3/139.3 kB\u001b[0m \u001b[31m7.5 MB/s\u001b[0m eta \u001b[36m0:00:00\u001b[0m\n",
            "\u001b[?25hRequirement already satisfied: jsonschema>=3.2.0 in /usr/local/lib/python3.10/dist-packages (from super-gradients) (4.19.2)\n",
            "Collecting Deprecated>=1.2.11 (from super-gradients)\n",
            "  Downloading Deprecated-1.2.14-py2.py3-none-any.whl (9.6 kB)\n",
            "Requirement already satisfied: opencv-python>=4.5.1 in /usr/local/lib/python3.10/dist-packages (from super-gradients) (4.8.0.76)\n",
            "Requirement already satisfied: scipy>=1.6.1 in /usr/local/lib/python3.10/dist-packages (from super-gradients) (1.11.4)\n",
            "Requirement already satisfied: matplotlib>=3.3.4 in /usr/local/lib/python3.10/dist-packages (from super-gradients) (3.7.1)\n",
            "Requirement already satisfied: psutil>=5.8.0 in /usr/local/lib/python3.10/dist-packages (from super-gradients) (5.9.5)\n",
            "Requirement already satisfied: tensorboard>=2.4.1 in /usr/local/lib/python3.10/dist-packages (from super-gradients) (2.14.1)\n",
            "Requirement already satisfied: setuptools>=21.0.0 in /usr/local/lib/python3.10/dist-packages (from super-gradients) (67.7.2)\n",
            "Collecting coverage~=5.3.1 (from super-gradients)\n",
            "  Downloading coverage-5.3.1.tar.gz (684 kB)\n",
            "\u001b[2K     \u001b[90m━━━━━━━━━━━━━━━━━━━━━━━━━━━━━━━━━━━━━━━━\u001b[0m \u001b[32m684.5/684.5 kB\u001b[0m \u001b[31m37.7 MB/s\u001b[0m eta \u001b[36m0:00:00\u001b[0m\n",
            "\u001b[?25h  Preparing metadata (setup.py) ... \u001b[?25l\u001b[?25hdone\n",
            "Requirement already satisfied: torchvision>=0.10.0 in /usr/local/lib/python3.10/dist-packages (from super-gradients) (0.16.0+cu118)\n",
            "Collecting sphinx~=4.0.2 (from super-gradients)\n",
            "  Downloading Sphinx-4.0.3-py3-none-any.whl (2.9 MB)\n",
            "\u001b[2K     \u001b[90m━━━━━━━━━━━━━━━━━━━━━━━━━━━━━━━━━━━━━━━━\u001b[0m \u001b[32m2.9/2.9 MB\u001b[0m \u001b[31m67.2 MB/s\u001b[0m eta \u001b[36m0:00:00\u001b[0m\n",
            "\u001b[?25hCollecting sphinx-rtd-theme (from super-gradients)\n",
            "  Downloading sphinx_rtd_theme-2.0.0-py2.py3-none-any.whl (2.8 MB)\n",
            "\u001b[2K     \u001b[90m━━━━━━━━━━━━━━━━━━━━━━━━━━━━━━━━━━━━━━━━\u001b[0m \u001b[32m2.8/2.8 MB\u001b[0m \u001b[31m39.4 MB/s\u001b[0m eta \u001b[36m0:00:00\u001b[0m\n",
            "\u001b[?25hCollecting torchmetrics==0.8 (from super-gradients)\n",
            "  Downloading torchmetrics-0.8.0-py3-none-any.whl (408 kB)\n",
            "\u001b[2K     \u001b[90m━━━━━━━━━━━━━━━━━━━━━━━━━━━━━━━━━━━━━━━━\u001b[0m \u001b[32m408.6/408.6 kB\u001b[0m \u001b[31m32.7 MB/s\u001b[0m eta \u001b[36m0:00:00\u001b[0m\n",
            "\u001b[?25hCollecting hydra-core>=1.2.0 (from super-gradients)\n",
            "  Downloading hydra_core-1.3.2-py3-none-any.whl (154 kB)\n",
            "\u001b[2K     \u001b[90m━━━━━━━━━━━━━━━━━━━━━━━━━━━━━━━━━━━━━━━━\u001b[0m \u001b[32m154.5/154.5 kB\u001b[0m \u001b[31m18.8 MB/s\u001b[0m eta \u001b[36m0:00:00\u001b[0m\n",
            "\u001b[?25hCollecting omegaconf (from super-gradients)\n",
            "  Downloading omegaconf-2.3.0-py3-none-any.whl (79 kB)\n",
            "\u001b[2K     \u001b[90m━━━━━━━━━━━━━━━━━━━━━━━━━━━━━━━━━━━━━━━━\u001b[0m \u001b[32m79.5/79.5 kB\u001b[0m \u001b[31m11.3 MB/s\u001b[0m eta \u001b[36m0:00:00\u001b[0m\n",
            "\u001b[?25hCollecting onnxruntime==1.13.1 (from super-gradients)\n",
            "  Downloading onnxruntime-1.13.1-cp310-cp310-manylinux_2_27_x86_64.whl (4.5 MB)\n",
            "\u001b[2K     \u001b[90m━━━━━━━━━━━━━━━━━━━━━━━━━━━━━━━━━━━━━━━━\u001b[0m \u001b[32m4.5/4.5 MB\u001b[0m \u001b[31m44.5 MB/s\u001b[0m eta \u001b[36m0:00:00\u001b[0m\n",
            "\u001b[?25hCollecting onnx==1.13.0 (from super-gradients)\n",
            "  Downloading onnx-1.13.0-cp310-cp310-manylinux_2_17_x86_64.manylinux2014_x86_64.whl (13.5 MB)\n",
            "\u001b[2K     \u001b[90m━━━━━━━━━━━━━━━━━━━━━━━━━━━━━━━━━━━━━━━━\u001b[0m \u001b[32m13.5/13.5 MB\u001b[0m \u001b[31m32.4 MB/s\u001b[0m eta \u001b[36m0:00:00\u001b[0m\n",
            "\u001b[?25hRequirement already satisfied: pillow!=8.3,>=5.3.0 in /usr/local/lib/python3.10/dist-packages (from super-gradients) (9.4.0)\n",
            "Requirement already satisfied: pip-tools>=6.12.1 in /usr/local/lib/python3.10/dist-packages (from super-gradients) (6.13.0)\n",
            "Collecting pyparsing==2.4.5 (from super-gradients)\n",
            "  Downloading pyparsing-2.4.5-py2.py3-none-any.whl (67 kB)\n",
            "\u001b[2K     \u001b[90m━━━━━━━━━━━━━━━━━━━━━━━━━━━━━━━━━━━━━━━━\u001b[0m \u001b[32m68.0/68.0 kB\u001b[0m \u001b[31m9.0 MB/s\u001b[0m eta \u001b[36m0:00:00\u001b[0m\n",
            "\u001b[?25hCollecting einops==0.3.2 (from super-gradients)\n",
            "  Downloading einops-0.3.2-py3-none-any.whl (25 kB)\n",
            "Collecting pycocotools==2.0.6 (from super-gradients)\n",
            "  Downloading pycocotools-2.0.6.tar.gz (24 kB)\n",
            "  Installing build dependencies ... \u001b[?25l\u001b[?25hdone\n",
            "  Getting requirements to build wheel ... \u001b[?25l\u001b[?25hdone\n",
            "  Preparing metadata (pyproject.toml) ... \u001b[?25l\u001b[?25hdone\n",
            "Requirement already satisfied: protobuf==3.20.3 in /usr/local/lib/python3.10/dist-packages (from super-gradients) (3.20.3)\n",
            "Collecting treelib==1.6.1 (from super-gradients)\n",
            "  Downloading treelib-1.6.1.tar.gz (24 kB)\n",
            "  Preparing metadata (setup.py) ... \u001b[?25l\u001b[?25hdone\n",
            "Collecting termcolor==1.1.0 (from super-gradients)\n",
            "  Downloading termcolor-1.1.0.tar.gz (3.9 kB)\n",
            "  Preparing metadata (setup.py) ... \u001b[?25l\u001b[?25hdone\n",
            "Requirement already satisfied: packaging>=20.4 in /usr/local/lib/python3.10/dist-packages (from super-gradients) (23.2)\n",
            "Requirement already satisfied: wheel>=0.38.0 in /usr/local/lib/python3.10/dist-packages (from super-gradients) (0.42.0)\n",
            "Requirement already satisfied: pygments>=2.7.4 in /usr/local/lib/python3.10/dist-packages (from super-gradients) (2.16.1)\n",
            "Collecting stringcase>=1.2.0 (from super-gradients)\n",
            "  Downloading stringcase-1.2.0.tar.gz (3.0 kB)\n",
            "  Preparing metadata (setup.py) ... \u001b[?25l\u001b[?25hdone\n",
            "Collecting numpy<=1.23 (from super-gradients)\n",
            "  Downloading numpy-1.23.0-cp310-cp310-manylinux_2_17_x86_64.manylinux2014_x86_64.whl (17.0 MB)\n",
            "\u001b[2K     \u001b[90m━━━━━━━━━━━━━━━━━━━━━━━━━━━━━━━━━━━━━━━━\u001b[0m \u001b[32m17.0/17.0 MB\u001b[0m \u001b[31m48.2 MB/s\u001b[0m eta \u001b[36m0:00:00\u001b[0m\n",
            "\u001b[?25hCollecting rapidfuzz (from super-gradients)\n",
            "  Downloading rapidfuzz-3.5.2-cp310-cp310-manylinux_2_17_x86_64.manylinux2014_x86_64.whl (3.3 MB)\n",
            "\u001b[2K     \u001b[90m━━━━━━━━━━━━━━━━━━━━━━━━━━━━━━━━━━━━━━━━\u001b[0m \u001b[32m3.3/3.3 MB\u001b[0m \u001b[31m33.1 MB/s\u001b[0m eta \u001b[36m0:00:00\u001b[0m\n",
            "\u001b[?25hCollecting json-tricks==3.16.1 (from super-gradients)\n",
            "  Downloading json_tricks-3.16.1-py2.py3-none-any.whl (27 kB)\n",
            "Collecting onnx-simplifier<1.0,>=0.4.3 (from super-gradients)\n",
            "  Downloading onnx_simplifier-0.4.35-cp310-cp310-manylinux_2_17_x86_64.manylinux2014_x86_64.whl (2.2 MB)\n",
            "\u001b[2K     \u001b[90m━━━━━━━━━━━━━━━━━━━━━━━━━━━━━━━━━━━━━━━━\u001b[0m \u001b[32m2.2/2.2 MB\u001b[0m \u001b[31m78.8 MB/s\u001b[0m eta \u001b[36m0:00:00\u001b[0m\n",
            "\u001b[?25hCollecting data-gradients~=0.3.1 (from super-gradients)\n",
            "  Downloading data_gradients-0.3.1-py3-none-any.whl (459 kB)\n",
            "\u001b[2K     \u001b[90m━━━━━━━━━━━━━━━━━━━━━━━━━━━━━━━━━━━━━━━━\u001b[0m \u001b[32m459.2/459.2 kB\u001b[0m \u001b[31m45.2 MB/s\u001b[0m eta \u001b[36m0:00:00\u001b[0m\n",
            "\u001b[?25hRequirement already satisfied: typing-extensions>=3.6.2.1 in /usr/local/lib/python3.10/dist-packages (from onnx==1.13.0->super-gradients) (4.5.0)\n",
            "Collecting coloredlogs (from onnxruntime==1.13.1->super-gradients)\n",
            "  Downloading coloredlogs-15.0.1-py2.py3-none-any.whl (46 kB)\n",
            "\u001b[2K     \u001b[90m━━━━━━━━━━━━━━━━━━━━━━━━━━━━━━━━━━━━━━━━\u001b[0m \u001b[32m46.0/46.0 kB\u001b[0m \u001b[31m5.5 MB/s\u001b[0m eta \u001b[36m0:00:00\u001b[0m\n",
            "\u001b[?25hRequirement already satisfied: flatbuffers in /usr/local/lib/python3.10/dist-packages (from onnxruntime==1.13.1->super-gradients) (23.5.26)\n",
            "Requirement already satisfied: sympy in /usr/local/lib/python3.10/dist-packages (from onnxruntime==1.13.1->super-gradients) (1.12)\n",
            "Collecting pyDeprecate==0.3.* (from torchmetrics==0.8->super-gradients)\n",
            "  Downloading pyDeprecate-0.3.2-py3-none-any.whl (10 kB)\n",
            "Requirement already satisfied: future in /usr/local/lib/python3.10/dist-packages (from treelib==1.6.1->super-gradients) (0.18.3)\n",
            "Collecting botocore<1.35.0,>=1.34.0 (from boto3>=1.17.15->super-gradients)\n",
            "  Downloading botocore-1.34.0-py3-none-any.whl (11.8 MB)\n",
            "\u001b[2K     \u001b[90m━━━━━━━━━━━━━━━━━━━━━━━━━━━━━━━━━━━━━━━━\u001b[0m \u001b[32m11.8/11.8 MB\u001b[0m \u001b[31m46.7 MB/s\u001b[0m eta \u001b[36m0:00:00\u001b[0m\n",
            "\u001b[?25hCollecting jmespath<2.0.0,>=0.7.1 (from boto3>=1.17.15->super-gradients)\n",
            "  Downloading jmespath-1.0.1-py3-none-any.whl (20 kB)\n",
            "Collecting s3transfer<0.10.0,>=0.9.0 (from boto3>=1.17.15->super-gradients)\n",
            "  Downloading s3transfer-0.9.0-py3-none-any.whl (82 kB)\n",
            "\u001b[2K     \u001b[90m━━━━━━━━━━━━━━━━━━━━━━━━━━━━━━━━━━━━━━━━\u001b[0m \u001b[32m82.0/82.0 kB\u001b[0m \u001b[31m12.9 MB/s\u001b[0m eta \u001b[36m0:00:00\u001b[0m\n",
            "\u001b[?25hRequirement already satisfied: platformdirs>=2.5.2 in /usr/local/lib/python3.10/dist-packages (from data-gradients~=0.3.1->super-gradients) (4.1.0)\n",
            "Requirement already satisfied: seaborn in /usr/local/lib/python3.10/dist-packages (from data-gradients~=0.3.1->super-gradients) (0.12.2)\n",
            "Collecting xhtml2pdf==0.2.11 (from data-gradients~=0.3.1->super-gradients)\n",
            "  Downloading xhtml2pdf-0.2.11.tar.gz (108 kB)\n",
            "\u001b[2K     \u001b[90m━━━━━━━━━━━━━━━━━━━━━━━━━━━━━━━━━━━━━━━━\u001b[0m \u001b[32m108.3/108.3 kB\u001b[0m \u001b[31m14.7 MB/s\u001b[0m eta \u001b[36m0:00:00\u001b[0m\n",
            "\u001b[?25h  Preparing metadata (setup.py) ... \u001b[?25l\u001b[?25hdone\n",
            "Requirement already satisfied: jinja2 in /usr/local/lib/python3.10/dist-packages (from data-gradients~=0.3.1->super-gradients) (3.1.2)\n",
            "Collecting imagededup (from data-gradients~=0.3.1->super-gradients)\n",
            "  Downloading imagededup-0.3.2-cp310-cp310-manylinux_2_17_x86_64.manylinux2014_x86_64.whl (176 kB)\n",
            "\u001b[2K     \u001b[90m━━━━━━━━━━━━━━━━━━━━━━━━━━━━━━━━━━━━━━━━\u001b[0m \u001b[32m176.0/176.0 kB\u001b[0m \u001b[31m25.8 MB/s\u001b[0m eta \u001b[36m0:00:00\u001b[0m\n",
            "\u001b[?25hCollecting arabic-reshaper>=3.0.0 (from xhtml2pdf==0.2.11->data-gradients~=0.3.1->super-gradients)\n",
            "  Downloading arabic_reshaper-3.0.0-py3-none-any.whl (20 kB)\n",
            "Requirement already satisfied: html5lib>=1.0.1 in /usr/local/lib/python3.10/dist-packages (from xhtml2pdf==0.2.11->data-gradients~=0.3.1->super-gradients) (1.1)\n",
            "Collecting pyHanko>=0.12.1 (from xhtml2pdf==0.2.11->data-gradients~=0.3.1->super-gradients)\n",
            "  Downloading pyHanko-0.21.0-py3-none-any.whl (433 kB)\n",
            "\u001b[2K     \u001b[90m━━━━━━━━━━━━━━━━━━━━━━━━━━━━━━━━━━━━━━━━\u001b[0m \u001b[32m433.2/433.2 kB\u001b[0m \u001b[31m46.5 MB/s\u001b[0m eta \u001b[36m0:00:00\u001b[0m\n",
            "\u001b[?25hCollecting pyhanko-certvalidator>=0.19.5 (from xhtml2pdf==0.2.11->data-gradients~=0.3.1->super-gradients)\n",
            "  Downloading pyhanko_certvalidator-0.26.3-py3-none-any.whl (109 kB)\n",
            "\u001b[2K     \u001b[90m━━━━━━━━━━━━━━━━━━━━━━━━━━━━━━━━━━━━━━━━\u001b[0m \u001b[32m109.4/109.4 kB\u001b[0m \u001b[31m16.6 MB/s\u001b[0m eta \u001b[36m0:00:00\u001b[0m\n",
            "\u001b[?25hCollecting pypdf>=3.1.0 (from xhtml2pdf==0.2.11->data-gradients~=0.3.1->super-gradients)\n",
            "  Downloading pypdf-3.17.2-py3-none-any.whl (277 kB)\n",
            "\u001b[2K     \u001b[90m━━━━━━━━━━━━━━━━━━━━━━━━━━━━━━━━━━━━━━━━\u001b[0m \u001b[32m277.9/277.9 kB\u001b[0m \u001b[31m37.6 MB/s\u001b[0m eta \u001b[36m0:00:00\u001b[0m\n",
            "\u001b[?25hCollecting python-bidi>=0.4.2 (from xhtml2pdf==0.2.11->data-gradients~=0.3.1->super-gradients)\n",
            "  Downloading python_bidi-0.4.2-py2.py3-none-any.whl (30 kB)\n",
            "Collecting reportlab<4,>=3.5.53 (from xhtml2pdf==0.2.11->data-gradients~=0.3.1->super-gradients)\n",
            "  Downloading reportlab-3.6.13-cp310-cp310-manylinux_2_17_x86_64.manylinux2014_x86_64.whl (2.8 MB)\n",
            "\u001b[2K     \u001b[90m━━━━━━━━━━━━━━━━━━━━━━━━━━━━━━━━━━━━━━━━\u001b[0m \u001b[32m2.8/2.8 MB\u001b[0m \u001b[31m101.2 MB/s\u001b[0m eta \u001b[36m0:00:00\u001b[0m\n",
            "\u001b[?25hCollecting svglib>=1.2.1 (from xhtml2pdf==0.2.11->data-gradients~=0.3.1->super-gradients)\n",
            "  Downloading svglib-1.5.1.tar.gz (913 kB)\n",
            "\u001b[2K     \u001b[90m━━━━━━━━━━━━━━━━━━━━━━━━━━━━━━━━━━━━━━━━\u001b[0m \u001b[32m913.9/913.9 kB\u001b[0m \u001b[31m66.7 MB/s\u001b[0m eta \u001b[36m0:00:00\u001b[0m\n",
            "\u001b[?25h  Preparing metadata (setup.py) ... \u001b[?25l\u001b[?25hdone\n",
            "Requirement already satisfied: wrapt<2,>=1.10 in /usr/local/lib/python3.10/dist-packages (from Deprecated>=1.2.11->super-gradients) (1.14.1)\n",
            "Collecting antlr4-python3-runtime==4.9.* (from hydra-core>=1.2.0->super-gradients)\n",
            "  Downloading antlr4-python3-runtime-4.9.3.tar.gz (117 kB)\n",
            "\u001b[2K     \u001b[90m━━━━━━━━━━━━━━━━━━━━━━━━━━━━━━━━━━━━━━━━\u001b[0m \u001b[32m117.0/117.0 kB\u001b[0m \u001b[31m17.2 MB/s\u001b[0m eta \u001b[36m0:00:00\u001b[0m\n",
            "\u001b[?25h  Preparing metadata (setup.py) ... \u001b[?25l\u001b[?25hdone\n",
            "Requirement already satisfied: attrs>=22.2.0 in /usr/local/lib/python3.10/dist-packages (from jsonschema>=3.2.0->super-gradients) (23.1.0)\n",
            "Requirement already satisfied: jsonschema-specifications>=2023.03.6 in /usr/local/lib/python3.10/dist-packages (from jsonschema>=3.2.0->super-gradients) (2023.11.2)\n",
            "Requirement already satisfied: referencing>=0.28.4 in /usr/local/lib/python3.10/dist-packages (from jsonschema>=3.2.0->super-gradients) (0.31.1)\n",
            "Requirement already satisfied: rpds-py>=0.7.1 in /usr/local/lib/python3.10/dist-packages (from jsonschema>=3.2.0->super-gradients) (0.13.2)\n",
            "Requirement already satisfied: contourpy>=1.0.1 in /usr/local/lib/python3.10/dist-packages (from matplotlib>=3.3.4->super-gradients) (1.2.0)\n",
            "Requirement already satisfied: cycler>=0.10 in /usr/local/lib/python3.10/dist-packages (from matplotlib>=3.3.4->super-gradients) (0.12.1)\n",
            "Requirement already satisfied: fonttools>=4.22.0 in /usr/local/lib/python3.10/dist-packages (from matplotlib>=3.3.4->super-gradients) (4.46.0)\n",
            "Requirement already satisfied: kiwisolver>=1.0.1 in /usr/local/lib/python3.10/dist-packages (from matplotlib>=3.3.4->super-gradients) (1.4.5)\n",
            "Requirement already satisfied: python-dateutil>=2.7 in /usr/local/lib/python3.10/dist-packages (from matplotlib>=3.3.4->super-gradients) (2.8.2)\n",
            "Requirement already satisfied: PyYAML>=5.1.0 in /usr/local/lib/python3.10/dist-packages (from omegaconf->super-gradients) (6.0.1)\n",
            "Requirement already satisfied: rich in /usr/local/lib/python3.10/dist-packages (from onnx-simplifier<1.0,>=0.4.3->super-gradients) (13.7.0)\n",
            "Requirement already satisfied: build in /usr/local/lib/python3.10/dist-packages (from pip-tools>=6.12.1->super-gradients) (1.0.3)\n",
            "Requirement already satisfied: click>=8 in /usr/local/lib/python3.10/dist-packages (from pip-tools>=6.12.1->super-gradients) (8.1.7)\n",
            "Requirement already satisfied: pip>=22.2 in /usr/local/lib/python3.10/dist-packages (from pip-tools>=6.12.1->super-gradients) (23.1.2)\n",
            "Requirement already satisfied: sphinxcontrib-applehelp in /usr/local/lib/python3.10/dist-packages (from sphinx~=4.0.2->super-gradients) (1.0.7)\n",
            "Requirement already satisfied: sphinxcontrib-devhelp in /usr/local/lib/python3.10/dist-packages (from sphinx~=4.0.2->super-gradients) (1.0.5)\n",
            "Requirement already satisfied: sphinxcontrib-jsmath in /usr/local/lib/python3.10/dist-packages (from sphinx~=4.0.2->super-gradients) (1.0.1)\n",
            "Requirement already satisfied: sphinxcontrib-htmlhelp in /usr/local/lib/python3.10/dist-packages (from sphinx~=4.0.2->super-gradients) (2.0.4)\n",
            "Requirement already satisfied: sphinxcontrib-serializinghtml in /usr/local/lib/python3.10/dist-packages (from sphinx~=4.0.2->super-gradients) (1.1.9)\n",
            "Requirement already satisfied: sphinxcontrib-qthelp in /usr/local/lib/python3.10/dist-packages (from sphinx~=4.0.2->super-gradients) (1.0.6)\n",
            "Collecting docutils<0.18,>=0.14 (from sphinx~=4.0.2->super-gradients)\n",
            "  Downloading docutils-0.17.1-py2.py3-none-any.whl (575 kB)\n",
            "\u001b[2K     \u001b[90m━━━━━━━━━━━━━━━━━━━━━━━━━━━━━━━━━━━━━━━━\u001b[0m \u001b[32m575.5/575.5 kB\u001b[0m \u001b[31m52.3 MB/s\u001b[0m eta \u001b[36m0:00:00\u001b[0m\n",
            "\u001b[?25hRequirement already satisfied: snowballstemmer>=1.1 in /usr/local/lib/python3.10/dist-packages (from sphinx~=4.0.2->super-gradients) (2.2.0)\n",
            "Requirement already satisfied: babel>=1.3 in /usr/local/lib/python3.10/dist-packages (from sphinx~=4.0.2->super-gradients) (2.13.1)\n",
            "Requirement already satisfied: alabaster<0.8,>=0.7 in /usr/local/lib/python3.10/dist-packages (from sphinx~=4.0.2->super-gradients) (0.7.13)\n",
            "Requirement already satisfied: imagesize in /usr/local/lib/python3.10/dist-packages (from sphinx~=4.0.2->super-gradients) (1.4.1)\n",
            "Requirement already satisfied: requests>=2.5.0 in /usr/local/lib/python3.10/dist-packages (from sphinx~=4.0.2->super-gradients) (2.31.0)\n",
            "Requirement already satisfied: absl-py>=0.4 in /usr/local/lib/python3.10/dist-packages (from tensorboard>=2.4.1->super-gradients) (1.4.0)\n",
            "Requirement already satisfied: grpcio>=1.48.2 in /usr/local/lib/python3.10/dist-packages (from tensorboard>=2.4.1->super-gradients) (1.59.3)\n",
            "Requirement already satisfied: google-auth<3,>=1.6.3 in /usr/local/lib/python3.10/dist-packages (from tensorboard>=2.4.1->super-gradients) (2.17.3)\n",
            "Requirement already satisfied: google-auth-oauthlib<1.1,>=0.5 in /usr/local/lib/python3.10/dist-packages (from tensorboard>=2.4.1->super-gradients) (1.0.0)\n",
            "Requirement already satisfied: markdown>=2.6.8 in /usr/local/lib/python3.10/dist-packages (from tensorboard>=2.4.1->super-gradients) (3.5.1)\n",
            "Requirement already satisfied: six>1.9 in /usr/local/lib/python3.10/dist-packages (from tensorboard>=2.4.1->super-gradients) (1.16.0)\n",
            "Requirement already satisfied: tensorboard-data-server<0.8.0,>=0.7.0 in /usr/local/lib/python3.10/dist-packages (from tensorboard>=2.4.1->super-gradients) (0.7.2)\n",
            "Requirement already satisfied: werkzeug>=1.0.1 in /usr/local/lib/python3.10/dist-packages (from tensorboard>=2.4.1->super-gradients) (3.0.1)\n",
            "Requirement already satisfied: filelock in /usr/local/lib/python3.10/dist-packages (from torch>=1.9.0->super-gradients) (3.13.1)\n",
            "Requirement already satisfied: networkx in /usr/local/lib/python3.10/dist-packages (from torch>=1.9.0->super-gradients) (3.2.1)\n",
            "Requirement already satisfied: fsspec in /usr/local/lib/python3.10/dist-packages (from torch>=1.9.0->super-gradients) (2023.6.0)\n",
            "Requirement already satisfied: triton==2.1.0 in /usr/local/lib/python3.10/dist-packages (from torch>=1.9.0->super-gradients) (2.1.0)\n",
            "INFO: pip is looking at multiple versions of sphinx-rtd-theme to determine which version is compatible with other requirements. This could take a while.\n",
            "Collecting sphinx-rtd-theme (from super-gradients)\n",
            "  Downloading sphinx_rtd_theme-1.3.0-py2.py3-none-any.whl (2.8 MB)\n",
            "\u001b[2K     \u001b[90m━━━━━━━━━━━━━━━━━━━━━━━━━━━━━━━━━━━━━━━━\u001b[0m \u001b[32m2.8/2.8 MB\u001b[0m \u001b[31m100.1 MB/s\u001b[0m eta \u001b[36m0:00:00\u001b[0m\n",
            "\u001b[?25hCollecting sphinxcontrib-jquery<5,>=4 (from sphinx-rtd-theme->super-gradients)\n",
            "  Downloading sphinxcontrib_jquery-4.1-py2.py3-none-any.whl (121 kB)\n",
            "\u001b[2K     \u001b[90m━━━━━━━━━━━━━━━━━━━━━━━━━━━━━━━━━━━━━━━━\u001b[0m \u001b[32m121.1/121.1 kB\u001b[0m \u001b[31m17.6 MB/s\u001b[0m eta \u001b[36m0:00:00\u001b[0m\n",
            "\u001b[?25hRequirement already satisfied: urllib3<2.1,>=1.25.4 in /usr/local/lib/python3.10/dist-packages (from botocore<1.35.0,>=1.34.0->boto3>=1.17.15->super-gradients) (2.0.7)\n",
            "Requirement already satisfied: cachetools<6.0,>=2.0.0 in /usr/local/lib/python3.10/dist-packages (from google-auth<3,>=1.6.3->tensorboard>=2.4.1->super-gradients) (5.3.2)\n",
            "Requirement already satisfied: pyasn1-modules>=0.2.1 in /usr/local/lib/python3.10/dist-packages (from google-auth<3,>=1.6.3->tensorboard>=2.4.1->super-gradients) (0.3.0)\n",
            "Requirement already satisfied: rsa<5,>=3.1.4 in /usr/local/lib/python3.10/dist-packages (from google-auth<3,>=1.6.3->tensorboard>=2.4.1->super-gradients) (4.9)\n",
            "Requirement already satisfied: requests-oauthlib>=0.7.0 in /usr/local/lib/python3.10/dist-packages (from google-auth-oauthlib<1.1,>=0.5->tensorboard>=2.4.1->super-gradients) (1.3.1)\n",
            "Requirement already satisfied: MarkupSafe>=2.0 in /usr/local/lib/python3.10/dist-packages (from jinja2->data-gradients~=0.3.1->super-gradients) (2.1.3)\n",
            "Requirement already satisfied: charset-normalizer<4,>=2 in /usr/local/lib/python3.10/dist-packages (from requests>=2.5.0->sphinx~=4.0.2->super-gradients) (3.3.2)\n",
            "Requirement already satisfied: idna<4,>=2.5 in /usr/local/lib/python3.10/dist-packages (from requests>=2.5.0->sphinx~=4.0.2->super-gradients) (3.6)\n",
            "Requirement already satisfied: certifi>=2017.4.17 in /usr/local/lib/python3.10/dist-packages (from requests>=2.5.0->sphinx~=4.0.2->super-gradients) (2023.11.17)\n",
            "Requirement already satisfied: pyproject_hooks in /usr/local/lib/python3.10/dist-packages (from build->pip-tools>=6.12.1->super-gradients) (1.0.0)\n",
            "Requirement already satisfied: tomli>=1.1.0 in /usr/local/lib/python3.10/dist-packages (from build->pip-tools>=6.12.1->super-gradients) (2.0.1)\n",
            "Collecting humanfriendly>=9.1 (from coloredlogs->onnxruntime==1.13.1->super-gradients)\n",
            "  Downloading humanfriendly-10.0-py2.py3-none-any.whl (86 kB)\n",
            "\u001b[2K     \u001b[90m━━━━━━━━━━━━━━━━━━━━━━━━━━━━━━━━━━━━━━━━\u001b[0m \u001b[32m86.8/86.8 kB\u001b[0m \u001b[31m11.9 MB/s\u001b[0m eta \u001b[36m0:00:00\u001b[0m\n",
            "\u001b[?25hRequirement already satisfied: scikit-learn in /usr/local/lib/python3.10/dist-packages (from imagededup->data-gradients~=0.3.1->super-gradients) (1.2.2)\n",
            "Requirement already satisfied: PyWavelets in /usr/local/lib/python3.10/dist-packages (from imagededup->data-gradients~=0.3.1->super-gradients) (1.5.0)\n",
            "Requirement already satisfied: markdown-it-py>=2.2.0 in /usr/local/lib/python3.10/dist-packages (from rich->onnx-simplifier<1.0,>=0.4.3->super-gradients) (3.0.0)\n",
            "Requirement already satisfied: pandas>=0.25 in /usr/local/lib/python3.10/dist-packages (from seaborn->data-gradients~=0.3.1->super-gradients) (1.5.3)\n",
            "INFO: pip is looking at multiple versions of sphinxcontrib-applehelp to determine which version is compatible with other requirements. This could take a while.\n",
            "Collecting sphinxcontrib-applehelp (from sphinx~=4.0.2->super-gradients)\n",
            "  Downloading sphinxcontrib_applehelp-1.0.6-py3-none-any.whl (120 kB)\n",
            "\u001b[2K     \u001b[90m━━━━━━━━━━━━━━━━━━━━━━━━━━━━━━━━━━━━━━━━\u001b[0m \u001b[32m120.0/120.0 kB\u001b[0m \u001b[31m17.8 MB/s\u001b[0m eta \u001b[36m0:00:00\u001b[0m\n",
            "\u001b[?25h  Downloading sphinxcontrib_applehelp-1.0.5-py3-none-any.whl (120 kB)\n",
            "\u001b[2K     \u001b[90m━━━━━━━━━━━━━━━━━━━━━━━━━━━━━━━━━━━━━━━━\u001b[0m \u001b[32m120.0/120.0 kB\u001b[0m \u001b[31m15.2 MB/s\u001b[0m eta \u001b[36m0:00:00\u001b[0m\n",
            "\u001b[?25h  Downloading sphinxcontrib_applehelp-1.0.4-py3-none-any.whl (120 kB)\n",
            "\u001b[2K     \u001b[90m━━━━━━━━━━━━━━━━━━━━━━━━━━━━━━━━━━━━━━━━\u001b[0m \u001b[32m120.6/120.6 kB\u001b[0m \u001b[31m16.5 MB/s\u001b[0m eta \u001b[36m0:00:00\u001b[0m\n",
            "\u001b[?25hINFO: pip is looking at multiple versions of sphinxcontrib-devhelp to determine which version is compatible with other requirements. This could take a while.\n",
            "Collecting sphinxcontrib-devhelp (from sphinx~=4.0.2->super-gradients)\n",
            "  Downloading sphinxcontrib_devhelp-1.0.4-py3-none-any.whl (83 kB)\n",
            "\u001b[2K     \u001b[90m━━━━━━━━━━━━━━━━━━━━━━━━━━━━━━━━━━━━━━━━\u001b[0m \u001b[32m83.5/83.5 kB\u001b[0m \u001b[31m11.9 MB/s\u001b[0m eta \u001b[36m0:00:00\u001b[0m\n",
            "\u001b[?25h  Downloading sphinxcontrib_devhelp-1.0.3-py3-none-any.whl (83 kB)\n",
            "\u001b[2K     \u001b[90m━━━━━━━━━━━━━━━━━━━━━━━━━━━━━━━━━━━━━━━━\u001b[0m \u001b[32m83.5/83.5 kB\u001b[0m \u001b[31m11.7 MB/s\u001b[0m eta \u001b[36m0:00:00\u001b[0m\n",
            "\u001b[?25h  Downloading sphinxcontrib_devhelp-1.0.2-py2.py3-none-any.whl (84 kB)\n",
            "\u001b[2K     \u001b[90m━━━━━━━━━━━━━━━━━━━━━━━━━━━━━━━━━━━━━━━━\u001b[0m \u001b[32m84.7/84.7 kB\u001b[0m \u001b[31m12.0 MB/s\u001b[0m eta \u001b[36m0:00:00\u001b[0m\n",
            "\u001b[?25hINFO: pip is looking at multiple versions of sphinxcontrib-htmlhelp to determine which version is compatible with other requirements. This could take a while.\n",
            "Collecting sphinxcontrib-htmlhelp (from sphinx~=4.0.2->super-gradients)\n",
            "  Downloading sphinxcontrib_htmlhelp-2.0.3-py3-none-any.whl (99 kB)\n",
            "\u001b[2K     \u001b[90m━━━━━━━━━━━━━━━━━━━━━━━━━━━━━━━━━━━━━━━━\u001b[0m \u001b[32m99.2/99.2 kB\u001b[0m \u001b[31m15.3 MB/s\u001b[0m eta \u001b[36m0:00:00\u001b[0m\n",
            "\u001b[?25h  Downloading sphinxcontrib_htmlhelp-2.0.2-py3-none-any.whl (99 kB)\n",
            "\u001b[2K     \u001b[90m━━━━━━━━━━━━━━━━━━━━━━━━━━━━━━━━━━━━━━━━\u001b[0m \u001b[32m99.2/99.2 kB\u001b[0m \u001b[31m13.9 MB/s\u001b[0m eta \u001b[36m0:00:00\u001b[0m\n",
            "\u001b[?25h  Downloading sphinxcontrib_htmlhelp-2.0.1-py3-none-any.whl (99 kB)\n",
            "\u001b[2K     \u001b[90m━━━━━━━━━━━━━━━━━━━━━━━━━━━━━━━━━━━━━━━━\u001b[0m \u001b[32m99.8/99.8 kB\u001b[0m \u001b[31m14.9 MB/s\u001b[0m eta \u001b[36m0:00:00\u001b[0m\n",
            "\u001b[?25hINFO: pip is looking at multiple versions of sphinxcontrib-qthelp to determine which version is compatible with other requirements. This could take a while.\n",
            "Collecting sphinxcontrib-qthelp (from sphinx~=4.0.2->super-gradients)\n",
            "  Downloading sphinxcontrib_qthelp-1.0.5-py3-none-any.whl (89 kB)\n",
            "\u001b[2K     \u001b[90m━━━━━━━━━━━━━━━━━━━━━━━━━━━━━━━━━━━━━━━━\u001b[0m \u001b[32m89.4/89.4 kB\u001b[0m \u001b[31m12.4 MB/s\u001b[0m eta \u001b[36m0:00:00\u001b[0m\n",
            "\u001b[?25h  Downloading sphinxcontrib_qthelp-1.0.4-py3-none-any.whl (89 kB)\n",
            "\u001b[2K     \u001b[90m━━━━━━━━━━━━━━━━━━━━━━━━━━━━━━━━━━━━━━━━\u001b[0m \u001b[32m89.4/89.4 kB\u001b[0m \u001b[31m12.6 MB/s\u001b[0m eta \u001b[36m0:00:00\u001b[0m\n",
            "\u001b[?25h  Downloading sphinxcontrib_qthelp-1.0.3-py2.py3-none-any.whl (90 kB)\n",
            "\u001b[2K     \u001b[90m━━━━━━━━━━━━━━━━━━━━━━━━━━━━━━━━━━━━━━━━\u001b[0m \u001b[32m90.6/90.6 kB\u001b[0m \u001b[31m12.1 MB/s\u001b[0m eta \u001b[36m0:00:00\u001b[0m\n",
            "\u001b[?25hINFO: pip is looking at multiple versions of sphinxcontrib-serializinghtml to determine which version is compatible with other requirements. This could take a while.\n",
            "Collecting sphinxcontrib-serializinghtml (from sphinx~=4.0.2->super-gradients)\n",
            "  Downloading sphinxcontrib_serializinghtml-1.1.8-py3-none-any.whl (92 kB)\n",
            "\u001b[2K     \u001b[90m━━━━━━━━━━━━━━━━━━━━━━━━━━━━━━━━━━━━━━━━\u001b[0m \u001b[32m92.6/92.6 kB\u001b[0m \u001b[31m13.4 MB/s\u001b[0m eta \u001b[36m0:00:00\u001b[0m\n",
            "\u001b[?25h  Downloading sphinxcontrib_serializinghtml-1.1.7-py3-none-any.whl (92 kB)\n",
            "\u001b[2K     \u001b[90m━━━━━━━━━━━━━━━━━━━━━━━━━━━━━━━━━━━━━━━━\u001b[0m \u001b[32m92.6/92.6 kB\u001b[0m \u001b[31m14.8 MB/s\u001b[0m eta \u001b[36m0:00:00\u001b[0m\n",
            "\u001b[?25h  Downloading sphinxcontrib_serializinghtml-1.1.6-py3-none-any.whl (92 kB)\n",
            "\u001b[2K     \u001b[90m━━━━━━━━━━━━━━━━━━━━━━━━━━━━━━━━━━━━━━━━\u001b[0m \u001b[32m92.6/92.6 kB\u001b[0m \u001b[31m15.2 MB/s\u001b[0m eta \u001b[36m0:00:00\u001b[0m\n",
            "\u001b[?25h  Downloading sphinxcontrib_serializinghtml-1.1.5-py2.py3-none-any.whl (94 kB)\n",
            "\u001b[2K     \u001b[90m━━━━━━━━━━━━━━━━━━━━━━━━━━━━━━━━━━━━━━━━\u001b[0m \u001b[32m94.0/94.0 kB\u001b[0m \u001b[31m15.8 MB/s\u001b[0m eta \u001b[36m0:00:00\u001b[0m\n",
            "\u001b[?25hRequirement already satisfied: mpmath>=0.19 in /usr/local/lib/python3.10/dist-packages (from sympy->onnxruntime==1.13.1->super-gradients) (1.3.0)\n",
            "Requirement already satisfied: webencodings in /usr/local/lib/python3.10/dist-packages (from html5lib>=1.0.1->xhtml2pdf==0.2.11->data-gradients~=0.3.1->super-gradients) (0.5.1)\n",
            "Requirement already satisfied: mdurl~=0.1 in /usr/local/lib/python3.10/dist-packages (from markdown-it-py>=2.2.0->rich->onnx-simplifier<1.0,>=0.4.3->super-gradients) (0.1.2)\n",
            "Requirement already satisfied: pytz>=2020.1 in /usr/local/lib/python3.10/dist-packages (from pandas>=0.25->seaborn->data-gradients~=0.3.1->super-gradients) (2023.3.post1)\n",
            "Requirement already satisfied: pyasn1<0.6.0,>=0.4.6 in /usr/local/lib/python3.10/dist-packages (from pyasn1-modules>=0.2.1->google-auth<3,>=1.6.3->tensorboard>=2.4.1->super-gradients) (0.5.1)\n",
            "Collecting asn1crypto>=1.5.1 (from pyHanko>=0.12.1->xhtml2pdf==0.2.11->data-gradients~=0.3.1->super-gradients)\n",
            "  Downloading asn1crypto-1.5.1-py2.py3-none-any.whl (105 kB)\n",
            "\u001b[2K     \u001b[90m━━━━━━━━━━━━━━━━━━━━━━━━━━━━━━━━━━━━━━━━\u001b[0m \u001b[32m105.0/105.0 kB\u001b[0m \u001b[31m14.3 MB/s\u001b[0m eta \u001b[36m0:00:00\u001b[0m\n",
            "\u001b[?25hCollecting qrcode>=7.3.1 (from pyHanko>=0.12.1->xhtml2pdf==0.2.11->data-gradients~=0.3.1->super-gradients)\n",
            "  Downloading qrcode-7.4.2-py3-none-any.whl (46 kB)\n",
            "\u001b[2K     \u001b[90m━━━━━━━━━━━━━━━━━━━━━━━━━━━━━━━━━━━━━━━━\u001b[0m \u001b[32m46.2/46.2 kB\u001b[0m \u001b[31m6.5 MB/s\u001b[0m eta \u001b[36m0:00:00\u001b[0m\n",
            "\u001b[?25hRequirement already satisfied: tzlocal>=4.3 in /usr/local/lib/python3.10/dist-packages (from pyHanko>=0.12.1->xhtml2pdf==0.2.11->data-gradients~=0.3.1->super-gradients) (5.2)\n",
            "Requirement already satisfied: cryptography>=41.0.5 in /usr/local/lib/python3.10/dist-packages (from pyHanko>=0.12.1->xhtml2pdf==0.2.11->data-gradients~=0.3.1->super-gradients) (41.0.7)\n",
            "Collecting oscrypto>=1.1.0 (from pyhanko-certvalidator>=0.19.5->xhtml2pdf==0.2.11->data-gradients~=0.3.1->super-gradients)\n",
            "  Downloading oscrypto-1.3.0-py2.py3-none-any.whl (194 kB)\n",
            "\u001b[2K     \u001b[90m━━━━━━━━━━━━━━━━━━━━━━━━━━━━━━━━━━━━━━━━\u001b[0m \u001b[32m194.6/194.6 kB\u001b[0m \u001b[31m25.7 MB/s\u001b[0m eta \u001b[36m0:00:00\u001b[0m\n",
            "\u001b[?25hCollecting uritools>=3.0.1 (from pyhanko-certvalidator>=0.19.5->xhtml2pdf==0.2.11->data-gradients~=0.3.1->super-gradients)\n",
            "  Downloading uritools-4.0.2-py3-none-any.whl (10 kB)\n",
            "Requirement already satisfied: oauthlib>=3.0.0 in /usr/local/lib/python3.10/dist-packages (from requests-oauthlib>=0.7.0->google-auth-oauthlib<1.1,>=0.5->tensorboard>=2.4.1->super-gradients) (3.2.2)\n",
            "Requirement already satisfied: lxml in /usr/local/lib/python3.10/dist-packages (from svglib>=1.2.1->xhtml2pdf==0.2.11->data-gradients~=0.3.1->super-gradients) (4.9.3)\n",
            "Requirement already satisfied: tinycss2>=0.6.0 in /usr/local/lib/python3.10/dist-packages (from svglib>=1.2.1->xhtml2pdf==0.2.11->data-gradients~=0.3.1->super-gradients) (1.2.1)\n",
            "Collecting cssselect2>=0.2.0 (from svglib>=1.2.1->xhtml2pdf==0.2.11->data-gradients~=0.3.1->super-gradients)\n",
            "  Downloading cssselect2-0.7.0-py3-none-any.whl (15 kB)\n",
            "Requirement already satisfied: joblib>=1.1.1 in /usr/local/lib/python3.10/dist-packages (from scikit-learn->imagededup->data-gradients~=0.3.1->super-gradients) (1.3.2)\n",
            "Requirement already satisfied: threadpoolctl>=2.0.0 in /usr/local/lib/python3.10/dist-packages (from scikit-learn->imagededup->data-gradients~=0.3.1->super-gradients) (3.2.0)\n",
            "Requirement already satisfied: cffi>=1.12 in /usr/local/lib/python3.10/dist-packages (from cryptography>=41.0.5->pyHanko>=0.12.1->xhtml2pdf==0.2.11->data-gradients~=0.3.1->super-gradients) (1.16.0)\n",
            "Collecting pypng (from qrcode>=7.3.1->pyHanko>=0.12.1->xhtml2pdf==0.2.11->data-gradients~=0.3.1->super-gradients)\n",
            "  Downloading pypng-0.20220715.0-py3-none-any.whl (58 kB)\n",
            "\u001b[2K     \u001b[90m━━━━━━━━━━━━━━━━━━━━━━━━━━━━━━━━━━━━━━━━\u001b[0m \u001b[32m58.1/58.1 kB\u001b[0m \u001b[31m9.2 MB/s\u001b[0m eta \u001b[36m0:00:00\u001b[0m\n",
            "\u001b[?25hRequirement already satisfied: pycparser in /usr/local/lib/python3.10/dist-packages (from cffi>=1.12->cryptography>=41.0.5->pyHanko>=0.12.1->xhtml2pdf==0.2.11->data-gradients~=0.3.1->super-gradients) (2.21)\n",
            "Building wheels for collected packages: pycocotools, termcolor, treelib, coverage, xhtml2pdf, antlr4-python3-runtime, stringcase, svglib\n",
            "  Building wheel for pycocotools (pyproject.toml) ... \u001b[?25l\u001b[?25hdone\n",
            "  Created wheel for pycocotools: filename=pycocotools-2.0.6-cp310-cp310-linux_x86_64.whl size=377154 sha256=b84b267602b57da6fc16cb5c6f40b81ec534c440711da547dedc9cc362af720c\n",
            "  Stored in directory: /root/.cache/pip/wheels/58/e6/f9/f87c8f8be098b51b616871315318329cae12cdb618f4caac93\n",
            "  Building wheel for termcolor (setup.py) ... \u001b[?25l\u001b[?25hdone\n",
            "  Created wheel for termcolor: filename=termcolor-1.1.0-py3-none-any.whl size=4832 sha256=471701a82047e860541b4d2e7f8c2fef9e8e5c0febdada3927d8994d51cffa90\n",
            "  Stored in directory: /root/.cache/pip/wheels/a1/49/46/1b13a65d8da11238af9616b00fdde6d45b0f95d9291bac8452\n",
            "  Building wheel for treelib (setup.py) ... \u001b[?25l\u001b[?25hdone\n",
            "  Created wheel for treelib: filename=treelib-1.6.1-py3-none-any.whl size=18369 sha256=5938aac6b79074a30d089c59742cec8ae436532991fedc802ff390e73e424098\n",
            "  Stored in directory: /root/.cache/pip/wheels/63/72/8b/76569b82bf280a03c4e294c3b29ee2398217186369c427ed4b\n",
            "  Building wheel for coverage (setup.py) ... \u001b[?25l\u001b[?25hdone\n",
            "  Created wheel for coverage: filename=coverage-5.3.1-cp310-cp310-linux_x86_64.whl size=235259 sha256=3af2817422db0a29c0d945e7435e2e9cea1b9b6c9a0fac8016ba2cf3cd28f257\n",
            "  Stored in directory: /root/.cache/pip/wheels/e2/70/10/313be697f460d6024cfa94b7f0e22ffc1c53aab718fb4f42af\n",
            "  Building wheel for xhtml2pdf (setup.py) ... \u001b[?25l\u001b[?25hdone\n",
            "  Created wheel for xhtml2pdf: filename=xhtml2pdf-0.2.11-py3-none-any.whl size=262646 sha256=a4aa2e016e1198d0b1bacb057a52611f0b722dff9d8f97793d02ab249d79d189\n",
            "  Stored in directory: /root/.cache/pip/wheels/72/77/fb/e473c11c4e30a7680bf5b1b7f1d07ef04932184a2f39118e8d\n",
            "  Building wheel for antlr4-python3-runtime (setup.py) ... \u001b[?25l\u001b[?25hdone\n",
            "  Created wheel for antlr4-python3-runtime: filename=antlr4_python3_runtime-4.9.3-py3-none-any.whl size=144554 sha256=3cfd8cab8b72ea5c249009486e1c66496c2ad0ec40a24bd9e97455c67d24a5b4\n",
            "  Stored in directory: /root/.cache/pip/wheels/12/93/dd/1f6a127edc45659556564c5730f6d4e300888f4bca2d4c5a88\n",
            "  Building wheel for stringcase (setup.py) ... \u001b[?25l\u001b[?25hdone\n",
            "  Created wheel for stringcase: filename=stringcase-1.2.0-py3-none-any.whl size=3569 sha256=0b06c1869fe2f052b9d217f58c279e22d8d652dce1072770b6cef9861a418a8a\n",
            "  Stored in directory: /root/.cache/pip/wheels/31/ba/22/1a2d952a9ce8aa86e42fda41e2c87fdaf20e238c88bf8df013\n",
            "  Building wheel for svglib (setup.py) ... \u001b[?25l\u001b[?25hdone\n",
            "  Created wheel for svglib: filename=svglib-1.5.1-py3-none-any.whl size=30903 sha256=4169b0a71d1176739b7903ac41546cd76e1d4056d01f87eb7ebc76cb2b257c11\n",
            "  Stored in directory: /root/.cache/pip/wheels/56/9f/90/f37f4b9dbf82987a24ae14f15586e96715cb669a4710b3b85d\n",
            "Successfully built pycocotools termcolor treelib coverage xhtml2pdf antlr4-python3-runtime stringcase svglib\n",
            "Installing collected packages: termcolor, stringcase, pypng, json-tricks, einops, asn1crypto, arabic-reshaper, antlr4-python3-runtime, uritools, treelib, sphinxcontrib-serializinghtml, sphinxcontrib-qthelp, sphinxcontrib-htmlhelp, sphinxcontrib-devhelp, sphinxcontrib-applehelp, reportlab, rapidfuzz, qrcode, python-bidi, pypdf, pyparsing, pyDeprecate, oscrypto, omegaconf, numpy, jmespath, humanfriendly, docutils, Deprecated, coverage, sphinx, onnx, hydra-core, cssselect2, coloredlogs, botocore, torchmetrics, svglib, sphinxcontrib-jquery, s3transfer, pyhanko-certvalidator, onnxruntime, onnx-simplifier, sphinx-rtd-theme, pyHanko, pycocotools, imagededup, boto3, xhtml2pdf, data-gradients, super-gradients\n",
            "  Attempting uninstall: termcolor\n",
            "    Found existing installation: termcolor 2.4.0\n",
            "    Uninstalling termcolor-2.4.0:\n",
            "      Successfully uninstalled termcolor-2.4.0\n",
            "  Attempting uninstall: sphinxcontrib-serializinghtml\n",
            "    Found existing installation: sphinxcontrib-serializinghtml 1.1.9\n",
            "    Uninstalling sphinxcontrib-serializinghtml-1.1.9:\n",
            "      Successfully uninstalled sphinxcontrib-serializinghtml-1.1.9\n",
            "  Attempting uninstall: sphinxcontrib-qthelp\n",
            "    Found existing installation: sphinxcontrib-qthelp 1.0.6\n",
            "    Uninstalling sphinxcontrib-qthelp-1.0.6:\n",
            "      Successfully uninstalled sphinxcontrib-qthelp-1.0.6\n",
            "  Attempting uninstall: sphinxcontrib-htmlhelp\n",
            "    Found existing installation: sphinxcontrib-htmlhelp 2.0.4\n",
            "    Uninstalling sphinxcontrib-htmlhelp-2.0.4:\n",
            "      Successfully uninstalled sphinxcontrib-htmlhelp-2.0.4\n",
            "  Attempting uninstall: sphinxcontrib-devhelp\n",
            "    Found existing installation: sphinxcontrib-devhelp 1.0.5\n",
            "    Uninstalling sphinxcontrib-devhelp-1.0.5:\n",
            "      Successfully uninstalled sphinxcontrib-devhelp-1.0.5\n",
            "  Attempting uninstall: sphinxcontrib-applehelp\n",
            "    Found existing installation: sphinxcontrib-applehelp 1.0.7\n",
            "    Uninstalling sphinxcontrib-applehelp-1.0.7:\n",
            "      Successfully uninstalled sphinxcontrib-applehelp-1.0.7\n",
            "  Attempting uninstall: pyparsing\n",
            "    Found existing installation: pyparsing 3.1.1\n",
            "    Uninstalling pyparsing-3.1.1:\n",
            "      Successfully uninstalled pyparsing-3.1.1\n",
            "  Attempting uninstall: numpy\n",
            "    Found existing installation: numpy 1.23.5\n",
            "    Uninstalling numpy-1.23.5:\n",
            "      Successfully uninstalled numpy-1.23.5\n",
            "  Attempting uninstall: docutils\n",
            "    Found existing installation: docutils 0.18.1\n",
            "    Uninstalling docutils-0.18.1:\n",
            "      Successfully uninstalled docutils-0.18.1\n",
            "  Attempting uninstall: sphinx\n",
            "    Found existing installation: Sphinx 5.0.2\n",
            "    Uninstalling Sphinx-5.0.2:\n",
            "      Successfully uninstalled Sphinx-5.0.2\n",
            "  Attempting uninstall: pycocotools\n",
            "    Found existing installation: pycocotools 2.0.7\n",
            "    Uninstalling pycocotools-2.0.7:\n",
            "      Successfully uninstalled pycocotools-2.0.7\n",
            "\u001b[31mERROR: pip's dependency resolver does not currently take into account all the packages that are installed. This behaviour is the source of the following dependency conflicts.\n",
            "lida 0.0.10 requires fastapi, which is not installed.\n",
            "lida 0.0.10 requires kaleido, which is not installed.\n",
            "lida 0.0.10 requires python-multipart, which is not installed.\n",
            "lida 0.0.10 requires uvicorn, which is not installed.\n",
            "tensorflow 2.14.0 requires numpy>=1.23.5, but you have numpy 1.23.0 which is incompatible.\u001b[0m\u001b[31m\n",
            "\u001b[0mSuccessfully installed Deprecated-1.2.14 antlr4-python3-runtime-4.9.3 arabic-reshaper-3.0.0 asn1crypto-1.5.1 boto3-1.34.0 botocore-1.34.0 coloredlogs-15.0.1 coverage-5.3.1 cssselect2-0.7.0 data-gradients-0.3.1 docutils-0.17.1 einops-0.3.2 humanfriendly-10.0 hydra-core-1.3.2 imagededup-0.3.2 jmespath-1.0.1 json-tricks-3.16.1 numpy-1.23.0 omegaconf-2.3.0 onnx-1.13.0 onnx-simplifier-0.4.35 onnxruntime-1.13.1 oscrypto-1.3.0 pyDeprecate-0.3.2 pyHanko-0.21.0 pycocotools-2.0.6 pyhanko-certvalidator-0.26.3 pyparsing-2.4.5 pypdf-3.17.2 pypng-0.20220715.0 python-bidi-0.4.2 qrcode-7.4.2 rapidfuzz-3.5.2 reportlab-3.6.13 s3transfer-0.9.0 sphinx-4.0.3 sphinx-rtd-theme-1.3.0 sphinxcontrib-applehelp-1.0.4 sphinxcontrib-devhelp-1.0.2 sphinxcontrib-htmlhelp-2.0.1 sphinxcontrib-jquery-4.1 sphinxcontrib-qthelp-1.0.3 sphinxcontrib-serializinghtml-1.1.5 stringcase-1.2.0 super-gradients-3.5.0 svglib-1.5.1 termcolor-1.1.0 torchmetrics-0.8.0 treelib-1.6.1 uritools-4.0.2 xhtml2pdf-0.2.11\n"
          ]
        },
        {
          "output_type": "display_data",
          "data": {
            "application/vnd.colab-display-data+json": {
              "pip_warning": {
                "packages": [
                  "numpy",
                  "pydevd_plugins",
                  "pyparsing",
                  "sphinxcontrib"
                ]
              }
            }
          },
          "metadata": {}
        },
        {
          "output_type": "stream",
          "name": "stdout",
          "text": [
            "Requirement already satisfied: torch in /usr/local/lib/python3.10/dist-packages (2.1.0+cu118)\n",
            "Requirement already satisfied: filelock in /usr/local/lib/python3.10/dist-packages (from torch) (3.13.1)\n",
            "Requirement already satisfied: typing-extensions in /usr/local/lib/python3.10/dist-packages (from torch) (4.5.0)\n",
            "Requirement already satisfied: sympy in /usr/local/lib/python3.10/dist-packages (from torch) (1.12)\n",
            "Requirement already satisfied: networkx in /usr/local/lib/python3.10/dist-packages (from torch) (3.2.1)\n",
            "Requirement already satisfied: jinja2 in /usr/local/lib/python3.10/dist-packages (from torch) (3.1.2)\n",
            "Requirement already satisfied: fsspec in /usr/local/lib/python3.10/dist-packages (from torch) (2023.6.0)\n",
            "Requirement already satisfied: triton==2.1.0 in /usr/local/lib/python3.10/dist-packages (from torch) (2.1.0)\n",
            "Requirement already satisfied: MarkupSafe>=2.0 in /usr/local/lib/python3.10/dist-packages (from jinja2->torch) (2.1.3)\n",
            "Requirement already satisfied: mpmath>=0.19 in /usr/local/lib/python3.10/dist-packages (from sympy->torch) (1.3.0)\n",
            "Collecting supervision\n",
            "  Downloading supervision-0.17.1-py3-none-any.whl (77 kB)\n",
            "\u001b[2K     \u001b[90m━━━━━━━━━━━━━━━━━━━━━━━━━━━━━━━━━━━━━━━━\u001b[0m \u001b[32m77.5/77.5 kB\u001b[0m \u001b[31m906.6 kB/s\u001b[0m eta \u001b[36m0:00:00\u001b[0m\n",
            "\u001b[?25hRequirement already satisfied: matplotlib>=3.5.0 in /usr/local/lib/python3.10/dist-packages (from supervision) (3.7.1)\n",
            "Requirement already satisfied: numpy>=1.21.2 in /usr/local/lib/python3.10/dist-packages (from supervision) (1.23.0)\n",
            "Requirement already satisfied: opencv-python-headless<=4.8.1.78,>=4.5.5.64 in /usr/local/lib/python3.10/dist-packages (from supervision) (4.8.1.78)\n",
            "Requirement already satisfied: pillow>=9.4 in /usr/local/lib/python3.10/dist-packages (from supervision) (9.4.0)\n",
            "Requirement already satisfied: pyyaml>=5.3 in /usr/local/lib/python3.10/dist-packages (from supervision) (6.0.1)\n",
            "Requirement already satisfied: scipy>=1.9.0 in /usr/local/lib/python3.10/dist-packages (from supervision) (1.11.4)\n",
            "Requirement already satisfied: contourpy>=1.0.1 in /usr/local/lib/python3.10/dist-packages (from matplotlib>=3.5.0->supervision) (1.2.0)\n",
            "Requirement already satisfied: cycler>=0.10 in /usr/local/lib/python3.10/dist-packages (from matplotlib>=3.5.0->supervision) (0.12.1)\n",
            "Requirement already satisfied: fonttools>=4.22.0 in /usr/local/lib/python3.10/dist-packages (from matplotlib>=3.5.0->supervision) (4.46.0)\n",
            "Requirement already satisfied: kiwisolver>=1.0.1 in /usr/local/lib/python3.10/dist-packages (from matplotlib>=3.5.0->supervision) (1.4.5)\n",
            "Requirement already satisfied: packaging>=20.0 in /usr/local/lib/python3.10/dist-packages (from matplotlib>=3.5.0->supervision) (23.2)\n",
            "Requirement already satisfied: pyparsing>=2.3.1 in /usr/local/lib/python3.10/dist-packages (from matplotlib>=3.5.0->supervision) (2.4.5)\n",
            "Requirement already satisfied: python-dateutil>=2.7 in /usr/local/lib/python3.10/dist-packages (from matplotlib>=3.5.0->supervision) (2.8.2)\n",
            "Requirement already satisfied: six>=1.5 in /usr/local/lib/python3.10/dist-packages (from python-dateutil>=2.7->matplotlib>=3.5.0->supervision) (1.16.0)\n",
            "Installing collected packages: supervision\n",
            "Successfully installed supervision-0.17.1\n",
            "Collecting roboflow\n",
            "  Downloading roboflow-1.1.12-py3-none-any.whl (68 kB)\n",
            "\u001b[2K     \u001b[90m━━━━━━━━━━━━━━━━━━━━━━━━━━━━━━━━━━━━━━━━\u001b[0m \u001b[32m68.5/68.5 kB\u001b[0m \u001b[31m1.4 MB/s\u001b[0m eta \u001b[36m0:00:00\u001b[0m\n",
            "\u001b[?25hCollecting certifi==2023.7.22 (from roboflow)\n",
            "  Downloading certifi-2023.7.22-py3-none-any.whl (158 kB)\n",
            "\u001b[2K     \u001b[90m━━━━━━━━━━━━━━━━━━━━━━━━━━━━━━━━━━━━━━━━\u001b[0m \u001b[32m158.3/158.3 kB\u001b[0m \u001b[31m3.6 MB/s\u001b[0m eta \u001b[36m0:00:00\u001b[0m\n",
            "\u001b[?25hCollecting chardet==4.0.0 (from roboflow)\n",
            "  Downloading chardet-4.0.0-py2.py3-none-any.whl (178 kB)\n",
            "\u001b[2K     \u001b[90m━━━━━━━━━━━━━━━━━━━━━━━━━━━━━━━━━━━━━━━━\u001b[0m \u001b[32m178.7/178.7 kB\u001b[0m \u001b[31m13.0 MB/s\u001b[0m eta \u001b[36m0:00:00\u001b[0m\n",
            "\u001b[?25hCollecting cycler==0.10.0 (from roboflow)\n",
            "  Downloading cycler-0.10.0-py2.py3-none-any.whl (6.5 kB)\n",
            "Collecting idna==2.10 (from roboflow)\n",
            "  Downloading idna-2.10-py2.py3-none-any.whl (58 kB)\n",
            "\u001b[2K     \u001b[90m━━━━━━━━━━━━━━━━━━━━━━━━━━━━━━━━━━━━━━━━\u001b[0m \u001b[32m58.8/58.8 kB\u001b[0m \u001b[31m7.7 MB/s\u001b[0m eta \u001b[36m0:00:00\u001b[0m\n",
            "\u001b[?25hRequirement already satisfied: kiwisolver>=1.3.1 in /usr/local/lib/python3.10/dist-packages (from roboflow) (1.4.5)\n",
            "Requirement already satisfied: matplotlib in /usr/local/lib/python3.10/dist-packages (from roboflow) (3.7.1)\n",
            "Requirement already satisfied: numpy>=1.18.5 in /usr/local/lib/python3.10/dist-packages (from roboflow) (1.23.0)\n",
            "Collecting opencv-python-headless==4.8.0.74 (from roboflow)\n",
            "  Downloading opencv_python_headless-4.8.0.74-cp37-abi3-manylinux_2_17_x86_64.manylinux2014_x86_64.whl (49.1 MB)\n",
            "\u001b[2K     \u001b[90m━━━━━━━━━━━━━━━━━━━━━━━━━━━━━━━━━━━━━━━━\u001b[0m \u001b[32m49.1/49.1 MB\u001b[0m \u001b[31m11.5 MB/s\u001b[0m eta \u001b[36m0:00:00\u001b[0m\n",
            "\u001b[?25hRequirement already satisfied: Pillow>=7.1.2 in /usr/local/lib/python3.10/dist-packages (from roboflow) (9.4.0)\n",
            "Collecting pyparsing==2.4.7 (from roboflow)\n",
            "  Downloading pyparsing-2.4.7-py2.py3-none-any.whl (67 kB)\n",
            "\u001b[2K     \u001b[90m━━━━━━━━━━━━━━━━━━━━━━━━━━━━━━━━━━━━━━━━\u001b[0m \u001b[32m67.8/67.8 kB\u001b[0m \u001b[31m9.1 MB/s\u001b[0m eta \u001b[36m0:00:00\u001b[0m\n",
            "\u001b[?25hRequirement already satisfied: python-dateutil in /usr/local/lib/python3.10/dist-packages (from roboflow) (2.8.2)\n",
            "Collecting python-dotenv (from roboflow)\n",
            "  Downloading python_dotenv-1.0.0-py3-none-any.whl (19 kB)\n",
            "Requirement already satisfied: requests in /usr/local/lib/python3.10/dist-packages (from roboflow) (2.31.0)\n",
            "Requirement already satisfied: six in /usr/local/lib/python3.10/dist-packages (from roboflow) (1.16.0)\n",
            "Requirement already satisfied: supervision in /usr/local/lib/python3.10/dist-packages (from roboflow) (0.17.1)\n",
            "Requirement already satisfied: urllib3>=1.26.6 in /usr/local/lib/python3.10/dist-packages (from roboflow) (2.0.7)\n",
            "Requirement already satisfied: tqdm>=4.41.0 in /usr/local/lib/python3.10/dist-packages (from roboflow) (4.66.1)\n",
            "Requirement already satisfied: PyYAML>=5.3.1 in /usr/local/lib/python3.10/dist-packages (from roboflow) (6.0.1)\n",
            "Collecting requests-toolbelt (from roboflow)\n",
            "  Downloading requests_toolbelt-1.0.0-py2.py3-none-any.whl (54 kB)\n",
            "\u001b[2K     \u001b[90m━━━━━━━━━━━━━━━━━━━━━━━━━━━━━━━━━━━━━━━━\u001b[0m \u001b[32m54.5/54.5 kB\u001b[0m \u001b[31m8.1 MB/s\u001b[0m eta \u001b[36m0:00:00\u001b[0m\n",
            "\u001b[?25hCollecting python-magic (from roboflow)\n",
            "  Downloading python_magic-0.4.27-py2.py3-none-any.whl (13 kB)\n",
            "Requirement already satisfied: contourpy>=1.0.1 in /usr/local/lib/python3.10/dist-packages (from matplotlib->roboflow) (1.2.0)\n",
            "Requirement already satisfied: fonttools>=4.22.0 in /usr/local/lib/python3.10/dist-packages (from matplotlib->roboflow) (4.46.0)\n",
            "Requirement already satisfied: packaging>=20.0 in /usr/local/lib/python3.10/dist-packages (from matplotlib->roboflow) (23.2)\n",
            "Requirement already satisfied: charset-normalizer<4,>=2 in /usr/local/lib/python3.10/dist-packages (from requests->roboflow) (3.3.2)\n",
            "Requirement already satisfied: scipy>=1.9.0 in /usr/local/lib/python3.10/dist-packages (from supervision->roboflow) (1.11.4)\n",
            "Installing collected packages: python-magic, python-dotenv, pyparsing, opencv-python-headless, idna, cycler, chardet, certifi, requests-toolbelt, roboflow\n",
            "  Attempting uninstall: pyparsing\n",
            "    Found existing installation: pyparsing 2.4.5\n",
            "    Uninstalling pyparsing-2.4.5:\n",
            "      Successfully uninstalled pyparsing-2.4.5\n",
            "  Attempting uninstall: opencv-python-headless\n",
            "    Found existing installation: opencv-python-headless 4.8.1.78\n",
            "    Uninstalling opencv-python-headless-4.8.1.78:\n",
            "      Successfully uninstalled opencv-python-headless-4.8.1.78\n",
            "  Attempting uninstall: idna\n",
            "    Found existing installation: idna 3.6\n",
            "    Uninstalling idna-3.6:\n",
            "      Successfully uninstalled idna-3.6\n",
            "  Attempting uninstall: cycler\n",
            "    Found existing installation: cycler 0.12.1\n",
            "    Uninstalling cycler-0.12.1:\n",
            "      Successfully uninstalled cycler-0.12.1\n",
            "  Attempting uninstall: chardet\n",
            "    Found existing installation: chardet 5.2.0\n",
            "    Uninstalling chardet-5.2.0:\n",
            "      Successfully uninstalled chardet-5.2.0\n",
            "  Attempting uninstall: certifi\n",
            "    Found existing installation: certifi 2023.11.17\n",
            "    Uninstalling certifi-2023.11.17:\n",
            "      Successfully uninstalled certifi-2023.11.17\n",
            "\u001b[31mERROR: pip's dependency resolver does not currently take into account all the packages that are installed. This behaviour is the source of the following dependency conflicts.\n",
            "lida 0.0.10 requires fastapi, which is not installed.\n",
            "lida 0.0.10 requires kaleido, which is not installed.\n",
            "lida 0.0.10 requires python-multipart, which is not installed.\n",
            "lida 0.0.10 requires uvicorn, which is not installed.\n",
            "super-gradients 3.5.0 requires pyparsing==2.4.5, but you have pyparsing 2.4.7 which is incompatible.\n",
            "tensorflow 2.14.0 requires numpy>=1.23.5, but you have numpy 1.23.0 which is incompatible.\u001b[0m\u001b[31m\n",
            "\u001b[0mSuccessfully installed certifi-2023.7.22 chardet-4.0.0 cycler-0.10.0 idna-2.10 opencv-python-headless-4.8.0.74 pyparsing-2.4.7 python-dotenv-1.0.0 python-magic-0.4.27 requests-toolbelt-1.0.0 roboflow-1.1.12\n"
          ]
        },
        {
          "output_type": "display_data",
          "data": {
            "application/vnd.colab-display-data+json": {
              "pip_warning": {
                "packages": [
                  "certifi",
                  "cycler",
                  "pyparsing"
                ]
              }
            }
          },
          "metadata": {}
        },
        {
          "output_type": "stream",
          "name": "stdout",
          "text": [
            "Collecting onemetric\n",
            "  Downloading onemetric-0.1.2-py3-none-any.whl (21 kB)\n",
            "Requirement already satisfied: Pillow in /usr/local/lib/python3.10/dist-packages (from onemetric) (9.4.0)\n",
            "Requirement already satisfied: numpy in /usr/local/lib/python3.10/dist-packages (from onemetric) (1.23.0)\n",
            "Requirement already satisfied: seaborn in /usr/local/lib/python3.10/dist-packages (from onemetric) (0.12.2)\n",
            "Requirement already satisfied: matplotlib in /usr/local/lib/python3.10/dist-packages (from onemetric) (3.7.1)\n",
            "Collecting dataclasses-json (from onemetric)\n",
            "  Downloading dataclasses_json-0.6.3-py3-none-any.whl (28 kB)\n",
            "Collecting marshmallow<4.0.0,>=3.18.0 (from dataclasses-json->onemetric)\n",
            "  Downloading marshmallow-3.20.1-py3-none-any.whl (49 kB)\n",
            "\u001b[2K     \u001b[90m━━━━━━━━━━━━━━━━━━━━━━━━━━━━━━━━━━━━━━━━\u001b[0m \u001b[32m49.4/49.4 kB\u001b[0m \u001b[31m2.4 MB/s\u001b[0m eta \u001b[36m0:00:00\u001b[0m\n",
            "\u001b[?25hCollecting typing-inspect<1,>=0.4.0 (from dataclasses-json->onemetric)\n",
            "  Downloading typing_inspect-0.9.0-py3-none-any.whl (8.8 kB)\n",
            "Requirement already satisfied: contourpy>=1.0.1 in /usr/local/lib/python3.10/dist-packages (from matplotlib->onemetric) (1.2.0)\n",
            "Requirement already satisfied: cycler>=0.10 in /usr/local/lib/python3.10/dist-packages (from matplotlib->onemetric) (0.10.0)\n",
            "Requirement already satisfied: fonttools>=4.22.0 in /usr/local/lib/python3.10/dist-packages (from matplotlib->onemetric) (4.46.0)\n",
            "Requirement already satisfied: kiwisolver>=1.0.1 in /usr/local/lib/python3.10/dist-packages (from matplotlib->onemetric) (1.4.5)\n",
            "Requirement already satisfied: packaging>=20.0 in /usr/local/lib/python3.10/dist-packages (from matplotlib->onemetric) (23.2)\n",
            "Requirement already satisfied: pyparsing>=2.3.1 in /usr/local/lib/python3.10/dist-packages (from matplotlib->onemetric) (2.4.7)\n",
            "Requirement already satisfied: python-dateutil>=2.7 in /usr/local/lib/python3.10/dist-packages (from matplotlib->onemetric) (2.8.2)\n",
            "Requirement already satisfied: pandas>=0.25 in /usr/local/lib/python3.10/dist-packages (from seaborn->onemetric) (1.5.3)\n",
            "Requirement already satisfied: six in /usr/local/lib/python3.10/dist-packages (from cycler>=0.10->matplotlib->onemetric) (1.16.0)\n",
            "Requirement already satisfied: pytz>=2020.1 in /usr/local/lib/python3.10/dist-packages (from pandas>=0.25->seaborn->onemetric) (2023.3.post1)\n",
            "Collecting mypy-extensions>=0.3.0 (from typing-inspect<1,>=0.4.0->dataclasses-json->onemetric)\n",
            "  Downloading mypy_extensions-1.0.0-py3-none-any.whl (4.7 kB)\n",
            "Requirement already satisfied: typing-extensions>=3.7.4 in /usr/local/lib/python3.10/dist-packages (from typing-inspect<1,>=0.4.0->dataclasses-json->onemetric) (4.5.0)\n",
            "Installing collected packages: mypy-extensions, marshmallow, typing-inspect, dataclasses-json, onemetric\n",
            "Successfully installed dataclasses-json-0.6.3 marshmallow-3.20.1 mypy-extensions-1.0.0 onemetric-0.1.2 typing-inspect-0.9.0\n",
            "[Errno 2] No such file or directory: '/content/drive/MyDrive'\n",
            "/content\n"
          ]
        }
      ],
      "source": [
        "%pip install super-gradients\n",
        "%pip install torch\n",
        "%pip install supervision\n",
        "%pip install roboflow\n",
        "%pip install onemetric\n",
        "%cd /content/drive/MyDrive"
      ]
    },
    {
      "cell_type": "code",
      "execution_count": 3,
      "id": "c2eac127",
      "metadata": {
        "colab": {
          "base_uri": "https://localhost:8080/"
        },
        "id": "c2eac127",
        "outputId": "0168d6e7-4614-40c5-9f61-1f2c7e051d89"
      },
      "outputs": [
        {
          "output_type": "stream",
          "name": "stdout",
          "text": [
            "loading Roboflow workspace...\n",
            "loading Roboflow project...\n",
            "[WARNING] we noticed you are downloading a `yolov8` datasets but you don't have `ultralytics` installed. Roboflow `.deploy` supports only models trained with `ultralytics==8.0.196`, to intall it `pip install ultralytics==8.0.196`.\n"
          ]
        },
        {
          "output_type": "stream",
          "name": "stderr",
          "text": [
            "Downloading Dataset Version Zip in CsiLab-BrainTumor-Detection-3 to yolov8:: 100%|██████████| 4386/4386 [00:00<00:00, 32433.22it/s]"
          ]
        },
        {
          "output_type": "stream",
          "name": "stdout",
          "text": [
            "\n"
          ]
        },
        {
          "output_type": "stream",
          "name": "stderr",
          "text": [
            "\n",
            "Extracting Dataset Version Zip to CsiLab-BrainTumor-Detection-3 in yolov8:: 100%|██████████| 614/614 [00:00<00:00, 4726.54it/s]\n"
          ]
        }
      ],
      "source": [
        "from roboflow import Roboflow\n",
        "rf = Roboflow(api_key=\"OZmt7veKofDCRjgyQ5XE\")\n",
        "project = rf.workspace(\"csilab\").project(\"csilab-braintumor-detection\")\n",
        "dataset = project.version(3).download(\"yolov8\")\n",
        "\n"
      ]
    },
    {
      "cell_type": "code",
      "execution_count": 4,
      "id": "62f7a1c2-1197-46df-b261-bb559cbcabde",
      "metadata": {
        "colab": {
          "base_uri": "https://localhost:8080/"
        },
        "id": "62f7a1c2-1197-46df-b261-bb559cbcabde",
        "outputId": "f77f51ff-3bd4-4138-cf6a-daf4cd1b6ec8",
        "tags": []
      },
      "outputs": [
        {
          "output_type": "stream",
          "name": "stderr",
          "text": [
            "[2023-12-14 14:45:30] INFO - crash_tips_setup.py - Crash tips is enabled. You can set your environment variable to CRASH_HANDLER=FALSE to disable it\n"
          ]
        },
        {
          "output_type": "stream",
          "name": "stdout",
          "text": [
            "The console stream is logged into /root/sg_logs/console.log\n"
          ]
        },
        {
          "output_type": "stream",
          "name": "stderr",
          "text": [
            "[2023-12-14 14:45:30] WARNING - __init__.py - Failed to import pytorch_quantization\n",
            "[2023-12-14 14:45:30] INFO - utils.py - NumExpr defaulting to 2 threads.\n",
            "[2023-12-14 14:45:37] WARNING - calibrator.py - Failed to import pytorch_quantization\n",
            "[2023-12-14 14:45:37] WARNING - export.py - Failed to import pytorch_quantization\n",
            "[2023-12-14 14:45:37] WARNING - selective_quantization_utils.py - Failed to import pytorch_quantization\n",
            "[2023-12-14 14:45:37] WARNING - env_sanity_check.py - \u001b[31mFailed to verify installed packages: boto3 required but not found\u001b[0m\n",
            "[2023-12-14 14:45:37] WARNING - env_sanity_check.py - \u001b[31mFailed to verify installed packages: deprecated required but not found\u001b[0m\n",
            "[2023-12-14 14:45:37] WARNING - env_sanity_check.py - \u001b[31mFailed to verify installed packages: coverage required but not found\u001b[0m\n",
            "[2023-12-14 14:45:37] WARNING - env_sanity_check.py - \u001b[31mFailed to verify installed packages: sphinx-rtd-theme required but not found\u001b[0m\n",
            "[2023-12-14 14:45:37] WARNING - env_sanity_check.py - \u001b[31mFailed to verify installed packages: torchmetrics required but not found\u001b[0m\n",
            "[2023-12-14 14:45:37] WARNING - env_sanity_check.py - \u001b[31mFailed to verify installed packages: hydra-core required but not found\u001b[0m\n",
            "[2023-12-14 14:45:37] WARNING - env_sanity_check.py - \u001b[31mFailed to verify installed packages: omegaconf required but not found\u001b[0m\n",
            "[2023-12-14 14:45:37] WARNING - env_sanity_check.py - \u001b[31mFailed to verify installed packages: onnxruntime required but not found\u001b[0m\n",
            "[2023-12-14 14:45:37] WARNING - env_sanity_check.py - \u001b[31mFailed to verify installed packages: onnx required but not found\u001b[0m\n",
            "[2023-12-14 14:45:37] WARNING - env_sanity_check.py - \u001b[31mFailed to verify installed packages: einops required but not found\u001b[0m\n",
            "[2023-12-14 14:45:37] WARNING - env_sanity_check.py - \u001b[31mFailed to verify installed packages: treelib required but not found\u001b[0m\n",
            "[2023-12-14 14:45:37] WARNING - env_sanity_check.py - \u001b[31mFailed to verify installed packages: stringcase required but not found\u001b[0m\n",
            "[2023-12-14 14:45:37] WARNING - env_sanity_check.py - \u001b[31mFailed to verify installed packages: rapidfuzz required but not found\u001b[0m\n",
            "[2023-12-14 14:45:37] WARNING - env_sanity_check.py - \u001b[31mFailed to verify installed packages: json-tricks required but not found\u001b[0m\n",
            "[2023-12-14 14:45:37] WARNING - env_sanity_check.py - \u001b[31mFailed to verify installed packages: onnx-simplifier required but not found\u001b[0m\n",
            "[2023-12-14 14:45:37] WARNING - env_sanity_check.py - \u001b[31mFailed to verify installed packages: data-gradients required but not found\u001b[0m\n"
          ]
        }
      ],
      "source": [
        "import torch\n",
        "from super_gradients.training import Trainer\n",
        "\n",
        "DEVICE = 'cuda' if torch.cuda.is_available() else \"cpu\"\n",
        "MODEL_ARCH = 'yolo_nas_l'\n",
        "BATCH_SIZE = 8\n",
        "MAX_EPOCHS = 1000\n",
        "CHECKPOINT_DIR = './checkpoints'\n",
        "EXPERIMENT_NAME = project.name.lower().replace(\" \", \"_\")\n",
        "\n",
        "from super_gradients.training import Trainer\n",
        "\n",
        "trainer = Trainer(experiment_name=EXPERIMENT_NAME, ckpt_root_dir=CHECKPOINT_DIR)\n",
        "\n",
        "LOCATION = dataset.location\n",
        "CLASSES = sorted(project.classes.keys())\n",
        "\n",
        "dataset_params = {\n",
        "    'data_dir': LOCATION,\n",
        "    'train_images_dir':'train/images',\n",
        "    'train_labels_dir':'train/labels',\n",
        "    'val_images_dir':'valid/images',\n",
        "    'val_labels_dir':'valid/labels',\n",
        "    'test_images_dir':'test/images',\n",
        "    'test_labels_dir':'test/labels',\n",
        "    'classes': CLASSES\n",
        "}\n",
        "print(dataset_params['classes'])\n"
      ]
    },
    {
      "cell_type": "code",
      "execution_count": 5,
      "id": "8d53441f-661c-4f36-90a5-bd28609d525c",
      "metadata": {
        "colab": {
          "base_uri": "https://localhost:8080/"
        },
        "id": "8d53441f-661c-4f36-90a5-bd28609d525c",
        "outputId": "3c5a3575-2f86-4f57-f624-0950cbbd19be",
        "tags": []
      },
      "outputs": [
        {
          "output_type": "stream",
          "name": "stderr",
          "text": [
            "[2023-12-14 14:45:49] INFO - detection_dataset.py - Dataset Initialization in progress. `cache_annotations=True` causes the process to take longer due to full dataset indexing.\n",
            "Indexing dataset annotations: 100%|██████████| 211/211 [00:00<00:00, 5415.78it/s]\n",
            "[2023-12-14 14:45:49] INFO - detection_dataset.py - Dataset Initialization in progress. `cache_annotations=True` causes the process to take longer due to full dataset indexing.\n",
            "Indexing dataset annotations: 100%|██████████| 60/60 [00:00<00:00, 4847.69it/s]\n",
            "[2023-12-14 14:45:50] INFO - detection_dataset.py - Dataset Initialization in progress. `cache_annotations=True` causes the process to take longer due to full dataset indexing.\n"
          ]
        }
      ],
      "source": [
        "from super_gradients.training.dataloaders.dataloaders import (coco_detection_yolo_format_train, coco_detection_yolo_format_val)\n",
        "\n",
        "train_data = coco_detection_yolo_format_train(\n",
        "    dataset_params={\n",
        "        'data_dir': dataset_params['data_dir'],\n",
        "        'images_dir': dataset_params['train_images_dir'],\n",
        "        'labels_dir': dataset_params['train_labels_dir'],\n",
        "        'classes': dataset_params['classes']\n",
        "    },\n",
        "    dataloader_params={\n",
        "        'batch_size': BATCH_SIZE,\n",
        "        'num_workers': 1\n",
        "    }\n",
        ")\n",
        "\n",
        "val_data = coco_detection_yolo_format_val(\n",
        "    dataset_params={\n",
        "        'data_dir': dataset_params['data_dir'],\n",
        "        'images_dir': dataset_params['val_images_dir'],\n",
        "        'labels_dir': dataset_params['val_labels_dir'],\n",
        "        'classes': dataset_params['classes']\n",
        "    },\n",
        "    dataloader_params={\n",
        "        'batch_size': BATCH_SIZE,\n",
        "        'num_workers': 1\n",
        "    }\n",
        ")\n",
        "\n",
        "test_data = coco_detection_yolo_format_val(\n",
        "    dataset_params={\n",
        "        'data_dir': dataset_params['data_dir'],\n",
        "        'images_dir': dataset_params['test_images_dir'],\n",
        "        'labels_dir': dataset_params['test_labels_dir'],\n",
        "        'classes': dataset_params['classes']\n",
        "    },\n",
        "    dataloader_params={\n",
        "        'batch_size': BATCH_SIZE,\n",
        "        'num_workers': 2\n",
        "    }\n",
        ")"
      ]
    },
    {
      "cell_type": "code",
      "execution_count": 6,
      "id": "a79a89ec-78ea-4949-8194-d32ddf814c4e",
      "metadata": {
        "colab": {
          "base_uri": "https://localhost:8080/"
        },
        "id": "a79a89ec-78ea-4949-8194-d32ddf814c4e",
        "outputId": "ce7fe6cd-6484-4806-f17d-53473147e1b6",
        "tags": []
      },
      "outputs": [
        {
          "output_type": "stream",
          "name": "stderr",
          "text": [
            "[2023-12-14 14:45:58] INFO - checkpoint_utils.py - License Notification: YOLO-NAS pre-trained weights are subjected to the specific license terms and conditions detailed in \n",
            "https://github.com/Deci-AI/super-gradients/blob/master/LICENSE.YOLONAS.md\n",
            "By downloading the pre-trained weight files you agree to comply with these terms.\n",
            "Downloading: \"https://sghub.deci.ai/models/yolo_nas_l_coco.pth\" to /root/.cache/torch/hub/checkpoints/yolo_nas_l_coco.pth\n",
            "100%|██████████| 256M/256M [00:01<00:00, 180MB/s]\n",
            "[2023-12-14 14:46:01] INFO - checkpoint_utils.py - Successfully loaded pretrained weights for architecture yolo_nas_l\n"
          ]
        }
      ],
      "source": [
        "from super_gradients.training import models\n",
        "\n",
        "model = models.get(\n",
        "    MODEL_ARCH,\n",
        "    num_classes=len(dataset_params['classes']),\n",
        "    pretrained_weights=\"coco\"\n",
        ")"
      ]
    },
    {
      "cell_type": "code",
      "execution_count": 7,
      "id": "ae17eabd-e9e2-490e-ab73-cc1a8637a986",
      "metadata": {
        "id": "ae17eabd-e9e2-490e-ab73-cc1a8637a986"
      },
      "outputs": [],
      "source": [
        "from super_gradients.training.losses import PPYoloELoss\n",
        "from super_gradients.training.metrics import DetectionMetrics_050\n",
        "from super_gradients.training.models.detection_models.pp_yolo_e import PPYoloEPostPredictionCallback\n",
        "\n",
        "train_params = {\n",
        "    'silent_mode': False,\n",
        "    \"average_best_models\":True,\n",
        "    \"warmup_mode\": \"linear_epoch_step\",\n",
        "    \"warmup_initial_lr\": 1e-6,\n",
        "    \"lr_warmup_epochs\": 3,\n",
        "    \"initial_lr\": 5e-4,\n",
        "    \"lr_mode\": \"cosine\",\n",
        "    \"cosine_final_lr_ratio\": 0.1,\n",
        "    \"optimizer\": \"Adam\",\n",
        "    \"optimizer_params\": {\"weight_decay\": 0.0001},\n",
        "    \"zero_weight_decay_on_bias_and_bn\": True,\n",
        "    \"ema\": True,\n",
        "    \"ema_params\": {\"decay\": 0.9, \"decay_type\": \"threshold\"},\n",
        "    \"max_epochs\": MAX_EPOCHS,\n",
        "    \"mixed_precision\": True,\n",
        "    \"loss\": PPYoloELoss(\n",
        "        use_static_assigner=False,\n",
        "        num_classes=len(dataset_params['classes']),\n",
        "        reg_max=16\n",
        "    ),\n",
        "    \"valid_metrics_list\": [\n",
        "        DetectionMetrics_050(\n",
        "            score_thres=0.1,\n",
        "            top_k_predictions=300,\n",
        "            num_cls=len(dataset_params['classes']),\n",
        "            normalize_targets=True,\n",
        "            post_prediction_callback=PPYoloEPostPredictionCallback(\n",
        "                score_threshold=0.01,\n",
        "                nms_top_k=1000,\n",
        "                max_predictions=300,\n",
        "                nms_threshold=0.7\n",
        "            )\n",
        "        )\n",
        "    ],\n",
        "    \"metric_to_watch\": 'mAP@0.50'\n",
        "}"
      ]
    },
    {
      "cell_type": "code",
      "execution_count": null,
      "id": "e5b3f5e1",
      "metadata": {
        "colab": {
          "base_uri": "https://localhost:8080/"
        },
        "id": "e5b3f5e1",
        "outputId": "0056f430-a26c-4bdf-d310-ae1d946d3e99"
      },
      "outputs": [
        {
          "metadata": {
            "tags": null
          },
          "name": "stderr",
          "output_type": "stream",
          "text": [
            "[2023-12-14 14:47:02] INFO - sg_trainer.py - Starting a new run with `run_id=RUN_20231214_144702_032990`\n",
            "[2023-12-14 14:47:02] INFO - sg_trainer.py - Checkpoints directory: ./checkpoints/csilab-braintumor-detection/RUN_20231214_144702_032990\n",
            "[2023-12-14 14:47:02] INFO - sg_trainer.py - Using EMA with params {'decay': 0.9, 'decay_type': 'threshold'}\n",
            "Object name `linear_epoch_step` is now deprecated. Please replace it with `LinearEpochLRWarmup`.\n",
            "initialize_param_groups and update_param_groups usages are deprecated since 3.4.0, will be removed in 3.5.0 and have no effect. \n",
            " Assign different learning rates by passing a mapping of layer name prefixes to lr values through initial_lr training hyperparameter (i.e initial_lr={'backbone': 0.01, 'default':0.1})\n"
          ]
        },
        {
          "metadata": {
            "tags": null
          },
          "name": "stdout",
          "output_type": "stream",
          "text": [
            "The console stream is now moved to ./checkpoints/csilab-braintumor-detection/RUN_20231214_144702_032990/console_Dec14_14_47_02.txt\n"
          ]
        },
        {
          "metadata": {
            "tags": null
          },
          "name": "stderr",
          "output_type": "stream",
          "text": [
            "[2023-12-14 14:47:03] INFO - sg_trainer_utils.py - TRAINING PARAMETERS:\n",
            "    - Mode:                         Single GPU\n",
            "    - Number of GPUs:               1          (1 available on the machine)\n",
            "    - Full dataset size:            211        (len(train_set))\n",
            "    - Batch size per GPU:           8          (batch_size)\n",
            "    - Batch Accumulate:             1          (batch_accumulate)\n",
            "    - Total batch size:             8          (num_gpus * batch_size)\n",
            "    - Effective Batch size:         8          (num_gpus * batch_size * batch_accumulate)\n",
            "    - Iterations per epoch:         26         (len(train_loader))\n",
            "    - Gradient updates per epoch:   26         (len(train_loader) / batch_accumulate)\n",
            "    - Model: YoloNAS_L  (66.91M parameters, 66.91M optimized)\n",
            "    - Learning Rates and Weight Decays:\n",
            "      - default: (66.91M parameters). LR: 0.0005 (66.91M parameters) WD: 0.0, (84.69K parameters), WD: 0.0001, (66.82M parameters)\n",
            "\n",
            "[2023-12-14 14:47:03] INFO - sg_trainer.py - Started training for 1000 epochs (0/999)\n",
            "\n",
            "Train epoch 0: 100%|██████████| 26/26 [00:26<00:00,  1.01s/it, PPYoloELoss/loss=3.62, PPYoloELoss/loss_cls=2.18, PPYoloELoss/loss_dfl=0.779, PPYoloELoss/loss_iou=0.662, gpu_mem=6.66]\n",
            "Validating: 100%|██████████| 8/8 [00:02<00:00,  2.89it/s]\n",
            "[2023-12-14 14:47:49] INFO - base_sg_logger.py - Checkpoint saved in ./checkpoints/csilab-braintumor-detection/RUN_20231214_144702_032990/ckpt_best.pth\n",
            "[2023-12-14 14:47:49] INFO - sg_trainer.py - Best checkpoint overriden: validation mAP@0.50: 0.12597551941871643\n"
          ]
        },
        {
          "metadata": {
            "tags": null
          },
          "name": "stdout",
          "output_type": "stream",
          "text": [
            "===========================================================\n",
            "SUMMARY OF EPOCH 0\n",
            "├── Train\n",
            "│   ├── Ppyoloeloss/loss_cls = 2.1759\n",
            "│   ├── Ppyoloeloss/loss_iou = 0.6624\n",
            "│   ├── Ppyoloeloss/loss_dfl = 0.7792\n",
            "│   └── Ppyoloeloss/loss = 3.6176\n",
            "└── Validation\n",
            "    ├── Ppyoloeloss/loss_cls = 2.4778\n",
            "    ├── Ppyoloeloss/loss_iou = 0.421\n",
            "    ├── Ppyoloeloss/loss_dfl = 0.6421\n",
            "    ├── Ppyoloeloss/loss = 3.5409\n",
            "    ├── Precision@0.50 = 0.0\n",
            "    ├── Recall@0.50 = 0.0\n",
            "    ├── Map@0.50 = 0.126\n",
            "    └── F1@0.50 = 0.0\n",
            "\n",
            "===========================================================\n"
          ]
        },
        {
          "metadata": {
            "tags": null
          },
          "name": "stderr",
          "output_type": "stream",
          "text": [
            "Train epoch 1: 100%|██████████| 26/26 [00:17<00:00,  1.48it/s, PPYoloELoss/loss=2.5, PPYoloELoss/loss_cls=1.32, PPYoloELoss/loss_dfl=0.655, PPYoloELoss/loss_iou=0.523, gpu_mem=6.96]\n",
            "Validating epoch 1: 100%|██████████| 8/8 [00:02<00:00,  2.67it/s]\n",
            "[2023-12-14 14:48:35] INFO - base_sg_logger.py - Checkpoint saved in ./checkpoints/csilab-braintumor-detection/RUN_20231214_144702_032990/ckpt_best.pth\n",
            "[2023-12-14 14:48:35] INFO - sg_trainer.py - Best checkpoint overriden: validation mAP@0.50: 0.27407708764076233\n"
          ]
        },
        {
          "metadata": {
            "tags": null
          },
          "name": "stdout",
          "output_type": "stream",
          "text": [
            "===========================================================\n",
            "SUMMARY OF EPOCH 1\n",
            "├── Train\n",
            "│   ├── Ppyoloeloss/loss_cls = 1.3205\n",
            "│   │   ├── Epoch N-1      = 2.1759 (\u001b[32m↘ -0.8555\u001b[0m)\n",
            "│   │   └── Best until now = 2.1759 (\u001b[32m↘ -0.8555\u001b[0m)\n",
            "│   ├── Ppyoloeloss/loss_iou = 0.5231\n",
            "│   │   ├── Epoch N-1      = 0.6624 (\u001b[32m↘ -0.1394\u001b[0m)\n",
            "│   │   └── Best until now = 0.6624 (\u001b[32m↘ -0.1394\u001b[0m)\n",
            "│   ├── Ppyoloeloss/loss_dfl = 0.6547\n",
            "│   │   ├── Epoch N-1      = 0.7792 (\u001b[32m↘ -0.1245\u001b[0m)\n",
            "│   │   └── Best until now = 0.7792 (\u001b[32m↘ -0.1245\u001b[0m)\n",
            "│   └── Ppyoloeloss/loss = 2.4983\n",
            "│       ├── Epoch N-1      = 3.6176 (\u001b[32m↘ -1.1193\u001b[0m)\n",
            "│       └── Best until now = 3.6176 (\u001b[32m↘ -1.1193\u001b[0m)\n",
            "└── Validation\n",
            "    ├── Ppyoloeloss/loss_cls = 14.3968\n",
            "    │   ├── Epoch N-1      = 2.4778 (\u001b[31m↗ 11.919\u001b[0m)\n",
            "    │   └── Best until now = 2.4778 (\u001b[31m↗ 11.919\u001b[0m)\n",
            "    ├── Ppyoloeloss/loss_iou = 0.4806\n",
            "    │   ├── Epoch N-1      = 0.421  (\u001b[31m↗ 0.0596\u001b[0m)\n",
            "    │   └── Best until now = 0.421  (\u001b[31m↗ 0.0596\u001b[0m)\n",
            "    ├── Ppyoloeloss/loss_dfl = 0.6013\n",
            "    │   ├── Epoch N-1      = 0.6421 (\u001b[32m↘ -0.0409\u001b[0m)\n",
            "    │   └── Best until now = 0.6421 (\u001b[32m↘ -0.0409\u001b[0m)\n",
            "    ├── Ppyoloeloss/loss = 15.4786\n",
            "    │   ├── Epoch N-1      = 3.5409 (\u001b[31m↗ 11.9378\u001b[0m)\n",
            "    │   └── Best until now = 3.5409 (\u001b[31m↗ 11.9378\u001b[0m)\n",
            "    ├── Precision@0.50 = 0.0035\n",
            "    │   ├── Epoch N-1      = 0.0    (\u001b[32m↗ 0.0035\u001b[0m)\n",
            "    │   └── Best until now = 0.0    (\u001b[32m↗ 0.0035\u001b[0m)\n",
            "    ├── Recall@0.50 = 0.9194\n",
            "    │   ├── Epoch N-1      = 0.0    (\u001b[32m↗ 0.9194\u001b[0m)\n",
            "    │   └── Best until now = 0.0    (\u001b[32m↗ 0.9194\u001b[0m)\n",
            "    ├── Map@0.50 = 0.2741\n",
            "    │   ├── Epoch N-1      = 0.126  (\u001b[32m↗ 0.1481\u001b[0m)\n",
            "    │   └── Best until now = 0.126  (\u001b[32m↗ 0.1481\u001b[0m)\n",
            "    └── F1@0.50 = 0.0069\n",
            "        ├── Epoch N-1      = 0.0    (\u001b[32m↗ 0.0069\u001b[0m)\n",
            "        └── Best until now = 0.0    (\u001b[32m↗ 0.0069\u001b[0m)\n",
            "\n",
            "===========================================================\n"
          ]
        },
        {
          "metadata": {
            "tags": null
          },
          "name": "stderr",
          "output_type": "stream",
          "text": [
            "Train epoch 2: 100%|██████████| 26/26 [00:16<00:00,  1.55it/s, PPYoloELoss/loss=2.25, PPYoloELoss/loss_cls=1.12, PPYoloELoss/loss_dfl=0.634, PPYoloELoss/loss_iou=0.498, gpu_mem=6.98]\n",
            "Validating epoch 2: 100%|██████████| 8/8 [00:02<00:00,  2.80it/s]\n",
            "[2023-12-14 14:49:23] INFO - base_sg_logger.py - Checkpoint saved in ./checkpoints/csilab-braintumor-detection/RUN_20231214_144702_032990/ckpt_best.pth\n",
            "[2023-12-14 14:49:23] INFO - sg_trainer.py - Best checkpoint overriden: validation mAP@0.50: 0.7222378253936768\n"
          ]
        },
        {
          "metadata": {
            "tags": null
          },
          "name": "stdout",
          "output_type": "stream",
          "text": [
            "===========================================================\n",
            "SUMMARY OF EPOCH 2\n",
            "├── Train\n",
            "│   ├── Ppyoloeloss/loss_cls = 1.1222\n",
            "│   │   ├── Epoch N-1      = 1.3205 (\u001b[32m↘ -0.1983\u001b[0m)\n",
            "│   │   └── Best until now = 1.3205 (\u001b[32m↘ -0.1983\u001b[0m)\n",
            "│   ├── Ppyoloeloss/loss_iou = 0.4982\n",
            "│   │   ├── Epoch N-1      = 0.5231 (\u001b[32m↘ -0.0248\u001b[0m)\n",
            "│   │   └── Best until now = 0.5231 (\u001b[32m↘ -0.0248\u001b[0m)\n",
            "│   ├── Ppyoloeloss/loss_dfl = 0.6339\n",
            "│   │   ├── Epoch N-1      = 0.6547 (\u001b[32m↘ -0.0208\u001b[0m)\n",
            "│   │   └── Best until now = 0.6547 (\u001b[32m↘ -0.0208\u001b[0m)\n",
            "│   └── Ppyoloeloss/loss = 2.2543\n",
            "│       ├── Epoch N-1      = 2.4983 (\u001b[32m↘ -0.244\u001b[0m)\n",
            "│       └── Best until now = 2.4983 (\u001b[32m↘ -0.244\u001b[0m)\n",
            "└── Validation\n",
            "    ├── Ppyoloeloss/loss_cls = 2.586\n",
            "    │   ├── Epoch N-1      = 14.3968 (\u001b[32m↘ -11.8108\u001b[0m)\n",
            "    │   └── Best until now = 2.4778 (\u001b[31m↗ 0.1082\u001b[0m)\n",
            "    ├── Ppyoloeloss/loss_iou = 0.422\n",
            "    │   ├── Epoch N-1      = 0.4806 (\u001b[32m↘ -0.0586\u001b[0m)\n",
            "    │   └── Best until now = 0.421  (\u001b[31m↗ 0.001\u001b[0m)\n",
            "    ├── Ppyoloeloss/loss_dfl = 0.6006\n",
            "    │   ├── Epoch N-1      = 0.6013 (\u001b[32m↘ -0.0007\u001b[0m)\n",
            "    │   └── Best until now = 0.6013 (\u001b[32m↘ -0.0007\u001b[0m)\n",
            "    ├── Ppyoloeloss/loss = 3.6086\n",
            "    │   ├── Epoch N-1      = 15.4786 (\u001b[32m↘ -11.8701\u001b[0m)\n",
            "    │   └── Best until now = 3.5409 (\u001b[31m↗ 0.0677\u001b[0m)\n",
            "    ├── Precision@0.50 = 0.0044\n",
            "    │   ├── Epoch N-1      = 0.0035 (\u001b[32m↗ 0.0009\u001b[0m)\n",
            "    │   └── Best until now = 0.0035 (\u001b[32m↗ 0.0009\u001b[0m)\n",
            "    ├── Recall@0.50 = 0.9839\n",
            "    │   ├── Epoch N-1      = 0.9194 (\u001b[32m↗ 0.0645\u001b[0m)\n",
            "    │   └── Best until now = 0.9194 (\u001b[32m↗ 0.0645\u001b[0m)\n",
            "    ├── Map@0.50 = 0.7222\n",
            "    │   ├── Epoch N-1      = 0.2741 (\u001b[32m↗ 0.4482\u001b[0m)\n",
            "    │   └── Best until now = 0.2741 (\u001b[32m↗ 0.4482\u001b[0m)\n",
            "    └── F1@0.50 = 0.0087\n",
            "        ├── Epoch N-1      = 0.0069 (\u001b[32m↗ 0.0018\u001b[0m)\n",
            "        └── Best until now = 0.0069 (\u001b[32m↗ 0.0018\u001b[0m)\n",
            "\n",
            "===========================================================\n"
          ]
        },
        {
          "metadata": {
            "tags": null
          },
          "name": "stderr",
          "output_type": "stream",
          "text": [
            "Train epoch 3: 100%|██████████| 26/26 [00:17<00:00,  1.47it/s, PPYoloELoss/loss=2.25, PPYoloELoss/loss_cls=1.09, PPYoloELoss/loss_dfl=0.648, PPYoloELoss/loss_iou=0.52, gpu_mem=6.83]\n",
            "Validating epoch 3: 100%|██████████| 8/8 [00:02<00:00,  2.79it/s]\n"
          ]
        },
        {
          "metadata": {
            "tags": null
          },
          "name": "stdout",
          "output_type": "stream",
          "text": [
            "===========================================================\n",
            "SUMMARY OF EPOCH 3\n",
            "├── Train\n",
            "│   ├── Ppyoloeloss/loss_cls = 1.0861\n",
            "│   │   ├── Epoch N-1      = 1.1222 (\u001b[32m↘ -0.0361\u001b[0m)\n",
            "│   │   └── Best until now = 1.1222 (\u001b[32m↘ -0.0361\u001b[0m)\n",
            "│   ├── Ppyoloeloss/loss_iou = 0.5198\n",
            "│   │   ├── Epoch N-1      = 0.4982 (\u001b[31m↗ 0.0216\u001b[0m)\n",
            "│   │   └── Best until now = 0.4982 (\u001b[31m↗ 0.0216\u001b[0m)\n",
            "│   ├── Ppyoloeloss/loss_dfl = 0.6475\n",
            "│   │   ├── Epoch N-1      = 0.6339 (\u001b[31m↗ 0.0137\u001b[0m)\n",
            "│   │   └── Best until now = 0.6339 (\u001b[31m↗ 0.0137\u001b[0m)\n",
            "│   └── Ppyoloeloss/loss = 2.2534\n",
            "│       ├── Epoch N-1      = 2.2543 (\u001b[32m↘ -0.0009\u001b[0m)\n",
            "│       └── Best until now = 2.2543 (\u001b[32m↘ -0.0009\u001b[0m)\n",
            "└── Validation\n",
            "    ├── Ppyoloeloss/loss_cls = 4.1614\n",
            "    │   ├── Epoch N-1      = 2.586  (\u001b[31m↗ 1.5754\u001b[0m)\n",
            "    │   └── Best until now = 2.4778 (\u001b[31m↗ 1.6836\u001b[0m)\n",
            "    ├── Ppyoloeloss/loss_iou = 0.4484\n",
            "    │   ├── Epoch N-1      = 0.422  (\u001b[31m↗ 0.0265\u001b[0m)\n",
            "    │   └── Best until now = 0.421  (\u001b[31m↗ 0.0274\u001b[0m)\n",
            "    ├── Ppyoloeloss/loss_dfl = 0.6272\n",
            "    │   ├── Epoch N-1      = 0.6006 (\u001b[31m↗ 0.0266\u001b[0m)\n",
            "    │   └── Best until now = 0.6006 (\u001b[31m↗ 0.0266\u001b[0m)\n",
            "    ├── Ppyoloeloss/loss = 5.237\n",
            "    │   ├── Epoch N-1      = 3.6086 (\u001b[31m↗ 1.6284\u001b[0m)\n",
            "    │   └── Best until now = 3.5409 (\u001b[31m↗ 1.6961\u001b[0m)\n",
            "    ├── Precision@0.50 = 0.0045\n",
            "    │   ├── Epoch N-1      = 0.0044 (\u001b[32m↗ 0.0001\u001b[0m)\n",
            "    │   └── Best until now = 0.0044 (\u001b[32m↗ 0.0001\u001b[0m)\n",
            "    ├── Recall@0.50 = 0.9677\n",
            "    │   ├── Epoch N-1      = 0.9839 (\u001b[31m↘ -0.0161\u001b[0m)\n",
            "    │   └── Best until now = 0.9839 (\u001b[31m↘ -0.0161\u001b[0m)\n",
            "    ├── Map@0.50 = 0.6709\n",
            "    │   ├── Epoch N-1      = 0.7222 (\u001b[31m↘ -0.0513\u001b[0m)\n",
            "    │   └── Best until now = 0.7222 (\u001b[31m↘ -0.0513\u001b[0m)\n",
            "    └── F1@0.50 = 0.009\n",
            "        ├── Epoch N-1      = 0.0087 (\u001b[32m↗ 0.0003\u001b[0m)\n",
            "        └── Best until now = 0.0087 (\u001b[32m↗ 0.0003\u001b[0m)\n",
            "\n",
            "===========================================================\n"
          ]
        },
        {
          "metadata": {
            "tags": null
          },
          "name": "stderr",
          "output_type": "stream",
          "text": [
            "Train epoch 4: 100%|██████████| 26/26 [00:16<00:00,  1.54it/s, PPYoloELoss/loss=2.26, PPYoloELoss/loss_cls=1.08, PPYoloELoss/loss_dfl=0.644, PPYoloELoss/loss_iou=0.541, gpu_mem=6.83]\n",
            "Validating epoch 4: 100%|██████████| 8/8 [00:02<00:00,  2.78it/s]\n"
          ]
        },
        {
          "metadata": {
            "tags": null
          },
          "name": "stdout",
          "output_type": "stream",
          "text": [
            "===========================================================\n",
            "SUMMARY OF EPOCH 4\n",
            "├── Train\n",
            "│   ├── Ppyoloeloss/loss_cls = 1.0797\n",
            "│   │   ├── Epoch N-1      = 1.0861 (\u001b[32m↘ -0.0063\u001b[0m)\n",
            "│   │   └── Best until now = 1.0861 (\u001b[32m↘ -0.0063\u001b[0m)\n",
            "│   ├── Ppyoloeloss/loss_iou = 0.5415\n",
            "│   │   ├── Epoch N-1      = 0.5198 (\u001b[31m↗ 0.0217\u001b[0m)\n",
            "│   │   └── Best until now = 0.4982 (\u001b[31m↗ 0.0433\u001b[0m)\n",
            "│   ├── Ppyoloeloss/loss_dfl = 0.6435\n",
            "│   │   ├── Epoch N-1      = 0.6475 (\u001b[32m↘ -0.004\u001b[0m)\n",
            "│   │   └── Best until now = 0.6339 (\u001b[31m↗ 0.0096\u001b[0m)\n",
            "│   └── Ppyoloeloss/loss = 2.2648\n",
            "│       ├── Epoch N-1      = 2.2534 (\u001b[31m↗ 0.0114\u001b[0m)\n",
            "│       └── Best until now = 2.2534 (\u001b[31m↗ 0.0114\u001b[0m)\n",
            "└── Validation\n",
            "    ├── Ppyoloeloss/loss_cls = 4.9408\n",
            "    │   ├── Epoch N-1      = 4.1614 (\u001b[31m↗ 0.7794\u001b[0m)\n",
            "    │   └── Best until now = 2.4778 (\u001b[31m↗ 2.463\u001b[0m)\n",
            "    ├── Ppyoloeloss/loss_iou = 0.4848\n",
            "    │   ├── Epoch N-1      = 0.4484 (\u001b[31m↗ 0.0364\u001b[0m)\n",
            "    │   └── Best until now = 0.421  (\u001b[31m↗ 0.0638\u001b[0m)\n",
            "    ├── Ppyoloeloss/loss_dfl = 0.6877\n",
            "    │   ├── Epoch N-1      = 0.6272 (\u001b[31m↗ 0.0605\u001b[0m)\n",
            "    │   └── Best until now = 0.6006 (\u001b[31m↗ 0.0871\u001b[0m)\n",
            "    ├── Ppyoloeloss/loss = 6.1133\n",
            "    │   ├── Epoch N-1      = 5.237  (\u001b[31m↗ 0.8763\u001b[0m)\n",
            "    │   └── Best until now = 3.5409 (\u001b[31m↗ 2.5724\u001b[0m)\n",
            "    ├── Precision@0.50 = 0.0039\n",
            "    │   ├── Epoch N-1      = 0.0045 (\u001b[31m↘ -0.0006\u001b[0m)\n",
            "    │   └── Best until now = 0.0045 (\u001b[31m↘ -0.0006\u001b[0m)\n",
            "    ├── Recall@0.50 = 0.9355\n",
            "    │   ├── Epoch N-1      = 0.9677 (\u001b[31m↘ -0.0323\u001b[0m)\n",
            "    │   └── Best until now = 0.9839 (\u001b[31m↘ -0.0484\u001b[0m)\n",
            "    ├── Map@0.50 = 0.6289\n",
            "    │   ├── Epoch N-1      = 0.6709 (\u001b[31m↘ -0.042\u001b[0m)\n",
            "    │   └── Best until now = 0.7222 (\u001b[31m↘ -0.0934\u001b[0m)\n",
            "    └── F1@0.50 = 0.0077\n",
            "        ├── Epoch N-1      = 0.009  (\u001b[31m↘ -0.0012\u001b[0m)\n",
            "        └── Best until now = 0.009  (\u001b[31m↘ -0.0012\u001b[0m)\n",
            "\n",
            "===========================================================\n"
          ]
        },
        {
          "metadata": {
            "tags": null
          },
          "name": "stderr",
          "output_type": "stream",
          "text": [
            "Train epoch 5: 100%|██████████| 26/26 [00:17<00:00,  1.50it/s, PPYoloELoss/loss=2.23, PPYoloELoss/loss_cls=1.05, PPYoloELoss/loss_dfl=0.652, PPYoloELoss/loss_iou=0.53, gpu_mem=6.83]\n",
            "Validating epoch 5: 100%|██████████| 8/8 [00:02<00:00,  2.75it/s]\n"
          ]
        },
        {
          "metadata": {
            "tags": null
          },
          "name": "stdout",
          "output_type": "stream",
          "text": [
            "===========================================================\n",
            "SUMMARY OF EPOCH 5\n",
            "├── Train\n",
            "│   ├── Ppyoloeloss/loss_cls = 1.049\n",
            "│   │   ├── Epoch N-1      = 1.0797 (\u001b[32m↘ -0.0307\u001b[0m)\n",
            "│   │   └── Best until now = 1.0797 (\u001b[32m↘ -0.0307\u001b[0m)\n",
            "│   ├── Ppyoloeloss/loss_iou = 0.5301\n",
            "│   │   ├── Epoch N-1      = 0.5415 (\u001b[32m↘ -0.0114\u001b[0m)\n",
            "│   │   └── Best until now = 0.4982 (\u001b[31m↗ 0.0319\u001b[0m)\n",
            "│   ├── Ppyoloeloss/loss_dfl = 0.6524\n",
            "│   │   ├── Epoch N-1      = 0.6435 (\u001b[31m↗ 0.0089\u001b[0m)\n",
            "│   │   └── Best until now = 0.6339 (\u001b[31m↗ 0.0186\u001b[0m)\n",
            "│   └── Ppyoloeloss/loss = 2.2316\n",
            "│       ├── Epoch N-1      = 2.2648 (\u001b[32m↘ -0.0332\u001b[0m)\n",
            "│       └── Best until now = 2.2534 (\u001b[32m↘ -0.0218\u001b[0m)\n",
            "└── Validation\n",
            "    ├── Ppyoloeloss/loss_cls = 2.2029\n",
            "    │   ├── Epoch N-1      = 4.9408 (\u001b[32m↘ -2.7378\u001b[0m)\n",
            "    │   └── Best until now = 2.4778 (\u001b[32m↘ -0.2748\u001b[0m)\n",
            "    ├── Ppyoloeloss/loss_iou = 0.4189\n",
            "    │   ├── Epoch N-1      = 0.4848 (\u001b[32m↘ -0.066\u001b[0m)\n",
            "    │   └── Best until now = 0.421  (\u001b[32m↘ -0.0021\u001b[0m)\n",
            "    ├── Ppyoloeloss/loss_dfl = 0.5982\n",
            "    │   ├── Epoch N-1      = 0.6877 (\u001b[32m↘ -0.0895\u001b[0m)\n",
            "    │   └── Best until now = 0.6006 (\u001b[32m↘ -0.0024\u001b[0m)\n",
            "    ├── Ppyoloeloss/loss = 3.2199\n",
            "    │   ├── Epoch N-1      = 6.1133 (\u001b[32m↘ -2.8933\u001b[0m)\n",
            "    │   └── Best until now = 3.5409 (\u001b[32m↘ -0.3209\u001b[0m)\n",
            "    ├── Precision@0.50 = 0.0056\n",
            "    │   ├── Epoch N-1      = 0.0039 (\u001b[32m↗ 0.0017\u001b[0m)\n",
            "    │   └── Best until now = 0.0045 (\u001b[32m↗ 0.0011\u001b[0m)\n",
            "    ├── Recall@0.50 = 0.9839\n",
            "    │   ├── Epoch N-1      = 0.9355 (\u001b[32m↗ 0.0484\u001b[0m)\n",
            "    │   └── Best until now = 0.9839 (\u001b[37m= 0.0\u001b[0m)\n",
            "    ├── Map@0.50 = 0.685\n",
            "    │   ├── Epoch N-1      = 0.6289 (\u001b[32m↗ 0.0561\u001b[0m)\n",
            "    │   └── Best until now = 0.7222 (\u001b[31m↘ -0.0373\u001b[0m)\n",
            "    └── F1@0.50 = 0.0112\n",
            "        ├── Epoch N-1      = 0.0077 (\u001b[32m↗ 0.0034\u001b[0m)\n",
            "        └── Best until now = 0.009  (\u001b[32m↗ 0.0022\u001b[0m)\n",
            "\n",
            "===========================================================\n"
          ]
        },
        {
          "metadata": {
            "tags": null
          },
          "name": "stderr",
          "output_type": "stream",
          "text": [
            "Train epoch 6: 100%|██████████| 26/26 [00:18<00:00,  1.41it/s, PPYoloELoss/loss=2.19, PPYoloELoss/loss_cls=1.05, PPYoloELoss/loss_dfl=0.629, PPYoloELoss/loss_iou=0.514, gpu_mem=6.83]\n",
            "Validating epoch 6: 100%|██████████| 8/8 [00:02<00:00,  2.73it/s]\n",
            "[2023-12-14 14:53:24] INFO - base_sg_logger.py - Checkpoint saved in ./checkpoints/csilab-braintumor-detection/RUN_20231214_144702_032990/ckpt_best.pth\n",
            "[2023-12-14 14:53:24] INFO - sg_trainer.py - Best checkpoint overriden: validation mAP@0.50: 0.7858772873878479\n"
          ]
        },
        {
          "metadata": {
            "tags": null
          },
          "name": "stdout",
          "output_type": "stream",
          "text": [
            "===========================================================\n",
            "SUMMARY OF EPOCH 6\n",
            "├── Train\n",
            "│   ├── Ppyoloeloss/loss_cls = 1.0494\n",
            "│   │   ├── Epoch N-1      = 1.049  (\u001b[31m↗ 0.0005\u001b[0m)\n",
            "│   │   └── Best until now = 1.049  (\u001b[31m↗ 0.0005\u001b[0m)\n",
            "│   ├── Ppyoloeloss/loss_iou = 0.5137\n",
            "│   │   ├── Epoch N-1      = 0.5301 (\u001b[32m↘ -0.0164\u001b[0m)\n",
            "│   │   └── Best until now = 0.4982 (\u001b[31m↗ 0.0155\u001b[0m)\n",
            "│   ├── Ppyoloeloss/loss_dfl = 0.6292\n",
            "│   │   ├── Epoch N-1      = 0.6524 (\u001b[32m↘ -0.0233\u001b[0m)\n",
            "│   │   └── Best until now = 0.6339 (\u001b[32m↘ -0.0047\u001b[0m)\n",
            "│   └── Ppyoloeloss/loss = 2.1923\n",
            "│       ├── Epoch N-1      = 2.2316 (\u001b[32m↘ -0.0392\u001b[0m)\n",
            "│       └── Best until now = 2.2316 (\u001b[32m↘ -0.0392\u001b[0m)\n",
            "└── Validation\n",
            "    ├── Ppyoloeloss/loss_cls = 1.3759\n",
            "    │   ├── Epoch N-1      = 2.2029 (\u001b[32m↘ -0.827\u001b[0m)\n",
            "    │   └── Best until now = 2.2029 (\u001b[32m↘ -0.827\u001b[0m)\n",
            "    ├── Ppyoloeloss/loss_iou = 0.4206\n",
            "    │   ├── Epoch N-1      = 0.4189 (\u001b[31m↗ 0.0017\u001b[0m)\n",
            "    │   └── Best until now = 0.4189 (\u001b[31m↗ 0.0017\u001b[0m)\n",
            "    ├── Ppyoloeloss/loss_dfl = 0.5949\n",
            "    │   ├── Epoch N-1      = 0.5982 (\u001b[32m↘ -0.0032\u001b[0m)\n",
            "    │   └── Best until now = 0.5982 (\u001b[32m↘ -0.0032\u001b[0m)\n",
            "    ├── Ppyoloeloss/loss = 2.3914\n",
            "    │   ├── Epoch N-1      = 3.2199 (\u001b[32m↘ -0.8285\u001b[0m)\n",
            "    │   └── Best until now = 3.2199 (\u001b[32m↘ -0.8285\u001b[0m)\n",
            "    ├── Precision@0.50 = 0.0087\n",
            "    │   ├── Epoch N-1      = 0.0056 (\u001b[32m↗ 0.0031\u001b[0m)\n",
            "    │   └── Best until now = 0.0056 (\u001b[32m↗ 0.0031\u001b[0m)\n",
            "    ├── Recall@0.50 = 0.9677\n",
            "    │   ├── Epoch N-1      = 0.9839 (\u001b[31m↘ -0.0161\u001b[0m)\n",
            "    │   └── Best until now = 0.9839 (\u001b[31m↘ -0.0161\u001b[0m)\n",
            "    ├── Map@0.50 = 0.7859\n",
            "    │   ├── Epoch N-1      = 0.685  (\u001b[32m↗ 0.1009\u001b[0m)\n",
            "    │   └── Best until now = 0.7222 (\u001b[32m↗ 0.0636\u001b[0m)\n",
            "    └── F1@0.50 = 0.0173\n",
            "        ├── Epoch N-1      = 0.0112 (\u001b[32m↗ 0.0062\u001b[0m)\n",
            "        └── Best until now = 0.0112 (\u001b[32m↗ 0.0062\u001b[0m)\n",
            "\n",
            "===========================================================\n"
          ]
        },
        {
          "metadata": {
            "tags": null
          },
          "name": "stderr",
          "output_type": "stream",
          "text": [
            "Train epoch 7: 100%|██████████| 26/26 [00:18<00:00,  1.42it/s, PPYoloELoss/loss=2.14, PPYoloELoss/loss_cls=1, PPYoloELoss/loss_dfl=0.632, PPYoloELoss/loss_iou=0.509, gpu_mem=6.84]\n",
            "Validating epoch 7: 100%|██████████| 8/8 [00:02<00:00,  2.73it/s]\n",
            "[2023-12-14 14:55:06] INFO - base_sg_logger.py - Checkpoint saved in ./checkpoints/csilab-braintumor-detection/RUN_20231214_144702_032990/ckpt_best.pth\n",
            "[2023-12-14 14:55:06] INFO - sg_trainer.py - Best checkpoint overriden: validation mAP@0.50: 0.8723410367965698\n"
          ]
        },
        {
          "metadata": {
            "tags": null
          },
          "name": "stdout",
          "output_type": "stream",
          "text": [
            "===========================================================\n",
            "SUMMARY OF EPOCH 7\n",
            "├── Train\n",
            "│   ├── Ppyoloeloss/loss_cls = 1.0036\n",
            "│   │   ├── Epoch N-1      = 1.0494 (\u001b[32m↘ -0.0459\u001b[0m)\n",
            "│   │   └── Best until now = 1.049  (\u001b[32m↘ -0.0454\u001b[0m)\n",
            "│   ├── Ppyoloeloss/loss_iou = 0.5091\n",
            "│   │   ├── Epoch N-1      = 0.5137 (\u001b[32m↘ -0.0046\u001b[0m)\n",
            "│   │   └── Best until now = 0.4982 (\u001b[31m↗ 0.0109\u001b[0m)\n",
            "│   ├── Ppyoloeloss/loss_dfl = 0.6316\n",
            "│   │   ├── Epoch N-1      = 0.6292 (\u001b[31m↗ 0.0025\u001b[0m)\n",
            "│   │   └── Best until now = 0.6292 (\u001b[31m↗ 0.0025\u001b[0m)\n",
            "│   └── Ppyoloeloss/loss = 2.1444\n",
            "│       ├── Epoch N-1      = 2.1923 (\u001b[32m↘ -0.048\u001b[0m)\n",
            "│       └── Best until now = 2.1923 (\u001b[32m↘ -0.048\u001b[0m)\n",
            "└── Validation\n",
            "    ├── Ppyoloeloss/loss_cls = 0.9809\n",
            "    │   ├── Epoch N-1      = 1.3759 (\u001b[32m↘ -0.395\u001b[0m)\n",
            "    │   └── Best until now = 1.3759 (\u001b[32m↘ -0.395\u001b[0m)\n",
            "    ├── Ppyoloeloss/loss_iou = 0.4201\n",
            "    │   ├── Epoch N-1      = 0.4206 (\u001b[32m↘ -0.0005\u001b[0m)\n",
            "    │   └── Best until now = 0.4189 (\u001b[31m↗ 0.0012\u001b[0m)\n",
            "    ├── Ppyoloeloss/loss_dfl = 0.583\n",
            "    │   ├── Epoch N-1      = 0.5949 (\u001b[32m↘ -0.0119\u001b[0m)\n",
            "    │   └── Best until now = 0.5949 (\u001b[32m↘ -0.0119\u001b[0m)\n",
            "    ├── Ppyoloeloss/loss = 1.984\n",
            "    │   ├── Epoch N-1      = 2.3914 (\u001b[32m↘ -0.4074\u001b[0m)\n",
            "    │   └── Best until now = 2.3914 (\u001b[32m↘ -0.4074\u001b[0m)\n",
            "    ├── Precision@0.50 = 0.0209\n",
            "    │   ├── Epoch N-1      = 0.0087 (\u001b[32m↗ 0.0122\u001b[0m)\n",
            "    │   └── Best until now = 0.0087 (\u001b[32m↗ 0.0122\u001b[0m)\n",
            "    ├── Recall@0.50 = 0.9677\n",
            "    │   ├── Epoch N-1      = 0.9677 (\u001b[37m= 0.0\u001b[0m)\n",
            "    │   └── Best until now = 0.9839 (\u001b[31m↘ -0.0161\u001b[0m)\n",
            "    ├── Map@0.50 = 0.8723\n",
            "    │   ├── Epoch N-1      = 0.7859 (\u001b[32m↗ 0.0865\u001b[0m)\n",
            "    │   └── Best until now = 0.7859 (\u001b[32m↗ 0.0865\u001b[0m)\n",
            "    └── F1@0.50 = 0.041\n",
            "        ├── Epoch N-1      = 0.0173 (\u001b[32m↗ 0.0237\u001b[0m)\n",
            "        └── Best until now = 0.0173 (\u001b[32m↗ 0.0237\u001b[0m)\n",
            "\n",
            "===========================================================\n"
          ]
        },
        {
          "metadata": {
            "tags": null
          },
          "name": "stderr",
          "output_type": "stream",
          "text": [
            "Train epoch 8: 100%|██████████| 26/26 [00:18<00:00,  1.43it/s, PPYoloELoss/loss=2.11, PPYoloELoss/loss_cls=0.991, PPYoloELoss/loss_dfl=0.627, PPYoloELoss/loss_iou=0.492, gpu_mem=6.84]\n",
            "Validating epoch 8: 100%|██████████| 8/8 [00:02<00:00,  2.76it/s]\n"
          ]
        },
        {
          "metadata": {
            "tags": null
          },
          "name": "stdout",
          "output_type": "stream",
          "text": [
            "===========================================================\n",
            "SUMMARY OF EPOCH 8\n",
            "├── Train\n",
            "│   ├── Ppyoloeloss/loss_cls = 0.9905\n",
            "│   │   ├── Epoch N-1      = 1.0036 (\u001b[32m↘ -0.0131\u001b[0m)\n",
            "│   │   └── Best until now = 1.0036 (\u001b[32m↘ -0.0131\u001b[0m)\n",
            "│   ├── Ppyoloeloss/loss_iou = 0.4925\n",
            "│   │   ├── Epoch N-1      = 0.5091 (\u001b[32m↘ -0.0167\u001b[0m)\n",
            "│   │   └── Best until now = 0.4982 (\u001b[32m↘ -0.0058\u001b[0m)\n",
            "│   ├── Ppyoloeloss/loss_dfl = 0.6269\n",
            "│   │   ├── Epoch N-1      = 0.6316 (\u001b[32m↘ -0.0047\u001b[0m)\n",
            "│   │   └── Best until now = 0.6292 (\u001b[32m↘ -0.0022\u001b[0m)\n",
            "│   └── Ppyoloeloss/loss = 2.1099\n",
            "│       ├── Epoch N-1      = 2.1444 (\u001b[32m↘ -0.0344\u001b[0m)\n",
            "│       └── Best until now = 2.1444 (\u001b[32m↘ -0.0344\u001b[0m)\n",
            "└── Validation\n",
            "    ├── Ppyoloeloss/loss_cls = 1.0072\n",
            "    │   ├── Epoch N-1      = 0.9809 (\u001b[31m↗ 0.0262\u001b[0m)\n",
            "    │   └── Best until now = 0.9809 (\u001b[31m↗ 0.0262\u001b[0m)\n",
            "    ├── Ppyoloeloss/loss_iou = 0.3896\n",
            "    │   ├── Epoch N-1      = 0.4201 (\u001b[32m↘ -0.0305\u001b[0m)\n",
            "    │   └── Best until now = 0.4189 (\u001b[32m↘ -0.0293\u001b[0m)\n",
            "    ├── Ppyoloeloss/loss_dfl = 0.5541\n",
            "    │   ├── Epoch N-1      = 0.583  (\u001b[32m↘ -0.0289\u001b[0m)\n",
            "    │   └── Best until now = 0.583  (\u001b[32m↘ -0.0289\u001b[0m)\n",
            "    ├── Ppyoloeloss/loss = 1.9509\n",
            "    │   ├── Epoch N-1      = 1.984  (\u001b[32m↘ -0.0331\u001b[0m)\n",
            "    │   └── Best until now = 1.984  (\u001b[32m↘ -0.0331\u001b[0m)\n",
            "    ├── Precision@0.50 = 0.0229\n",
            "    │   ├── Epoch N-1      = 0.0209 (\u001b[32m↗ 0.002\u001b[0m)\n",
            "    │   └── Best until now = 0.0209 (\u001b[32m↗ 0.002\u001b[0m)\n",
            "    ├── Recall@0.50 = 0.9677\n",
            "    │   ├── Epoch N-1      = 0.9677 (\u001b[37m= 0.0\u001b[0m)\n",
            "    │   └── Best until now = 0.9839 (\u001b[31m↘ -0.0161\u001b[0m)\n",
            "    ├── Map@0.50 = 0.863\n",
            "    │   ├── Epoch N-1      = 0.8723 (\u001b[31m↘ -0.0094\u001b[0m)\n",
            "    │   └── Best until now = 0.8723 (\u001b[31m↘ -0.0094\u001b[0m)\n",
            "    └── F1@0.50 = 0.0448\n",
            "        ├── Epoch N-1      = 0.041  (\u001b[32m↗ 0.0038\u001b[0m)\n",
            "        └── Best until now = 0.041  (\u001b[32m↗ 0.0038\u001b[0m)\n",
            "\n",
            "===========================================================\n"
          ]
        },
        {
          "metadata": {
            "tags": null
          },
          "name": "stderr",
          "output_type": "stream",
          "text": [
            "Train epoch 9: 100%|██████████| 26/26 [00:17<00:00,  1.51it/s, PPYoloELoss/loss=2.07, PPYoloELoss/loss_cls=0.988, PPYoloELoss/loss_dfl=0.602, PPYoloELoss/loss_iou=0.478, gpu_mem=6.84]\n",
            "Validating epoch 9: 100%|██████████| 8/8 [00:03<00:00,  2.59it/s]\n"
          ]
        },
        {
          "metadata": {
            "tags": null
          },
          "name": "stdout",
          "output_type": "stream",
          "text": [
            "===========================================================\n",
            "SUMMARY OF EPOCH 9\n",
            "├── Train\n",
            "│   ├── Ppyoloeloss/loss_cls = 0.9875\n",
            "│   │   ├── Epoch N-1      = 0.9905 (\u001b[32m↘ -0.003\u001b[0m)\n",
            "│   │   └── Best until now = 0.9905 (\u001b[32m↘ -0.003\u001b[0m)\n",
            "│   ├── Ppyoloeloss/loss_iou = 0.4779\n",
            "│   │   ├── Epoch N-1      = 0.4925 (\u001b[32m↘ -0.0146\u001b[0m)\n",
            "│   │   └── Best until now = 0.4925 (\u001b[32m↘ -0.0146\u001b[0m)\n",
            "│   ├── Ppyoloeloss/loss_dfl = 0.6017\n",
            "│   │   ├── Epoch N-1      = 0.6269 (\u001b[32m↘ -0.0253\u001b[0m)\n",
            "│   │   └── Best until now = 0.6269 (\u001b[32m↘ -0.0253\u001b[0m)\n",
            "│   └── Ppyoloeloss/loss = 2.0671\n",
            "│       ├── Epoch N-1      = 2.1099 (\u001b[32m↘ -0.0428\u001b[0m)\n",
            "│       └── Best until now = 2.1099 (\u001b[32m↘ -0.0428\u001b[0m)\n",
            "└── Validation\n",
            "    ├── Ppyoloeloss/loss_cls = 1.0737\n",
            "    │   ├── Epoch N-1      = 1.0072 (\u001b[31m↗ 0.0665\u001b[0m)\n",
            "    │   └── Best until now = 0.9809 (\u001b[31m↗ 0.0928\u001b[0m)\n",
            "    ├── Ppyoloeloss/loss_iou = 0.405\n",
            "    │   ├── Epoch N-1      = 0.3896 (\u001b[31m↗ 0.0154\u001b[0m)\n",
            "    │   └── Best until now = 0.3896 (\u001b[31m↗ 0.0154\u001b[0m)\n",
            "    ├── Ppyoloeloss/loss_dfl = 0.5761\n",
            "    │   ├── Epoch N-1      = 0.5541 (\u001b[31m↗ 0.022\u001b[0m)\n",
            "    │   └── Best until now = 0.5541 (\u001b[31m↗ 0.022\u001b[0m)\n",
            "    ├── Ppyoloeloss/loss = 2.0549\n",
            "    │   ├── Epoch N-1      = 1.9509 (\u001b[31m↗ 0.104\u001b[0m)\n",
            "    │   └── Best until now = 1.9509 (\u001b[31m↗ 0.104\u001b[0m)\n",
            "    ├── Precision@0.50 = 0.0174\n",
            "    │   ├── Epoch N-1      = 0.0229 (\u001b[31m↘ -0.0056\u001b[0m)\n",
            "    │   └── Best until now = 0.0229 (\u001b[31m↘ -0.0056\u001b[0m)\n",
            "    ├── Recall@0.50 = 0.9677\n",
            "    │   ├── Epoch N-1      = 0.9677 (\u001b[37m= 0.0\u001b[0m)\n",
            "    │   └── Best until now = 0.9839 (\u001b[31m↘ -0.0161\u001b[0m)\n",
            "    ├── Map@0.50 = 0.757\n",
            "    │   ├── Epoch N-1      = 0.863  (\u001b[31m↘ -0.106\u001b[0m)\n",
            "    │   └── Best until now = 0.8723 (\u001b[31m↘ -0.1154\u001b[0m)\n",
            "    └── F1@0.50 = 0.0341\n",
            "        ├── Epoch N-1      = 0.0448 (\u001b[31m↘ -0.0107\u001b[0m)\n",
            "        └── Best until now = 0.0448 (\u001b[31m↘ -0.0107\u001b[0m)\n",
            "\n",
            "===========================================================\n"
          ]
        },
        {
          "metadata": {
            "tags": null
          },
          "name": "stderr",
          "output_type": "stream",
          "text": [
            "Train epoch 10: 100%|██████████| 26/26 [00:17<00:00,  1.50it/s, PPYoloELoss/loss=2.1, PPYoloELoss/loss_cls=1.01, PPYoloELoss/loss_dfl=0.61, PPYoloELoss/loss_iou=0.477, gpu_mem=6.83]\n",
            "Validating epoch 10: 100%|██████████| 8/8 [00:02<00:00,  2.69it/s]\n"
          ]
        },
        {
          "metadata": {
            "tags": null
          },
          "name": "stdout",
          "output_type": "stream",
          "text": [
            "===========================================================\n",
            "SUMMARY OF EPOCH 10\n",
            "├── Train\n",
            "│   ├── Ppyoloeloss/loss_cls = 1.0086\n",
            "│   │   ├── Epoch N-1      = 0.9875 (\u001b[31m↗ 0.0211\u001b[0m)\n",
            "│   │   └── Best until now = 0.9875 (\u001b[31m↗ 0.0211\u001b[0m)\n",
            "│   ├── Ppyoloeloss/loss_iou = 0.4767\n",
            "│   │   ├── Epoch N-1      = 0.4779 (\u001b[32m↘ -0.0012\u001b[0m)\n",
            "│   │   └── Best until now = 0.4779 (\u001b[32m↘ -0.0012\u001b[0m)\n",
            "│   ├── Ppyoloeloss/loss_dfl = 0.6097\n",
            "│   │   ├── Epoch N-1      = 0.6017 (\u001b[31m↗ 0.008\u001b[0m)\n",
            "│   │   └── Best until now = 0.6017 (\u001b[31m↗ 0.008\u001b[0m)\n",
            "│   └── Ppyoloeloss/loss = 2.0951\n",
            "│       ├── Epoch N-1      = 2.0671 (\u001b[31m↗ 0.028\u001b[0m)\n",
            "│       └── Best until now = 2.0671 (\u001b[31m↗ 0.028\u001b[0m)\n",
            "└── Validation\n",
            "    ├── Ppyoloeloss/loss_cls = 1.0482\n",
            "    │   ├── Epoch N-1      = 1.0737 (\u001b[32m↘ -0.0255\u001b[0m)\n",
            "    │   └── Best until now = 0.9809 (\u001b[31m↗ 0.0673\u001b[0m)\n",
            "    ├── Ppyoloeloss/loss_iou = 0.4165\n",
            "    │   ├── Epoch N-1      = 0.405  (\u001b[31m↗ 0.0115\u001b[0m)\n",
            "    │   └── Best until now = 0.3896 (\u001b[31m↗ 0.0269\u001b[0m)\n",
            "    ├── Ppyoloeloss/loss_dfl = 0.5978\n",
            "    │   ├── Epoch N-1      = 0.5761 (\u001b[31m↗ 0.0216\u001b[0m)\n",
            "    │   └── Best until now = 0.5541 (\u001b[31m↗ 0.0436\u001b[0m)\n",
            "    ├── Ppyoloeloss/loss = 2.0625\n",
            "    │   ├── Epoch N-1      = 2.0549 (\u001b[31m↗ 0.0076\u001b[0m)\n",
            "    │   └── Best until now = 1.9509 (\u001b[31m↗ 0.1116\u001b[0m)\n",
            "    ├── Precision@0.50 = 0.0124\n",
            "    │   ├── Epoch N-1      = 0.0174 (\u001b[31m↘ -0.005\u001b[0m)\n",
            "    │   └── Best until now = 0.0229 (\u001b[31m↘ -0.0106\u001b[0m)\n",
            "    ├── Recall@0.50 = 0.9677\n",
            "    │   ├── Epoch N-1      = 0.9677 (\u001b[37m= 0.0\u001b[0m)\n",
            "    │   └── Best until now = 0.9839 (\u001b[31m↘ -0.0161\u001b[0m)\n",
            "    ├── Map@0.50 = 0.833\n",
            "    │   ├── Epoch N-1      = 0.757  (\u001b[32m↗ 0.076\u001b[0m)\n",
            "    │   └── Best until now = 0.8723 (\u001b[31m↘ -0.0393\u001b[0m)\n",
            "    └── F1@0.50 = 0.0245\n",
            "        ├── Epoch N-1      = 0.0341 (\u001b[31m↘ -0.0097\u001b[0m)\n",
            "        └── Best until now = 0.0448 (\u001b[31m↘ -0.0204\u001b[0m)\n",
            "\n",
            "===========================================================\n"
          ]
        },
        {
          "metadata": {
            "tags": null
          },
          "name": "stderr",
          "output_type": "stream",
          "text": [
            "Train epoch 11: 100%|██████████| 26/26 [00:17<00:00,  1.48it/s, PPYoloELoss/loss=2.12, PPYoloELoss/loss_cls=1, PPYoloELoss/loss_dfl=0.623, PPYoloELoss/loss_iou=0.49, gpu_mem=6.83]\n",
            "Validating epoch 11: 100%|██████████| 8/8 [00:03<00:00,  2.45it/s]\n"
          ]
        },
        {
          "metadata": {
            "tags": null
          },
          "name": "stdout",
          "output_type": "stream",
          "text": [
            "===========================================================\n",
            "SUMMARY OF EPOCH 11\n",
            "├── Train\n",
            "│   ├── Ppyoloeloss/loss_cls = 1.0037\n",
            "│   │   ├── Epoch N-1      = 1.0086 (\u001b[32m↘ -0.0049\u001b[0m)\n",
            "│   │   └── Best until now = 0.9875 (\u001b[31m↗ 0.0162\u001b[0m)\n",
            "│   ├── Ppyoloeloss/loss_iou = 0.4901\n",
            "│   │   ├── Epoch N-1      = 0.4767 (\u001b[31m↗ 0.0133\u001b[0m)\n",
            "│   │   └── Best until now = 0.4767 (\u001b[31m↗ 0.0133\u001b[0m)\n",
            "│   ├── Ppyoloeloss/loss_dfl = 0.6228\n",
            "│   │   ├── Epoch N-1      = 0.6097 (\u001b[31m↗ 0.0131\u001b[0m)\n",
            "│   │   └── Best until now = 0.6017 (\u001b[31m↗ 0.0211\u001b[0m)\n",
            "│   └── Ppyoloeloss/loss = 2.1166\n",
            "│       ├── Epoch N-1      = 2.0951 (\u001b[31m↗ 0.0215\u001b[0m)\n",
            "│       └── Best until now = 2.0671 (\u001b[31m↗ 0.0495\u001b[0m)\n",
            "└── Validation\n",
            "    ├── Ppyoloeloss/loss_cls = 0.9197\n",
            "    │   ├── Epoch N-1      = 1.0482 (\u001b[32m↘ -0.1285\u001b[0m)\n",
            "    │   └── Best until now = 0.9809 (\u001b[32m↘ -0.0612\u001b[0m)\n",
            "    ├── Ppyoloeloss/loss_iou = 0.4268\n",
            "    │   ├── Epoch N-1      = 0.4165 (\u001b[31m↗ 0.0103\u001b[0m)\n",
            "    │   └── Best until now = 0.3896 (\u001b[31m↗ 0.0372\u001b[0m)\n",
            "    ├── Ppyoloeloss/loss_dfl = 0.6024\n",
            "    │   ├── Epoch N-1      = 0.5978 (\u001b[31m↗ 0.0047\u001b[0m)\n",
            "    │   └── Best until now = 0.5541 (\u001b[31m↗ 0.0483\u001b[0m)\n",
            "    ├── Ppyoloeloss/loss = 1.949\n",
            "    │   ├── Epoch N-1      = 2.0625 (\u001b[32m↘ -0.1135\u001b[0m)\n",
            "    │   └── Best until now = 1.9509 (\u001b[32m↘ -0.0019\u001b[0m)\n",
            "    ├── Precision@0.50 = 0.0246\n",
            "    │   ├── Epoch N-1      = 0.0124 (\u001b[32m↗ 0.0122\u001b[0m)\n",
            "    │   └── Best until now = 0.0229 (\u001b[32m↗ 0.0016\u001b[0m)\n",
            "    ├── Recall@0.50 = 0.9516\n",
            "    │   ├── Epoch N-1      = 0.9677 (\u001b[31m↘ -0.0161\u001b[0m)\n",
            "    │   └── Best until now = 0.9839 (\u001b[31m↘ -0.0323\u001b[0m)\n",
            "    ├── Map@0.50 = 0.8663\n",
            "    │   ├── Epoch N-1      = 0.833  (\u001b[32m↗ 0.0333\u001b[0m)\n",
            "    │   └── Best until now = 0.8723 (\u001b[31m↘ -0.0061\u001b[0m)\n",
            "    └── F1@0.50 = 0.0479\n",
            "        ├── Epoch N-1      = 0.0245 (\u001b[32m↗ 0.0234\u001b[0m)\n",
            "        └── Best until now = 0.0448 (\u001b[32m↗ 0.003\u001b[0m)\n",
            "\n",
            "===========================================================\n"
          ]
        },
        {
          "metadata": {
            "tags": null
          },
          "name": "stderr",
          "output_type": "stream",
          "text": [
            "Train epoch 12: 100%|██████████| 26/26 [00:17<00:00,  1.49it/s, PPYoloELoss/loss=2.05, PPYoloELoss/loss_cls=0.951, PPYoloELoss/loss_dfl=0.61, PPYoloELoss/loss_iou=0.489, gpu_mem=6.83]\n",
            "Validating epoch 12: 100%|██████████| 8/8 [00:03<00:00,  2.59it/s]\n"
          ]
        },
        {
          "metadata": {
            "tags": null
          },
          "name": "stdout",
          "output_type": "stream",
          "text": [
            "===========================================================\n",
            "SUMMARY OF EPOCH 12\n",
            "├── Train\n",
            "│   ├── Ppyoloeloss/loss_cls = 0.951\n",
            "│   │   ├── Epoch N-1      = 1.0037 (\u001b[32m↘ -0.0527\u001b[0m)\n",
            "│   │   └── Best until now = 0.9875 (\u001b[32m↘ -0.0365\u001b[0m)\n",
            "│   ├── Ppyoloeloss/loss_iou = 0.4892\n",
            "│   │   ├── Epoch N-1      = 0.4901 (\u001b[32m↘ -0.0009\u001b[0m)\n",
            "│   │   └── Best until now = 0.4767 (\u001b[31m↗ 0.0124\u001b[0m)\n",
            "│   ├── Ppyoloeloss/loss_dfl = 0.6096\n",
            "│   │   ├── Epoch N-1      = 0.6228 (\u001b[32m↘ -0.0132\u001b[0m)\n",
            "│   │   └── Best until now = 0.6017 (\u001b[31m↗ 0.0079\u001b[0m)\n",
            "│   └── Ppyoloeloss/loss = 2.0497\n",
            "│       ├── Epoch N-1      = 2.1166 (\u001b[32m↘ -0.0668\u001b[0m)\n",
            "│       └── Best until now = 2.0671 (\u001b[32m↘ -0.0174\u001b[0m)\n",
            "└── Validation\n",
            "    ├── Ppyoloeloss/loss_cls = 0.8979\n",
            "    │   ├── Epoch N-1      = 0.9197 (\u001b[32m↘ -0.0219\u001b[0m)\n",
            "    │   └── Best until now = 0.9197 (\u001b[32m↘ -0.0219\u001b[0m)\n",
            "    ├── Ppyoloeloss/loss_iou = 0.3905\n",
            "    │   ├── Epoch N-1      = 0.4268 (\u001b[32m↘ -0.0363\u001b[0m)\n",
            "    │   └── Best until now = 0.3896 (\u001b[31m↗ 0.0009\u001b[0m)\n",
            "    ├── Ppyoloeloss/loss_dfl = 0.5413\n",
            "    │   ├── Epoch N-1      = 0.6024 (\u001b[32m↘ -0.0611\u001b[0m)\n",
            "    │   └── Best until now = 0.5541 (\u001b[32m↘ -0.0128\u001b[0m)\n",
            "    ├── Ppyoloeloss/loss = 1.8297\n",
            "    │   ├── Epoch N-1      = 1.949  (\u001b[32m↘ -0.1193\u001b[0m)\n",
            "    │   └── Best until now = 1.949  (\u001b[32m↘ -0.1193\u001b[0m)\n",
            "    ├── Precision@0.50 = 0.024\n",
            "    │   ├── Epoch N-1      = 0.0246 (\u001b[31m↘ -0.0005\u001b[0m)\n",
            "    │   └── Best until now = 0.0246 (\u001b[31m↘ -0.0005\u001b[0m)\n",
            "    ├── Recall@0.50 = 0.9677\n",
            "    │   ├── Epoch N-1      = 0.9516 (\u001b[32m↗ 0.0161\u001b[0m)\n",
            "    │   └── Best until now = 0.9839 (\u001b[31m↘ -0.0161\u001b[0m)\n",
            "    ├── Map@0.50 = 0.8587\n",
            "    │   ├── Epoch N-1      = 0.8663 (\u001b[31m↘ -0.0076\u001b[0m)\n",
            "    │   └── Best until now = 0.8723 (\u001b[31m↘ -0.0136\u001b[0m)\n",
            "    └── F1@0.50 = 0.0469\n",
            "        ├── Epoch N-1      = 0.0479 (\u001b[31m↘ -0.001\u001b[0m)\n",
            "        └── Best until now = 0.0479 (\u001b[31m↘ -0.001\u001b[0m)\n",
            "\n",
            "===========================================================\n"
          ]
        },
        {
          "metadata": {
            "tags": null
          },
          "name": "stderr",
          "output_type": "stream",
          "text": [
            "Train epoch 13: 100%|██████████| 26/26 [00:16<00:00,  1.54it/s, PPYoloELoss/loss=2.02, PPYoloELoss/loss_cls=0.931, PPYoloELoss/loss_dfl=0.6, PPYoloELoss/loss_iou=0.489, gpu_mem=6.83]\n",
            "Validating epoch 13: 100%|██████████| 8/8 [00:02<00:00,  2.70it/s]\n"
          ]
        },
        {
          "metadata": {
            "tags": null
          },
          "name": "stdout",
          "output_type": "stream",
          "text": [
            "===========================================================\n",
            "SUMMARY OF EPOCH 13\n",
            "├── Train\n",
            "│   ├── Ppyoloeloss/loss_cls = 0.9312\n",
            "│   │   ├── Epoch N-1      = 0.951  (\u001b[32m↘ -0.0198\u001b[0m)\n",
            "│   │   └── Best until now = 0.951  (\u001b[32m↘ -0.0198\u001b[0m)\n",
            "│   ├── Ppyoloeloss/loss_iou = 0.4888\n",
            "│   │   ├── Epoch N-1      = 0.4892 (\u001b[32m↘ -0.0004\u001b[0m)\n",
            "│   │   └── Best until now = 0.4767 (\u001b[31m↗ 0.012\u001b[0m)\n",
            "│   ├── Ppyoloeloss/loss_dfl = 0.5996\n",
            "│   │   ├── Epoch N-1      = 0.6096 (\u001b[32m↘ -0.01\u001b[0m)\n",
            "│   │   └── Best until now = 0.6017 (\u001b[32m↘ -0.0021\u001b[0m)\n",
            "│   └── Ppyoloeloss/loss = 2.0195\n",
            "│       ├── Epoch N-1      = 2.0497 (\u001b[32m↘ -0.0302\u001b[0m)\n",
            "│       └── Best until now = 2.0497 (\u001b[32m↘ -0.0302\u001b[0m)\n",
            "└── Validation\n",
            "    ├── Ppyoloeloss/loss_cls = 0.8332\n",
            "    │   ├── Epoch N-1      = 0.8979 (\u001b[32m↘ -0.0647\u001b[0m)\n",
            "    │   └── Best until now = 0.8979 (\u001b[32m↘ -0.0647\u001b[0m)\n",
            "    ├── Ppyoloeloss/loss_iou = 0.3963\n",
            "    │   ├── Epoch N-1      = 0.3905 (\u001b[31m↗ 0.0057\u001b[0m)\n",
            "    │   └── Best until now = 0.3896 (\u001b[31m↗ 0.0067\u001b[0m)\n",
            "    ├── Ppyoloeloss/loss_dfl = 0.5635\n",
            "    │   ├── Epoch N-1      = 0.5413 (\u001b[31m↗ 0.0222\u001b[0m)\n",
            "    │   └── Best until now = 0.5413 (\u001b[31m↗ 0.0222\u001b[0m)\n",
            "    ├── Ppyoloeloss/loss = 1.7929\n",
            "    │   ├── Epoch N-1      = 1.8297 (\u001b[32m↘ -0.0368\u001b[0m)\n",
            "    │   └── Best until now = 1.8297 (\u001b[32m↘ -0.0368\u001b[0m)\n",
            "    ├── Precision@0.50 = 0.0403\n",
            "    │   ├── Epoch N-1      = 0.024  (\u001b[32m↗ 0.0163\u001b[0m)\n",
            "    │   └── Best until now = 0.0246 (\u001b[32m↗ 0.0158\u001b[0m)\n",
            "    ├── Recall@0.50 = 0.9677\n",
            "    │   ├── Epoch N-1      = 0.9677 (\u001b[37m= 0.0\u001b[0m)\n",
            "    │   └── Best until now = 0.9839 (\u001b[31m↘ -0.0161\u001b[0m)\n",
            "    ├── Map@0.50 = 0.8511\n",
            "    │   ├── Epoch N-1      = 0.8587 (\u001b[31m↘ -0.0077\u001b[0m)\n",
            "    │   └── Best until now = 0.8723 (\u001b[31m↘ -0.0213\u001b[0m)\n",
            "    └── F1@0.50 = 0.0775\n",
            "        ├── Epoch N-1      = 0.0469 (\u001b[32m↗ 0.0306\u001b[0m)\n",
            "        └── Best until now = 0.0479 (\u001b[32m↗ 0.0296\u001b[0m)\n",
            "\n",
            "===========================================================\n"
          ]
        },
        {
          "metadata": {
            "tags": null
          },
          "name": "stderr",
          "output_type": "stream",
          "text": [
            "Train epoch 14: 100%|██████████| 26/26 [00:17<00:00,  1.51it/s, PPYoloELoss/loss=2.06, PPYoloELoss/loss_cls=0.946, PPYoloELoss/loss_dfl=0.62, PPYoloELoss/loss_iou=0.494, gpu_mem=6.82]\n",
            "Validating epoch 14: 100%|██████████| 8/8 [00:02<00:00,  2.68it/s]\n"
          ]
        },
        {
          "metadata": {
            "tags": null
          },
          "name": "stdout",
          "output_type": "stream",
          "text": [
            "===========================================================\n",
            "SUMMARY OF EPOCH 14\n",
            "├── Train\n",
            "│   ├── Ppyoloeloss/loss_cls = 0.9457\n",
            "│   │   ├── Epoch N-1      = 0.9312 (\u001b[31m↗ 0.0146\u001b[0m)\n",
            "│   │   └── Best until now = 0.9312 (\u001b[31m↗ 0.0146\u001b[0m)\n",
            "│   ├── Ppyoloeloss/loss_iou = 0.494\n",
            "│   │   ├── Epoch N-1      = 0.4888 (\u001b[31m↗ 0.0053\u001b[0m)\n",
            "│   │   └── Best until now = 0.4767 (\u001b[31m↗ 0.0173\u001b[0m)\n",
            "│   ├── Ppyoloeloss/loss_dfl = 0.6196\n",
            "│   │   ├── Epoch N-1      = 0.5996 (\u001b[31m↗ 0.02\u001b[0m)\n",
            "│   │   └── Best until now = 0.5996 (\u001b[31m↗ 0.02\u001b[0m)\n",
            "│   └── Ppyoloeloss/loss = 2.0594\n",
            "│       ├── Epoch N-1      = 2.0195 (\u001b[31m↗ 0.0399\u001b[0m)\n",
            "│       └── Best until now = 2.0195 (\u001b[31m↗ 0.0399\u001b[0m)\n",
            "└── Validation\n",
            "    ├── Ppyoloeloss/loss_cls = 0.8379\n",
            "    │   ├── Epoch N-1      = 0.8332 (\u001b[31m↗ 0.0048\u001b[0m)\n",
            "    │   └── Best until now = 0.8332 (\u001b[31m↗ 0.0048\u001b[0m)\n",
            "    ├── Ppyoloeloss/loss_iou = 0.4086\n",
            "    │   ├── Epoch N-1      = 0.3963 (\u001b[31m↗ 0.0124\u001b[0m)\n",
            "    │   └── Best until now = 0.3896 (\u001b[31m↗ 0.019\u001b[0m)\n",
            "    ├── Ppyoloeloss/loss_dfl = 0.5676\n",
            "    │   ├── Epoch N-1      = 0.5635 (\u001b[31m↗ 0.0042\u001b[0m)\n",
            "    │   └── Best until now = 0.5413 (\u001b[31m↗ 0.0263\u001b[0m)\n",
            "    ├── Ppyoloeloss/loss = 1.8142\n",
            "    │   ├── Epoch N-1      = 1.7929 (\u001b[31m↗ 0.0213\u001b[0m)\n",
            "    │   └── Best until now = 1.7929 (\u001b[31m↗ 0.0213\u001b[0m)\n",
            "    ├── Precision@0.50 = 0.0408\n",
            "    │   ├── Epoch N-1      = 0.0403 (\u001b[32m↗ 0.0005\u001b[0m)\n",
            "    │   └── Best until now = 0.0403 (\u001b[32m↗ 0.0005\u001b[0m)\n",
            "    ├── Recall@0.50 = 0.9677\n",
            "    │   ├── Epoch N-1      = 0.9677 (\u001b[37m= 0.0\u001b[0m)\n",
            "    │   └── Best until now = 0.9839 (\u001b[31m↘ -0.0161\u001b[0m)\n",
            "    ├── Map@0.50 = 0.8638\n",
            "    │   ├── Epoch N-1      = 0.8511 (\u001b[32m↗ 0.0127\u001b[0m)\n",
            "    │   └── Best until now = 0.8723 (\u001b[31m↘ -0.0086\u001b[0m)\n",
            "    └── F1@0.50 = 0.0784\n",
            "        ├── Epoch N-1      = 0.0775 (\u001b[32m↗ 0.0009\u001b[0m)\n",
            "        └── Best until now = 0.0775 (\u001b[32m↗ 0.0009\u001b[0m)\n",
            "\n",
            "===========================================================\n"
          ]
        },
        {
          "metadata": {
            "tags": null
          },
          "name": "stderr",
          "output_type": "stream",
          "text": [
            "Train epoch 15: 100%|██████████| 26/26 [00:17<00:00,  1.51it/s, PPYoloELoss/loss=2.09, PPYoloELoss/loss_cls=0.952, PPYoloELoss/loss_dfl=0.63, PPYoloELoss/loss_iou=0.509, gpu_mem=6.84]\n",
            "Validating epoch 15: 100%|██████████| 8/8 [00:02<00:00,  2.71it/s]\n",
            "[2023-12-14 15:10:02] INFO - base_sg_logger.py - Checkpoint saved in ./checkpoints/csilab-braintumor-detection/RUN_20231214_144702_032990/ckpt_best.pth\n",
            "[2023-12-14 15:10:02] INFO - sg_trainer.py - Best checkpoint overriden: validation mAP@0.50: 0.8751446604728699\n"
          ]
        },
        {
          "metadata": {
            "tags": null
          },
          "name": "stdout",
          "output_type": "stream",
          "text": [
            "===========================================================\n",
            "SUMMARY OF EPOCH 15\n",
            "├── Train\n",
            "│   ├── Ppyoloeloss/loss_cls = 0.9522\n",
            "│   │   ├── Epoch N-1      = 0.9457 (\u001b[31m↗ 0.0065\u001b[0m)\n",
            "│   │   └── Best until now = 0.9312 (\u001b[31m↗ 0.0211\u001b[0m)\n",
            "│   ├── Ppyoloeloss/loss_iou = 0.5092\n",
            "│   │   ├── Epoch N-1      = 0.494  (\u001b[31m↗ 0.0152\u001b[0m)\n",
            "│   │   └── Best until now = 0.4767 (\u001b[31m↗ 0.0325\u001b[0m)\n",
            "│   ├── Ppyoloeloss/loss_dfl = 0.6303\n",
            "│   │   ├── Epoch N-1      = 0.6196 (\u001b[31m↗ 0.0107\u001b[0m)\n",
            "│   │   └── Best until now = 0.5996 (\u001b[31m↗ 0.0307\u001b[0m)\n",
            "│   └── Ppyoloeloss/loss = 2.0918\n",
            "│       ├── Epoch N-1      = 2.0594 (\u001b[31m↗ 0.0324\u001b[0m)\n",
            "│       └── Best until now = 2.0195 (\u001b[31m↗ 0.0723\u001b[0m)\n",
            "└── Validation\n",
            "    ├── Ppyoloeloss/loss_cls = 0.9193\n",
            "    │   ├── Epoch N-1      = 0.8379 (\u001b[31m↗ 0.0814\u001b[0m)\n",
            "    │   └── Best until now = 0.8332 (\u001b[31m↗ 0.0861\u001b[0m)\n",
            "    ├── Ppyoloeloss/loss_iou = 0.4097\n",
            "    │   ├── Epoch N-1      = 0.4086 (\u001b[31m↗ 0.001\u001b[0m)\n",
            "    │   └── Best until now = 0.3896 (\u001b[31m↗ 0.0201\u001b[0m)\n",
            "    ├── Ppyoloeloss/loss_dfl = 0.5613\n",
            "    │   ├── Epoch N-1      = 0.5676 (\u001b[32m↘ -0.0063\u001b[0m)\n",
            "    │   └── Best until now = 0.5413 (\u001b[31m↗ 0.02\u001b[0m)\n",
            "    ├── Ppyoloeloss/loss = 1.8903\n",
            "    │   ├── Epoch N-1      = 1.8142 (\u001b[31m↗ 0.0761\u001b[0m)\n",
            "    │   └── Best until now = 1.7929 (\u001b[31m↗ 0.0974\u001b[0m)\n",
            "    ├── Precision@0.50 = 0.0228\n",
            "    │   ├── Epoch N-1      = 0.0408 (\u001b[31m↘ -0.0181\u001b[0m)\n",
            "    │   └── Best until now = 0.0408 (\u001b[31m↘ -0.0181\u001b[0m)\n",
            "    ├── Recall@0.50 = 0.9677\n",
            "    │   ├── Epoch N-1      = 0.9677 (\u001b[37m= 0.0\u001b[0m)\n",
            "    │   └── Best until now = 0.9839 (\u001b[31m↘ -0.0161\u001b[0m)\n",
            "    ├── Map@0.50 = 0.8751\n",
            "    │   ├── Epoch N-1      = 0.8638 (\u001b[32m↗ 0.0114\u001b[0m)\n",
            "    │   └── Best until now = 0.8723 (\u001b[32m↗ 0.0028\u001b[0m)\n",
            "    └── F1@0.50 = 0.0445\n",
            "        ├── Epoch N-1      = 0.0784 (\u001b[31m↘ -0.0339\u001b[0m)\n",
            "        └── Best until now = 0.0784 (\u001b[31m↘ -0.0339\u001b[0m)\n",
            "\n",
            "===========================================================\n"
          ]
        },
        {
          "metadata": {
            "tags": null
          },
          "name": "stderr",
          "output_type": "stream",
          "text": [
            "Train epoch 16: 100%|██████████| 26/26 [00:17<00:00,  1.50it/s, PPYoloELoss/loss=2.05, PPYoloELoss/loss_cls=0.963, PPYoloELoss/loss_dfl=0.609, PPYoloELoss/loss_iou=0.479, gpu_mem=6.84]\n",
            "Validating epoch 16: 100%|██████████| 8/8 [00:02<00:00,  2.71it/s]\n",
            "[2023-12-14 15:12:19] INFO - base_sg_logger.py - Checkpoint saved in ./checkpoints/csilab-braintumor-detection/RUN_20231214_144702_032990/ckpt_best.pth\n",
            "[2023-12-14 15:12:19] INFO - sg_trainer.py - Best checkpoint overriden: validation mAP@0.50: 0.8787511587142944\n"
          ]
        },
        {
          "metadata": {
            "tags": null
          },
          "name": "stdout",
          "output_type": "stream",
          "text": [
            "===========================================================\n",
            "SUMMARY OF EPOCH 16\n",
            "├── Train\n",
            "│   ├── Ppyoloeloss/loss_cls = 0.9628\n",
            "│   │   ├── Epoch N-1      = 0.9522 (\u001b[31m↗ 0.0106\u001b[0m)\n",
            "│   │   └── Best until now = 0.9312 (\u001b[31m↗ 0.0316\u001b[0m)\n",
            "│   ├── Ppyoloeloss/loss_iou = 0.4787\n",
            "│   │   ├── Epoch N-1      = 0.5092 (\u001b[32m↘ -0.0305\u001b[0m)\n",
            "│   │   └── Best until now = 0.4767 (\u001b[31m↗ 0.002\u001b[0m)\n",
            "│   ├── Ppyoloeloss/loss_dfl = 0.6085\n",
            "│   │   ├── Epoch N-1      = 0.6303 (\u001b[32m↘ -0.0218\u001b[0m)\n",
            "│   │   └── Best until now = 0.5996 (\u001b[31m↗ 0.009\u001b[0m)\n",
            "│   └── Ppyoloeloss/loss = 2.0501\n",
            "│       ├── Epoch N-1      = 2.0918 (\u001b[32m↘ -0.0417\u001b[0m)\n",
            "│       └── Best until now = 2.0195 (\u001b[31m↗ 0.0306\u001b[0m)\n",
            "└── Validation\n",
            "    ├── Ppyoloeloss/loss_cls = 0.848\n",
            "    │   ├── Epoch N-1      = 0.9193 (\u001b[32m↘ -0.0713\u001b[0m)\n",
            "    │   └── Best until now = 0.8332 (\u001b[31m↗ 0.0148\u001b[0m)\n",
            "    ├── Ppyoloeloss/loss_iou = 0.3995\n",
            "    │   ├── Epoch N-1      = 0.4097 (\u001b[32m↘ -0.0102\u001b[0m)\n",
            "    │   └── Best until now = 0.3896 (\u001b[31m↗ 0.0099\u001b[0m)\n",
            "    ├── Ppyoloeloss/loss_dfl = 0.5659\n",
            "    │   ├── Epoch N-1      = 0.5613 (\u001b[31m↗ 0.0046\u001b[0m)\n",
            "    │   └── Best until now = 0.5413 (\u001b[31m↗ 0.0246\u001b[0m)\n",
            "    ├── Ppyoloeloss/loss = 1.8134\n",
            "    │   ├── Epoch N-1      = 1.8903 (\u001b[32m↘ -0.0769\u001b[0m)\n",
            "    │   └── Best until now = 1.7929 (\u001b[31m↗ 0.0205\u001b[0m)\n",
            "    ├── Precision@0.50 = 0.033\n",
            "    │   ├── Epoch N-1      = 0.0228 (\u001b[32m↗ 0.0102\u001b[0m)\n",
            "    │   └── Best until now = 0.0408 (\u001b[31m↘ -0.0078\u001b[0m)\n",
            "    ├── Recall@0.50 = 0.9677\n",
            "    │   ├── Epoch N-1      = 0.9677 (\u001b[37m= 0.0\u001b[0m)\n",
            "    │   └── Best until now = 0.9839 (\u001b[31m↘ -0.0161\u001b[0m)\n",
            "    ├── Map@0.50 = 0.8788\n",
            "    │   ├── Epoch N-1      = 0.8751 (\u001b[32m↗ 0.0036\u001b[0m)\n",
            "    │   └── Best until now = 0.8751 (\u001b[32m↗ 0.0036\u001b[0m)\n",
            "    └── F1@0.50 = 0.0638\n",
            "        ├── Epoch N-1      = 0.0445 (\u001b[32m↗ 0.0193\u001b[0m)\n",
            "        └── Best until now = 0.0784 (\u001b[31m↘ -0.0146\u001b[0m)\n",
            "\n",
            "===========================================================\n"
          ]
        },
        {
          "metadata": {
            "tags": null
          },
          "name": "stderr",
          "output_type": "stream",
          "text": [
            "Train epoch 17: 100%|██████████| 26/26 [00:17<00:00,  1.46it/s, PPYoloELoss/loss=2.02, PPYoloELoss/loss_cls=0.946, PPYoloELoss/loss_dfl=0.596, PPYoloELoss/loss_iou=0.475, gpu_mem=6.84]\n",
            "Validating epoch 17: 100%|██████████| 8/8 [00:02<00:00,  2.71it/s]\n"
          ]
        },
        {
          "metadata": {
            "tags": null
          },
          "name": "stdout",
          "output_type": "stream",
          "text": [
            "===========================================================\n",
            "SUMMARY OF EPOCH 17\n",
            "├── Train\n",
            "│   ├── Ppyoloeloss/loss_cls = 0.9458\n",
            "│   │   ├── Epoch N-1      = 0.9628 (\u001b[32m↘ -0.017\u001b[0m)\n",
            "│   │   └── Best until now = 0.9312 (\u001b[31m↗ 0.0146\u001b[0m)\n",
            "│   ├── Ppyoloeloss/loss_iou = 0.4749\n",
            "│   │   ├── Epoch N-1      = 0.4787 (\u001b[32m↘ -0.0038\u001b[0m)\n",
            "│   │   └── Best until now = 0.4767 (\u001b[32m↘ -0.0018\u001b[0m)\n",
            "│   ├── Ppyoloeloss/loss_dfl = 0.5959\n",
            "│   │   ├── Epoch N-1      = 0.6085 (\u001b[32m↘ -0.0126\u001b[0m)\n",
            "│   │   └── Best until now = 0.5996 (\u001b[32m↘ -0.0037\u001b[0m)\n",
            "│   └── Ppyoloeloss/loss = 2.0166\n",
            "│       ├── Epoch N-1      = 2.0501 (\u001b[32m↘ -0.0334\u001b[0m)\n",
            "│       └── Best until now = 2.0195 (\u001b[32m↘ -0.0029\u001b[0m)\n",
            "└── Validation\n",
            "    ├── Ppyoloeloss/loss_cls = 1.0762\n",
            "    │   ├── Epoch N-1      = 0.848  (\u001b[31m↗ 0.2283\u001b[0m)\n",
            "    │   └── Best until now = 0.8332 (\u001b[31m↗ 0.2431\u001b[0m)\n",
            "    ├── Ppyoloeloss/loss_iou = 0.4208\n",
            "    │   ├── Epoch N-1      = 0.3995 (\u001b[31m↗ 0.0213\u001b[0m)\n",
            "    │   └── Best until now = 0.3896 (\u001b[31m↗ 0.0312\u001b[0m)\n",
            "    ├── Ppyoloeloss/loss_dfl = 0.5926\n",
            "    │   ├── Epoch N-1      = 0.5659 (\u001b[31m↗ 0.0266\u001b[0m)\n",
            "    │   └── Best until now = 0.5413 (\u001b[31m↗ 0.0512\u001b[0m)\n",
            "    ├── Ppyoloeloss/loss = 2.0896\n",
            "    │   ├── Epoch N-1      = 1.8134 (\u001b[31m↗ 0.2762\u001b[0m)\n",
            "    │   └── Best until now = 1.7929 (\u001b[31m↗ 0.2967\u001b[0m)\n",
            "    ├── Precision@0.50 = 0.0124\n",
            "    │   ├── Epoch N-1      = 0.033  (\u001b[31m↘ -0.0206\u001b[0m)\n",
            "    │   └── Best until now = 0.0408 (\u001b[31m↘ -0.0285\u001b[0m)\n",
            "    ├── Recall@0.50 = 0.9677\n",
            "    │   ├── Epoch N-1      = 0.9677 (\u001b[37m= 0.0\u001b[0m)\n",
            "    │   └── Best until now = 0.9839 (\u001b[31m↘ -0.0161\u001b[0m)\n",
            "    ├── Map@0.50 = 0.7489\n",
            "    │   ├── Epoch N-1      = 0.8788 (\u001b[31m↘ -0.1298\u001b[0m)\n",
            "    │   └── Best until now = 0.8788 (\u001b[31m↘ -0.1298\u001b[0m)\n",
            "    └── F1@0.50 = 0.0244\n",
            "        ├── Epoch N-1      = 0.0638 (\u001b[31m↘ -0.0394\u001b[0m)\n",
            "        └── Best until now = 0.0784 (\u001b[31m↘ -0.054\u001b[0m)\n",
            "\n",
            "===========================================================\n"
          ]
        },
        {
          "metadata": {
            "tags": null
          },
          "name": "stderr",
          "output_type": "stream",
          "text": [
            "Train epoch 18: 100%|██████████| 26/26 [00:17<00:00,  1.46it/s, PPYoloELoss/loss=1.94, PPYoloELoss/loss_cls=0.905, PPYoloELoss/loss_dfl=0.571, PPYoloELoss/loss_iou=0.46, gpu_mem=6.84]\n",
            "Validating epoch 18: 100%|██████████| 8/8 [00:03<00:00,  2.48it/s]\n"
          ]
        },
        {
          "metadata": {
            "tags": null
          },
          "name": "stdout",
          "output_type": "stream",
          "text": [
            "===========================================================\n",
            "SUMMARY OF EPOCH 18\n",
            "├── Train\n",
            "│   ├── Ppyoloeloss/loss_cls = 0.9052\n",
            "│   │   ├── Epoch N-1      = 0.9458 (\u001b[32m↘ -0.0406\u001b[0m)\n",
            "│   │   └── Best until now = 0.9312 (\u001b[32m↘ -0.026\u001b[0m)\n",
            "│   ├── Ppyoloeloss/loss_iou = 0.46\n",
            "│   │   ├── Epoch N-1      = 0.4749 (\u001b[32m↘ -0.0149\u001b[0m)\n",
            "│   │   └── Best until now = 0.4749 (\u001b[32m↘ -0.0149\u001b[0m)\n",
            "│   ├── Ppyoloeloss/loss_dfl = 0.5714\n",
            "│   │   ├── Epoch N-1      = 0.5959 (\u001b[32m↘ -0.0245\u001b[0m)\n",
            "│   │   └── Best until now = 0.5959 (\u001b[32m↘ -0.0245\u001b[0m)\n",
            "│   └── Ppyoloeloss/loss = 1.9366\n",
            "│       ├── Epoch N-1      = 2.0166 (\u001b[32m↘ -0.0801\u001b[0m)\n",
            "│       └── Best until now = 2.0166 (\u001b[32m↘ -0.0801\u001b[0m)\n",
            "└── Validation\n",
            "    ├── Ppyoloeloss/loss_cls = 0.9833\n",
            "    │   ├── Epoch N-1      = 1.0762 (\u001b[32m↘ -0.0929\u001b[0m)\n",
            "    │   └── Best until now = 0.8332 (\u001b[31m↗ 0.1501\u001b[0m)\n",
            "    ├── Ppyoloeloss/loss_iou = 0.4129\n",
            "    │   ├── Epoch N-1      = 0.4208 (\u001b[32m↘ -0.0079\u001b[0m)\n",
            "    │   └── Best until now = 0.3896 (\u001b[31m↗ 0.0233\u001b[0m)\n",
            "    ├── Ppyoloeloss/loss_dfl = 0.5883\n",
            "    │   ├── Epoch N-1      = 0.5926 (\u001b[32m↘ -0.0043\u001b[0m)\n",
            "    │   └── Best until now = 0.5413 (\u001b[31m↗ 0.047\u001b[0m)\n",
            "    ├── Ppyoloeloss/loss = 1.9845\n",
            "    │   ├── Epoch N-1      = 2.0896 (\u001b[32m↘ -0.1051\u001b[0m)\n",
            "    │   └── Best until now = 1.7929 (\u001b[31m↗ 0.1916\u001b[0m)\n",
            "    ├── Precision@0.50 = 0.015\n",
            "    │   ├── Epoch N-1      = 0.0124 (\u001b[32m↗ 0.0027\u001b[0m)\n",
            "    │   └── Best until now = 0.0408 (\u001b[31m↘ -0.0258\u001b[0m)\n",
            "    ├── Recall@0.50 = 0.9677\n",
            "    │   ├── Epoch N-1      = 0.9677 (\u001b[37m= 0.0\u001b[0m)\n",
            "    │   └── Best until now = 0.9839 (\u001b[31m↘ -0.0161\u001b[0m)\n",
            "    ├── Map@0.50 = 0.8409\n",
            "    │   ├── Epoch N-1      = 0.7489 (\u001b[32m↗ 0.092\u001b[0m)\n",
            "    │   └── Best until now = 0.8788 (\u001b[31m↘ -0.0378\u001b[0m)\n",
            "    └── F1@0.50 = 0.0296\n",
            "        ├── Epoch N-1      = 0.0244 (\u001b[32m↗ 0.0052\u001b[0m)\n",
            "        └── Best until now = 0.0784 (\u001b[31m↘ -0.0488\u001b[0m)\n",
            "\n",
            "===========================================================\n"
          ]
        },
        {
          "metadata": {
            "tags": null
          },
          "name": "stderr",
          "output_type": "stream",
          "text": [
            "Train epoch 19: 100%|██████████| 26/26 [00:18<00:00,  1.44it/s, PPYoloELoss/loss=2.04, PPYoloELoss/loss_cls=0.952, PPYoloELoss/loss_dfl=0.608, PPYoloELoss/loss_iou=0.484, gpu_mem=6.82]\n",
            "Validating epoch 19: 100%|██████████| 8/8 [00:03<00:00,  2.59it/s]\n"
          ]
        },
        {
          "metadata": {
            "tags": null
          },
          "name": "stdout",
          "output_type": "stream",
          "text": [
            "===========================================================\n",
            "SUMMARY OF EPOCH 19\n",
            "├── Train\n",
            "│   ├── Ppyoloeloss/loss_cls = 0.952\n",
            "│   │   ├── Epoch N-1      = 0.9052 (\u001b[31m↗ 0.0469\u001b[0m)\n",
            "│   │   └── Best until now = 0.9052 (\u001b[31m↗ 0.0469\u001b[0m)\n",
            "│   ├── Ppyoloeloss/loss_iou = 0.4837\n",
            "│   │   ├── Epoch N-1      = 0.46   (\u001b[31m↗ 0.0236\u001b[0m)\n",
            "│   │   └── Best until now = 0.46   (\u001b[31m↗ 0.0236\u001b[0m)\n",
            "│   ├── Ppyoloeloss/loss_dfl = 0.608\n",
            "│   │   ├── Epoch N-1      = 0.5714 (\u001b[31m↗ 0.0366\u001b[0m)\n",
            "│   │   └── Best until now = 0.5714 (\u001b[31m↗ 0.0366\u001b[0m)\n",
            "│   └── Ppyoloeloss/loss = 2.0437\n",
            "│       ├── Epoch N-1      = 1.9366 (\u001b[31m↗ 0.1072\u001b[0m)\n",
            "│       └── Best until now = 1.9366 (\u001b[31m↗ 0.1072\u001b[0m)\n",
            "└── Validation\n",
            "    ├── Ppyoloeloss/loss_cls = 1.0552\n",
            "    │   ├── Epoch N-1      = 0.9833 (\u001b[31m↗ 0.0719\u001b[0m)\n",
            "    │   └── Best until now = 0.8332 (\u001b[31m↗ 0.222\u001b[0m)\n",
            "    ├── Ppyoloeloss/loss_iou = 0.4352\n",
            "    │   ├── Epoch N-1      = 0.4129 (\u001b[31m↗ 0.0223\u001b[0m)\n",
            "    │   └── Best until now = 0.3896 (\u001b[31m↗ 0.0456\u001b[0m)\n",
            "    ├── Ppyoloeloss/loss_dfl = 0.5977\n",
            "    │   ├── Epoch N-1      = 0.5883 (\u001b[31m↗ 0.0094\u001b[0m)\n",
            "    │   └── Best until now = 0.5413 (\u001b[31m↗ 0.0564\u001b[0m)\n",
            "    ├── Ppyoloeloss/loss = 2.0882\n",
            "    │   ├── Epoch N-1      = 1.9845 (\u001b[31m↗ 0.1037\u001b[0m)\n",
            "    │   └── Best until now = 1.7929 (\u001b[31m↗ 0.2953\u001b[0m)\n",
            "    ├── Precision@0.50 = 0.0164\n",
            "    │   ├── Epoch N-1      = 0.015  (\u001b[32m↗ 0.0013\u001b[0m)\n",
            "    │   └── Best until now = 0.0408 (\u001b[31m↘ -0.0245\u001b[0m)\n",
            "    ├── Recall@0.50 = 0.9516\n",
            "    │   ├── Epoch N-1      = 0.9677 (\u001b[31m↘ -0.0161\u001b[0m)\n",
            "    │   └── Best until now = 0.9839 (\u001b[31m↘ -0.0323\u001b[0m)\n",
            "    ├── Map@0.50 = 0.8219\n",
            "    │   ├── Epoch N-1      = 0.8409 (\u001b[31m↘ -0.019\u001b[0m)\n",
            "    │   └── Best until now = 0.8788 (\u001b[31m↘ -0.0568\u001b[0m)\n",
            "    └── F1@0.50 = 0.0322\n",
            "        ├── Epoch N-1      = 0.0296 (\u001b[32m↗ 0.0026\u001b[0m)\n",
            "        └── Best until now = 0.0784 (\u001b[31m↘ -0.0462\u001b[0m)\n",
            "\n",
            "===========================================================\n"
          ]
        },
        {
          "metadata": {
            "tags": null
          },
          "name": "stderr",
          "output_type": "stream",
          "text": [
            "Train epoch 20: 100%|██████████| 26/26 [00:17<00:00,  1.45it/s, PPYoloELoss/loss=1.98, PPYoloELoss/loss_cls=0.915, PPYoloELoss/loss_dfl=0.591, PPYoloELoss/loss_iou=0.473, gpu_mem=6.98]\n",
            "Validating epoch 20: 100%|██████████| 8/8 [00:03<00:00,  2.54it/s]\n",
            "[2023-12-14 15:20:24] INFO - base_sg_logger.py - Checkpoint saved in ./checkpoints/csilab-braintumor-detection/RUN_20231214_144702_032990/ckpt_best.pth\n",
            "[2023-12-14 15:20:24] INFO - sg_trainer.py - Best checkpoint overriden: validation mAP@0.50: 0.8886523246765137\n"
          ]
        },
        {
          "metadata": {
            "tags": null
          },
          "name": "stdout",
          "output_type": "stream",
          "text": [
            "===========================================================\n",
            "SUMMARY OF EPOCH 20\n",
            "├── Train\n",
            "│   ├── Ppyoloeloss/loss_cls = 0.9148\n",
            "│   │   ├── Epoch N-1      = 0.952  (\u001b[32m↘ -0.0372\u001b[0m)\n",
            "│   │   └── Best until now = 0.9052 (\u001b[31m↗ 0.0097\u001b[0m)\n",
            "│   ├── Ppyoloeloss/loss_iou = 0.4734\n",
            "│   │   ├── Epoch N-1      = 0.4837 (\u001b[32m↘ -0.0102\u001b[0m)\n",
            "│   │   └── Best until now = 0.46   (\u001b[31m↗ 0.0134\u001b[0m)\n",
            "│   ├── Ppyoloeloss/loss_dfl = 0.5914\n",
            "│   │   ├── Epoch N-1      = 0.608  (\u001b[32m↘ -0.0166\u001b[0m)\n",
            "│   │   └── Best until now = 0.5714 (\u001b[31m↗ 0.02\u001b[0m)\n",
            "│   └── Ppyoloeloss/loss = 1.9797\n",
            "│       ├── Epoch N-1      = 2.0437 (\u001b[32m↘ -0.064\u001b[0m)\n",
            "│       └── Best until now = 1.9366 (\u001b[31m↗ 0.0431\u001b[0m)\n",
            "└── Validation\n",
            "    ├── Ppyoloeloss/loss_cls = 0.8792\n",
            "    │   ├── Epoch N-1      = 1.0552 (\u001b[32m↘ -0.176\u001b[0m)\n",
            "    │   └── Best until now = 0.8332 (\u001b[31m↗ 0.046\u001b[0m)\n",
            "    ├── Ppyoloeloss/loss_iou = 0.4211\n",
            "    │   ├── Epoch N-1      = 0.4352 (\u001b[32m↘ -0.0141\u001b[0m)\n",
            "    │   └── Best until now = 0.3896 (\u001b[31m↗ 0.0315\u001b[0m)\n",
            "    ├── Ppyoloeloss/loss_dfl = 0.5706\n",
            "    │   ├── Epoch N-1      = 0.5977 (\u001b[32m↘ -0.0271\u001b[0m)\n",
            "    │   └── Best until now = 0.5413 (\u001b[31m↗ 0.0293\u001b[0m)\n",
            "    ├── Ppyoloeloss/loss = 1.8709\n",
            "    │   ├── Epoch N-1      = 2.0882 (\u001b[32m↘ -0.2173\u001b[0m)\n",
            "    │   └── Best until now = 1.7929 (\u001b[31m↗ 0.078\u001b[0m)\n",
            "    ├── Precision@0.50 = 0.0381\n",
            "    │   ├── Epoch N-1      = 0.0164 (\u001b[32m↗ 0.0217\u001b[0m)\n",
            "    │   └── Best until now = 0.0408 (\u001b[31m↘ -0.0028\u001b[0m)\n",
            "    ├── Recall@0.50 = 0.9677\n",
            "    │   ├── Epoch N-1      = 0.9516 (\u001b[32m↗ 0.0161\u001b[0m)\n",
            "    │   └── Best until now = 0.9839 (\u001b[31m↘ -0.0161\u001b[0m)\n",
            "    ├── Map@0.50 = 0.8887\n",
            "    │   ├── Epoch N-1      = 0.8219 (\u001b[32m↗ 0.0667\u001b[0m)\n",
            "    │   └── Best until now = 0.8788 (\u001b[32m↗ 0.0099\u001b[0m)\n",
            "    └── F1@0.50 = 0.0733\n",
            "        ├── Epoch N-1      = 0.0322 (\u001b[32m↗ 0.0411\u001b[0m)\n",
            "        └── Best until now = 0.0784 (\u001b[31m↘ -0.0051\u001b[0m)\n",
            "\n",
            "===========================================================\n"
          ]
        },
        {
          "metadata": {
            "tags": null
          },
          "name": "stderr",
          "output_type": "stream",
          "text": [
            "Train epoch 21: 100%|██████████| 26/26 [00:17<00:00,  1.51it/s, PPYoloELoss/loss=2.03, PPYoloELoss/loss_cls=0.959, PPYoloELoss/loss_dfl=0.59, PPYoloELoss/loss_iou=0.483, gpu_mem=6.82]\n",
            "Validating epoch 21: 100%|██████████| 8/8 [00:03<00:00,  2.63it/s]\n",
            "[2023-12-14 15:22:21] INFO - base_sg_logger.py - Checkpoint saved in ./checkpoints/csilab-braintumor-detection/RUN_20231214_144702_032990/ckpt_best.pth\n",
            "[2023-12-14 15:22:21] INFO - sg_trainer.py - Best checkpoint overriden: validation mAP@0.50: 0.9094973802566528\n"
          ]
        },
        {
          "metadata": {
            "tags": null
          },
          "name": "stdout",
          "output_type": "stream",
          "text": [
            "===========================================================\n",
            "SUMMARY OF EPOCH 21\n",
            "├── Train\n",
            "│   ├── Ppyoloeloss/loss_cls = 0.9586\n",
            "│   │   ├── Epoch N-1      = 0.9148 (\u001b[31m↗ 0.0438\u001b[0m)\n",
            "│   │   └── Best until now = 0.9052 (\u001b[31m↗ 0.0535\u001b[0m)\n",
            "│   ├── Ppyoloeloss/loss_iou = 0.483\n",
            "│   │   ├── Epoch N-1      = 0.4734 (\u001b[31m↗ 0.0095\u001b[0m)\n",
            "│   │   └── Best until now = 0.46   (\u001b[31m↗ 0.0229\u001b[0m)\n",
            "│   ├── Ppyoloeloss/loss_dfl = 0.5898\n",
            "│   │   ├── Epoch N-1      = 0.5914 (\u001b[32m↘ -0.0017\u001b[0m)\n",
            "│   │   └── Best until now = 0.5714 (\u001b[31m↗ 0.0184\u001b[0m)\n",
            "│   └── Ppyoloeloss/loss = 2.0313\n",
            "│       ├── Epoch N-1      = 1.9797 (\u001b[31m↗ 0.0516\u001b[0m)\n",
            "│       └── Best until now = 1.9366 (\u001b[31m↗ 0.0948\u001b[0m)\n",
            "└── Validation\n",
            "    ├── Ppyoloeloss/loss_cls = 0.8448\n",
            "    │   ├── Epoch N-1      = 0.8792 (\u001b[32m↘ -0.0343\u001b[0m)\n",
            "    │   └── Best until now = 0.8332 (\u001b[31m↗ 0.0117\u001b[0m)\n",
            "    ├── Ppyoloeloss/loss_iou = 0.4023\n",
            "    │   ├── Epoch N-1      = 0.4211 (\u001b[32m↘ -0.0188\u001b[0m)\n",
            "    │   └── Best until now = 0.3896 (\u001b[31m↗ 0.0127\u001b[0m)\n",
            "    ├── Ppyoloeloss/loss_dfl = 0.5607\n",
            "    │   ├── Epoch N-1      = 0.5706 (\u001b[32m↘ -0.0099\u001b[0m)\n",
            "    │   └── Best until now = 0.5413 (\u001b[31m↗ 0.0194\u001b[0m)\n",
            "    ├── Ppyoloeloss/loss = 1.8078\n",
            "    │   ├── Epoch N-1      = 1.8709 (\u001b[32m↘ -0.0631\u001b[0m)\n",
            "    │   └── Best until now = 1.7929 (\u001b[31m↗ 0.0149\u001b[0m)\n",
            "    ├── Precision@0.50 = 0.0348\n",
            "    │   ├── Epoch N-1      = 0.0381 (\u001b[31m↘ -0.0032\u001b[0m)\n",
            "    │   └── Best until now = 0.0408 (\u001b[31m↘ -0.006\u001b[0m)\n",
            "    ├── Recall@0.50 = 0.9677\n",
            "    │   ├── Epoch N-1      = 0.9677 (\u001b[37m= 0.0\u001b[0m)\n",
            "    │   └── Best until now = 0.9839 (\u001b[31m↘ -0.0161\u001b[0m)\n",
            "    ├── Map@0.50 = 0.9095\n",
            "    │   ├── Epoch N-1      = 0.8887 (\u001b[32m↗ 0.0208\u001b[0m)\n",
            "    │   └── Best until now = 0.8887 (\u001b[32m↗ 0.0208\u001b[0m)\n",
            "    └── F1@0.50 = 0.0673\n",
            "        ├── Epoch N-1      = 0.0733 (\u001b[31m↘ -0.006\u001b[0m)\n",
            "        └── Best until now = 0.0784 (\u001b[31m↘ -0.0111\u001b[0m)\n",
            "\n",
            "===========================================================\n"
          ]
        },
        {
          "metadata": {
            "tags": null
          },
          "name": "stderr",
          "output_type": "stream",
          "text": [
            "Train epoch 22: 100%|██████████| 26/26 [00:17<00:00,  1.49it/s, PPYoloELoss/loss=1.99, PPYoloELoss/loss_cls=0.935, PPYoloELoss/loss_dfl=0.586, PPYoloELoss/loss_iou=0.469, gpu_mem=6.97]\n",
            "Validating epoch 22: 100%|██████████| 8/8 [00:03<00:00,  2.59it/s]\n"
          ]
        },
        {
          "metadata": {
            "tags": null
          },
          "name": "stdout",
          "output_type": "stream",
          "text": [
            "===========================================================\n",
            "SUMMARY OF EPOCH 22\n",
            "├── Train\n",
            "│   ├── Ppyoloeloss/loss_cls = 0.9348\n",
            "│   │   ├── Epoch N-1      = 0.9586 (\u001b[32m↘ -0.0238\u001b[0m)\n",
            "│   │   └── Best until now = 0.9052 (\u001b[31m↗ 0.0297\u001b[0m)\n",
            "│   ├── Ppyoloeloss/loss_iou = 0.469\n",
            "│   │   ├── Epoch N-1      = 0.483  (\u001b[32m↘ -0.014\u001b[0m)\n",
            "│   │   └── Best until now = 0.46   (\u001b[31m↗ 0.0089\u001b[0m)\n",
            "│   ├── Ppyoloeloss/loss_dfl = 0.5855\n",
            "│   │   ├── Epoch N-1      = 0.5898 (\u001b[32m↘ -0.0042\u001b[0m)\n",
            "│   │   └── Best until now = 0.5714 (\u001b[31m↗ 0.0141\u001b[0m)\n",
            "│   └── Ppyoloeloss/loss = 1.9893\n",
            "│       ├── Epoch N-1      = 2.0313 (\u001b[32m↘ -0.042\u001b[0m)\n",
            "│       └── Best until now = 1.9366 (\u001b[31m↗ 0.0527\u001b[0m)\n",
            "└── Validation\n",
            "    ├── Ppyoloeloss/loss_cls = 0.8591\n",
            "    │   ├── Epoch N-1      = 0.8448 (\u001b[31m↗ 0.0143\u001b[0m)\n",
            "    │   └── Best until now = 0.8332 (\u001b[31m↗ 0.026\u001b[0m)\n",
            "    ├── Ppyoloeloss/loss_iou = 0.4235\n",
            "    │   ├── Epoch N-1      = 0.4023 (\u001b[31m↗ 0.0212\u001b[0m)\n",
            "    │   └── Best until now = 0.3896 (\u001b[31m↗ 0.0339\u001b[0m)\n",
            "    ├── Ppyoloeloss/loss_dfl = 0.5964\n",
            "    │   ├── Epoch N-1      = 0.5607 (\u001b[31m↗ 0.0356\u001b[0m)\n",
            "    │   └── Best until now = 0.5413 (\u001b[31m↗ 0.055\u001b[0m)\n",
            "    ├── Ppyoloeloss/loss = 1.879\n",
            "    │   ├── Epoch N-1      = 1.8078 (\u001b[31m↗ 0.0712\u001b[0m)\n",
            "    │   └── Best until now = 1.7929 (\u001b[31m↗ 0.0861\u001b[0m)\n",
            "    ├── Precision@0.50 = 0.0314\n",
            "    │   ├── Epoch N-1      = 0.0348 (\u001b[31m↘ -0.0034\u001b[0m)\n",
            "    │   └── Best until now = 0.0408 (\u001b[31m↘ -0.0094\u001b[0m)\n",
            "    ├── Recall@0.50 = 0.9677\n",
            "    │   ├── Epoch N-1      = 0.9677 (\u001b[37m= 0.0\u001b[0m)\n",
            "    │   └── Best until now = 0.9839 (\u001b[31m↘ -0.0161\u001b[0m)\n",
            "    ├── Map@0.50 = 0.8837\n",
            "    │   ├── Epoch N-1      = 0.9095 (\u001b[31m↘ -0.0258\u001b[0m)\n",
            "    │   └── Best until now = 0.9095 (\u001b[31m↘ -0.0258\u001b[0m)\n",
            "    └── F1@0.50 = 0.0609\n",
            "        ├── Epoch N-1      = 0.0673 (\u001b[31m↘ -0.0064\u001b[0m)\n",
            "        └── Best until now = 0.0784 (\u001b[31m↘ -0.0175\u001b[0m)\n",
            "\n",
            "===========================================================\n"
          ]
        },
        {
          "metadata": {
            "tags": null
          },
          "name": "stderr",
          "output_type": "stream",
          "text": [
            "Train epoch 23: 100%|██████████| 26/26 [00:17<00:00,  1.46it/s, PPYoloELoss/loss=2.04, PPYoloELoss/loss_cls=0.923, PPYoloELoss/loss_dfl=0.615, PPYoloELoss/loss_iou=0.502, gpu_mem=6.97]\n",
            "Validating epoch 23: 100%|██████████| 8/8 [00:03<00:00,  2.50it/s]\n"
          ]
        },
        {
          "metadata": {
            "tags": null
          },
          "name": "stdout",
          "output_type": "stream",
          "text": [
            "===========================================================\n",
            "SUMMARY OF EPOCH 23\n",
            "├── Train\n",
            "│   ├── Ppyoloeloss/loss_cls = 0.923\n",
            "│   │   ├── Epoch N-1      = 0.9348 (\u001b[32m↘ -0.0118\u001b[0m)\n",
            "│   │   └── Best until now = 0.9052 (\u001b[31m↗ 0.0179\u001b[0m)\n",
            "│   ├── Ppyoloeloss/loss_iou = 0.5017\n",
            "│   │   ├── Epoch N-1      = 0.469  (\u001b[31m↗ 0.0327\u001b[0m)\n",
            "│   │   └── Best until now = 0.46   (\u001b[31m↗ 0.0417\u001b[0m)\n",
            "│   ├── Ppyoloeloss/loss_dfl = 0.6148\n",
            "│   │   ├── Epoch N-1      = 0.5855 (\u001b[31m↗ 0.0293\u001b[0m)\n",
            "│   │   └── Best until now = 0.5714 (\u001b[31m↗ 0.0434\u001b[0m)\n",
            "│   └── Ppyoloeloss/loss = 2.0395\n",
            "│       ├── Epoch N-1      = 1.9893 (\u001b[31m↗ 0.0502\u001b[0m)\n",
            "│       └── Best until now = 1.9366 (\u001b[31m↗ 0.1029\u001b[0m)\n",
            "└── Validation\n",
            "    ├── Ppyoloeloss/loss_cls = 0.8841\n",
            "    │   ├── Epoch N-1      = 0.8591 (\u001b[31m↗ 0.025\u001b[0m)\n",
            "    │   └── Best until now = 0.8332 (\u001b[31m↗ 0.051\u001b[0m)\n",
            "    ├── Ppyoloeloss/loss_iou = 0.413\n",
            "    │   ├── Epoch N-1      = 0.4235 (\u001b[32m↘ -0.0106\u001b[0m)\n",
            "    │   └── Best until now = 0.3896 (\u001b[31m↗ 0.0234\u001b[0m)\n",
            "    ├── Ppyoloeloss/loss_dfl = 0.5693\n",
            "    │   ├── Epoch N-1      = 0.5964 (\u001b[32m↘ -0.0271\u001b[0m)\n",
            "    │   └── Best until now = 0.5413 (\u001b[31m↗ 0.028\u001b[0m)\n",
            "    ├── Ppyoloeloss/loss = 1.8664\n",
            "    │   ├── Epoch N-1      = 1.879  (\u001b[32m↘ -0.0126\u001b[0m)\n",
            "    │   └── Best until now = 1.7929 (\u001b[31m↗ 0.0735\u001b[0m)\n",
            "    ├── Precision@0.50 = 0.0202\n",
            "    │   ├── Epoch N-1      = 0.0314 (\u001b[31m↘ -0.0112\u001b[0m)\n",
            "    │   └── Best until now = 0.0408 (\u001b[31m↘ -0.0206\u001b[0m)\n",
            "    ├── Recall@0.50 = 0.9677\n",
            "    │   ├── Epoch N-1      = 0.9677 (\u001b[37m= 0.0\u001b[0m)\n",
            "    │   └── Best until now = 0.9839 (\u001b[31m↘ -0.0161\u001b[0m)\n",
            "    ├── Map@0.50 = 0.8933\n",
            "    │   ├── Epoch N-1      = 0.8837 (\u001b[32m↗ 0.0096\u001b[0m)\n",
            "    │   └── Best until now = 0.9095 (\u001b[31m↘ -0.0162\u001b[0m)\n",
            "    └── F1@0.50 = 0.0396\n",
            "        ├── Epoch N-1      = 0.0609 (\u001b[31m↘ -0.0213\u001b[0m)\n",
            "        └── Best until now = 0.0784 (\u001b[31m↘ -0.0388\u001b[0m)\n",
            "\n",
            "===========================================================\n"
          ]
        },
        {
          "metadata": {
            "tags": null
          },
          "name": "stderr",
          "output_type": "stream",
          "text": [
            "Train epoch 24: 100%|██████████| 26/26 [00:17<00:00,  1.49it/s, PPYoloELoss/loss=2.09, PPYoloELoss/loss_cls=0.983, PPYoloELoss/loss_dfl=0.61, PPYoloELoss/loss_iou=0.501, gpu_mem=6.97]\n",
            "Validating epoch 24: 100%|██████████| 8/8 [00:02<00:00,  2.70it/s]\n"
          ]
        },
        {
          "metadata": {
            "tags": null
          },
          "name": "stdout",
          "output_type": "stream",
          "text": [
            "===========================================================\n",
            "SUMMARY OF EPOCH 24\n",
            "├── Train\n",
            "│   ├── Ppyoloeloss/loss_cls = 0.9827\n",
            "│   │   ├── Epoch N-1      = 0.923  (\u001b[31m↗ 0.0596\u001b[0m)\n",
            "│   │   └── Best until now = 0.9052 (\u001b[31m↗ 0.0775\u001b[0m)\n",
            "│   ├── Ppyoloeloss/loss_iou = 0.5006\n",
            "│   │   ├── Epoch N-1      = 0.5017 (\u001b[32m↘ -0.0011\u001b[0m)\n",
            "│   │   └── Best until now = 0.46   (\u001b[31m↗ 0.0405\u001b[0m)\n",
            "│   ├── Ppyoloeloss/loss_dfl = 0.6101\n",
            "│   │   ├── Epoch N-1      = 0.6148 (\u001b[32m↘ -0.0047\u001b[0m)\n",
            "│   │   └── Best until now = 0.5714 (\u001b[31m↗ 0.0387\u001b[0m)\n",
            "│   └── Ppyoloeloss/loss = 2.0934\n",
            "│       ├── Epoch N-1      = 2.0395 (\u001b[31m↗ 0.0538\u001b[0m)\n",
            "│       └── Best until now = 1.9366 (\u001b[31m↗ 0.1568\u001b[0m)\n",
            "└── Validation\n",
            "    ├── Ppyoloeloss/loss_cls = 0.8643\n",
            "    │   ├── Epoch N-1      = 0.8841 (\u001b[32m↘ -0.0198\u001b[0m)\n",
            "    │   └── Best until now = 0.8332 (\u001b[31m↗ 0.0311\u001b[0m)\n",
            "    ├── Ppyoloeloss/loss_iou = 0.4331\n",
            "    │   ├── Epoch N-1      = 0.413  (\u001b[31m↗ 0.0202\u001b[0m)\n",
            "    │   └── Best until now = 0.3896 (\u001b[31m↗ 0.0435\u001b[0m)\n",
            "    ├── Ppyoloeloss/loss_dfl = 0.5858\n",
            "    │   ├── Epoch N-1      = 0.5693 (\u001b[31m↗ 0.0165\u001b[0m)\n",
            "    │   └── Best until now = 0.5413 (\u001b[31m↗ 0.0445\u001b[0m)\n",
            "    ├── Ppyoloeloss/loss = 1.8832\n",
            "    │   ├── Epoch N-1      = 1.8664 (\u001b[31m↗ 0.0169\u001b[0m)\n",
            "    │   └── Best until now = 1.7929 (\u001b[31m↗ 0.0903\u001b[0m)\n",
            "    ├── Precision@0.50 = 0.0525\n",
            "    │   ├── Epoch N-1      = 0.0202 (\u001b[32m↗ 0.0323\u001b[0m)\n",
            "    │   └── Best until now = 0.0408 (\u001b[32m↗ 0.0116\u001b[0m)\n",
            "    ├── Recall@0.50 = 0.9677\n",
            "    │   ├── Epoch N-1      = 0.9677 (\u001b[37m= 0.0\u001b[0m)\n",
            "    │   └── Best until now = 0.9839 (\u001b[31m↘ -0.0161\u001b[0m)\n",
            "    ├── Map@0.50 = 0.8151\n",
            "    │   ├── Epoch N-1      = 0.8933 (\u001b[31m↘ -0.0782\u001b[0m)\n",
            "    │   └── Best until now = 0.9095 (\u001b[31m↘ -0.0944\u001b[0m)\n",
            "    └── F1@0.50 = 0.0996\n",
            "        ├── Epoch N-1      = 0.0396 (\u001b[32m↗ 0.06\u001b[0m)\n",
            "        └── Best until now = 0.0784 (\u001b[32m↗ 0.0212\u001b[0m)\n",
            "\n",
            "===========================================================\n"
          ]
        },
        {
          "metadata": {
            "tags": null
          },
          "name": "stderr",
          "output_type": "stream",
          "text": [
            "Train epoch 25: 100%|██████████| 26/26 [00:19<00:00,  1.37it/s, PPYoloELoss/loss=2.03, PPYoloELoss/loss_cls=0.939, PPYoloELoss/loss_dfl=0.609, PPYoloELoss/loss_iou=0.484, gpu_mem=6.97]\n",
            "Validating epoch 25: 100%|██████████| 8/8 [00:02<00:00,  2.68it/s]\n"
          ]
        },
        {
          "metadata": {
            "tags": null
          },
          "name": "stdout",
          "output_type": "stream",
          "text": [
            "===========================================================\n",
            "SUMMARY OF EPOCH 25\n",
            "├── Train\n",
            "│   ├── Ppyoloeloss/loss_cls = 0.9393\n",
            "│   │   ├── Epoch N-1      = 0.9827 (\u001b[32m↘ -0.0433\u001b[0m)\n",
            "│   │   └── Best until now = 0.9052 (\u001b[31m↗ 0.0342\u001b[0m)\n",
            "│   ├── Ppyoloeloss/loss_iou = 0.4842\n",
            "│   │   ├── Epoch N-1      = 0.5006 (\u001b[32m↘ -0.0164\u001b[0m)\n",
            "│   │   └── Best until now = 0.46   (\u001b[31m↗ 0.0241\u001b[0m)\n",
            "│   ├── Ppyoloeloss/loss_dfl = 0.6093\n",
            "│   │   ├── Epoch N-1      = 0.6101 (\u001b[32m↘ -0.0008\u001b[0m)\n",
            "│   │   └── Best until now = 0.5714 (\u001b[31m↗ 0.0379\u001b[0m)\n",
            "│   └── Ppyoloeloss/loss = 2.0328\n",
            "│       ├── Epoch N-1      = 2.0934 (\u001b[32m↘ -0.0606\u001b[0m)\n",
            "│       └── Best until now = 1.9366 (\u001b[31m↗ 0.0962\u001b[0m)\n",
            "└── Validation\n",
            "    ├── Ppyoloeloss/loss_cls = 0.8121\n",
            "    │   ├── Epoch N-1      = 0.8643 (\u001b[32m↘ -0.0522\u001b[0m)\n",
            "    │   └── Best until now = 0.8332 (\u001b[32m↘ -0.021\u001b[0m)\n",
            "    ├── Ppyoloeloss/loss_iou = 0.4348\n",
            "    │   ├── Epoch N-1      = 0.4331 (\u001b[31m↗ 0.0017\u001b[0m)\n",
            "    │   └── Best until now = 0.3896 (\u001b[31m↗ 0.0452\u001b[0m)\n",
            "    ├── Ppyoloeloss/loss_dfl = 0.598\n",
            "    │   ├── Epoch N-1      = 0.5858 (\u001b[31m↗ 0.0122\u001b[0m)\n",
            "    │   └── Best until now = 0.5413 (\u001b[31m↗ 0.0567\u001b[0m)\n",
            "    ├── Ppyoloeloss/loss = 1.8449\n",
            "    │   ├── Epoch N-1      = 1.8832 (\u001b[32m↘ -0.0383\u001b[0m)\n",
            "    │   └── Best until now = 1.7929 (\u001b[31m↗ 0.052\u001b[0m)\n",
            "    ├── Precision@0.50 = 0.0531\n",
            "    │   ├── Epoch N-1      = 0.0525 (\u001b[32m↗ 0.0007\u001b[0m)\n",
            "    │   └── Best until now = 0.0525 (\u001b[32m↗ 0.0007\u001b[0m)\n",
            "    ├── Recall@0.50 = 0.9677\n",
            "    │   ├── Epoch N-1      = 0.9677 (\u001b[37m= 0.0\u001b[0m)\n",
            "    │   └── Best until now = 0.9839 (\u001b[31m↘ -0.0161\u001b[0m)\n",
            "    ├── Map@0.50 = 0.8962\n",
            "    │   ├── Epoch N-1      = 0.8151 (\u001b[32m↗ 0.0812\u001b[0m)\n",
            "    │   └── Best until now = 0.9095 (\u001b[31m↘ -0.0133\u001b[0m)\n",
            "    └── F1@0.50 = 0.1008\n",
            "        ├── Epoch N-1      = 0.0996 (\u001b[32m↗ 0.0012\u001b[0m)\n",
            "        └── Best until now = 0.0996 (\u001b[32m↗ 0.0012\u001b[0m)\n",
            "\n",
            "===========================================================\n"
          ]
        },
        {
          "metadata": {
            "tags": null
          },
          "name": "stderr",
          "output_type": "stream",
          "text": [
            "Train epoch 26: 100%|██████████| 26/26 [00:18<00:00,  1.42it/s, PPYoloELoss/loss=1.97, PPYoloELoss/loss_cls=0.914, PPYoloELoss/loss_dfl=0.585, PPYoloELoss/loss_iou=0.471, gpu_mem=6.98]\n",
            "Validating epoch 26: 100%|██████████| 8/8 [00:02<00:00,  2.67it/s]\n"
          ]
        },
        {
          "metadata": {
            "tags": null
          },
          "name": "stdout",
          "output_type": "stream",
          "text": [
            "===========================================================\n",
            "SUMMARY OF EPOCH 26\n",
            "├── Train\n",
            "│   ├── Ppyoloeloss/loss_cls = 0.914\n",
            "│   │   ├── Epoch N-1      = 0.9393 (\u001b[32m↘ -0.0253\u001b[0m)\n",
            "│   │   └── Best until now = 0.9052 (\u001b[31m↗ 0.0088\u001b[0m)\n",
            "│   ├── Ppyoloeloss/loss_iou = 0.4715\n",
            "│   │   ├── Epoch N-1      = 0.4842 (\u001b[32m↘ -0.0127\u001b[0m)\n",
            "│   │   └── Best until now = 0.46   (\u001b[31m↗ 0.0115\u001b[0m)\n",
            "│   ├── Ppyoloeloss/loss_dfl = 0.5846\n",
            "│   │   ├── Epoch N-1      = 0.6093 (\u001b[32m↘ -0.0247\u001b[0m)\n",
            "│   │   └── Best until now = 0.5714 (\u001b[31m↗ 0.0132\u001b[0m)\n",
            "│   └── Ppyoloeloss/loss = 1.9701\n",
            "│       ├── Epoch N-1      = 2.0328 (\u001b[32m↘ -0.0627\u001b[0m)\n",
            "│       └── Best until now = 1.9366 (\u001b[31m↗ 0.0335\u001b[0m)\n",
            "└── Validation\n",
            "    ├── Ppyoloeloss/loss_cls = 0.84\n",
            "    │   ├── Epoch N-1      = 0.8121 (\u001b[31m↗ 0.0278\u001b[0m)\n",
            "    │   └── Best until now = 0.8121 (\u001b[31m↗ 0.0278\u001b[0m)\n",
            "    ├── Ppyoloeloss/loss_iou = 0.4152\n",
            "    │   ├── Epoch N-1      = 0.4348 (\u001b[32m↘ -0.0197\u001b[0m)\n",
            "    │   └── Best until now = 0.3896 (\u001b[31m↗ 0.0256\u001b[0m)\n",
            "    ├── Ppyoloeloss/loss_dfl = 0.5805\n",
            "    │   ├── Epoch N-1      = 0.598  (\u001b[32m↘ -0.0174\u001b[0m)\n",
            "    │   └── Best until now = 0.5413 (\u001b[31m↗ 0.0392\u001b[0m)\n",
            "    ├── Ppyoloeloss/loss = 1.8357\n",
            "    │   ├── Epoch N-1      = 1.8449 (\u001b[32m↘ -0.0093\u001b[0m)\n",
            "    │   └── Best until now = 1.7929 (\u001b[31m↗ 0.0428\u001b[0m)\n",
            "    ├── Precision@0.50 = 0.0265\n",
            "    │   ├── Epoch N-1      = 0.0531 (\u001b[31m↘ -0.0267\u001b[0m)\n",
            "    │   └── Best until now = 0.0531 (\u001b[31m↘ -0.0267\u001b[0m)\n",
            "    ├── Recall@0.50 = 0.9677\n",
            "    │   ├── Epoch N-1      = 0.9677 (\u001b[37m= 0.0\u001b[0m)\n",
            "    │   └── Best until now = 0.9839 (\u001b[31m↘ -0.0161\u001b[0m)\n",
            "    ├── Map@0.50 = 0.8821\n",
            "    │   ├── Epoch N-1      = 0.8962 (\u001b[31m↘ -0.0141\u001b[0m)\n",
            "    │   └── Best until now = 0.9095 (\u001b[31m↘ -0.0274\u001b[0m)\n",
            "    └── F1@0.50 = 0.0515\n",
            "        ├── Epoch N-1      = 0.1008 (\u001b[31m↘ -0.0492\u001b[0m)\n",
            "        └── Best until now = 0.1008 (\u001b[31m↘ -0.0492\u001b[0m)\n",
            "\n",
            "===========================================================\n"
          ]
        },
        {
          "metadata": {
            "tags": null
          },
          "name": "stderr",
          "output_type": "stream",
          "text": [
            "Train epoch 27: 100%|██████████| 26/26 [00:18<00:00,  1.44it/s, PPYoloELoss/loss=1.95, PPYoloELoss/loss_cls=0.904, PPYoloELoss/loss_dfl=0.576, PPYoloELoss/loss_iou=0.467, gpu_mem=6.83]\n",
            "Validating epoch 27: 100%|██████████| 8/8 [00:03<00:00,  2.45it/s]\n"
          ]
        },
        {
          "metadata": {
            "tags": null
          },
          "name": "stdout",
          "output_type": "stream",
          "text": [
            "===========================================================\n",
            "SUMMARY OF EPOCH 27\n",
            "├── Train\n",
            "│   ├── Ppyoloeloss/loss_cls = 0.9038\n",
            "│   │   ├── Epoch N-1      = 0.914  (\u001b[32m↘ -0.0102\u001b[0m)\n",
            "│   │   └── Best until now = 0.9052 (\u001b[32m↘ -0.0014\u001b[0m)\n",
            "│   ├── Ppyoloeloss/loss_iou = 0.4674\n",
            "│   │   ├── Epoch N-1      = 0.4715 (\u001b[32m↘ -0.0041\u001b[0m)\n",
            "│   │   └── Best until now = 0.46   (\u001b[31m↗ 0.0074\u001b[0m)\n",
            "│   ├── Ppyoloeloss/loss_dfl = 0.5755\n",
            "│   │   ├── Epoch N-1      = 0.5846 (\u001b[32m↘ -0.0091\u001b[0m)\n",
            "│   │   └── Best until now = 0.5714 (\u001b[31m↗ 0.0041\u001b[0m)\n",
            "│   └── Ppyoloeloss/loss = 1.9467\n",
            "│       ├── Epoch N-1      = 1.9701 (\u001b[32m↘ -0.0233\u001b[0m)\n",
            "│       └── Best until now = 1.9366 (\u001b[31m↗ 0.0102\u001b[0m)\n",
            "└── Validation\n",
            "    ├── Ppyoloeloss/loss_cls = 0.9329\n",
            "    │   ├── Epoch N-1      = 0.84   (\u001b[31m↗ 0.0929\u001b[0m)\n",
            "    │   └── Best until now = 0.8121 (\u001b[31m↗ 0.1208\u001b[0m)\n",
            "    ├── Ppyoloeloss/loss_iou = 0.3892\n",
            "    │   ├── Epoch N-1      = 0.4152 (\u001b[32m↘ -0.026\u001b[0m)\n",
            "    │   └── Best until now = 0.3896 (\u001b[32m↘ -0.0004\u001b[0m)\n",
            "    ├── Ppyoloeloss/loss_dfl = 0.5566\n",
            "    │   ├── Epoch N-1      = 0.5805 (\u001b[32m↘ -0.024\u001b[0m)\n",
            "    │   └── Best until now = 0.5413 (\u001b[31m↗ 0.0153\u001b[0m)\n",
            "    ├── Ppyoloeloss/loss = 1.8787\n",
            "    │   ├── Epoch N-1      = 1.8357 (\u001b[31m↗ 0.043\u001b[0m)\n",
            "    │   └── Best until now = 1.7929 (\u001b[31m↗ 0.0858\u001b[0m)\n",
            "    ├── Precision@0.50 = 0.0238\n",
            "    │   ├── Epoch N-1      = 0.0265 (\u001b[31m↘ -0.0026\u001b[0m)\n",
            "    │   └── Best until now = 0.0531 (\u001b[31m↘ -0.0293\u001b[0m)\n",
            "    ├── Recall@0.50 = 0.9677\n",
            "    │   ├── Epoch N-1      = 0.9677 (\u001b[37m= 0.0\u001b[0m)\n",
            "    │   └── Best until now = 0.9839 (\u001b[31m↘ -0.0161\u001b[0m)\n",
            "    ├── Map@0.50 = 0.8408\n",
            "    │   ├── Epoch N-1      = 0.8821 (\u001b[31m↘ -0.0413\u001b[0m)\n",
            "    │   └── Best until now = 0.9095 (\u001b[31m↘ -0.0687\u001b[0m)\n",
            "    └── F1@0.50 = 0.0465\n",
            "        ├── Epoch N-1      = 0.0515 (\u001b[31m↘ -0.005\u001b[0m)\n",
            "        └── Best until now = 0.1008 (\u001b[31m↘ -0.0542\u001b[0m)\n",
            "\n",
            "===========================================================\n"
          ]
        },
        {
          "metadata": {
            "tags": null
          },
          "name": "stderr",
          "output_type": "stream",
          "text": [
            "Train epoch 28: 100%|██████████| 26/26 [00:17<00:00,  1.47it/s, PPYoloELoss/loss=2.03, PPYoloELoss/loss_cls=0.917, PPYoloELoss/loss_dfl=0.624, PPYoloELoss/loss_iou=0.489, gpu_mem=6.84]\n",
            "Validating epoch 28: 100%|██████████| 8/8 [00:02<00:00,  2.69it/s]\n"
          ]
        },
        {
          "metadata": {
            "tags": null
          },
          "name": "stdout",
          "output_type": "stream",
          "text": [
            "===========================================================\n",
            "SUMMARY OF EPOCH 28\n",
            "├── Train\n",
            "│   ├── Ppyoloeloss/loss_cls = 0.9172\n",
            "│   │   ├── Epoch N-1      = 0.9038 (\u001b[31m↗ 0.0134\u001b[0m)\n",
            "│   │   └── Best until now = 0.9038 (\u001b[31m↗ 0.0134\u001b[0m)\n",
            "│   ├── Ppyoloeloss/loss_iou = 0.4888\n",
            "│   │   ├── Epoch N-1      = 0.4674 (\u001b[31m↗ 0.0213\u001b[0m)\n",
            "│   │   └── Best until now = 0.46   (\u001b[31m↗ 0.0287\u001b[0m)\n",
            "│   ├── Ppyoloeloss/loss_dfl = 0.6244\n",
            "│   │   ├── Epoch N-1      = 0.5755 (\u001b[31m↗ 0.0489\u001b[0m)\n",
            "│   │   └── Best until now = 0.5714 (\u001b[31m↗ 0.053\u001b[0m)\n",
            "│   └── Ppyoloeloss/loss = 2.0304\n",
            "│       ├── Epoch N-1      = 1.9467 (\u001b[31m↗ 0.0837\u001b[0m)\n",
            "│       └── Best until now = 1.9366 (\u001b[31m↗ 0.0938\u001b[0m)\n",
            "└── Validation\n",
            "    ├── Ppyoloeloss/loss_cls = 0.8751\n",
            "    │   ├── Epoch N-1      = 0.9329 (\u001b[32m↘ -0.0578\u001b[0m)\n",
            "    │   └── Best until now = 0.8121 (\u001b[31m↗ 0.063\u001b[0m)\n",
            "    ├── Ppyoloeloss/loss_iou = 0.4134\n",
            "    │   ├── Epoch N-1      = 0.3892 (\u001b[31m↗ 0.0242\u001b[0m)\n",
            "    │   └── Best until now = 0.3892 (\u001b[31m↗ 0.0242\u001b[0m)\n",
            "    ├── Ppyoloeloss/loss_dfl = 0.5603\n",
            "    │   ├── Epoch N-1      = 0.5566 (\u001b[31m↗ 0.0037\u001b[0m)\n",
            "    │   └── Best until now = 0.5413 (\u001b[31m↗ 0.019\u001b[0m)\n",
            "    ├── Ppyoloeloss/loss = 1.8488\n",
            "    │   ├── Epoch N-1      = 1.8787 (\u001b[32m↘ -0.0299\u001b[0m)\n",
            "    │   └── Best until now = 1.7929 (\u001b[31m↗ 0.0559\u001b[0m)\n",
            "    ├── Precision@0.50 = 0.0503\n",
            "    │   ├── Epoch N-1      = 0.0238 (\u001b[32m↗ 0.0265\u001b[0m)\n",
            "    │   └── Best until now = 0.0531 (\u001b[31m↘ -0.0028\u001b[0m)\n",
            "    ├── Recall@0.50 = 0.9194\n",
            "    │   ├── Epoch N-1      = 0.9677 (\u001b[31m↘ -0.0484\u001b[0m)\n",
            "    │   └── Best until now = 0.9839 (\u001b[31m↘ -0.0645\u001b[0m)\n",
            "    ├── Map@0.50 = 0.8093\n",
            "    │   ├── Epoch N-1      = 0.8408 (\u001b[31m↘ -0.0315\u001b[0m)\n",
            "    │   └── Best until now = 0.9095 (\u001b[31m↘ -0.1002\u001b[0m)\n",
            "    └── F1@0.50 = 0.0954\n",
            "        ├── Epoch N-1      = 0.0465 (\u001b[32m↗ 0.0488\u001b[0m)\n",
            "        └── Best until now = 0.1008 (\u001b[31m↘ -0.0054\u001b[0m)\n",
            "\n",
            "===========================================================\n"
          ]
        },
        {
          "metadata": {
            "tags": null
          },
          "name": "stderr",
          "output_type": "stream",
          "text": [
            "Train epoch 29: 100%|██████████| 26/26 [00:17<00:00,  1.48it/s, PPYoloELoss/loss=1.91, PPYoloELoss/loss_cls=0.889, PPYoloELoss/loss_dfl=0.577, PPYoloELoss/loss_iou=0.447, gpu_mem=6.83]\n",
            "Validating epoch 29: 100%|██████████| 8/8 [00:03<00:00,  2.45it/s]\n",
            "[2023-12-14 15:36:34] INFO - base_sg_logger.py - Checkpoint saved in ./checkpoints/csilab-braintumor-detection/RUN_20231214_144702_032990/ckpt_best.pth\n",
            "[2023-12-14 15:36:34] INFO - sg_trainer.py - Best checkpoint overriden: validation mAP@0.50: 0.9190512299537659\n"
          ]
        },
        {
          "metadata": {
            "tags": null
          },
          "name": "stdout",
          "output_type": "stream",
          "text": [
            "===========================================================\n",
            "SUMMARY OF EPOCH 29\n",
            "├── Train\n",
            "│   ├── Ppyoloeloss/loss_cls = 0.8886\n",
            "│   │   ├── Epoch N-1      = 0.9172 (\u001b[32m↘ -0.0286\u001b[0m)\n",
            "│   │   └── Best until now = 0.9038 (\u001b[32m↘ -0.0152\u001b[0m)\n",
            "│   ├── Ppyoloeloss/loss_iou = 0.4469\n",
            "│   │   ├── Epoch N-1      = 0.4888 (\u001b[32m↘ -0.0419\u001b[0m)\n",
            "│   │   └── Best until now = 0.46   (\u001b[32m↘ -0.0132\u001b[0m)\n",
            "│   ├── Ppyoloeloss/loss_dfl = 0.5768\n",
            "│   │   ├── Epoch N-1      = 0.6244 (\u001b[32m↘ -0.0476\u001b[0m)\n",
            "│   │   └── Best until now = 0.5714 (\u001b[31m↗ 0.0054\u001b[0m)\n",
            "│   └── Ppyoloeloss/loss = 1.9123\n",
            "│       ├── Epoch N-1      = 2.0304 (\u001b[32m↘ -0.1181\u001b[0m)\n",
            "│       └── Best until now = 1.9366 (\u001b[32m↘ -0.0243\u001b[0m)\n",
            "└── Validation\n",
            "    ├── Ppyoloeloss/loss_cls = 0.7702\n",
            "    │   ├── Epoch N-1      = 0.8751 (\u001b[32m↘ -0.1049\u001b[0m)\n",
            "    │   └── Best until now = 0.8121 (\u001b[32m↘ -0.0419\u001b[0m)\n",
            "    ├── Ppyoloeloss/loss_iou = 0.3866\n",
            "    │   ├── Epoch N-1      = 0.4134 (\u001b[32m↘ -0.0267\u001b[0m)\n",
            "    │   └── Best until now = 0.3892 (\u001b[32m↘ -0.0026\u001b[0m)\n",
            "    ├── Ppyoloeloss/loss_dfl = 0.5506\n",
            "    │   ├── Epoch N-1      = 0.5603 (\u001b[32m↘ -0.0097\u001b[0m)\n",
            "    │   └── Best until now = 0.5413 (\u001b[31m↗ 0.0093\u001b[0m)\n",
            "    ├── Ppyoloeloss/loss = 1.7074\n",
            "    │   ├── Epoch N-1      = 1.8488 (\u001b[32m↘ -0.1413\u001b[0m)\n",
            "    │   └── Best until now = 1.7929 (\u001b[32m↘ -0.0855\u001b[0m)\n",
            "    ├── Precision@0.50 = 0.0483\n",
            "    │   ├── Epoch N-1      = 0.0503 (\u001b[31m↘ -0.002\u001b[0m)\n",
            "    │   └── Best until now = 0.0531 (\u001b[31m↘ -0.0049\u001b[0m)\n",
            "    ├── Recall@0.50 = 0.9677\n",
            "    │   ├── Epoch N-1      = 0.9194 (\u001b[32m↗ 0.0484\u001b[0m)\n",
            "    │   └── Best until now = 0.9839 (\u001b[31m↘ -0.0161\u001b[0m)\n",
            "    ├── Map@0.50 = 0.9191\n",
            "    │   ├── Epoch N-1      = 0.8093 (\u001b[32m↗ 0.1098\u001b[0m)\n",
            "    │   └── Best until now = 0.9095 (\u001b[32m↗ 0.0096\u001b[0m)\n",
            "    └── F1@0.50 = 0.092\n",
            "        ├── Epoch N-1      = 0.0954 (\u001b[31m↘ -0.0034\u001b[0m)\n",
            "        └── Best until now = 0.1008 (\u001b[31m↘ -0.0088\u001b[0m)\n",
            "\n",
            "===========================================================\n"
          ]
        },
        {
          "metadata": {
            "tags": null
          },
          "name": "stderr",
          "output_type": "stream",
          "text": [
            "Train epoch 30: 100%|██████████| 26/26 [00:17<00:00,  1.45it/s, PPYoloELoss/loss=1.98, PPYoloELoss/loss_cls=0.91, PPYoloELoss/loss_dfl=0.592, PPYoloELoss/loss_iou=0.48, gpu_mem=6.83]\n",
            "Validating epoch 30: 100%|██████████| 8/8 [00:03<00:00,  2.59it/s]\n",
            "[2023-12-14 15:38:33] INFO - base_sg_logger.py - Checkpoint saved in ./checkpoints/csilab-braintumor-detection/RUN_20231214_144702_032990/ckpt_best.pth\n",
            "[2023-12-14 15:38:33] INFO - sg_trainer.py - Best checkpoint overriden: validation mAP@0.50: 0.920077919960022\n"
          ]
        },
        {
          "metadata": {
            "tags": null
          },
          "name": "stdout",
          "output_type": "stream",
          "text": [
            "===========================================================\n",
            "SUMMARY OF EPOCH 30\n",
            "├── Train\n",
            "│   ├── Ppyoloeloss/loss_cls = 0.9101\n",
            "│   │   ├── Epoch N-1      = 0.8886 (\u001b[31m↗ 0.0215\u001b[0m)\n",
            "│   │   └── Best until now = 0.8886 (\u001b[31m↗ 0.0215\u001b[0m)\n",
            "│   ├── Ppyoloeloss/loss_iou = 0.4802\n",
            "│   │   ├── Epoch N-1      = 0.4469 (\u001b[31m↗ 0.0333\u001b[0m)\n",
            "│   │   └── Best until now = 0.4469 (\u001b[31m↗ 0.0333\u001b[0m)\n",
            "│   ├── Ppyoloeloss/loss_dfl = 0.5918\n",
            "│   │   ├── Epoch N-1      = 0.5768 (\u001b[31m↗ 0.015\u001b[0m)\n",
            "│   │   └── Best until now = 0.5714 (\u001b[31m↗ 0.0204\u001b[0m)\n",
            "│   └── Ppyoloeloss/loss = 1.9821\n",
            "│       ├── Epoch N-1      = 1.9123 (\u001b[31m↗ 0.0698\u001b[0m)\n",
            "│       └── Best until now = 1.9123 (\u001b[31m↗ 0.0698\u001b[0m)\n",
            "└── Validation\n",
            "    ├── Ppyoloeloss/loss_cls = 0.8958\n",
            "    │   ├── Epoch N-1      = 0.7702 (\u001b[31m↗ 0.1256\u001b[0m)\n",
            "    │   └── Best until now = 0.7702 (\u001b[31m↗ 0.1256\u001b[0m)\n",
            "    ├── Ppyoloeloss/loss_iou = 0.3958\n",
            "    │   ├── Epoch N-1      = 0.3866 (\u001b[31m↗ 0.0092\u001b[0m)\n",
            "    │   └── Best until now = 0.3866 (\u001b[31m↗ 0.0092\u001b[0m)\n",
            "    ├── Ppyoloeloss/loss_dfl = 0.5545\n",
            "    │   ├── Epoch N-1      = 0.5506 (\u001b[31m↗ 0.0039\u001b[0m)\n",
            "    │   └── Best until now = 0.5413 (\u001b[31m↗ 0.0132\u001b[0m)\n",
            "    ├── Ppyoloeloss/loss = 1.8461\n",
            "    │   ├── Epoch N-1      = 1.7074 (\u001b[31m↗ 0.1387\u001b[0m)\n",
            "    │   └── Best until now = 1.7074 (\u001b[31m↗ 0.1387\u001b[0m)\n",
            "    ├── Precision@0.50 = 0.0213\n",
            "    │   ├── Epoch N-1      = 0.0483 (\u001b[31m↘ -0.027\u001b[0m)\n",
            "    │   └── Best until now = 0.0531 (\u001b[31m↘ -0.0319\u001b[0m)\n",
            "    ├── Recall@0.50 = 0.9677\n",
            "    │   ├── Epoch N-1      = 0.9677 (\u001b[37m= 0.0\u001b[0m)\n",
            "    │   └── Best until now = 0.9839 (\u001b[31m↘ -0.0161\u001b[0m)\n",
            "    ├── Map@0.50 = 0.9201\n",
            "    │   ├── Epoch N-1      = 0.9191 (\u001b[32m↗ 0.001\u001b[0m)\n",
            "    │   └── Best until now = 0.9191 (\u001b[32m↗ 0.001\u001b[0m)\n",
            "    └── F1@0.50 = 0.0416\n",
            "        ├── Epoch N-1      = 0.092  (\u001b[31m↘ -0.0503\u001b[0m)\n",
            "        └── Best until now = 0.1008 (\u001b[31m↘ -0.0591\u001b[0m)\n",
            "\n",
            "===========================================================\n"
          ]
        },
        {
          "metadata": {
            "tags": null
          },
          "name": "stderr",
          "output_type": "stream",
          "text": [
            "Train epoch 31: 100%|██████████| 26/26 [00:17<00:00,  1.48it/s, PPYoloELoss/loss=1.95, PPYoloELoss/loss_cls=0.878, PPYoloELoss/loss_dfl=0.592, PPYoloELoss/loss_iou=0.477, gpu_mem=6.84]\n",
            "Validating epoch 31: 100%|██████████| 8/8 [00:02<00:00,  2.69it/s]\n"
          ]
        },
        {
          "metadata": {
            "tags": null
          },
          "name": "stdout",
          "output_type": "stream",
          "text": [
            "===========================================================\n",
            "SUMMARY OF EPOCH 31\n",
            "├── Train\n",
            "│   ├── Ppyoloeloss/loss_cls = 0.8778\n",
            "│   │   ├── Epoch N-1      = 0.9101 (\u001b[32m↘ -0.0323\u001b[0m)\n",
            "│   │   └── Best until now = 0.8886 (\u001b[32m↘ -0.0108\u001b[0m)\n",
            "│   ├── Ppyoloeloss/loss_iou = 0.4766\n",
            "│   │   ├── Epoch N-1      = 0.4802 (\u001b[32m↘ -0.0036\u001b[0m)\n",
            "│   │   └── Best until now = 0.4469 (\u001b[31m↗ 0.0298\u001b[0m)\n",
            "│   ├── Ppyoloeloss/loss_dfl = 0.592\n",
            "│   │   ├── Epoch N-1      = 0.5918 (\u001b[31m↗ 0.0002\u001b[0m)\n",
            "│   │   └── Best until now = 0.5714 (\u001b[31m↗ 0.0206\u001b[0m)\n",
            "│   └── Ppyoloeloss/loss = 1.9464\n",
            "│       ├── Epoch N-1      = 1.9821 (\u001b[32m↘ -0.0357\u001b[0m)\n",
            "│       └── Best until now = 1.9123 (\u001b[31m↗ 0.0342\u001b[0m)\n",
            "└── Validation\n",
            "    ├── Ppyoloeloss/loss_cls = 0.8517\n",
            "    │   ├── Epoch N-1      = 0.8958 (\u001b[32m↘ -0.0441\u001b[0m)\n",
            "    │   └── Best until now = 0.7702 (\u001b[31m↗ 0.0815\u001b[0m)\n",
            "    ├── Ppyoloeloss/loss_iou = 0.4209\n",
            "    │   ├── Epoch N-1      = 0.3958 (\u001b[31m↗ 0.025\u001b[0m)\n",
            "    │   └── Best until now = 0.3866 (\u001b[31m↗ 0.0342\u001b[0m)\n",
            "    ├── Ppyoloeloss/loss_dfl = 0.5809\n",
            "    │   ├── Epoch N-1      = 0.5545 (\u001b[31m↗ 0.0264\u001b[0m)\n",
            "    │   └── Best until now = 0.5413 (\u001b[31m↗ 0.0396\u001b[0m)\n",
            "    ├── Ppyoloeloss/loss = 1.8535\n",
            "    │   ├── Epoch N-1      = 1.8461 (\u001b[31m↗ 0.0074\u001b[0m)\n",
            "    │   └── Best until now = 1.7074 (\u001b[31m↗ 0.146\u001b[0m)\n",
            "    ├── Precision@0.50 = 0.0307\n",
            "    │   ├── Epoch N-1      = 0.0213 (\u001b[32m↗ 0.0094\u001b[0m)\n",
            "    │   └── Best until now = 0.0531 (\u001b[31m↘ -0.0224\u001b[0m)\n",
            "    ├── Recall@0.50 = 0.9677\n",
            "    │   ├── Epoch N-1      = 0.9677 (\u001b[37m= 0.0\u001b[0m)\n",
            "    │   └── Best until now = 0.9839 (\u001b[31m↘ -0.0161\u001b[0m)\n",
            "    ├── Map@0.50 = 0.8795\n",
            "    │   ├── Epoch N-1      = 0.9201 (\u001b[31m↘ -0.0405\u001b[0m)\n",
            "    │   └── Best until now = 0.9201 (\u001b[31m↘ -0.0405\u001b[0m)\n",
            "    └── F1@0.50 = 0.0596\n",
            "        ├── Epoch N-1      = 0.0416 (\u001b[32m↗ 0.0179\u001b[0m)\n",
            "        └── Best until now = 0.1008 (\u001b[31m↘ -0.0412\u001b[0m)\n",
            "\n",
            "===========================================================\n"
          ]
        },
        {
          "metadata": {
            "tags": null
          },
          "name": "stderr",
          "output_type": "stream",
          "text": [
            "Train epoch 32: 100%|██████████| 26/26 [00:17<00:00,  1.46it/s, PPYoloELoss/loss=1.95, PPYoloELoss/loss_cls=0.893, PPYoloELoss/loss_dfl=0.591, PPYoloELoss/loss_iou=0.47, gpu_mem=6.84]\n",
            "Validating epoch 32: 100%|██████████| 8/8 [00:03<00:00,  2.62it/s]\n"
          ]
        },
        {
          "metadata": {
            "tags": null
          },
          "name": "stdout",
          "output_type": "stream",
          "text": [
            "===========================================================\n",
            "SUMMARY OF EPOCH 32\n",
            "├── Train\n",
            "│   ├── Ppyoloeloss/loss_cls = 0.8932\n",
            "│   │   ├── Epoch N-1      = 0.8778 (\u001b[31m↗ 0.0154\u001b[0m)\n",
            "│   │   └── Best until now = 0.8778 (\u001b[31m↗ 0.0154\u001b[0m)\n",
            "│   ├── Ppyoloeloss/loss_iou = 0.4698\n",
            "│   │   ├── Epoch N-1      = 0.4766 (\u001b[32m↘ -0.0069\u001b[0m)\n",
            "│   │   └── Best until now = 0.4469 (\u001b[31m↗ 0.0229\u001b[0m)\n",
            "│   ├── Ppyoloeloss/loss_dfl = 0.5908\n",
            "│   │   ├── Epoch N-1      = 0.592  (\u001b[32m↘ -0.0012\u001b[0m)\n",
            "│   │   └── Best until now = 0.5714 (\u001b[31m↗ 0.0194\u001b[0m)\n",
            "│   └── Ppyoloeloss/loss = 1.9538\n",
            "│       ├── Epoch N-1      = 1.9464 (\u001b[31m↗ 0.0073\u001b[0m)\n",
            "│       └── Best until now = 1.9123 (\u001b[31m↗ 0.0415\u001b[0m)\n",
            "└── Validation\n",
            "    ├── Ppyoloeloss/loss_cls = 0.8108\n",
            "    │   ├── Epoch N-1      = 0.8517 (\u001b[32m↘ -0.0409\u001b[0m)\n",
            "    │   └── Best until now = 0.7702 (\u001b[31m↗ 0.0406\u001b[0m)\n",
            "    ├── Ppyoloeloss/loss_iou = 0.4293\n",
            "    │   ├── Epoch N-1      = 0.4209 (\u001b[31m↗ 0.0084\u001b[0m)\n",
            "    │   └── Best until now = 0.3866 (\u001b[31m↗ 0.0426\u001b[0m)\n",
            "    ├── Ppyoloeloss/loss_dfl = 0.5923\n",
            "    │   ├── Epoch N-1      = 0.5809 (\u001b[31m↗ 0.0114\u001b[0m)\n",
            "    │   └── Best until now = 0.5413 (\u001b[31m↗ 0.051\u001b[0m)\n",
            "    ├── Ppyoloeloss/loss = 1.8324\n",
            "    │   ├── Epoch N-1      = 1.8535 (\u001b[32m↘ -0.0211\u001b[0m)\n",
            "    │   └── Best until now = 1.7074 (\u001b[31m↗ 0.1249\u001b[0m)\n",
            "    ├── Precision@0.50 = 0.0526\n",
            "    │   ├── Epoch N-1      = 0.0307 (\u001b[32m↗ 0.0219\u001b[0m)\n",
            "    │   └── Best until now = 0.0531 (\u001b[31m↘ -0.0005\u001b[0m)\n",
            "    ├── Recall@0.50 = 0.9677\n",
            "    │   ├── Epoch N-1      = 0.9677 (\u001b[37m= 0.0\u001b[0m)\n",
            "    │   └── Best until now = 0.9839 (\u001b[31m↘ -0.0161\u001b[0m)\n",
            "    ├── Map@0.50 = 0.9023\n",
            "    │   ├── Epoch N-1      = 0.8795 (\u001b[32m↗ 0.0227\u001b[0m)\n",
            "    │   └── Best until now = 0.9201 (\u001b[31m↘ -0.0178\u001b[0m)\n",
            "    └── F1@0.50 = 0.0998\n",
            "        ├── Epoch N-1      = 0.0596 (\u001b[32m↗ 0.0403\u001b[0m)\n",
            "        └── Best until now = 0.1008 (\u001b[31m↘ -0.0009\u001b[0m)\n",
            "\n",
            "===========================================================\n"
          ]
        },
        {
          "metadata": {
            "tags": null
          },
          "name": "stderr",
          "output_type": "stream",
          "text": [
            "Train epoch 33: 100%|██████████| 26/26 [00:17<00:00,  1.47it/s, PPYoloELoss/loss=1.97, PPYoloELoss/loss_cls=0.912, PPYoloELoss/loss_dfl=0.594, PPYoloELoss/loss_iou=0.466, gpu_mem=6.83]\n",
            "Validating epoch 33: 100%|██████████| 8/8 [00:03<00:00,  2.65it/s]\n"
          ]
        },
        {
          "metadata": {
            "tags": null
          },
          "name": "stdout",
          "output_type": "stream",
          "text": [
            "===========================================================\n",
            "SUMMARY OF EPOCH 33\n",
            "├── Train\n",
            "│   ├── Ppyoloeloss/loss_cls = 0.912\n",
            "│   │   ├── Epoch N-1      = 0.8932 (\u001b[31m↗ 0.0188\u001b[0m)\n",
            "│   │   └── Best until now = 0.8778 (\u001b[31m↗ 0.0342\u001b[0m)\n",
            "│   ├── Ppyoloeloss/loss_iou = 0.4662\n",
            "│   │   ├── Epoch N-1      = 0.4698 (\u001b[32m↘ -0.0036\u001b[0m)\n",
            "│   │   └── Best until now = 0.4469 (\u001b[31m↗ 0.0193\u001b[0m)\n",
            "│   ├── Ppyoloeloss/loss_dfl = 0.5943\n",
            "│   │   ├── Epoch N-1      = 0.5908 (\u001b[31m↗ 0.0035\u001b[0m)\n",
            "│   │   └── Best until now = 0.5714 (\u001b[31m↗ 0.0229\u001b[0m)\n",
            "│   └── Ppyoloeloss/loss = 1.9725\n",
            "│       ├── Epoch N-1      = 1.9538 (\u001b[31m↗ 0.0187\u001b[0m)\n",
            "│       └── Best until now = 1.9123 (\u001b[31m↗ 0.0602\u001b[0m)\n",
            "└── Validation\n",
            "    ├── Ppyoloeloss/loss_cls = 0.8436\n",
            "    │   ├── Epoch N-1      = 0.8108 (\u001b[31m↗ 0.0328\u001b[0m)\n",
            "    │   └── Best until now = 0.7702 (\u001b[31m↗ 0.0734\u001b[0m)\n",
            "    ├── Ppyoloeloss/loss_iou = 0.4335\n",
            "    │   ├── Epoch N-1      = 0.4293 (\u001b[31m↗ 0.0042\u001b[0m)\n",
            "    │   └── Best until now = 0.3866 (\u001b[31m↗ 0.0468\u001b[0m)\n",
            "    ├── Ppyoloeloss/loss_dfl = 0.6031\n",
            "    │   ├── Epoch N-1      = 0.5923 (\u001b[31m↗ 0.0108\u001b[0m)\n",
            "    │   └── Best until now = 0.5413 (\u001b[31m↗ 0.0618\u001b[0m)\n",
            "    ├── Ppyoloeloss/loss = 1.8802\n",
            "    │   ├── Epoch N-1      = 1.8324 (\u001b[31m↗ 0.0479\u001b[0m)\n",
            "    │   └── Best until now = 1.7074 (\u001b[31m↗ 0.1728\u001b[0m)\n",
            "    ├── Precision@0.50 = 0.067\n",
            "    │   ├── Epoch N-1      = 0.0526 (\u001b[32m↗ 0.0143\u001b[0m)\n",
            "    │   └── Best until now = 0.0531 (\u001b[32m↗ 0.0138\u001b[0m)\n",
            "    ├── Recall@0.50 = 0.9516\n",
            "    │   ├── Epoch N-1      = 0.9677 (\u001b[31m↘ -0.0161\u001b[0m)\n",
            "    │   └── Best until now = 0.9839 (\u001b[31m↘ -0.0323\u001b[0m)\n",
            "    ├── Map@0.50 = 0.8761\n",
            "    │   ├── Epoch N-1      = 0.9023 (\u001b[31m↘ -0.0262\u001b[0m)\n",
            "    │   └── Best until now = 0.9201 (\u001b[31m↘ -0.044\u001b[0m)\n",
            "    └── F1@0.50 = 0.1251\n",
            "        ├── Epoch N-1      = 0.0998 (\u001b[32m↗ 0.0253\u001b[0m)\n",
            "        └── Best until now = 0.1008 (\u001b[32m↗ 0.0244\u001b[0m)\n",
            "\n",
            "===========================================================\n"
          ]
        },
        {
          "metadata": {
            "tags": null
          },
          "name": "stderr",
          "output_type": "stream",
          "text": [
            "Train epoch 34: 100%|██████████| 26/26 [00:17<00:00,  1.52it/s, PPYoloELoss/loss=1.93, PPYoloELoss/loss_cls=0.89, PPYoloELoss/loss_dfl=0.576, PPYoloELoss/loss_iou=0.466, gpu_mem=6.83]\n",
            "Validating epoch 34: 100%|██████████| 8/8 [00:03<00:00,  2.63it/s]\n"
          ]
        },
        {
          "metadata": {
            "tags": null
          },
          "name": "stdout",
          "output_type": "stream",
          "text": [
            "===========================================================\n",
            "SUMMARY OF EPOCH 34\n",
            "├── Train\n",
            "│   ├── Ppyoloeloss/loss_cls = 0.8897\n",
            "│   │   ├── Epoch N-1      = 0.912  (\u001b[32m↘ -0.0224\u001b[0m)\n",
            "│   │   └── Best until now = 0.8778 (\u001b[31m↗ 0.0119\u001b[0m)\n",
            "│   ├── Ppyoloeloss/loss_iou = 0.4657\n",
            "│   │   ├── Epoch N-1      = 0.4662 (\u001b[32m↘ -0.0005\u001b[0m)\n",
            "│   │   └── Best until now = 0.4469 (\u001b[31m↗ 0.0188\u001b[0m)\n",
            "│   ├── Ppyoloeloss/loss_dfl = 0.5759\n",
            "│   │   ├── Epoch N-1      = 0.5943 (\u001b[32m↘ -0.0184\u001b[0m)\n",
            "│   │   └── Best until now = 0.5714 (\u001b[31m↗ 0.0045\u001b[0m)\n",
            "│   └── Ppyoloeloss/loss = 1.9312\n",
            "│       ├── Epoch N-1      = 1.9725 (\u001b[32m↘ -0.0413\u001b[0m)\n",
            "│       └── Best until now = 1.9123 (\u001b[31m↗ 0.0189\u001b[0m)\n",
            "└── Validation\n",
            "    ├── Ppyoloeloss/loss_cls = 0.7915\n",
            "    │   ├── Epoch N-1      = 0.8436 (\u001b[32m↘ -0.0521\u001b[0m)\n",
            "    │   └── Best until now = 0.7702 (\u001b[31m↗ 0.0213\u001b[0m)\n",
            "    ├── Ppyoloeloss/loss_iou = 0.3972\n",
            "    │   ├── Epoch N-1      = 0.4335 (\u001b[32m↘ -0.0363\u001b[0m)\n",
            "    │   └── Best until now = 0.3866 (\u001b[31m↗ 0.0105\u001b[0m)\n",
            "    ├── Ppyoloeloss/loss_dfl = 0.5612\n",
            "    │   ├── Epoch N-1      = 0.6031 (\u001b[32m↘ -0.0419\u001b[0m)\n",
            "    │   └── Best until now = 0.5413 (\u001b[31m↗ 0.0199\u001b[0m)\n",
            "    ├── Ppyoloeloss/loss = 1.7499\n",
            "    │   ├── Epoch N-1      = 1.8802 (\u001b[32m↘ -0.1303\u001b[0m)\n",
            "    │   └── Best until now = 1.7074 (\u001b[31m↗ 0.0425\u001b[0m)\n",
            "    ├── Precision@0.50 = 0.0389\n",
            "    │   ├── Epoch N-1      = 0.067  (\u001b[31m↘ -0.0281\u001b[0m)\n",
            "    │   └── Best until now = 0.067  (\u001b[31m↘ -0.0281\u001b[0m)\n",
            "    ├── Recall@0.50 = 0.9677\n",
            "    │   ├── Epoch N-1      = 0.9516 (\u001b[32m↗ 0.0161\u001b[0m)\n",
            "    │   └── Best until now = 0.9839 (\u001b[31m↘ -0.0161\u001b[0m)\n",
            "    ├── Map@0.50 = 0.911\n",
            "    │   ├── Epoch N-1      = 0.8761 (\u001b[32m↗ 0.0349\u001b[0m)\n",
            "    │   └── Best until now = 0.9201 (\u001b[31m↘ -0.0091\u001b[0m)\n",
            "    └── F1@0.50 = 0.0748\n",
            "        ├── Epoch N-1      = 0.1251 (\u001b[31m↘ -0.0504\u001b[0m)\n",
            "        └── Best until now = 0.1251 (\u001b[31m↘ -0.0504\u001b[0m)\n",
            "\n",
            "===========================================================\n"
          ]
        },
        {
          "metadata": {
            "tags": null
          },
          "name": "stderr",
          "output_type": "stream",
          "text": [
            "Train epoch 35: 100%|██████████| 26/26 [00:17<00:00,  1.50it/s, PPYoloELoss/loss=1.91, PPYoloELoss/loss_cls=0.882, PPYoloELoss/loss_dfl=0.565, PPYoloELoss/loss_iou=0.46, gpu_mem=6.84]\n",
            "Validating epoch 35: 100%|██████████| 8/8 [00:03<00:00,  2.41it/s]\n"
          ]
        },
        {
          "metadata": {
            "tags": null
          },
          "name": "stdout",
          "output_type": "stream",
          "text": [
            "===========================================================\n",
            "SUMMARY OF EPOCH 35\n",
            "├── Train\n",
            "│   ├── Ppyoloeloss/loss_cls = 0.8815\n",
            "│   │   ├── Epoch N-1      = 0.8897 (\u001b[32m↘ -0.0081\u001b[0m)\n",
            "│   │   └── Best until now = 0.8778 (\u001b[31m↗ 0.0037\u001b[0m)\n",
            "│   ├── Ppyoloeloss/loss_iou = 0.4604\n",
            "│   │   ├── Epoch N-1      = 0.4657 (\u001b[32m↘ -0.0052\u001b[0m)\n",
            "│   │   └── Best until now = 0.4469 (\u001b[31m↗ 0.0136\u001b[0m)\n",
            "│   ├── Ppyoloeloss/loss_dfl = 0.5651\n",
            "│   │   ├── Epoch N-1      = 0.5759 (\u001b[32m↘ -0.0108\u001b[0m)\n",
            "│   │   └── Best until now = 0.5714 (\u001b[32m↘ -0.0063\u001b[0m)\n",
            "│   └── Ppyoloeloss/loss = 1.9071\n",
            "│       ├── Epoch N-1      = 1.9312 (\u001b[32m↘ -0.0241\u001b[0m)\n",
            "│       └── Best until now = 1.9123 (\u001b[32m↘ -0.0052\u001b[0m)\n",
            "└── Validation\n",
            "    ├── Ppyoloeloss/loss_cls = 0.7622\n",
            "    │   ├── Epoch N-1      = 0.7915 (\u001b[32m↘ -0.0293\u001b[0m)\n",
            "    │   └── Best until now = 0.7702 (\u001b[32m↘ -0.008\u001b[0m)\n",
            "    ├── Ppyoloeloss/loss_iou = 0.408\n",
            "    │   ├── Epoch N-1      = 0.3972 (\u001b[31m↗ 0.0108\u001b[0m)\n",
            "    │   └── Best until now = 0.3866 (\u001b[31m↗ 0.0214\u001b[0m)\n",
            "    ├── Ppyoloeloss/loss_dfl = 0.5586\n",
            "    │   ├── Epoch N-1      = 0.5612 (\u001b[32m↘ -0.0027\u001b[0m)\n",
            "    │   └── Best until now = 0.5413 (\u001b[31m↗ 0.0172\u001b[0m)\n",
            "    ├── Ppyoloeloss/loss = 1.7288\n",
            "    │   ├── Epoch N-1      = 1.7499 (\u001b[32m↘ -0.0211\u001b[0m)\n",
            "    │   └── Best until now = 1.7074 (\u001b[31m↗ 0.0214\u001b[0m)\n",
            "    ├── Precision@0.50 = 0.0493\n",
            "    │   ├── Epoch N-1      = 0.0389 (\u001b[32m↗ 0.0105\u001b[0m)\n",
            "    │   └── Best until now = 0.067  (\u001b[31m↘ -0.0176\u001b[0m)\n",
            "    ├── Recall@0.50 = 0.9677\n",
            "    │   ├── Epoch N-1      = 0.9677 (\u001b[37m= 0.0\u001b[0m)\n",
            "    │   └── Best until now = 0.9839 (\u001b[31m↘ -0.0161\u001b[0m)\n",
            "    ├── Map@0.50 = 0.9059\n",
            "    │   ├── Epoch N-1      = 0.911  (\u001b[31m↘ -0.0051\u001b[0m)\n",
            "    │   └── Best until now = 0.9201 (\u001b[31m↘ -0.0142\u001b[0m)\n",
            "    └── F1@0.50 = 0.0939\n",
            "        ├── Epoch N-1      = 0.0748 (\u001b[32m↗ 0.0191\u001b[0m)\n",
            "        └── Best until now = 0.1251 (\u001b[31m↘ -0.0312\u001b[0m)\n",
            "\n",
            "===========================================================\n"
          ]
        },
        {
          "metadata": {
            "tags": null
          },
          "name": "stderr",
          "output_type": "stream",
          "text": [
            "Train epoch 36: 100%|██████████| 26/26 [00:17<00:00,  1.51it/s, PPYoloELoss/loss=1.93, PPYoloELoss/loss_cls=0.892, PPYoloELoss/loss_dfl=0.578, PPYoloELoss/loss_iou=0.461, gpu_mem=6.82]\n",
            "Validating epoch 36: 100%|██████████| 8/8 [00:02<00:00,  2.68it/s]\n"
          ]
        },
        {
          "metadata": {
            "tags": null
          },
          "name": "stdout",
          "output_type": "stream",
          "text": [
            "===========================================================\n",
            "SUMMARY OF EPOCH 36\n",
            "├── Train\n",
            "│   ├── Ppyoloeloss/loss_cls = 0.8924\n",
            "│   │   ├── Epoch N-1      = 0.8815 (\u001b[31m↗ 0.0109\u001b[0m)\n",
            "│   │   └── Best until now = 0.8778 (\u001b[31m↗ 0.0147\u001b[0m)\n",
            "│   ├── Ppyoloeloss/loss_iou = 0.4615\n",
            "│   │   ├── Epoch N-1      = 0.4604 (\u001b[31m↗ 0.0011\u001b[0m)\n",
            "│   │   └── Best until now = 0.4469 (\u001b[31m↗ 0.0146\u001b[0m)\n",
            "│   ├── Ppyoloeloss/loss_dfl = 0.5781\n",
            "│   │   ├── Epoch N-1      = 0.5651 (\u001b[31m↗ 0.0129\u001b[0m)\n",
            "│   │   └── Best until now = 0.5651 (\u001b[31m↗ 0.0129\u001b[0m)\n",
            "│   └── Ppyoloeloss/loss = 1.932\n",
            "│       ├── Epoch N-1      = 1.9071 (\u001b[31m↗ 0.0249\u001b[0m)\n",
            "│       └── Best until now = 1.9071 (\u001b[31m↗ 0.0249\u001b[0m)\n",
            "└── Validation\n",
            "    ├── Ppyoloeloss/loss_cls = 0.8746\n",
            "    │   ├── Epoch N-1      = 0.7622 (\u001b[31m↗ 0.1124\u001b[0m)\n",
            "    │   └── Best until now = 0.7622 (\u001b[31m↗ 0.1124\u001b[0m)\n",
            "    ├── Ppyoloeloss/loss_iou = 0.4093\n",
            "    │   ├── Epoch N-1      = 0.408  (\u001b[31m↗ 0.0013\u001b[0m)\n",
            "    │   └── Best until now = 0.3866 (\u001b[31m↗ 0.0227\u001b[0m)\n",
            "    ├── Ppyoloeloss/loss_dfl = 0.5582\n",
            "    │   ├── Epoch N-1      = 0.5586 (\u001b[32m↘ -0.0004\u001b[0m)\n",
            "    │   └── Best until now = 0.5413 (\u001b[31m↗ 0.0168\u001b[0m)\n",
            "    ├── Ppyoloeloss/loss = 1.8421\n",
            "    │   ├── Epoch N-1      = 1.7288 (\u001b[31m↗ 0.1133\u001b[0m)\n",
            "    │   └── Best until now = 1.7074 (\u001b[31m↗ 0.1346\u001b[0m)\n",
            "    ├── Precision@0.50 = 0.0256\n",
            "    │   ├── Epoch N-1      = 0.0493 (\u001b[31m↘ -0.0237\u001b[0m)\n",
            "    │   └── Best until now = 0.067  (\u001b[31m↘ -0.0414\u001b[0m)\n",
            "    ├── Recall@0.50 = 0.9677\n",
            "    │   ├── Epoch N-1      = 0.9677 (\u001b[37m= 0.0\u001b[0m)\n",
            "    │   └── Best until now = 0.9839 (\u001b[31m↘ -0.0161\u001b[0m)\n",
            "    ├── Map@0.50 = 0.868\n",
            "    │   ├── Epoch N-1      = 0.9059 (\u001b[31m↘ -0.0379\u001b[0m)\n",
            "    │   └── Best until now = 0.9201 (\u001b[31m↘ -0.0521\u001b[0m)\n",
            "    └── F1@0.50 = 0.0499\n",
            "        ├── Epoch N-1      = 0.0939 (\u001b[31m↘ -0.044\u001b[0m)\n",
            "        └── Best until now = 0.1251 (\u001b[31m↘ -0.0752\u001b[0m)\n",
            "\n",
            "===========================================================\n"
          ]
        },
        {
          "metadata": {
            "tags": null
          },
          "name": "stderr",
          "output_type": "stream",
          "text": [
            "Train epoch 37: 100%|██████████| 26/26 [00:17<00:00,  1.50it/s, PPYoloELoss/loss=1.9, PPYoloELoss/loss_cls=0.906, PPYoloELoss/loss_dfl=0.562, PPYoloELoss/loss_iou=0.436, gpu_mem=6.98]\n",
            "Validating epoch 37: 100%|██████████| 8/8 [00:03<00:00,  2.48it/s]\n"
          ]
        },
        {
          "metadata": {
            "tags": null
          },
          "name": "stdout",
          "output_type": "stream",
          "text": [
            "===========================================================\n",
            "SUMMARY OF EPOCH 37\n",
            "├── Train\n",
            "│   ├── Ppyoloeloss/loss_cls = 0.9058\n",
            "│   │   ├── Epoch N-1      = 0.8924 (\u001b[31m↗ 0.0134\u001b[0m)\n",
            "│   │   └── Best until now = 0.8778 (\u001b[31m↗ 0.0281\u001b[0m)\n",
            "│   ├── Ppyoloeloss/loss_iou = 0.4364\n",
            "│   │   ├── Epoch N-1      = 0.4615 (\u001b[32m↘ -0.0251\u001b[0m)\n",
            "│   │   └── Best until now = 0.4469 (\u001b[32m↘ -0.0105\u001b[0m)\n",
            "│   ├── Ppyoloeloss/loss_dfl = 0.5619\n",
            "│   │   ├── Epoch N-1      = 0.5781 (\u001b[32m↘ -0.0162\u001b[0m)\n",
            "│   │   └── Best until now = 0.5651 (\u001b[32m↘ -0.0033\u001b[0m)\n",
            "│   └── Ppyoloeloss/loss = 1.9041\n",
            "│       ├── Epoch N-1      = 1.932  (\u001b[32m↘ -0.0279\u001b[0m)\n",
            "│       └── Best until now = 1.9071 (\u001b[32m↘ -0.003\u001b[0m)\n",
            "└── Validation\n",
            "    ├── Ppyoloeloss/loss_cls = 0.8711\n",
            "    │   ├── Epoch N-1      = 0.8746 (\u001b[32m↘ -0.0035\u001b[0m)\n",
            "    │   └── Best until now = 0.7622 (\u001b[31m↗ 0.1089\u001b[0m)\n",
            "    ├── Ppyoloeloss/loss_iou = 0.406\n",
            "    │   ├── Epoch N-1      = 0.4093 (\u001b[32m↘ -0.0033\u001b[0m)\n",
            "    │   └── Best until now = 0.3866 (\u001b[31m↗ 0.0194\u001b[0m)\n",
            "    ├── Ppyoloeloss/loss_dfl = 0.5747\n",
            "    │   ├── Epoch N-1      = 0.5582 (\u001b[31m↗ 0.0165\u001b[0m)\n",
            "    │   └── Best until now = 0.5413 (\u001b[31m↗ 0.0333\u001b[0m)\n",
            "    ├── Ppyoloeloss/loss = 1.8518\n",
            "    │   ├── Epoch N-1      = 1.8421 (\u001b[31m↗ 0.0097\u001b[0m)\n",
            "    │   └── Best until now = 1.7074 (\u001b[31m↗ 0.1444\u001b[0m)\n",
            "    ├── Precision@0.50 = 0.0334\n",
            "    │   ├── Epoch N-1      = 0.0256 (\u001b[32m↗ 0.0078\u001b[0m)\n",
            "    │   └── Best until now = 0.067  (\u001b[31m↘ -0.0335\u001b[0m)\n",
            "    ├── Recall@0.50 = 0.9677\n",
            "    │   ├── Epoch N-1      = 0.9677 (\u001b[37m= 0.0\u001b[0m)\n",
            "    │   └── Best until now = 0.9839 (\u001b[31m↘ -0.0161\u001b[0m)\n",
            "    ├── Map@0.50 = 0.8562\n",
            "    │   ├── Epoch N-1      = 0.868  (\u001b[31m↘ -0.0118\u001b[0m)\n",
            "    │   └── Best until now = 0.9201 (\u001b[31m↘ -0.0639\u001b[0m)\n",
            "    └── F1@0.50 = 0.0646\n",
            "        ├── Epoch N-1      = 0.0499 (\u001b[32m↗ 0.0147\u001b[0m)\n",
            "        └── Best until now = 0.1251 (\u001b[31m↘ -0.0605\u001b[0m)\n",
            "\n",
            "===========================================================\n"
          ]
        },
        {
          "metadata": {
            "tags": null
          },
          "name": "stderr",
          "output_type": "stream",
          "text": [
            "Train epoch 38: 100%|██████████| 26/26 [00:18<00:00,  1.42it/s, PPYoloELoss/loss=1.94, PPYoloELoss/loss_cls=0.905, PPYoloELoss/loss_dfl=0.576, PPYoloELoss/loss_iou=0.464, gpu_mem=6.83]\n",
            "Validating epoch 38: 100%|██████████| 8/8 [00:02<00:00,  2.70it/s]\n",
            "[2023-12-14 15:51:50] INFO - base_sg_logger.py - Checkpoint saved in ./checkpoints/csilab-braintumor-detection/RUN_20231214_144702_032990/ckpt_best.pth\n",
            "[2023-12-14 15:51:50] INFO - sg_trainer.py - Best checkpoint overriden: validation mAP@0.50: 0.929205060005188\n"
          ]
        },
        {
          "metadata": {
            "tags": null
          },
          "name": "stdout",
          "output_type": "stream",
          "text": [
            "===========================================================\n",
            "SUMMARY OF EPOCH 38\n",
            "├── Train\n",
            "│   ├── Ppyoloeloss/loss_cls = 0.9048\n",
            "│   │   ├── Epoch N-1      = 0.9058 (\u001b[32m↘ -0.0011\u001b[0m)\n",
            "│   │   └── Best until now = 0.8778 (\u001b[31m↗ 0.027\u001b[0m)\n",
            "│   ├── Ppyoloeloss/loss_iou = 0.4635\n",
            "│   │   ├── Epoch N-1      = 0.4364 (\u001b[31m↗ 0.0272\u001b[0m)\n",
            "│   │   └── Best until now = 0.4364 (\u001b[31m↗ 0.0272\u001b[0m)\n",
            "│   ├── Ppyoloeloss/loss_dfl = 0.5764\n",
            "│   │   ├── Epoch N-1      = 0.5619 (\u001b[31m↗ 0.0145\u001b[0m)\n",
            "│   │   └── Best until now = 0.5619 (\u001b[31m↗ 0.0145\u001b[0m)\n",
            "│   └── Ppyoloeloss/loss = 1.9447\n",
            "│       ├── Epoch N-1      = 1.9041 (\u001b[31m↗ 0.0406\u001b[0m)\n",
            "│       └── Best until now = 1.9041 (\u001b[31m↗ 0.0406\u001b[0m)\n",
            "└── Validation\n",
            "    ├── Ppyoloeloss/loss_cls = 0.8047\n",
            "    │   ├── Epoch N-1      = 0.8711 (\u001b[32m↘ -0.0664\u001b[0m)\n",
            "    │   └── Best until now = 0.7622 (\u001b[31m↗ 0.0425\u001b[0m)\n",
            "    ├── Ppyoloeloss/loss_iou = 0.426\n",
            "    │   ├── Epoch N-1      = 0.406  (\u001b[31m↗ 0.02\u001b[0m)\n",
            "    │   └── Best until now = 0.3866 (\u001b[31m↗ 0.0393\u001b[0m)\n",
            "    ├── Ppyoloeloss/loss_dfl = 0.5826\n",
            "    │   ├── Epoch N-1      = 0.5747 (\u001b[31m↗ 0.008\u001b[0m)\n",
            "    │   └── Best until now = 0.5413 (\u001b[31m↗ 0.0413\u001b[0m)\n",
            "    ├── Ppyoloeloss/loss = 1.8133\n",
            "    │   ├── Epoch N-1      = 1.8518 (\u001b[32m↘ -0.0385\u001b[0m)\n",
            "    │   └── Best until now = 1.7074 (\u001b[31m↗ 0.1059\u001b[0m)\n",
            "    ├── Precision@0.50 = 0.0327\n",
            "    │   ├── Epoch N-1      = 0.0334 (\u001b[31m↘ -0.0008\u001b[0m)\n",
            "    │   └── Best until now = 0.067  (\u001b[31m↘ -0.0343\u001b[0m)\n",
            "    ├── Recall@0.50 = 0.9677\n",
            "    │   ├── Epoch N-1      = 0.9677 (\u001b[37m= 0.0\u001b[0m)\n",
            "    │   └── Best until now = 0.9839 (\u001b[31m↘ -0.0161\u001b[0m)\n",
            "    ├── Map@0.50 = 0.9292\n",
            "    │   ├── Epoch N-1      = 0.8562 (\u001b[32m↗ 0.073\u001b[0m)\n",
            "    │   └── Best until now = 0.9201 (\u001b[32m↗ 0.0091\u001b[0m)\n",
            "    └── F1@0.50 = 0.0632\n",
            "        ├── Epoch N-1      = 0.0646 (\u001b[31m↘ -0.0014\u001b[0m)\n",
            "        └── Best until now = 0.1251 (\u001b[31m↘ -0.0619\u001b[0m)\n",
            "\n",
            "===========================================================\n"
          ]
        },
        {
          "metadata": {
            "tags": null
          },
          "name": "stderr",
          "output_type": "stream",
          "text": [
            "Train epoch 39: 100%|██████████| 26/26 [00:17<00:00,  1.49it/s, PPYoloELoss/loss=1.91, PPYoloELoss/loss_cls=0.884, PPYoloELoss/loss_dfl=0.567, PPYoloELoss/loss_iou=0.458, gpu_mem=6.83]\n",
            "Validating epoch 39: 100%|██████████| 8/8 [00:02<00:00,  2.70it/s]\n"
          ]
        },
        {
          "metadata": {
            "tags": null
          },
          "name": "stdout",
          "output_type": "stream",
          "text": [
            "===========================================================\n",
            "SUMMARY OF EPOCH 39\n",
            "├── Train\n",
            "│   ├── Ppyoloeloss/loss_cls = 0.8843\n",
            "│   │   ├── Epoch N-1      = 0.9048 (\u001b[32m↘ -0.0205\u001b[0m)\n",
            "│   │   └── Best until now = 0.8778 (\u001b[31m↗ 0.0065\u001b[0m)\n",
            "│   ├── Ppyoloeloss/loss_iou = 0.4584\n",
            "│   │   ├── Epoch N-1      = 0.4635 (\u001b[32m↘ -0.0052\u001b[0m)\n",
            "│   │   └── Best until now = 0.4364 (\u001b[31m↗ 0.022\u001b[0m)\n",
            "│   ├── Ppyoloeloss/loss_dfl = 0.5669\n",
            "│   │   ├── Epoch N-1      = 0.5764 (\u001b[32m↘ -0.0094\u001b[0m)\n",
            "│   │   └── Best until now = 0.5619 (\u001b[31m↗ 0.0051\u001b[0m)\n",
            "│   └── Ppyoloeloss/loss = 1.9096\n",
            "│       ├── Epoch N-1      = 1.9447 (\u001b[32m↘ -0.0351\u001b[0m)\n",
            "│       └── Best until now = 1.9041 (\u001b[31m↗ 0.0055\u001b[0m)\n",
            "└── Validation\n",
            "    ├── Ppyoloeloss/loss_cls = 0.7726\n",
            "    │   ├── Epoch N-1      = 0.8047 (\u001b[32m↘ -0.0321\u001b[0m)\n",
            "    │   └── Best until now = 0.7622 (\u001b[31m↗ 0.0104\u001b[0m)\n",
            "    ├── Ppyoloeloss/loss_iou = 0.4158\n",
            "    │   ├── Epoch N-1      = 0.426  (\u001b[32m↘ -0.0102\u001b[0m)\n",
            "    │   └── Best until now = 0.3866 (\u001b[31m↗ 0.0291\u001b[0m)\n",
            "    ├── Ppyoloeloss/loss_dfl = 0.5645\n",
            "    │   ├── Epoch N-1      = 0.5826 (\u001b[32m↘ -0.0181\u001b[0m)\n",
            "    │   └── Best until now = 0.5413 (\u001b[31m↗ 0.0232\u001b[0m)\n",
            "    ├── Ppyoloeloss/loss = 1.7529\n",
            "    │   ├── Epoch N-1      = 1.8133 (\u001b[32m↘ -0.0604\u001b[0m)\n",
            "    │   └── Best until now = 1.7074 (\u001b[31m↗ 0.0455\u001b[0m)\n",
            "    ├── Precision@0.50 = 0.0482\n",
            "    │   ├── Epoch N-1      = 0.0327 (\u001b[32m↗ 0.0156\u001b[0m)\n",
            "    │   └── Best until now = 0.067  (\u001b[31m↘ -0.0187\u001b[0m)\n",
            "    ├── Recall@0.50 = 0.9677\n",
            "    │   ├── Epoch N-1      = 0.9677 (\u001b[37m= 0.0\u001b[0m)\n",
            "    │   └── Best until now = 0.9839 (\u001b[31m↘ -0.0161\u001b[0m)\n",
            "    ├── Map@0.50 = 0.9135\n",
            "    │   ├── Epoch N-1      = 0.9292 (\u001b[31m↘ -0.0157\u001b[0m)\n",
            "    │   └── Best until now = 0.9292 (\u001b[31m↘ -0.0157\u001b[0m)\n",
            "    └── F1@0.50 = 0.0919\n",
            "        ├── Epoch N-1      = 0.0632 (\u001b[32m↗ 0.0287\u001b[0m)\n",
            "        └── Best until now = 0.1251 (\u001b[31m↘ -0.0332\u001b[0m)\n",
            "\n",
            "===========================================================\n"
          ]
        },
        {
          "metadata": {
            "tags": null
          },
          "name": "stderr",
          "output_type": "stream",
          "text": [
            "Train epoch 40: 100%|██████████| 26/26 [00:17<00:00,  1.45it/s, PPYoloELoss/loss=1.88, PPYoloELoss/loss_cls=0.866, PPYoloELoss/loss_dfl=0.565, PPYoloELoss/loss_iou=0.445, gpu_mem=6.84]\n",
            "Validating epoch 40: 100%|██████████| 8/8 [00:03<00:00,  2.51it/s]\n"
          ]
        },
        {
          "metadata": {
            "tags": null
          },
          "name": "stdout",
          "output_type": "stream",
          "text": [
            "===========================================================\n",
            "SUMMARY OF EPOCH 40\n",
            "├── Train\n",
            "│   ├── Ppyoloeloss/loss_cls = 0.8661\n",
            "│   │   ├── Epoch N-1      = 0.8843 (\u001b[32m↘ -0.0182\u001b[0m)\n",
            "│   │   └── Best until now = 0.8778 (\u001b[32m↘ -0.0117\u001b[0m)\n",
            "│   ├── Ppyoloeloss/loss_iou = 0.4449\n",
            "│   │   ├── Epoch N-1      = 0.4584 (\u001b[32m↘ -0.0135\u001b[0m)\n",
            "│   │   └── Best until now = 0.4364 (\u001b[31m↗ 0.0085\u001b[0m)\n",
            "│   ├── Ppyoloeloss/loss_dfl = 0.565\n",
            "│   │   ├── Epoch N-1      = 0.5669 (\u001b[32m↘ -0.0019\u001b[0m)\n",
            "│   │   └── Best until now = 0.5619 (\u001b[31m↗ 0.0031\u001b[0m)\n",
            "│   └── Ppyoloeloss/loss = 1.876\n",
            "│       ├── Epoch N-1      = 1.9096 (\u001b[32m↘ -0.0336\u001b[0m)\n",
            "│       └── Best until now = 1.9041 (\u001b[32m↘ -0.0281\u001b[0m)\n",
            "└── Validation\n",
            "    ├── Ppyoloeloss/loss_cls = 0.7948\n",
            "    │   ├── Epoch N-1      = 0.7726 (\u001b[31m↗ 0.0221\u001b[0m)\n",
            "    │   └── Best until now = 0.7622 (\u001b[31m↗ 0.0325\u001b[0m)\n",
            "    ├── Ppyoloeloss/loss_iou = 0.421\n",
            "    │   ├── Epoch N-1      = 0.4158 (\u001b[31m↗ 0.0052\u001b[0m)\n",
            "    │   └── Best until now = 0.3866 (\u001b[31m↗ 0.0343\u001b[0m)\n",
            "    ├── Ppyoloeloss/loss_dfl = 0.5839\n",
            "    │   ├── Epoch N-1      = 0.5645 (\u001b[31m↗ 0.0194\u001b[0m)\n",
            "    │   └── Best until now = 0.5413 (\u001b[31m↗ 0.0425\u001b[0m)\n",
            "    ├── Ppyoloeloss/loss = 1.7996\n",
            "    │   ├── Epoch N-1      = 1.7529 (\u001b[31m↗ 0.0467\u001b[0m)\n",
            "    │   └── Best until now = 1.7074 (\u001b[31m↗ 0.0922\u001b[0m)\n",
            "    ├── Precision@0.50 = 0.0382\n",
            "    │   ├── Epoch N-1      = 0.0482 (\u001b[31m↘ -0.01\u001b[0m)\n",
            "    │   └── Best until now = 0.067  (\u001b[31m↘ -0.0288\u001b[0m)\n",
            "    ├── Recall@0.50 = 0.9677\n",
            "    │   ├── Epoch N-1      = 0.9677 (\u001b[37m= 0.0\u001b[0m)\n",
            "    │   └── Best until now = 0.9839 (\u001b[31m↘ -0.0161\u001b[0m)\n",
            "    ├── Map@0.50 = 0.9128\n",
            "    │   ├── Epoch N-1      = 0.9135 (\u001b[31m↘ -0.0007\u001b[0m)\n",
            "    │   └── Best until now = 0.9292 (\u001b[31m↘ -0.0164\u001b[0m)\n",
            "    └── F1@0.50 = 0.0735\n",
            "        ├── Epoch N-1      = 0.0919 (\u001b[31m↘ -0.0184\u001b[0m)\n",
            "        └── Best until now = 0.1251 (\u001b[31m↘ -0.0516\u001b[0m)\n",
            "\n",
            "===========================================================\n"
          ]
        },
        {
          "metadata": {
            "tags": null
          },
          "name": "stderr",
          "output_type": "stream",
          "text": [
            "Train epoch 41: 100%|██████████| 26/26 [00:17<00:00,  1.50it/s, PPYoloELoss/loss=1.89, PPYoloELoss/loss_cls=0.866, PPYoloELoss/loss_dfl=0.571, PPYoloELoss/loss_iou=0.454, gpu_mem=6.83]\n",
            "Validating epoch 41: 100%|██████████| 8/8 [00:03<00:00,  2.62it/s]\n",
            "[2023-12-14 15:56:47] INFO - base_sg_logger.py - Checkpoint saved in ./checkpoints/csilab-braintumor-detection/RUN_20231214_144702_032990/ckpt_best.pth\n",
            "[2023-12-14 15:56:47] INFO - sg_trainer.py - Best checkpoint overriden: validation mAP@0.50: 0.9320336580276489\n"
          ]
        },
        {
          "metadata": {
            "tags": null
          },
          "name": "stdout",
          "output_type": "stream",
          "text": [
            "===========================================================\n",
            "SUMMARY OF EPOCH 41\n",
            "├── Train\n",
            "│   ├── Ppyoloeloss/loss_cls = 0.8658\n",
            "│   │   ├── Epoch N-1      = 0.8661 (\u001b[32m↘ -0.0003\u001b[0m)\n",
            "│   │   └── Best until now = 0.8661 (\u001b[32m↘ -0.0003\u001b[0m)\n",
            "│   ├── Ppyoloeloss/loss_iou = 0.454\n",
            "│   │   ├── Epoch N-1      = 0.4449 (\u001b[31m↗ 0.0092\u001b[0m)\n",
            "│   │   └── Best until now = 0.4364 (\u001b[31m↗ 0.0176\u001b[0m)\n",
            "│   ├── Ppyoloeloss/loss_dfl = 0.5714\n",
            "│   │   ├── Epoch N-1      = 0.565  (\u001b[31m↗ 0.0064\u001b[0m)\n",
            "│   │   └── Best until now = 0.5619 (\u001b[31m↗ 0.0095\u001b[0m)\n",
            "│   └── Ppyoloeloss/loss = 1.8912\n",
            "│       ├── Epoch N-1      = 1.876  (\u001b[31m↗ 0.0152\u001b[0m)\n",
            "│       └── Best until now = 1.876  (\u001b[31m↗ 0.0152\u001b[0m)\n",
            "└── Validation\n",
            "    ├── Ppyoloeloss/loss_cls = 0.8965\n",
            "    │   ├── Epoch N-1      = 0.7948 (\u001b[31m↗ 0.1017\u001b[0m)\n",
            "    │   └── Best until now = 0.7622 (\u001b[31m↗ 0.1342\u001b[0m)\n",
            "    ├── Ppyoloeloss/loss_iou = 0.4171\n",
            "    │   ├── Epoch N-1      = 0.421  (\u001b[32m↘ -0.0039\u001b[0m)\n",
            "    │   └── Best until now = 0.3866 (\u001b[31m↗ 0.0305\u001b[0m)\n",
            "    ├── Ppyoloeloss/loss_dfl = 0.5757\n",
            "    │   ├── Epoch N-1      = 0.5839 (\u001b[32m↘ -0.0081\u001b[0m)\n",
            "    │   └── Best until now = 0.5413 (\u001b[31m↗ 0.0344\u001b[0m)\n",
            "    ├── Ppyoloeloss/loss = 1.8893\n",
            "    │   ├── Epoch N-1      = 1.7996 (\u001b[31m↗ 0.0897\u001b[0m)\n",
            "    │   └── Best until now = 1.7074 (\u001b[31m↗ 0.1819\u001b[0m)\n",
            "    ├── Precision@0.50 = 0.022\n",
            "    │   ├── Epoch N-1      = 0.0382 (\u001b[31m↘ -0.0162\u001b[0m)\n",
            "    │   └── Best until now = 0.067  (\u001b[31m↘ -0.045\u001b[0m)\n",
            "    ├── Recall@0.50 = 0.9677\n",
            "    │   ├── Epoch N-1      = 0.9677 (\u001b[37m= 0.0\u001b[0m)\n",
            "    │   └── Best until now = 0.9839 (\u001b[31m↘ -0.0161\u001b[0m)\n",
            "    ├── Map@0.50 = 0.932\n",
            "    │   ├── Epoch N-1      = 0.9128 (\u001b[32m↗ 0.0192\u001b[0m)\n",
            "    │   └── Best until now = 0.9292 (\u001b[32m↗ 0.0028\u001b[0m)\n",
            "    └── F1@0.50 = 0.043\n",
            "        ├── Epoch N-1      = 0.0735 (\u001b[31m↘ -0.0305\u001b[0m)\n",
            "        └── Best until now = 0.1251 (\u001b[31m↘ -0.0822\u001b[0m)\n",
            "\n",
            "===========================================================\n"
          ]
        },
        {
          "metadata": {
            "tags": null
          },
          "name": "stderr",
          "output_type": "stream",
          "text": [
            "Train epoch 42: 100%|██████████| 26/26 [00:17<00:00,  1.48it/s, PPYoloELoss/loss=1.89, PPYoloELoss/loss_cls=0.891, PPYoloELoss/loss_dfl=0.559, PPYoloELoss/loss_iou=0.443, gpu_mem=6.83]\n",
            "Validating epoch 42: 100%|██████████| 8/8 [00:02<00:00,  2.72it/s]\n"
          ]
        },
        {
          "metadata": {
            "tags": null
          },
          "name": "stdout",
          "output_type": "stream",
          "text": [
            "===========================================================\n",
            "SUMMARY OF EPOCH 42\n",
            "├── Train\n",
            "│   ├── Ppyoloeloss/loss_cls = 0.891\n",
            "│   │   ├── Epoch N-1      = 0.8658 (\u001b[31m↗ 0.0251\u001b[0m)\n",
            "│   │   └── Best until now = 0.8658 (\u001b[31m↗ 0.0251\u001b[0m)\n",
            "│   ├── Ppyoloeloss/loss_iou = 0.4434\n",
            "│   │   ├── Epoch N-1      = 0.454  (\u001b[32m↘ -0.0107\u001b[0m)\n",
            "│   │   └── Best until now = 0.4364 (\u001b[31m↗ 0.007\u001b[0m)\n",
            "│   ├── Ppyoloeloss/loss_dfl = 0.5585\n",
            "│   │   ├── Epoch N-1      = 0.5714 (\u001b[32m↘ -0.0129\u001b[0m)\n",
            "│   │   └── Best until now = 0.5619 (\u001b[32m↘ -0.0034\u001b[0m)\n",
            "│   └── Ppyoloeloss/loss = 1.8928\n",
            "│       ├── Epoch N-1      = 1.8912 (\u001b[31m↗ 0.0016\u001b[0m)\n",
            "│       └── Best until now = 1.876  (\u001b[31m↗ 0.0168\u001b[0m)\n",
            "└── Validation\n",
            "    ├── Ppyoloeloss/loss_cls = 0.9057\n",
            "    │   ├── Epoch N-1      = 0.8965 (\u001b[31m↗ 0.0092\u001b[0m)\n",
            "    │   └── Best until now = 0.7622 (\u001b[31m↗ 0.1434\u001b[0m)\n",
            "    ├── Ppyoloeloss/loss_iou = 0.3984\n",
            "    │   ├── Epoch N-1      = 0.4171 (\u001b[32m↘ -0.0188\u001b[0m)\n",
            "    │   └── Best until now = 0.3866 (\u001b[31m↗ 0.0117\u001b[0m)\n",
            "    ├── Ppyoloeloss/loss_dfl = 0.5607\n",
            "    │   ├── Epoch N-1      = 0.5757 (\u001b[32m↘ -0.015\u001b[0m)\n",
            "    │   └── Best until now = 0.5413 (\u001b[31m↗ 0.0194\u001b[0m)\n",
            "    ├── Ppyoloeloss/loss = 1.8647\n",
            "    │   ├── Epoch N-1      = 1.8893 (\u001b[32m↘ -0.0246\u001b[0m)\n",
            "    │   └── Best until now = 1.7074 (\u001b[31m↗ 0.1573\u001b[0m)\n",
            "    ├── Precision@0.50 = 0.0211\n",
            "    │   ├── Epoch N-1      = 0.022  (\u001b[31m↘ -0.0009\u001b[0m)\n",
            "    │   └── Best until now = 0.067  (\u001b[31m↘ -0.0458\u001b[0m)\n",
            "    ├── Recall@0.50 = 0.9677\n",
            "    │   ├── Epoch N-1      = 0.9677 (\u001b[37m= 0.0\u001b[0m)\n",
            "    │   └── Best until now = 0.9839 (\u001b[31m↘ -0.0161\u001b[0m)\n",
            "    ├── Map@0.50 = 0.8462\n",
            "    │   ├── Epoch N-1      = 0.932  (\u001b[31m↘ -0.0858\u001b[0m)\n",
            "    │   └── Best until now = 0.932  (\u001b[31m↘ -0.0858\u001b[0m)\n",
            "    └── F1@0.50 = 0.0414\n",
            "        ├── Epoch N-1      = 0.043  (\u001b[31m↘ -0.0016\u001b[0m)\n",
            "        └── Best until now = 0.1251 (\u001b[31m↘ -0.0838\u001b[0m)\n",
            "\n",
            "===========================================================\n"
          ]
        },
        {
          "metadata": {
            "tags": null
          },
          "name": "stderr",
          "output_type": "stream",
          "text": [
            "Train epoch 43: 100%|██████████| 26/26 [00:17<00:00,  1.51it/s, PPYoloELoss/loss=1.95, PPYoloELoss/loss_cls=0.883, PPYoloELoss/loss_dfl=0.595, PPYoloELoss/loss_iou=0.469, gpu_mem=6.83]\n",
            "Validating epoch 43: 100%|██████████| 8/8 [00:02<00:00,  2.68it/s]\n"
          ]
        },
        {
          "metadata": {
            "tags": null
          },
          "name": "stdout",
          "output_type": "stream",
          "text": [
            "===========================================================\n",
            "SUMMARY OF EPOCH 43\n",
            "├── Train\n",
            "│   ├── Ppyoloeloss/loss_cls = 0.883\n",
            "│   │   ├── Epoch N-1      = 0.891  (\u001b[32m↘ -0.0079\u001b[0m)\n",
            "│   │   └── Best until now = 0.8658 (\u001b[31m↗ 0.0172\u001b[0m)\n",
            "│   ├── Ppyoloeloss/loss_iou = 0.4693\n",
            "│   │   ├── Epoch N-1      = 0.4434 (\u001b[31m↗ 0.0259\u001b[0m)\n",
            "│   │   └── Best until now = 0.4364 (\u001b[31m↗ 0.0329\u001b[0m)\n",
            "│   ├── Ppyoloeloss/loss_dfl = 0.5949\n",
            "│   │   ├── Epoch N-1      = 0.5585 (\u001b[31m↗ 0.0364\u001b[0m)\n",
            "│   │   └── Best until now = 0.5585 (\u001b[31m↗ 0.0364\u001b[0m)\n",
            "│   └── Ppyoloeloss/loss = 1.9472\n",
            "│       ├── Epoch N-1      = 1.8928 (\u001b[31m↗ 0.0544\u001b[0m)\n",
            "│       └── Best until now = 1.876  (\u001b[31m↗ 0.0713\u001b[0m)\n",
            "└── Validation\n",
            "    ├── Ppyoloeloss/loss_cls = 0.7773\n",
            "    │   ├── Epoch N-1      = 0.9057 (\u001b[32m↘ -0.1284\u001b[0m)\n",
            "    │   └── Best until now = 0.7622 (\u001b[31m↗ 0.015\u001b[0m)\n",
            "    ├── Ppyoloeloss/loss_iou = 0.4321\n",
            "    │   ├── Epoch N-1      = 0.3984 (\u001b[31m↗ 0.0337\u001b[0m)\n",
            "    │   └── Best until now = 0.3866 (\u001b[31m↗ 0.0454\u001b[0m)\n",
            "    ├── Ppyoloeloss/loss_dfl = 0.5883\n",
            "    │   ├── Epoch N-1      = 0.5607 (\u001b[31m↗ 0.0276\u001b[0m)\n",
            "    │   └── Best until now = 0.5413 (\u001b[31m↗ 0.0469\u001b[0m)\n",
            "    ├── Ppyoloeloss/loss = 1.7976\n",
            "    │   ├── Epoch N-1      = 1.8647 (\u001b[32m↘ -0.0671\u001b[0m)\n",
            "    │   └── Best until now = 1.7074 (\u001b[31m↗ 0.0902\u001b[0m)\n",
            "    ├── Precision@0.50 = 0.0795\n",
            "    │   ├── Epoch N-1      = 0.0211 (\u001b[32m↗ 0.0583\u001b[0m)\n",
            "    │   └── Best until now = 0.067  (\u001b[32m↗ 0.0125\u001b[0m)\n",
            "    ├── Recall@0.50 = 0.9677\n",
            "    │   ├── Epoch N-1      = 0.9677 (\u001b[37m= 0.0\u001b[0m)\n",
            "    │   └── Best until now = 0.9839 (\u001b[31m↘ -0.0161\u001b[0m)\n",
            "    ├── Map@0.50 = 0.9127\n",
            "    │   ├── Epoch N-1      = 0.8462 (\u001b[32m↗ 0.0665\u001b[0m)\n",
            "    │   └── Best until now = 0.932  (\u001b[31m↘ -0.0194\u001b[0m)\n",
            "    └── F1@0.50 = 0.1469\n",
            "        ├── Epoch N-1      = 0.0414 (\u001b[32m↗ 0.1055\u001b[0m)\n",
            "        └── Best until now = 0.1251 (\u001b[32m↗ 0.0217\u001b[0m)\n",
            "\n",
            "===========================================================\n"
          ]
        },
        {
          "metadata": {
            "tags": null
          },
          "name": "stderr",
          "output_type": "stream",
          "text": [
            "Train epoch 44: 100%|██████████| 26/26 [00:18<00:00,  1.44it/s, PPYoloELoss/loss=1.93, PPYoloELoss/loss_cls=0.894, PPYoloELoss/loss_dfl=0.575, PPYoloELoss/loss_iou=0.457, gpu_mem=6.83]\n",
            "Validating epoch 44: 100%|██████████| 8/8 [00:02<00:00,  2.69it/s]\n"
          ]
        },
        {
          "metadata": {
            "tags": null
          },
          "name": "stdout",
          "output_type": "stream",
          "text": [
            "===========================================================\n",
            "SUMMARY OF EPOCH 44\n",
            "├── Train\n",
            "│   ├── Ppyoloeloss/loss_cls = 0.8942\n",
            "│   │   ├── Epoch N-1      = 0.883  (\u001b[31m↗ 0.0111\u001b[0m)\n",
            "│   │   └── Best until now = 0.8658 (\u001b[31m↗ 0.0284\u001b[0m)\n",
            "│   ├── Ppyoloeloss/loss_iou = 0.4575\n",
            "│   │   ├── Epoch N-1      = 0.4693 (\u001b[32m↘ -0.0118\u001b[0m)\n",
            "│   │   └── Best until now = 0.4364 (\u001b[31m↗ 0.0211\u001b[0m)\n",
            "│   ├── Ppyoloeloss/loss_dfl = 0.5749\n",
            "│   │   ├── Epoch N-1      = 0.5949 (\u001b[32m↘ -0.0201\u001b[0m)\n",
            "│   │   └── Best until now = 0.5585 (\u001b[31m↗ 0.0163\u001b[0m)\n",
            "│   └── Ppyoloeloss/loss = 1.9265\n",
            "│       ├── Epoch N-1      = 1.9472 (\u001b[32m↘ -0.0207\u001b[0m)\n",
            "│       └── Best until now = 1.876  (\u001b[31m↗ 0.0505\u001b[0m)\n",
            "└── Validation\n",
            "    ├── Ppyoloeloss/loss_cls = 0.7825\n",
            "    │   ├── Epoch N-1      = 0.7773 (\u001b[31m↗ 0.0053\u001b[0m)\n",
            "    │   └── Best until now = 0.7622 (\u001b[31m↗ 0.0203\u001b[0m)\n",
            "    ├── Ppyoloeloss/loss_iou = 0.4192\n",
            "    │   ├── Epoch N-1      = 0.4321 (\u001b[32m↘ -0.0129\u001b[0m)\n",
            "    │   └── Best until now = 0.3866 (\u001b[31m↗ 0.0325\u001b[0m)\n",
            "    ├── Ppyoloeloss/loss_dfl = 0.5765\n",
            "    │   ├── Epoch N-1      = 0.5883 (\u001b[32m↘ -0.0118\u001b[0m)\n",
            "    │   └── Best until now = 0.5413 (\u001b[31m↗ 0.0352\u001b[0m)\n",
            "    ├── Ppyoloeloss/loss = 1.7782\n",
            "    │   ├── Epoch N-1      = 1.7976 (\u001b[32m↘ -0.0194\u001b[0m)\n",
            "    │   └── Best until now = 1.7074 (\u001b[31m↗ 0.0708\u001b[0m)\n",
            "    ├── Precision@0.50 = 0.0813\n",
            "    │   ├── Epoch N-1      = 0.0795 (\u001b[32m↗ 0.0018\u001b[0m)\n",
            "    │   └── Best until now = 0.0795 (\u001b[32m↗ 0.0018\u001b[0m)\n",
            "    ├── Recall@0.50 = 0.9677\n",
            "    │   ├── Epoch N-1      = 0.9677 (\u001b[37m= 0.0\u001b[0m)\n",
            "    │   └── Best until now = 0.9839 (\u001b[31m↘ -0.0161\u001b[0m)\n",
            "    ├── Map@0.50 = 0.9226\n",
            "    │   ├── Epoch N-1      = 0.9127 (\u001b[32m↗ 0.0099\u001b[0m)\n",
            "    │   └── Best until now = 0.932  (\u001b[31m↘ -0.0095\u001b[0m)\n",
            "    └── F1@0.50 = 0.15\n",
            "        ├── Epoch N-1      = 0.1469 (\u001b[32m↗ 0.0031\u001b[0m)\n",
            "        └── Best until now = 0.1469 (\u001b[32m↗ 0.0031\u001b[0m)\n",
            "\n",
            "===========================================================\n"
          ]
        },
        {
          "metadata": {
            "tags": null
          },
          "name": "stderr",
          "output_type": "stream",
          "text": [
            "Train epoch 45: 100%|██████████| 26/26 [00:17<00:00,  1.47it/s, PPYoloELoss/loss=1.9, PPYoloELoss/loss_cls=0.884, PPYoloELoss/loss_dfl=0.569, PPYoloELoss/loss_iou=0.448, gpu_mem=6.83]\n",
            "Validating epoch 45: 100%|██████████| 8/8 [00:03<00:00,  2.56it/s]\n"
          ]
        },
        {
          "metadata": {
            "tags": null
          },
          "name": "stdout",
          "output_type": "stream",
          "text": [
            "===========================================================\n",
            "SUMMARY OF EPOCH 45\n",
            "├── Train\n",
            "│   ├── Ppyoloeloss/loss_cls = 0.8844\n",
            "│   │   ├── Epoch N-1      = 0.8942 (\u001b[32m↘ -0.0098\u001b[0m)\n",
            "│   │   └── Best until now = 0.8658 (\u001b[31m↗ 0.0186\u001b[0m)\n",
            "│   ├── Ppyoloeloss/loss_iou = 0.4479\n",
            "│   │   ├── Epoch N-1      = 0.4575 (\u001b[32m↘ -0.0096\u001b[0m)\n",
            "│   │   └── Best until now = 0.4364 (\u001b[31m↗ 0.0115\u001b[0m)\n",
            "│   ├── Ppyoloeloss/loss_dfl = 0.5694\n",
            "│   │   ├── Epoch N-1      = 0.5749 (\u001b[32m↘ -0.0054\u001b[0m)\n",
            "│   │   └── Best until now = 0.5585 (\u001b[31m↗ 0.0109\u001b[0m)\n",
            "│   └── Ppyoloeloss/loss = 1.9017\n",
            "│       ├── Epoch N-1      = 1.9265 (\u001b[32m↘ -0.0247\u001b[0m)\n",
            "│       └── Best until now = 1.876  (\u001b[31m↗ 0.0258\u001b[0m)\n",
            "└── Validation\n",
            "    ├── Ppyoloeloss/loss_cls = 0.8048\n",
            "    │   ├── Epoch N-1      = 0.7825 (\u001b[31m↗ 0.0222\u001b[0m)\n",
            "    │   └── Best until now = 0.7622 (\u001b[31m↗ 0.0425\u001b[0m)\n",
            "    ├── Ppyoloeloss/loss_iou = 0.4317\n",
            "    │   ├── Epoch N-1      = 0.4192 (\u001b[31m↗ 0.0126\u001b[0m)\n",
            "    │   └── Best until now = 0.3866 (\u001b[31m↗ 0.0451\u001b[0m)\n",
            "    ├── Ppyoloeloss/loss_dfl = 0.5926\n",
            "    │   ├── Epoch N-1      = 0.5765 (\u001b[31m↗ 0.016\u001b[0m)\n",
            "    │   └── Best until now = 0.5413 (\u001b[31m↗ 0.0512\u001b[0m)\n",
            "    ├── Ppyoloeloss/loss = 1.8291\n",
            "    │   ├── Epoch N-1      = 1.7782 (\u001b[31m↗ 0.0509\u001b[0m)\n",
            "    │   └── Best until now = 1.7074 (\u001b[31m↗ 0.1216\u001b[0m)\n",
            "    ├── Precision@0.50 = 0.0675\n",
            "    │   ├── Epoch N-1      = 0.0813 (\u001b[31m↘ -0.0138\u001b[0m)\n",
            "    │   └── Best until now = 0.0813 (\u001b[31m↘ -0.0138\u001b[0m)\n",
            "    ├── Recall@0.50 = 0.9677\n",
            "    │   ├── Epoch N-1      = 0.9677 (\u001b[37m= 0.0\u001b[0m)\n",
            "    │   └── Best until now = 0.9839 (\u001b[31m↘ -0.0161\u001b[0m)\n",
            "    ├── Map@0.50 = 0.8996\n",
            "    │   ├── Epoch N-1      = 0.9226 (\u001b[31m↘ -0.023\u001b[0m)\n",
            "    │   └── Best until now = 0.932  (\u001b[31m↘ -0.0325\u001b[0m)\n",
            "    └── F1@0.50 = 0.1262\n",
            "        ├── Epoch N-1      = 0.15   (\u001b[31m↘ -0.0238\u001b[0m)\n",
            "        └── Best until now = 0.15   (\u001b[31m↘ -0.0238\u001b[0m)\n",
            "\n",
            "===========================================================\n"
          ]
        },
        {
          "metadata": {
            "tags": null
          },
          "name": "stderr",
          "output_type": "stream",
          "text": [
            "Train epoch 46: 100%|██████████| 26/26 [00:18<00:00,  1.44it/s, PPYoloELoss/loss=1.89, PPYoloELoss/loss_cls=0.873, PPYoloELoss/loss_dfl=0.565, PPYoloELoss/loss_iou=0.45, gpu_mem=6.84]\n",
            "Validating epoch 46: 100%|██████████| 8/8 [00:02<00:00,  2.67it/s]\n"
          ]
        },
        {
          "metadata": {
            "tags": null
          },
          "name": "stdout",
          "output_type": "stream",
          "text": [
            "===========================================================\n",
            "SUMMARY OF EPOCH 46\n",
            "├── Train\n",
            "│   ├── Ppyoloeloss/loss_cls = 0.8726\n",
            "│   │   ├── Epoch N-1      = 0.8844 (\u001b[32m↘ -0.0118\u001b[0m)\n",
            "│   │   └── Best until now = 0.8658 (\u001b[31m↗ 0.0068\u001b[0m)\n",
            "│   ├── Ppyoloeloss/loss_iou = 0.4499\n",
            "│   │   ├── Epoch N-1      = 0.4479 (\u001b[31m↗ 0.002\u001b[0m)\n",
            "│   │   └── Best until now = 0.4364 (\u001b[31m↗ 0.0135\u001b[0m)\n",
            "│   ├── Ppyoloeloss/loss_dfl = 0.5654\n",
            "│   │   ├── Epoch N-1      = 0.5694 (\u001b[32m↘ -0.004\u001b[0m)\n",
            "│   │   └── Best until now = 0.5585 (\u001b[31m↗ 0.0069\u001b[0m)\n",
            "│   └── Ppyoloeloss/loss = 1.8879\n",
            "│       ├── Epoch N-1      = 1.9017 (\u001b[32m↘ -0.0138\u001b[0m)\n",
            "│       └── Best until now = 1.876  (\u001b[31m↗ 0.0119\u001b[0m)\n",
            "└── Validation\n",
            "    ├── Ppyoloeloss/loss_cls = 0.8328\n",
            "    │   ├── Epoch N-1      = 0.8048 (\u001b[31m↗ 0.028\u001b[0m)\n",
            "    │   └── Best until now = 0.7622 (\u001b[31m↗ 0.0706\u001b[0m)\n",
            "    ├── Ppyoloeloss/loss_iou = 0.4059\n",
            "    │   ├── Epoch N-1      = 0.4317 (\u001b[32m↘ -0.0258\u001b[0m)\n",
            "    │   └── Best until now = 0.3866 (\u001b[31m↗ 0.0192\u001b[0m)\n",
            "    ├── Ppyoloeloss/loss_dfl = 0.5713\n",
            "    │   ├── Epoch N-1      = 0.5926 (\u001b[32m↘ -0.0212\u001b[0m)\n",
            "    │   └── Best until now = 0.5413 (\u001b[31m↗ 0.03\u001b[0m)\n",
            "    ├── Ppyoloeloss/loss = 1.81\n",
            "    │   ├── Epoch N-1      = 1.8291 (\u001b[32m↘ -0.019\u001b[0m)\n",
            "    │   └── Best until now = 1.7074 (\u001b[31m↗ 0.1026\u001b[0m)\n",
            "    ├── Precision@0.50 = 0.0347\n",
            "    │   ├── Epoch N-1      = 0.0675 (\u001b[31m↘ -0.0328\u001b[0m)\n",
            "    │   └── Best until now = 0.0813 (\u001b[31m↘ -0.0466\u001b[0m)\n",
            "    ├── Recall@0.50 = 0.9677\n",
            "    │   ├── Epoch N-1      = 0.9677 (\u001b[37m= 0.0\u001b[0m)\n",
            "    │   └── Best until now = 0.9839 (\u001b[31m↘ -0.0161\u001b[0m)\n",
            "    ├── Map@0.50 = 0.9012\n",
            "    │   ├── Epoch N-1      = 0.8996 (\u001b[32m↗ 0.0017\u001b[0m)\n",
            "    │   └── Best until now = 0.932  (\u001b[31m↘ -0.0308\u001b[0m)\n",
            "    └── F1@0.50 = 0.0669\n",
            "        ├── Epoch N-1      = 0.1262 (\u001b[31m↘ -0.0593\u001b[0m)\n",
            "        └── Best until now = 0.15   (\u001b[31m↘ -0.0831\u001b[0m)\n",
            "\n",
            "===========================================================\n"
          ]
        },
        {
          "metadata": {
            "tags": null
          },
          "name": "stderr",
          "output_type": "stream",
          "text": [
            "Train epoch 47: 100%|██████████| 26/26 [00:17<00:00,  1.49it/s, PPYoloELoss/loss=1.92, PPYoloELoss/loss_cls=0.882, PPYoloELoss/loss_dfl=0.58, PPYoloELoss/loss_iou=0.456, gpu_mem=6.83]\n",
            "Validating epoch 47: 100%|██████████| 8/8 [00:03<00:00,  2.61it/s]\n"
          ]
        },
        {
          "metadata": {
            "tags": null
          },
          "name": "stdout",
          "output_type": "stream",
          "text": [
            "===========================================================\n",
            "SUMMARY OF EPOCH 47\n",
            "├── Train\n",
            "│   ├── Ppyoloeloss/loss_cls = 0.8816\n",
            "│   │   ├── Epoch N-1      = 0.8726 (\u001b[31m↗ 0.009\u001b[0m)\n",
            "│   │   └── Best until now = 0.8658 (\u001b[31m↗ 0.0158\u001b[0m)\n",
            "│   ├── Ppyoloeloss/loss_iou = 0.456\n",
            "│   │   ├── Epoch N-1      = 0.4499 (\u001b[31m↗ 0.0062\u001b[0m)\n",
            "│   │   └── Best until now = 0.4364 (\u001b[31m↗ 0.0197\u001b[0m)\n",
            "│   ├── Ppyoloeloss/loss_dfl = 0.5795\n",
            "│   │   ├── Epoch N-1      = 0.5654 (\u001b[31m↗ 0.0141\u001b[0m)\n",
            "│   │   └── Best until now = 0.5585 (\u001b[31m↗ 0.021\u001b[0m)\n",
            "│   └── Ppyoloeloss/loss = 1.9171\n",
            "│       ├── Epoch N-1      = 1.8879 (\u001b[31m↗ 0.0293\u001b[0m)\n",
            "│       └── Best until now = 1.876  (\u001b[31m↗ 0.0412\u001b[0m)\n",
            "└── Validation\n",
            "    ├── Ppyoloeloss/loss_cls = 0.7666\n",
            "    │   ├── Epoch N-1      = 0.8328 (\u001b[32m↘ -0.0662\u001b[0m)\n",
            "    │   └── Best until now = 0.7622 (\u001b[31m↗ 0.0044\u001b[0m)\n",
            "    ├── Ppyoloeloss/loss_iou = 0.3971\n",
            "    │   ├── Epoch N-1      = 0.4059 (\u001b[32m↘ -0.0088\u001b[0m)\n",
            "    │   └── Best until now = 0.3866 (\u001b[31m↗ 0.0105\u001b[0m)\n",
            "    ├── Ppyoloeloss/loss_dfl = 0.5617\n",
            "    │   ├── Epoch N-1      = 0.5713 (\u001b[32m↘ -0.0097\u001b[0m)\n",
            "    │   └── Best until now = 0.5413 (\u001b[31m↗ 0.0203\u001b[0m)\n",
            "    ├── Ppyoloeloss/loss = 1.7254\n",
            "    │   ├── Epoch N-1      = 1.81   (\u001b[32m↘ -0.0847\u001b[0m)\n",
            "    │   └── Best until now = 1.7074 (\u001b[31m↗ 0.0179\u001b[0m)\n",
            "    ├── Precision@0.50 = 0.0707\n",
            "    │   ├── Epoch N-1      = 0.0347 (\u001b[32m↗ 0.036\u001b[0m)\n",
            "    │   └── Best until now = 0.0813 (\u001b[31m↘ -0.0106\u001b[0m)\n",
            "    ├── Recall@0.50 = 0.9677\n",
            "    │   ├── Epoch N-1      = 0.9677 (\u001b[37m= 0.0\u001b[0m)\n",
            "    │   └── Best until now = 0.9839 (\u001b[31m↘ -0.0161\u001b[0m)\n",
            "    ├── Map@0.50 = 0.8918\n",
            "    │   ├── Epoch N-1      = 0.9012 (\u001b[31m↘ -0.0095\u001b[0m)\n",
            "    │   └── Best until now = 0.932  (\u001b[31m↘ -0.0403\u001b[0m)\n",
            "    └── F1@0.50 = 0.1317\n",
            "        ├── Epoch N-1      = 0.0669 (\u001b[32m↗ 0.0648\u001b[0m)\n",
            "        └── Best until now = 0.15   (\u001b[31m↘ -0.0183\u001b[0m)\n",
            "\n",
            "===========================================================\n"
          ]
        },
        {
          "metadata": {
            "tags": null
          },
          "name": "stderr",
          "output_type": "stream",
          "text": [
            "Train epoch 48: 100%|██████████| 26/26 [00:17<00:00,  1.46it/s, PPYoloELoss/loss=1.91, PPYoloELoss/loss_cls=0.877, PPYoloELoss/loss_dfl=0.582, PPYoloELoss/loss_iou=0.456, gpu_mem=6.83]\n",
            "Validating epoch 48: 100%|██████████| 8/8 [00:03<00:00,  2.55it/s]\n"
          ]
        },
        {
          "metadata": {
            "tags": null
          },
          "name": "stdout",
          "output_type": "stream",
          "text": [
            "===========================================================\n",
            "SUMMARY OF EPOCH 48\n",
            "├── Train\n",
            "│   ├── Ppyoloeloss/loss_cls = 0.8771\n",
            "│   │   ├── Epoch N-1      = 0.8816 (\u001b[32m↘ -0.0045\u001b[0m)\n",
            "│   │   └── Best until now = 0.8658 (\u001b[31m↗ 0.0112\u001b[0m)\n",
            "│   ├── Ppyoloeloss/loss_iou = 0.4556\n",
            "│   │   ├── Epoch N-1      = 0.456  (\u001b[32m↘ -0.0004\u001b[0m)\n",
            "│   │   └── Best until now = 0.4364 (\u001b[31m↗ 0.0193\u001b[0m)\n",
            "│   ├── Ppyoloeloss/loss_dfl = 0.5822\n",
            "│   │   ├── Epoch N-1      = 0.5795 (\u001b[31m↗ 0.0027\u001b[0m)\n",
            "│   │   └── Best until now = 0.5585 (\u001b[31m↗ 0.0237\u001b[0m)\n",
            "│   └── Ppyoloeloss/loss = 1.9149\n",
            "│       ├── Epoch N-1      = 1.9171 (\u001b[32m↘ -0.0023\u001b[0m)\n",
            "│       └── Best until now = 1.876  (\u001b[31m↗ 0.0389\u001b[0m)\n",
            "└── Validation\n",
            "    ├── Ppyoloeloss/loss_cls = 0.8215\n",
            "    │   ├── Epoch N-1      = 0.7666 (\u001b[31m↗ 0.0548\u001b[0m)\n",
            "    │   └── Best until now = 0.7622 (\u001b[31m↗ 0.0592\u001b[0m)\n",
            "    ├── Ppyoloeloss/loss_iou = 0.4221\n",
            "    │   ├── Epoch N-1      = 0.3971 (\u001b[31m↗ 0.025\u001b[0m)\n",
            "    │   └── Best until now = 0.3866 (\u001b[31m↗ 0.0355\u001b[0m)\n",
            "    ├── Ppyoloeloss/loss_dfl = 0.5829\n",
            "    │   ├── Epoch N-1      = 0.5617 (\u001b[31m↗ 0.0212\u001b[0m)\n",
            "    │   └── Best until now = 0.5413 (\u001b[31m↗ 0.0416\u001b[0m)\n",
            "    ├── Ppyoloeloss/loss = 1.8265\n",
            "    │   ├── Epoch N-1      = 1.7254 (\u001b[31m↗ 0.1011\u001b[0m)\n",
            "    │   └── Best until now = 1.7074 (\u001b[31m↗ 0.119\u001b[0m)\n",
            "    ├── Precision@0.50 = 0.0327\n",
            "    │   ├── Epoch N-1      = 0.0707 (\u001b[31m↘ -0.0379\u001b[0m)\n",
            "    │   └── Best until now = 0.0813 (\u001b[31m↘ -0.0486\u001b[0m)\n",
            "    ├── Recall@0.50 = 0.9677\n",
            "    │   ├── Epoch N-1      = 0.9677 (\u001b[37m= 0.0\u001b[0m)\n",
            "    │   └── Best until now = 0.9839 (\u001b[31m↘ -0.0161\u001b[0m)\n",
            "    ├── Map@0.50 = 0.9289\n",
            "    │   ├── Epoch N-1      = 0.8918 (\u001b[32m↗ 0.0371\u001b[0m)\n",
            "    │   └── Best until now = 0.932  (\u001b[31m↘ -0.0031\u001b[0m)\n",
            "    └── F1@0.50 = 0.0633\n",
            "        ├── Epoch N-1      = 0.1317 (\u001b[31m↘ -0.0684\u001b[0m)\n",
            "        └── Best until now = 0.15   (\u001b[31m↘ -0.0867\u001b[0m)\n",
            "\n",
            "===========================================================\n"
          ]
        },
        {
          "metadata": {
            "tags": null
          },
          "name": "stderr",
          "output_type": "stream",
          "text": [
            "Train epoch 49: 100%|██████████| 26/26 [00:19<00:00,  1.35it/s, PPYoloELoss/loss=1.88, PPYoloELoss/loss_cls=0.855, PPYoloELoss/loss_dfl=0.569, PPYoloELoss/loss_iou=0.452, gpu_mem=6.83]\n",
            "Validating epoch 49: 100%|██████████| 8/8 [00:03<00:00,  2.65it/s]\n"
          ]
        },
        {
          "metadata": {
            "tags": null
          },
          "name": "stdout",
          "output_type": "stream",
          "text": [
            "===========================================================\n",
            "SUMMARY OF EPOCH 49\n",
            "├── Train\n",
            "│   ├── Ppyoloeloss/loss_cls = 0.8547\n",
            "│   │   ├── Epoch N-1      = 0.8771 (\u001b[32m↘ -0.0224\u001b[0m)\n",
            "│   │   └── Best until now = 0.8658 (\u001b[32m↘ -0.0111\u001b[0m)\n",
            "│   ├── Ppyoloeloss/loss_iou = 0.4524\n",
            "│   │   ├── Epoch N-1      = 0.4556 (\u001b[32m↘ -0.0032\u001b[0m)\n",
            "│   │   └── Best until now = 0.4364 (\u001b[31m↗ 0.016\u001b[0m)\n",
            "│   ├── Ppyoloeloss/loss_dfl = 0.5687\n",
            "│   │   ├── Epoch N-1      = 0.5822 (\u001b[32m↘ -0.0135\u001b[0m)\n",
            "│   │   └── Best until now = 0.5585 (\u001b[31m↗ 0.0101\u001b[0m)\n",
            "│   └── Ppyoloeloss/loss = 1.8757\n",
            "│       ├── Epoch N-1      = 1.9149 (\u001b[32m↘ -0.0391\u001b[0m)\n",
            "│       └── Best until now = 1.876  (\u001b[32m↘ -0.0002\u001b[0m)\n",
            "└── Validation\n",
            "    ├── Ppyoloeloss/loss_cls = 0.8146\n",
            "    │   ├── Epoch N-1      = 0.8215 (\u001b[32m↘ -0.0069\u001b[0m)\n",
            "    │   └── Best until now = 0.7622 (\u001b[31m↗ 0.0524\u001b[0m)\n",
            "    ├── Ppyoloeloss/loss_iou = 0.4283\n",
            "    │   ├── Epoch N-1      = 0.4221 (\u001b[31m↗ 0.0063\u001b[0m)\n",
            "    │   └── Best until now = 0.3866 (\u001b[31m↗ 0.0417\u001b[0m)\n",
            "    ├── Ppyoloeloss/loss_dfl = 0.5864\n",
            "    │   ├── Epoch N-1      = 0.5829 (\u001b[31m↗ 0.0035\u001b[0m)\n",
            "    │   └── Best until now = 0.5413 (\u001b[31m↗ 0.0451\u001b[0m)\n",
            "    ├── Ppyoloeloss/loss = 1.8294\n",
            "    │   ├── Epoch N-1      = 1.8265 (\u001b[31m↗ 0.0029\u001b[0m)\n",
            "    │   └── Best until now = 1.7074 (\u001b[31m↗ 0.1219\u001b[0m)\n",
            "    ├── Precision@0.50 = 0.0398\n",
            "    │   ├── Epoch N-1      = 0.0327 (\u001b[32m↗ 0.0071\u001b[0m)\n",
            "    │   └── Best until now = 0.0813 (\u001b[31m↘ -0.0415\u001b[0m)\n",
            "    ├── Recall@0.50 = 0.9677\n",
            "    │   ├── Epoch N-1      = 0.9677 (\u001b[37m= 0.0\u001b[0m)\n",
            "    │   └── Best until now = 0.9839 (\u001b[31m↘ -0.0161\u001b[0m)\n",
            "    ├── Map@0.50 = 0.9105\n",
            "    │   ├── Epoch N-1      = 0.9289 (\u001b[31m↘ -0.0185\u001b[0m)\n",
            "    │   └── Best until now = 0.932  (\u001b[31m↘ -0.0216\u001b[0m)\n",
            "    └── F1@0.50 = 0.0765\n",
            "        ├── Epoch N-1      = 0.0633 (\u001b[32m↗ 0.0132\u001b[0m)\n",
            "        └── Best until now = 0.15   (\u001b[31m↘ -0.0735\u001b[0m)\n",
            "\n",
            "===========================================================\n"
          ]
        },
        {
          "metadata": {
            "tags": null
          },
          "name": "stderr",
          "output_type": "stream",
          "text": [
            "Train epoch 50: 100%|██████████| 26/26 [00:18<00:00,  1.39it/s, PPYoloELoss/loss=1.93, PPYoloELoss/loss_cls=0.892, PPYoloELoss/loss_dfl=0.576, PPYoloELoss/loss_iou=0.457, gpu_mem=6.83]\n",
            "Validating epoch 50: 100%|██████████| 8/8 [00:02<00:00,  2.67it/s]\n"
          ]
        },
        {
          "metadata": {
            "tags": null
          },
          "name": "stdout",
          "output_type": "stream",
          "text": [
            "===========================================================\n",
            "SUMMARY OF EPOCH 50\n",
            "├── Train\n",
            "│   ├── Ppyoloeloss/loss_cls = 0.8923\n",
            "│   │   ├── Epoch N-1      = 0.8547 (\u001b[31m↗ 0.0376\u001b[0m)\n",
            "│   │   └── Best until now = 0.8547 (\u001b[31m↗ 0.0376\u001b[0m)\n",
            "│   ├── Ppyoloeloss/loss_iou = 0.4569\n",
            "│   │   ├── Epoch N-1      = 0.4524 (\u001b[31m↗ 0.0045\u001b[0m)\n",
            "│   │   └── Best until now = 0.4364 (\u001b[31m↗ 0.0206\u001b[0m)\n",
            "│   ├── Ppyoloeloss/loss_dfl = 0.5762\n",
            "│   │   ├── Epoch N-1      = 0.5687 (\u001b[31m↗ 0.0075\u001b[0m)\n",
            "│   │   └── Best until now = 0.5585 (\u001b[31m↗ 0.0177\u001b[0m)\n",
            "│   └── Ppyoloeloss/loss = 1.9254\n",
            "│       ├── Epoch N-1      = 1.8757 (\u001b[31m↗ 0.0497\u001b[0m)\n",
            "│       └── Best until now = 1.8757 (\u001b[31m↗ 0.0497\u001b[0m)\n",
            "└── Validation\n",
            "    ├── Ppyoloeloss/loss_cls = 0.9436\n",
            "    │   ├── Epoch N-1      = 0.8146 (\u001b[31m↗ 0.129\u001b[0m)\n",
            "    │   └── Best until now = 0.7622 (\u001b[31m↗ 0.1813\u001b[0m)\n",
            "    ├── Ppyoloeloss/loss_iou = 0.4781\n",
            "    │   ├── Epoch N-1      = 0.4283 (\u001b[31m↗ 0.0498\u001b[0m)\n",
            "    │   └── Best until now = 0.3866 (\u001b[31m↗ 0.0915\u001b[0m)\n",
            "    ├── Ppyoloeloss/loss_dfl = 0.6131\n",
            "    │   ├── Epoch N-1      = 0.5864 (\u001b[31m↗ 0.0266\u001b[0m)\n",
            "    │   └── Best until now = 0.5413 (\u001b[31m↗ 0.0717\u001b[0m)\n",
            "    ├── Ppyoloeloss/loss = 2.0348\n",
            "    │   ├── Epoch N-1      = 1.8294 (\u001b[31m↗ 0.2054\u001b[0m)\n",
            "    │   └── Best until now = 1.7074 (\u001b[31m↗ 0.3273\u001b[0m)\n",
            "    ├── Precision@0.50 = 0.0273\n",
            "    │   ├── Epoch N-1      = 0.0398 (\u001b[31m↘ -0.0126\u001b[0m)\n",
            "    │   └── Best until now = 0.0813 (\u001b[31m↘ -0.054\u001b[0m)\n",
            "    ├── Recall@0.50 = 0.9677\n",
            "    │   ├── Epoch N-1      = 0.9677 (\u001b[37m= 0.0\u001b[0m)\n",
            "    │   └── Best until now = 0.9839 (\u001b[31m↘ -0.0161\u001b[0m)\n",
            "    ├── Map@0.50 = 0.7996\n",
            "    │   ├── Epoch N-1      = 0.9105 (\u001b[31m↘ -0.1109\u001b[0m)\n",
            "    │   └── Best until now = 0.932  (\u001b[31m↘ -0.1324\u001b[0m)\n",
            "    └── F1@0.50 = 0.053\n",
            "        ├── Epoch N-1      = 0.0765 (\u001b[31m↘ -0.0235\u001b[0m)\n",
            "        └── Best until now = 0.15   (\u001b[31m↘ -0.097\u001b[0m)\n",
            "\n",
            "===========================================================\n"
          ]
        },
        {
          "metadata": {
            "tags": null
          },
          "name": "stderr",
          "output_type": "stream",
          "text": [
            "Train epoch 51: 100%|██████████| 26/26 [00:17<00:00,  1.45it/s, PPYoloELoss/loss=1.92, PPYoloELoss/loss_cls=0.901, PPYoloELoss/loss_dfl=0.569, PPYoloELoss/loss_iou=0.452, gpu_mem=6.84]\n",
            "Validating epoch 51: 100%|██████████| 8/8 [00:03<00:00,  2.50it/s]\n"
          ]
        },
        {
          "metadata": {
            "tags": null
          },
          "name": "stdout",
          "output_type": "stream",
          "text": [
            "===========================================================\n",
            "SUMMARY OF EPOCH 51\n",
            "├── Train\n",
            "│   ├── Ppyoloeloss/loss_cls = 0.9013\n",
            "│   │   ├── Epoch N-1      = 0.8923 (\u001b[31m↗ 0.009\u001b[0m)\n",
            "│   │   └── Best until now = 0.8547 (\u001b[31m↗ 0.0466\u001b[0m)\n",
            "│   ├── Ppyoloeloss/loss_iou = 0.4523\n",
            "│   │   ├── Epoch N-1      = 0.4569 (\u001b[32m↘ -0.0046\u001b[0m)\n",
            "│   │   └── Best until now = 0.4364 (\u001b[31m↗ 0.016\u001b[0m)\n",
            "│   ├── Ppyoloeloss/loss_dfl = 0.5691\n",
            "│   │   ├── Epoch N-1      = 0.5762 (\u001b[32m↘ -0.0071\u001b[0m)\n",
            "│   │   └── Best until now = 0.5585 (\u001b[31m↗ 0.0106\u001b[0m)\n",
            "│   └── Ppyoloeloss/loss = 1.9228\n",
            "│       ├── Epoch N-1      = 1.9254 (\u001b[32m↘ -0.0026\u001b[0m)\n",
            "│       └── Best until now = 1.8757 (\u001b[31m↗ 0.047\u001b[0m)\n",
            "└── Validation\n",
            "    ├── Ppyoloeloss/loss_cls = 0.9589\n",
            "    │   ├── Epoch N-1      = 0.9436 (\u001b[31m↗ 0.0153\u001b[0m)\n",
            "    │   └── Best until now = 0.7622 (\u001b[31m↗ 0.1966\u001b[0m)\n",
            "    ├── Ppyoloeloss/loss_iou = 0.3891\n",
            "    │   ├── Epoch N-1      = 0.4781 (\u001b[32m↘ -0.089\u001b[0m)\n",
            "    │   └── Best until now = 0.3866 (\u001b[31m↗ 0.0025\u001b[0m)\n",
            "    ├── Ppyoloeloss/loss_dfl = 0.5513\n",
            "    │   ├── Epoch N-1      = 0.6131 (\u001b[32m↘ -0.0618\u001b[0m)\n",
            "    │   └── Best until now = 0.5413 (\u001b[31m↗ 0.0099\u001b[0m)\n",
            "    ├── Ppyoloeloss/loss = 1.8992\n",
            "    │   ├── Epoch N-1      = 2.0348 (\u001b[32m↘ -0.1356\u001b[0m)\n",
            "    │   └── Best until now = 1.7074 (\u001b[31m↗ 0.1918\u001b[0m)\n",
            "    ├── Precision@0.50 = 0.0236\n",
            "    │   ├── Epoch N-1      = 0.0273 (\u001b[31m↘ -0.0037\u001b[0m)\n",
            "    │   └── Best until now = 0.0813 (\u001b[31m↘ -0.0577\u001b[0m)\n",
            "    ├── Recall@0.50 = 0.9677\n",
            "    │   ├── Epoch N-1      = 0.9677 (\u001b[37m= 0.0\u001b[0m)\n",
            "    │   └── Best until now = 0.9839 (\u001b[31m↘ -0.0161\u001b[0m)\n",
            "    ├── Map@0.50 = 0.8881\n",
            "    │   ├── Epoch N-1      = 0.7996 (\u001b[32m↗ 0.0885\u001b[0m)\n",
            "    │   └── Best until now = 0.932  (\u001b[31m↘ -0.0439\u001b[0m)\n",
            "    └── F1@0.50 = 0.0461\n",
            "        ├── Epoch N-1      = 0.053  (\u001b[31m↘ -0.0069\u001b[0m)\n",
            "        └── Best until now = 0.15   (\u001b[31m↘ -0.1039\u001b[0m)\n",
            "\n",
            "===========================================================\n"
          ]
        },
        {
          "metadata": {
            "tags": null
          },
          "name": "stderr",
          "output_type": "stream",
          "text": [
            "Train epoch 52: 100%|██████████| 26/26 [00:18<00:00,  1.40it/s, PPYoloELoss/loss=1.91, PPYoloELoss/loss_cls=0.9, PPYoloELoss/loss_dfl=0.569, PPYoloELoss/loss_iou=0.442, gpu_mem=6.84]\n",
            "Validating epoch 52: 100%|██████████| 8/8 [00:03<00:00,  2.42it/s]\n"
          ]
        },
        {
          "metadata": {
            "tags": null
          },
          "name": "stdout",
          "output_type": "stream",
          "text": [
            "===========================================================\n",
            "SUMMARY OF EPOCH 52\n",
            "├── Train\n",
            "│   ├── Ppyoloeloss/loss_cls = 0.8995\n",
            "│   │   ├── Epoch N-1      = 0.9013 (\u001b[32m↘ -0.0018\u001b[0m)\n",
            "│   │   └── Best until now = 0.8547 (\u001b[31m↗ 0.0448\u001b[0m)\n",
            "│   ├── Ppyoloeloss/loss_iou = 0.4424\n",
            "│   │   ├── Epoch N-1      = 0.4523 (\u001b[32m↘ -0.0099\u001b[0m)\n",
            "│   │   └── Best until now = 0.4364 (\u001b[31m↗ 0.0061\u001b[0m)\n",
            "│   ├── Ppyoloeloss/loss_dfl = 0.5693\n",
            "│   │   ├── Epoch N-1      = 0.5691 (\u001b[31m↗ 0.0002\u001b[0m)\n",
            "│   │   └── Best until now = 0.5585 (\u001b[31m↗ 0.0107\u001b[0m)\n",
            "│   └── Ppyoloeloss/loss = 1.9112\n",
            "│       ├── Epoch N-1      = 1.9228 (\u001b[32m↘ -0.0116\u001b[0m)\n",
            "│       └── Best until now = 1.8757 (\u001b[31m↗ 0.0354\u001b[0m)\n",
            "└── Validation\n",
            "    ├── Ppyoloeloss/loss_cls = 1.0539\n",
            "    │   ├── Epoch N-1      = 0.9589 (\u001b[31m↗ 0.095\u001b[0m)\n",
            "    │   └── Best until now = 0.7622 (\u001b[31m↗ 0.2917\u001b[0m)\n",
            "    ├── Ppyoloeloss/loss_iou = 0.4428\n",
            "    │   ├── Epoch N-1      = 0.3891 (\u001b[31m↗ 0.0537\u001b[0m)\n",
            "    │   └── Best until now = 0.3866 (\u001b[31m↗ 0.0562\u001b[0m)\n",
            "    ├── Ppyoloeloss/loss_dfl = 0.5886\n",
            "    │   ├── Epoch N-1      = 0.5513 (\u001b[31m↗ 0.0374\u001b[0m)\n",
            "    │   └── Best until now = 0.5413 (\u001b[31m↗ 0.0473\u001b[0m)\n",
            "    ├── Ppyoloeloss/loss = 2.0853\n",
            "    │   ├── Epoch N-1      = 1.8992 (\u001b[31m↗ 0.1861\u001b[0m)\n",
            "    │   └── Best until now = 1.7074 (\u001b[31m↗ 0.3779\u001b[0m)\n",
            "    ├── Precision@0.50 = 0.0172\n",
            "    │   ├── Epoch N-1      = 0.0236 (\u001b[31m↘ -0.0064\u001b[0m)\n",
            "    │   └── Best until now = 0.0813 (\u001b[31m↘ -0.0641\u001b[0m)\n",
            "    ├── Recall@0.50 = 0.9677\n",
            "    │   ├── Epoch N-1      = 0.9677 (\u001b[37m= 0.0\u001b[0m)\n",
            "    │   └── Best until now = 0.9839 (\u001b[31m↘ -0.0161\u001b[0m)\n",
            "    ├── Map@0.50 = 0.8165\n",
            "    │   ├── Epoch N-1      = 0.8881 (\u001b[31m↘ -0.0716\u001b[0m)\n",
            "    │   └── Best until now = 0.932  (\u001b[31m↘ -0.1155\u001b[0m)\n",
            "    └── F1@0.50 = 0.0338\n",
            "        ├── Epoch N-1      = 0.0461 (\u001b[31m↘ -0.0123\u001b[0m)\n",
            "        └── Best until now = 0.15   (\u001b[31m↘ -0.1162\u001b[0m)\n",
            "\n",
            "===========================================================\n"
          ]
        },
        {
          "metadata": {
            "tags": null
          },
          "name": "stderr",
          "output_type": "stream",
          "text": [
            "Train epoch 53: 100%|██████████| 26/26 [00:18<00:00,  1.39it/s, PPYoloELoss/loss=1.89, PPYoloELoss/loss_cls=0.885, PPYoloELoss/loss_dfl=0.569, PPYoloELoss/loss_iou=0.44, gpu_mem=6.84]\n",
            "Validating epoch 53: 100%|██████████| 8/8 [00:03<00:00,  2.59it/s]\n"
          ]
        },
        {
          "metadata": {
            "tags": null
          },
          "name": "stdout",
          "output_type": "stream",
          "text": [
            "===========================================================\n",
            "SUMMARY OF EPOCH 53\n",
            "├── Train\n",
            "│   ├── Ppyoloeloss/loss_cls = 0.8852\n",
            "│   │   ├── Epoch N-1      = 0.8995 (\u001b[32m↘ -0.0143\u001b[0m)\n",
            "│   │   └── Best until now = 0.8547 (\u001b[31m↗ 0.0305\u001b[0m)\n",
            "│   ├── Ppyoloeloss/loss_iou = 0.4398\n",
            "│   │   ├── Epoch N-1      = 0.4424 (\u001b[32m↘ -0.0026\u001b[0m)\n",
            "│   │   └── Best until now = 0.4364 (\u001b[31m↗ 0.0035\u001b[0m)\n",
            "│   ├── Ppyoloeloss/loss_dfl = 0.5689\n",
            "│   │   ├── Epoch N-1      = 0.5693 (\u001b[32m↘ -0.0003\u001b[0m)\n",
            "│   │   └── Best until now = 0.5585 (\u001b[31m↗ 0.0104\u001b[0m)\n",
            "│   └── Ppyoloeloss/loss = 1.894\n",
            "│       ├── Epoch N-1      = 1.9112 (\u001b[32m↘ -0.0172\u001b[0m)\n",
            "│       └── Best until now = 1.8757 (\u001b[31m↗ 0.0182\u001b[0m)\n",
            "└── Validation\n",
            "    ├── Ppyoloeloss/loss_cls = 0.7749\n",
            "    │   ├── Epoch N-1      = 1.0539 (\u001b[32m↘ -0.279\u001b[0m)\n",
            "    │   └── Best until now = 0.7622 (\u001b[31m↗ 0.0127\u001b[0m)\n",
            "    ├── Ppyoloeloss/loss_iou = 0.4393\n",
            "    │   ├── Epoch N-1      = 0.4428 (\u001b[32m↘ -0.0035\u001b[0m)\n",
            "    │   └── Best until now = 0.3866 (\u001b[31m↗ 0.0526\u001b[0m)\n",
            "    ├── Ppyoloeloss/loss_dfl = 0.5987\n",
            "    │   ├── Epoch N-1      = 0.5886 (\u001b[31m↗ 0.0101\u001b[0m)\n",
            "    │   └── Best until now = 0.5413 (\u001b[31m↗ 0.0574\u001b[0m)\n",
            "    ├── Ppyoloeloss/loss = 1.8129\n",
            "    │   ├── Epoch N-1      = 2.0853 (\u001b[32m↘ -0.2724\u001b[0m)\n",
            "    │   └── Best until now = 1.7074 (\u001b[31m↗ 0.1054\u001b[0m)\n",
            "    ├── Precision@0.50 = 0.0544\n",
            "    │   ├── Epoch N-1      = 0.0172 (\u001b[32m↗ 0.0372\u001b[0m)\n",
            "    │   └── Best until now = 0.0813 (\u001b[31m↘ -0.0269\u001b[0m)\n",
            "    ├── Recall@0.50 = 0.9677\n",
            "    │   ├── Epoch N-1      = 0.9677 (\u001b[37m= 0.0\u001b[0m)\n",
            "    │   └── Best until now = 0.9839 (\u001b[31m↘ -0.0161\u001b[0m)\n",
            "    ├── Map@0.50 = 0.9128\n",
            "    │   ├── Epoch N-1      = 0.8165 (\u001b[32m↗ 0.0963\u001b[0m)\n",
            "    │   └── Best until now = 0.932  (\u001b[31m↘ -0.0192\u001b[0m)\n",
            "    └── F1@0.50 = 0.103\n",
            "        ├── Epoch N-1      = 0.0338 (\u001b[32m↗ 0.0692\u001b[0m)\n",
            "        └── Best until now = 0.15   (\u001b[31m↘ -0.047\u001b[0m)\n",
            "\n",
            "===========================================================\n"
          ]
        },
        {
          "metadata": {
            "tags": null
          },
          "name": "stderr",
          "output_type": "stream",
          "text": [
            "Train epoch 54: 100%|██████████| 26/26 [00:18<00:00,  1.42it/s, PPYoloELoss/loss=1.93, PPYoloELoss/loss_cls=0.889, PPYoloELoss/loss_dfl=0.585, PPYoloELoss/loss_iou=0.46, gpu_mem=6.84]\n",
            "Validating epoch 54: 100%|██████████| 8/8 [00:03<00:00,  2.48it/s]\n"
          ]
        },
        {
          "metadata": {
            "tags": null
          },
          "name": "stdout",
          "output_type": "stream",
          "text": [
            "===========================================================\n",
            "SUMMARY OF EPOCH 54\n",
            "├── Train\n",
            "│   ├── Ppyoloeloss/loss_cls = 0.8894\n",
            "│   │   ├── Epoch N-1      = 0.8852 (\u001b[31m↗ 0.0041\u001b[0m)\n",
            "│   │   └── Best until now = 0.8547 (\u001b[31m↗ 0.0347\u001b[0m)\n",
            "│   ├── Ppyoloeloss/loss_iou = 0.4598\n",
            "│   │   ├── Epoch N-1      = 0.4398 (\u001b[31m↗ 0.02\u001b[0m)\n",
            "│   │   └── Best until now = 0.4364 (\u001b[31m↗ 0.0235\u001b[0m)\n",
            "│   ├── Ppyoloeloss/loss_dfl = 0.5848\n",
            "│   │   ├── Epoch N-1      = 0.5689 (\u001b[31m↗ 0.0159\u001b[0m)\n",
            "│   │   └── Best until now = 0.5585 (\u001b[31m↗ 0.0263\u001b[0m)\n",
            "│   └── Ppyoloeloss/loss = 1.934\n",
            "│       ├── Epoch N-1      = 1.894  (\u001b[31m↗ 0.04\u001b[0m)\n",
            "│       └── Best until now = 1.8757 (\u001b[31m↗ 0.0582\u001b[0m)\n",
            "└── Validation\n",
            "    ├── Ppyoloeloss/loss_cls = 0.8506\n",
            "    │   ├── Epoch N-1      = 0.7749 (\u001b[31m↗ 0.0757\u001b[0m)\n",
            "    │   └── Best until now = 0.7622 (\u001b[31m↗ 0.0884\u001b[0m)\n",
            "    ├── Ppyoloeloss/loss_iou = 0.4065\n",
            "    │   ├── Epoch N-1      = 0.4393 (\u001b[32m↘ -0.0327\u001b[0m)\n",
            "    │   └── Best until now = 0.3866 (\u001b[31m↗ 0.0199\u001b[0m)\n",
            "    ├── Ppyoloeloss/loss_dfl = 0.5621\n",
            "    │   ├── Epoch N-1      = 0.5987 (\u001b[32m↘ -0.0366\u001b[0m)\n",
            "    │   └── Best until now = 0.5413 (\u001b[31m↗ 0.0208\u001b[0m)\n",
            "    ├── Ppyoloeloss/loss = 1.8192\n",
            "    │   ├── Epoch N-1      = 1.8129 (\u001b[31m↗ 0.0063\u001b[0m)\n",
            "    │   └── Best until now = 1.7074 (\u001b[31m↗ 0.1118\u001b[0m)\n",
            "    ├── Precision@0.50 = 0.031\n",
            "    │   ├── Epoch N-1      = 0.0544 (\u001b[31m↘ -0.0234\u001b[0m)\n",
            "    │   └── Best until now = 0.0813 (\u001b[31m↘ -0.0503\u001b[0m)\n",
            "    ├── Recall@0.50 = 0.9677\n",
            "    │   ├── Epoch N-1      = 0.9677 (\u001b[37m= 0.0\u001b[0m)\n",
            "    │   └── Best until now = 0.9839 (\u001b[31m↘ -0.0161\u001b[0m)\n",
            "    ├── Map@0.50 = 0.8874\n",
            "    │   ├── Epoch N-1      = 0.9128 (\u001b[31m↘ -0.0255\u001b[0m)\n",
            "    │   └── Best until now = 0.932  (\u001b[31m↘ -0.0447\u001b[0m)\n",
            "    └── F1@0.50 = 0.0602\n",
            "        ├── Epoch N-1      = 0.103  (\u001b[31m↘ -0.0429\u001b[0m)\n",
            "        └── Best until now = 0.15   (\u001b[31m↘ -0.0898\u001b[0m)\n",
            "\n",
            "===========================================================\n"
          ]
        },
        {
          "metadata": {
            "tags": null
          },
          "name": "stderr",
          "output_type": "stream",
          "text": [
            "Train epoch 55: 100%|██████████| 26/26 [00:18<00:00,  1.39it/s, PPYoloELoss/loss=1.87, PPYoloELoss/loss_cls=0.864, PPYoloELoss/loss_dfl=0.557, PPYoloELoss/loss_iou=0.447, gpu_mem=6.83]\n",
            "Validating epoch 55: 100%|██████████| 8/8 [00:03<00:00,  2.63it/s]\n"
          ]
        },
        {
          "metadata": {
            "tags": null
          },
          "name": "stdout",
          "output_type": "stream",
          "text": [
            "===========================================================\n",
            "SUMMARY OF EPOCH 55\n",
            "├── Train\n",
            "│   ├── Ppyoloeloss/loss_cls = 0.8638\n",
            "│   │   ├── Epoch N-1      = 0.8894 (\u001b[32m↘ -0.0256\u001b[0m)\n",
            "│   │   └── Best until now = 0.8547 (\u001b[31m↗ 0.0091\u001b[0m)\n",
            "│   ├── Ppyoloeloss/loss_iou = 0.4471\n",
            "│   │   ├── Epoch N-1      = 0.4598 (\u001b[32m↘ -0.0127\u001b[0m)\n",
            "│   │   └── Best until now = 0.4364 (\u001b[31m↗ 0.0108\u001b[0m)\n",
            "│   ├── Ppyoloeloss/loss_dfl = 0.5569\n",
            "│   │   ├── Epoch N-1      = 0.5848 (\u001b[32m↘ -0.0279\u001b[0m)\n",
            "│   │   └── Best until now = 0.5585 (\u001b[32m↘ -0.0016\u001b[0m)\n",
            "│   └── Ppyoloeloss/loss = 1.8679\n",
            "│       ├── Epoch N-1      = 1.934  (\u001b[32m↘ -0.0661\u001b[0m)\n",
            "│       └── Best until now = 1.8757 (\u001b[32m↘ -0.0079\u001b[0m)\n",
            "└── Validation\n",
            "    ├── Ppyoloeloss/loss_cls = 0.7689\n",
            "    │   ├── Epoch N-1      = 0.8506 (\u001b[32m↘ -0.0817\u001b[0m)\n",
            "    │   └── Best until now = 0.7622 (\u001b[31m↗ 0.0066\u001b[0m)\n",
            "    ├── Ppyoloeloss/loss_iou = 0.3976\n",
            "    │   ├── Epoch N-1      = 0.4065 (\u001b[32m↘ -0.0089\u001b[0m)\n",
            "    │   └── Best until now = 0.3866 (\u001b[31m↗ 0.011\u001b[0m)\n",
            "    ├── Ppyoloeloss/loss_dfl = 0.5534\n",
            "    │   ├── Epoch N-1      = 0.5621 (\u001b[32m↘ -0.0087\u001b[0m)\n",
            "    │   └── Best until now = 0.5413 (\u001b[31m↗ 0.0121\u001b[0m)\n",
            "    ├── Ppyoloeloss/loss = 1.7199\n",
            "    │   ├── Epoch N-1      = 1.8192 (\u001b[32m↘ -0.0994\u001b[0m)\n",
            "    │   └── Best until now = 1.7074 (\u001b[31m↗ 0.0124\u001b[0m)\n",
            "    ├── Precision@0.50 = 0.0549\n",
            "    │   ├── Epoch N-1      = 0.031  (\u001b[32m↗ 0.0239\u001b[0m)\n",
            "    │   └── Best until now = 0.0813 (\u001b[31m↘ -0.0264\u001b[0m)\n",
            "    ├── Recall@0.50 = 0.9677\n",
            "    │   ├── Epoch N-1      = 0.9677 (\u001b[37m= 0.0\u001b[0m)\n",
            "    │   └── Best until now = 0.9839 (\u001b[31m↘ -0.0161\u001b[0m)\n",
            "    ├── Map@0.50 = 0.9231\n",
            "    │   ├── Epoch N-1      = 0.8874 (\u001b[32m↗ 0.0357\u001b[0m)\n",
            "    │   └── Best until now = 0.932  (\u001b[31m↘ -0.009\u001b[0m)\n",
            "    └── F1@0.50 = 0.1039\n",
            "        ├── Epoch N-1      = 0.0602 (\u001b[32m↗ 0.0437\u001b[0m)\n",
            "        └── Best until now = 0.15   (\u001b[31m↘ -0.0461\u001b[0m)\n",
            "\n",
            "===========================================================\n"
          ]
        },
        {
          "metadata": {
            "tags": null
          },
          "name": "stderr",
          "output_type": "stream",
          "text": [
            "Train epoch 56: 100%|██████████| 26/26 [00:17<00:00,  1.47it/s, PPYoloELoss/loss=1.84, PPYoloELoss/loss_cls=0.867, PPYoloELoss/loss_dfl=0.543, PPYoloELoss/loss_iou=0.43, gpu_mem=6.83]\n",
            "Validating epoch 56: 100%|██████████| 8/8 [00:03<00:00,  2.54it/s]\n"
          ]
        },
        {
          "metadata": {
            "tags": null
          },
          "name": "stdout",
          "output_type": "stream",
          "text": [
            "===========================================================\n",
            "SUMMARY OF EPOCH 56\n",
            "├── Train\n",
            "│   ├── Ppyoloeloss/loss_cls = 0.8674\n",
            "│   │   ├── Epoch N-1      = 0.8638 (\u001b[31m↗ 0.0035\u001b[0m)\n",
            "│   │   └── Best until now = 0.8547 (\u001b[31m↗ 0.0127\u001b[0m)\n",
            "│   ├── Ppyoloeloss/loss_iou = 0.4303\n",
            "│   │   ├── Epoch N-1      = 0.4471 (\u001b[32m↘ -0.0169\u001b[0m)\n",
            "│   │   └── Best until now = 0.4364 (\u001b[32m↘ -0.0061\u001b[0m)\n",
            "│   ├── Ppyoloeloss/loss_dfl = 0.5433\n",
            "│   │   ├── Epoch N-1      = 0.5569 (\u001b[32m↘ -0.0136\u001b[0m)\n",
            "│   │   └── Best until now = 0.5569 (\u001b[32m↘ -0.0136\u001b[0m)\n",
            "│   └── Ppyoloeloss/loss = 1.8409\n",
            "│       ├── Epoch N-1      = 1.8679 (\u001b[32m↘ -0.0269\u001b[0m)\n",
            "│       └── Best until now = 1.8679 (\u001b[32m↘ -0.0269\u001b[0m)\n",
            "└── Validation\n",
            "    ├── Ppyoloeloss/loss_cls = 0.887\n",
            "    │   ├── Epoch N-1      = 0.7689 (\u001b[31m↗ 0.1181\u001b[0m)\n",
            "    │   └── Best until now = 0.7622 (\u001b[31m↗ 0.1248\u001b[0m)\n",
            "    ├── Ppyoloeloss/loss_iou = 0.4347\n",
            "    │   ├── Epoch N-1      = 0.3976 (\u001b[31m↗ 0.037\u001b[0m)\n",
            "    │   └── Best until now = 0.3866 (\u001b[31m↗ 0.048\u001b[0m)\n",
            "    ├── Ppyoloeloss/loss_dfl = 0.5715\n",
            "    │   ├── Epoch N-1      = 0.5534 (\u001b[31m↗ 0.0181\u001b[0m)\n",
            "    │   └── Best until now = 0.5413 (\u001b[31m↗ 0.0301\u001b[0m)\n",
            "    ├── Ppyoloeloss/loss = 1.8931\n",
            "    │   ├── Epoch N-1      = 1.7199 (\u001b[31m↗ 0.1733\u001b[0m)\n",
            "    │   └── Best until now = 1.7074 (\u001b[31m↗ 0.1857\u001b[0m)\n",
            "    ├── Precision@0.50 = 0.0292\n",
            "    │   ├── Epoch N-1      = 0.0549 (\u001b[31m↘ -0.0257\u001b[0m)\n",
            "    │   └── Best until now = 0.0813 (\u001b[31m↘ -0.0521\u001b[0m)\n",
            "    ├── Recall@0.50 = 0.9677\n",
            "    │   ├── Epoch N-1      = 0.9677 (\u001b[37m= 0.0\u001b[0m)\n",
            "    │   └── Best until now = 0.9839 (\u001b[31m↘ -0.0161\u001b[0m)\n",
            "    ├── Map@0.50 = 0.8115\n",
            "    │   ├── Epoch N-1      = 0.9231 (\u001b[31m↘ -0.1116\u001b[0m)\n",
            "    │   └── Best until now = 0.932  (\u001b[31m↘ -0.1206\u001b[0m)\n",
            "    └── F1@0.50 = 0.0568\n",
            "        ├── Epoch N-1      = 0.1039 (\u001b[31m↘ -0.0471\u001b[0m)\n",
            "        └── Best until now = 0.15   (\u001b[31m↘ -0.0932\u001b[0m)\n",
            "\n",
            "===========================================================\n"
          ]
        },
        {
          "metadata": {
            "tags": null
          },
          "name": "stderr",
          "output_type": "stream",
          "text": [
            "Train epoch 57: 100%|██████████| 26/26 [00:18<00:00,  1.38it/s, PPYoloELoss/loss=1.83, PPYoloELoss/loss_cls=0.84, PPYoloELoss/loss_dfl=0.551, PPYoloELoss/loss_iou=0.441, gpu_mem=6.84]\n",
            "Validating epoch 57: 100%|██████████| 8/8 [00:02<00:00,  2.68it/s]\n"
          ]
        },
        {
          "metadata": {
            "tags": null
          },
          "name": "stdout",
          "output_type": "stream",
          "text": [
            "===========================================================\n",
            "SUMMARY OF EPOCH 57\n",
            "├── Train\n",
            "│   ├── Ppyoloeloss/loss_cls = 0.8401\n",
            "│   │   ├── Epoch N-1      = 0.8674 (\u001b[32m↘ -0.0273\u001b[0m)\n",
            "│   │   └── Best until now = 0.8547 (\u001b[32m↘ -0.0146\u001b[0m)\n",
            "│   ├── Ppyoloeloss/loss_iou = 0.4406\n",
            "│   │   ├── Epoch N-1      = 0.4303 (\u001b[31m↗ 0.0103\u001b[0m)\n",
            "│   │   └── Best until now = 0.4303 (\u001b[31m↗ 0.0103\u001b[0m)\n",
            "│   ├── Ppyoloeloss/loss_dfl = 0.551\n",
            "│   │   ├── Epoch N-1      = 0.5433 (\u001b[31m↗ 0.0076\u001b[0m)\n",
            "│   │   └── Best until now = 0.5433 (\u001b[31m↗ 0.0076\u001b[0m)\n",
            "│   └── Ppyoloeloss/loss = 1.8316\n",
            "│       ├── Epoch N-1      = 1.8409 (\u001b[32m↘ -0.0093\u001b[0m)\n",
            "│       └── Best until now = 1.8409 (\u001b[32m↘ -0.0093\u001b[0m)\n",
            "└── Validation\n",
            "    ├── Ppyoloeloss/loss_cls = 0.756\n",
            "    │   ├── Epoch N-1      = 0.887  (\u001b[32m↘ -0.131\u001b[0m)\n",
            "    │   └── Best until now = 0.7622 (\u001b[32m↘ -0.0062\u001b[0m)\n",
            "    ├── Ppyoloeloss/loss_iou = 0.4079\n",
            "    │   ├── Epoch N-1      = 0.4347 (\u001b[32m↘ -0.0268\u001b[0m)\n",
            "    │   └── Best until now = 0.3866 (\u001b[31m↗ 0.0212\u001b[0m)\n",
            "    ├── Ppyoloeloss/loss_dfl = 0.5784\n",
            "    │   ├── Epoch N-1      = 0.5715 (\u001b[31m↗ 0.007\u001b[0m)\n",
            "    │   └── Best until now = 0.5413 (\u001b[31m↗ 0.0371\u001b[0m)\n",
            "    ├── Ppyoloeloss/loss = 1.7423\n",
            "    │   ├── Epoch N-1      = 1.8931 (\u001b[32m↘ -0.1508\u001b[0m)\n",
            "    │   └── Best until now = 1.7074 (\u001b[31m↗ 0.0349\u001b[0m)\n",
            "    ├── Precision@0.50 = 0.0515\n",
            "    │   ├── Epoch N-1      = 0.0292 (\u001b[32m↗ 0.0222\u001b[0m)\n",
            "    │   └── Best until now = 0.0813 (\u001b[31m↘ -0.0298\u001b[0m)\n",
            "    ├── Recall@0.50 = 0.9677\n",
            "    │   ├── Epoch N-1      = 0.9677 (\u001b[37m= 0.0\u001b[0m)\n",
            "    │   └── Best until now = 0.9839 (\u001b[31m↘ -0.0161\u001b[0m)\n",
            "    ├── Map@0.50 = 0.9249\n",
            "    │   ├── Epoch N-1      = 0.8115 (\u001b[32m↗ 0.1134\u001b[0m)\n",
            "    │   └── Best until now = 0.932  (\u001b[31m↘ -0.0071\u001b[0m)\n",
            "    └── F1@0.50 = 0.0977\n",
            "        ├── Epoch N-1      = 0.0568 (\u001b[32m↗ 0.041\u001b[0m)\n",
            "        └── Best until now = 0.15   (\u001b[31m↘ -0.0523\u001b[0m)\n",
            "\n",
            "===========================================================\n"
          ]
        },
        {
          "metadata": {
            "tags": null
          },
          "name": "stderr",
          "output_type": "stream",
          "text": [
            "Train epoch 58: 100%|██████████| 26/26 [00:17<00:00,  1.50it/s, PPYoloELoss/loss=1.87, PPYoloELoss/loss_cls=0.87, PPYoloELoss/loss_dfl=0.558, PPYoloELoss/loss_iou=0.439, gpu_mem=6.82]\n",
            "Validating epoch 58: 100%|██████████| 8/8 [00:02<00:00,  2.69it/s]\n"
          ]
        },
        {
          "metadata": {
            "tags": null
          },
          "name": "stdout",
          "output_type": "stream",
          "text": [
            "===========================================================\n",
            "SUMMARY OF EPOCH 58\n",
            "├── Train\n",
            "│   ├── Ppyoloeloss/loss_cls = 0.87\n",
            "│   │   ├── Epoch N-1      = 0.8401 (\u001b[31m↗ 0.0299\u001b[0m)\n",
            "│   │   └── Best until now = 0.8401 (\u001b[31m↗ 0.0299\u001b[0m)\n",
            "│   ├── Ppyoloeloss/loss_iou = 0.4394\n",
            "│   │   ├── Epoch N-1      = 0.4406 (\u001b[32m↘ -0.0012\u001b[0m)\n",
            "│   │   └── Best until now = 0.4303 (\u001b[31m↗ 0.0091\u001b[0m)\n",
            "│   ├── Ppyoloeloss/loss_dfl = 0.5581\n",
            "│   │   ├── Epoch N-1      = 0.551  (\u001b[31m↗ 0.0071\u001b[0m)\n",
            "│   │   └── Best until now = 0.5433 (\u001b[31m↗ 0.0148\u001b[0m)\n",
            "│   └── Ppyoloeloss/loss = 1.8674\n",
            "│       ├── Epoch N-1      = 1.8316 (\u001b[31m↗ 0.0358\u001b[0m)\n",
            "│       └── Best until now = 1.8316 (\u001b[31m↗ 0.0358\u001b[0m)\n",
            "└── Validation\n",
            "    ├── Ppyoloeloss/loss_cls = 0.837\n",
            "    │   ├── Epoch N-1      = 0.756  (\u001b[31m↗ 0.0809\u001b[0m)\n",
            "    │   └── Best until now = 0.756  (\u001b[31m↗ 0.0809\u001b[0m)\n",
            "    ├── Ppyoloeloss/loss_iou = 0.3951\n",
            "    │   ├── Epoch N-1      = 0.4079 (\u001b[32m↘ -0.0127\u001b[0m)\n",
            "    │   └── Best until now = 0.3866 (\u001b[31m↗ 0.0085\u001b[0m)\n",
            "    ├── Ppyoloeloss/loss_dfl = 0.5468\n",
            "    │   ├── Epoch N-1      = 0.5784 (\u001b[32m↘ -0.0317\u001b[0m)\n",
            "    │   └── Best until now = 0.5413 (\u001b[31m↗ 0.0054\u001b[0m)\n",
            "    ├── Ppyoloeloss/loss = 1.7788\n",
            "    │   ├── Epoch N-1      = 1.7423 (\u001b[31m↗ 0.0365\u001b[0m)\n",
            "    │   └── Best until now = 1.7074 (\u001b[31m↗ 0.0714\u001b[0m)\n",
            "    ├── Precision@0.50 = 0.0376\n",
            "    │   ├── Epoch N-1      = 0.0515 (\u001b[31m↘ -0.0138\u001b[0m)\n",
            "    │   └── Best until now = 0.0813 (\u001b[31m↘ -0.0437\u001b[0m)\n",
            "    ├── Recall@0.50 = 0.9677\n",
            "    │   ├── Epoch N-1      = 0.9677 (\u001b[37m= 0.0\u001b[0m)\n",
            "    │   └── Best until now = 0.9839 (\u001b[31m↘ -0.0161\u001b[0m)\n",
            "    ├── Map@0.50 = 0.8794\n",
            "    │   ├── Epoch N-1      = 0.9249 (\u001b[31m↘ -0.0455\u001b[0m)\n",
            "    │   └── Best until now = 0.932  (\u001b[31m↘ -0.0527\u001b[0m)\n",
            "    └── F1@0.50 = 0.0724\n",
            "        ├── Epoch N-1      = 0.0977 (\u001b[31m↘ -0.0253\u001b[0m)\n",
            "        └── Best until now = 0.15   (\u001b[31m↘ -0.0776\u001b[0m)\n",
            "\n",
            "===========================================================\n"
          ]
        },
        {
          "metadata": {
            "tags": null
          },
          "name": "stderr",
          "output_type": "stream",
          "text": [
            "Train epoch 59: 100%|██████████| 26/26 [00:17<00:00,  1.50it/s, PPYoloELoss/loss=1.9, PPYoloELoss/loss_cls=0.868, PPYoloELoss/loss_dfl=0.569, PPYoloELoss/loss_iou=0.458, gpu_mem=6.97]\n",
            "Validating epoch 59: 100%|██████████| 8/8 [00:03<00:00,  2.66it/s]\n"
          ]
        },
        {
          "metadata": {
            "tags": null
          },
          "name": "stdout",
          "output_type": "stream",
          "text": [
            "===========================================================\n",
            "SUMMARY OF EPOCH 59\n",
            "├── Train\n",
            "│   ├── Ppyoloeloss/loss_cls = 0.8684\n",
            "│   │   ├── Epoch N-1      = 0.87   (\u001b[32m↘ -0.0015\u001b[0m)\n",
            "│   │   └── Best until now = 0.8401 (\u001b[31m↗ 0.0284\u001b[0m)\n",
            "│   ├── Ppyoloeloss/loss_iou = 0.4583\n",
            "│   │   ├── Epoch N-1      = 0.4394 (\u001b[31m↗ 0.0189\u001b[0m)\n",
            "│   │   └── Best until now = 0.4303 (\u001b[31m↗ 0.0281\u001b[0m)\n",
            "│   ├── Ppyoloeloss/loss_dfl = 0.5693\n",
            "│   │   ├── Epoch N-1      = 0.5581 (\u001b[31m↗ 0.0112\u001b[0m)\n",
            "│   │   └── Best until now = 0.5433 (\u001b[31m↗ 0.026\u001b[0m)\n",
            "│   └── Ppyoloeloss/loss = 1.896\n",
            "│       ├── Epoch N-1      = 1.8674 (\u001b[31m↗ 0.0286\u001b[0m)\n",
            "│       └── Best until now = 1.8316 (\u001b[31m↗ 0.0644\u001b[0m)\n",
            "└── Validation\n",
            "    ├── Ppyoloeloss/loss_cls = 0.9072\n",
            "    │   ├── Epoch N-1      = 0.837  (\u001b[31m↗ 0.0703\u001b[0m)\n",
            "    │   └── Best until now = 0.756  (\u001b[31m↗ 0.1512\u001b[0m)\n",
            "    ├── Ppyoloeloss/loss_iou = 0.4346\n",
            "    │   ├── Epoch N-1      = 0.3951 (\u001b[31m↗ 0.0395\u001b[0m)\n",
            "    │   └── Best until now = 0.3866 (\u001b[31m↗ 0.048\u001b[0m)\n",
            "    ├── Ppyoloeloss/loss_dfl = 0.5887\n",
            "    │   ├── Epoch N-1      = 0.5468 (\u001b[31m↗ 0.0419\u001b[0m)\n",
            "    │   └── Best until now = 0.5413 (\u001b[31m↗ 0.0474\u001b[0m)\n",
            "    ├── Ppyoloeloss/loss = 1.9305\n",
            "    │   ├── Epoch N-1      = 1.7788 (\u001b[31m↗ 0.1517\u001b[0m)\n",
            "    │   └── Best until now = 1.7074 (\u001b[31m↗ 0.2231\u001b[0m)\n",
            "    ├── Precision@0.50 = 0.0266\n",
            "    │   ├── Epoch N-1      = 0.0376 (\u001b[31m↘ -0.011\u001b[0m)\n",
            "    │   └── Best until now = 0.0813 (\u001b[31m↘ -0.0547\u001b[0m)\n",
            "    ├── Recall@0.50 = 0.9677\n",
            "    │   ├── Epoch N-1      = 0.9677 (\u001b[37m= 0.0\u001b[0m)\n",
            "    │   └── Best until now = 0.9839 (\u001b[31m↘ -0.0161\u001b[0m)\n",
            "    ├── Map@0.50 = 0.8611\n",
            "    │   ├── Epoch N-1      = 0.8794 (\u001b[31m↘ -0.0183\u001b[0m)\n",
            "    │   └── Best until now = 0.932  (\u001b[31m↘ -0.071\u001b[0m)\n",
            "    └── F1@0.50 = 0.0517\n",
            "        ├── Epoch N-1      = 0.0724 (\u001b[31m↘ -0.0207\u001b[0m)\n",
            "        └── Best until now = 0.15   (\u001b[31m↘ -0.0983\u001b[0m)\n",
            "\n",
            "===========================================================\n"
          ]
        },
        {
          "metadata": {
            "tags": null
          },
          "name": "stderr",
          "output_type": "stream",
          "text": [
            "Train epoch 60: 100%|██████████| 26/26 [00:17<00:00,  1.50it/s, PPYoloELoss/loss=1.89, PPYoloELoss/loss_cls=0.885, PPYoloELoss/loss_dfl=0.562, PPYoloELoss/loss_iou=0.446, gpu_mem=6.84]\n",
            "Validating epoch 60: 100%|██████████| 8/8 [00:03<00:00,  2.59it/s]\n"
          ]
        },
        {
          "metadata": {
            "tags": null
          },
          "name": "stdout",
          "output_type": "stream",
          "text": [
            "===========================================================\n",
            "SUMMARY OF EPOCH 60\n",
            "├── Train\n",
            "│   ├── Ppyoloeloss/loss_cls = 0.8846\n",
            "│   │   ├── Epoch N-1      = 0.8684 (\u001b[31m↗ 0.0162\u001b[0m)\n",
            "│   │   └── Best until now = 0.8401 (\u001b[31m↗ 0.0446\u001b[0m)\n",
            "│   ├── Ppyoloeloss/loss_iou = 0.4459\n",
            "│   │   ├── Epoch N-1      = 0.4583 (\u001b[32m↘ -0.0124\u001b[0m)\n",
            "│   │   └── Best until now = 0.4303 (\u001b[31m↗ 0.0156\u001b[0m)\n",
            "│   ├── Ppyoloeloss/loss_dfl = 0.562\n",
            "│   │   ├── Epoch N-1      = 0.5693 (\u001b[32m↘ -0.0073\u001b[0m)\n",
            "│   │   └── Best until now = 0.5433 (\u001b[31m↗ 0.0187\u001b[0m)\n",
            "│   └── Ppyoloeloss/loss = 1.8925\n",
            "│       ├── Epoch N-1      = 1.896  (\u001b[32m↘ -0.0035\u001b[0m)\n",
            "│       └── Best until now = 1.8316 (\u001b[31m↗ 0.0609\u001b[0m)\n",
            "└── Validation\n",
            "    ├── Ppyoloeloss/loss_cls = 0.7968\n",
            "    │   ├── Epoch N-1      = 0.9072 (\u001b[32m↘ -0.1104\u001b[0m)\n",
            "    │   └── Best until now = 0.756  (\u001b[31m↗ 0.0408\u001b[0m)\n",
            "    ├── Ppyoloeloss/loss_iou = 0.421\n",
            "    │   ├── Epoch N-1      = 0.4346 (\u001b[32m↘ -0.0136\u001b[0m)\n",
            "    │   └── Best until now = 0.3866 (\u001b[31m↗ 0.0344\u001b[0m)\n",
            "    ├── Ppyoloeloss/loss_dfl = 0.5678\n",
            "    │   ├── Epoch N-1      = 0.5887 (\u001b[32m↘ -0.0209\u001b[0m)\n",
            "    │   └── Best until now = 0.5413 (\u001b[31m↗ 0.0265\u001b[0m)\n",
            "    ├── Ppyoloeloss/loss = 1.7857\n",
            "    │   ├── Epoch N-1      = 1.9305 (\u001b[32m↘ -0.1449\u001b[0m)\n",
            "    │   └── Best until now = 1.7074 (\u001b[31m↗ 0.0782\u001b[0m)\n",
            "    ├── Precision@0.50 = 0.0642\n",
            "    │   ├── Epoch N-1      = 0.0266 (\u001b[32m↗ 0.0377\u001b[0m)\n",
            "    │   └── Best until now = 0.0813 (\u001b[31m↘ -0.0171\u001b[0m)\n",
            "    ├── Recall@0.50 = 0.9677\n",
            "    │   ├── Epoch N-1      = 0.9677 (\u001b[37m= 0.0\u001b[0m)\n",
            "    │   └── Best until now = 0.9839 (\u001b[31m↘ -0.0161\u001b[0m)\n",
            "    ├── Map@0.50 = 0.875\n",
            "    │   ├── Epoch N-1      = 0.8611 (\u001b[32m↗ 0.0139\u001b[0m)\n",
            "    │   └── Best until now = 0.932  (\u001b[31m↘ -0.0571\u001b[0m)\n",
            "    └── F1@0.50 = 0.1205\n",
            "        ├── Epoch N-1      = 0.0517 (\u001b[32m↗ 0.0687\u001b[0m)\n",
            "        └── Best until now = 0.15   (\u001b[31m↘ -0.0295\u001b[0m)\n",
            "\n",
            "===========================================================\n"
          ]
        },
        {
          "metadata": {
            "tags": null
          },
          "name": "stderr",
          "output_type": "stream",
          "text": [
            "Train epoch 61: 100%|██████████| 26/26 [00:17<00:00,  1.45it/s, PPYoloELoss/loss=1.85, PPYoloELoss/loss_cls=0.835, PPYoloELoss/loss_dfl=0.565, PPYoloELoss/loss_iou=0.446, gpu_mem=6.83]\n",
            "Validating epoch 61: 100%|██████████| 8/8 [00:02<00:00,  2.69it/s]\n"
          ]
        },
        {
          "metadata": {
            "tags": null
          },
          "name": "stdout",
          "output_type": "stream",
          "text": [
            "===========================================================\n",
            "SUMMARY OF EPOCH 61\n",
            "├── Train\n",
            "│   ├── Ppyoloeloss/loss_cls = 0.8353\n",
            "│   │   ├── Epoch N-1      = 0.8846 (\u001b[32m↘ -0.0493\u001b[0m)\n",
            "│   │   └── Best until now = 0.8401 (\u001b[32m↘ -0.0048\u001b[0m)\n",
            "│   ├── Ppyoloeloss/loss_iou = 0.4456\n",
            "│   │   ├── Epoch N-1      = 0.4459 (\u001b[32m↘ -0.0003\u001b[0m)\n",
            "│   │   └── Best until now = 0.4303 (\u001b[31m↗ 0.0153\u001b[0m)\n",
            "│   ├── Ppyoloeloss/loss_dfl = 0.5653\n",
            "│   │   ├── Epoch N-1      = 0.562  (\u001b[31m↗ 0.0033\u001b[0m)\n",
            "│   │   └── Best until now = 0.5433 (\u001b[31m↗ 0.0219\u001b[0m)\n",
            "│   └── Ppyoloeloss/loss = 1.8461\n",
            "│       ├── Epoch N-1      = 1.8925 (\u001b[32m↘ -0.0464\u001b[0m)\n",
            "│       └── Best until now = 1.8316 (\u001b[31m↗ 0.0145\u001b[0m)\n",
            "└── Validation\n",
            "    ├── Ppyoloeloss/loss_cls = 0.9145\n",
            "    │   ├── Epoch N-1      = 0.7968 (\u001b[31m↗ 0.1177\u001b[0m)\n",
            "    │   └── Best until now = 0.756  (\u001b[31m↗ 0.1585\u001b[0m)\n",
            "    ├── Ppyoloeloss/loss_iou = 0.4508\n",
            "    │   ├── Epoch N-1      = 0.421  (\u001b[31m↗ 0.0297\u001b[0m)\n",
            "    │   └── Best until now = 0.3866 (\u001b[31m↗ 0.0641\u001b[0m)\n",
            "    ├── Ppyoloeloss/loss_dfl = 0.6197\n",
            "    │   ├── Epoch N-1      = 0.5678 (\u001b[31m↗ 0.0519\u001b[0m)\n",
            "    │   └── Best until now = 0.5413 (\u001b[31m↗ 0.0784\u001b[0m)\n",
            "    ├── Ppyoloeloss/loss = 1.985\n",
            "    │   ├── Epoch N-1      = 1.7857 (\u001b[31m↗ 0.1993\u001b[0m)\n",
            "    │   └── Best until now = 1.7074 (\u001b[31m↗ 0.2776\u001b[0m)\n",
            "    ├── Precision@0.50 = 0.034\n",
            "    │   ├── Epoch N-1      = 0.0642 (\u001b[31m↘ -0.0303\u001b[0m)\n",
            "    │   └── Best until now = 0.0813 (\u001b[31m↘ -0.0473\u001b[0m)\n",
            "    ├── Recall@0.50 = 0.9677\n",
            "    │   ├── Epoch N-1      = 0.9677 (\u001b[37m= 0.0\u001b[0m)\n",
            "    │   └── Best until now = 0.9839 (\u001b[31m↘ -0.0161\u001b[0m)\n",
            "    ├── Map@0.50 = 0.8224\n",
            "    │   ├── Epoch N-1      = 0.875  (\u001b[31m↘ -0.0526\u001b[0m)\n",
            "    │   └── Best until now = 0.932  (\u001b[31m↘ -0.1097\u001b[0m)\n",
            "    └── F1@0.50 = 0.0656\n",
            "        ├── Epoch N-1      = 0.1205 (\u001b[31m↘ -0.0548\u001b[0m)\n",
            "        └── Best until now = 0.15   (\u001b[31m↘ -0.0844\u001b[0m)\n",
            "\n",
            "===========================================================\n"
          ]
        },
        {
          "metadata": {
            "tags": null
          },
          "name": "stderr",
          "output_type": "stream",
          "text": [
            "Train epoch 62: 100%|██████████| 26/26 [00:17<00:00,  1.47it/s, PPYoloELoss/loss=1.92, PPYoloELoss/loss_cls=0.888, PPYoloELoss/loss_dfl=0.577, PPYoloELoss/loss_iou=0.452, gpu_mem=6.83]\n",
            "Validating epoch 62: 100%|██████████| 8/8 [00:02<00:00,  2.69it/s]\n"
          ]
        },
        {
          "metadata": {
            "tags": null
          },
          "name": "stdout",
          "output_type": "stream",
          "text": [
            "===========================================================\n",
            "SUMMARY OF EPOCH 62\n",
            "├── Train\n",
            "│   ├── Ppyoloeloss/loss_cls = 0.8875\n",
            "│   │   ├── Epoch N-1      = 0.8353 (\u001b[31m↗ 0.0522\u001b[0m)\n",
            "│   │   └── Best until now = 0.8353 (\u001b[31m↗ 0.0522\u001b[0m)\n",
            "│   ├── Ppyoloeloss/loss_iou = 0.4519\n",
            "│   │   ├── Epoch N-1      = 0.4456 (\u001b[31m↗ 0.0063\u001b[0m)\n",
            "│   │   └── Best until now = 0.4303 (\u001b[31m↗ 0.0216\u001b[0m)\n",
            "│   ├── Ppyoloeloss/loss_dfl = 0.5772\n",
            "│   │   ├── Epoch N-1      = 0.5653 (\u001b[31m↗ 0.0119\u001b[0m)\n",
            "│   │   └── Best until now = 0.5433 (\u001b[31m↗ 0.0339\u001b[0m)\n",
            "│   └── Ppyoloeloss/loss = 1.9166\n",
            "│       ├── Epoch N-1      = 1.8461 (\u001b[31m↗ 0.0704\u001b[0m)\n",
            "│       └── Best until now = 1.8316 (\u001b[31m↗ 0.085\u001b[0m)\n",
            "└── Validation\n",
            "    ├── Ppyoloeloss/loss_cls = 0.858\n",
            "    │   ├── Epoch N-1      = 0.9145 (\u001b[32m↘ -0.0565\u001b[0m)\n",
            "    │   └── Best until now = 0.756  (\u001b[31m↗ 0.102\u001b[0m)\n",
            "    ├── Ppyoloeloss/loss_iou = 0.4372\n",
            "    │   ├── Epoch N-1      = 0.4508 (\u001b[32m↘ -0.0136\u001b[0m)\n",
            "    │   └── Best until now = 0.3866 (\u001b[31m↗ 0.0505\u001b[0m)\n",
            "    ├── Ppyoloeloss/loss_dfl = 0.5984\n",
            "    │   ├── Epoch N-1      = 0.6197 (\u001b[32m↘ -0.0213\u001b[0m)\n",
            "    │   └── Best until now = 0.5413 (\u001b[31m↗ 0.0571\u001b[0m)\n",
            "    ├── Ppyoloeloss/loss = 1.8936\n",
            "    │   ├── Epoch N-1      = 1.985  (\u001b[32m↘ -0.0914\u001b[0m)\n",
            "    │   └── Best until now = 1.7074 (\u001b[31m↗ 0.1862\u001b[0m)\n",
            "    ├── Precision@0.50 = 0.0474\n",
            "    │   ├── Epoch N-1      = 0.034  (\u001b[32m↗ 0.0134\u001b[0m)\n",
            "    │   └── Best until now = 0.0813 (\u001b[31m↘ -0.0339\u001b[0m)\n",
            "    ├── Recall@0.50 = 0.9677\n",
            "    │   ├── Epoch N-1      = 0.9677 (\u001b[37m= 0.0\u001b[0m)\n",
            "    │   └── Best until now = 0.9839 (\u001b[31m↘ -0.0161\u001b[0m)\n",
            "    ├── Map@0.50 = 0.8729\n",
            "    │   ├── Epoch N-1      = 0.8224 (\u001b[32m↗ 0.0506\u001b[0m)\n",
            "    │   └── Best until now = 0.932  (\u001b[31m↘ -0.0591\u001b[0m)\n",
            "    └── F1@0.50 = 0.0903\n",
            "        ├── Epoch N-1      = 0.0656 (\u001b[32m↗ 0.0246\u001b[0m)\n",
            "        └── Best until now = 0.15   (\u001b[31m↘ -0.0597\u001b[0m)\n",
            "\n",
            "===========================================================\n"
          ]
        },
        {
          "metadata": {
            "tags": null
          },
          "name": "stderr",
          "output_type": "stream",
          "text": [
            "Train epoch 63: 100%|██████████| 26/26 [00:18<00:00,  1.43it/s, PPYoloELoss/loss=1.91, PPYoloELoss/loss_cls=0.88, PPYoloELoss/loss_dfl=0.567, PPYoloELoss/loss_iou=0.459, gpu_mem=6.84]\n",
            "Validating epoch 63: 100%|██████████| 8/8 [00:03<00:00,  2.66it/s]\n"
          ]
        },
        {
          "metadata": {
            "tags": null
          },
          "name": "stdout",
          "output_type": "stream",
          "text": [
            "===========================================================\n",
            "SUMMARY OF EPOCH 63\n",
            "├── Train\n",
            "│   ├── Ppyoloeloss/loss_cls = 0.8803\n",
            "│   │   ├── Epoch N-1      = 0.8875 (\u001b[32m↘ -0.0072\u001b[0m)\n",
            "│   │   └── Best until now = 0.8353 (\u001b[31m↗ 0.0451\u001b[0m)\n",
            "│   ├── Ppyoloeloss/loss_iou = 0.4595\n",
            "│   │   ├── Epoch N-1      = 0.4519 (\u001b[31m↗ 0.0076\u001b[0m)\n",
            "│   │   └── Best until now = 0.4303 (\u001b[31m↗ 0.0292\u001b[0m)\n",
            "│   ├── Ppyoloeloss/loss_dfl = 0.5673\n",
            "│   │   ├── Epoch N-1      = 0.5772 (\u001b[32m↘ -0.0099\u001b[0m)\n",
            "│   │   └── Best until now = 0.5433 (\u001b[31m↗ 0.0239\u001b[0m)\n",
            "│   └── Ppyoloeloss/loss = 1.9071\n",
            "│       ├── Epoch N-1      = 1.9166 (\u001b[32m↘ -0.0094\u001b[0m)\n",
            "│       └── Best until now = 1.8316 (\u001b[31m↗ 0.0755\u001b[0m)\n",
            "└── Validation\n",
            "    ├── Ppyoloeloss/loss_cls = 0.7738\n",
            "    │   ├── Epoch N-1      = 0.858  (\u001b[32m↘ -0.0842\u001b[0m)\n",
            "    │   └── Best until now = 0.756  (\u001b[31m↗ 0.0178\u001b[0m)\n",
            "    ├── Ppyoloeloss/loss_iou = 0.4205\n",
            "    │   ├── Epoch N-1      = 0.4372 (\u001b[32m↘ -0.0167\u001b[0m)\n",
            "    │   └── Best until now = 0.3866 (\u001b[31m↗ 0.0338\u001b[0m)\n",
            "    ├── Ppyoloeloss/loss_dfl = 0.5853\n",
            "    │   ├── Epoch N-1      = 0.5984 (\u001b[32m↘ -0.0131\u001b[0m)\n",
            "    │   └── Best until now = 0.5413 (\u001b[31m↗ 0.044\u001b[0m)\n",
            "    ├── Ppyoloeloss/loss = 1.7796\n",
            "    │   ├── Epoch N-1      = 1.8936 (\u001b[32m↘ -0.114\u001b[0m)\n",
            "    │   └── Best until now = 1.7074 (\u001b[31m↗ 0.0722\u001b[0m)\n",
            "    ├── Precision@0.50 = 0.0636\n",
            "    │   ├── Epoch N-1      = 0.0474 (\u001b[32m↗ 0.0163\u001b[0m)\n",
            "    │   └── Best until now = 0.0813 (\u001b[31m↘ -0.0177\u001b[0m)\n",
            "    ├── Recall@0.50 = 0.9677\n",
            "    │   ├── Epoch N-1      = 0.9677 (\u001b[37m= 0.0\u001b[0m)\n",
            "    │   └── Best until now = 0.9839 (\u001b[31m↘ -0.0161\u001b[0m)\n",
            "    ├── Map@0.50 = 0.9161\n",
            "    │   ├── Epoch N-1      = 0.8729 (\u001b[32m↗ 0.0432\u001b[0m)\n",
            "    │   └── Best until now = 0.932  (\u001b[31m↘ -0.0159\u001b[0m)\n",
            "    └── F1@0.50 = 0.1194\n",
            "        ├── Epoch N-1      = 0.0903 (\u001b[32m↗ 0.0291\u001b[0m)\n",
            "        └── Best until now = 0.15   (\u001b[31m↘ -0.0306\u001b[0m)\n",
            "\n",
            "===========================================================\n"
          ]
        },
        {
          "metadata": {
            "tags": null
          },
          "name": "stderr",
          "output_type": "stream",
          "text": [
            "Train epoch 64: 100%|██████████| 26/26 [00:18<00:00,  1.40it/s, PPYoloELoss/loss=1.83, PPYoloELoss/loss_cls=0.841, PPYoloELoss/loss_dfl=0.554, PPYoloELoss/loss_iou=0.44, gpu_mem=6.84]\n",
            "Validating epoch 64: 100%|██████████| 8/8 [00:03<00:00,  2.66it/s]\n"
          ]
        },
        {
          "metadata": {
            "tags": null
          },
          "name": "stdout",
          "output_type": "stream",
          "text": [
            "===========================================================\n",
            "SUMMARY OF EPOCH 64\n",
            "├── Train\n",
            "│   ├── Ppyoloeloss/loss_cls = 0.8409\n",
            "│   │   ├── Epoch N-1      = 0.8803 (\u001b[32m↘ -0.0395\u001b[0m)\n",
            "│   │   └── Best until now = 0.8353 (\u001b[31m↗ 0.0056\u001b[0m)\n",
            "│   ├── Ppyoloeloss/loss_iou = 0.44\n",
            "│   │   ├── Epoch N-1      = 0.4595 (\u001b[32m↘ -0.0195\u001b[0m)\n",
            "│   │   └── Best until now = 0.4303 (\u001b[31m↗ 0.0098\u001b[0m)\n",
            "│   ├── Ppyoloeloss/loss_dfl = 0.5538\n",
            "│   │   ├── Epoch N-1      = 0.5673 (\u001b[32m↘ -0.0135\u001b[0m)\n",
            "│   │   └── Best until now = 0.5433 (\u001b[31m↗ 0.0105\u001b[0m)\n",
            "│   └── Ppyoloeloss/loss = 1.8347\n",
            "│       ├── Epoch N-1      = 1.9071 (\u001b[32m↘ -0.0724\u001b[0m)\n",
            "│       └── Best until now = 1.8316 (\u001b[31m↗ 0.0031\u001b[0m)\n",
            "└── Validation\n",
            "    ├── Ppyoloeloss/loss_cls = 0.858\n",
            "    │   ├── Epoch N-1      = 0.7738 (\u001b[31m↗ 0.0842\u001b[0m)\n",
            "    │   └── Best until now = 0.756  (\u001b[31m↗ 0.102\u001b[0m)\n",
            "    ├── Ppyoloeloss/loss_iou = 0.3978\n",
            "    │   ├── Epoch N-1      = 0.4205 (\u001b[32m↘ -0.0227\u001b[0m)\n",
            "    │   └── Best until now = 0.3866 (\u001b[31m↗ 0.0111\u001b[0m)\n",
            "    ├── Ppyoloeloss/loss_dfl = 0.5682\n",
            "    │   ├── Epoch N-1      = 0.5853 (\u001b[32m↘ -0.0171\u001b[0m)\n",
            "    │   └── Best until now = 0.5413 (\u001b[31m↗ 0.0269\u001b[0m)\n",
            "    ├── Ppyoloeloss/loss = 1.824\n",
            "    │   ├── Epoch N-1      = 1.7796 (\u001b[31m↗ 0.0444\u001b[0m)\n",
            "    │   └── Best until now = 1.7074 (\u001b[31m↗ 0.1166\u001b[0m)\n",
            "    ├── Precision@0.50 = 0.0349\n",
            "    │   ├── Epoch N-1      = 0.0636 (\u001b[31m↘ -0.0288\u001b[0m)\n",
            "    │   └── Best until now = 0.0813 (\u001b[31m↘ -0.0464\u001b[0m)\n",
            "    ├── Recall@0.50 = 0.9677\n",
            "    │   ├── Epoch N-1      = 0.9677 (\u001b[37m= 0.0\u001b[0m)\n",
            "    │   └── Best until now = 0.9839 (\u001b[31m↘ -0.0161\u001b[0m)\n",
            "    ├── Map@0.50 = 0.8818\n",
            "    │   ├── Epoch N-1      = 0.9161 (\u001b[31m↘ -0.0343\u001b[0m)\n",
            "    │   └── Best until now = 0.932  (\u001b[31m↘ -0.0502\u001b[0m)\n",
            "    └── F1@0.50 = 0.0673\n",
            "        ├── Epoch N-1      = 0.1194 (\u001b[31m↘ -0.0521\u001b[0m)\n",
            "        └── Best until now = 0.15   (\u001b[31m↘ -0.0827\u001b[0m)\n",
            "\n",
            "===========================================================\n"
          ]
        },
        {
          "metadata": {
            "tags": null
          },
          "name": "stderr",
          "output_type": "stream",
          "text": [
            "Train epoch 65: 100%|██████████| 26/26 [00:17<00:00,  1.51it/s, PPYoloELoss/loss=1.88, PPYoloELoss/loss_cls=0.87, PPYoloELoss/loss_dfl=0.573, PPYoloELoss/loss_iou=0.439, gpu_mem=6.82]\n",
            "Validating epoch 65: 100%|██████████| 8/8 [00:03<00:00,  2.62it/s]\n"
          ]
        },
        {
          "metadata": {
            "tags": null
          },
          "name": "stdout",
          "output_type": "stream",
          "text": [
            "===========================================================\n",
            "SUMMARY OF EPOCH 65\n",
            "├── Train\n",
            "│   ├── Ppyoloeloss/loss_cls = 0.8695\n",
            "│   │   ├── Epoch N-1      = 0.8409 (\u001b[31m↗ 0.0287\u001b[0m)\n",
            "│   │   └── Best until now = 0.8353 (\u001b[31m↗ 0.0342\u001b[0m)\n",
            "│   ├── Ppyoloeloss/loss_iou = 0.439\n",
            "│   │   ├── Epoch N-1      = 0.44   (\u001b[32m↘ -0.0011\u001b[0m)\n",
            "│   │   └── Best until now = 0.4303 (\u001b[31m↗ 0.0087\u001b[0m)\n",
            "│   ├── Ppyoloeloss/loss_dfl = 0.5725\n",
            "│   │   ├── Epoch N-1      = 0.5538 (\u001b[31m↗ 0.0187\u001b[0m)\n",
            "│   │   └── Best until now = 0.5433 (\u001b[31m↗ 0.0292\u001b[0m)\n",
            "│   └── Ppyoloeloss/loss = 1.881\n",
            "│       ├── Epoch N-1      = 1.8347 (\u001b[31m↗ 0.0463\u001b[0m)\n",
            "│       └── Best until now = 1.8316 (\u001b[31m↗ 0.0494\u001b[0m)\n",
            "└── Validation\n",
            "    ├── Ppyoloeloss/loss_cls = 0.7694\n",
            "    │   ├── Epoch N-1      = 0.858  (\u001b[32m↘ -0.0886\u001b[0m)\n",
            "    │   └── Best until now = 0.756  (\u001b[31m↗ 0.0134\u001b[0m)\n",
            "    ├── Ppyoloeloss/loss_iou = 0.398\n",
            "    │   ├── Epoch N-1      = 0.3978 (\u001b[31m↗ 0.0002\u001b[0m)\n",
            "    │   └── Best until now = 0.3866 (\u001b[31m↗ 0.0113\u001b[0m)\n",
            "    ├── Ppyoloeloss/loss_dfl = 0.5721\n",
            "    │   ├── Epoch N-1      = 0.5682 (\u001b[31m↗ 0.0039\u001b[0m)\n",
            "    │   └── Best until now = 0.5413 (\u001b[31m↗ 0.0307\u001b[0m)\n",
            "    ├── Ppyoloeloss/loss = 1.7394\n",
            "    │   ├── Epoch N-1      = 1.824  (\u001b[32m↘ -0.0846\u001b[0m)\n",
            "    │   └── Best until now = 1.7074 (\u001b[31m↗ 0.032\u001b[0m)\n",
            "    ├── Precision@0.50 = 0.0631\n",
            "    │   ├── Epoch N-1      = 0.0349 (\u001b[32m↗ 0.0282\u001b[0m)\n",
            "    │   └── Best until now = 0.0813 (\u001b[31m↘ -0.0182\u001b[0m)\n",
            "    ├── Recall@0.50 = 0.9677\n",
            "    │   ├── Epoch N-1      = 0.9677 (\u001b[37m= 0.0\u001b[0m)\n",
            "    │   └── Best until now = 0.9839 (\u001b[31m↘ -0.0161\u001b[0m)\n",
            "    ├── Map@0.50 = 0.9105\n",
            "    │   ├── Epoch N-1      = 0.8818 (\u001b[32m↗ 0.0287\u001b[0m)\n",
            "    │   └── Best until now = 0.932  (\u001b[31m↘ -0.0215\u001b[0m)\n",
            "    └── F1@0.50 = 0.1185\n",
            "        ├── Epoch N-1      = 0.0673 (\u001b[32m↗ 0.0512\u001b[0m)\n",
            "        └── Best until now = 0.15   (\u001b[31m↘ -0.0315\u001b[0m)\n",
            "\n",
            "===========================================================\n"
          ]
        },
        {
          "metadata": {
            "tags": null
          },
          "name": "stderr",
          "output_type": "stream",
          "text": [
            "Train epoch 66: 100%|██████████| 26/26 [00:17<00:00,  1.49it/s, PPYoloELoss/loss=1.92, PPYoloELoss/loss_cls=0.867, PPYoloELoss/loss_dfl=0.586, PPYoloELoss/loss_iou=0.47, gpu_mem=6.98]\n",
            "Validating epoch 66: 100%|██████████| 8/8 [00:03<00:00,  2.66it/s]\n"
          ]
        },
        {
          "metadata": {
            "tags": null
          },
          "name": "stdout",
          "output_type": "stream",
          "text": [
            "===========================================================\n",
            "SUMMARY OF EPOCH 66\n",
            "├── Train\n",
            "│   ├── Ppyoloeloss/loss_cls = 0.8675\n",
            "│   │   ├── Epoch N-1      = 0.8695 (\u001b[32m↘ -0.002\u001b[0m)\n",
            "│   │   └── Best until now = 0.8353 (\u001b[31m↗ 0.0322\u001b[0m)\n",
            "│   ├── Ppyoloeloss/loss_iou = 0.4697\n",
            "│   │   ├── Epoch N-1      = 0.439  (\u001b[31m↗ 0.0308\u001b[0m)\n",
            "│   │   └── Best until now = 0.4303 (\u001b[31m↗ 0.0395\u001b[0m)\n",
            "│   ├── Ppyoloeloss/loss_dfl = 0.5856\n",
            "│   │   ├── Epoch N-1      = 0.5725 (\u001b[31m↗ 0.0131\u001b[0m)\n",
            "│   │   └── Best until now = 0.5433 (\u001b[31m↗ 0.0423\u001b[0m)\n",
            "│   └── Ppyoloeloss/loss = 1.9229\n",
            "│       ├── Epoch N-1      = 1.881  (\u001b[31m↗ 0.0419\u001b[0m)\n",
            "│       └── Best until now = 1.8316 (\u001b[31m↗ 0.0913\u001b[0m)\n",
            "└── Validation\n",
            "    ├── Ppyoloeloss/loss_cls = 0.8548\n",
            "    │   ├── Epoch N-1      = 0.7694 (\u001b[31m↗ 0.0854\u001b[0m)\n",
            "    │   └── Best until now = 0.756  (\u001b[31m↗ 0.0988\u001b[0m)\n",
            "    ├── Ppyoloeloss/loss_iou = 0.4557\n",
            "    │   ├── Epoch N-1      = 0.398  (\u001b[31m↗ 0.0577\u001b[0m)\n",
            "    │   └── Best until now = 0.3866 (\u001b[31m↗ 0.069\u001b[0m)\n",
            "    ├── Ppyoloeloss/loss_dfl = 0.6131\n",
            "    │   ├── Epoch N-1      = 0.5721 (\u001b[31m↗ 0.041\u001b[0m)\n",
            "    │   └── Best until now = 0.5413 (\u001b[31m↗ 0.0717\u001b[0m)\n",
            "    ├── Ppyoloeloss/loss = 1.9236\n",
            "    │   ├── Epoch N-1      = 1.7394 (\u001b[31m↗ 0.1841\u001b[0m)\n",
            "    │   └── Best until now = 1.7074 (\u001b[31m↗ 0.2161\u001b[0m)\n",
            "    ├── Precision@0.50 = 0.041\n",
            "    │   ├── Epoch N-1      = 0.0631 (\u001b[31m↘ -0.0221\u001b[0m)\n",
            "    │   └── Best until now = 0.0813 (\u001b[31m↘ -0.0403\u001b[0m)\n",
            "    ├── Recall@0.50 = 0.9677\n",
            "    │   ├── Epoch N-1      = 0.9677 (\u001b[37m= 0.0\u001b[0m)\n",
            "    │   └── Best until now = 0.9839 (\u001b[31m↘ -0.0161\u001b[0m)\n",
            "    ├── Map@0.50 = 0.8474\n",
            "    │   ├── Epoch N-1      = 0.9105 (\u001b[31m↘ -0.0632\u001b[0m)\n",
            "    │   └── Best until now = 0.932  (\u001b[31m↘ -0.0847\u001b[0m)\n",
            "    └── F1@0.50 = 0.0786\n",
            "        ├── Epoch N-1      = 0.1185 (\u001b[31m↘ -0.0398\u001b[0m)\n",
            "        └── Best until now = 0.15   (\u001b[31m↘ -0.0714\u001b[0m)\n",
            "\n",
            "===========================================================\n"
          ]
        },
        {
          "metadata": {
            "tags": null
          },
          "name": "stderr",
          "output_type": "stream",
          "text": [
            "Train epoch 67: 100%|██████████| 26/26 [00:17<00:00,  1.50it/s, PPYoloELoss/loss=1.9, PPYoloELoss/loss_cls=0.88, PPYoloELoss/loss_dfl=0.561, PPYoloELoss/loss_iou=0.457, gpu_mem=6.82]\n",
            "Validating epoch 67: 100%|██████████| 8/8 [00:03<00:00,  2.60it/s]\n"
          ]
        },
        {
          "metadata": {
            "tags": null
          },
          "name": "stdout",
          "output_type": "stream",
          "text": [
            "===========================================================\n",
            "SUMMARY OF EPOCH 67\n",
            "├── Train\n",
            "│   ├── Ppyoloeloss/loss_cls = 0.8804\n",
            "│   │   ├── Epoch N-1      = 0.8675 (\u001b[31m↗ 0.0129\u001b[0m)\n",
            "│   │   └── Best until now = 0.8353 (\u001b[31m↗ 0.0451\u001b[0m)\n",
            "│   ├── Ppyoloeloss/loss_iou = 0.4567\n",
            "│   │   ├── Epoch N-1      = 0.4697 (\u001b[32m↘ -0.013\u001b[0m)\n",
            "│   │   └── Best until now = 0.4303 (\u001b[31m↗ 0.0265\u001b[0m)\n",
            "│   ├── Ppyoloeloss/loss_dfl = 0.5614\n",
            "│   │   ├── Epoch N-1      = 0.5856 (\u001b[32m↘ -0.0242\u001b[0m)\n",
            "│   │   └── Best until now = 0.5433 (\u001b[31m↗ 0.0181\u001b[0m)\n",
            "│   └── Ppyoloeloss/loss = 1.8985\n",
            "│       ├── Epoch N-1      = 1.9229 (\u001b[32m↘ -0.0243\u001b[0m)\n",
            "│       └── Best until now = 1.8316 (\u001b[31m↗ 0.0669\u001b[0m)\n",
            "└── Validation\n",
            "    ├── Ppyoloeloss/loss_cls = 0.9678\n",
            "    │   ├── Epoch N-1      = 0.8548 (\u001b[31m↗ 0.113\u001b[0m)\n",
            "    │   └── Best until now = 0.756  (\u001b[31m↗ 0.2118\u001b[0m)\n",
            "    ├── Ppyoloeloss/loss_iou = 0.4491\n",
            "    │   ├── Epoch N-1      = 0.4557 (\u001b[32m↘ -0.0066\u001b[0m)\n",
            "    │   └── Best until now = 0.3866 (\u001b[31m↗ 0.0624\u001b[0m)\n",
            "    ├── Ppyoloeloss/loss_dfl = 0.6072\n",
            "    │   ├── Epoch N-1      = 0.6131 (\u001b[32m↘ -0.0058\u001b[0m)\n",
            "    │   └── Best until now = 0.5413 (\u001b[31m↗ 0.0659\u001b[0m)\n",
            "    ├── Ppyoloeloss/loss = 2.0241\n",
            "    │   ├── Epoch N-1      = 1.9236 (\u001b[31m↗ 0.1006\u001b[0m)\n",
            "    │   └── Best until now = 1.7074 (\u001b[31m↗ 0.3167\u001b[0m)\n",
            "    ├── Precision@0.50 = 0.0213\n",
            "    │   ├── Epoch N-1      = 0.041  (\u001b[31m↘ -0.0197\u001b[0m)\n",
            "    │   └── Best until now = 0.0813 (\u001b[31m↘ -0.06\u001b[0m)\n",
            "    ├── Recall@0.50 = 0.9677\n",
            "    │   ├── Epoch N-1      = 0.9677 (\u001b[37m= 0.0\u001b[0m)\n",
            "    │   └── Best until now = 0.9839 (\u001b[31m↘ -0.0161\u001b[0m)\n",
            "    ├── Map@0.50 = 0.8049\n",
            "    │   ├── Epoch N-1      = 0.8474 (\u001b[31m↘ -0.0424\u001b[0m)\n",
            "    │   └── Best until now = 0.932  (\u001b[31m↘ -0.1271\u001b[0m)\n",
            "    └── F1@0.50 = 0.0416\n",
            "        ├── Epoch N-1      = 0.0786 (\u001b[31m↘ -0.037\u001b[0m)\n",
            "        └── Best until now = 0.15   (\u001b[31m↘ -0.1084\u001b[0m)\n",
            "\n",
            "===========================================================\n"
          ]
        },
        {
          "metadata": {
            "tags": null
          },
          "name": "stderr",
          "output_type": "stream",
          "text": [
            "Train epoch 68: 100%|██████████| 26/26 [00:17<00:00,  1.51it/s, PPYoloELoss/loss=1.9, PPYoloELoss/loss_cls=0.881, PPYoloELoss/loss_dfl=0.569, PPYoloELoss/loss_iou=0.448, gpu_mem=6.82]\n",
            "Validating epoch 68: 100%|██████████| 8/8 [00:03<00:00,  2.58it/s]\n"
          ]
        },
        {
          "metadata": {
            "tags": null
          },
          "name": "stdout",
          "output_type": "stream",
          "text": [
            "===========================================================\n",
            "SUMMARY OF EPOCH 68\n",
            "├── Train\n",
            "│   ├── Ppyoloeloss/loss_cls = 0.8812\n",
            "│   │   ├── Epoch N-1      = 0.8804 (\u001b[31m↗ 0.0008\u001b[0m)\n",
            "│   │   └── Best until now = 0.8353 (\u001b[31m↗ 0.0459\u001b[0m)\n",
            "│   ├── Ppyoloeloss/loss_iou = 0.4481\n",
            "│   │   ├── Epoch N-1      = 0.4567 (\u001b[32m↘ -0.0087\u001b[0m)\n",
            "│   │   └── Best until now = 0.4303 (\u001b[31m↗ 0.0178\u001b[0m)\n",
            "│   ├── Ppyoloeloss/loss_dfl = 0.5687\n",
            "│   │   ├── Epoch N-1      = 0.5614 (\u001b[31m↗ 0.0072\u001b[0m)\n",
            "│   │   └── Best until now = 0.5433 (\u001b[31m↗ 0.0253\u001b[0m)\n",
            "│   └── Ppyoloeloss/loss = 1.8979\n",
            "│       ├── Epoch N-1      = 1.8985 (\u001b[32m↘ -0.0006\u001b[0m)\n",
            "│       └── Best until now = 1.8316 (\u001b[31m↗ 0.0663\u001b[0m)\n",
            "└── Validation\n",
            "    ├── Ppyoloeloss/loss_cls = 0.7965\n",
            "    │   ├── Epoch N-1      = 0.9678 (\u001b[32m↘ -0.1713\u001b[0m)\n",
            "    │   └── Best until now = 0.756  (\u001b[31m↗ 0.0405\u001b[0m)\n",
            "    ├── Ppyoloeloss/loss_iou = 0.4329\n",
            "    │   ├── Epoch N-1      = 0.4491 (\u001b[32m↘ -0.0162\u001b[0m)\n",
            "    │   └── Best until now = 0.3866 (\u001b[31m↗ 0.0462\u001b[0m)\n",
            "    ├── Ppyoloeloss/loss_dfl = 0.5881\n",
            "    │   ├── Epoch N-1      = 0.6072 (\u001b[32m↘ -0.0191\u001b[0m)\n",
            "    │   └── Best until now = 0.5413 (\u001b[31m↗ 0.0468\u001b[0m)\n",
            "    ├── Ppyoloeloss/loss = 1.8175\n",
            "    │   ├── Epoch N-1      = 2.0241 (\u001b[32m↘ -0.2067\u001b[0m)\n",
            "    │   └── Best until now = 1.7074 (\u001b[31m↗ 0.11\u001b[0m)\n",
            "    ├── Precision@0.50 = 0.038\n",
            "    │   ├── Epoch N-1      = 0.0213 (\u001b[32m↗ 0.0167\u001b[0m)\n",
            "    │   └── Best until now = 0.0813 (\u001b[31m↘ -0.0433\u001b[0m)\n",
            "    ├── Recall@0.50 = 0.9677\n",
            "    │   ├── Epoch N-1      = 0.9677 (\u001b[37m= 0.0\u001b[0m)\n",
            "    │   └── Best until now = 0.9839 (\u001b[31m↘ -0.0161\u001b[0m)\n",
            "    ├── Map@0.50 = 0.9119\n",
            "    │   ├── Epoch N-1      = 0.8049 (\u001b[32m↗ 0.107\u001b[0m)\n",
            "    │   └── Best until now = 0.932  (\u001b[31m↘ -0.0201\u001b[0m)\n",
            "    └── F1@0.50 = 0.0732\n",
            "        ├── Epoch N-1      = 0.0416 (\u001b[32m↗ 0.0315\u001b[0m)\n",
            "        └── Best until now = 0.15   (\u001b[31m↘ -0.0768\u001b[0m)\n",
            "\n",
            "===========================================================\n"
          ]
        },
        {
          "metadata": {
            "tags": null
          },
          "name": "stderr",
          "output_type": "stream",
          "text": [
            "Train epoch 69: 100%|██████████| 26/26 [00:17<00:00,  1.48it/s, PPYoloELoss/loss=1.83, PPYoloELoss/loss_cls=0.827, PPYoloELoss/loss_dfl=0.559, PPYoloELoss/loss_iou=0.441, gpu_mem=6.98]\n",
            "Validating epoch 69: 100%|██████████| 8/8 [00:03<00:00,  2.58it/s]\n"
          ]
        },
        {
          "metadata": {
            "tags": null
          },
          "name": "stdout",
          "output_type": "stream",
          "text": [
            "===========================================================\n",
            "SUMMARY OF EPOCH 69\n",
            "├── Train\n",
            "│   ├── Ppyoloeloss/loss_cls = 0.827\n",
            "│   │   ├── Epoch N-1      = 0.8812 (\u001b[32m↘ -0.0542\u001b[0m)\n",
            "│   │   └── Best until now = 0.8353 (\u001b[32m↘ -0.0083\u001b[0m)\n",
            "│   ├── Ppyoloeloss/loss_iou = 0.4415\n",
            "│   │   ├── Epoch N-1      = 0.4481 (\u001b[32m↘ -0.0066\u001b[0m)\n",
            "│   │   └── Best until now = 0.4303 (\u001b[31m↗ 0.0112\u001b[0m)\n",
            "│   ├── Ppyoloeloss/loss_dfl = 0.559\n",
            "│   │   ├── Epoch N-1      = 0.5687 (\u001b[32m↘ -0.0097\u001b[0m)\n",
            "│   │   └── Best until now = 0.5433 (\u001b[31m↗ 0.0156\u001b[0m)\n",
            "│   └── Ppyoloeloss/loss = 1.8275\n",
            "│       ├── Epoch N-1      = 1.8979 (\u001b[32m↘ -0.0705\u001b[0m)\n",
            "│       └── Best until now = 1.8316 (\u001b[32m↘ -0.0041\u001b[0m)\n",
            "└── Validation\n",
            "    ├── Ppyoloeloss/loss_cls = 0.7631\n",
            "    │   ├── Epoch N-1      = 0.7965 (\u001b[32m↘ -0.0334\u001b[0m)\n",
            "    │   └── Best until now = 0.756  (\u001b[31m↗ 0.0071\u001b[0m)\n",
            "    ├── Ppyoloeloss/loss_iou = 0.4186\n",
            "    │   ├── Epoch N-1      = 0.4329 (\u001b[32m↘ -0.0143\u001b[0m)\n",
            "    │   └── Best until now = 0.3866 (\u001b[31m↗ 0.0319\u001b[0m)\n",
            "    ├── Ppyoloeloss/loss_dfl = 0.5568\n",
            "    │   ├── Epoch N-1      = 0.5881 (\u001b[32m↘ -0.0313\u001b[0m)\n",
            "    │   └── Best until now = 0.5413 (\u001b[31m↗ 0.0155\u001b[0m)\n",
            "    ├── Ppyoloeloss/loss = 1.7385\n",
            "    │   ├── Epoch N-1      = 1.8175 (\u001b[32m↘ -0.079\u001b[0m)\n",
            "    │   └── Best until now = 1.7074 (\u001b[31m↗ 0.031\u001b[0m)\n",
            "    ├── Precision@0.50 = 0.0543\n",
            "    │   ├── Epoch N-1      = 0.038  (\u001b[32m↗ 0.0163\u001b[0m)\n",
            "    │   └── Best until now = 0.0813 (\u001b[31m↘ -0.027\u001b[0m)\n",
            "    ├── Recall@0.50 = 0.9677\n",
            "    │   ├── Epoch N-1      = 0.9677 (\u001b[37m= 0.0\u001b[0m)\n",
            "    │   └── Best until now = 0.9839 (\u001b[31m↘ -0.0161\u001b[0m)\n",
            "    ├── Map@0.50 = 0.9016\n",
            "    │   ├── Epoch N-1      = 0.9119 (\u001b[31m↘ -0.0103\u001b[0m)\n",
            "    │   └── Best until now = 0.932  (\u001b[31m↘ -0.0305\u001b[0m)\n",
            "    └── F1@0.50 = 0.1028\n",
            "        ├── Epoch N-1      = 0.0732 (\u001b[32m↗ 0.0297\u001b[0m)\n",
            "        └── Best until now = 0.15   (\u001b[31m↘ -0.0472\u001b[0m)\n",
            "\n",
            "===========================================================\n"
          ]
        },
        {
          "metadata": {
            "tags": null
          },
          "name": "stderr",
          "output_type": "stream",
          "text": [
            "Train epoch 70: 100%|██████████| 26/26 [00:17<00:00,  1.47it/s, PPYoloELoss/loss=1.8, PPYoloELoss/loss_cls=0.824, PPYoloELoss/loss_dfl=0.543, PPYoloELoss/loss_iou=0.431, gpu_mem=6.82]\n",
            "Validating epoch 70: 100%|██████████| 8/8 [00:02<00:00,  2.69it/s]\n"
          ]
        },
        {
          "metadata": {
            "tags": null
          },
          "name": "stdout",
          "output_type": "stream",
          "text": [
            "===========================================================\n",
            "SUMMARY OF EPOCH 70\n",
            "├── Train\n",
            "│   ├── Ppyoloeloss/loss_cls = 0.8241\n",
            "│   │   ├── Epoch N-1      = 0.827  (\u001b[32m↘ -0.0029\u001b[0m)\n",
            "│   │   └── Best until now = 0.827  (\u001b[32m↘ -0.0029\u001b[0m)\n",
            "│   ├── Ppyoloeloss/loss_iou = 0.4307\n",
            "│   │   ├── Epoch N-1      = 0.4415 (\u001b[32m↘ -0.0108\u001b[0m)\n",
            "│   │   └── Best until now = 0.4303 (\u001b[31m↗ 0.0005\u001b[0m)\n",
            "│   ├── Ppyoloeloss/loss_dfl = 0.5432\n",
            "│   │   ├── Epoch N-1      = 0.559  (\u001b[32m↘ -0.0157\u001b[0m)\n",
            "│   │   └── Best until now = 0.5433 (\u001b[32m↘ -1e-04\u001b[0m)\n",
            "│   └── Ppyoloeloss/loss = 1.798\n",
            "│       ├── Epoch N-1      = 1.8275 (\u001b[32m↘ -0.0294\u001b[0m)\n",
            "│       └── Best until now = 1.8275 (\u001b[32m↘ -0.0294\u001b[0m)\n",
            "└── Validation\n",
            "    ├── Ppyoloeloss/loss_cls = 0.7434\n",
            "    │   ├── Epoch N-1      = 0.7631 (\u001b[32m↘ -0.0197\u001b[0m)\n",
            "    │   └── Best until now = 0.756  (\u001b[32m↘ -0.0126\u001b[0m)\n",
            "    ├── Ppyoloeloss/loss_iou = 0.4093\n",
            "    │   ├── Epoch N-1      = 0.4186 (\u001b[32m↘ -0.0092\u001b[0m)\n",
            "    │   └── Best until now = 0.3866 (\u001b[31m↗ 0.0227\u001b[0m)\n",
            "    ├── Ppyoloeloss/loss_dfl = 0.552\n",
            "    │   ├── Epoch N-1      = 0.5568 (\u001b[32m↘ -0.0048\u001b[0m)\n",
            "    │   └── Best until now = 0.5413 (\u001b[31m↗ 0.0107\u001b[0m)\n",
            "    ├── Ppyoloeloss/loss = 1.7047\n",
            "    │   ├── Epoch N-1      = 1.7385 (\u001b[32m↘ -0.0338\u001b[0m)\n",
            "    │   └── Best until now = 1.7074 (\u001b[32m↘ -0.0027\u001b[0m)\n",
            "    ├── Precision@0.50 = 0.0703\n",
            "    │   ├── Epoch N-1      = 0.0543 (\u001b[32m↗ 0.016\u001b[0m)\n",
            "    │   └── Best until now = 0.0813 (\u001b[31m↘ -0.011\u001b[0m)\n",
            "    ├── Recall@0.50 = 0.9677\n",
            "    │   ├── Epoch N-1      = 0.9677 (\u001b[37m= 0.0\u001b[0m)\n",
            "    │   └── Best until now = 0.9839 (\u001b[31m↘ -0.0161\u001b[0m)\n",
            "    ├── Map@0.50 = 0.8963\n",
            "    │   ├── Epoch N-1      = 0.9016 (\u001b[31m↘ -0.0052\u001b[0m)\n",
            "    │   └── Best until now = 0.932  (\u001b[31m↘ -0.0357\u001b[0m)\n",
            "    └── F1@0.50 = 0.131\n",
            "        ├── Epoch N-1      = 0.1028 (\u001b[32m↗ 0.0282\u001b[0m)\n",
            "        └── Best until now = 0.15   (\u001b[31m↘ -0.019\u001b[0m)\n",
            "\n",
            "===========================================================\n"
          ]
        },
        {
          "metadata": {
            "tags": null
          },
          "name": "stderr",
          "output_type": "stream",
          "text": [
            "Train epoch 71: 100%|██████████| 26/26 [00:17<00:00,  1.51it/s, PPYoloELoss/loss=1.87, PPYoloELoss/loss_cls=0.85, PPYoloELoss/loss_dfl=0.566, PPYoloELoss/loss_iou=0.452, gpu_mem=6.82]\n",
            "Validating epoch 71: 100%|██████████| 8/8 [00:02<00:00,  2.69it/s]\n"
          ]
        },
        {
          "metadata": {
            "tags": null
          },
          "name": "stdout",
          "output_type": "stream",
          "text": [
            "===========================================================\n",
            "SUMMARY OF EPOCH 71\n",
            "├── Train\n",
            "│   ├── Ppyoloeloss/loss_cls = 0.8495\n",
            "│   │   ├── Epoch N-1      = 0.8241 (\u001b[31m↗ 0.0254\u001b[0m)\n",
            "│   │   └── Best until now = 0.8241 (\u001b[31m↗ 0.0254\u001b[0m)\n",
            "│   ├── Ppyoloeloss/loss_iou = 0.4522\n",
            "│   │   ├── Epoch N-1      = 0.4307 (\u001b[31m↗ 0.0215\u001b[0m)\n",
            "│   │   └── Best until now = 0.4303 (\u001b[31m↗ 0.022\u001b[0m)\n",
            "│   ├── Ppyoloeloss/loss_dfl = 0.566\n",
            "│   │   ├── Epoch N-1      = 0.5432 (\u001b[31m↗ 0.0227\u001b[0m)\n",
            "│   │   └── Best until now = 0.5432 (\u001b[31m↗ 0.0227\u001b[0m)\n",
            "│   └── Ppyoloeloss/loss = 1.8677\n",
            "│       ├── Epoch N-1      = 1.798  (\u001b[31m↗ 0.0696\u001b[0m)\n",
            "│       └── Best until now = 1.798  (\u001b[31m↗ 0.0696\u001b[0m)\n",
            "└── Validation\n",
            "    ├── Ppyoloeloss/loss_cls = 0.7845\n",
            "    │   ├── Epoch N-1      = 0.7434 (\u001b[31m↗ 0.0411\u001b[0m)\n",
            "    │   └── Best until now = 0.7434 (\u001b[31m↗ 0.0411\u001b[0m)\n",
            "    ├── Ppyoloeloss/loss_iou = 0.3966\n",
            "    │   ├── Epoch N-1      = 0.4093 (\u001b[32m↘ -0.0127\u001b[0m)\n",
            "    │   └── Best until now = 0.3866 (\u001b[31m↗ 0.01\u001b[0m)\n",
            "    ├── Ppyoloeloss/loss_dfl = 0.5685\n",
            "    │   ├── Epoch N-1      = 0.552  (\u001b[31m↗ 0.0165\u001b[0m)\n",
            "    │   └── Best until now = 0.5413 (\u001b[31m↗ 0.0272\u001b[0m)\n",
            "    ├── Ppyoloeloss/loss = 1.7497\n",
            "    │   ├── Epoch N-1      = 1.7047 (\u001b[31m↗ 0.045\u001b[0m)\n",
            "    │   └── Best until now = 1.7047 (\u001b[31m↗ 0.045\u001b[0m)\n",
            "    ├── Precision@0.50 = 0.0497\n",
            "    │   ├── Epoch N-1      = 0.0703 (\u001b[31m↘ -0.0205\u001b[0m)\n",
            "    │   └── Best until now = 0.0813 (\u001b[31m↘ -0.0316\u001b[0m)\n",
            "    ├── Recall@0.50 = 0.9677\n",
            "    │   ├── Epoch N-1      = 0.9677 (\u001b[37m= 0.0\u001b[0m)\n",
            "    │   └── Best until now = 0.9839 (\u001b[31m↘ -0.0161\u001b[0m)\n",
            "    ├── Map@0.50 = 0.8905\n",
            "    │   ├── Epoch N-1      = 0.8963 (\u001b[31m↘ -0.0058\u001b[0m)\n",
            "    │   └── Best until now = 0.932  (\u001b[31m↘ -0.0415\u001b[0m)\n",
            "    └── F1@0.50 = 0.0946\n",
            "        ├── Epoch N-1      = 0.131  (\u001b[31m↘ -0.0364\u001b[0m)\n",
            "        └── Best until now = 0.15   (\u001b[31m↘ -0.0554\u001b[0m)\n",
            "\n",
            "===========================================================\n"
          ]
        },
        {
          "metadata": {
            "tags": null
          },
          "name": "stderr",
          "output_type": "stream",
          "text": [
            "Train epoch 72: 100%|██████████| 26/26 [00:17<00:00,  1.47it/s, PPYoloELoss/loss=1.84, PPYoloELoss/loss_cls=0.845, PPYoloELoss/loss_dfl=0.56, PPYoloELoss/loss_iou=0.436, gpu_mem=6.98]\n",
            "Validating epoch 72: 100%|██████████| 8/8 [00:03<00:00,  2.54it/s]\n"
          ]
        },
        {
          "metadata": {
            "tags": null
          },
          "name": "stdout",
          "output_type": "stream",
          "text": [
            "===========================================================\n",
            "SUMMARY OF EPOCH 72\n",
            "├── Train\n",
            "│   ├── Ppyoloeloss/loss_cls = 0.8453\n",
            "│   │   ├── Epoch N-1      = 0.8495 (\u001b[32m↘ -0.0042\u001b[0m)\n",
            "│   │   └── Best until now = 0.8241 (\u001b[31m↗ 0.0212\u001b[0m)\n",
            "│   ├── Ppyoloeloss/loss_iou = 0.4356\n",
            "│   │   ├── Epoch N-1      = 0.4522 (\u001b[32m↘ -0.0166\u001b[0m)\n",
            "│   │   └── Best until now = 0.4303 (\u001b[31m↗ 0.0054\u001b[0m)\n",
            "│   ├── Ppyoloeloss/loss_dfl = 0.5605\n",
            "│   │   ├── Epoch N-1      = 0.566  (\u001b[32m↘ -0.0055\u001b[0m)\n",
            "│   │   └── Best until now = 0.5432 (\u001b[31m↗ 0.0172\u001b[0m)\n",
            "│   └── Ppyoloeloss/loss = 1.8414\n",
            "│       ├── Epoch N-1      = 1.8677 (\u001b[32m↘ -0.0263\u001b[0m)\n",
            "│       └── Best until now = 1.798  (\u001b[31m↗ 0.0434\u001b[0m)\n",
            "└── Validation\n",
            "    ├── Ppyoloeloss/loss_cls = 0.7885\n",
            "    │   ├── Epoch N-1      = 0.7845 (\u001b[31m↗ 0.004\u001b[0m)\n",
            "    │   └── Best until now = 0.7434 (\u001b[31m↗ 0.0451\u001b[0m)\n",
            "    ├── Ppyoloeloss/loss_iou = 0.4199\n",
            "    │   ├── Epoch N-1      = 0.3966 (\u001b[31m↗ 0.0233\u001b[0m)\n",
            "    │   └── Best until now = 0.3866 (\u001b[31m↗ 0.0333\u001b[0m)\n",
            "    ├── Ppyoloeloss/loss_dfl = 0.5896\n",
            "    │   ├── Epoch N-1      = 0.5685 (\u001b[31m↗ 0.0211\u001b[0m)\n",
            "    │   └── Best until now = 0.5413 (\u001b[31m↗ 0.0483\u001b[0m)\n",
            "    ├── Ppyoloeloss/loss = 1.798\n",
            "    │   ├── Epoch N-1      = 1.7497 (\u001b[31m↗ 0.0484\u001b[0m)\n",
            "    │   └── Best until now = 1.7047 (\u001b[31m↗ 0.0933\u001b[0m)\n",
            "    ├── Precision@0.50 = 0.0489\n",
            "    │   ├── Epoch N-1      = 0.0497 (\u001b[31m↘ -0.0008\u001b[0m)\n",
            "    │   └── Best until now = 0.0813 (\u001b[31m↘ -0.0324\u001b[0m)\n",
            "    ├── Recall@0.50 = 0.9677\n",
            "    │   ├── Epoch N-1      = 0.9677 (\u001b[37m= 0.0\u001b[0m)\n",
            "    │   └── Best until now = 0.9839 (\u001b[31m↘ -0.0161\u001b[0m)\n",
            "    ├── Map@0.50 = 0.9097\n",
            "    │   ├── Epoch N-1      = 0.8905 (\u001b[32m↗ 0.0191\u001b[0m)\n",
            "    │   └── Best until now = 0.932  (\u001b[31m↘ -0.0224\u001b[0m)\n",
            "    └── F1@0.50 = 0.0932\n",
            "        ├── Epoch N-1      = 0.0946 (\u001b[31m↘ -0.0014\u001b[0m)\n",
            "        └── Best until now = 0.15   (\u001b[31m↘ -0.0568\u001b[0m)\n",
            "\n",
            "===========================================================\n"
          ]
        },
        {
          "metadata": {
            "tags": null
          },
          "name": "stderr",
          "output_type": "stream",
          "text": [
            "Train epoch 73: 100%|██████████| 26/26 [00:17<00:00,  1.49it/s, PPYoloELoss/loss=1.85, PPYoloELoss/loss_cls=0.843, PPYoloELoss/loss_dfl=0.562, PPYoloELoss/loss_iou=0.44, gpu_mem=6.82]\n",
            "Validating epoch 73: 100%|██████████| 8/8 [00:03<00:00,  2.53it/s]\n"
          ]
        },
        {
          "metadata": {
            "tags": null
          },
          "name": "stdout",
          "output_type": "stream",
          "text": [
            "===========================================================\n",
            "SUMMARY OF EPOCH 73\n",
            "├── Train\n",
            "│   ├── Ppyoloeloss/loss_cls = 0.8431\n",
            "│   │   ├── Epoch N-1      = 0.8453 (\u001b[32m↘ -0.0022\u001b[0m)\n",
            "│   │   └── Best until now = 0.8241 (\u001b[31m↗ 0.019\u001b[0m)\n",
            "│   ├── Ppyoloeloss/loss_iou = 0.4398\n",
            "│   │   ├── Epoch N-1      = 0.4356 (\u001b[31m↗ 0.0042\u001b[0m)\n",
            "│   │   └── Best until now = 0.4303 (\u001b[31m↗ 0.0095\u001b[0m)\n",
            "│   ├── Ppyoloeloss/loss_dfl = 0.5624\n",
            "│   │   ├── Epoch N-1      = 0.5605 (\u001b[31m↗ 0.0019\u001b[0m)\n",
            "│   │   └── Best until now = 0.5432 (\u001b[31m↗ 0.0191\u001b[0m)\n",
            "│   └── Ppyoloeloss/loss = 1.8453\n",
            "│       ├── Epoch N-1      = 1.8414 (\u001b[31m↗ 0.0039\u001b[0m)\n",
            "│       └── Best until now = 1.798  (\u001b[31m↗ 0.0472\u001b[0m)\n",
            "└── Validation\n",
            "    ├── Ppyoloeloss/loss_cls = 0.8581\n",
            "    │   ├── Epoch N-1      = 0.7885 (\u001b[31m↗ 0.0696\u001b[0m)\n",
            "    │   └── Best until now = 0.7434 (\u001b[31m↗ 0.1147\u001b[0m)\n",
            "    ├── Ppyoloeloss/loss_iou = 0.4256\n",
            "    │   ├── Epoch N-1      = 0.4199 (\u001b[31m↗ 0.0057\u001b[0m)\n",
            "    │   └── Best until now = 0.3866 (\u001b[31m↗ 0.039\u001b[0m)\n",
            "    ├── Ppyoloeloss/loss_dfl = 0.5932\n",
            "    │   ├── Epoch N-1      = 0.5896 (\u001b[31m↗ 0.0036\u001b[0m)\n",
            "    │   └── Best until now = 0.5413 (\u001b[31m↗ 0.0519\u001b[0m)\n",
            "    ├── Ppyoloeloss/loss = 1.8769\n",
            "    │   ├── Epoch N-1      = 1.798  (\u001b[31m↗ 0.0789\u001b[0m)\n",
            "    │   └── Best until now = 1.7047 (\u001b[31m↗ 0.1722\u001b[0m)\n",
            "    ├── Precision@0.50 = 0.0417\n",
            "    │   ├── Epoch N-1      = 0.0489 (\u001b[31m↘ -0.0072\u001b[0m)\n",
            "    │   └── Best until now = 0.0813 (\u001b[31m↘ -0.0396\u001b[0m)\n",
            "    ├── Recall@0.50 = 0.9677\n",
            "    │   ├── Epoch N-1      = 0.9677 (\u001b[37m= 0.0\u001b[0m)\n",
            "    │   └── Best until now = 0.9839 (\u001b[31m↘ -0.0161\u001b[0m)\n",
            "    ├── Map@0.50 = 0.8758\n",
            "    │   ├── Epoch N-1      = 0.9097 (\u001b[31m↘ -0.0339\u001b[0m)\n",
            "    │   └── Best until now = 0.932  (\u001b[31m↘ -0.0562\u001b[0m)\n",
            "    └── F1@0.50 = 0.0799\n",
            "        ├── Epoch N-1      = 0.0932 (\u001b[31m↘ -0.0132\u001b[0m)\n",
            "        └── Best until now = 0.15   (\u001b[31m↘ -0.0701\u001b[0m)\n",
            "\n",
            "===========================================================\n"
          ]
        },
        {
          "metadata": {
            "tags": null
          },
          "name": "stderr",
          "output_type": "stream",
          "text": [
            "Train epoch 74: 100%|██████████| 26/26 [00:17<00:00,  1.49it/s, PPYoloELoss/loss=1.81, PPYoloELoss/loss_cls=0.826, PPYoloELoss/loss_dfl=0.55, PPYoloELoss/loss_iou=0.435, gpu_mem=6.83]\n",
            "Validating epoch 74: 100%|██████████| 8/8 [00:03<00:00,  2.50it/s]\n"
          ]
        },
        {
          "metadata": {
            "tags": null
          },
          "name": "stdout",
          "output_type": "stream",
          "text": [
            "===========================================================\n",
            "SUMMARY OF EPOCH 74\n",
            "├── Train\n",
            "│   ├── Ppyoloeloss/loss_cls = 0.8262\n",
            "│   │   ├── Epoch N-1      = 0.8431 (\u001b[32m↘ -0.0169\u001b[0m)\n",
            "│   │   └── Best until now = 0.8241 (\u001b[31m↗ 0.0021\u001b[0m)\n",
            "│   ├── Ppyoloeloss/loss_iou = 0.4349\n",
            "│   │   ├── Epoch N-1      = 0.4398 (\u001b[32m↘ -0.0049\u001b[0m)\n",
            "│   │   └── Best until now = 0.4303 (\u001b[31m↗ 0.0046\u001b[0m)\n",
            "│   ├── Ppyoloeloss/loss_dfl = 0.5503\n",
            "│   │   ├── Epoch N-1      = 0.5624 (\u001b[32m↘ -0.0121\u001b[0m)\n",
            "│   │   └── Best until now = 0.5432 (\u001b[31m↗ 0.0071\u001b[0m)\n",
            "│   └── Ppyoloeloss/loss = 1.8114\n",
            "│       ├── Epoch N-1      = 1.8453 (\u001b[32m↘ -0.0339\u001b[0m)\n",
            "│       └── Best until now = 1.798  (\u001b[31m↗ 0.0133\u001b[0m)\n",
            "└── Validation\n",
            "    ├── Ppyoloeloss/loss_cls = 0.7099\n",
            "    │   ├── Epoch N-1      = 0.8581 (\u001b[32m↘ -0.1482\u001b[0m)\n",
            "    │   └── Best until now = 0.7434 (\u001b[32m↘ -0.0335\u001b[0m)\n",
            "    ├── Ppyoloeloss/loss_iou = 0.3922\n",
            "    │   ├── Epoch N-1      = 0.4256 (\u001b[32m↘ -0.0334\u001b[0m)\n",
            "    │   └── Best until now = 0.3866 (\u001b[31m↗ 0.0056\u001b[0m)\n",
            "    ├── Ppyoloeloss/loss_dfl = 0.552\n",
            "    │   ├── Epoch N-1      = 0.5932 (\u001b[32m↘ -0.0412\u001b[0m)\n",
            "    │   └── Best until now = 0.5413 (\u001b[31m↗ 0.0107\u001b[0m)\n",
            "    ├── Ppyoloeloss/loss = 1.6541\n",
            "    │   ├── Epoch N-1      = 1.8769 (\u001b[32m↘ -0.2228\u001b[0m)\n",
            "    │   └── Best until now = 1.7047 (\u001b[32m↘ -0.0506\u001b[0m)\n",
            "    ├── Precision@0.50 = 0.0723\n",
            "    │   ├── Epoch N-1      = 0.0417 (\u001b[32m↗ 0.0306\u001b[0m)\n",
            "    │   └── Best until now = 0.0813 (\u001b[31m↘ -0.009\u001b[0m)\n",
            "    ├── Recall@0.50 = 0.9677\n",
            "    │   ├── Epoch N-1      = 0.9677 (\u001b[37m= 0.0\u001b[0m)\n",
            "    │   └── Best until now = 0.9839 (\u001b[31m↘ -0.0161\u001b[0m)\n",
            "    ├── Map@0.50 = 0.9278\n",
            "    │   ├── Epoch N-1      = 0.8758 (\u001b[32m↗ 0.052\u001b[0m)\n",
            "    │   └── Best until now = 0.932  (\u001b[31m↘ -0.0042\u001b[0m)\n",
            "    └── F1@0.50 = 0.1345\n",
            "        ├── Epoch N-1      = 0.0799 (\u001b[32m↗ 0.0546\u001b[0m)\n",
            "        └── Best until now = 0.15   (\u001b[31m↘ -0.0155\u001b[0m)\n",
            "\n",
            "===========================================================\n"
          ]
        },
        {
          "metadata": {
            "tags": null
          },
          "name": "stderr",
          "output_type": "stream",
          "text": [
            "Train epoch 75: 100%|██████████| 26/26 [00:17<00:00,  1.48it/s, PPYoloELoss/loss=1.85, PPYoloELoss/loss_cls=0.836, PPYoloELoss/loss_dfl=0.557, PPYoloELoss/loss_iou=0.457, gpu_mem=6.84]\n",
            "Validating epoch 75: 100%|██████████| 8/8 [00:02<00:00,  2.68it/s]\n"
          ]
        },
        {
          "metadata": {
            "tags": null
          },
          "name": "stdout",
          "output_type": "stream",
          "text": [
            "===========================================================\n",
            "SUMMARY OF EPOCH 75\n",
            "├── Train\n",
            "│   ├── Ppyoloeloss/loss_cls = 0.836\n",
            "│   │   ├── Epoch N-1      = 0.8262 (\u001b[31m↗ 0.0098\u001b[0m)\n",
            "│   │   └── Best until now = 0.8241 (\u001b[31m↗ 0.0119\u001b[0m)\n",
            "│   ├── Ppyoloeloss/loss_iou = 0.4568\n",
            "│   │   ├── Epoch N-1      = 0.4349 (\u001b[31m↗ 0.0219\u001b[0m)\n",
            "│   │   └── Best until now = 0.4303 (\u001b[31m↗ 0.0266\u001b[0m)\n",
            "│   ├── Ppyoloeloss/loss_dfl = 0.5569\n",
            "│   │   ├── Epoch N-1      = 0.5503 (\u001b[31m↗ 0.0066\u001b[0m)\n",
            "│   │   └── Best until now = 0.5432 (\u001b[31m↗ 0.0136\u001b[0m)\n",
            "│   └── Ppyoloeloss/loss = 1.8497\n",
            "│       ├── Epoch N-1      = 1.8114 (\u001b[31m↗ 0.0383\u001b[0m)\n",
            "│       └── Best until now = 1.798  (\u001b[31m↗ 0.0517\u001b[0m)\n",
            "└── Validation\n",
            "    ├── Ppyoloeloss/loss_cls = 0.7284\n",
            "    │   ├── Epoch N-1      = 0.7099 (\u001b[31m↗ 0.0185\u001b[0m)\n",
            "    │   └── Best until now = 0.7099 (\u001b[31m↗ 0.0185\u001b[0m)\n",
            "    ├── Ppyoloeloss/loss_iou = 0.4\n",
            "    │   ├── Epoch N-1      = 0.3922 (\u001b[31m↗ 0.0078\u001b[0m)\n",
            "    │   └── Best until now = 0.3866 (\u001b[31m↗ 0.0134\u001b[0m)\n",
            "    ├── Ppyoloeloss/loss_dfl = 0.5434\n",
            "    │   ├── Epoch N-1      = 0.552  (\u001b[32m↘ -0.0087\u001b[0m)\n",
            "    │   └── Best until now = 0.5413 (\u001b[31m↗ 0.0021\u001b[0m)\n",
            "    ├── Ppyoloeloss/loss = 1.6718\n",
            "    │   ├── Epoch N-1      = 1.6541 (\u001b[31m↗ 0.0176\u001b[0m)\n",
            "    │   └── Best until now = 1.6541 (\u001b[31m↗ 0.0176\u001b[0m)\n",
            "    ├── Precision@0.50 = 0.0772\n",
            "    │   ├── Epoch N-1      = 0.0723 (\u001b[32m↗ 0.0049\u001b[0m)\n",
            "    │   └── Best until now = 0.0813 (\u001b[31m↘ -0.0041\u001b[0m)\n",
            "    ├── Recall@0.50 = 0.9677\n",
            "    │   ├── Epoch N-1      = 0.9677 (\u001b[37m= 0.0\u001b[0m)\n",
            "    │   └── Best until now = 0.9839 (\u001b[31m↘ -0.0161\u001b[0m)\n",
            "    ├── Map@0.50 = 0.9138\n",
            "    │   ├── Epoch N-1      = 0.9278 (\u001b[31m↘ -0.014\u001b[0m)\n",
            "    │   └── Best until now = 0.932  (\u001b[31m↘ -0.0182\u001b[0m)\n",
            "    └── F1@0.50 = 0.143\n",
            "        ├── Epoch N-1      = 0.1345 (\u001b[32m↗ 0.0085\u001b[0m)\n",
            "        └── Best until now = 0.15   (\u001b[31m↘ -0.007\u001b[0m)\n",
            "\n",
            "===========================================================\n"
          ]
        },
        {
          "metadata": {
            "tags": null
          },
          "name": "stderr",
          "output_type": "stream",
          "text": [
            "Train epoch 76: 100%|██████████| 26/26 [00:17<00:00,  1.52it/s, PPYoloELoss/loss=1.85, PPYoloELoss/loss_cls=0.85, PPYoloELoss/loss_dfl=0.564, PPYoloELoss/loss_iou=0.434, gpu_mem=6.84]\n",
            "Validating epoch 76: 100%|██████████| 8/8 [00:03<00:00,  2.63it/s]\n"
          ]
        },
        {
          "metadata": {
            "tags": null
          },
          "name": "stdout",
          "output_type": "stream",
          "text": [
            "===========================================================\n",
            "SUMMARY OF EPOCH 76\n",
            "├── Train\n",
            "│   ├── Ppyoloeloss/loss_cls = 0.8495\n",
            "│   │   ├── Epoch N-1      = 0.836  (\u001b[31m↗ 0.0135\u001b[0m)\n",
            "│   │   └── Best until now = 0.8241 (\u001b[31m↗ 0.0254\u001b[0m)\n",
            "│   ├── Ppyoloeloss/loss_iou = 0.4337\n",
            "│   │   ├── Epoch N-1      = 0.4568 (\u001b[32m↘ -0.0232\u001b[0m)\n",
            "│   │   └── Best until now = 0.4303 (\u001b[31m↗ 0.0034\u001b[0m)\n",
            "│   ├── Ppyoloeloss/loss_dfl = 0.5642\n",
            "│   │   ├── Epoch N-1      = 0.5569 (\u001b[31m↗ 0.0073\u001b[0m)\n",
            "│   │   └── Best until now = 0.5432 (\u001b[31m↗ 0.0209\u001b[0m)\n",
            "│   └── Ppyoloeloss/loss = 1.8473\n",
            "│       ├── Epoch N-1      = 1.8497 (\u001b[32m↘ -0.0024\u001b[0m)\n",
            "│       └── Best until now = 1.798  (\u001b[31m↗ 0.0493\u001b[0m)\n",
            "└── Validation\n",
            "    ├── Ppyoloeloss/loss_cls = 0.9248\n",
            "    │   ├── Epoch N-1      = 0.7284 (\u001b[31m↗ 0.1964\u001b[0m)\n",
            "    │   └── Best until now = 0.7099 (\u001b[31m↗ 0.2149\u001b[0m)\n",
            "    ├── Ppyoloeloss/loss_iou = 0.4245\n",
            "    │   ├── Epoch N-1      = 0.4    (\u001b[31m↗ 0.0244\u001b[0m)\n",
            "    │   └── Best until now = 0.3866 (\u001b[31m↗ 0.0378\u001b[0m)\n",
            "    ├── Ppyoloeloss/loss_dfl = 0.5773\n",
            "    │   ├── Epoch N-1      = 0.5434 (\u001b[31m↗ 0.0339\u001b[0m)\n",
            "    │   └── Best until now = 0.5413 (\u001b[31m↗ 0.0359\u001b[0m)\n",
            "    ├── Ppyoloeloss/loss = 1.9265\n",
            "    │   ├── Epoch N-1      = 1.6718 (\u001b[31m↗ 0.2547\u001b[0m)\n",
            "    │   └── Best until now = 1.6541 (\u001b[31m↗ 0.2723\u001b[0m)\n",
            "    ├── Precision@0.50 = 0.033\n",
            "    │   ├── Epoch N-1      = 0.0772 (\u001b[31m↘ -0.0442\u001b[0m)\n",
            "    │   └── Best until now = 0.0813 (\u001b[31m↘ -0.0483\u001b[0m)\n",
            "    ├── Recall@0.50 = 0.9677\n",
            "    │   ├── Epoch N-1      = 0.9677 (\u001b[37m= 0.0\u001b[0m)\n",
            "    │   └── Best until now = 0.9839 (\u001b[31m↘ -0.0161\u001b[0m)\n",
            "    ├── Map@0.50 = 0.865\n",
            "    │   ├── Epoch N-1      = 0.9138 (\u001b[31m↘ -0.0488\u001b[0m)\n",
            "    │   └── Best until now = 0.932  (\u001b[31m↘ -0.067\u001b[0m)\n",
            "    └── F1@0.50 = 0.0639\n",
            "        ├── Epoch N-1      = 0.143  (\u001b[31m↘ -0.0791\u001b[0m)\n",
            "        └── Best until now = 0.15   (\u001b[31m↘ -0.0861\u001b[0m)\n",
            "\n",
            "===========================================================\n"
          ]
        },
        {
          "metadata": {
            "tags": null
          },
          "name": "stderr",
          "output_type": "stream",
          "text": [
            "Train epoch 77: 100%|██████████| 26/26 [00:17<00:00,  1.46it/s, PPYoloELoss/loss=1.83, PPYoloELoss/loss_cls=0.83, PPYoloELoss/loss_dfl=0.557, PPYoloELoss/loss_iou=0.445, gpu_mem=6.84]\n",
            "Validating epoch 77: 100%|██████████| 8/8 [00:02<00:00,  2.69it/s]\n"
          ]
        },
        {
          "metadata": {
            "tags": null
          },
          "name": "stdout",
          "output_type": "stream",
          "text": [
            "===========================================================\n",
            "SUMMARY OF EPOCH 77\n",
            "├── Train\n",
            "│   ├── Ppyoloeloss/loss_cls = 0.8299\n",
            "│   │   ├── Epoch N-1      = 0.8495 (\u001b[32m↘ -0.0197\u001b[0m)\n",
            "│   │   └── Best until now = 0.8241 (\u001b[31m↗ 0.0058\u001b[0m)\n",
            "│   ├── Ppyoloeloss/loss_iou = 0.4455\n",
            "│   │   ├── Epoch N-1      = 0.4337 (\u001b[31m↗ 0.0118\u001b[0m)\n",
            "│   │   └── Best until now = 0.4303 (\u001b[31m↗ 0.0152\u001b[0m)\n",
            "│   ├── Ppyoloeloss/loss_dfl = 0.5571\n",
            "│   │   ├── Epoch N-1      = 0.5642 (\u001b[32m↘ -0.0071\u001b[0m)\n",
            "│   │   └── Best until now = 0.5432 (\u001b[31m↗ 0.0138\u001b[0m)\n",
            "│   └── Ppyoloeloss/loss = 1.8324\n",
            "│       ├── Epoch N-1      = 1.8473 (\u001b[32m↘ -0.015\u001b[0m)\n",
            "│       └── Best until now = 1.798  (\u001b[31m↗ 0.0343\u001b[0m)\n",
            "└── Validation\n",
            "    ├── Ppyoloeloss/loss_cls = 0.7745\n",
            "    │   ├── Epoch N-1      = 0.9248 (\u001b[32m↘ -0.1503\u001b[0m)\n",
            "    │   └── Best until now = 0.7099 (\u001b[31m↗ 0.0646\u001b[0m)\n",
            "    ├── Ppyoloeloss/loss_iou = 0.4119\n",
            "    │   ├── Epoch N-1      = 0.4245 (\u001b[32m↘ -0.0126\u001b[0m)\n",
            "    │   └── Best until now = 0.3866 (\u001b[31m↗ 0.0252\u001b[0m)\n",
            "    ├── Ppyoloeloss/loss_dfl = 0.5685\n",
            "    │   ├── Epoch N-1      = 0.5773 (\u001b[32m↘ -0.0088\u001b[0m)\n",
            "    │   └── Best until now = 0.5413 (\u001b[31m↗ 0.0271\u001b[0m)\n",
            "    ├── Ppyoloeloss/loss = 1.7548\n",
            "    │   ├── Epoch N-1      = 1.9265 (\u001b[32m↘ -0.1717\u001b[0m)\n",
            "    │   └── Best until now = 1.6541 (\u001b[31m↗ 0.1007\u001b[0m)\n",
            "    ├── Precision@0.50 = 0.0567\n",
            "    │   ├── Epoch N-1      = 0.033  (\u001b[32m↗ 0.0237\u001b[0m)\n",
            "    │   └── Best until now = 0.0813 (\u001b[31m↘ -0.0246\u001b[0m)\n",
            "    ├── Recall@0.50 = 0.9677\n",
            "    │   ├── Epoch N-1      = 0.9677 (\u001b[37m= 0.0\u001b[0m)\n",
            "    │   └── Best until now = 0.9839 (\u001b[31m↘ -0.0161\u001b[0m)\n",
            "    ├── Map@0.50 = 0.9142\n",
            "    │   ├── Epoch N-1      = 0.865  (\u001b[32m↗ 0.0492\u001b[0m)\n",
            "    │   └── Best until now = 0.932  (\u001b[31m↘ -0.0179\u001b[0m)\n",
            "    └── F1@0.50 = 0.1071\n",
            "        ├── Epoch N-1      = 0.0639 (\u001b[32m↗ 0.0432\u001b[0m)\n",
            "        └── Best until now = 0.15   (\u001b[31m↘ -0.0429\u001b[0m)\n",
            "\n",
            "===========================================================\n"
          ]
        },
        {
          "metadata": {
            "tags": null
          },
          "name": "stderr",
          "output_type": "stream",
          "text": [
            "Train epoch 78: 100%|██████████| 26/26 [00:17<00:00,  1.52it/s, PPYoloELoss/loss=1.81, PPYoloELoss/loss_cls=0.819, PPYoloELoss/loss_dfl=0.554, PPYoloELoss/loss_iou=0.433, gpu_mem=6.83]\n",
            "Validating epoch 78: 100%|██████████| 8/8 [00:03<00:00,  2.66it/s]\n"
          ]
        },
        {
          "metadata": {
            "tags": null
          },
          "name": "stdout",
          "output_type": "stream",
          "text": [
            "===========================================================\n",
            "SUMMARY OF EPOCH 78\n",
            "├── Train\n",
            "│   ├── Ppyoloeloss/loss_cls = 0.8193\n",
            "│   │   ├── Epoch N-1      = 0.8299 (\u001b[32m↘ -0.0106\u001b[0m)\n",
            "│   │   └── Best until now = 0.8241 (\u001b[32m↘ -0.0048\u001b[0m)\n",
            "│   ├── Ppyoloeloss/loss_iou = 0.4333\n",
            "│   │   ├── Epoch N-1      = 0.4455 (\u001b[32m↘ -0.0121\u001b[0m)\n",
            "│   │   └── Best until now = 0.4303 (\u001b[31m↗ 0.0031\u001b[0m)\n",
            "│   ├── Ppyoloeloss/loss_dfl = 0.5543\n",
            "│   │   ├── Epoch N-1      = 0.5571 (\u001b[32m↘ -0.0028\u001b[0m)\n",
            "│   │   └── Best until now = 0.5432 (\u001b[31m↗ 0.011\u001b[0m)\n",
            "│   └── Ppyoloeloss/loss = 1.8069\n",
            "│       ├── Epoch N-1      = 1.8324 (\u001b[32m↘ -0.0255\u001b[0m)\n",
            "│       └── Best until now = 1.798  (\u001b[31m↗ 0.0089\u001b[0m)\n",
            "└── Validation\n",
            "    ├── Ppyoloeloss/loss_cls = 0.7799\n",
            "    │   ├── Epoch N-1      = 0.7745 (\u001b[31m↗ 0.0054\u001b[0m)\n",
            "    │   └── Best until now = 0.7099 (\u001b[31m↗ 0.07\u001b[0m)\n",
            "    ├── Ppyoloeloss/loss_iou = 0.4075\n",
            "    │   ├── Epoch N-1      = 0.4119 (\u001b[32m↘ -0.0043\u001b[0m)\n",
            "    │   └── Best until now = 0.3866 (\u001b[31m↗ 0.0209\u001b[0m)\n",
            "    ├── Ppyoloeloss/loss_dfl = 0.5601\n",
            "    │   ├── Epoch N-1      = 0.5685 (\u001b[32m↘ -0.0084\u001b[0m)\n",
            "    │   └── Best until now = 0.5413 (\u001b[31m↗ 0.0187\u001b[0m)\n",
            "    ├── Ppyoloeloss/loss = 1.7475\n",
            "    │   ├── Epoch N-1      = 1.7548 (\u001b[32m↘ -0.0073\u001b[0m)\n",
            "    │   └── Best until now = 1.6541 (\u001b[31m↗ 0.0933\u001b[0m)\n",
            "    ├── Precision@0.50 = 0.0424\n",
            "    │   ├── Epoch N-1      = 0.0567 (\u001b[31m↘ -0.0143\u001b[0m)\n",
            "    │   └── Best until now = 0.0813 (\u001b[31m↘ -0.0389\u001b[0m)\n",
            "    ├── Recall@0.50 = 0.9677\n",
            "    │   ├── Epoch N-1      = 0.9677 (\u001b[37m= 0.0\u001b[0m)\n",
            "    │   └── Best until now = 0.9839 (\u001b[31m↘ -0.0161\u001b[0m)\n",
            "    ├── Map@0.50 = 0.9246\n",
            "    │   ├── Epoch N-1      = 0.9142 (\u001b[32m↗ 0.0104\u001b[0m)\n",
            "    │   └── Best until now = 0.932  (\u001b[31m↘ -0.0075\u001b[0m)\n",
            "    └── F1@0.50 = 0.0812\n",
            "        ├── Epoch N-1      = 0.1071 (\u001b[31m↘ -0.026\u001b[0m)\n",
            "        └── Best until now = 0.15   (\u001b[31m↘ -0.0688\u001b[0m)\n",
            "\n",
            "===========================================================\n"
          ]
        },
        {
          "metadata": {
            "tags": null
          },
          "name": "stderr",
          "output_type": "stream",
          "text": [
            "Train epoch 79: 100%|██████████| 26/26 [00:18<00:00,  1.44it/s, PPYoloELoss/loss=1.88, PPYoloELoss/loss_cls=0.86, PPYoloELoss/loss_dfl=0.579, PPYoloELoss/loss_iou=0.442, gpu_mem=6.81]\n",
            "Validating epoch 79: 100%|██████████| 8/8 [00:03<00:00,  2.58it/s]\n",
            "[2023-12-14 16:59:30] INFO - base_sg_logger.py - Checkpoint saved in ./checkpoints/csilab-braintumor-detection/RUN_20231214_144702_032990/ckpt_best.pth\n",
            "[2023-12-14 16:59:30] INFO - sg_trainer.py - Best checkpoint overriden: validation mAP@0.50: 0.9460763335227966\n"
          ]
        },
        {
          "metadata": {
            "tags": null
          },
          "name": "stdout",
          "output_type": "stream",
          "text": [
            "===========================================================\n",
            "SUMMARY OF EPOCH 79\n",
            "├── Train\n",
            "│   ├── Ppyoloeloss/loss_cls = 0.8595\n",
            "│   │   ├── Epoch N-1      = 0.8193 (\u001b[31m↗ 0.0402\u001b[0m)\n",
            "│   │   └── Best until now = 0.8193 (\u001b[31m↗ 0.0402\u001b[0m)\n",
            "│   ├── Ppyoloeloss/loss_iou = 0.4422\n",
            "│   │   ├── Epoch N-1      = 0.4333 (\u001b[31m↗ 0.0089\u001b[0m)\n",
            "│   │   └── Best until now = 0.4303 (\u001b[31m↗ 0.012\u001b[0m)\n",
            "│   ├── Ppyoloeloss/loss_dfl = 0.5787\n",
            "│   │   ├── Epoch N-1      = 0.5543 (\u001b[31m↗ 0.0244\u001b[0m)\n",
            "│   │   └── Best until now = 0.5432 (\u001b[31m↗ 0.0354\u001b[0m)\n",
            "│   └── Ppyoloeloss/loss = 1.8804\n",
            "│       ├── Epoch N-1      = 1.8069 (\u001b[31m↗ 0.0735\u001b[0m)\n",
            "│       └── Best until now = 1.798  (\u001b[31m↗ 0.0824\u001b[0m)\n",
            "└── Validation\n",
            "    ├── Ppyoloeloss/loss_cls = 0.8562\n",
            "    │   ├── Epoch N-1      = 0.7799 (\u001b[31m↗ 0.0763\u001b[0m)\n",
            "    │   └── Best until now = 0.7099 (\u001b[31m↗ 0.1463\u001b[0m)\n",
            "    ├── Ppyoloeloss/loss_iou = 0.395\n",
            "    │   ├── Epoch N-1      = 0.4075 (\u001b[32m↘ -0.0125\u001b[0m)\n",
            "    │   └── Best until now = 0.3866 (\u001b[31m↗ 0.0083\u001b[0m)\n",
            "    ├── Ppyoloeloss/loss_dfl = 0.5539\n",
            "    │   ├── Epoch N-1      = 0.5601 (\u001b[32m↘ -0.0062\u001b[0m)\n",
            "    │   └── Best until now = 0.5413 (\u001b[31m↗ 0.0126\u001b[0m)\n",
            "    ├── Ppyoloeloss/loss = 1.8051\n",
            "    │   ├── Epoch N-1      = 1.7475 (\u001b[31m↗ 0.0576\u001b[0m)\n",
            "    │   └── Best until now = 1.6541 (\u001b[31m↗ 0.1509\u001b[0m)\n",
            "    ├── Precision@0.50 = 0.0236\n",
            "    │   ├── Epoch N-1      = 0.0424 (\u001b[31m↘ -0.0188\u001b[0m)\n",
            "    │   └── Best until now = 0.0813 (\u001b[31m↘ -0.0577\u001b[0m)\n",
            "    ├── Recall@0.50 = 0.9677\n",
            "    │   ├── Epoch N-1      = 0.9677 (\u001b[37m= 0.0\u001b[0m)\n",
            "    │   └── Best until now = 0.9839 (\u001b[31m↘ -0.0161\u001b[0m)\n",
            "    ├── Map@0.50 = 0.9461\n",
            "    │   ├── Epoch N-1      = 0.9246 (\u001b[32m↗ 0.0215\u001b[0m)\n",
            "    │   └── Best until now = 0.932  (\u001b[32m↗ 0.014\u001b[0m)\n",
            "    └── F1@0.50 = 0.046\n",
            "        ├── Epoch N-1      = 0.0812 (\u001b[31m↘ -0.0352\u001b[0m)\n",
            "        └── Best until now = 0.15   (\u001b[31m↘ -0.104\u001b[0m)\n",
            "\n",
            "===========================================================\n"
          ]
        },
        {
          "metadata": {
            "tags": null
          },
          "name": "stderr",
          "output_type": "stream",
          "text": [
            "Train epoch 80: 100%|██████████| 26/26 [00:17<00:00,  1.51it/s, PPYoloELoss/loss=1.85, PPYoloELoss/loss_cls=0.844, PPYoloELoss/loss_dfl=0.557, PPYoloELoss/loss_iou=0.454, gpu_mem=6.85]\n",
            "Validating epoch 80: 100%|██████████| 8/8 [00:03<00:00,  2.62it/s]\n"
          ]
        },
        {
          "metadata": {
            "tags": null
          },
          "name": "stdout",
          "output_type": "stream",
          "text": [
            "===========================================================\n",
            "SUMMARY OF EPOCH 80\n",
            "├── Train\n",
            "│   ├── Ppyoloeloss/loss_cls = 0.8441\n",
            "│   │   ├── Epoch N-1      = 0.8595 (\u001b[32m↘ -0.0154\u001b[0m)\n",
            "│   │   └── Best until now = 0.8193 (\u001b[31m↗ 0.0248\u001b[0m)\n",
            "│   ├── Ppyoloeloss/loss_iou = 0.4537\n",
            "│   │   ├── Epoch N-1      = 0.4422 (\u001b[31m↗ 0.0115\u001b[0m)\n",
            "│   │   └── Best until now = 0.4303 (\u001b[31m↗ 0.0235\u001b[0m)\n",
            "│   ├── Ppyoloeloss/loss_dfl = 0.5568\n",
            "│   │   ├── Epoch N-1      = 0.5787 (\u001b[32m↘ -0.0218\u001b[0m)\n",
            "│   │   └── Best until now = 0.5432 (\u001b[31m↗ 0.0136\u001b[0m)\n",
            "│   └── Ppyoloeloss/loss = 1.8547\n",
            "│       ├── Epoch N-1      = 1.8804 (\u001b[32m↘ -0.0257\u001b[0m)\n",
            "│       └── Best until now = 1.798  (\u001b[31m↗ 0.0566\u001b[0m)\n",
            "└── Validation\n",
            "    ├── Ppyoloeloss/loss_cls = 0.931\n",
            "    │   ├── Epoch N-1      = 0.8562 (\u001b[31m↗ 0.0748\u001b[0m)\n",
            "    │   └── Best until now = 0.7099 (\u001b[31m↗ 0.2211\u001b[0m)\n",
            "    ├── Ppyoloeloss/loss_iou = 0.4318\n",
            "    │   ├── Epoch N-1      = 0.395  (\u001b[31m↗ 0.0368\u001b[0m)\n",
            "    │   └── Best until now = 0.3866 (\u001b[31m↗ 0.0452\u001b[0m)\n",
            "    ├── Ppyoloeloss/loss_dfl = 0.5966\n",
            "    │   ├── Epoch N-1      = 0.5539 (\u001b[31m↗ 0.0427\u001b[0m)\n",
            "    │   └── Best until now = 0.5413 (\u001b[31m↗ 0.0553\u001b[0m)\n",
            "    ├── Ppyoloeloss/loss = 1.9594\n",
            "    │   ├── Epoch N-1      = 1.8051 (\u001b[31m↗ 0.1543\u001b[0m)\n",
            "    │   └── Best until now = 1.6541 (\u001b[31m↗ 0.3052\u001b[0m)\n",
            "    ├── Precision@0.50 = 0.0171\n",
            "    │   ├── Epoch N-1      = 0.0236 (\u001b[31m↘ -0.0065\u001b[0m)\n",
            "    │   └── Best until now = 0.0813 (\u001b[31m↘ -0.0642\u001b[0m)\n",
            "    ├── Recall@0.50 = 0.9677\n",
            "    │   ├── Epoch N-1      = 0.9677 (\u001b[37m= 0.0\u001b[0m)\n",
            "    │   └── Best until now = 0.9839 (\u001b[31m↘ -0.0161\u001b[0m)\n",
            "    ├── Map@0.50 = 0.9158\n",
            "    │   ├── Epoch N-1      = 0.9461 (\u001b[31m↘ -0.0303\u001b[0m)\n",
            "    │   └── Best until now = 0.9461 (\u001b[31m↘ -0.0303\u001b[0m)\n",
            "    └── F1@0.50 = 0.0336\n",
            "        ├── Epoch N-1      = 0.046  (\u001b[31m↘ -0.0124\u001b[0m)\n",
            "        └── Best until now = 0.15   (\u001b[31m↘ -0.1164\u001b[0m)\n",
            "\n",
            "===========================================================\n"
          ]
        },
        {
          "metadata": {
            "tags": null
          },
          "name": "stderr",
          "output_type": "stream",
          "text": [
            "Train epoch 81: 100%|██████████| 26/26 [00:18<00:00,  1.44it/s, PPYoloELoss/loss=1.89, PPYoloELoss/loss_cls=0.891, PPYoloELoss/loss_dfl=0.558, PPYoloELoss/loss_iou=0.445, gpu_mem=6.83]\n",
            "Validating epoch 81: 100%|██████████| 8/8 [00:02<00:00,  2.69it/s]\n"
          ]
        },
        {
          "metadata": {
            "tags": null
          },
          "name": "stdout",
          "output_type": "stream",
          "text": [
            "===========================================================\n",
            "SUMMARY OF EPOCH 81\n",
            "├── Train\n",
            "│   ├── Ppyoloeloss/loss_cls = 0.8907\n",
            "│   │   ├── Epoch N-1      = 0.8441 (\u001b[31m↗ 0.0466\u001b[0m)\n",
            "│   │   └── Best until now = 0.8193 (\u001b[31m↗ 0.0714\u001b[0m)\n",
            "│   ├── Ppyoloeloss/loss_iou = 0.4447\n",
            "│   │   ├── Epoch N-1      = 0.4537 (\u001b[32m↘ -0.009\u001b[0m)\n",
            "│   │   └── Best until now = 0.4303 (\u001b[31m↗ 0.0145\u001b[0m)\n",
            "│   ├── Ppyoloeloss/loss_dfl = 0.5585\n",
            "│   │   ├── Epoch N-1      = 0.5568 (\u001b[31m↗ 0.0016\u001b[0m)\n",
            "│   │   └── Best until now = 0.5432 (\u001b[31m↗ 0.0153\u001b[0m)\n",
            "│   └── Ppyoloeloss/loss = 1.894\n",
            "│       ├── Epoch N-1      = 1.8547 (\u001b[31m↗ 0.0393\u001b[0m)\n",
            "│       └── Best until now = 1.798  (\u001b[31m↗ 0.0959\u001b[0m)\n",
            "└── Validation\n",
            "    ├── Ppyoloeloss/loss_cls = 1.0441\n",
            "    │   ├── Epoch N-1      = 0.931  (\u001b[31m↗ 0.1131\u001b[0m)\n",
            "    │   └── Best until now = 0.7099 (\u001b[31m↗ 0.3342\u001b[0m)\n",
            "    ├── Ppyoloeloss/loss_iou = 0.4438\n",
            "    │   ├── Epoch N-1      = 0.4318 (\u001b[31m↗ 0.012\u001b[0m)\n",
            "    │   └── Best until now = 0.3866 (\u001b[31m↗ 0.0572\u001b[0m)\n",
            "    ├── Ppyoloeloss/loss_dfl = 0.5829\n",
            "    │   ├── Epoch N-1      = 0.5966 (\u001b[32m↘ -0.0137\u001b[0m)\n",
            "    │   └── Best until now = 0.5413 (\u001b[31m↗ 0.0415\u001b[0m)\n",
            "    ├── Ppyoloeloss/loss = 2.0707\n",
            "    │   ├── Epoch N-1      = 1.9594 (\u001b[31m↗ 0.1114\u001b[0m)\n",
            "    │   └── Best until now = 1.6541 (\u001b[31m↗ 0.4166\u001b[0m)\n",
            "    ├── Precision@0.50 = 0.0197\n",
            "    │   ├── Epoch N-1      = 0.0171 (\u001b[32m↗ 0.0026\u001b[0m)\n",
            "    │   └── Best until now = 0.0813 (\u001b[31m↘ -0.0616\u001b[0m)\n",
            "    ├── Recall@0.50 = 0.9355\n",
            "    │   ├── Epoch N-1      = 0.9677 (\u001b[31m↘ -0.0323\u001b[0m)\n",
            "    │   └── Best until now = 0.9839 (\u001b[31m↘ -0.0484\u001b[0m)\n",
            "    ├── Map@0.50 = 0.8665\n",
            "    │   ├── Epoch N-1      = 0.9158 (\u001b[31m↘ -0.0493\u001b[0m)\n",
            "    │   └── Best until now = 0.9461 (\u001b[31m↘ -0.0796\u001b[0m)\n",
            "    └── F1@0.50 = 0.0386\n",
            "        ├── Epoch N-1      = 0.0336 (\u001b[32m↗ 0.005\u001b[0m)\n",
            "        └── Best until now = 0.15   (\u001b[31m↘ -0.1114\u001b[0m)\n",
            "\n",
            "===========================================================\n"
          ]
        },
        {
          "metadata": {
            "tags": null
          },
          "name": "stderr",
          "output_type": "stream",
          "text": [
            "Train epoch 82: 100%|██████████| 26/26 [00:17<00:00,  1.47it/s, PPYoloELoss/loss=1.82, PPYoloELoss/loss_cls=0.821, PPYoloELoss/loss_dfl=0.553, PPYoloELoss/loss_iou=0.443, gpu_mem=6.98]\n",
            "Validating epoch 82: 100%|██████████| 8/8 [00:02<00:00,  2.69it/s]\n"
          ]
        },
        {
          "metadata": {
            "tags": null
          },
          "name": "stdout",
          "output_type": "stream",
          "text": [
            "===========================================================\n",
            "SUMMARY OF EPOCH 82\n",
            "├── Train\n",
            "│   ├── Ppyoloeloss/loss_cls = 0.8208\n",
            "│   │   ├── Epoch N-1      = 0.8907 (\u001b[32m↘ -0.0699\u001b[0m)\n",
            "│   │   └── Best until now = 0.8193 (\u001b[31m↗ 0.0015\u001b[0m)\n",
            "│   ├── Ppyoloeloss/loss_iou = 0.443\n",
            "│   │   ├── Epoch N-1      = 0.4447 (\u001b[32m↘ -0.0017\u001b[0m)\n",
            "│   │   └── Best until now = 0.4303 (\u001b[31m↗ 0.0128\u001b[0m)\n",
            "│   ├── Ppyoloeloss/loss_dfl = 0.5527\n",
            "│   │   ├── Epoch N-1      = 0.5585 (\u001b[32m↘ -0.0058\u001b[0m)\n",
            "│   │   └── Best until now = 0.5432 (\u001b[31m↗ 0.0094\u001b[0m)\n",
            "│   └── Ppyoloeloss/loss = 1.8165\n",
            "│       ├── Epoch N-1      = 1.894  (\u001b[32m↘ -0.0774\u001b[0m)\n",
            "│       └── Best until now = 1.798  (\u001b[31m↗ 0.0185\u001b[0m)\n",
            "└── Validation\n",
            "    ├── Ppyoloeloss/loss_cls = 0.832\n",
            "    │   ├── Epoch N-1      = 1.0441 (\u001b[32m↘ -0.212\u001b[0m)\n",
            "    │   └── Best until now = 0.7099 (\u001b[31m↗ 0.1222\u001b[0m)\n",
            "    ├── Ppyoloeloss/loss_iou = 0.4099\n",
            "    │   ├── Epoch N-1      = 0.4438 (\u001b[32m↘ -0.034\u001b[0m)\n",
            "    │   └── Best until now = 0.3866 (\u001b[31m↗ 0.0232\u001b[0m)\n",
            "    ├── Ppyoloeloss/loss_dfl = 0.5507\n",
            "    │   ├── Epoch N-1      = 0.5829 (\u001b[32m↘ -0.0322\u001b[0m)\n",
            "    │   └── Best until now = 0.5413 (\u001b[31m↗ 0.0094\u001b[0m)\n",
            "    ├── Ppyoloeloss/loss = 1.7926\n",
            "    │   ├── Epoch N-1      = 2.0707 (\u001b[32m↘ -0.2782\u001b[0m)\n",
            "    │   └── Best until now = 1.6541 (\u001b[31m↗ 0.1384\u001b[0m)\n",
            "    ├── Precision@0.50 = 0.0363\n",
            "    │   ├── Epoch N-1      = 0.0197 (\u001b[32m↗ 0.0165\u001b[0m)\n",
            "    │   └── Best until now = 0.0813 (\u001b[31m↘ -0.045\u001b[0m)\n",
            "    ├── Recall@0.50 = 0.9677\n",
            "    │   ├── Epoch N-1      = 0.9355 (\u001b[32m↗ 0.0323\u001b[0m)\n",
            "    │   └── Best until now = 0.9839 (\u001b[31m↘ -0.0161\u001b[0m)\n",
            "    ├── Map@0.50 = 0.9221\n",
            "    │   ├── Epoch N-1      = 0.8665 (\u001b[32m↗ 0.0556\u001b[0m)\n",
            "    │   └── Best until now = 0.9461 (\u001b[31m↘ -0.024\u001b[0m)\n",
            "    └── F1@0.50 = 0.0699\n",
            "        ├── Epoch N-1      = 0.0386 (\u001b[32m↗ 0.0313\u001b[0m)\n",
            "        └── Best until now = 0.15   (\u001b[31m↘ -0.0801\u001b[0m)\n",
            "\n",
            "===========================================================\n"
          ]
        },
        {
          "metadata": {
            "tags": null
          },
          "name": "stderr",
          "output_type": "stream",
          "text": [
            "Train epoch 83: 100%|██████████| 26/26 [00:17<00:00,  1.49it/s, PPYoloELoss/loss=1.82, PPYoloELoss/loss_cls=0.83, PPYoloELoss/loss_dfl=0.553, PPYoloELoss/loss_iou=0.435, gpu_mem=6.82]\n",
            "Validating epoch 83: 100%|██████████| 8/8 [00:03<00:00,  2.61it/s]\n",
            "[2023-12-14 17:06:54] INFO - base_sg_logger.py - Checkpoint saved in ./checkpoints/csilab-braintumor-detection/RUN_20231214_144702_032990/ckpt_best.pth\n",
            "[2023-12-14 17:06:54] INFO - sg_trainer.py - Best checkpoint overriden: validation mAP@0.50: 0.9491042494773865\n"
          ]
        },
        {
          "metadata": {
            "tags": null
          },
          "name": "stdout",
          "output_type": "stream",
          "text": [
            "===========================================================\n",
            "SUMMARY OF EPOCH 83\n",
            "├── Train\n",
            "│   ├── Ppyoloeloss/loss_cls = 0.8301\n",
            "│   │   ├── Epoch N-1      = 0.8208 (\u001b[31m↗ 0.0093\u001b[0m)\n",
            "│   │   └── Best until now = 0.8193 (\u001b[31m↗ 0.0108\u001b[0m)\n",
            "│   ├── Ppyoloeloss/loss_iou = 0.4352\n",
            "│   │   ├── Epoch N-1      = 0.443  (\u001b[32m↘ -0.0078\u001b[0m)\n",
            "│   │   └── Best until now = 0.4303 (\u001b[31m↗ 0.005\u001b[0m)\n",
            "│   ├── Ppyoloeloss/loss_dfl = 0.5533\n",
            "│   │   ├── Epoch N-1      = 0.5527 (\u001b[31m↗ 0.0007\u001b[0m)\n",
            "│   │   └── Best until now = 0.5432 (\u001b[31m↗ 0.0101\u001b[0m)\n",
            "│   └── Ppyoloeloss/loss = 1.8187\n",
            "│       ├── Epoch N-1      = 1.8165 (\u001b[31m↗ 0.0021\u001b[0m)\n",
            "│       └── Best until now = 1.798  (\u001b[31m↗ 0.0206\u001b[0m)\n",
            "└── Validation\n",
            "    ├── Ppyoloeloss/loss_cls = 0.711\n",
            "    │   ├── Epoch N-1      = 0.832  (\u001b[32m↘ -0.121\u001b[0m)\n",
            "    │   └── Best until now = 0.7099 (\u001b[31m↗ 0.0011\u001b[0m)\n",
            "    ├── Ppyoloeloss/loss_iou = 0.3911\n",
            "    │   ├── Epoch N-1      = 0.4099 (\u001b[32m↘ -0.0187\u001b[0m)\n",
            "    │   └── Best until now = 0.3866 (\u001b[31m↗ 0.0045\u001b[0m)\n",
            "    ├── Ppyoloeloss/loss_dfl = 0.5606\n",
            "    │   ├── Epoch N-1      = 0.5507 (\u001b[31m↗ 0.0099\u001b[0m)\n",
            "    │   └── Best until now = 0.5413 (\u001b[31m↗ 0.0193\u001b[0m)\n",
            "    ├── Ppyoloeloss/loss = 1.6627\n",
            "    │   ├── Epoch N-1      = 1.7926 (\u001b[32m↘ -0.1299\u001b[0m)\n",
            "    │   └── Best until now = 1.6541 (\u001b[31m↗ 0.0086\u001b[0m)\n",
            "    ├── Precision@0.50 = 0.074\n",
            "    │   ├── Epoch N-1      = 0.0363 (\u001b[32m↗ 0.0377\u001b[0m)\n",
            "    │   └── Best until now = 0.0813 (\u001b[31m↘ -0.0073\u001b[0m)\n",
            "    ├── Recall@0.50 = 0.9677\n",
            "    │   ├── Epoch N-1      = 0.9677 (\u001b[37m= 0.0\u001b[0m)\n",
            "    │   └── Best until now = 0.9839 (\u001b[31m↘ -0.0161\u001b[0m)\n",
            "    ├── Map@0.50 = 0.9491\n",
            "    │   ├── Epoch N-1      = 0.9221 (\u001b[32m↗ 0.027\u001b[0m)\n",
            "    │   └── Best until now = 0.9461 (\u001b[32m↗ 0.003\u001b[0m)\n",
            "    └── F1@0.50 = 0.1375\n",
            "        ├── Epoch N-1      = 0.0699 (\u001b[32m↗ 0.0676\u001b[0m)\n",
            "        └── Best until now = 0.15   (\u001b[31m↘ -0.0125\u001b[0m)\n",
            "\n",
            "===========================================================\n"
          ]
        },
        {
          "metadata": {
            "tags": null
          },
          "name": "stderr",
          "output_type": "stream",
          "text": [
            "Train epoch 84: 100%|██████████| 26/26 [00:18<00:00,  1.42it/s, PPYoloELoss/loss=1.84, PPYoloELoss/loss_cls=0.84, PPYoloELoss/loss_dfl=0.56, PPYoloELoss/loss_iou=0.44, gpu_mem=6.82]\n",
            "Validating epoch 84: 100%|██████████| 8/8 [00:02<00:00,  2.70it/s]\n"
          ]
        },
        {
          "metadata": {
            "tags": null
          },
          "name": "stdout",
          "output_type": "stream",
          "text": [
            "===========================================================\n",
            "SUMMARY OF EPOCH 84\n",
            "├── Train\n",
            "│   ├── Ppyoloeloss/loss_cls = 0.8405\n",
            "│   │   ├── Epoch N-1      = 0.8301 (\u001b[31m↗ 0.0104\u001b[0m)\n",
            "│   │   └── Best until now = 0.8193 (\u001b[31m↗ 0.0212\u001b[0m)\n",
            "│   ├── Ppyoloeloss/loss_iou = 0.4399\n",
            "│   │   ├── Epoch N-1      = 0.4352 (\u001b[31m↗ 0.0047\u001b[0m)\n",
            "│   │   └── Best until now = 0.4303 (\u001b[31m↗ 0.0097\u001b[0m)\n",
            "│   ├── Ppyoloeloss/loss_dfl = 0.5603\n",
            "│   │   ├── Epoch N-1      = 0.5533 (\u001b[31m↗ 0.007\u001b[0m)\n",
            "│   │   └── Best until now = 0.5432 (\u001b[31m↗ 0.0171\u001b[0m)\n",
            "│   └── Ppyoloeloss/loss = 1.8407\n",
            "│       ├── Epoch N-1      = 1.8187 (\u001b[31m↗ 0.0221\u001b[0m)\n",
            "│       └── Best until now = 1.798  (\u001b[31m↗ 0.0427\u001b[0m)\n",
            "└── Validation\n",
            "    ├── Ppyoloeloss/loss_cls = 0.8086\n",
            "    │   ├── Epoch N-1      = 0.711  (\u001b[31m↗ 0.0976\u001b[0m)\n",
            "    │   └── Best until now = 0.7099 (\u001b[31m↗ 0.0987\u001b[0m)\n",
            "    ├── Ppyoloeloss/loss_iou = 0.4144\n",
            "    │   ├── Epoch N-1      = 0.3911 (\u001b[31m↗ 0.0232\u001b[0m)\n",
            "    │   └── Best until now = 0.3866 (\u001b[31m↗ 0.0277\u001b[0m)\n",
            "    ├── Ppyoloeloss/loss_dfl = 0.5696\n",
            "    │   ├── Epoch N-1      = 0.5606 (\u001b[31m↗ 0.009\u001b[0m)\n",
            "    │   └── Best until now = 0.5413 (\u001b[31m↗ 0.0283\u001b[0m)\n",
            "    ├── Ppyoloeloss/loss = 1.7925\n",
            "    │   ├── Epoch N-1      = 1.6627 (\u001b[31m↗ 0.1298\u001b[0m)\n",
            "    │   └── Best until now = 1.6541 (\u001b[31m↗ 0.1384\u001b[0m)\n",
            "    ├── Precision@0.50 = 0.0484\n",
            "    │   ├── Epoch N-1      = 0.074  (\u001b[31m↘ -0.0256\u001b[0m)\n",
            "    │   └── Best until now = 0.0813 (\u001b[31m↘ -0.0329\u001b[0m)\n",
            "    ├── Recall@0.50 = 0.9677\n",
            "    │   ├── Epoch N-1      = 0.9677 (\u001b[37m= 0.0\u001b[0m)\n",
            "    │   └── Best until now = 0.9839 (\u001b[31m↘ -0.0161\u001b[0m)\n",
            "    ├── Map@0.50 = 0.9073\n",
            "    │   ├── Epoch N-1      = 0.9491 (\u001b[31m↘ -0.0418\u001b[0m)\n",
            "    │   └── Best until now = 0.9491 (\u001b[31m↘ -0.0418\u001b[0m)\n",
            "    └── F1@0.50 = 0.0922\n",
            "        ├── Epoch N-1      = 0.1375 (\u001b[31m↘ -0.0452\u001b[0m)\n",
            "        └── Best until now = 0.15   (\u001b[31m↘ -0.0578\u001b[0m)\n",
            "\n",
            "===========================================================\n"
          ]
        },
        {
          "metadata": {
            "tags": null
          },
          "name": "stderr",
          "output_type": "stream",
          "text": [
            "Train epoch 85: 100%|██████████| 26/26 [00:17<00:00,  1.47it/s, PPYoloELoss/loss=1.8, PPYoloELoss/loss_cls=0.814, PPYoloELoss/loss_dfl=0.546, PPYoloELoss/loss_iou=0.436, gpu_mem=6.96]\n",
            "Validating epoch 85: 100%|██████████| 8/8 [00:02<00:00,  2.69it/s]\n"
          ]
        },
        {
          "metadata": {
            "tags": null
          },
          "name": "stdout",
          "output_type": "stream",
          "text": [
            "===========================================================\n",
            "SUMMARY OF EPOCH 85\n",
            "├── Train\n",
            "│   ├── Ppyoloeloss/loss_cls = 0.8139\n",
            "│   │   ├── Epoch N-1      = 0.8405 (\u001b[32m↘ -0.0266\u001b[0m)\n",
            "│   │   └── Best until now = 0.8193 (\u001b[32m↘ -0.0054\u001b[0m)\n",
            "│   ├── Ppyoloeloss/loss_iou = 0.4361\n",
            "│   │   ├── Epoch N-1      = 0.4399 (\u001b[32m↘ -0.0038\u001b[0m)\n",
            "│   │   └── Best until now = 0.4303 (\u001b[31m↗ 0.0058\u001b[0m)\n",
            "│   ├── Ppyoloeloss/loss_dfl = 0.5458\n",
            "│   │   ├── Epoch N-1      = 0.5603 (\u001b[32m↘ -0.0145\u001b[0m)\n",
            "│   │   └── Best until now = 0.5432 (\u001b[31m↗ 0.0026\u001b[0m)\n",
            "│   └── Ppyoloeloss/loss = 1.7958\n",
            "│       ├── Epoch N-1      = 1.8407 (\u001b[32m↘ -0.0449\u001b[0m)\n",
            "│       └── Best until now = 1.798  (\u001b[32m↘ -0.0022\u001b[0m)\n",
            "└── Validation\n",
            "    ├── Ppyoloeloss/loss_cls = 0.8213\n",
            "    │   ├── Epoch N-1      = 0.8086 (\u001b[31m↗ 0.0128\u001b[0m)\n",
            "    │   └── Best until now = 0.7099 (\u001b[31m↗ 0.1115\u001b[0m)\n",
            "    ├── Ppyoloeloss/loss_iou = 0.444\n",
            "    │   ├── Epoch N-1      = 0.4144 (\u001b[31m↗ 0.0297\u001b[0m)\n",
            "    │   └── Best until now = 0.3866 (\u001b[31m↗ 0.0574\u001b[0m)\n",
            "    ├── Ppyoloeloss/loss_dfl = 0.5966\n",
            "    │   ├── Epoch N-1      = 0.5696 (\u001b[31m↗ 0.027\u001b[0m)\n",
            "    │   └── Best until now = 0.5413 (\u001b[31m↗ 0.0553\u001b[0m)\n",
            "    ├── Ppyoloeloss/loss = 1.862\n",
            "    │   ├── Epoch N-1      = 1.7925 (\u001b[31m↗ 0.0695\u001b[0m)\n",
            "    │   └── Best until now = 1.6541 (\u001b[31m↗ 0.2078\u001b[0m)\n",
            "    ├── Precision@0.50 = 0.0375\n",
            "    │   ├── Epoch N-1      = 0.0484 (\u001b[31m↘ -0.011\u001b[0m)\n",
            "    │   └── Best until now = 0.0813 (\u001b[31m↘ -0.0438\u001b[0m)\n",
            "    ├── Recall@0.50 = 0.9677\n",
            "    │   ├── Epoch N-1      = 0.9677 (\u001b[37m= 0.0\u001b[0m)\n",
            "    │   └── Best until now = 0.9839 (\u001b[31m↘ -0.0161\u001b[0m)\n",
            "    ├── Map@0.50 = 0.8992\n",
            "    │   ├── Epoch N-1      = 0.9073 (\u001b[31m↘ -0.0081\u001b[0m)\n",
            "    │   └── Best until now = 0.9491 (\u001b[31m↘ -0.0499\u001b[0m)\n",
            "    └── F1@0.50 = 0.0721\n",
            "        ├── Epoch N-1      = 0.0922 (\u001b[31m↘ -0.0201\u001b[0m)\n",
            "        └── Best until now = 0.15   (\u001b[31m↘ -0.0779\u001b[0m)\n",
            "\n",
            "===========================================================\n"
          ]
        },
        {
          "metadata": {
            "tags": null
          },
          "name": "stderr",
          "output_type": "stream",
          "text": [
            "Train epoch 86: 100%|██████████| 26/26 [00:17<00:00,  1.48it/s, PPYoloELoss/loss=1.82, PPYoloELoss/loss_cls=0.817, PPYoloELoss/loss_dfl=0.558, PPYoloELoss/loss_iou=0.445, gpu_mem=6.96]\n",
            "Validating epoch 86: 100%|██████████| 8/8 [00:03<00:00,  2.62it/s]\n"
          ]
        },
        {
          "metadata": {
            "tags": null
          },
          "name": "stdout",
          "output_type": "stream",
          "text": [
            "===========================================================\n",
            "SUMMARY OF EPOCH 86\n",
            "├── Train\n",
            "│   ├── Ppyoloeloss/loss_cls = 0.8171\n",
            "│   │   ├── Epoch N-1      = 0.8139 (\u001b[31m↗ 0.0032\u001b[0m)\n",
            "│   │   └── Best until now = 0.8139 (\u001b[31m↗ 0.0032\u001b[0m)\n",
            "│   ├── Ppyoloeloss/loss_iou = 0.4452\n",
            "│   │   ├── Epoch N-1      = 0.4361 (\u001b[31m↗ 0.0091\u001b[0m)\n",
            "│   │   └── Best until now = 0.4303 (\u001b[31m↗ 0.0149\u001b[0m)\n",
            "│   ├── Ppyoloeloss/loss_dfl = 0.5581\n",
            "│   │   ├── Epoch N-1      = 0.5458 (\u001b[31m↗ 0.0123\u001b[0m)\n",
            "│   │   └── Best until now = 0.5432 (\u001b[31m↗ 0.0149\u001b[0m)\n",
            "│   └── Ppyoloeloss/loss = 1.8204\n",
            "│       ├── Epoch N-1      = 1.7958 (\u001b[31m↗ 0.0246\u001b[0m)\n",
            "│       └── Best until now = 1.7958 (\u001b[31m↗ 0.0246\u001b[0m)\n",
            "└── Validation\n",
            "    ├── Ppyoloeloss/loss_cls = 0.7384\n",
            "    │   ├── Epoch N-1      = 0.8213 (\u001b[32m↘ -0.0829\u001b[0m)\n",
            "    │   └── Best until now = 0.7099 (\u001b[31m↗ 0.0286\u001b[0m)\n",
            "    ├── Ppyoloeloss/loss_iou = 0.4217\n",
            "    │   ├── Epoch N-1      = 0.444  (\u001b[32m↘ -0.0223\u001b[0m)\n",
            "    │   └── Best until now = 0.3866 (\u001b[31m↗ 0.0351\u001b[0m)\n",
            "    ├── Ppyoloeloss/loss_dfl = 0.5678\n",
            "    │   ├── Epoch N-1      = 0.5966 (\u001b[32m↘ -0.0288\u001b[0m)\n",
            "    │   └── Best until now = 0.5413 (\u001b[31m↗ 0.0265\u001b[0m)\n",
            "    ├── Ppyoloeloss/loss = 1.7279\n",
            "    │   ├── Epoch N-1      = 1.862  (\u001b[32m↘ -0.1341\u001b[0m)\n",
            "    │   └── Best until now = 1.6541 (\u001b[31m↗ 0.0738\u001b[0m)\n",
            "    ├── Precision@0.50 = 0.056\n",
            "    │   ├── Epoch N-1      = 0.0375 (\u001b[32m↗ 0.0186\u001b[0m)\n",
            "    │   └── Best until now = 0.0813 (\u001b[31m↘ -0.0253\u001b[0m)\n",
            "    ├── Recall@0.50 = 0.9839\n",
            "    │   ├── Epoch N-1      = 0.9677 (\u001b[32m↗ 0.0161\u001b[0m)\n",
            "    │   └── Best until now = 0.9839 (\u001b[37m= 0.0\u001b[0m)\n",
            "    ├── Map@0.50 = 0.9278\n",
            "    │   ├── Epoch N-1      = 0.8992 (\u001b[32m↗ 0.0286\u001b[0m)\n",
            "    │   └── Best until now = 0.9491 (\u001b[31m↘ -0.0213\u001b[0m)\n",
            "    └── F1@0.50 = 0.106\n",
            "        ├── Epoch N-1      = 0.0721 (\u001b[32m↗ 0.0339\u001b[0m)\n",
            "        └── Best until now = 0.15   (\u001b[31m↘ -0.044\u001b[0m)\n",
            "\n",
            "===========================================================\n"
          ]
        },
        {
          "metadata": {
            "tags": null
          },
          "name": "stderr",
          "output_type": "stream",
          "text": [
            "Train epoch 87: 100%|██████████| 26/26 [00:17<00:00,  1.48it/s, PPYoloELoss/loss=1.79, PPYoloELoss/loss_cls=0.825, PPYoloELoss/loss_dfl=0.54, PPYoloELoss/loss_iou=0.428, gpu_mem=6.98]\n",
            "Validating epoch 87: 100%|██████████| 8/8 [00:02<00:00,  2.69it/s]\n"
          ]
        },
        {
          "metadata": {
            "tags": null
          },
          "name": "stdout",
          "output_type": "stream",
          "text": [
            "===========================================================\n",
            "SUMMARY OF EPOCH 87\n",
            "├── Train\n",
            "│   ├── Ppyoloeloss/loss_cls = 0.8248\n",
            "│   │   ├── Epoch N-1      = 0.8171 (\u001b[31m↗ 0.0077\u001b[0m)\n",
            "│   │   └── Best until now = 0.8139 (\u001b[31m↗ 0.0109\u001b[0m)\n",
            "│   ├── Ppyoloeloss/loss_iou = 0.4284\n",
            "│   │   ├── Epoch N-1      = 0.4452 (\u001b[32m↘ -0.0168\u001b[0m)\n",
            "│   │   └── Best until now = 0.4303 (\u001b[32m↘ -0.0019\u001b[0m)\n",
            "│   ├── Ppyoloeloss/loss_dfl = 0.54\n",
            "│   │   ├── Epoch N-1      = 0.5581 (\u001b[32m↘ -0.0181\u001b[0m)\n",
            "│   │   └── Best until now = 0.5432 (\u001b[32m↘ -0.0032\u001b[0m)\n",
            "│   └── Ppyoloeloss/loss = 1.7932\n",
            "│       ├── Epoch N-1      = 1.8204 (\u001b[32m↘ -0.0272\u001b[0m)\n",
            "│       └── Best until now = 1.7958 (\u001b[32m↘ -0.0027\u001b[0m)\n",
            "└── Validation\n",
            "    ├── Ppyoloeloss/loss_cls = 0.9056\n",
            "    │   ├── Epoch N-1      = 0.7384 (\u001b[31m↗ 0.1672\u001b[0m)\n",
            "    │   └── Best until now = 0.7099 (\u001b[31m↗ 0.1958\u001b[0m)\n",
            "    ├── Ppyoloeloss/loss_iou = 0.4414\n",
            "    │   ├── Epoch N-1      = 0.4217 (\u001b[31m↗ 0.0197\u001b[0m)\n",
            "    │   └── Best until now = 0.3866 (\u001b[31m↗ 0.0548\u001b[0m)\n",
            "    ├── Ppyoloeloss/loss_dfl = 0.6063\n",
            "    │   ├── Epoch N-1      = 0.5678 (\u001b[31m↗ 0.0385\u001b[0m)\n",
            "    │   └── Best until now = 0.5413 (\u001b[31m↗ 0.065\u001b[0m)\n",
            "    ├── Ppyoloeloss/loss = 1.9533\n",
            "    │   ├── Epoch N-1      = 1.7279 (\u001b[31m↗ 0.2254\u001b[0m)\n",
            "    │   └── Best until now = 1.6541 (\u001b[31m↗ 0.2992\u001b[0m)\n",
            "    ├── Precision@0.50 = 0.0284\n",
            "    │   ├── Epoch N-1      = 0.056  (\u001b[31m↘ -0.0276\u001b[0m)\n",
            "    │   └── Best until now = 0.0813 (\u001b[31m↘ -0.0529\u001b[0m)\n",
            "    ├── Recall@0.50 = 0.9516\n",
            "    │   ├── Epoch N-1      = 0.9839 (\u001b[31m↘ -0.0323\u001b[0m)\n",
            "    │   └── Best until now = 0.9839 (\u001b[31m↘ -0.0323\u001b[0m)\n",
            "    ├── Map@0.50 = 0.9108\n",
            "    │   ├── Epoch N-1      = 0.9278 (\u001b[31m↘ -0.017\u001b[0m)\n",
            "    │   └── Best until now = 0.9491 (\u001b[31m↘ -0.0383\u001b[0m)\n",
            "    └── F1@0.50 = 0.0552\n",
            "        ├── Epoch N-1      = 0.106  (\u001b[31m↘ -0.0508\u001b[0m)\n",
            "        └── Best until now = 0.15   (\u001b[31m↘ -0.0948\u001b[0m)\n",
            "\n",
            "===========================================================\n"
          ]
        },
        {
          "metadata": {
            "tags": null
          },
          "name": "stderr",
          "output_type": "stream",
          "text": [
            "Train epoch 88: 100%|██████████| 26/26 [00:17<00:00,  1.48it/s, PPYoloELoss/loss=1.77, PPYoloELoss/loss_cls=0.809, PPYoloELoss/loss_dfl=0.539, PPYoloELoss/loss_iou=0.421, gpu_mem=6.83]\n",
            "Validating epoch 88: 100%|██████████| 8/8 [00:03<00:00,  2.50it/s]\n"
          ]
        },
        {
          "metadata": {
            "tags": null
          },
          "name": "stdout",
          "output_type": "stream",
          "text": [
            "===========================================================\n",
            "SUMMARY OF EPOCH 88\n",
            "├── Train\n",
            "│   ├── Ppyoloeloss/loss_cls = 0.8094\n",
            "│   │   ├── Epoch N-1      = 0.8248 (\u001b[32m↘ -0.0154\u001b[0m)\n",
            "│   │   └── Best until now = 0.8139 (\u001b[32m↘ -0.0045\u001b[0m)\n",
            "│   ├── Ppyoloeloss/loss_iou = 0.4205\n",
            "│   │   ├── Epoch N-1      = 0.4284 (\u001b[32m↘ -0.0078\u001b[0m)\n",
            "│   │   └── Best until now = 0.4284 (\u001b[32m↘ -0.0078\u001b[0m)\n",
            "│   ├── Ppyoloeloss/loss_dfl = 0.5395\n",
            "│   │   ├── Epoch N-1      = 0.54   (\u001b[32m↘ -0.0005\u001b[0m)\n",
            "│   │   └── Best until now = 0.54   (\u001b[32m↘ -0.0005\u001b[0m)\n",
            "│   └── Ppyoloeloss/loss = 1.7694\n",
            "│       ├── Epoch N-1      = 1.7932 (\u001b[32m↘ -0.0238\u001b[0m)\n",
            "│       └── Best until now = 1.7932 (\u001b[32m↘ -0.0238\u001b[0m)\n",
            "└── Validation\n",
            "    ├── Ppyoloeloss/loss_cls = 0.7314\n",
            "    │   ├── Epoch N-1      = 0.9056 (\u001b[32m↘ -0.1742\u001b[0m)\n",
            "    │   └── Best until now = 0.7099 (\u001b[31m↗ 0.0216\u001b[0m)\n",
            "    ├── Ppyoloeloss/loss_iou = 0.392\n",
            "    │   ├── Epoch N-1      = 0.4414 (\u001b[32m↘ -0.0494\u001b[0m)\n",
            "    │   └── Best until now = 0.3866 (\u001b[31m↗ 0.0054\u001b[0m)\n",
            "    ├── Ppyoloeloss/loss_dfl = 0.547\n",
            "    │   ├── Epoch N-1      = 0.6063 (\u001b[32m↘ -0.0593\u001b[0m)\n",
            "    │   └── Best until now = 0.5413 (\u001b[31m↗ 0.0057\u001b[0m)\n",
            "    ├── Ppyoloeloss/loss = 1.6705\n",
            "    │   ├── Epoch N-1      = 1.9533 (\u001b[32m↘ -0.2828\u001b[0m)\n",
            "    │   └── Best until now = 1.6541 (\u001b[31m↗ 0.0164\u001b[0m)\n",
            "    ├── Precision@0.50 = 0.0773\n",
            "    │   ├── Epoch N-1      = 0.0284 (\u001b[32m↗ 0.0489\u001b[0m)\n",
            "    │   └── Best until now = 0.0813 (\u001b[31m↘ -0.004\u001b[0m)\n",
            "    ├── Recall@0.50 = 0.9677\n",
            "    │   ├── Epoch N-1      = 0.9516 (\u001b[32m↗ 0.0161\u001b[0m)\n",
            "    │   └── Best until now = 0.9839 (\u001b[31m↘ -0.0161\u001b[0m)\n",
            "    ├── Map@0.50 = 0.9214\n",
            "    │   ├── Epoch N-1      = 0.9108 (\u001b[32m↗ 0.0107\u001b[0m)\n",
            "    │   └── Best until now = 0.9491 (\u001b[31m↘ -0.0277\u001b[0m)\n",
            "    └── F1@0.50 = 0.1432\n",
            "        ├── Epoch N-1      = 0.0552 (\u001b[32m↗ 0.088\u001b[0m)\n",
            "        └── Best until now = 0.15   (\u001b[31m↘ -0.0068\u001b[0m)\n",
            "\n",
            "===========================================================\n"
          ]
        },
        {
          "metadata": {
            "tags": null
          },
          "name": "stderr",
          "output_type": "stream",
          "text": [
            "Train epoch 89: 100%|██████████| 26/26 [00:17<00:00,  1.50it/s, PPYoloELoss/loss=1.78, PPYoloELoss/loss_cls=0.819, PPYoloELoss/loss_dfl=0.539, PPYoloELoss/loss_iou=0.421, gpu_mem=6.83]\n",
            "Validating epoch 89: 100%|██████████| 8/8 [00:03<00:00,  2.61it/s]\n"
          ]
        },
        {
          "metadata": {
            "tags": null
          },
          "name": "stdout",
          "output_type": "stream",
          "text": [
            "===========================================================\n",
            "SUMMARY OF EPOCH 89\n",
            "├── Train\n",
            "│   ├── Ppyoloeloss/loss_cls = 0.8186\n",
            "│   │   ├── Epoch N-1      = 0.8094 (\u001b[31m↗ 0.0092\u001b[0m)\n",
            "│   │   └── Best until now = 0.8094 (\u001b[31m↗ 0.0092\u001b[0m)\n",
            "│   ├── Ppyoloeloss/loss_iou = 0.4208\n",
            "│   │   ├── Epoch N-1      = 0.4205 (\u001b[31m↗ 0.0003\u001b[0m)\n",
            "│   │   └── Best until now = 0.4205 (\u001b[31m↗ 0.0003\u001b[0m)\n",
            "│   ├── Ppyoloeloss/loss_dfl = 0.5386\n",
            "│   │   ├── Epoch N-1      = 0.5395 (\u001b[32m↘ -0.0009\u001b[0m)\n",
            "│   │   └── Best until now = 0.5395 (\u001b[32m↘ -0.0009\u001b[0m)\n",
            "│   └── Ppyoloeloss/loss = 1.778\n",
            "│       ├── Epoch N-1      = 1.7694 (\u001b[31m↗ 0.0086\u001b[0m)\n",
            "│       └── Best until now = 1.7694 (\u001b[31m↗ 0.0086\u001b[0m)\n",
            "└── Validation\n",
            "    ├── Ppyoloeloss/loss_cls = 0.7377\n",
            "    │   ├── Epoch N-1      = 0.7314 (\u001b[31m↗ 0.0063\u001b[0m)\n",
            "    │   └── Best until now = 0.7099 (\u001b[31m↗ 0.0278\u001b[0m)\n",
            "    ├── Ppyoloeloss/loss_iou = 0.4079\n",
            "    │   ├── Epoch N-1      = 0.392  (\u001b[31m↗ 0.0159\u001b[0m)\n",
            "    │   └── Best until now = 0.3866 (\u001b[31m↗ 0.0213\u001b[0m)\n",
            "    ├── Ppyoloeloss/loss_dfl = 0.5739\n",
            "    │   ├── Epoch N-1      = 0.547  (\u001b[31m↗ 0.0269\u001b[0m)\n",
            "    │   └── Best until now = 0.5413 (\u001b[31m↗ 0.0326\u001b[0m)\n",
            "    ├── Ppyoloeloss/loss = 1.7195\n",
            "    │   ├── Epoch N-1      = 1.6705 (\u001b[31m↗ 0.049\u001b[0m)\n",
            "    │   └── Best until now = 1.6541 (\u001b[31m↗ 0.0654\u001b[0m)\n",
            "    ├── Precision@0.50 = 0.1266\n",
            "    │   ├── Epoch N-1      = 0.0773 (\u001b[32m↗ 0.0493\u001b[0m)\n",
            "    │   └── Best until now = 0.0813 (\u001b[32m↗ 0.0453\u001b[0m)\n",
            "    ├── Recall@0.50 = 0.9677\n",
            "    │   ├── Epoch N-1      = 0.9677 (\u001b[37m= 0.0\u001b[0m)\n",
            "    │   └── Best until now = 0.9839 (\u001b[31m↘ -0.0161\u001b[0m)\n",
            "    ├── Map@0.50 = 0.9262\n",
            "    │   ├── Epoch N-1      = 0.9214 (\u001b[32m↗ 0.0047\u001b[0m)\n",
            "    │   └── Best until now = 0.9491 (\u001b[31m↘ -0.0229\u001b[0m)\n",
            "    └── F1@0.50 = 0.2239\n",
            "        ├── Epoch N-1      = 0.1432 (\u001b[32m↗ 0.0807\u001b[0m)\n",
            "        └── Best until now = 0.15   (\u001b[32m↗ 0.0739\u001b[0m)\n",
            "\n",
            "===========================================================\n"
          ]
        },
        {
          "metadata": {
            "tags": null
          },
          "name": "stderr",
          "output_type": "stream",
          "text": [
            "Train epoch 90: 100%|██████████| 26/26 [00:17<00:00,  1.50it/s, PPYoloELoss/loss=1.81, PPYoloELoss/loss_cls=0.816, PPYoloELoss/loss_dfl=0.55, PPYoloELoss/loss_iou=0.443, gpu_mem=6.82]\n",
            "Validating epoch 90: 100%|██████████| 8/8 [00:02<00:00,  2.67it/s]\n"
          ]
        },
        {
          "metadata": {
            "tags": null
          },
          "name": "stdout",
          "output_type": "stream",
          "text": [
            "===========================================================\n",
            "SUMMARY OF EPOCH 90\n",
            "├── Train\n",
            "│   ├── Ppyoloeloss/loss_cls = 0.8163\n",
            "│   │   ├── Epoch N-1      = 0.8186 (\u001b[32m↘ -0.0023\u001b[0m)\n",
            "│   │   └── Best until now = 0.8094 (\u001b[31m↗ 0.0069\u001b[0m)\n",
            "│   ├── Ppyoloeloss/loss_iou = 0.4429\n",
            "│   │   ├── Epoch N-1      = 0.4208 (\u001b[31m↗ 0.0221\u001b[0m)\n",
            "│   │   └── Best until now = 0.4205 (\u001b[31m↗ 0.0224\u001b[0m)\n",
            "│   ├── Ppyoloeloss/loss_dfl = 0.5496\n",
            "│   │   ├── Epoch N-1      = 0.5386 (\u001b[31m↗ 0.011\u001b[0m)\n",
            "│   │   └── Best until now = 0.5386 (\u001b[31m↗ 0.011\u001b[0m)\n",
            "│   └── Ppyoloeloss/loss = 1.8089\n",
            "│       ├── Epoch N-1      = 1.778  (\u001b[31m↗ 0.0308\u001b[0m)\n",
            "│       └── Best until now = 1.7694 (\u001b[31m↗ 0.0395\u001b[0m)\n",
            "└── Validation\n",
            "    ├── Ppyoloeloss/loss_cls = 0.7709\n",
            "    │   ├── Epoch N-1      = 0.7377 (\u001b[31m↗ 0.0333\u001b[0m)\n",
            "    │   └── Best until now = 0.7099 (\u001b[31m↗ 0.0611\u001b[0m)\n",
            "    ├── Ppyoloeloss/loss_iou = 0.4157\n",
            "    │   ├── Epoch N-1      = 0.4079 (\u001b[31m↗ 0.0078\u001b[0m)\n",
            "    │   └── Best until now = 0.3866 (\u001b[31m↗ 0.029\u001b[0m)\n",
            "    ├── Ppyoloeloss/loss_dfl = 0.5614\n",
            "    │   ├── Epoch N-1      = 0.5739 (\u001b[32m↘ -0.0126\u001b[0m)\n",
            "    │   └── Best until now = 0.5413 (\u001b[31m↗ 0.0201\u001b[0m)\n",
            "    ├── Ppyoloeloss/loss = 1.748\n",
            "    │   ├── Epoch N-1      = 1.7195 (\u001b[31m↗ 0.0284\u001b[0m)\n",
            "    │   └── Best until now = 1.6541 (\u001b[31m↗ 0.0938\u001b[0m)\n",
            "    ├── Precision@0.50 = 0.1599\n",
            "    │   ├── Epoch N-1      = 0.1266 (\u001b[32m↗ 0.0333\u001b[0m)\n",
            "    │   └── Best until now = 0.1266 (\u001b[32m↗ 0.0333\u001b[0m)\n",
            "    ├── Recall@0.50 = 0.9516\n",
            "    │   ├── Epoch N-1      = 0.9677 (\u001b[31m↘ -0.0161\u001b[0m)\n",
            "    │   └── Best until now = 0.9839 (\u001b[31m↘ -0.0323\u001b[0m)\n",
            "    ├── Map@0.50 = 0.9044\n",
            "    │   ├── Epoch N-1      = 0.9262 (\u001b[31m↘ -0.0218\u001b[0m)\n",
            "    │   └── Best until now = 0.9491 (\u001b[31m↘ -0.0447\u001b[0m)\n",
            "    └── F1@0.50 = 0.2738\n",
            "        ├── Epoch N-1      = 0.2239 (\u001b[32m↗ 0.0499\u001b[0m)\n",
            "        └── Best until now = 0.2239 (\u001b[32m↗ 0.0499\u001b[0m)\n",
            "\n",
            "===========================================================\n"
          ]
        },
        {
          "metadata": {
            "tags": null
          },
          "name": "stderr",
          "output_type": "stream",
          "text": [
            "Train epoch 91: 100%|██████████| 26/26 [00:18<00:00,  1.43it/s, PPYoloELoss/loss=1.76, PPYoloELoss/loss_cls=0.803, PPYoloELoss/loss_dfl=0.535, PPYoloELoss/loss_iou=0.422, gpu_mem=6.98]\n",
            "Validating epoch 91: 100%|██████████| 8/8 [00:02<00:00,  2.68it/s]\n"
          ]
        },
        {
          "metadata": {
            "tags": null
          },
          "name": "stdout",
          "output_type": "stream",
          "text": [
            "===========================================================\n",
            "SUMMARY OF EPOCH 91\n",
            "├── Train\n",
            "│   ├── Ppyoloeloss/loss_cls = 0.8025\n",
            "│   │   ├── Epoch N-1      = 0.8163 (\u001b[32m↘ -0.0138\u001b[0m)\n",
            "│   │   └── Best until now = 0.8094 (\u001b[32m↘ -0.0069\u001b[0m)\n",
            "│   ├── Ppyoloeloss/loss_iou = 0.4217\n",
            "│   │   ├── Epoch N-1      = 0.4429 (\u001b[32m↘ -0.0213\u001b[0m)\n",
            "│   │   └── Best until now = 0.4205 (\u001b[31m↗ 0.0012\u001b[0m)\n",
            "│   ├── Ppyoloeloss/loss_dfl = 0.5353\n",
            "│   │   ├── Epoch N-1      = 0.5496 (\u001b[32m↘ -0.0143\u001b[0m)\n",
            "│   │   └── Best until now = 0.5386 (\u001b[32m↘ -0.0033\u001b[0m)\n",
            "│   └── Ppyoloeloss/loss = 1.7595\n",
            "│       ├── Epoch N-1      = 1.8089 (\u001b[32m↘ -0.0493\u001b[0m)\n",
            "│       └── Best until now = 1.7694 (\u001b[32m↘ -0.0099\u001b[0m)\n",
            "└── Validation\n",
            "    ├── Ppyoloeloss/loss_cls = 0.7671\n",
            "    │   ├── Epoch N-1      = 0.7709 (\u001b[32m↘ -0.0038\u001b[0m)\n",
            "    │   └── Best until now = 0.7099 (\u001b[31m↗ 0.0573\u001b[0m)\n",
            "    ├── Ppyoloeloss/loss_iou = 0.4206\n",
            "    │   ├── Epoch N-1      = 0.4157 (\u001b[31m↗ 0.005\u001b[0m)\n",
            "    │   └── Best until now = 0.3866 (\u001b[31m↗ 0.034\u001b[0m)\n",
            "    ├── Ppyoloeloss/loss_dfl = 0.5718\n",
            "    │   ├── Epoch N-1      = 0.5614 (\u001b[31m↗ 0.0105\u001b[0m)\n",
            "    │   └── Best until now = 0.5413 (\u001b[31m↗ 0.0305\u001b[0m)\n",
            "    ├── Ppyoloeloss/loss = 1.7596\n",
            "    │   ├── Epoch N-1      = 1.748  (\u001b[31m↗ 0.0116\u001b[0m)\n",
            "    │   └── Best until now = 1.6541 (\u001b[31m↗ 0.1055\u001b[0m)\n",
            "    ├── Precision@0.50 = 0.0726\n",
            "    │   ├── Epoch N-1      = 0.1599 (\u001b[31m↘ -0.0873\u001b[0m)\n",
            "    │   └── Best until now = 0.1599 (\u001b[31m↘ -0.0873\u001b[0m)\n",
            "    ├── Recall@0.50 = 0.9677\n",
            "    │   ├── Epoch N-1      = 0.9516 (\u001b[32m↗ 0.0161\u001b[0m)\n",
            "    │   └── Best until now = 0.9839 (\u001b[31m↘ -0.0161\u001b[0m)\n",
            "    ├── Map@0.50 = 0.8963\n",
            "    │   ├── Epoch N-1      = 0.9044 (\u001b[31m↘ -0.0081\u001b[0m)\n",
            "    │   └── Best until now = 0.9491 (\u001b[31m↘ -0.0528\u001b[0m)\n",
            "    └── F1@0.50 = 0.135\n",
            "        ├── Epoch N-1      = 0.2738 (\u001b[31m↘ -0.1388\u001b[0m)\n",
            "        └── Best until now = 0.2738 (\u001b[31m↘ -0.1388\u001b[0m)\n",
            "\n",
            "===========================================================\n"
          ]
        },
        {
          "metadata": {
            "tags": null
          },
          "name": "stderr",
          "output_type": "stream",
          "text": [
            "Train epoch 92: 100%|██████████| 26/26 [00:17<00:00,  1.46it/s, PPYoloELoss/loss=1.8, PPYoloELoss/loss_cls=0.83, PPYoloELoss/loss_dfl=0.544, PPYoloELoss/loss_iou=0.431, gpu_mem=6.82]\n",
            "Validating epoch 92: 100%|██████████| 8/8 [00:02<00:00,  2.71it/s]\n"
          ]
        },
        {
          "metadata": {
            "tags": null
          },
          "name": "stdout",
          "output_type": "stream",
          "text": [
            "===========================================================\n",
            "SUMMARY OF EPOCH 92\n",
            "├── Train\n",
            "│   ├── Ppyoloeloss/loss_cls = 0.8302\n",
            "│   │   ├── Epoch N-1      = 0.8025 (\u001b[31m↗ 0.0277\u001b[0m)\n",
            "│   │   └── Best until now = 0.8025 (\u001b[31m↗ 0.0277\u001b[0m)\n",
            "│   ├── Ppyoloeloss/loss_iou = 0.4309\n",
            "│   │   ├── Epoch N-1      = 0.4217 (\u001b[31m↗ 0.0092\u001b[0m)\n",
            "│   │   └── Best until now = 0.4205 (\u001b[31m↗ 0.0103\u001b[0m)\n",
            "│   ├── Ppyoloeloss/loss_dfl = 0.5436\n",
            "│   │   ├── Epoch N-1      = 0.5353 (\u001b[31m↗ 0.0083\u001b[0m)\n",
            "│   │   └── Best until now = 0.5353 (\u001b[31m↗ 0.0083\u001b[0m)\n",
            "│   └── Ppyoloeloss/loss = 1.8047\n",
            "│       ├── Epoch N-1      = 1.7595 (\u001b[31m↗ 0.0452\u001b[0m)\n",
            "│       └── Best until now = 1.7595 (\u001b[31m↗ 0.0452\u001b[0m)\n",
            "└── Validation\n",
            "    ├── Ppyoloeloss/loss_cls = 0.7963\n",
            "    │   ├── Epoch N-1      = 0.7671 (\u001b[31m↗ 0.0292\u001b[0m)\n",
            "    │   └── Best until now = 0.7099 (\u001b[31m↗ 0.0865\u001b[0m)\n",
            "    ├── Ppyoloeloss/loss_iou = 0.414\n",
            "    │   ├── Epoch N-1      = 0.4206 (\u001b[32m↘ -0.0067\u001b[0m)\n",
            "    │   └── Best until now = 0.3866 (\u001b[31m↗ 0.0273\u001b[0m)\n",
            "    ├── Ppyoloeloss/loss_dfl = 0.571\n",
            "    │   ├── Epoch N-1      = 0.5718 (\u001b[32m↘ -0.0008\u001b[0m)\n",
            "    │   └── Best until now = 0.5413 (\u001b[31m↗ 0.0297\u001b[0m)\n",
            "    ├── Ppyoloeloss/loss = 1.7813\n",
            "    │   ├── Epoch N-1      = 1.7596 (\u001b[31m↗ 0.0217\u001b[0m)\n",
            "    │   └── Best until now = 1.6541 (\u001b[31m↗ 0.1271\u001b[0m)\n",
            "    ├── Precision@0.50 = 0.0481\n",
            "    │   ├── Epoch N-1      = 0.0726 (\u001b[31m↘ -0.0244\u001b[0m)\n",
            "    │   └── Best until now = 0.1599 (\u001b[31m↘ -0.1118\u001b[0m)\n",
            "    ├── Recall@0.50 = 0.9677\n",
            "    │   ├── Epoch N-1      = 0.9677 (\u001b[37m= 0.0\u001b[0m)\n",
            "    │   └── Best until now = 0.9839 (\u001b[31m↘ -0.0161\u001b[0m)\n",
            "    ├── Map@0.50 = 0.9058\n",
            "    │   ├── Epoch N-1      = 0.8963 (\u001b[32m↗ 0.0095\u001b[0m)\n",
            "    │   └── Best until now = 0.9491 (\u001b[31m↘ -0.0433\u001b[0m)\n",
            "    └── F1@0.50 = 0.0917\n",
            "        ├── Epoch N-1      = 0.135  (\u001b[31m↘ -0.0433\u001b[0m)\n",
            "        └── Best until now = 0.2738 (\u001b[31m↘ -0.1821\u001b[0m)\n",
            "\n",
            "===========================================================\n"
          ]
        },
        {
          "metadata": {
            "tags": null
          },
          "name": "stderr",
          "output_type": "stream",
          "text": [
            "Train epoch 93: 100%|██████████| 26/26 [00:17<00:00,  1.49it/s, PPYoloELoss/loss=1.83, PPYoloELoss/loss_cls=0.831, PPYoloELoss/loss_dfl=0.562, PPYoloELoss/loss_iou=0.436, gpu_mem=6.83]\n",
            "Validating epoch 93: 100%|██████████| 8/8 [00:03<00:00,  2.65it/s]\n"
          ]
        },
        {
          "metadata": {
            "tags": null
          },
          "name": "stdout",
          "output_type": "stream",
          "text": [
            "===========================================================\n",
            "SUMMARY OF EPOCH 93\n",
            "├── Train\n",
            "│   ├── Ppyoloeloss/loss_cls = 0.8307\n",
            "│   │   ├── Epoch N-1      = 0.8302 (\u001b[31m↗ 0.0005\u001b[0m)\n",
            "│   │   └── Best until now = 0.8025 (\u001b[31m↗ 0.0282\u001b[0m)\n",
            "│   ├── Ppyoloeloss/loss_iou = 0.436\n",
            "│   │   ├── Epoch N-1      = 0.4309 (\u001b[31m↗ 0.0052\u001b[0m)\n",
            "│   │   └── Best until now = 0.4205 (\u001b[31m↗ 0.0155\u001b[0m)\n",
            "│   ├── Ppyoloeloss/loss_dfl = 0.562\n",
            "│   │   ├── Epoch N-1      = 0.5436 (\u001b[31m↗ 0.0184\u001b[0m)\n",
            "│   │   └── Best until now = 0.5353 (\u001b[31m↗ 0.0267\u001b[0m)\n",
            "│   └── Ppyoloeloss/loss = 1.8288\n",
            "│       ├── Epoch N-1      = 1.8047 (\u001b[31m↗ 0.0241\u001b[0m)\n",
            "│       └── Best until now = 1.7595 (\u001b[31m↗ 0.0692\u001b[0m)\n",
            "└── Validation\n",
            "    ├── Ppyoloeloss/loss_cls = 0.9559\n",
            "    │   ├── Epoch N-1      = 0.7963 (\u001b[31m↗ 0.1596\u001b[0m)\n",
            "    │   └── Best until now = 0.7099 (\u001b[31m↗ 0.2461\u001b[0m)\n",
            "    ├── Ppyoloeloss/loss_iou = 0.4304\n",
            "    │   ├── Epoch N-1      = 0.414  (\u001b[31m↗ 0.0165\u001b[0m)\n",
            "    │   └── Best until now = 0.3866 (\u001b[31m↗ 0.0438\u001b[0m)\n",
            "    ├── Ppyoloeloss/loss_dfl = 0.5844\n",
            "    │   ├── Epoch N-1      = 0.571  (\u001b[31m↗ 0.0134\u001b[0m)\n",
            "    │   └── Best until now = 0.5413 (\u001b[31m↗ 0.0431\u001b[0m)\n",
            "    ├── Ppyoloeloss/loss = 1.9708\n",
            "    │   ├── Epoch N-1      = 1.7813 (\u001b[31m↗ 0.1895\u001b[0m)\n",
            "    │   └── Best until now = 1.6541 (\u001b[31m↗ 0.3166\u001b[0m)\n",
            "    ├── Precision@0.50 = 0.0266\n",
            "    │   ├── Epoch N-1      = 0.0481 (\u001b[31m↘ -0.0215\u001b[0m)\n",
            "    │   └── Best until now = 0.1599 (\u001b[31m↘ -0.1333\u001b[0m)\n",
            "    ├── Recall@0.50 = 0.9677\n",
            "    │   ├── Epoch N-1      = 0.9677 (\u001b[37m= 0.0\u001b[0m)\n",
            "    │   └── Best until now = 0.9839 (\u001b[31m↘ -0.0161\u001b[0m)\n",
            "    ├── Map@0.50 = 0.8305\n",
            "    │   ├── Epoch N-1      = 0.9058 (\u001b[31m↘ -0.0753\u001b[0m)\n",
            "    │   └── Best until now = 0.9491 (\u001b[31m↘ -0.1186\u001b[0m)\n",
            "    └── F1@0.50 = 0.0518\n",
            "        ├── Epoch N-1      = 0.0917 (\u001b[31m↘ -0.0399\u001b[0m)\n",
            "        └── Best until now = 0.2738 (\u001b[31m↘ -0.222\u001b[0m)\n",
            "\n",
            "===========================================================\n"
          ]
        },
        {
          "metadata": {
            "tags": null
          },
          "name": "stderr",
          "output_type": "stream",
          "text": [
            "Train epoch 94: 100%|██████████| 26/26 [00:18<00:00,  1.44it/s, PPYoloELoss/loss=1.82, PPYoloELoss/loss_cls=0.832, PPYoloELoss/loss_dfl=0.556, PPYoloELoss/loss_iou=0.431, gpu_mem=6.83]\n",
            "Validating epoch 94: 100%|██████████| 8/8 [00:03<00:00,  2.52it/s]\n"
          ]
        },
        {
          "metadata": {
            "tags": null
          },
          "name": "stdout",
          "output_type": "stream",
          "text": [
            "===========================================================\n",
            "SUMMARY OF EPOCH 94\n",
            "├── Train\n",
            "│   ├── Ppyoloeloss/loss_cls = 0.8318\n",
            "│   │   ├── Epoch N-1      = 0.8307 (\u001b[31m↗ 0.0011\u001b[0m)\n",
            "│   │   └── Best until now = 0.8025 (\u001b[31m↗ 0.0293\u001b[0m)\n",
            "│   ├── Ppyoloeloss/loss_iou = 0.4311\n",
            "│   │   ├── Epoch N-1      = 0.436  (\u001b[32m↘ -0.0049\u001b[0m)\n",
            "│   │   └── Best until now = 0.4205 (\u001b[31m↗ 0.0106\u001b[0m)\n",
            "│   ├── Ppyoloeloss/loss_dfl = 0.5564\n",
            "│   │   ├── Epoch N-1      = 0.562  (\u001b[32m↘ -0.0056\u001b[0m)\n",
            "│   │   └── Best until now = 0.5353 (\u001b[31m↗ 0.021\u001b[0m)\n",
            "│   └── Ppyoloeloss/loss = 1.8193\n",
            "│       ├── Epoch N-1      = 1.8288 (\u001b[32m↘ -0.0095\u001b[0m)\n",
            "│       └── Best until now = 1.7595 (\u001b[31m↗ 0.0598\u001b[0m)\n",
            "└── Validation\n",
            "    ├── Ppyoloeloss/loss_cls = 0.7993\n",
            "    │   ├── Epoch N-1      = 0.9559 (\u001b[32m↘ -0.1567\u001b[0m)\n",
            "    │   └── Best until now = 0.7099 (\u001b[31m↗ 0.0894\u001b[0m)\n",
            "    ├── Ppyoloeloss/loss_iou = 0.4027\n",
            "    │   ├── Epoch N-1      = 0.4304 (\u001b[32m↘ -0.0278\u001b[0m)\n",
            "    │   └── Best until now = 0.3866 (\u001b[31m↗ 0.016\u001b[0m)\n",
            "    ├── Ppyoloeloss/loss_dfl = 0.5664\n",
            "    │   ├── Epoch N-1      = 0.5844 (\u001b[32m↘ -0.018\u001b[0m)\n",
            "    │   └── Best until now = 0.5413 (\u001b[31m↗ 0.0251\u001b[0m)\n",
            "    ├── Ppyoloeloss/loss = 1.7684\n",
            "    │   ├── Epoch N-1      = 1.9708 (\u001b[32m↘ -0.2024\u001b[0m)\n",
            "    │   └── Best until now = 1.6541 (\u001b[31m↗ 0.1142\u001b[0m)\n",
            "    ├── Precision@0.50 = 0.0539\n",
            "    │   ├── Epoch N-1      = 0.0266 (\u001b[32m↗ 0.0272\u001b[0m)\n",
            "    │   └── Best until now = 0.1599 (\u001b[31m↘ -0.106\u001b[0m)\n",
            "    ├── Recall@0.50 = 0.9677\n",
            "    │   ├── Epoch N-1      = 0.9677 (\u001b[37m= 0.0\u001b[0m)\n",
            "    │   └── Best until now = 0.9839 (\u001b[31m↘ -0.0161\u001b[0m)\n",
            "    ├── Map@0.50 = 0.922\n",
            "    │   ├── Epoch N-1      = 0.8305 (\u001b[32m↗ 0.0915\u001b[0m)\n",
            "    │   └── Best until now = 0.9491 (\u001b[31m↘ -0.0271\u001b[0m)\n",
            "    └── F1@0.50 = 0.102\n",
            "        ├── Epoch N-1      = 0.0518 (\u001b[32m↗ 0.0502\u001b[0m)\n",
            "        └── Best until now = 0.2738 (\u001b[31m↘ -0.1717\u001b[0m)\n",
            "\n",
            "===========================================================\n"
          ]
        },
        {
          "metadata": {
            "tags": null
          },
          "name": "stderr",
          "output_type": "stream",
          "text": [
            "Train epoch 95: 100%|██████████| 26/26 [00:17<00:00,  1.52it/s, PPYoloELoss/loss=1.84, PPYoloELoss/loss_cls=0.845, PPYoloELoss/loss_dfl=0.562, PPYoloELoss/loss_iou=0.435, gpu_mem=6.83]\n",
            "Validating epoch 95: 100%|██████████| 8/8 [00:03<00:00,  2.61it/s]\n"
          ]
        },
        {
          "metadata": {
            "tags": null
          },
          "name": "stdout",
          "output_type": "stream",
          "text": [
            "===========================================================\n",
            "SUMMARY OF EPOCH 95\n",
            "├── Train\n",
            "│   ├── Ppyoloeloss/loss_cls = 0.8449\n",
            "│   │   ├── Epoch N-1      = 0.8318 (\u001b[31m↗ 0.0131\u001b[0m)\n",
            "│   │   └── Best until now = 0.8025 (\u001b[31m↗ 0.0424\u001b[0m)\n",
            "│   ├── Ppyoloeloss/loss_iou = 0.4346\n",
            "│   │   ├── Epoch N-1      = 0.4311 (\u001b[31m↗ 0.0035\u001b[0m)\n",
            "│   │   └── Best until now = 0.4205 (\u001b[31m↗ 0.0141\u001b[0m)\n",
            "│   ├── Ppyoloeloss/loss_dfl = 0.5617\n",
            "│   │   ├── Epoch N-1      = 0.5564 (\u001b[31m↗ 0.0053\u001b[0m)\n",
            "│   │   └── Best until now = 0.5353 (\u001b[31m↗ 0.0263\u001b[0m)\n",
            "│   └── Ppyoloeloss/loss = 1.8412\n",
            "│       ├── Epoch N-1      = 1.8193 (\u001b[31m↗ 0.0218\u001b[0m)\n",
            "│       └── Best until now = 1.7595 (\u001b[31m↗ 0.0816\u001b[0m)\n",
            "└── Validation\n",
            "    ├── Ppyoloeloss/loss_cls = 0.7457\n",
            "    │   ├── Epoch N-1      = 0.7993 (\u001b[32m↘ -0.0536\u001b[0m)\n",
            "    │   └── Best until now = 0.7099 (\u001b[31m↗ 0.0358\u001b[0m)\n",
            "    ├── Ppyoloeloss/loss_iou = 0.4015\n",
            "    │   ├── Epoch N-1      = 0.4027 (\u001b[32m↘ -0.0011\u001b[0m)\n",
            "    │   └── Best until now = 0.3866 (\u001b[31m↗ 0.0149\u001b[0m)\n",
            "    ├── Ppyoloeloss/loss_dfl = 0.5527\n",
            "    │   ├── Epoch N-1      = 0.5664 (\u001b[32m↘ -0.0137\u001b[0m)\n",
            "    │   └── Best until now = 0.5413 (\u001b[31m↗ 0.0114\u001b[0m)\n",
            "    ├── Ppyoloeloss/loss = 1.7\n",
            "    │   ├── Epoch N-1      = 1.7684 (\u001b[32m↘ -0.0684\u001b[0m)\n",
            "    │   └── Best until now = 1.6541 (\u001b[31m↗ 0.0458\u001b[0m)\n",
            "    ├── Precision@0.50 = 0.0512\n",
            "    │   ├── Epoch N-1      = 0.0539 (\u001b[31m↘ -0.0027\u001b[0m)\n",
            "    │   └── Best until now = 0.1599 (\u001b[31m↘ -0.1087\u001b[0m)\n",
            "    ├── Recall@0.50 = 0.9677\n",
            "    │   ├── Epoch N-1      = 0.9677 (\u001b[37m= 0.0\u001b[0m)\n",
            "    │   └── Best until now = 0.9839 (\u001b[31m↘ -0.0161\u001b[0m)\n",
            "    ├── Map@0.50 = 0.9367\n",
            "    │   ├── Epoch N-1      = 0.922  (\u001b[32m↗ 0.0146\u001b[0m)\n",
            "    │   └── Best until now = 0.9491 (\u001b[31m↘ -0.0124\u001b[0m)\n",
            "    └── F1@0.50 = 0.0972\n",
            "        ├── Epoch N-1      = 0.102  (\u001b[31m↘ -0.0049\u001b[0m)\n",
            "        └── Best until now = 0.2738 (\u001b[31m↘ -0.1766\u001b[0m)\n",
            "\n",
            "===========================================================\n"
          ]
        },
        {
          "metadata": {
            "tags": null
          },
          "name": "stderr",
          "output_type": "stream",
          "text": [
            "Train epoch 96: 100%|██████████| 26/26 [00:17<00:00,  1.51it/s, PPYoloELoss/loss=1.83, PPYoloELoss/loss_cls=0.837, PPYoloELoss/loss_dfl=0.56, PPYoloELoss/loss_iou=0.435, gpu_mem=6.84]\n",
            "Validating epoch 96: 100%|██████████| 8/8 [00:02<00:00,  2.71it/s]\n"
          ]
        },
        {
          "metadata": {
            "tags": null
          },
          "name": "stdout",
          "output_type": "stream",
          "text": [
            "===========================================================\n",
            "SUMMARY OF EPOCH 96\n",
            "├── Train\n",
            "│   ├── Ppyoloeloss/loss_cls = 0.8367\n",
            "│   │   ├── Epoch N-1      = 0.8449 (\u001b[32m↘ -0.0082\u001b[0m)\n",
            "│   │   └── Best until now = 0.8025 (\u001b[31m↗ 0.0342\u001b[0m)\n",
            "│   ├── Ppyoloeloss/loss_iou = 0.4352\n",
            "│   │   ├── Epoch N-1      = 0.4346 (\u001b[31m↗ 0.0006\u001b[0m)\n",
            "│   │   └── Best until now = 0.4205 (\u001b[31m↗ 0.0146\u001b[0m)\n",
            "│   ├── Ppyoloeloss/loss_dfl = 0.5604\n",
            "│   │   ├── Epoch N-1      = 0.5617 (\u001b[32m↘ -0.0012\u001b[0m)\n",
            "│   │   └── Best until now = 0.5353 (\u001b[31m↗ 0.0251\u001b[0m)\n",
            "│   └── Ppyoloeloss/loss = 1.8323\n",
            "│       ├── Epoch N-1      = 1.8412 (\u001b[32m↘ -0.0089\u001b[0m)\n",
            "│       └── Best until now = 1.7595 (\u001b[31m↗ 0.0727\u001b[0m)\n",
            "└── Validation\n",
            "    ├── Ppyoloeloss/loss_cls = 0.7578\n",
            "    │   ├── Epoch N-1      = 0.7457 (\u001b[31m↗ 0.0121\u001b[0m)\n",
            "    │   └── Best until now = 0.7099 (\u001b[31m↗ 0.0479\u001b[0m)\n",
            "    ├── Ppyoloeloss/loss_iou = 0.4119\n",
            "    │   ├── Epoch N-1      = 0.4015 (\u001b[31m↗ 0.0104\u001b[0m)\n",
            "    │   └── Best until now = 0.3866 (\u001b[31m↗ 0.0253\u001b[0m)\n",
            "    ├── Ppyoloeloss/loss_dfl = 0.5486\n",
            "    │   ├── Epoch N-1      = 0.5527 (\u001b[32m↘ -0.0042\u001b[0m)\n",
            "    │   └── Best until now = 0.5413 (\u001b[31m↗ 0.0073\u001b[0m)\n",
            "    ├── Ppyoloeloss/loss = 1.7183\n",
            "    │   ├── Epoch N-1      = 1.7    (\u001b[31m↗ 0.0183\u001b[0m)\n",
            "    │   └── Best until now = 1.6541 (\u001b[31m↗ 0.0641\u001b[0m)\n",
            "    ├── Precision@0.50 = 0.0648\n",
            "    │   ├── Epoch N-1      = 0.0512 (\u001b[32m↗ 0.0136\u001b[0m)\n",
            "    │   └── Best until now = 0.1599 (\u001b[31m↘ -0.0951\u001b[0m)\n",
            "    ├── Recall@0.50 = 0.9677\n",
            "    │   ├── Epoch N-1      = 0.9677 (\u001b[37m= 0.0\u001b[0m)\n",
            "    │   └── Best until now = 0.9839 (\u001b[31m↘ -0.0161\u001b[0m)\n",
            "    ├── Map@0.50 = 0.903\n",
            "    │   ├── Epoch N-1      = 0.9367 (\u001b[31m↘ -0.0337\u001b[0m)\n",
            "    │   └── Best until now = 0.9491 (\u001b[31m↘ -0.0461\u001b[0m)\n",
            "    └── F1@0.50 = 0.1215\n",
            "        ├── Epoch N-1      = 0.0972 (\u001b[32m↗ 0.0243\u001b[0m)\n",
            "        └── Best until now = 0.2738 (\u001b[31m↘ -0.1523\u001b[0m)\n",
            "\n",
            "===========================================================\n"
          ]
        },
        {
          "metadata": {
            "tags": null
          },
          "name": "stderr",
          "output_type": "stream",
          "text": [
            "Train epoch 97: 100%|██████████| 26/26 [00:17<00:00,  1.45it/s, PPYoloELoss/loss=1.82, PPYoloELoss/loss_cls=0.844, PPYoloELoss/loss_dfl=0.548, PPYoloELoss/loss_iou=0.429, gpu_mem=6.82]\n",
            "Validating epoch 97: 100%|██████████| 8/8 [00:02<00:00,  2.67it/s]\n"
          ]
        },
        {
          "metadata": {
            "tags": null
          },
          "name": "stdout",
          "output_type": "stream",
          "text": [
            "===========================================================\n",
            "SUMMARY OF EPOCH 97\n",
            "├── Train\n",
            "│   ├── Ppyoloeloss/loss_cls = 0.8443\n",
            "│   │   ├── Epoch N-1      = 0.8367 (\u001b[31m↗ 0.0076\u001b[0m)\n",
            "│   │   └── Best until now = 0.8025 (\u001b[31m↗ 0.0418\u001b[0m)\n",
            "│   ├── Ppyoloeloss/loss_iou = 0.4292\n",
            "│   │   ├── Epoch N-1      = 0.4352 (\u001b[32m↘ -0.006\u001b[0m)\n",
            "│   │   └── Best until now = 0.4205 (\u001b[31m↗ 0.0087\u001b[0m)\n",
            "│   ├── Ppyoloeloss/loss_dfl = 0.5479\n",
            "│   │   ├── Epoch N-1      = 0.5604 (\u001b[32m↘ -0.0125\u001b[0m)\n",
            "│   │   └── Best until now = 0.5353 (\u001b[31m↗ 0.0126\u001b[0m)\n",
            "│   └── Ppyoloeloss/loss = 1.8214\n",
            "│       ├── Epoch N-1      = 1.8323 (\u001b[32m↘ -0.0108\u001b[0m)\n",
            "│       └── Best until now = 1.7595 (\u001b[31m↗ 0.0619\u001b[0m)\n",
            "└── Validation\n",
            "    ├── Ppyoloeloss/loss_cls = 0.7415\n",
            "    │   ├── Epoch N-1      = 0.7578 (\u001b[32m↘ -0.0163\u001b[0m)\n",
            "    │   └── Best until now = 0.7099 (\u001b[31m↗ 0.0316\u001b[0m)\n",
            "    ├── Ppyoloeloss/loss_iou = 0.4374\n",
            "    │   ├── Epoch N-1      = 0.4119 (\u001b[31m↗ 0.0255\u001b[0m)\n",
            "    │   └── Best until now = 0.3866 (\u001b[31m↗ 0.0507\u001b[0m)\n",
            "    ├── Ppyoloeloss/loss_dfl = 0.5829\n",
            "    │   ├── Epoch N-1      = 0.5486 (\u001b[31m↗ 0.0343\u001b[0m)\n",
            "    │   └── Best until now = 0.5413 (\u001b[31m↗ 0.0416\u001b[0m)\n",
            "    ├── Ppyoloeloss/loss = 1.7618\n",
            "    │   ├── Epoch N-1      = 1.7183 (\u001b[31m↗ 0.0435\u001b[0m)\n",
            "    │   └── Best until now = 1.6541 (\u001b[31m↗ 0.1077\u001b[0m)\n",
            "    ├── Precision@0.50 = 0.0638\n",
            "    │   ├── Epoch N-1      = 0.0648 (\u001b[31m↘ -0.001\u001b[0m)\n",
            "    │   └── Best until now = 0.1599 (\u001b[31m↘ -0.0961\u001b[0m)\n",
            "    ├── Recall@0.50 = 0.9677\n",
            "    │   ├── Epoch N-1      = 0.9677 (\u001b[37m= 0.0\u001b[0m)\n",
            "    │   └── Best until now = 0.9839 (\u001b[31m↘ -0.0161\u001b[0m)\n",
            "    ├── Map@0.50 = 0.9276\n",
            "    │   ├── Epoch N-1      = 0.903  (\u001b[32m↗ 0.0246\u001b[0m)\n",
            "    │   └── Best until now = 0.9491 (\u001b[31m↘ -0.0215\u001b[0m)\n",
            "    └── F1@0.50 = 0.1198\n",
            "        ├── Epoch N-1      = 0.1215 (\u001b[31m↘ -0.0017\u001b[0m)\n",
            "        └── Best until now = 0.2738 (\u001b[31m↘ -0.154\u001b[0m)\n",
            "\n",
            "===========================================================\n"
          ]
        },
        {
          "metadata": {
            "tags": null
          },
          "name": "stderr",
          "output_type": "stream",
          "text": [
            "Train epoch 98: 100%|██████████| 26/26 [00:17<00:00,  1.47it/s, PPYoloELoss/loss=1.81, PPYoloELoss/loss_cls=0.833, PPYoloELoss/loss_dfl=0.544, PPYoloELoss/loss_iou=0.433, gpu_mem=6.98]\n",
            "Validating epoch 98: 100%|██████████| 8/8 [00:02<00:00,  2.68it/s]\n"
          ]
        },
        {
          "metadata": {
            "tags": null
          },
          "name": "stdout",
          "output_type": "stream",
          "text": [
            "===========================================================\n",
            "SUMMARY OF EPOCH 98\n",
            "├── Train\n",
            "│   ├── Ppyoloeloss/loss_cls = 0.8326\n",
            "│   │   ├── Epoch N-1      = 0.8443 (\u001b[32m↘ -0.0117\u001b[0m)\n",
            "│   │   └── Best until now = 0.8025 (\u001b[31m↗ 0.0301\u001b[0m)\n",
            "│   ├── Ppyoloeloss/loss_iou = 0.4327\n",
            "│   │   ├── Epoch N-1      = 0.4292 (\u001b[31m↗ 0.0035\u001b[0m)\n",
            "│   │   └── Best until now = 0.4205 (\u001b[31m↗ 0.0121\u001b[0m)\n",
            "│   ├── Ppyoloeloss/loss_dfl = 0.5436\n",
            "│   │   ├── Epoch N-1      = 0.5479 (\u001b[32m↘ -0.0043\u001b[0m)\n",
            "│   │   └── Best until now = 0.5353 (\u001b[31m↗ 0.0083\u001b[0m)\n",
            "│   └── Ppyoloeloss/loss = 1.8089\n",
            "│       ├── Epoch N-1      = 1.8214 (\u001b[32m↘ -0.0125\u001b[0m)\n",
            "│       └── Best until now = 1.7595 (\u001b[31m↗ 0.0494\u001b[0m)\n",
            "└── Validation\n",
            "    ├── Ppyoloeloss/loss_cls = 0.7143\n",
            "    │   ├── Epoch N-1      = 0.7415 (\u001b[32m↘ -0.0272\u001b[0m)\n",
            "    │   └── Best until now = 0.7099 (\u001b[31m↗ 0.0045\u001b[0m)\n",
            "    ├── Ppyoloeloss/loss_iou = 0.3968\n",
            "    │   ├── Epoch N-1      = 0.4374 (\u001b[32m↘ -0.0405\u001b[0m)\n",
            "    │   └── Best until now = 0.3866 (\u001b[31m↗ 0.0102\u001b[0m)\n",
            "    ├── Ppyoloeloss/loss_dfl = 0.5521\n",
            "    │   ├── Epoch N-1      = 0.5829 (\u001b[32m↘ -0.0308\u001b[0m)\n",
            "    │   └── Best until now = 0.5413 (\u001b[31m↗ 0.0108\u001b[0m)\n",
            "    ├── Ppyoloeloss/loss = 1.6633\n",
            "    │   ├── Epoch N-1      = 1.7618 (\u001b[32m↘ -0.0985\u001b[0m)\n",
            "    │   └── Best until now = 1.6541 (\u001b[31m↗ 0.0092\u001b[0m)\n",
            "    ├── Precision@0.50 = 0.0652\n",
            "    │   ├── Epoch N-1      = 0.0638 (\u001b[32m↗ 0.0014\u001b[0m)\n",
            "    │   └── Best until now = 0.1599 (\u001b[31m↘ -0.0947\u001b[0m)\n",
            "    ├── Recall@0.50 = 0.9677\n",
            "    │   ├── Epoch N-1      = 0.9677 (\u001b[37m= 0.0\u001b[0m)\n",
            "    │   └── Best until now = 0.9839 (\u001b[31m↘ -0.0161\u001b[0m)\n",
            "    ├── Map@0.50 = 0.943\n",
            "    │   ├── Epoch N-1      = 0.9276 (\u001b[32m↗ 0.0154\u001b[0m)\n",
            "    │   └── Best until now = 0.9491 (\u001b[31m↘ -0.0062\u001b[0m)\n",
            "    └── F1@0.50 = 0.1222\n",
            "        ├── Epoch N-1      = 0.1198 (\u001b[32m↗ 0.0024\u001b[0m)\n",
            "        └── Best until now = 0.2738 (\u001b[31m↘ -0.1516\u001b[0m)\n",
            "\n",
            "===========================================================\n"
          ]
        },
        {
          "metadata": {
            "tags": null
          },
          "name": "stderr",
          "output_type": "stream",
          "text": [
            "Train epoch 99: 100%|██████████| 26/26 [00:17<00:00,  1.47it/s, PPYoloELoss/loss=1.83, PPYoloELoss/loss_cls=0.828, PPYoloELoss/loss_dfl=0.56, PPYoloELoss/loss_iou=0.441, gpu_mem=6.83]\n",
            "Validating epoch 99: 100%|██████████| 8/8 [00:03<00:00,  2.49it/s]\n"
          ]
        },
        {
          "metadata": {
            "tags": null
          },
          "name": "stdout",
          "output_type": "stream",
          "text": [
            "===========================================================\n",
            "SUMMARY OF EPOCH 99\n",
            "├── Train\n",
            "│   ├── Ppyoloeloss/loss_cls = 0.828\n",
            "│   │   ├── Epoch N-1      = 0.8326 (\u001b[32m↘ -0.0046\u001b[0m)\n",
            "│   │   └── Best until now = 0.8025 (\u001b[31m↗ 0.0255\u001b[0m)\n",
            "│   ├── Ppyoloeloss/loss_iou = 0.4409\n",
            "│   │   ├── Epoch N-1      = 0.4327 (\u001b[31m↗ 0.0082\u001b[0m)\n",
            "│   │   └── Best until now = 0.4205 (\u001b[31m↗ 0.0204\u001b[0m)\n",
            "│   ├── Ppyoloeloss/loss_dfl = 0.5598\n",
            "│   │   ├── Epoch N-1      = 0.5436 (\u001b[31m↗ 0.0162\u001b[0m)\n",
            "│   │   └── Best until now = 0.5353 (\u001b[31m↗ 0.0245\u001b[0m)\n",
            "│   └── Ppyoloeloss/loss = 1.8288\n",
            "│       ├── Epoch N-1      = 1.8089 (\u001b[31m↗ 0.0199\u001b[0m)\n",
            "│       └── Best until now = 1.7595 (\u001b[31m↗ 0.0692\u001b[0m)\n",
            "└── Validation\n",
            "    ├── Ppyoloeloss/loss_cls = 0.8204\n",
            "    │   ├── Epoch N-1      = 0.7143 (\u001b[31m↗ 0.1061\u001b[0m)\n",
            "    │   └── Best until now = 0.7099 (\u001b[31m↗ 0.1106\u001b[0m)\n",
            "    ├── Ppyoloeloss/loss_iou = 0.4003\n",
            "    │   ├── Epoch N-1      = 0.3968 (\u001b[31m↗ 0.0034\u001b[0m)\n",
            "    │   └── Best until now = 0.3866 (\u001b[31m↗ 0.0136\u001b[0m)\n",
            "    ├── Ppyoloeloss/loss_dfl = 0.5546\n",
            "    │   ├── Epoch N-1      = 0.5521 (\u001b[31m↗ 0.0024\u001b[0m)\n",
            "    │   └── Best until now = 0.5413 (\u001b[31m↗ 0.0132\u001b[0m)\n",
            "    ├── Ppyoloeloss/loss = 1.7753\n",
            "    │   ├── Epoch N-1      = 1.6633 (\u001b[31m↗ 0.112\u001b[0m)\n",
            "    │   └── Best until now = 1.6541 (\u001b[31m↗ 0.1211\u001b[0m)\n",
            "    ├── Precision@0.50 = 0.0495\n",
            "    │   ├── Epoch N-1      = 0.0652 (\u001b[31m↘ -0.0158\u001b[0m)\n",
            "    │   └── Best until now = 0.1599 (\u001b[31m↘ -0.1104\u001b[0m)\n",
            "    ├── Recall@0.50 = 0.9677\n",
            "    │   ├── Epoch N-1      = 0.9677 (\u001b[37m= 0.0\u001b[0m)\n",
            "    │   └── Best until now = 0.9839 (\u001b[31m↘ -0.0161\u001b[0m)\n",
            "    ├── Map@0.50 = 0.8838\n",
            "    │   ├── Epoch N-1      = 0.943  (\u001b[31m↘ -0.0592\u001b[0m)\n",
            "    │   └── Best until now = 0.9491 (\u001b[31m↘ -0.0653\u001b[0m)\n",
            "    └── F1@0.50 = 0.0941\n",
            "        ├── Epoch N-1      = 0.1222 (\u001b[31m↘ -0.0281\u001b[0m)\n",
            "        └── Best until now = 0.2738 (\u001b[31m↘ -0.1797\u001b[0m)\n",
            "\n",
            "===========================================================\n"
          ]
        },
        {
          "metadata": {
            "tags": null
          },
          "name": "stderr",
          "output_type": "stream",
          "text": [
            "Train epoch 100: 100%|██████████| 26/26 [00:17<00:00,  1.51it/s, PPYoloELoss/loss=1.83, PPYoloELoss/loss_cls=0.841, PPYoloELoss/loss_dfl=0.562, PPYoloELoss/loss_iou=0.43, gpu_mem=6.84]\n",
            "Validating epoch 100: 100%|██████████| 8/8 [00:03<00:00,  2.64it/s]\n"
          ]
        },
        {
          "metadata": {
            "tags": null
          },
          "name": "stdout",
          "output_type": "stream",
          "text": [
            "===========================================================\n",
            "SUMMARY OF EPOCH 100\n",
            "├── Train\n",
            "│   ├── Ppyoloeloss/loss_cls = 0.8415\n",
            "│   │   ├── Epoch N-1      = 0.828  (\u001b[31m↗ 0.0135\u001b[0m)\n",
            "│   │   └── Best until now = 0.8025 (\u001b[31m↗ 0.039\u001b[0m)\n",
            "│   ├── Ppyoloeloss/loss_iou = 0.4296\n",
            "│   │   ├── Epoch N-1      = 0.4409 (\u001b[32m↘ -0.0114\u001b[0m)\n",
            "│   │   └── Best until now = 0.4205 (\u001b[31m↗ 0.009\u001b[0m)\n",
            "│   ├── Ppyoloeloss/loss_dfl = 0.5619\n",
            "│   │   ├── Epoch N-1      = 0.5598 (\u001b[31m↗ 0.0021\u001b[0m)\n",
            "│   │   └── Best until now = 0.5353 (\u001b[31m↗ 0.0266\u001b[0m)\n",
            "│   └── Ppyoloeloss/loss = 1.833\n",
            "│       ├── Epoch N-1      = 1.8288 (\u001b[31m↗ 0.0042\u001b[0m)\n",
            "│       └── Best until now = 1.7595 (\u001b[31m↗ 0.0735\u001b[0m)\n",
            "└── Validation\n",
            "    ├── Ppyoloeloss/loss_cls = 0.8666\n",
            "    │   ├── Epoch N-1      = 0.8204 (\u001b[31m↗ 0.0461\u001b[0m)\n",
            "    │   └── Best until now = 0.7099 (\u001b[31m↗ 0.1567\u001b[0m)\n",
            "    ├── Ppyoloeloss/loss_iou = 0.4042\n",
            "    │   ├── Epoch N-1      = 0.4003 (\u001b[31m↗ 0.004\u001b[0m)\n",
            "    │   └── Best until now = 0.3866 (\u001b[31m↗ 0.0176\u001b[0m)\n",
            "    ├── Ppyoloeloss/loss_dfl = 0.5641\n",
            "    │   ├── Epoch N-1      = 0.5546 (\u001b[31m↗ 0.0096\u001b[0m)\n",
            "    │   └── Best until now = 0.5413 (\u001b[31m↗ 0.0228\u001b[0m)\n",
            "    ├── Ppyoloeloss/loss = 1.8349\n",
            "    │   ├── Epoch N-1      = 1.7753 (\u001b[31m↗ 0.0597\u001b[0m)\n",
            "    │   └── Best until now = 1.6541 (\u001b[31m↗ 0.1808\u001b[0m)\n",
            "    ├── Precision@0.50 = 0.0312\n",
            "    │   ├── Epoch N-1      = 0.0495 (\u001b[31m↘ -0.0183\u001b[0m)\n",
            "    │   └── Best until now = 0.1599 (\u001b[31m↘ -0.1287\u001b[0m)\n",
            "    ├── Recall@0.50 = 0.9677\n",
            "    │   ├── Epoch N-1      = 0.9677 (\u001b[37m= 0.0\u001b[0m)\n",
            "    │   └── Best until now = 0.9839 (\u001b[31m↘ -0.0161\u001b[0m)\n",
            "    ├── Map@0.50 = 0.8669\n",
            "    │   ├── Epoch N-1      = 0.8838 (\u001b[31m↘ -0.0169\u001b[0m)\n",
            "    │   └── Best until now = 0.9491 (\u001b[31m↘ -0.0822\u001b[0m)\n",
            "    └── F1@0.50 = 0.0604\n",
            "        ├── Epoch N-1      = 0.0941 (\u001b[31m↘ -0.0338\u001b[0m)\n",
            "        └── Best until now = 0.2738 (\u001b[31m↘ -0.2134\u001b[0m)\n",
            "\n",
            "===========================================================\n"
          ]
        },
        {
          "metadata": {
            "tags": null
          },
          "name": "stderr",
          "output_type": "stream",
          "text": [
            "Train epoch 101: 100%|██████████| 26/26 [00:17<00:00,  1.49it/s, PPYoloELoss/loss=1.81, PPYoloELoss/loss_cls=0.841, PPYoloELoss/loss_dfl=0.548, PPYoloELoss/loss_iou=0.418, gpu_mem=6.82]\n",
            "Validating epoch 101: 100%|██████████| 8/8 [00:02<00:00,  2.67it/s]\n"
          ]
        },
        {
          "metadata": {
            "tags": null
          },
          "name": "stdout",
          "output_type": "stream",
          "text": [
            "===========================================================\n",
            "SUMMARY OF EPOCH 101\n",
            "├── Train\n",
            "│   ├── Ppyoloeloss/loss_cls = 0.8415\n",
            "│   │   ├── Epoch N-1      = 0.8415 (\u001b[32m↘ -0.0\u001b[0m)\n",
            "│   │   └── Best until now = 0.8025 (\u001b[31m↗ 0.0389\u001b[0m)\n",
            "│   ├── Ppyoloeloss/loss_iou = 0.4178\n",
            "│   │   ├── Epoch N-1      = 0.4296 (\u001b[32m↘ -0.0117\u001b[0m)\n",
            "│   │   └── Best until now = 0.4205 (\u001b[32m↘ -0.0027\u001b[0m)\n",
            "│   ├── Ppyoloeloss/loss_dfl = 0.5477\n",
            "│   │   ├── Epoch N-1      = 0.5619 (\u001b[32m↘ -0.0142\u001b[0m)\n",
            "│   │   └── Best until now = 0.5353 (\u001b[31m↗ 0.0124\u001b[0m)\n",
            "│   └── Ppyoloeloss/loss = 1.807\n",
            "│       ├── Epoch N-1      = 1.833  (\u001b[32m↘ -0.026\u001b[0m)\n",
            "│       └── Best until now = 1.7595 (\u001b[31m↗ 0.0475\u001b[0m)\n",
            "└── Validation\n",
            "    ├── Ppyoloeloss/loss_cls = 0.7626\n",
            "    │   ├── Epoch N-1      = 0.8666 (\u001b[32m↘ -0.1039\u001b[0m)\n",
            "    │   └── Best until now = 0.7099 (\u001b[31m↗ 0.0528\u001b[0m)\n",
            "    ├── Ppyoloeloss/loss_iou = 0.3708\n",
            "    │   ├── Epoch N-1      = 0.4042 (\u001b[32m↘ -0.0335\u001b[0m)\n",
            "    │   └── Best until now = 0.3866 (\u001b[32m↘ -0.0159\u001b[0m)\n",
            "    ├── Ppyoloeloss/loss_dfl = 0.5269\n",
            "    │   ├── Epoch N-1      = 0.5641 (\u001b[32m↘ -0.0372\u001b[0m)\n",
            "    │   └── Best until now = 0.5413 (\u001b[32m↘ -0.0144\u001b[0m)\n",
            "    ├── Ppyoloeloss/loss = 1.6603\n",
            "    │   ├── Epoch N-1      = 1.8349 (\u001b[32m↘ -0.1746\u001b[0m)\n",
            "    │   └── Best until now = 1.6541 (\u001b[31m↗ 0.0061\u001b[0m)\n",
            "    ├── Precision@0.50 = 0.0482\n",
            "    │   ├── Epoch N-1      = 0.0312 (\u001b[32m↗ 0.017\u001b[0m)\n",
            "    │   └── Best until now = 0.1599 (\u001b[31m↘ -0.1117\u001b[0m)\n",
            "    ├── Recall@0.50 = 0.9677\n",
            "    │   ├── Epoch N-1      = 0.9677 (\u001b[37m= 0.0\u001b[0m)\n",
            "    │   └── Best until now = 0.9839 (\u001b[31m↘ -0.0161\u001b[0m)\n",
            "    ├── Map@0.50 = 0.9214\n",
            "    │   ├── Epoch N-1      = 0.8669 (\u001b[32m↗ 0.0544\u001b[0m)\n",
            "    │   └── Best until now = 0.9491 (\u001b[31m↘ -0.0278\u001b[0m)\n",
            "    └── F1@0.50 = 0.0918\n",
            "        ├── Epoch N-1      = 0.0604 (\u001b[32m↗ 0.0315\u001b[0m)\n",
            "        └── Best until now = 0.2738 (\u001b[31m↘ -0.182\u001b[0m)\n",
            "\n",
            "===========================================================\n"
          ]
        },
        {
          "metadata": {
            "tags": null
          },
          "name": "stderr",
          "output_type": "stream",
          "text": [
            "Train epoch 102: 100%|██████████| 26/26 [00:19<00:00,  1.33it/s, PPYoloELoss/loss=1.82, PPYoloELoss/loss_cls=0.815, PPYoloELoss/loss_dfl=0.559, PPYoloELoss/loss_iou=0.441, gpu_mem=6.98]\n",
            "Validating epoch 102: 100%|██████████| 8/8 [00:03<00:00,  2.64it/s]\n"
          ]
        },
        {
          "metadata": {
            "tags": null
          },
          "name": "stdout",
          "output_type": "stream",
          "text": [
            "===========================================================\n",
            "SUMMARY OF EPOCH 102\n",
            "├── Train\n",
            "│   ├── Ppyoloeloss/loss_cls = 0.8148\n",
            "│   │   ├── Epoch N-1      = 0.8415 (\u001b[32m↘ -0.0266\u001b[0m)\n",
            "│   │   └── Best until now = 0.8025 (\u001b[31m↗ 0.0123\u001b[0m)\n",
            "│   ├── Ppyoloeloss/loss_iou = 0.4412\n",
            "│   │   ├── Epoch N-1      = 0.4178 (\u001b[31m↗ 0.0234\u001b[0m)\n",
            "│   │   └── Best until now = 0.4178 (\u001b[31m↗ 0.0234\u001b[0m)\n",
            "│   ├── Ppyoloeloss/loss_dfl = 0.559\n",
            "│   │   ├── Epoch N-1      = 0.5477 (\u001b[31m↗ 0.0112\u001b[0m)\n",
            "│   │   └── Best until now = 0.5353 (\u001b[31m↗ 0.0237\u001b[0m)\n",
            "│   └── Ppyoloeloss/loss = 1.815\n",
            "│       ├── Epoch N-1      = 1.807  (\u001b[31m↗ 0.008\u001b[0m)\n",
            "│       └── Best until now = 1.7595 (\u001b[31m↗ 0.0555\u001b[0m)\n",
            "└── Validation\n",
            "    ├── Ppyoloeloss/loss_cls = 0.7405\n",
            "    │   ├── Epoch N-1      = 0.7626 (\u001b[32m↘ -0.0221\u001b[0m)\n",
            "    │   └── Best until now = 0.7099 (\u001b[31m↗ 0.0306\u001b[0m)\n",
            "    ├── Ppyoloeloss/loss_iou = 0.4074\n",
            "    │   ├── Epoch N-1      = 0.3708 (\u001b[31m↗ 0.0366\u001b[0m)\n",
            "    │   └── Best until now = 0.3708 (\u001b[31m↗ 0.0366\u001b[0m)\n",
            "    ├── Ppyoloeloss/loss_dfl = 0.5556\n",
            "    │   ├── Epoch N-1      = 0.5269 (\u001b[31m↗ 0.0287\u001b[0m)\n",
            "    │   └── Best until now = 0.5269 (\u001b[31m↗ 0.0287\u001b[0m)\n",
            "    ├── Ppyoloeloss/loss = 1.7035\n",
            "    │   ├── Epoch N-1      = 1.6603 (\u001b[31m↗ 0.0432\u001b[0m)\n",
            "    │   └── Best until now = 1.6541 (\u001b[31m↗ 0.0494\u001b[0m)\n",
            "    ├── Precision@0.50 = 0.0469\n",
            "    │   ├── Epoch N-1      = 0.0482 (\u001b[31m↘ -0.0012\u001b[0m)\n",
            "    │   └── Best until now = 0.1599 (\u001b[31m↘ -0.1129\u001b[0m)\n",
            "    ├── Recall@0.50 = 0.9677\n",
            "    │   ├── Epoch N-1      = 0.9677 (\u001b[37m= 0.0\u001b[0m)\n",
            "    │   └── Best until now = 0.9839 (\u001b[31m↘ -0.0161\u001b[0m)\n",
            "    ├── Map@0.50 = 0.9402\n",
            "    │   ├── Epoch N-1      = 0.9214 (\u001b[32m↗ 0.0189\u001b[0m)\n",
            "    │   └── Best until now = 0.9491 (\u001b[31m↘ -0.0089\u001b[0m)\n",
            "    └── F1@0.50 = 0.0896\n",
            "        ├── Epoch N-1      = 0.0918 (\u001b[31m↘ -0.0023\u001b[0m)\n",
            "        └── Best until now = 0.2738 (\u001b[31m↘ -0.1842\u001b[0m)\n",
            "\n",
            "===========================================================\n"
          ]
        },
        {
          "metadata": {
            "tags": null
          },
          "name": "stderr",
          "output_type": "stream",
          "text": [
            "Train epoch 103: 100%|██████████| 26/26 [00:17<00:00,  1.46it/s, PPYoloELoss/loss=1.77, PPYoloELoss/loss_cls=0.827, PPYoloELoss/loss_dfl=0.529, PPYoloELoss/loss_iou=0.418, gpu_mem=6.83]\n",
            "Validating epoch 103: 100%|██████████| 8/8 [00:03<00:00,  2.55it/s]\n"
          ]
        },
        {
          "metadata": {
            "tags": null
          },
          "name": "stdout",
          "output_type": "stream",
          "text": [
            "===========================================================\n",
            "SUMMARY OF EPOCH 103\n",
            "├── Train\n",
            "│   ├── Ppyoloeloss/loss_cls = 0.8274\n",
            "│   │   ├── Epoch N-1      = 0.8148 (\u001b[31m↗ 0.0126\u001b[0m)\n",
            "│   │   └── Best until now = 0.8025 (\u001b[31m↗ 0.0249\u001b[0m)\n",
            "│   ├── Ppyoloeloss/loss_iou = 0.4176\n",
            "│   │   ├── Epoch N-1      = 0.4412 (\u001b[32m↘ -0.0236\u001b[0m)\n",
            "│   │   └── Best until now = 0.4178 (\u001b[32m↘ -0.0003\u001b[0m)\n",
            "│   ├── Ppyoloeloss/loss_dfl = 0.5294\n",
            "│   │   ├── Epoch N-1      = 0.559  (\u001b[32m↘ -0.0296\u001b[0m)\n",
            "│   │   └── Best until now = 0.5353 (\u001b[32m↘ -0.006\u001b[0m)\n",
            "│   └── Ppyoloeloss/loss = 1.7744\n",
            "│       ├── Epoch N-1      = 1.815  (\u001b[32m↘ -0.0406\u001b[0m)\n",
            "│       └── Best until now = 1.7595 (\u001b[31m↗ 0.0148\u001b[0m)\n",
            "└── Validation\n",
            "    ├── Ppyoloeloss/loss_cls = 0.7914\n",
            "    │   ├── Epoch N-1      = 0.7405 (\u001b[31m↗ 0.0509\u001b[0m)\n",
            "    │   └── Best until now = 0.7099 (\u001b[31m↗ 0.0815\u001b[0m)\n",
            "    ├── Ppyoloeloss/loss_iou = 0.3931\n",
            "    │   ├── Epoch N-1      = 0.4074 (\u001b[32m↘ -0.0143\u001b[0m)\n",
            "    │   └── Best until now = 0.3708 (\u001b[31m↗ 0.0224\u001b[0m)\n",
            "    ├── Ppyoloeloss/loss_dfl = 0.546\n",
            "    │   ├── Epoch N-1      = 0.5556 (\u001b[32m↘ -0.0096\u001b[0m)\n",
            "    │   └── Best until now = 0.5269 (\u001b[31m↗ 0.0191\u001b[0m)\n",
            "    ├── Ppyoloeloss/loss = 1.7305\n",
            "    │   ├── Epoch N-1      = 1.7035 (\u001b[31m↗ 0.027\u001b[0m)\n",
            "    │   └── Best until now = 1.6541 (\u001b[31m↗ 0.0764\u001b[0m)\n",
            "    ├── Precision@0.50 = 0.041\n",
            "    │   ├── Epoch N-1      = 0.0469 (\u001b[31m↘ -0.0059\u001b[0m)\n",
            "    │   └── Best until now = 0.1599 (\u001b[31m↘ -0.1189\u001b[0m)\n",
            "    ├── Recall@0.50 = 0.9677\n",
            "    │   ├── Epoch N-1      = 0.9677 (\u001b[37m= 0.0\u001b[0m)\n",
            "    │   └── Best until now = 0.9839 (\u001b[31m↘ -0.0161\u001b[0m)\n",
            "    ├── Map@0.50 = 0.9173\n",
            "    │   ├── Epoch N-1      = 0.9402 (\u001b[31m↘ -0.0229\u001b[0m)\n",
            "    │   └── Best until now = 0.9491 (\u001b[31m↘ -0.0318\u001b[0m)\n",
            "    └── F1@0.50 = 0.0787\n",
            "        ├── Epoch N-1      = 0.0896 (\u001b[31m↘ -0.0109\u001b[0m)\n",
            "        └── Best until now = 0.2738 (\u001b[31m↘ -0.1951\u001b[0m)\n",
            "\n",
            "===========================================================\n"
          ]
        },
        {
          "metadata": {
            "tags": null
          },
          "name": "stderr",
          "output_type": "stream",
          "text": [
            "Train epoch 104: 100%|██████████| 26/26 [00:18<00:00,  1.40it/s, PPYoloELoss/loss=1.8, PPYoloELoss/loss_cls=0.809, PPYoloELoss/loss_dfl=0.556, PPYoloELoss/loss_iou=0.437, gpu_mem=6.83]\n",
            "Validating epoch 104: 100%|██████████| 8/8 [00:03<00:00,  2.63it/s]\n"
          ]
        },
        {
          "metadata": {
            "tags": null
          },
          "name": "stdout",
          "output_type": "stream",
          "text": [
            "===========================================================\n",
            "SUMMARY OF EPOCH 104\n",
            "├── Train\n",
            "│   ├── Ppyoloeloss/loss_cls = 0.8085\n",
            "│   │   ├── Epoch N-1      = 0.8274 (\u001b[32m↘ -0.0189\u001b[0m)\n",
            "│   │   └── Best until now = 0.8025 (\u001b[31m↗ 0.006\u001b[0m)\n",
            "│   ├── Ppyoloeloss/loss_iou = 0.4372\n",
            "│   │   ├── Epoch N-1      = 0.4176 (\u001b[31m↗ 0.0196\u001b[0m)\n",
            "│   │   └── Best until now = 0.4176 (\u001b[31m↗ 0.0196\u001b[0m)\n",
            "│   ├── Ppyoloeloss/loss_dfl = 0.5563\n",
            "│   │   ├── Epoch N-1      = 0.5294 (\u001b[31m↗ 0.0269\u001b[0m)\n",
            "│   │   └── Best until now = 0.5294 (\u001b[31m↗ 0.0269\u001b[0m)\n",
            "│   └── Ppyoloeloss/loss = 1.802\n",
            "│       ├── Epoch N-1      = 1.7744 (\u001b[31m↗ 0.0276\u001b[0m)\n",
            "│       └── Best until now = 1.7595 (\u001b[31m↗ 0.0425\u001b[0m)\n",
            "└── Validation\n",
            "    ├── Ppyoloeloss/loss_cls = 0.7919\n",
            "    │   ├── Epoch N-1      = 0.7914 (\u001b[31m↗ 0.0005\u001b[0m)\n",
            "    │   └── Best until now = 0.7099 (\u001b[31m↗ 0.082\u001b[0m)\n",
            "    ├── Ppyoloeloss/loss_iou = 0.4279\n",
            "    │   ├── Epoch N-1      = 0.3931 (\u001b[31m↗ 0.0348\u001b[0m)\n",
            "    │   └── Best until now = 0.3708 (\u001b[31m↗ 0.0572\u001b[0m)\n",
            "    ├── Ppyoloeloss/loss_dfl = 0.5736\n",
            "    │   ├── Epoch N-1      = 0.546  (\u001b[31m↗ 0.0276\u001b[0m)\n",
            "    │   └── Best until now = 0.5269 (\u001b[31m↗ 0.0467\u001b[0m)\n",
            "    ├── Ppyoloeloss/loss = 1.7934\n",
            "    │   ├── Epoch N-1      = 1.7305 (\u001b[31m↗ 0.0629\u001b[0m)\n",
            "    │   └── Best until now = 1.6541 (\u001b[31m↗ 0.1393\u001b[0m)\n",
            "    ├── Precision@0.50 = 0.043\n",
            "    │   ├── Epoch N-1      = 0.041  (\u001b[32m↗ 0.002\u001b[0m)\n",
            "    │   └── Best until now = 0.1599 (\u001b[31m↘ -0.1169\u001b[0m)\n",
            "    ├── Recall@0.50 = 0.9677\n",
            "    │   ├── Epoch N-1      = 0.9677 (\u001b[37m= 0.0\u001b[0m)\n",
            "    │   └── Best until now = 0.9839 (\u001b[31m↘ -0.0161\u001b[0m)\n",
            "    ├── Map@0.50 = 0.8914\n",
            "    │   ├── Epoch N-1      = 0.9173 (\u001b[31m↘ -0.0258\u001b[0m)\n",
            "    │   └── Best until now = 0.9491 (\u001b[31m↘ -0.0577\u001b[0m)\n",
            "    └── F1@0.50 = 0.0824\n",
            "        ├── Epoch N-1      = 0.0787 (\u001b[32m↗ 0.0037\u001b[0m)\n",
            "        └── Best until now = 0.2738 (\u001b[31m↘ -0.1914\u001b[0m)\n",
            "\n",
            "===========================================================\n"
          ]
        },
        {
          "metadata": {
            "tags": null
          },
          "name": "stderr",
          "output_type": "stream",
          "text": [
            "Train epoch 105: 100%|██████████| 26/26 [00:17<00:00,  1.50it/s, PPYoloELoss/loss=1.81, PPYoloELoss/loss_cls=0.833, PPYoloELoss/loss_dfl=0.544, PPYoloELoss/loss_iou=0.433, gpu_mem=6.83]\n",
            "Validating epoch 105: 100%|██████████| 8/8 [00:02<00:00,  2.69it/s]\n"
          ]
        },
        {
          "metadata": {
            "tags": null
          },
          "name": "stdout",
          "output_type": "stream",
          "text": [
            "===========================================================\n",
            "SUMMARY OF EPOCH 105\n",
            "├── Train\n",
            "│   ├── Ppyoloeloss/loss_cls = 0.8332\n",
            "│   │   ├── Epoch N-1      = 0.8085 (\u001b[31m↗ 0.0246\u001b[0m)\n",
            "│   │   └── Best until now = 0.8025 (\u001b[31m↗ 0.0306\u001b[0m)\n",
            "│   ├── Ppyoloeloss/loss_iou = 0.4335\n",
            "│   │   ├── Epoch N-1      = 0.4372 (\u001b[32m↘ -0.0037\u001b[0m)\n",
            "│   │   └── Best until now = 0.4176 (\u001b[31m↗ 0.0159\u001b[0m)\n",
            "│   ├── Ppyoloeloss/loss_dfl = 0.5436\n",
            "│   │   ├── Epoch N-1      = 0.5563 (\u001b[32m↘ -0.0127\u001b[0m)\n",
            "│   │   └── Best until now = 0.5294 (\u001b[31m↗ 0.0142\u001b[0m)\n",
            "│   └── Ppyoloeloss/loss = 1.8102\n",
            "│       ├── Epoch N-1      = 1.802  (\u001b[31m↗ 0.0082\u001b[0m)\n",
            "│       └── Best until now = 1.7595 (\u001b[31m↗ 0.0507\u001b[0m)\n",
            "└── Validation\n",
            "    ├── Ppyoloeloss/loss_cls = 0.82\n",
            "    │   ├── Epoch N-1      = 0.7919 (\u001b[31m↗ 0.0281\u001b[0m)\n",
            "    │   └── Best until now = 0.7099 (\u001b[31m↗ 0.1101\u001b[0m)\n",
            "    ├── Ppyoloeloss/loss_iou = 0.4263\n",
            "    │   ├── Epoch N-1      = 0.4279 (\u001b[32m↘ -0.0016\u001b[0m)\n",
            "    │   └── Best until now = 0.3708 (\u001b[31m↗ 0.0556\u001b[0m)\n",
            "    ├── Ppyoloeloss/loss_dfl = 0.5867\n",
            "    │   ├── Epoch N-1      = 0.5736 (\u001b[31m↗ 0.0131\u001b[0m)\n",
            "    │   └── Best until now = 0.5269 (\u001b[31m↗ 0.0598\u001b[0m)\n",
            "    ├── Ppyoloeloss/loss = 1.833\n",
            "    │   ├── Epoch N-1      = 1.7934 (\u001b[31m↗ 0.0396\u001b[0m)\n",
            "    │   └── Best until now = 1.6541 (\u001b[31m↗ 0.1788\u001b[0m)\n",
            "    ├── Precision@0.50 = 0.0424\n",
            "    │   ├── Epoch N-1      = 0.043  (\u001b[31m↘ -0.0006\u001b[0m)\n",
            "    │   └── Best until now = 0.1599 (\u001b[31m↘ -0.1175\u001b[0m)\n",
            "    ├── Recall@0.50 = 0.9677\n",
            "    │   ├── Epoch N-1      = 0.9677 (\u001b[37m= 0.0\u001b[0m)\n",
            "    │   └── Best until now = 0.9839 (\u001b[31m↘ -0.0161\u001b[0m)\n",
            "    ├── Map@0.50 = 0.8918\n",
            "    │   ├── Epoch N-1      = 0.8914 (\u001b[32m↗ 0.0003\u001b[0m)\n",
            "    │   └── Best until now = 0.9491 (\u001b[31m↘ -0.0573\u001b[0m)\n",
            "    └── F1@0.50 = 0.0813\n",
            "        ├── Epoch N-1      = 0.0824 (\u001b[31m↘ -0.0011\u001b[0m)\n",
            "        └── Best until now = 0.2738 (\u001b[31m↘ -0.1925\u001b[0m)\n",
            "\n",
            "===========================================================\n"
          ]
        },
        {
          "metadata": {
            "tags": null
          },
          "name": "stderr",
          "output_type": "stream",
          "text": [
            "Train epoch 106: 100%|██████████| 26/26 [00:17<00:00,  1.53it/s, PPYoloELoss/loss=1.81, PPYoloELoss/loss_cls=0.827, PPYoloELoss/loss_dfl=0.55, PPYoloELoss/loss_iou=0.435, gpu_mem=6.84]\n",
            "Validating epoch 106: 100%|██████████| 8/8 [00:02<00:00,  2.68it/s]\n"
          ]
        },
        {
          "metadata": {
            "tags": null
          },
          "name": "stdout",
          "output_type": "stream",
          "text": [
            "===========================================================\n",
            "SUMMARY OF EPOCH 106\n",
            "├── Train\n",
            "│   ├── Ppyoloeloss/loss_cls = 0.8275\n",
            "│   │   ├── Epoch N-1      = 0.8332 (\u001b[32m↘ -0.0057\u001b[0m)\n",
            "│   │   └── Best until now = 0.8025 (\u001b[31m↗ 0.0249\u001b[0m)\n",
            "│   ├── Ppyoloeloss/loss_iou = 0.435\n",
            "│   │   ├── Epoch N-1      = 0.4335 (\u001b[31m↗ 0.0016\u001b[0m)\n",
            "│   │   └── Best until now = 0.4176 (\u001b[31m↗ 0.0175\u001b[0m)\n",
            "│   ├── Ppyoloeloss/loss_dfl = 0.5502\n",
            "│   │   ├── Epoch N-1      = 0.5436 (\u001b[31m↗ 0.0066\u001b[0m)\n",
            "│   │   └── Best until now = 0.5294 (\u001b[31m↗ 0.0208\u001b[0m)\n",
            "│   └── Ppyoloeloss/loss = 1.8127\n",
            "│       ├── Epoch N-1      = 1.8102 (\u001b[31m↗ 0.0025\u001b[0m)\n",
            "│       └── Best until now = 1.7595 (\u001b[31m↗ 0.0531\u001b[0m)\n",
            "└── Validation\n",
            "    ├── Ppyoloeloss/loss_cls = 0.7727\n",
            "    │   ├── Epoch N-1      = 0.82   (\u001b[32m↘ -0.0472\u001b[0m)\n",
            "    │   └── Best until now = 0.7099 (\u001b[31m↗ 0.0629\u001b[0m)\n",
            "    ├── Ppyoloeloss/loss_iou = 0.4225\n",
            "    │   ├── Epoch N-1      = 0.4263 (\u001b[32m↘ -0.0039\u001b[0m)\n",
            "    │   └── Best until now = 0.3708 (\u001b[31m↗ 0.0517\u001b[0m)\n",
            "    ├── Ppyoloeloss/loss_dfl = 0.5795\n",
            "    │   ├── Epoch N-1      = 0.5867 (\u001b[32m↘ -0.0072\u001b[0m)\n",
            "    │   └── Best until now = 0.5269 (\u001b[31m↗ 0.0526\u001b[0m)\n",
            "    ├── Ppyoloeloss/loss = 1.7747\n",
            "    │   ├── Epoch N-1      = 1.833  (\u001b[32m↘ -0.0582\u001b[0m)\n",
            "    │   └── Best until now = 1.6541 (\u001b[31m↗ 0.1206\u001b[0m)\n",
            "    ├── Precision@0.50 = 0.1119\n",
            "    │   ├── Epoch N-1      = 0.0424 (\u001b[32m↗ 0.0695\u001b[0m)\n",
            "    │   └── Best until now = 0.1599 (\u001b[31m↘ -0.048\u001b[0m)\n",
            "    ├── Recall@0.50 = 0.9677\n",
            "    │   ├── Epoch N-1      = 0.9677 (\u001b[37m= 0.0\u001b[0m)\n",
            "    │   └── Best until now = 0.9839 (\u001b[31m↘ -0.0161\u001b[0m)\n",
            "    ├── Map@0.50 = 0.912\n",
            "    │   ├── Epoch N-1      = 0.8918 (\u001b[32m↗ 0.0203\u001b[0m)\n",
            "    │   └── Best until now = 0.9491 (\u001b[31m↘ -0.0371\u001b[0m)\n",
            "    └── F1@0.50 = 0.2007\n",
            "        ├── Epoch N-1      = 0.0813 (\u001b[32m↗ 0.1194\u001b[0m)\n",
            "        └── Best until now = 0.2738 (\u001b[31m↘ -0.0731\u001b[0m)\n",
            "\n",
            "===========================================================\n"
          ]
        },
        {
          "metadata": {
            "tags": null
          },
          "name": "stderr",
          "output_type": "stream",
          "text": [
            "Train epoch 107: 100%|██████████| 26/26 [00:17<00:00,  1.51it/s, PPYoloELoss/loss=1.83, PPYoloELoss/loss_cls=0.836, PPYoloELoss/loss_dfl=0.553, PPYoloELoss/loss_iou=0.441, gpu_mem=6.84]\n",
            "Validating epoch 107: 100%|██████████| 8/8 [00:03<00:00,  2.59it/s]\n"
          ]
        },
        {
          "metadata": {
            "tags": null
          },
          "name": "stdout",
          "output_type": "stream",
          "text": [
            "===========================================================\n",
            "SUMMARY OF EPOCH 107\n",
            "├── Train\n",
            "│   ├── Ppyoloeloss/loss_cls = 0.8356\n",
            "│   │   ├── Epoch N-1      = 0.8275 (\u001b[31m↗ 0.0081\u001b[0m)\n",
            "│   │   └── Best until now = 0.8025 (\u001b[31m↗ 0.033\u001b[0m)\n",
            "│   ├── Ppyoloeloss/loss_iou = 0.4412\n",
            "│   │   ├── Epoch N-1      = 0.435  (\u001b[31m↗ 0.0062\u001b[0m)\n",
            "│   │   └── Best until now = 0.4176 (\u001b[31m↗ 0.0236\u001b[0m)\n",
            "│   ├── Ppyoloeloss/loss_dfl = 0.5532\n",
            "│   │   ├── Epoch N-1      = 0.5502 (\u001b[31m↗ 0.003\u001b[0m)\n",
            "│   │   └── Best until now = 0.5294 (\u001b[31m↗ 0.0238\u001b[0m)\n",
            "│   └── Ppyoloeloss/loss = 1.83\n",
            "│       ├── Epoch N-1      = 1.8127 (\u001b[31m↗ 0.0173\u001b[0m)\n",
            "│       └── Best until now = 1.7595 (\u001b[31m↗ 0.0705\u001b[0m)\n",
            "└── Validation\n",
            "    ├── Ppyoloeloss/loss_cls = 0.7901\n",
            "    │   ├── Epoch N-1      = 0.7727 (\u001b[31m↗ 0.0174\u001b[0m)\n",
            "    │   └── Best until now = 0.7099 (\u001b[31m↗ 0.0803\u001b[0m)\n",
            "    ├── Ppyoloeloss/loss_iou = 0.4351\n",
            "    │   ├── Epoch N-1      = 0.4225 (\u001b[31m↗ 0.0126\u001b[0m)\n",
            "    │   └── Best until now = 0.3708 (\u001b[31m↗ 0.0643\u001b[0m)\n",
            "    ├── Ppyoloeloss/loss_dfl = 0.6065\n",
            "    │   ├── Epoch N-1      = 0.5795 (\u001b[31m↗ 0.0269\u001b[0m)\n",
            "    │   └── Best until now = 0.5269 (\u001b[31m↗ 0.0796\u001b[0m)\n",
            "    ├── Ppyoloeloss/loss = 1.8317\n",
            "    │   ├── Epoch N-1      = 1.7747 (\u001b[31m↗ 0.057\u001b[0m)\n",
            "    │   └── Best until now = 1.6541 (\u001b[31m↗ 0.1776\u001b[0m)\n",
            "    ├── Precision@0.50 = 0.0636\n",
            "    │   ├── Epoch N-1      = 0.1119 (\u001b[31m↘ -0.0483\u001b[0m)\n",
            "    │   └── Best until now = 0.1599 (\u001b[31m↘ -0.0963\u001b[0m)\n",
            "    ├── Recall@0.50 = 0.9677\n",
            "    │   ├── Epoch N-1      = 0.9677 (\u001b[37m= 0.0\u001b[0m)\n",
            "    │   └── Best until now = 0.9839 (\u001b[31m↘ -0.0161\u001b[0m)\n",
            "    ├── Map@0.50 = 0.9225\n",
            "    │   ├── Epoch N-1      = 0.912  (\u001b[32m↗ 0.0105\u001b[0m)\n",
            "    │   └── Best until now = 0.9491 (\u001b[31m↘ -0.0266\u001b[0m)\n",
            "    └── F1@0.50 = 0.1194\n",
            "        ├── Epoch N-1      = 0.2007 (\u001b[31m↘ -0.0813\u001b[0m)\n",
            "        └── Best until now = 0.2738 (\u001b[31m↘ -0.1544\u001b[0m)\n",
            "\n",
            "===========================================================\n"
          ]
        },
        {
          "metadata": {
            "tags": null
          },
          "name": "stderr",
          "output_type": "stream",
          "text": [
            "Train epoch 108: 100%|██████████| 26/26 [00:18<00:00,  1.41it/s, PPYoloELoss/loss=1.82, PPYoloELoss/loss_cls=0.836, PPYoloELoss/loss_dfl=0.553, PPYoloELoss/loss_iou=0.435, gpu_mem=6.84]\n",
            "Validating epoch 108: 100%|██████████| 8/8 [00:02<00:00,  2.68it/s]\n"
          ]
        },
        {
          "metadata": {
            "tags": null
          },
          "name": "stdout",
          "output_type": "stream",
          "text": [
            "===========================================================\n",
            "SUMMARY OF EPOCH 108\n",
            "├── Train\n",
            "│   ├── Ppyoloeloss/loss_cls = 0.8358\n",
            "│   │   ├── Epoch N-1      = 0.8356 (\u001b[31m↗ 0.0002\u001b[0m)\n",
            "│   │   └── Best until now = 0.8025 (\u001b[31m↗ 0.0332\u001b[0m)\n",
            "│   ├── Ppyoloeloss/loss_iou = 0.4346\n",
            "│   │   ├── Epoch N-1      = 0.4412 (\u001b[32m↘ -0.0066\u001b[0m)\n",
            "│   │   └── Best until now = 0.4176 (\u001b[31m↗ 0.017\u001b[0m)\n",
            "│   ├── Ppyoloeloss/loss_dfl = 0.5528\n",
            "│   │   ├── Epoch N-1      = 0.5532 (\u001b[32m↘ -0.0004\u001b[0m)\n",
            "│   │   └── Best until now = 0.5294 (\u001b[31m↗ 0.0235\u001b[0m)\n",
            "│   └── Ppyoloeloss/loss = 1.8232\n",
            "│       ├── Epoch N-1      = 1.83   (\u001b[32m↘ -0.0068\u001b[0m)\n",
            "│       └── Best until now = 1.7595 (\u001b[31m↗ 0.0636\u001b[0m)\n",
            "└── Validation\n",
            "    ├── Ppyoloeloss/loss_cls = 0.7546\n",
            "    │   ├── Epoch N-1      = 0.7901 (\u001b[32m↘ -0.0355\u001b[0m)\n",
            "    │   └── Best until now = 0.7099 (\u001b[31m↗ 0.0448\u001b[0m)\n",
            "    ├── Ppyoloeloss/loss_iou = 0.4174\n",
            "    │   ├── Epoch N-1      = 0.4351 (\u001b[32m↘ -0.0177\u001b[0m)\n",
            "    │   └── Best until now = 0.3708 (\u001b[31m↗ 0.0467\u001b[0m)\n",
            "    ├── Ppyoloeloss/loss_dfl = 0.5607\n",
            "    │   ├── Epoch N-1      = 0.6065 (\u001b[32m↘ -0.0458\u001b[0m)\n",
            "    │   └── Best until now = 0.5269 (\u001b[31m↗ 0.0338\u001b[0m)\n",
            "    ├── Ppyoloeloss/loss = 1.7327\n",
            "    │   ├── Epoch N-1      = 1.8317 (\u001b[32m↘ -0.099\u001b[0m)\n",
            "    │   └── Best until now = 1.6541 (\u001b[31m↗ 0.0786\u001b[0m)\n",
            "    ├── Precision@0.50 = 0.045\n",
            "    │   ├── Epoch N-1      = 0.0636 (\u001b[31m↘ -0.0186\u001b[0m)\n",
            "    │   └── Best until now = 0.1599 (\u001b[31m↘ -0.1148\u001b[0m)\n",
            "    ├── Recall@0.50 = 0.9677\n",
            "    │   ├── Epoch N-1      = 0.9677 (\u001b[37m= 0.0\u001b[0m)\n",
            "    │   └── Best until now = 0.9839 (\u001b[31m↘ -0.0161\u001b[0m)\n",
            "    ├── Map@0.50 = 0.9257\n",
            "    │   ├── Epoch N-1      = 0.9225 (\u001b[32m↗ 0.0032\u001b[0m)\n",
            "    │   └── Best until now = 0.9491 (\u001b[31m↘ -0.0234\u001b[0m)\n",
            "    └── F1@0.50 = 0.0861\n",
            "        ├── Epoch N-1      = 0.1194 (\u001b[31m↘ -0.0333\u001b[0m)\n",
            "        └── Best until now = 0.2738 (\u001b[31m↘ -0.1877\u001b[0m)\n",
            "\n",
            "===========================================================\n"
          ]
        },
        {
          "metadata": {
            "tags": null
          },
          "name": "stderr",
          "output_type": "stream",
          "text": [
            "Train epoch 109: 100%|██████████| 26/26 [00:18<00:00,  1.39it/s, PPYoloELoss/loss=1.82, PPYoloELoss/loss_cls=0.838, PPYoloELoss/loss_dfl=0.55, PPYoloELoss/loss_iou=0.433, gpu_mem=6.84]\n",
            "Validating epoch 109: 100%|██████████| 8/8 [00:03<00:00,  2.37it/s]\n"
          ]
        },
        {
          "metadata": {
            "tags": null
          },
          "name": "stdout",
          "output_type": "stream",
          "text": [
            "===========================================================\n",
            "SUMMARY OF EPOCH 109\n",
            "├── Train\n",
            "│   ├── Ppyoloeloss/loss_cls = 0.8381\n",
            "│   │   ├── Epoch N-1      = 0.8358 (\u001b[31m↗ 0.0024\u001b[0m)\n",
            "│   │   └── Best until now = 0.8025 (\u001b[31m↗ 0.0356\u001b[0m)\n",
            "│   ├── Ppyoloeloss/loss_iou = 0.4332\n",
            "│   │   ├── Epoch N-1      = 0.4346 (\u001b[32m↘ -0.0014\u001b[0m)\n",
            "│   │   └── Best until now = 0.4176 (\u001b[31m↗ 0.0156\u001b[0m)\n",
            "│   ├── Ppyoloeloss/loss_dfl = 0.5502\n",
            "│   │   ├── Epoch N-1      = 0.5528 (\u001b[32m↘ -0.0026\u001b[0m)\n",
            "│   │   └── Best until now = 0.5294 (\u001b[31m↗ 0.0208\u001b[0m)\n",
            "│   └── Ppyoloeloss/loss = 1.8215\n",
            "│       ├── Epoch N-1      = 1.8232 (\u001b[32m↘ -0.0017\u001b[0m)\n",
            "│       └── Best until now = 1.7595 (\u001b[31m↗ 0.062\u001b[0m)\n",
            "└── Validation\n",
            "    ├── Ppyoloeloss/loss_cls = 0.7824\n",
            "    │   ├── Epoch N-1      = 0.7546 (\u001b[31m↗ 0.0278\u001b[0m)\n",
            "    │   └── Best until now = 0.7099 (\u001b[31m↗ 0.0726\u001b[0m)\n",
            "    ├── Ppyoloeloss/loss_iou = 0.4116\n",
            "    │   ├── Epoch N-1      = 0.4174 (\u001b[32m↘ -0.0058\u001b[0m)\n",
            "    │   └── Best until now = 0.3708 (\u001b[31m↗ 0.0408\u001b[0m)\n",
            "    ├── Ppyoloeloss/loss_dfl = 0.5655\n",
            "    │   ├── Epoch N-1      = 0.5607 (\u001b[31m↗ 0.0048\u001b[0m)\n",
            "    │   └── Best until now = 0.5269 (\u001b[31m↗ 0.0386\u001b[0m)\n",
            "    ├── Ppyoloeloss/loss = 1.7595\n",
            "    │   ├── Epoch N-1      = 1.7327 (\u001b[31m↗ 0.0268\u001b[0m)\n",
            "    │   └── Best until now = 1.6541 (\u001b[31m↗ 0.1054\u001b[0m)\n",
            "    ├── Precision@0.50 = 0.0485\n",
            "    │   ├── Epoch N-1      = 0.045  (\u001b[32m↗ 0.0035\u001b[0m)\n",
            "    │   └── Best until now = 0.1599 (\u001b[31m↘ -0.1113\u001b[0m)\n",
            "    ├── Recall@0.50 = 0.9677\n",
            "    │   ├── Epoch N-1      = 0.9677 (\u001b[37m= 0.0\u001b[0m)\n",
            "    │   └── Best until now = 0.9839 (\u001b[31m↘ -0.0161\u001b[0m)\n",
            "    ├── Map@0.50 = 0.9019\n",
            "    │   ├── Epoch N-1      = 0.9257 (\u001b[31m↘ -0.0238\u001b[0m)\n",
            "    │   └── Best until now = 0.9491 (\u001b[31m↘ -0.0472\u001b[0m)\n",
            "    └── F1@0.50 = 0.0924\n",
            "        ├── Epoch N-1      = 0.0861 (\u001b[32m↗ 0.0064\u001b[0m)\n",
            "        └── Best until now = 0.2738 (\u001b[31m↘ -0.1813\u001b[0m)\n",
            "\n",
            "===========================================================\n"
          ]
        },
        {
          "metadata": {
            "tags": null
          },
          "name": "stderr",
          "output_type": "stream",
          "text": [
            "Train epoch 110: 100%|██████████| 26/26 [00:20<00:00,  1.25it/s, PPYoloELoss/loss=1.79, PPYoloELoss/loss_cls=0.823, PPYoloELoss/loss_dfl=0.54, PPYoloELoss/loss_iou=0.431, gpu_mem=6.84]\n",
            "Validating epoch 110: 100%|██████████| 8/8 [00:03<00:00,  2.66it/s]\n"
          ]
        },
        {
          "metadata": {
            "tags": null
          },
          "name": "stdout",
          "output_type": "stream",
          "text": [
            "===========================================================\n",
            "SUMMARY OF EPOCH 110\n",
            "├── Train\n",
            "│   ├── Ppyoloeloss/loss_cls = 0.8234\n",
            "│   │   ├── Epoch N-1      = 0.8381 (\u001b[32m↘ -0.0147\u001b[0m)\n",
            "│   │   └── Best until now = 0.8025 (\u001b[31m↗ 0.0209\u001b[0m)\n",
            "│   ├── Ppyoloeloss/loss_iou = 0.4306\n",
            "│   │   ├── Epoch N-1      = 0.4332 (\u001b[32m↘ -0.0025\u001b[0m)\n",
            "│   │   └── Best until now = 0.4176 (\u001b[31m↗ 0.0131\u001b[0m)\n",
            "│   ├── Ppyoloeloss/loss_dfl = 0.5396\n",
            "│   │   ├── Epoch N-1      = 0.5502 (\u001b[32m↘ -0.0106\u001b[0m)\n",
            "│   │   └── Best until now = 0.5294 (\u001b[31m↗ 0.0103\u001b[0m)\n",
            "│   └── Ppyoloeloss/loss = 1.7937\n",
            "│       ├── Epoch N-1      = 1.8215 (\u001b[32m↘ -0.0278\u001b[0m)\n",
            "│       └── Best until now = 1.7595 (\u001b[31m↗ 0.0341\u001b[0m)\n",
            "└── Validation\n",
            "    ├── Ppyoloeloss/loss_cls = 0.7303\n",
            "    │   ├── Epoch N-1      = 0.7824 (\u001b[32m↘ -0.0521\u001b[0m)\n",
            "    │   └── Best until now = 0.7099 (\u001b[31m↗ 0.0204\u001b[0m)\n",
            "    ├── Ppyoloeloss/loss_iou = 0.4293\n",
            "    │   ├── Epoch N-1      = 0.4116 (\u001b[31m↗ 0.0177\u001b[0m)\n",
            "    │   └── Best until now = 0.3708 (\u001b[31m↗ 0.0586\u001b[0m)\n",
            "    ├── Ppyoloeloss/loss_dfl = 0.575\n",
            "    │   ├── Epoch N-1      = 0.5655 (\u001b[31m↗ 0.0095\u001b[0m)\n",
            "    │   └── Best until now = 0.5269 (\u001b[31m↗ 0.0481\u001b[0m)\n",
            "    ├── Ppyoloeloss/loss = 1.7346\n",
            "    │   ├── Epoch N-1      = 1.7595 (\u001b[32m↘ -0.0249\u001b[0m)\n",
            "    │   └── Best until now = 1.6541 (\u001b[31m↗ 0.0805\u001b[0m)\n",
            "    ├── Precision@0.50 = 0.1049\n",
            "    │   ├── Epoch N-1      = 0.0485 (\u001b[32m↗ 0.0564\u001b[0m)\n",
            "    │   └── Best until now = 0.1599 (\u001b[31m↘ -0.055\u001b[0m)\n",
            "    ├── Recall@0.50 = 0.9677\n",
            "    │   ├── Epoch N-1      = 0.9677 (\u001b[37m= 0.0\u001b[0m)\n",
            "    │   └── Best until now = 0.9839 (\u001b[31m↘ -0.0161\u001b[0m)\n",
            "    ├── Map@0.50 = 0.9292\n",
            "    │   ├── Epoch N-1      = 0.9019 (\u001b[32m↗ 0.0272\u001b[0m)\n",
            "    │   └── Best until now = 0.9491 (\u001b[31m↘ -0.0199\u001b[0m)\n",
            "    └── F1@0.50 = 0.1893\n",
            "        ├── Epoch N-1      = 0.0924 (\u001b[32m↗ 0.0968\u001b[0m)\n",
            "        └── Best until now = 0.2738 (\u001b[31m↘ -0.0845\u001b[0m)\n",
            "\n",
            "===========================================================\n"
          ]
        },
        {
          "metadata": {
            "tags": null
          },
          "name": "stderr",
          "output_type": "stream",
          "text": [
            "Train epoch 111: 100%|██████████| 26/26 [00:19<00:00,  1.37it/s, PPYoloELoss/loss=1.8, PPYoloELoss/loss_cls=0.831, PPYoloELoss/loss_dfl=0.545, PPYoloELoss/loss_iou=0.42, gpu_mem=6.84]\n",
            "Validating epoch 111: 100%|██████████| 8/8 [00:03<00:00,  2.66it/s]\n",
            "[2023-12-14 18:03:06] INFO - base_sg_logger.py - Checkpoint saved in ./checkpoints/csilab-braintumor-detection/RUN_20231214_144702_032990/ckpt_best.pth\n",
            "[2023-12-14 18:03:06] INFO - sg_trainer.py - Best checkpoint overriden: validation mAP@0.50: 0.9510514736175537\n"
          ]
        },
        {
          "metadata": {
            "tags": null
          },
          "name": "stdout",
          "output_type": "stream",
          "text": [
            "===========================================================\n",
            "SUMMARY OF EPOCH 111\n",
            "├── Train\n",
            "│   ├── Ppyoloeloss/loss_cls = 0.8314\n",
            "│   │   ├── Epoch N-1      = 0.8234 (\u001b[31m↗ 0.008\u001b[0m)\n",
            "│   │   └── Best until now = 0.8025 (\u001b[31m↗ 0.0289\u001b[0m)\n",
            "│   ├── Ppyoloeloss/loss_iou = 0.4203\n",
            "│   │   ├── Epoch N-1      = 0.4306 (\u001b[32m↘ -0.0104\u001b[0m)\n",
            "│   │   └── Best until now = 0.4176 (\u001b[31m↗ 0.0027\u001b[0m)\n",
            "│   ├── Ppyoloeloss/loss_dfl = 0.5447\n",
            "│   │   ├── Epoch N-1      = 0.5396 (\u001b[31m↗ 0.005\u001b[0m)\n",
            "│   │   └── Best until now = 0.5294 (\u001b[31m↗ 0.0153\u001b[0m)\n",
            "│   └── Ppyoloeloss/loss = 1.7963\n",
            "│       ├── Epoch N-1      = 1.7937 (\u001b[31m↗ 0.0026\u001b[0m)\n",
            "│       └── Best until now = 1.7595 (\u001b[31m↗ 0.0368\u001b[0m)\n",
            "└── Validation\n",
            "    ├── Ppyoloeloss/loss_cls = 0.712\n",
            "    │   ├── Epoch N-1      = 0.7303 (\u001b[32m↘ -0.0183\u001b[0m)\n",
            "    │   └── Best until now = 0.7099 (\u001b[31m↗ 0.0021\u001b[0m)\n",
            "    ├── Ppyoloeloss/loss_iou = 0.4433\n",
            "    │   ├── Epoch N-1      = 0.4293 (\u001b[31m↗ 0.014\u001b[0m)\n",
            "    │   └── Best until now = 0.3708 (\u001b[31m↗ 0.0725\u001b[0m)\n",
            "    ├── Ppyoloeloss/loss_dfl = 0.5986\n",
            "    │   ├── Epoch N-1      = 0.575  (\u001b[31m↗ 0.0236\u001b[0m)\n",
            "    │   └── Best until now = 0.5269 (\u001b[31m↗ 0.0717\u001b[0m)\n",
            "    ├── Ppyoloeloss/loss = 1.7539\n",
            "    │   ├── Epoch N-1      = 1.7346 (\u001b[31m↗ 0.0192\u001b[0m)\n",
            "    │   └── Best until now = 1.6541 (\u001b[31m↗ 0.0997\u001b[0m)\n",
            "    ├── Precision@0.50 = 0.069\n",
            "    │   ├── Epoch N-1      = 0.1049 (\u001b[31m↘ -0.0359\u001b[0m)\n",
            "    │   └── Best until now = 0.1599 (\u001b[31m↘ -0.0908\u001b[0m)\n",
            "    ├── Recall@0.50 = 0.9677\n",
            "    │   ├── Epoch N-1      = 0.9677 (\u001b[37m= 0.0\u001b[0m)\n",
            "    │   └── Best until now = 0.9839 (\u001b[31m↘ -0.0161\u001b[0m)\n",
            "    ├── Map@0.50 = 0.9511\n",
            "    │   ├── Epoch N-1      = 0.9292 (\u001b[32m↗ 0.0219\u001b[0m)\n",
            "    │   └── Best until now = 0.9491 (\u001b[32m↗ 0.0019\u001b[0m)\n",
            "    └── F1@0.50 = 0.1289\n",
            "        ├── Epoch N-1      = 0.1893 (\u001b[31m↘ -0.0604\u001b[0m)\n",
            "        └── Best until now = 0.2738 (\u001b[31m↘ -0.1449\u001b[0m)\n",
            "\n",
            "===========================================================\n"
          ]
        },
        {
          "metadata": {
            "tags": null
          },
          "name": "stderr",
          "output_type": "stream",
          "text": [
            "Train epoch 112: 100%|██████████| 26/26 [00:17<00:00,  1.51it/s, PPYoloELoss/loss=1.83, PPYoloELoss/loss_cls=0.835, PPYoloELoss/loss_dfl=0.551, PPYoloELoss/loss_iou=0.443, gpu_mem=6.84]\n",
            "Validating epoch 112: 100%|██████████| 8/8 [00:02<00:00,  2.70it/s]\n"
          ]
        },
        {
          "metadata": {
            "tags": null
          },
          "name": "stdout",
          "output_type": "stream",
          "text": [
            "===========================================================\n",
            "SUMMARY OF EPOCH 112\n",
            "├── Train\n",
            "│   ├── Ppyoloeloss/loss_cls = 0.8355\n",
            "│   │   ├── Epoch N-1      = 0.8314 (\u001b[31m↗ 0.0041\u001b[0m)\n",
            "│   │   └── Best until now = 0.8025 (\u001b[31m↗ 0.033\u001b[0m)\n",
            "│   ├── Ppyoloeloss/loss_iou = 0.4434\n",
            "│   │   ├── Epoch N-1      = 0.4203 (\u001b[31m↗ 0.0231\u001b[0m)\n",
            "│   │   └── Best until now = 0.4176 (\u001b[31m↗ 0.0258\u001b[0m)\n",
            "│   ├── Ppyoloeloss/loss_dfl = 0.5506\n",
            "│   │   ├── Epoch N-1      = 0.5447 (\u001b[31m↗ 0.006\u001b[0m)\n",
            "│   │   └── Best until now = 0.5294 (\u001b[31m↗ 0.0212\u001b[0m)\n",
            "│   └── Ppyoloeloss/loss = 1.8295\n",
            "│       ├── Epoch N-1      = 1.7963 (\u001b[31m↗ 0.0331\u001b[0m)\n",
            "│       └── Best until now = 1.7595 (\u001b[31m↗ 0.0699\u001b[0m)\n",
            "└── Validation\n",
            "    ├── Ppyoloeloss/loss_cls = 0.8137\n",
            "    │   ├── Epoch N-1      = 0.712  (\u001b[31m↗ 0.1017\u001b[0m)\n",
            "    │   └── Best until now = 0.7099 (\u001b[31m↗ 0.1038\u001b[0m)\n",
            "    ├── Ppyoloeloss/loss_iou = 0.4057\n",
            "    │   ├── Epoch N-1      = 0.4433 (\u001b[32m↘ -0.0375\u001b[0m)\n",
            "    │   └── Best until now = 0.3708 (\u001b[31m↗ 0.035\u001b[0m)\n",
            "    ├── Ppyoloeloss/loss_dfl = 0.5642\n",
            "    │   ├── Epoch N-1      = 0.5986 (\u001b[32m↘ -0.0344\u001b[0m)\n",
            "    │   └── Best until now = 0.5269 (\u001b[31m↗ 0.0373\u001b[0m)\n",
            "    ├── Ppyoloeloss/loss = 1.7836\n",
            "    │   ├── Epoch N-1      = 1.7539 (\u001b[31m↗ 0.0298\u001b[0m)\n",
            "    │   └── Best until now = 1.6541 (\u001b[31m↗ 0.1295\u001b[0m)\n",
            "    ├── Precision@0.50 = 0.0477\n",
            "    │   ├── Epoch N-1      = 0.069  (\u001b[31m↘ -0.0214\u001b[0m)\n",
            "    │   └── Best until now = 0.1599 (\u001b[31m↘ -0.1122\u001b[0m)\n",
            "    ├── Recall@0.50 = 0.9677\n",
            "    │   ├── Epoch N-1      = 0.9677 (\u001b[37m= 0.0\u001b[0m)\n",
            "    │   └── Best until now = 0.9839 (\u001b[31m↘ -0.0161\u001b[0m)\n",
            "    ├── Map@0.50 = 0.9121\n",
            "    │   ├── Epoch N-1      = 0.9511 (\u001b[31m↘ -0.0389\u001b[0m)\n",
            "    │   └── Best until now = 0.9511 (\u001b[31m↘ -0.0389\u001b[0m)\n",
            "    └── F1@0.50 = 0.0909\n",
            "        ├── Epoch N-1      = 0.1289 (\u001b[31m↘ -0.038\u001b[0m)\n",
            "        └── Best until now = 0.2738 (\u001b[31m↘ -0.1829\u001b[0m)\n",
            "\n",
            "===========================================================\n"
          ]
        },
        {
          "metadata": {
            "tags": null
          },
          "name": "stderr",
          "output_type": "stream",
          "text": [
            "Train epoch 113: 100%|██████████| 26/26 [00:17<00:00,  1.49it/s, PPYoloELoss/loss=1.79, PPYoloELoss/loss_cls=0.824, PPYoloELoss/loss_dfl=0.539, PPYoloELoss/loss_iou=0.425, gpu_mem=6.84]\n",
            "Validating epoch 113: 100%|██████████| 8/8 [00:02<00:00,  2.68it/s]\n"
          ]
        },
        {
          "metadata": {
            "tags": null
          },
          "name": "stdout",
          "output_type": "stream",
          "text": [
            "===========================================================\n",
            "SUMMARY OF EPOCH 113\n",
            "├── Train\n",
            "│   ├── Ppyoloeloss/loss_cls = 0.8238\n",
            "│   │   ├── Epoch N-1      = 0.8355 (\u001b[32m↘ -0.0117\u001b[0m)\n",
            "│   │   └── Best until now = 0.8025 (\u001b[31m↗ 0.0213\u001b[0m)\n",
            "│   ├── Ppyoloeloss/loss_iou = 0.4248\n",
            "│   │   ├── Epoch N-1      = 0.4434 (\u001b[32m↘ -0.0186\u001b[0m)\n",
            "│   │   └── Best until now = 0.4176 (\u001b[31m↗ 0.0072\u001b[0m)\n",
            "│   ├── Ppyoloeloss/loss_dfl = 0.5393\n",
            "│   │   ├── Epoch N-1      = 0.5506 (\u001b[32m↘ -0.0113\u001b[0m)\n",
            "│   │   └── Best until now = 0.5294 (\u001b[31m↗ 0.0099\u001b[0m)\n",
            "│   └── Ppyoloeloss/loss = 1.7879\n",
            "│       ├── Epoch N-1      = 1.8295 (\u001b[32m↘ -0.0416\u001b[0m)\n",
            "│       └── Best until now = 1.7595 (\u001b[31m↗ 0.0284\u001b[0m)\n",
            "└── Validation\n",
            "    ├── Ppyoloeloss/loss_cls = 0.8041\n",
            "    │   ├── Epoch N-1      = 0.8137 (\u001b[32m↘ -0.0096\u001b[0m)\n",
            "    │   └── Best until now = 0.7099 (\u001b[31m↗ 0.0943\u001b[0m)\n",
            "    ├── Ppyoloeloss/loss_iou = 0.4135\n",
            "    │   ├── Epoch N-1      = 0.4057 (\u001b[31m↗ 0.0078\u001b[0m)\n",
            "    │   └── Best until now = 0.3708 (\u001b[31m↗ 0.0427\u001b[0m)\n",
            "    ├── Ppyoloeloss/loss_dfl = 0.5623\n",
            "    │   ├── Epoch N-1      = 0.5642 (\u001b[32m↘ -0.0019\u001b[0m)\n",
            "    │   └── Best until now = 0.5269 (\u001b[31m↗ 0.0354\u001b[0m)\n",
            "    ├── Ppyoloeloss/loss = 1.7799\n",
            "    │   ├── Epoch N-1      = 1.7836 (\u001b[32m↘ -0.0037\u001b[0m)\n",
            "    │   └── Best until now = 1.6541 (\u001b[31m↗ 0.1258\u001b[0m)\n",
            "    ├── Precision@0.50 = 0.0555\n",
            "    │   ├── Epoch N-1      = 0.0477 (\u001b[32m↗ 0.0078\u001b[0m)\n",
            "    │   └── Best until now = 0.1599 (\u001b[31m↘ -0.1044\u001b[0m)\n",
            "    ├── Recall@0.50 = 0.9677\n",
            "    │   ├── Epoch N-1      = 0.9677 (\u001b[37m= 0.0\u001b[0m)\n",
            "    │   └── Best until now = 0.9839 (\u001b[31m↘ -0.0161\u001b[0m)\n",
            "    ├── Map@0.50 = 0.877\n",
            "    │   ├── Epoch N-1      = 0.9121 (\u001b[31m↘ -0.0352\u001b[0m)\n",
            "    │   └── Best until now = 0.9511 (\u001b[31m↘ -0.0741\u001b[0m)\n",
            "    └── F1@0.50 = 0.105\n",
            "        ├── Epoch N-1      = 0.0909 (\u001b[32m↗ 0.0141\u001b[0m)\n",
            "        └── Best until now = 0.2738 (\u001b[31m↘ -0.1688\u001b[0m)\n",
            "\n",
            "===========================================================\n"
          ]
        },
        {
          "metadata": {
            "tags": null
          },
          "name": "stderr",
          "output_type": "stream",
          "text": [
            "Train epoch 114: 100%|██████████| 26/26 [00:18<00:00,  1.44it/s, PPYoloELoss/loss=1.81, PPYoloELoss/loss_cls=0.829, PPYoloELoss/loss_dfl=0.551, PPYoloELoss/loss_iou=0.428, gpu_mem=6.83]\n",
            "Validating epoch 114: 100%|██████████| 8/8 [00:02<00:00,  2.67it/s]\n"
          ]
        },
        {
          "metadata": {
            "tags": null
          },
          "name": "stdout",
          "output_type": "stream",
          "text": [
            "===========================================================\n",
            "SUMMARY OF EPOCH 114\n",
            "├── Train\n",
            "│   ├── Ppyoloeloss/loss_cls = 0.8286\n",
            "│   │   ├── Epoch N-1      = 0.8238 (\u001b[31m↗ 0.0048\u001b[0m)\n",
            "│   │   └── Best until now = 0.8025 (\u001b[31m↗ 0.0261\u001b[0m)\n",
            "│   ├── Ppyoloeloss/loss_iou = 0.4284\n",
            "│   │   ├── Epoch N-1      = 0.4248 (\u001b[31m↗ 0.0036\u001b[0m)\n",
            "│   │   └── Best until now = 0.4176 (\u001b[31m↗ 0.0108\u001b[0m)\n",
            "│   ├── Ppyoloeloss/loss_dfl = 0.5506\n",
            "│   │   ├── Epoch N-1      = 0.5393 (\u001b[31m↗ 0.0113\u001b[0m)\n",
            "│   │   └── Best until now = 0.5294 (\u001b[31m↗ 0.0213\u001b[0m)\n",
            "│   └── Ppyoloeloss/loss = 1.8076\n",
            "│       ├── Epoch N-1      = 1.7879 (\u001b[31m↗ 0.0197\u001b[0m)\n",
            "│       └── Best until now = 1.7595 (\u001b[31m↗ 0.0481\u001b[0m)\n",
            "└── Validation\n",
            "    ├── Ppyoloeloss/loss_cls = 0.7388\n",
            "    │   ├── Epoch N-1      = 0.8041 (\u001b[32m↘ -0.0653\u001b[0m)\n",
            "    │   └── Best until now = 0.7099 (\u001b[31m↗ 0.029\u001b[0m)\n",
            "    ├── Ppyoloeloss/loss_iou = 0.3965\n",
            "    │   ├── Epoch N-1      = 0.4135 (\u001b[32m↘ -0.017\u001b[0m)\n",
            "    │   └── Best until now = 0.3708 (\u001b[31m↗ 0.0258\u001b[0m)\n",
            "    ├── Ppyoloeloss/loss_dfl = 0.5495\n",
            "    │   ├── Epoch N-1      = 0.5623 (\u001b[32m↘ -0.0128\u001b[0m)\n",
            "    │   └── Best until now = 0.5269 (\u001b[31m↗ 0.0226\u001b[0m)\n",
            "    ├── Ppyoloeloss/loss = 1.6849\n",
            "    │   ├── Epoch N-1      = 1.7799 (\u001b[32m↘ -0.095\u001b[0m)\n",
            "    │   └── Best until now = 1.6541 (\u001b[31m↗ 0.0307\u001b[0m)\n",
            "    ├── Precision@0.50 = 0.065\n",
            "    │   ├── Epoch N-1      = 0.0555 (\u001b[32m↗ 0.0095\u001b[0m)\n",
            "    │   └── Best until now = 0.1599 (\u001b[31m↘ -0.0949\u001b[0m)\n",
            "    ├── Recall@0.50 = 0.9677\n",
            "    │   ├── Epoch N-1      = 0.9677 (\u001b[37m= 0.0\u001b[0m)\n",
            "    │   └── Best until now = 0.9839 (\u001b[31m↘ -0.0161\u001b[0m)\n",
            "    ├── Map@0.50 = 0.9291\n",
            "    │   ├── Epoch N-1      = 0.877  (\u001b[32m↗ 0.0521\u001b[0m)\n",
            "    │   └── Best until now = 0.9511 (\u001b[31m↘ -0.022\u001b[0m)\n",
            "    └── F1@0.50 = 0.1218\n",
            "        ├── Epoch N-1      = 0.105  (\u001b[32m↗ 0.0168\u001b[0m)\n",
            "        └── Best until now = 0.2738 (\u001b[31m↘ -0.152\u001b[0m)\n",
            "\n",
            "===========================================================\n"
          ]
        },
        {
          "metadata": {
            "tags": null
          },
          "name": "stderr",
          "output_type": "stream",
          "text": [
            "Train epoch 115: 100%|██████████| 26/26 [00:20<00:00,  1.27it/s, PPYoloELoss/loss=1.82, PPYoloELoss/loss_cls=0.83, PPYoloELoss/loss_dfl=0.555, PPYoloELoss/loss_iou=0.433, gpu_mem=6.82]\n",
            "Validating epoch 115: 100%|██████████| 8/8 [00:03<00:00,  2.61it/s]\n"
          ]
        },
        {
          "metadata": {
            "tags": null
          },
          "name": "stdout",
          "output_type": "stream",
          "text": [
            "===========================================================\n",
            "SUMMARY OF EPOCH 115\n",
            "├── Train\n",
            "│   ├── Ppyoloeloss/loss_cls = 0.8303\n",
            "│   │   ├── Epoch N-1      = 0.8286 (\u001b[31m↗ 0.0017\u001b[0m)\n",
            "│   │   └── Best until now = 0.8025 (\u001b[31m↗ 0.0278\u001b[0m)\n",
            "│   ├── Ppyoloeloss/loss_iou = 0.4326\n",
            "│   │   ├── Epoch N-1      = 0.4284 (\u001b[31m↗ 0.0042\u001b[0m)\n",
            "│   │   └── Best until now = 0.4176 (\u001b[31m↗ 0.015\u001b[0m)\n",
            "│   ├── Ppyoloeloss/loss_dfl = 0.5552\n",
            "│   │   ├── Epoch N-1      = 0.5506 (\u001b[31m↗ 0.0046\u001b[0m)\n",
            "│   │   └── Best until now = 0.5294 (\u001b[31m↗ 0.0258\u001b[0m)\n",
            "│   └── Ppyoloeloss/loss = 1.8181\n",
            "│       ├── Epoch N-1      = 1.8076 (\u001b[31m↗ 0.0105\u001b[0m)\n",
            "│       └── Best until now = 1.7595 (\u001b[31m↗ 0.0586\u001b[0m)\n",
            "└── Validation\n",
            "    ├── Ppyoloeloss/loss_cls = 0.8142\n",
            "    │   ├── Epoch N-1      = 0.7388 (\u001b[31m↗ 0.0754\u001b[0m)\n",
            "    │   └── Best until now = 0.7099 (\u001b[31m↗ 0.1043\u001b[0m)\n",
            "    ├── Ppyoloeloss/loss_iou = 0.4243\n",
            "    │   ├── Epoch N-1      = 0.3965 (\u001b[31m↗ 0.0278\u001b[0m)\n",
            "    │   └── Best until now = 0.3708 (\u001b[31m↗ 0.0535\u001b[0m)\n",
            "    ├── Ppyoloeloss/loss_dfl = 0.583\n",
            "    │   ├── Epoch N-1      = 0.5495 (\u001b[31m↗ 0.0335\u001b[0m)\n",
            "    │   └── Best until now = 0.5269 (\u001b[31m↗ 0.0561\u001b[0m)\n",
            "    ├── Ppyoloeloss/loss = 1.8215\n",
            "    │   ├── Epoch N-1      = 1.6849 (\u001b[31m↗ 0.1366\u001b[0m)\n",
            "    │   └── Best until now = 1.6541 (\u001b[31m↗ 0.1673\u001b[0m)\n",
            "    ├── Precision@0.50 = 0.0441\n",
            "    │   ├── Epoch N-1      = 0.065  (\u001b[31m↘ -0.0209\u001b[0m)\n",
            "    │   └── Best until now = 0.1599 (\u001b[31m↘ -0.1158\u001b[0m)\n",
            "    ├── Recall@0.50 = 0.9677\n",
            "    │   ├── Epoch N-1      = 0.9677 (\u001b[37m= 0.0\u001b[0m)\n",
            "    │   └── Best until now = 0.9839 (\u001b[31m↘ -0.0161\u001b[0m)\n",
            "    ├── Map@0.50 = 0.9087\n",
            "    │   ├── Epoch N-1      = 0.9291 (\u001b[31m↘ -0.0204\u001b[0m)\n",
            "    │   └── Best until now = 0.9511 (\u001b[31m↘ -0.0424\u001b[0m)\n",
            "    └── F1@0.50 = 0.0844\n",
            "        ├── Epoch N-1      = 0.1218 (\u001b[31m↘ -0.0374\u001b[0m)\n",
            "        └── Best until now = 0.2738 (\u001b[31m↘ -0.1894\u001b[0m)\n",
            "\n",
            "===========================================================\n"
          ]
        },
        {
          "metadata": {
            "tags": null
          },
          "name": "stderr",
          "output_type": "stream",
          "text": [
            "Train epoch 116: 100%|██████████| 26/26 [00:18<00:00,  1.39it/s, PPYoloELoss/loss=1.81, PPYoloELoss/loss_cls=0.833, PPYoloELoss/loss_dfl=0.544, PPYoloELoss/loss_iou=0.431, gpu_mem=6.96]\n",
            "Validating epoch 116: 100%|██████████| 8/8 [00:03<00:00,  2.54it/s]\n"
          ]
        },
        {
          "metadata": {
            "tags": null
          },
          "name": "stdout",
          "output_type": "stream",
          "text": [
            "===========================================================\n",
            "SUMMARY OF EPOCH 116\n",
            "├── Train\n",
            "│   ├── Ppyoloeloss/loss_cls = 0.8334\n",
            "│   │   ├── Epoch N-1      = 0.8303 (\u001b[31m↗ 0.0031\u001b[0m)\n",
            "│   │   └── Best until now = 0.8025 (\u001b[31m↗ 0.0309\u001b[0m)\n",
            "│   ├── Ppyoloeloss/loss_iou = 0.4308\n",
            "│   │   ├── Epoch N-1      = 0.4326 (\u001b[32m↘ -0.0018\u001b[0m)\n",
            "│   │   └── Best until now = 0.4176 (\u001b[31m↗ 0.0132\u001b[0m)\n",
            "│   ├── Ppyoloeloss/loss_dfl = 0.5438\n",
            "│   │   ├── Epoch N-1      = 0.5552 (\u001b[32m↘ -0.0114\u001b[0m)\n",
            "│   │   └── Best until now = 0.5294 (\u001b[31m↗ 0.0144\u001b[0m)\n",
            "│   └── Ppyoloeloss/loss = 1.808\n",
            "│       ├── Epoch N-1      = 1.8181 (\u001b[32m↘ -0.0101\u001b[0m)\n",
            "│       └── Best until now = 1.7595 (\u001b[31m↗ 0.0485\u001b[0m)\n",
            "└── Validation\n",
            "    ├── Ppyoloeloss/loss_cls = 0.784\n",
            "    │   ├── Epoch N-1      = 0.8142 (\u001b[32m↘ -0.0303\u001b[0m)\n",
            "    │   └── Best until now = 0.7099 (\u001b[31m↗ 0.0741\u001b[0m)\n",
            "    ├── Ppyoloeloss/loss_iou = 0.4211\n",
            "    │   ├── Epoch N-1      = 0.4243 (\u001b[32m↘ -0.0032\u001b[0m)\n",
            "    │   └── Best until now = 0.3708 (\u001b[31m↗ 0.0503\u001b[0m)\n",
            "    ├── Ppyoloeloss/loss_dfl = 0.5701\n",
            "    │   ├── Epoch N-1      = 0.583  (\u001b[32m↘ -0.0129\u001b[0m)\n",
            "    │   └── Best until now = 0.5269 (\u001b[31m↗ 0.0432\u001b[0m)\n",
            "    ├── Ppyoloeloss/loss = 1.7752\n",
            "    │   ├── Epoch N-1      = 1.8215 (\u001b[32m↘ -0.0463\u001b[0m)\n",
            "    │   └── Best until now = 1.6541 (\u001b[31m↗ 0.121\u001b[0m)\n",
            "    ├── Precision@0.50 = 0.0478\n",
            "    │   ├── Epoch N-1      = 0.0441 (\u001b[32m↗ 0.0037\u001b[0m)\n",
            "    │   └── Best until now = 0.1599 (\u001b[31m↘ -0.112\u001b[0m)\n",
            "    ├── Recall@0.50 = 0.9677\n",
            "    │   ├── Epoch N-1      = 0.9677 (\u001b[37m= 0.0\u001b[0m)\n",
            "    │   └── Best until now = 0.9839 (\u001b[31m↘ -0.0161\u001b[0m)\n",
            "    ├── Map@0.50 = 0.9377\n",
            "    │   ├── Epoch N-1      = 0.9087 (\u001b[32m↗ 0.029\u001b[0m)\n",
            "    │   └── Best until now = 0.9511 (\u001b[31m↘ -0.0133\u001b[0m)\n",
            "    └── F1@0.50 = 0.0912\n",
            "        ├── Epoch N-1      = 0.0844 (\u001b[32m↗ 0.0068\u001b[0m)\n",
            "        └── Best until now = 0.2738 (\u001b[31m↘ -0.1826\u001b[0m)\n",
            "\n",
            "===========================================================\n"
          ]
        },
        {
          "metadata": {
            "tags": null
          },
          "name": "stderr",
          "output_type": "stream",
          "text": [
            "Train epoch 117: 100%|██████████| 26/26 [00:18<00:00,  1.41it/s, PPYoloELoss/loss=1.76, PPYoloELoss/loss_cls=0.825, PPYoloELoss/loss_dfl=0.526, PPYoloELoss/loss_iou=0.411, gpu_mem=6.96]\n",
            "Validating epoch 117: 100%|██████████| 8/8 [00:03<00:00,  2.58it/s]\n"
          ]
        },
        {
          "metadata": {
            "tags": null
          },
          "name": "stdout",
          "output_type": "stream",
          "text": [
            "===========================================================\n",
            "SUMMARY OF EPOCH 117\n",
            "├── Train\n",
            "│   ├── Ppyoloeloss/loss_cls = 0.8247\n",
            "│   │   ├── Epoch N-1      = 0.8334 (\u001b[32m↘ -0.0087\u001b[0m)\n",
            "│   │   └── Best until now = 0.8025 (\u001b[31m↗ 0.0222\u001b[0m)\n",
            "│   ├── Ppyoloeloss/loss_iou = 0.4113\n",
            "│   │   ├── Epoch N-1      = 0.4308 (\u001b[32m↘ -0.0195\u001b[0m)\n",
            "│   │   └── Best until now = 0.4176 (\u001b[32m↘ -0.0063\u001b[0m)\n",
            "│   ├── Ppyoloeloss/loss_dfl = 0.5259\n",
            "│   │   ├── Epoch N-1      = 0.5438 (\u001b[32m↘ -0.018\u001b[0m)\n",
            "│   │   └── Best until now = 0.5294 (\u001b[32m↘ -0.0035\u001b[0m)\n",
            "│   └── Ppyoloeloss/loss = 1.7618\n",
            "│       ├── Epoch N-1      = 1.808  (\u001b[32m↘ -0.0462\u001b[0m)\n",
            "│       └── Best until now = 1.7595 (\u001b[31m↗ 0.0023\u001b[0m)\n",
            "└── Validation\n",
            "    ├── Ppyoloeloss/loss_cls = 0.7552\n",
            "    │   ├── Epoch N-1      = 0.784  (\u001b[32m↘ -0.0287\u001b[0m)\n",
            "    │   └── Best until now = 0.7099 (\u001b[31m↗ 0.0453\u001b[0m)\n",
            "    ├── Ppyoloeloss/loss_iou = 0.4021\n",
            "    │   ├── Epoch N-1      = 0.4211 (\u001b[32m↘ -0.019\u001b[0m)\n",
            "    │   └── Best until now = 0.3708 (\u001b[31m↗ 0.0313\u001b[0m)\n",
            "    ├── Ppyoloeloss/loss_dfl = 0.5437\n",
            "    │   ├── Epoch N-1      = 0.5701 (\u001b[32m↘ -0.0264\u001b[0m)\n",
            "    │   └── Best until now = 0.5269 (\u001b[31m↗ 0.0168\u001b[0m)\n",
            "    ├── Ppyoloeloss/loss = 1.701\n",
            "    │   ├── Epoch N-1      = 1.7752 (\u001b[32m↘ -0.0741\u001b[0m)\n",
            "    │   └── Best until now = 1.6541 (\u001b[31m↗ 0.0469\u001b[0m)\n",
            "    ├── Precision@0.50 = 0.0579\n",
            "    │   ├── Epoch N-1      = 0.0478 (\u001b[32m↗ 0.0101\u001b[0m)\n",
            "    │   └── Best until now = 0.1599 (\u001b[31m↘ -0.102\u001b[0m)\n",
            "    ├── Recall@0.50 = 0.9677\n",
            "    │   ├── Epoch N-1      = 0.9677 (\u001b[37m= 0.0\u001b[0m)\n",
            "    │   └── Best until now = 0.9839 (\u001b[31m↘ -0.0161\u001b[0m)\n",
            "    ├── Map@0.50 = 0.902\n",
            "    │   ├── Epoch N-1      = 0.9377 (\u001b[31m↘ -0.0357\u001b[0m)\n",
            "    │   └── Best until now = 0.9511 (\u001b[31m↘ -0.0491\u001b[0m)\n",
            "    └── F1@0.50 = 0.1093\n",
            "        ├── Epoch N-1      = 0.0912 (\u001b[32m↗ 0.0181\u001b[0m)\n",
            "        └── Best until now = 0.2738 (\u001b[31m↘ -0.1645\u001b[0m)\n",
            "\n",
            "===========================================================\n"
          ]
        },
        {
          "metadata": {
            "tags": null
          },
          "name": "stderr",
          "output_type": "stream",
          "text": [
            "Train epoch 118: 100%|██████████| 26/26 [00:18<00:00,  1.39it/s, PPYoloELoss/loss=1.78, PPYoloELoss/loss_cls=0.809, PPYoloELoss/loss_dfl=0.543, PPYoloELoss/loss_iou=0.426, gpu_mem=6.97]\n",
            "Validating epoch 118: 100%|██████████| 8/8 [00:03<00:00,  2.64it/s]\n"
          ]
        },
        {
          "metadata": {
            "tags": null
          },
          "name": "stdout",
          "output_type": "stream",
          "text": [
            "===========================================================\n",
            "SUMMARY OF EPOCH 118\n",
            "├── Train\n",
            "│   ├── Ppyoloeloss/loss_cls = 0.8091\n",
            "│   │   ├── Epoch N-1      = 0.8247 (\u001b[32m↘ -0.0155\u001b[0m)\n",
            "│   │   └── Best until now = 0.8025 (\u001b[31m↗ 0.0066\u001b[0m)\n",
            "│   ├── Ppyoloeloss/loss_iou = 0.4261\n",
            "│   │   ├── Epoch N-1      = 0.4113 (\u001b[31m↗ 0.0148\u001b[0m)\n",
            "│   │   └── Best until now = 0.4113 (\u001b[31m↗ 0.0148\u001b[0m)\n",
            "│   ├── Ppyoloeloss/loss_dfl = 0.5425\n",
            "│   │   ├── Epoch N-1      = 0.5259 (\u001b[31m↗ 0.0167\u001b[0m)\n",
            "│   │   └── Best until now = 0.5259 (\u001b[31m↗ 0.0167\u001b[0m)\n",
            "│   └── Ppyoloeloss/loss = 1.7778\n",
            "│       ├── Epoch N-1      = 1.7618 (\u001b[31m↗ 0.016\u001b[0m)\n",
            "│       └── Best until now = 1.7595 (\u001b[31m↗ 0.0183\u001b[0m)\n",
            "└── Validation\n",
            "    ├── Ppyoloeloss/loss_cls = 0.7439\n",
            "    │   ├── Epoch N-1      = 0.7552 (\u001b[32m↘ -0.0113\u001b[0m)\n",
            "    │   └── Best until now = 0.7099 (\u001b[31m↗ 0.034\u001b[0m)\n",
            "    ├── Ppyoloeloss/loss_iou = 0.4224\n",
            "    │   ├── Epoch N-1      = 0.4021 (\u001b[31m↗ 0.0204\u001b[0m)\n",
            "    │   └── Best until now = 0.3708 (\u001b[31m↗ 0.0517\u001b[0m)\n",
            "    ├── Ppyoloeloss/loss_dfl = 0.5874\n",
            "    │   ├── Epoch N-1      = 0.5437 (\u001b[31m↗ 0.0437\u001b[0m)\n",
            "    │   └── Best until now = 0.5269 (\u001b[31m↗ 0.0605\u001b[0m)\n",
            "    ├── Ppyoloeloss/loss = 1.7537\n",
            "    │   ├── Epoch N-1      = 1.701  (\u001b[31m↗ 0.0527\u001b[0m)\n",
            "    │   └── Best until now = 1.6541 (\u001b[31m↗ 0.0996\u001b[0m)\n",
            "    ├── Precision@0.50 = 0.0573\n",
            "    │   ├── Epoch N-1      = 0.0579 (\u001b[31m↘ -0.0006\u001b[0m)\n",
            "    │   └── Best until now = 0.1599 (\u001b[31m↘ -0.1026\u001b[0m)\n",
            "    ├── Recall@0.50 = 0.9677\n",
            "    │   ├── Epoch N-1      = 0.9677 (\u001b[37m= 0.0\u001b[0m)\n",
            "    │   └── Best until now = 0.9839 (\u001b[31m↘ -0.0161\u001b[0m)\n",
            "    ├── Map@0.50 = 0.9296\n",
            "    │   ├── Epoch N-1      = 0.902  (\u001b[32m↗ 0.0276\u001b[0m)\n",
            "    │   └── Best until now = 0.9511 (\u001b[31m↘ -0.0214\u001b[0m)\n",
            "    └── F1@0.50 = 0.1082\n",
            "        ├── Epoch N-1      = 0.1093 (\u001b[31m↘ -0.0011\u001b[0m)\n",
            "        └── Best until now = 0.2738 (\u001b[31m↘ -0.1656\u001b[0m)\n",
            "\n",
            "===========================================================\n"
          ]
        },
        {
          "metadata": {
            "tags": null
          },
          "name": "stderr",
          "output_type": "stream",
          "text": [
            "Train epoch 119: 100%|██████████| 26/26 [00:17<00:00,  1.46it/s, PPYoloELoss/loss=1.73, PPYoloELoss/loss_cls=0.789, PPYoloELoss/loss_dfl=0.525, PPYoloELoss/loss_iou=0.413, gpu_mem=6.96]\n",
            "Validating epoch 119: 100%|██████████| 8/8 [00:02<00:00,  2.69it/s]\n"
          ]
        },
        {
          "metadata": {
            "tags": null
          },
          "name": "stdout",
          "output_type": "stream",
          "text": [
            "===========================================================\n",
            "SUMMARY OF EPOCH 119\n",
            "├── Train\n",
            "│   ├── Ppyoloeloss/loss_cls = 0.7895\n",
            "│   │   ├── Epoch N-1      = 0.8091 (\u001b[32m↘ -0.0197\u001b[0m)\n",
            "│   │   └── Best until now = 0.8025 (\u001b[32m↘ -0.013\u001b[0m)\n",
            "│   ├── Ppyoloeloss/loss_iou = 0.4129\n",
            "│   │   ├── Epoch N-1      = 0.4261 (\u001b[32m↘ -0.0132\u001b[0m)\n",
            "│   │   └── Best until now = 0.4113 (\u001b[31m↗ 0.0016\u001b[0m)\n",
            "│   ├── Ppyoloeloss/loss_dfl = 0.525\n",
            "│   │   ├── Epoch N-1      = 0.5425 (\u001b[32m↘ -0.0175\u001b[0m)\n",
            "│   │   └── Best until now = 0.5259 (\u001b[32m↘ -0.0008\u001b[0m)\n",
            "│   └── Ppyoloeloss/loss = 1.7274\n",
            "│       ├── Epoch N-1      = 1.7778 (\u001b[32m↘ -0.0504\u001b[0m)\n",
            "│       └── Best until now = 1.7595 (\u001b[32m↘ -0.0321\u001b[0m)\n",
            "└── Validation\n",
            "    ├── Ppyoloeloss/loss_cls = 0.7625\n",
            "    │   ├── Epoch N-1      = 0.7439 (\u001b[31m↗ 0.0186\u001b[0m)\n",
            "    │   └── Best until now = 0.7099 (\u001b[31m↗ 0.0526\u001b[0m)\n",
            "    ├── Ppyoloeloss/loss_iou = 0.3924\n",
            "    │   ├── Epoch N-1      = 0.4224 (\u001b[32m↘ -0.03\u001b[0m)\n",
            "    │   └── Best until now = 0.3708 (\u001b[31m↗ 0.0217\u001b[0m)\n",
            "    ├── Ppyoloeloss/loss_dfl = 0.5505\n",
            "    │   ├── Epoch N-1      = 0.5874 (\u001b[32m↘ -0.0369\u001b[0m)\n",
            "    │   └── Best until now = 0.5269 (\u001b[31m↗ 0.0236\u001b[0m)\n",
            "    ├── Ppyoloeloss/loss = 1.7054\n",
            "    │   ├── Epoch N-1      = 1.7537 (\u001b[32m↘ -0.0483\u001b[0m)\n",
            "    │   └── Best until now = 1.6541 (\u001b[31m↗ 0.0513\u001b[0m)\n",
            "    ├── Precision@0.50 = 0.0493\n",
            "    │   ├── Epoch N-1      = 0.0573 (\u001b[31m↘ -0.008\u001b[0m)\n",
            "    │   └── Best until now = 0.1599 (\u001b[31m↘ -0.1105\u001b[0m)\n",
            "    ├── Recall@0.50 = 0.9677\n",
            "    │   ├── Epoch N-1      = 0.9677 (\u001b[37m= 0.0\u001b[0m)\n",
            "    │   └── Best until now = 0.9839 (\u001b[31m↘ -0.0161\u001b[0m)\n",
            "    ├── Map@0.50 = 0.9217\n",
            "    │   ├── Epoch N-1      = 0.9296 (\u001b[31m↘ -0.0079\u001b[0m)\n",
            "    │   └── Best until now = 0.9511 (\u001b[31m↘ -0.0294\u001b[0m)\n",
            "    └── F1@0.50 = 0.0939\n",
            "        ├── Epoch N-1      = 0.1082 (\u001b[31m↘ -0.0143\u001b[0m)\n",
            "        └── Best until now = 0.2738 (\u001b[31m↘ -0.1799\u001b[0m)\n",
            "\n",
            "===========================================================\n"
          ]
        },
        {
          "metadata": {
            "tags": null
          },
          "name": "stderr",
          "output_type": "stream",
          "text": [
            "Train epoch 120: 100%|██████████| 26/26 [00:17<00:00,  1.46it/s, PPYoloELoss/loss=1.78, PPYoloELoss/loss_cls=0.821, PPYoloELoss/loss_dfl=0.545, PPYoloELoss/loss_iou=0.417, gpu_mem=6.84]\n",
            "Validating epoch 120: 100%|██████████| 8/8 [00:03<00:00,  2.58it/s]\n"
          ]
        },
        {
          "metadata": {
            "tags": null
          },
          "name": "stdout",
          "output_type": "stream",
          "text": [
            "===========================================================\n",
            "SUMMARY OF EPOCH 120\n",
            "├── Train\n",
            "│   ├── Ppyoloeloss/loss_cls = 0.8206\n",
            "│   │   ├── Epoch N-1      = 0.7895 (\u001b[31m↗ 0.0311\u001b[0m)\n",
            "│   │   └── Best until now = 0.7895 (\u001b[31m↗ 0.0311\u001b[0m)\n",
            "│   ├── Ppyoloeloss/loss_iou = 0.4168\n",
            "│   │   ├── Epoch N-1      = 0.4129 (\u001b[31m↗ 0.0039\u001b[0m)\n",
            "│   │   └── Best until now = 0.4113 (\u001b[31m↗ 0.0055\u001b[0m)\n",
            "│   ├── Ppyoloeloss/loss_dfl = 0.5452\n",
            "│   │   ├── Epoch N-1      = 0.525  (\u001b[31m↗ 0.0202\u001b[0m)\n",
            "│   │   └── Best until now = 0.525  (\u001b[31m↗ 0.0202\u001b[0m)\n",
            "│   └── Ppyoloeloss/loss = 1.7826\n",
            "│       ├── Epoch N-1      = 1.7274 (\u001b[31m↗ 0.0552\u001b[0m)\n",
            "│       └── Best until now = 1.7274 (\u001b[31m↗ 0.0552\u001b[0m)\n",
            "└── Validation\n",
            "    ├── Ppyoloeloss/loss_cls = 0.7504\n",
            "    │   ├── Epoch N-1      = 0.7625 (\u001b[32m↘ -0.0121\u001b[0m)\n",
            "    │   └── Best until now = 0.7099 (\u001b[31m↗ 0.0405\u001b[0m)\n",
            "    ├── Ppyoloeloss/loss_iou = 0.4015\n",
            "    │   ├── Epoch N-1      = 0.3924 (\u001b[31m↗ 0.0091\u001b[0m)\n",
            "    │   └── Best until now = 0.3708 (\u001b[31m↗ 0.0308\u001b[0m)\n",
            "    ├── Ppyoloeloss/loss_dfl = 0.5601\n",
            "    │   ├── Epoch N-1      = 0.5505 (\u001b[31m↗ 0.0096\u001b[0m)\n",
            "    │   └── Best until now = 0.5269 (\u001b[31m↗ 0.0332\u001b[0m)\n",
            "    ├── Ppyoloeloss/loss = 1.712\n",
            "    │   ├── Epoch N-1      = 1.7054 (\u001b[31m↗ 0.0066\u001b[0m)\n",
            "    │   └── Best until now = 1.6541 (\u001b[31m↗ 0.0579\u001b[0m)\n",
            "    ├── Precision@0.50 = 0.0937\n",
            "    │   ├── Epoch N-1      = 0.0493 (\u001b[32m↗ 0.0443\u001b[0m)\n",
            "    │   └── Best until now = 0.1599 (\u001b[31m↘ -0.0662\u001b[0m)\n",
            "    ├── Recall@0.50 = 0.9516\n",
            "    │   ├── Epoch N-1      = 0.9677 (\u001b[31m↘ -0.0161\u001b[0m)\n",
            "    │   └── Best until now = 0.9839 (\u001b[31m↘ -0.0323\u001b[0m)\n",
            "    ├── Map@0.50 = 0.8913\n",
            "    │   ├── Epoch N-1      = 0.9217 (\u001b[31m↘ -0.0303\u001b[0m)\n",
            "    │   └── Best until now = 0.9511 (\u001b[31m↘ -0.0597\u001b[0m)\n",
            "    └── F1@0.50 = 0.1705\n",
            "        ├── Epoch N-1      = 0.0939 (\u001b[32m↗ 0.0766\u001b[0m)\n",
            "        └── Best until now = 0.2738 (\u001b[31m↘ -0.1033\u001b[0m)\n",
            "\n",
            "===========================================================\n"
          ]
        },
        {
          "metadata": {
            "tags": null
          },
          "name": "stderr",
          "output_type": "stream",
          "text": [
            "Train epoch 121: 100%|██████████| 26/26 [00:17<00:00,  1.46it/s, PPYoloELoss/loss=1.73, PPYoloELoss/loss_cls=0.792, PPYoloELoss/loss_dfl=0.523, PPYoloELoss/loss_iou=0.414, gpu_mem=6.97]\n",
            "Validating epoch 121: 100%|██████████| 8/8 [00:03<00:00,  2.60it/s]\n"
          ]
        },
        {
          "metadata": {
            "tags": null
          },
          "name": "stdout",
          "output_type": "stream",
          "text": [
            "===========================================================\n",
            "SUMMARY OF EPOCH 121\n",
            "├── Train\n",
            "│   ├── Ppyoloeloss/loss_cls = 0.7922\n",
            "│   │   ├── Epoch N-1      = 0.8206 (\u001b[32m↘ -0.0283\u001b[0m)\n",
            "│   │   └── Best until now = 0.7895 (\u001b[31m↗ 0.0027\u001b[0m)\n",
            "│   ├── Ppyoloeloss/loss_iou = 0.4143\n",
            "│   │   ├── Epoch N-1      = 0.4168 (\u001b[32m↘ -0.0025\u001b[0m)\n",
            "│   │   └── Best until now = 0.4113 (\u001b[31m↗ 0.003\u001b[0m)\n",
            "│   ├── Ppyoloeloss/loss_dfl = 0.5229\n",
            "│   │   ├── Epoch N-1      = 0.5452 (\u001b[32m↘ -0.0223\u001b[0m)\n",
            "│   │   └── Best until now = 0.525  (\u001b[32m↘ -0.0021\u001b[0m)\n",
            "│   └── Ppyoloeloss/loss = 1.7294\n",
            "│       ├── Epoch N-1      = 1.7826 (\u001b[32m↘ -0.0532\u001b[0m)\n",
            "│       └── Best until now = 1.7274 (\u001b[31m↗ 0.002\u001b[0m)\n",
            "└── Validation\n",
            "    ├── Ppyoloeloss/loss_cls = 0.6828\n",
            "    │   ├── Epoch N-1      = 0.7504 (\u001b[32m↘ -0.0676\u001b[0m)\n",
            "    │   └── Best until now = 0.7099 (\u001b[32m↘ -0.0271\u001b[0m)\n",
            "    ├── Ppyoloeloss/loss_iou = 0.41\n",
            "    │   ├── Epoch N-1      = 0.4015 (\u001b[31m↗ 0.0085\u001b[0m)\n",
            "    │   └── Best until now = 0.3708 (\u001b[31m↗ 0.0392\u001b[0m)\n",
            "    ├── Ppyoloeloss/loss_dfl = 0.5747\n",
            "    │   ├── Epoch N-1      = 0.5601 (\u001b[31m↗ 0.0145\u001b[0m)\n",
            "    │   └── Best until now = 0.5269 (\u001b[31m↗ 0.0478\u001b[0m)\n",
            "    ├── Ppyoloeloss/loss = 1.6674\n",
            "    │   ├── Epoch N-1      = 1.712  (\u001b[32m↘ -0.0446\u001b[0m)\n",
            "    │   └── Best until now = 1.6541 (\u001b[31m↗ 0.0133\u001b[0m)\n",
            "    ├── Precision@0.50 = 0.0781\n",
            "    │   ├── Epoch N-1      = 0.0937 (\u001b[31m↘ -0.0155\u001b[0m)\n",
            "    │   └── Best until now = 0.1599 (\u001b[31m↘ -0.0818\u001b[0m)\n",
            "    ├── Recall@0.50 = 0.9677\n",
            "    │   ├── Epoch N-1      = 0.9516 (\u001b[32m↗ 0.0161\u001b[0m)\n",
            "    │   └── Best until now = 0.9839 (\u001b[31m↘ -0.0161\u001b[0m)\n",
            "    ├── Map@0.50 = 0.9474\n",
            "    │   ├── Epoch N-1      = 0.8913 (\u001b[32m↗ 0.0561\u001b[0m)\n",
            "    │   └── Best until now = 0.9511 (\u001b[31m↘ -0.0036\u001b[0m)\n",
            "    └── F1@0.50 = 0.1446\n",
            "        ├── Epoch N-1      = 0.1705 (\u001b[31m↘ -0.0259\u001b[0m)\n",
            "        └── Best until now = 0.2738 (\u001b[31m↘ -0.1292\u001b[0m)\n",
            "\n",
            "===========================================================\n"
          ]
        },
        {
          "metadata": {
            "tags": null
          },
          "name": "stderr",
          "output_type": "stream",
          "text": [
            "Train epoch 122: 100%|██████████| 26/26 [00:17<00:00,  1.48it/s, PPYoloELoss/loss=1.78, PPYoloELoss/loss_cls=0.81, PPYoloELoss/loss_dfl=0.542, PPYoloELoss/loss_iou=0.428, gpu_mem=6.81]\n",
            "Validating epoch 122: 100%|██████████| 8/8 [00:03<00:00,  2.46it/s]\n"
          ]
        },
        {
          "metadata": {
            "tags": null
          },
          "name": "stdout",
          "output_type": "stream",
          "text": [
            "===========================================================\n",
            "SUMMARY OF EPOCH 122\n",
            "├── Train\n",
            "│   ├── Ppyoloeloss/loss_cls = 0.8103\n",
            "│   │   ├── Epoch N-1      = 0.7922 (\u001b[31m↗ 0.018\u001b[0m)\n",
            "│   │   └── Best until now = 0.7895 (\u001b[31m↗ 0.0208\u001b[0m)\n",
            "│   ├── Ppyoloeloss/loss_iou = 0.4283\n",
            "│   │   ├── Epoch N-1      = 0.4143 (\u001b[31m↗ 0.014\u001b[0m)\n",
            "│   │   └── Best until now = 0.4113 (\u001b[31m↗ 0.0169\u001b[0m)\n",
            "│   ├── Ppyoloeloss/loss_dfl = 0.5416\n",
            "│   │   ├── Epoch N-1      = 0.5229 (\u001b[31m↗ 0.0187\u001b[0m)\n",
            "│   │   └── Best until now = 0.5229 (\u001b[31m↗ 0.0187\u001b[0m)\n",
            "│   └── Ppyoloeloss/loss = 1.7801\n",
            "│       ├── Epoch N-1      = 1.7294 (\u001b[31m↗ 0.0507\u001b[0m)\n",
            "│       └── Best until now = 1.7274 (\u001b[31m↗ 0.0527\u001b[0m)\n",
            "└── Validation\n",
            "    ├── Ppyoloeloss/loss_cls = 0.8426\n",
            "    │   ├── Epoch N-1      = 0.6828 (\u001b[31m↗ 0.1598\u001b[0m)\n",
            "    │   └── Best until now = 0.6828 (\u001b[31m↗ 0.1598\u001b[0m)\n",
            "    ├── Ppyoloeloss/loss_iou = 0.4076\n",
            "    │   ├── Epoch N-1      = 0.41   (\u001b[32m↘ -0.0024\u001b[0m)\n",
            "    │   └── Best until now = 0.3708 (\u001b[31m↗ 0.0368\u001b[0m)\n",
            "    ├── Ppyoloeloss/loss_dfl = 0.5618\n",
            "    │   ├── Epoch N-1      = 0.5747 (\u001b[32m↘ -0.0129\u001b[0m)\n",
            "    │   └── Best until now = 0.5269 (\u001b[31m↗ 0.0349\u001b[0m)\n",
            "    ├── Ppyoloeloss/loss = 1.812\n",
            "    │   ├── Epoch N-1      = 1.6674 (\u001b[31m↗ 0.1446\u001b[0m)\n",
            "    │   └── Best until now = 1.6541 (\u001b[31m↗ 0.1579\u001b[0m)\n",
            "    ├── Precision@0.50 = 0.043\n",
            "    │   ├── Epoch N-1      = 0.0781 (\u001b[31m↘ -0.0351\u001b[0m)\n",
            "    │   └── Best until now = 0.1599 (\u001b[31m↘ -0.1169\u001b[0m)\n",
            "    ├── Recall@0.50 = 0.9677\n",
            "    │   ├── Epoch N-1      = 0.9677 (\u001b[37m= 0.0\u001b[0m)\n",
            "    │   └── Best until now = 0.9839 (\u001b[31m↘ -0.0161\u001b[0m)\n",
            "    ├── Map@0.50 = 0.9065\n",
            "    │   ├── Epoch N-1      = 0.9474 (\u001b[31m↘ -0.0409\u001b[0m)\n",
            "    │   └── Best until now = 0.9511 (\u001b[31m↘ -0.0446\u001b[0m)\n",
            "    └── F1@0.50 = 0.0823\n",
            "        ├── Epoch N-1      = 0.1446 (\u001b[31m↘ -0.0623\u001b[0m)\n",
            "        └── Best until now = 0.2738 (\u001b[31m↘ -0.1915\u001b[0m)\n",
            "\n",
            "===========================================================\n"
          ]
        },
        {
          "metadata": {
            "tags": null
          },
          "name": "stderr",
          "output_type": "stream",
          "text": [
            "Train epoch 123: 100%|██████████| 26/26 [00:18<00:00,  1.44it/s, PPYoloELoss/loss=1.84, PPYoloELoss/loss_cls=0.829, PPYoloELoss/loss_dfl=0.559, PPYoloELoss/loss_iou=0.451, gpu_mem=6.96]\n",
            "Validating epoch 123: 100%|██████████| 8/8 [00:02<00:00,  2.67it/s]\n"
          ]
        },
        {
          "metadata": {
            "tags": null
          },
          "name": "stdout",
          "output_type": "stream",
          "text": [
            "===========================================================\n",
            "SUMMARY OF EPOCH 123\n",
            "├── Train\n",
            "│   ├── Ppyoloeloss/loss_cls = 0.8288\n",
            "│   │   ├── Epoch N-1      = 0.8103 (\u001b[31m↗ 0.0185\u001b[0m)\n",
            "│   │   └── Best until now = 0.7895 (\u001b[31m↗ 0.0393\u001b[0m)\n",
            "│   ├── Ppyoloeloss/loss_iou = 0.451\n",
            "│   │   ├── Epoch N-1      = 0.4283 (\u001b[31m↗ 0.0227\u001b[0m)\n",
            "│   │   └── Best until now = 0.4113 (\u001b[31m↗ 0.0397\u001b[0m)\n",
            "│   ├── Ppyoloeloss/loss_dfl = 0.5593\n",
            "│   │   ├── Epoch N-1      = 0.5416 (\u001b[31m↗ 0.0177\u001b[0m)\n",
            "│   │   └── Best until now = 0.5229 (\u001b[31m↗ 0.0364\u001b[0m)\n",
            "│   └── Ppyoloeloss/loss = 1.8391\n",
            "│       ├── Epoch N-1      = 1.7801 (\u001b[31m↗ 0.059\u001b[0m)\n",
            "│       └── Best until now = 1.7274 (\u001b[31m↗ 0.1116\u001b[0m)\n",
            "└── Validation\n",
            "    ├── Ppyoloeloss/loss_cls = 0.7324\n",
            "    │   ├── Epoch N-1      = 0.8426 (\u001b[32m↘ -0.1102\u001b[0m)\n",
            "    │   └── Best until now = 0.6828 (\u001b[31m↗ 0.0497\u001b[0m)\n",
            "    ├── Ppyoloeloss/loss_iou = 0.4219\n",
            "    │   ├── Epoch N-1      = 0.4076 (\u001b[31m↗ 0.0142\u001b[0m)\n",
            "    │   └── Best until now = 0.3708 (\u001b[31m↗ 0.0511\u001b[0m)\n",
            "    ├── Ppyoloeloss/loss_dfl = 0.5703\n",
            "    │   ├── Epoch N-1      = 0.5618 (\u001b[31m↗ 0.0085\u001b[0m)\n",
            "    │   └── Best until now = 0.5269 (\u001b[31m↗ 0.0434\u001b[0m)\n",
            "    ├── Ppyoloeloss/loss = 1.7245\n",
            "    │   ├── Epoch N-1      = 1.812  (\u001b[32m↘ -0.0875\u001b[0m)\n",
            "    │   └── Best until now = 1.6541 (\u001b[31m↗ 0.0704\u001b[0m)\n",
            "    ├── Precision@0.50 = 0.0839\n",
            "    │   ├── Epoch N-1      = 0.043  (\u001b[32m↗ 0.0409\u001b[0m)\n",
            "    │   └── Best until now = 0.1599 (\u001b[31m↘ -0.076\u001b[0m)\n",
            "    ├── Recall@0.50 = 0.9677\n",
            "    │   ├── Epoch N-1      = 0.9677 (\u001b[37m= 0.0\u001b[0m)\n",
            "    │   └── Best until now = 0.9839 (\u001b[31m↘ -0.0161\u001b[0m)\n",
            "    ├── Map@0.50 = 0.9296\n",
            "    │   ├── Epoch N-1      = 0.9065 (\u001b[32m↗ 0.0231\u001b[0m)\n",
            "    │   └── Best until now = 0.9511 (\u001b[31m↘ -0.0215\u001b[0m)\n",
            "    └── F1@0.50 = 0.1544\n",
            "        ├── Epoch N-1      = 0.0823 (\u001b[32m↗ 0.0721\u001b[0m)\n",
            "        └── Best until now = 0.2738 (\u001b[31m↘ -0.1193\u001b[0m)\n",
            "\n",
            "===========================================================\n"
          ]
        },
        {
          "metadata": {
            "tags": null
          },
          "name": "stderr",
          "output_type": "stream",
          "text": [
            "Train epoch 124: 100%|██████████| 26/26 [00:17<00:00,  1.46it/s, PPYoloELoss/loss=1.78, PPYoloELoss/loss_cls=0.825, PPYoloELoss/loss_dfl=0.532, PPYoloELoss/loss_iou=0.425, gpu_mem=6.82]\n",
            "Validating epoch 124: 100%|██████████| 8/8 [00:02<00:00,  2.67it/s]\n"
          ]
        },
        {
          "metadata": {
            "tags": null
          },
          "name": "stdout",
          "output_type": "stream",
          "text": [
            "===========================================================\n",
            "SUMMARY OF EPOCH 124\n",
            "├── Train\n",
            "│   ├── Ppyoloeloss/loss_cls = 0.825\n",
            "│   │   ├── Epoch N-1      = 0.8288 (\u001b[32m↘ -0.0038\u001b[0m)\n",
            "│   │   └── Best until now = 0.7895 (\u001b[31m↗ 0.0355\u001b[0m)\n",
            "│   ├── Ppyoloeloss/loss_iou = 0.4249\n",
            "│   │   ├── Epoch N-1      = 0.451  (\u001b[32m↘ -0.0261\u001b[0m)\n",
            "│   │   └── Best until now = 0.4113 (\u001b[31m↗ 0.0136\u001b[0m)\n",
            "│   ├── Ppyoloeloss/loss_dfl = 0.532\n",
            "│   │   ├── Epoch N-1      = 0.5593 (\u001b[32m↘ -0.0273\u001b[0m)\n",
            "│   │   └── Best until now = 0.5229 (\u001b[31m↗ 0.0091\u001b[0m)\n",
            "│   └── Ppyoloeloss/loss = 1.7818\n",
            "│       ├── Epoch N-1      = 1.8391 (\u001b[32m↘ -0.0572\u001b[0m)\n",
            "│       └── Best until now = 1.7274 (\u001b[31m↗ 0.0544\u001b[0m)\n",
            "└── Validation\n",
            "    ├── Ppyoloeloss/loss_cls = 0.7987\n",
            "    │   ├── Epoch N-1      = 0.7324 (\u001b[31m↗ 0.0663\u001b[0m)\n",
            "    │   └── Best until now = 0.6828 (\u001b[31m↗ 0.1159\u001b[0m)\n",
            "    ├── Ppyoloeloss/loss_iou = 0.397\n",
            "    │   ├── Epoch N-1      = 0.4219 (\u001b[32m↘ -0.0248\u001b[0m)\n",
            "    │   └── Best until now = 0.3708 (\u001b[31m↗ 0.0263\u001b[0m)\n",
            "    ├── Ppyoloeloss/loss_dfl = 0.5591\n",
            "    │   ├── Epoch N-1      = 0.5703 (\u001b[32m↘ -0.0111\u001b[0m)\n",
            "    │   └── Best until now = 0.5269 (\u001b[31m↗ 0.0322\u001b[0m)\n",
            "    ├── Ppyoloeloss/loss = 1.7548\n",
            "    │   ├── Epoch N-1      = 1.7245 (\u001b[31m↗ 0.0303\u001b[0m)\n",
            "    │   └── Best until now = 1.6541 (\u001b[31m↗ 0.1007\u001b[0m)\n",
            "    ├── Precision@0.50 = 0.0353\n",
            "    │   ├── Epoch N-1      = 0.0839 (\u001b[31m↘ -0.0486\u001b[0m)\n",
            "    │   └── Best until now = 0.1599 (\u001b[31m↘ -0.1246\u001b[0m)\n",
            "    ├── Recall@0.50 = 0.9677\n",
            "    │   ├── Epoch N-1      = 0.9677 (\u001b[37m= 0.0\u001b[0m)\n",
            "    │   └── Best until now = 0.9839 (\u001b[31m↘ -0.0161\u001b[0m)\n",
            "    ├── Map@0.50 = 0.939\n",
            "    │   ├── Epoch N-1      = 0.9296 (\u001b[32m↗ 0.0094\u001b[0m)\n",
            "    │   └── Best until now = 0.9511 (\u001b[31m↘ -0.0121\u001b[0m)\n",
            "    └── F1@0.50 = 0.0682\n",
            "        ├── Epoch N-1      = 0.1544 (\u001b[31m↘ -0.0863\u001b[0m)\n",
            "        └── Best until now = 0.2738 (\u001b[31m↘ -0.2056\u001b[0m)\n",
            "\n",
            "===========================================================\n"
          ]
        },
        {
          "metadata": {
            "tags": null
          },
          "name": "stderr",
          "output_type": "stream",
          "text": [
            "Train epoch 125: 100%|██████████| 26/26 [00:17<00:00,  1.50it/s, PPYoloELoss/loss=1.75, PPYoloELoss/loss_cls=0.793, PPYoloELoss/loss_dfl=0.535, PPYoloELoss/loss_iou=0.421, gpu_mem=6.96]\n",
            "Validating epoch 125: 100%|██████████| 8/8 [00:03<00:00,  2.54it/s]\n"
          ]
        },
        {
          "metadata": {
            "tags": null
          },
          "name": "stdout",
          "output_type": "stream",
          "text": [
            "===========================================================\n",
            "SUMMARY OF EPOCH 125\n",
            "├── Train\n",
            "│   ├── Ppyoloeloss/loss_cls = 0.7927\n",
            "│   │   ├── Epoch N-1      = 0.825  (\u001b[32m↘ -0.0322\u001b[0m)\n",
            "│   │   └── Best until now = 0.7895 (\u001b[31m↗ 0.0032\u001b[0m)\n",
            "│   ├── Ppyoloeloss/loss_iou = 0.4205\n",
            "│   │   ├── Epoch N-1      = 0.4249 (\u001b[32m↘ -0.0043\u001b[0m)\n",
            "│   │   └── Best until now = 0.4113 (\u001b[31m↗ 0.0092\u001b[0m)\n",
            "│   ├── Ppyoloeloss/loss_dfl = 0.5347\n",
            "│   │   ├── Epoch N-1      = 0.532  (\u001b[31m↗ 0.0027\u001b[0m)\n",
            "│   │   └── Best until now = 0.5229 (\u001b[31m↗ 0.0118\u001b[0m)\n",
            "│   └── Ppyoloeloss/loss = 1.7479\n",
            "│       ├── Epoch N-1      = 1.7818 (\u001b[32m↘ -0.0339\u001b[0m)\n",
            "│       └── Best until now = 1.7274 (\u001b[31m↗ 0.0205\u001b[0m)\n",
            "└── Validation\n",
            "    ├── Ppyoloeloss/loss_cls = 0.8583\n",
            "    │   ├── Epoch N-1      = 0.7987 (\u001b[31m↗ 0.0596\u001b[0m)\n",
            "    │   └── Best until now = 0.6828 (\u001b[31m↗ 0.1755\u001b[0m)\n",
            "    ├── Ppyoloeloss/loss_iou = 0.4015\n",
            "    │   ├── Epoch N-1      = 0.397  (\u001b[31m↗ 0.0044\u001b[0m)\n",
            "    │   └── Best until now = 0.3708 (\u001b[31m↗ 0.0307\u001b[0m)\n",
            "    ├── Ppyoloeloss/loss_dfl = 0.5621\n",
            "    │   ├── Epoch N-1      = 0.5591 (\u001b[31m↗ 0.003\u001b[0m)\n",
            "    │   └── Best until now = 0.5269 (\u001b[31m↗ 0.0352\u001b[0m)\n",
            "    ├── Ppyoloeloss/loss = 1.8219\n",
            "    │   ├── Epoch N-1      = 1.7548 (\u001b[31m↗ 0.067\u001b[0m)\n",
            "    │   └── Best until now = 1.6541 (\u001b[31m↗ 0.1677\u001b[0m)\n",
            "    ├── Precision@0.50 = 0.0271\n",
            "    │   ├── Epoch N-1      = 0.0353 (\u001b[31m↘ -0.0083\u001b[0m)\n",
            "    │   └── Best until now = 0.1599 (\u001b[31m↘ -0.1328\u001b[0m)\n",
            "    ├── Recall@0.50 = 0.9677\n",
            "    │   ├── Epoch N-1      = 0.9677 (\u001b[37m= 0.0\u001b[0m)\n",
            "    │   └── Best until now = 0.9839 (\u001b[31m↘ -0.0161\u001b[0m)\n",
            "    ├── Map@0.50 = 0.9074\n",
            "    │   ├── Epoch N-1      = 0.939  (\u001b[31m↘ -0.0316\u001b[0m)\n",
            "    │   └── Best until now = 0.9511 (\u001b[31m↘ -0.0436\u001b[0m)\n",
            "    └── F1@0.50 = 0.0527\n",
            "        ├── Epoch N-1      = 0.0682 (\u001b[31m↘ -0.0155\u001b[0m)\n",
            "        └── Best until now = 0.2738 (\u001b[31m↘ -0.2211\u001b[0m)\n",
            "\n",
            "===========================================================\n"
          ]
        },
        {
          "metadata": {
            "tags": null
          },
          "name": "stderr",
          "output_type": "stream",
          "text": [
            "Train epoch 126: 100%|██████████| 26/26 [00:17<00:00,  1.50it/s, PPYoloELoss/loss=1.77, PPYoloELoss/loss_cls=0.805, PPYoloELoss/loss_dfl=0.537, PPYoloELoss/loss_iou=0.426, gpu_mem=6.83]\n",
            "Validating epoch 126: 100%|██████████| 8/8 [00:02<00:00,  2.70it/s]\n"
          ]
        },
        {
          "metadata": {
            "tags": null
          },
          "name": "stdout",
          "output_type": "stream",
          "text": [
            "===========================================================\n",
            "SUMMARY OF EPOCH 126\n",
            "├── Train\n",
            "│   ├── Ppyoloeloss/loss_cls = 0.8049\n",
            "│   │   ├── Epoch N-1      = 0.7927 (\u001b[31m↗ 0.0122\u001b[0m)\n",
            "│   │   └── Best until now = 0.7895 (\u001b[31m↗ 0.0154\u001b[0m)\n",
            "│   ├── Ppyoloeloss/loss_iou = 0.4264\n",
            "│   │   ├── Epoch N-1      = 0.4205 (\u001b[31m↗ 0.0059\u001b[0m)\n",
            "│   │   └── Best until now = 0.4113 (\u001b[31m↗ 0.0151\u001b[0m)\n",
            "│   ├── Ppyoloeloss/loss_dfl = 0.5369\n",
            "│   │   ├── Epoch N-1      = 0.5347 (\u001b[31m↗ 0.0022\u001b[0m)\n",
            "│   │   └── Best until now = 0.5229 (\u001b[31m↗ 0.014\u001b[0m)\n",
            "│   └── Ppyoloeloss/loss = 1.7682\n",
            "│       ├── Epoch N-1      = 1.7479 (\u001b[31m↗ 0.0203\u001b[0m)\n",
            "│       └── Best until now = 1.7274 (\u001b[31m↗ 0.0408\u001b[0m)\n",
            "└── Validation\n",
            "    ├── Ppyoloeloss/loss_cls = 0.7543\n",
            "    │   ├── Epoch N-1      = 0.8583 (\u001b[32m↘ -0.104\u001b[0m)\n",
            "    │   └── Best until now = 0.6828 (\u001b[31m↗ 0.0716\u001b[0m)\n",
            "    ├── Ppyoloeloss/loss_iou = 0.4326\n",
            "    │   ├── Epoch N-1      = 0.4015 (\u001b[31m↗ 0.0312\u001b[0m)\n",
            "    │   └── Best until now = 0.3708 (\u001b[31m↗ 0.0619\u001b[0m)\n",
            "    ├── Ppyoloeloss/loss_dfl = 0.5899\n",
            "    │   ├── Epoch N-1      = 0.5621 (\u001b[31m↗ 0.0278\u001b[0m)\n",
            "    │   └── Best until now = 0.5269 (\u001b[31m↗ 0.063\u001b[0m)\n",
            "    ├── Ppyoloeloss/loss = 1.7768\n",
            "    │   ├── Epoch N-1      = 1.8219 (\u001b[32m↘ -0.045\u001b[0m)\n",
            "    │   └── Best until now = 1.6541 (\u001b[31m↗ 0.1227\u001b[0m)\n",
            "    ├── Precision@0.50 = 0.0595\n",
            "    │   ├── Epoch N-1      = 0.0271 (\u001b[32m↗ 0.0324\u001b[0m)\n",
            "    │   └── Best until now = 0.1599 (\u001b[31m↘ -0.1004\u001b[0m)\n",
            "    ├── Recall@0.50 = 0.9677\n",
            "    │   ├── Epoch N-1      = 0.9677 (\u001b[37m= 0.0\u001b[0m)\n",
            "    │   └── Best until now = 0.9839 (\u001b[31m↘ -0.0161\u001b[0m)\n",
            "    ├── Map@0.50 = 0.9374\n",
            "    │   ├── Epoch N-1      = 0.9074 (\u001b[32m↗ 0.0299\u001b[0m)\n",
            "    │   └── Best until now = 0.9511 (\u001b[31m↘ -0.0137\u001b[0m)\n",
            "    └── F1@0.50 = 0.112\n",
            "        ├── Epoch N-1      = 0.0527 (\u001b[32m↗ 0.0594\u001b[0m)\n",
            "        └── Best until now = 0.2738 (\u001b[31m↘ -0.1617\u001b[0m)\n",
            "\n",
            "===========================================================\n"
          ]
        },
        {
          "metadata": {
            "tags": null
          },
          "name": "stderr",
          "output_type": "stream",
          "text": [
            "Train epoch 127: 100%|██████████| 26/26 [00:17<00:00,  1.52it/s, PPYoloELoss/loss=1.78, PPYoloELoss/loss_cls=0.819, PPYoloELoss/loss_dfl=0.547, PPYoloELoss/loss_iou=0.419, gpu_mem=6.84]\n",
            "Validating epoch 127: 100%|██████████| 8/8 [00:03<00:00,  2.60it/s]\n"
          ]
        },
        {
          "metadata": {
            "tags": null
          },
          "name": "stdout",
          "output_type": "stream",
          "text": [
            "===========================================================\n",
            "SUMMARY OF EPOCH 127\n",
            "├── Train\n",
            "│   ├── Ppyoloeloss/loss_cls = 0.8185\n",
            "│   │   ├── Epoch N-1      = 0.8049 (\u001b[31m↗ 0.0136\u001b[0m)\n",
            "│   │   └── Best until now = 0.7895 (\u001b[31m↗ 0.029\u001b[0m)\n",
            "│   ├── Ppyoloeloss/loss_iou = 0.419\n",
            "│   │   ├── Epoch N-1      = 0.4264 (\u001b[32m↘ -0.0074\u001b[0m)\n",
            "│   │   └── Best until now = 0.4113 (\u001b[31m↗ 0.0077\u001b[0m)\n",
            "│   ├── Ppyoloeloss/loss_dfl = 0.5472\n",
            "│   │   ├── Epoch N-1      = 0.5369 (\u001b[31m↗ 0.0104\u001b[0m)\n",
            "│   │   └── Best until now = 0.5229 (\u001b[31m↗ 0.0243\u001b[0m)\n",
            "│   └── Ppyoloeloss/loss = 1.7848\n",
            "│       ├── Epoch N-1      = 1.7682 (\u001b[31m↗ 0.0166\u001b[0m)\n",
            "│       └── Best until now = 1.7274 (\u001b[31m↗ 0.0574\u001b[0m)\n",
            "└── Validation\n",
            "    ├── Ppyoloeloss/loss_cls = 0.7932\n",
            "    │   ├── Epoch N-1      = 0.7543 (\u001b[31m↗ 0.0389\u001b[0m)\n",
            "    │   └── Best until now = 0.6828 (\u001b[31m↗ 0.1104\u001b[0m)\n",
            "    ├── Ppyoloeloss/loss_iou = 0.4119\n",
            "    │   ├── Epoch N-1      = 0.4326 (\u001b[32m↘ -0.0207\u001b[0m)\n",
            "    │   └── Best until now = 0.3708 (\u001b[31m↗ 0.0411\u001b[0m)\n",
            "    ├── Ppyoloeloss/loss_dfl = 0.5755\n",
            "    │   ├── Epoch N-1      = 0.5899 (\u001b[32m↘ -0.0144\u001b[0m)\n",
            "    │   └── Best until now = 0.5269 (\u001b[31m↗ 0.0486\u001b[0m)\n",
            "    ├── Ppyoloeloss/loss = 1.7806\n",
            "    │   ├── Epoch N-1      = 1.7768 (\u001b[31m↗ 0.0037\u001b[0m)\n",
            "    │   └── Best until now = 1.6541 (\u001b[31m↗ 0.1264\u001b[0m)\n",
            "    ├── Precision@0.50 = 0.0497\n",
            "    │   ├── Epoch N-1      = 0.0595 (\u001b[31m↘ -0.0098\u001b[0m)\n",
            "    │   └── Best until now = 0.1599 (\u001b[31m↘ -0.1102\u001b[0m)\n",
            "    ├── Recall@0.50 = 0.9516\n",
            "    │   ├── Epoch N-1      = 0.9677 (\u001b[31m↘ -0.0161\u001b[0m)\n",
            "    │   └── Best until now = 0.9839 (\u001b[31m↘ -0.0323\u001b[0m)\n",
            "    ├── Map@0.50 = 0.8771\n",
            "    │   ├── Epoch N-1      = 0.9374 (\u001b[31m↘ -0.0603\u001b[0m)\n",
            "    │   └── Best until now = 0.9511 (\u001b[31m↘ -0.074\u001b[0m)\n",
            "    └── F1@0.50 = 0.0945\n",
            "        ├── Epoch N-1      = 0.112  (\u001b[31m↘ -0.0176\u001b[0m)\n",
            "        └── Best until now = 0.2738 (\u001b[31m↘ -0.1793\u001b[0m)\n",
            "\n",
            "===========================================================\n"
          ]
        },
        {
          "metadata": {
            "tags": null
          },
          "name": "stderr",
          "output_type": "stream",
          "text": [
            "Train epoch 128: 100%|██████████| 26/26 [00:17<00:00,  1.51it/s, PPYoloELoss/loss=1.82, PPYoloELoss/loss_cls=0.831, PPYoloELoss/loss_dfl=0.553, PPYoloELoss/loss_iou=0.438, gpu_mem=6.82]\n",
            "Validating epoch 128: 100%|██████████| 8/8 [00:03<00:00,  2.56it/s]\n"
          ]
        },
        {
          "metadata": {
            "tags": null
          },
          "name": "stdout",
          "output_type": "stream",
          "text": [
            "===========================================================\n",
            "SUMMARY OF EPOCH 128\n",
            "├── Train\n",
            "│   ├── Ppyoloeloss/loss_cls = 0.8313\n",
            "│   │   ├── Epoch N-1      = 0.8185 (\u001b[31m↗ 0.0128\u001b[0m)\n",
            "│   │   └── Best until now = 0.7895 (\u001b[31m↗ 0.0418\u001b[0m)\n",
            "│   ├── Ppyoloeloss/loss_iou = 0.4381\n",
            "│   │   ├── Epoch N-1      = 0.419  (\u001b[31m↗ 0.019\u001b[0m)\n",
            "│   │   └── Best until now = 0.4113 (\u001b[31m↗ 0.0268\u001b[0m)\n",
            "│   ├── Ppyoloeloss/loss_dfl = 0.5529\n",
            "│   │   ├── Epoch N-1      = 0.5472 (\u001b[31m↗ 0.0057\u001b[0m)\n",
            "│   │   └── Best until now = 0.5229 (\u001b[31m↗ 0.03\u001b[0m)\n",
            "│   └── Ppyoloeloss/loss = 1.8223\n",
            "│       ├── Epoch N-1      = 1.7848 (\u001b[31m↗ 0.0375\u001b[0m)\n",
            "│       └── Best until now = 1.7274 (\u001b[31m↗ 0.0949\u001b[0m)\n",
            "└── Validation\n",
            "    ├── Ppyoloeloss/loss_cls = 0.7733\n",
            "    │   ├── Epoch N-1      = 0.7932 (\u001b[32m↘ -0.0199\u001b[0m)\n",
            "    │   └── Best until now = 0.6828 (\u001b[31m↗ 0.0906\u001b[0m)\n",
            "    ├── Ppyoloeloss/loss_iou = 0.3814\n",
            "    │   ├── Epoch N-1      = 0.4119 (\u001b[32m↘ -0.0305\u001b[0m)\n",
            "    │   └── Best until now = 0.3708 (\u001b[31m↗ 0.0106\u001b[0m)\n",
            "    ├── Ppyoloeloss/loss_dfl = 0.5381\n",
            "    │   ├── Epoch N-1      = 0.5755 (\u001b[32m↘ -0.0374\u001b[0m)\n",
            "    │   └── Best until now = 0.5269 (\u001b[31m↗ 0.0112\u001b[0m)\n",
            "    ├── Ppyoloeloss/loss = 1.6928\n",
            "    │   ├── Epoch N-1      = 1.7806 (\u001b[32m↘ -0.0878\u001b[0m)\n",
            "    │   └── Best until now = 1.6541 (\u001b[31m↗ 0.0387\u001b[0m)\n",
            "    ├── Precision@0.50 = 0.0446\n",
            "    │   ├── Epoch N-1      = 0.0497 (\u001b[31m↘ -0.0051\u001b[0m)\n",
            "    │   └── Best until now = 0.1599 (\u001b[31m↘ -0.1152\u001b[0m)\n",
            "    ├── Recall@0.50 = 0.9677\n",
            "    │   ├── Epoch N-1      = 0.9516 (\u001b[32m↗ 0.0161\u001b[0m)\n",
            "    │   └── Best until now = 0.9839 (\u001b[31m↘ -0.0161\u001b[0m)\n",
            "    ├── Map@0.50 = 0.8882\n",
            "    │   ├── Epoch N-1      = 0.8771 (\u001b[32m↗ 0.0111\u001b[0m)\n",
            "    │   └── Best until now = 0.9511 (\u001b[31m↘ -0.0629\u001b[0m)\n",
            "    └── F1@0.50 = 0.0853\n",
            "        ├── Epoch N-1      = 0.0945 (\u001b[31m↘ -0.0091\u001b[0m)\n",
            "        └── Best until now = 0.2738 (\u001b[31m↘ -0.1884\u001b[0m)\n",
            "\n",
            "===========================================================\n"
          ]
        },
        {
          "metadata": {
            "tags": null
          },
          "name": "stderr",
          "output_type": "stream",
          "text": [
            "Train epoch 129: 100%|██████████| 26/26 [00:17<00:00,  1.48it/s, PPYoloELoss/loss=1.77, PPYoloELoss/loss_cls=0.81, PPYoloELoss/loss_dfl=0.539, PPYoloELoss/loss_iou=0.42, gpu_mem=6.98]\n",
            "Validating epoch 129: 100%|██████████| 8/8 [00:03<00:00,  2.65it/s]\n"
          ]
        },
        {
          "metadata": {
            "tags": null
          },
          "name": "stdout",
          "output_type": "stream",
          "text": [
            "===========================================================\n",
            "SUMMARY OF EPOCH 129\n",
            "├── Train\n",
            "│   ├── Ppyoloeloss/loss_cls = 0.8095\n",
            "│   │   ├── Epoch N-1      = 0.8313 (\u001b[32m↘ -0.0218\u001b[0m)\n",
            "│   │   └── Best until now = 0.7895 (\u001b[31m↗ 0.0201\u001b[0m)\n",
            "│   ├── Ppyoloeloss/loss_iou = 0.4201\n",
            "│   │   ├── Epoch N-1      = 0.4381 (\u001b[32m↘ -0.018\u001b[0m)\n",
            "│   │   └── Best until now = 0.4113 (\u001b[31m↗ 0.0088\u001b[0m)\n",
            "│   ├── Ppyoloeloss/loss_dfl = 0.5392\n",
            "│   │   ├── Epoch N-1      = 0.5529 (\u001b[32m↘ -0.0137\u001b[0m)\n",
            "│   │   └── Best until now = 0.5229 (\u001b[31m↗ 0.0163\u001b[0m)\n",
            "│   └── Ppyoloeloss/loss = 1.7689\n",
            "│       ├── Epoch N-1      = 1.8223 (\u001b[32m↘ -0.0534\u001b[0m)\n",
            "│       └── Best until now = 1.7274 (\u001b[31m↗ 0.0415\u001b[0m)\n",
            "└── Validation\n",
            "    ├── Ppyoloeloss/loss_cls = 0.7329\n",
            "    │   ├── Epoch N-1      = 0.7733 (\u001b[32m↘ -0.0404\u001b[0m)\n",
            "    │   └── Best until now = 0.6828 (\u001b[31m↗ 0.0501\u001b[0m)\n",
            "    ├── Ppyoloeloss/loss_iou = 0.3974\n",
            "    │   ├── Epoch N-1      = 0.3814 (\u001b[31m↗ 0.016\u001b[0m)\n",
            "    │   └── Best until now = 0.3708 (\u001b[31m↗ 0.0267\u001b[0m)\n",
            "    ├── Ppyoloeloss/loss_dfl = 0.5457\n",
            "    │   ├── Epoch N-1      = 0.5381 (\u001b[31m↗ 0.0076\u001b[0m)\n",
            "    │   └── Best until now = 0.5269 (\u001b[31m↗ 0.0188\u001b[0m)\n",
            "    ├── Ppyoloeloss/loss = 1.676\n",
            "    │   ├── Epoch N-1      = 1.6928 (\u001b[32m↘ -0.0168\u001b[0m)\n",
            "    │   └── Best until now = 1.6541 (\u001b[31m↗ 0.0218\u001b[0m)\n",
            "    ├── Precision@0.50 = 0.0563\n",
            "    │   ├── Epoch N-1      = 0.0446 (\u001b[32m↗ 0.0116\u001b[0m)\n",
            "    │   └── Best until now = 0.1599 (\u001b[31m↘ -0.1036\u001b[0m)\n",
            "    ├── Recall@0.50 = 0.9677\n",
            "    │   ├── Epoch N-1      = 0.9677 (\u001b[37m= 0.0\u001b[0m)\n",
            "    │   └── Best until now = 0.9839 (\u001b[31m↘ -0.0161\u001b[0m)\n",
            "    ├── Map@0.50 = 0.9327\n",
            "    │   ├── Epoch N-1      = 0.8882 (\u001b[32m↗ 0.0445\u001b[0m)\n",
            "    │   └── Best until now = 0.9511 (\u001b[31m↘ -0.0184\u001b[0m)\n",
            "    └── F1@0.50 = 0.1064\n",
            "        ├── Epoch N-1      = 0.0853 (\u001b[32m↗ 0.021\u001b[0m)\n",
            "        └── Best until now = 0.2738 (\u001b[31m↘ -0.1674\u001b[0m)\n",
            "\n",
            "===========================================================\n"
          ]
        },
        {
          "metadata": {
            "tags": null
          },
          "name": "stderr",
          "output_type": "stream",
          "text": [
            "Train epoch 130: 100%|██████████| 26/26 [00:17<00:00,  1.51it/s, PPYoloELoss/loss=1.81, PPYoloELoss/loss_cls=0.823, PPYoloELoss/loss_dfl=0.549, PPYoloELoss/loss_iou=0.439, gpu_mem=6.83]\n",
            "Validating epoch 130: 100%|██████████| 8/8 [00:02<00:00,  2.70it/s]\n"
          ]
        },
        {
          "metadata": {
            "tags": null
          },
          "name": "stdout",
          "output_type": "stream",
          "text": [
            "===========================================================\n",
            "SUMMARY OF EPOCH 130\n",
            "├── Train\n",
            "│   ├── Ppyoloeloss/loss_cls = 0.8228\n",
            "│   │   ├── Epoch N-1      = 0.8095 (\u001b[31m↗ 0.0133\u001b[0m)\n",
            "│   │   └── Best until now = 0.7895 (\u001b[31m↗ 0.0333\u001b[0m)\n",
            "│   ├── Ppyoloeloss/loss_iou = 0.4389\n",
            "│   │   ├── Epoch N-1      = 0.4201 (\u001b[31m↗ 0.0187\u001b[0m)\n",
            "│   │   └── Best until now = 0.4113 (\u001b[31m↗ 0.0275\u001b[0m)\n",
            "│   ├── Ppyoloeloss/loss_dfl = 0.5485\n",
            "│   │   ├── Epoch N-1      = 0.5392 (\u001b[31m↗ 0.0093\u001b[0m)\n",
            "│   │   └── Best until now = 0.5229 (\u001b[31m↗ 0.0256\u001b[0m)\n",
            "│   └── Ppyoloeloss/loss = 1.8102\n",
            "│       ├── Epoch N-1      = 1.7689 (\u001b[31m↗ 0.0414\u001b[0m)\n",
            "│       └── Best until now = 1.7274 (\u001b[31m↗ 0.0828\u001b[0m)\n",
            "└── Validation\n",
            "    ├── Ppyoloeloss/loss_cls = 0.7087\n",
            "    │   ├── Epoch N-1      = 0.7329 (\u001b[32m↘ -0.0242\u001b[0m)\n",
            "    │   └── Best until now = 0.6828 (\u001b[31m↗ 0.0259\u001b[0m)\n",
            "    ├── Ppyoloeloss/loss_iou = 0.4166\n",
            "    │   ├── Epoch N-1      = 0.3974 (\u001b[31m↗ 0.0192\u001b[0m)\n",
            "    │   └── Best until now = 0.3708 (\u001b[31m↗ 0.0459\u001b[0m)\n",
            "    ├── Ppyoloeloss/loss_dfl = 0.5618\n",
            "    │   ├── Epoch N-1      = 0.5457 (\u001b[31m↗ 0.0161\u001b[0m)\n",
            "    │   └── Best until now = 0.5269 (\u001b[31m↗ 0.0349\u001b[0m)\n",
            "    ├── Ppyoloeloss/loss = 1.6871\n",
            "    │   ├── Epoch N-1      = 1.676  (\u001b[31m↗ 0.0111\u001b[0m)\n",
            "    │   └── Best until now = 1.6541 (\u001b[31m↗ 0.0329\u001b[0m)\n",
            "    ├── Precision@0.50 = 0.1031\n",
            "    │   ├── Epoch N-1      = 0.0563 (\u001b[32m↗ 0.0468\u001b[0m)\n",
            "    │   └── Best until now = 0.1599 (\u001b[31m↘ -0.0568\u001b[0m)\n",
            "    ├── Recall@0.50 = 0.9677\n",
            "    │   ├── Epoch N-1      = 0.9677 (\u001b[37m= 0.0\u001b[0m)\n",
            "    │   └── Best until now = 0.9839 (\u001b[31m↘ -0.0161\u001b[0m)\n",
            "    ├── Map@0.50 = 0.9254\n",
            "    │   ├── Epoch N-1      = 0.9327 (\u001b[31m↘ -0.0072\u001b[0m)\n",
            "    │   └── Best until now = 0.9511 (\u001b[31m↘ -0.0256\u001b[0m)\n",
            "    └── F1@0.50 = 0.1863\n",
            "        ├── Epoch N-1      = 0.1064 (\u001b[32m↗ 0.08\u001b[0m)\n",
            "        └── Best until now = 0.2738 (\u001b[31m↘ -0.0874\u001b[0m)\n",
            "\n",
            "===========================================================\n"
          ]
        },
        {
          "metadata": {
            "tags": null
          },
          "name": "stderr",
          "output_type": "stream",
          "text": [
            "Train epoch 131: 100%|██████████| 26/26 [00:17<00:00,  1.50it/s, PPYoloELoss/loss=1.77, PPYoloELoss/loss_cls=0.808, PPYoloELoss/loss_dfl=0.533, PPYoloELoss/loss_iou=0.424, gpu_mem=6.82]\n",
            "Validating epoch 131: 100%|██████████| 8/8 [00:02<00:00,  2.69it/s]\n"
          ]
        },
        {
          "metadata": {
            "tags": null
          },
          "name": "stdout",
          "output_type": "stream",
          "text": [
            "===========================================================\n",
            "SUMMARY OF EPOCH 131\n",
            "├── Train\n",
            "│   ├── Ppyoloeloss/loss_cls = 0.8081\n",
            "│   │   ├── Epoch N-1      = 0.8228 (\u001b[32m↘ -0.0147\u001b[0m)\n",
            "│   │   └── Best until now = 0.7895 (\u001b[31m↗ 0.0186\u001b[0m)\n",
            "│   ├── Ppyoloeloss/loss_iou = 0.4244\n",
            "│   │   ├── Epoch N-1      = 0.4389 (\u001b[32m↘ -0.0144\u001b[0m)\n",
            "│   │   └── Best until now = 0.4113 (\u001b[31m↗ 0.0131\u001b[0m)\n",
            "│   ├── Ppyoloeloss/loss_dfl = 0.5329\n",
            "│   │   ├── Epoch N-1      = 0.5485 (\u001b[32m↘ -0.0156\u001b[0m)\n",
            "│   │   └── Best until now = 0.5229 (\u001b[31m↗ 0.01\u001b[0m)\n",
            "│   └── Ppyoloeloss/loss = 1.7654\n",
            "│       ├── Epoch N-1      = 1.8102 (\u001b[32m↘ -0.0448\u001b[0m)\n",
            "│       └── Best until now = 1.7274 (\u001b[31m↗ 0.038\u001b[0m)\n",
            "└── Validation\n",
            "    ├── Ppyoloeloss/loss_cls = 0.7421\n",
            "    │   ├── Epoch N-1      = 0.7087 (\u001b[31m↗ 0.0334\u001b[0m)\n",
            "    │   └── Best until now = 0.6828 (\u001b[31m↗ 0.0593\u001b[0m)\n",
            "    ├── Ppyoloeloss/loss_iou = 0.4014\n",
            "    │   ├── Epoch N-1      = 0.4166 (\u001b[32m↘ -0.0152\u001b[0m)\n",
            "    │   └── Best until now = 0.3708 (\u001b[31m↗ 0.0306\u001b[0m)\n",
            "    ├── Ppyoloeloss/loss_dfl = 0.5488\n",
            "    │   ├── Epoch N-1      = 0.5618 (\u001b[32m↘ -0.013\u001b[0m)\n",
            "    │   └── Best until now = 0.5269 (\u001b[31m↗ 0.0219\u001b[0m)\n",
            "    ├── Ppyoloeloss/loss = 1.6923\n",
            "    │   ├── Epoch N-1      = 1.6871 (\u001b[31m↗ 0.0052\u001b[0m)\n",
            "    │   └── Best until now = 1.6541 (\u001b[31m↗ 0.0382\u001b[0m)\n",
            "    ├── Precision@0.50 = 0.0702\n",
            "    │   ├── Epoch N-1      = 0.1031 (\u001b[31m↘ -0.0329\u001b[0m)\n",
            "    │   └── Best until now = 0.1599 (\u001b[31m↘ -0.0897\u001b[0m)\n",
            "    ├── Recall@0.50 = 0.9677\n",
            "    │   ├── Epoch N-1      = 0.9677 (\u001b[37m= 0.0\u001b[0m)\n",
            "    │   └── Best until now = 0.9839 (\u001b[31m↘ -0.0161\u001b[0m)\n",
            "    ├── Map@0.50 = 0.9366\n",
            "    │   ├── Epoch N-1      = 0.9254 (\u001b[32m↗ 0.0112\u001b[0m)\n",
            "    │   └── Best until now = 0.9511 (\u001b[31m↘ -0.0144\u001b[0m)\n",
            "    └── F1@0.50 = 0.1309\n",
            "        ├── Epoch N-1      = 0.1863 (\u001b[31m↘ -0.0555\u001b[0m)\n",
            "        └── Best until now = 0.2738 (\u001b[31m↘ -0.1429\u001b[0m)\n",
            "\n",
            "===========================================================\n"
          ]
        },
        {
          "metadata": {
            "tags": null
          },
          "name": "stderr",
          "output_type": "stream",
          "text": [
            "Train epoch 132: 100%|██████████| 26/26 [00:17<00:00,  1.47it/s, PPYoloELoss/loss=1.84, PPYoloELoss/loss_cls=0.817, PPYoloELoss/loss_dfl=0.57, PPYoloELoss/loss_iou=0.449, gpu_mem=6.97]\n",
            "Validating epoch 132: 100%|██████████| 8/8 [00:03<00:00,  2.60it/s]\n"
          ]
        },
        {
          "metadata": {
            "tags": null
          },
          "name": "stdout",
          "output_type": "stream",
          "text": [
            "===========================================================\n",
            "SUMMARY OF EPOCH 132\n",
            "├── Train\n",
            "│   ├── Ppyoloeloss/loss_cls = 0.817\n",
            "│   │   ├── Epoch N-1      = 0.8081 (\u001b[31m↗ 0.0089\u001b[0m)\n",
            "│   │   └── Best until now = 0.7895 (\u001b[31m↗ 0.0275\u001b[0m)\n",
            "│   ├── Ppyoloeloss/loss_iou = 0.449\n",
            "│   │   ├── Epoch N-1      = 0.4244 (\u001b[31m↗ 0.0245\u001b[0m)\n",
            "│   │   └── Best until now = 0.4113 (\u001b[31m↗ 0.0376\u001b[0m)\n",
            "│   ├── Ppyoloeloss/loss_dfl = 0.5704\n",
            "│   │   ├── Epoch N-1      = 0.5329 (\u001b[31m↗ 0.0375\u001b[0m)\n",
            "│   │   └── Best until now = 0.5229 (\u001b[31m↗ 0.0475\u001b[0m)\n",
            "│   └── Ppyoloeloss/loss = 1.8363\n",
            "│       ├── Epoch N-1      = 1.7654 (\u001b[31m↗ 0.0709\u001b[0m)\n",
            "│       └── Best until now = 1.7274 (\u001b[31m↗ 0.1089\u001b[0m)\n",
            "└── Validation\n",
            "    ├── Ppyoloeloss/loss_cls = 0.7756\n",
            "    │   ├── Epoch N-1      = 0.7421 (\u001b[31m↗ 0.0335\u001b[0m)\n",
            "    │   └── Best until now = 0.6828 (\u001b[31m↗ 0.0929\u001b[0m)\n",
            "    ├── Ppyoloeloss/loss_iou = 0.414\n",
            "    │   ├── Epoch N-1      = 0.4014 (\u001b[31m↗ 0.0126\u001b[0m)\n",
            "    │   └── Best until now = 0.3708 (\u001b[31m↗ 0.0432\u001b[0m)\n",
            "    ├── Ppyoloeloss/loss_dfl = 0.5617\n",
            "    │   ├── Epoch N-1      = 0.5488 (\u001b[31m↗ 0.0129\u001b[0m)\n",
            "    │   └── Best until now = 0.5269 (\u001b[31m↗ 0.0348\u001b[0m)\n",
            "    ├── Ppyoloeloss/loss = 1.7514\n",
            "    │   ├── Epoch N-1      = 1.6923 (\u001b[31m↗ 0.0591\u001b[0m)\n",
            "    │   └── Best until now = 1.6541 (\u001b[31m↗ 0.0972\u001b[0m)\n",
            "    ├── Precision@0.50 = 0.0696\n",
            "    │   ├── Epoch N-1      = 0.0702 (\u001b[31m↘ -0.0006\u001b[0m)\n",
            "    │   └── Best until now = 0.1599 (\u001b[31m↘ -0.0903\u001b[0m)\n",
            "    ├── Recall@0.50 = 0.9677\n",
            "    │   ├── Epoch N-1      = 0.9677 (\u001b[37m= 0.0\u001b[0m)\n",
            "    │   └── Best until now = 0.9839 (\u001b[31m↘ -0.0161\u001b[0m)\n",
            "    ├── Map@0.50 = 0.8845\n",
            "    │   ├── Epoch N-1      = 0.9366 (\u001b[31m↘ -0.0521\u001b[0m)\n",
            "    │   └── Best until now = 0.9511 (\u001b[31m↘ -0.0665\u001b[0m)\n",
            "    └── F1@0.50 = 0.1299\n",
            "        ├── Epoch N-1      = 0.1309 (\u001b[31m↘ -0.001\u001b[0m)\n",
            "        └── Best until now = 0.2738 (\u001b[31m↘ -0.1439\u001b[0m)\n",
            "\n",
            "===========================================================\n"
          ]
        },
        {
          "metadata": {
            "tags": null
          },
          "name": "stderr",
          "output_type": "stream",
          "text": [
            "Train epoch 133: 100%|██████████| 26/26 [00:18<00:00,  1.44it/s, PPYoloELoss/loss=1.78, PPYoloELoss/loss_cls=0.817, PPYoloELoss/loss_dfl=0.536, PPYoloELoss/loss_iou=0.424, gpu_mem=6.97]\n",
            "Validating epoch 133: 100%|██████████| 8/8 [00:02<00:00,  2.68it/s]\n"
          ]
        },
        {
          "metadata": {
            "tags": null
          },
          "name": "stdout",
          "output_type": "stream",
          "text": [
            "===========================================================\n",
            "SUMMARY OF EPOCH 133\n",
            "├── Train\n",
            "│   ├── Ppyoloeloss/loss_cls = 0.8166\n",
            "│   │   ├── Epoch N-1      = 0.817  (\u001b[32m↘ -0.0004\u001b[0m)\n",
            "│   │   └── Best until now = 0.7895 (\u001b[31m↗ 0.0271\u001b[0m)\n",
            "│   ├── Ppyoloeloss/loss_iou = 0.4242\n",
            "│   │   ├── Epoch N-1      = 0.449  (\u001b[32m↘ -0.0248\u001b[0m)\n",
            "│   │   └── Best until now = 0.4113 (\u001b[31m↗ 0.0129\u001b[0m)\n",
            "│   ├── Ppyoloeloss/loss_dfl = 0.5361\n",
            "│   │   ├── Epoch N-1      = 0.5704 (\u001b[32m↘ -0.0343\u001b[0m)\n",
            "│   │   └── Best until now = 0.5229 (\u001b[31m↗ 0.0132\u001b[0m)\n",
            "│   └── Ppyoloeloss/loss = 1.7769\n",
            "│       ├── Epoch N-1      = 1.8363 (\u001b[32m↘ -0.0594\u001b[0m)\n",
            "│       └── Best until now = 1.7274 (\u001b[31m↗ 0.0495\u001b[0m)\n",
            "└── Validation\n",
            "    ├── Ppyoloeloss/loss_cls = 0.7714\n",
            "    │   ├── Epoch N-1      = 0.7756 (\u001b[32m↘ -0.0042\u001b[0m)\n",
            "    │   └── Best until now = 0.6828 (\u001b[31m↗ 0.0887\u001b[0m)\n",
            "    ├── Ppyoloeloss/loss_iou = 0.4362\n",
            "    │   ├── Epoch N-1      = 0.414  (\u001b[31m↗ 0.0222\u001b[0m)\n",
            "    │   └── Best until now = 0.3708 (\u001b[31m↗ 0.0654\u001b[0m)\n",
            "    ├── Ppyoloeloss/loss_dfl = 0.5679\n",
            "    │   ├── Epoch N-1      = 0.5617 (\u001b[31m↗ 0.0062\u001b[0m)\n",
            "    │   └── Best until now = 0.5269 (\u001b[31m↗ 0.041\u001b[0m)\n",
            "    ├── Ppyoloeloss/loss = 1.7755\n",
            "    │   ├── Epoch N-1      = 1.7514 (\u001b[31m↗ 0.0241\u001b[0m)\n",
            "    │   └── Best until now = 1.6541 (\u001b[31m↗ 0.1214\u001b[0m)\n",
            "    ├── Precision@0.50 = 0.0938\n",
            "    │   ├── Epoch N-1      = 0.0696 (\u001b[32m↗ 0.0241\u001b[0m)\n",
            "    │   └── Best until now = 0.1599 (\u001b[31m↘ -0.0661\u001b[0m)\n",
            "    ├── Recall@0.50 = 0.9677\n",
            "    │   ├── Epoch N-1      = 0.9677 (\u001b[37m= 0.0\u001b[0m)\n",
            "    │   └── Best until now = 0.9839 (\u001b[31m↘ -0.0161\u001b[0m)\n",
            "    ├── Map@0.50 = 0.9021\n",
            "    │   ├── Epoch N-1      = 0.8845 (\u001b[32m↗ 0.0176\u001b[0m)\n",
            "    │   └── Best until now = 0.9511 (\u001b[31m↘ -0.049\u001b[0m)\n",
            "    └── F1@0.50 = 0.1709\n",
            "        ├── Epoch N-1      = 0.1299 (\u001b[32m↗ 0.0411\u001b[0m)\n",
            "        └── Best until now = 0.2738 (\u001b[31m↘ -0.1028\u001b[0m)\n",
            "\n",
            "===========================================================\n"
          ]
        },
        {
          "metadata": {
            "tags": null
          },
          "name": "stderr",
          "output_type": "stream",
          "text": [
            "Train epoch 134: 100%|██████████| 26/26 [00:17<00:00,  1.52it/s, PPYoloELoss/loss=1.79, PPYoloELoss/loss_cls=0.814, PPYoloELoss/loss_dfl=0.552, PPYoloELoss/loss_iou=0.421, gpu_mem=6.96]\n",
            "Validating epoch 134: 100%|██████████| 8/8 [00:02<00:00,  2.69it/s]\n"
          ]
        },
        {
          "metadata": {
            "tags": null
          },
          "name": "stdout",
          "output_type": "stream",
          "text": [
            "===========================================================\n",
            "SUMMARY OF EPOCH 134\n",
            "├── Train\n",
            "│   ├── Ppyoloeloss/loss_cls = 0.8143\n",
            "│   │   ├── Epoch N-1      = 0.8166 (\u001b[32m↘ -0.0023\u001b[0m)\n",
            "│   │   └── Best until now = 0.7895 (\u001b[31m↗ 0.0248\u001b[0m)\n",
            "│   ├── Ppyoloeloss/loss_iou = 0.4211\n",
            "│   │   ├── Epoch N-1      = 0.4242 (\u001b[32m↘ -0.0031\u001b[0m)\n",
            "│   │   └── Best until now = 0.4113 (\u001b[31m↗ 0.0098\u001b[0m)\n",
            "│   ├── Ppyoloeloss/loss_dfl = 0.5519\n",
            "│   │   ├── Epoch N-1      = 0.5361 (\u001b[31m↗ 0.0158\u001b[0m)\n",
            "│   │   └── Best until now = 0.5229 (\u001b[31m↗ 0.029\u001b[0m)\n",
            "│   └── Ppyoloeloss/loss = 1.7873\n",
            "│       ├── Epoch N-1      = 1.7769 (\u001b[31m↗ 0.0104\u001b[0m)\n",
            "│       └── Best until now = 1.7274 (\u001b[31m↗ 0.0599\u001b[0m)\n",
            "└── Validation\n",
            "    ├── Ppyoloeloss/loss_cls = 0.7458\n",
            "    │   ├── Epoch N-1      = 0.7714 (\u001b[32m↘ -0.0256\u001b[0m)\n",
            "    │   └── Best until now = 0.6828 (\u001b[31m↗ 0.0631\u001b[0m)\n",
            "    ├── Ppyoloeloss/loss_iou = 0.4266\n",
            "    │   ├── Epoch N-1      = 0.4362 (\u001b[32m↘ -0.0095\u001b[0m)\n",
            "    │   └── Best until now = 0.3708 (\u001b[31m↗ 0.0559\u001b[0m)\n",
            "    ├── Ppyoloeloss/loss_dfl = 0.5898\n",
            "    │   ├── Epoch N-1      = 0.5679 (\u001b[31m↗ 0.0219\u001b[0m)\n",
            "    │   └── Best until now = 0.5269 (\u001b[31m↗ 0.0629\u001b[0m)\n",
            "    ├── Ppyoloeloss/loss = 1.7622\n",
            "    │   ├── Epoch N-1      = 1.7755 (\u001b[32m↘ -0.0133\u001b[0m)\n",
            "    │   └── Best until now = 1.6541 (\u001b[31m↗ 0.1081\u001b[0m)\n",
            "    ├── Precision@0.50 = 0.068\n",
            "    │   ├── Epoch N-1      = 0.0938 (\u001b[31m↘ -0.0258\u001b[0m)\n",
            "    │   └── Best until now = 0.1599 (\u001b[31m↘ -0.0919\u001b[0m)\n",
            "    ├── Recall@0.50 = 0.9677\n",
            "    │   ├── Epoch N-1      = 0.9677 (\u001b[37m= 0.0\u001b[0m)\n",
            "    │   └── Best until now = 0.9839 (\u001b[31m↘ -0.0161\u001b[0m)\n",
            "    ├── Map@0.50 = 0.9174\n",
            "    │   ├── Epoch N-1      = 0.9021 (\u001b[32m↗ 0.0153\u001b[0m)\n",
            "    │   └── Best until now = 0.9511 (\u001b[31m↘ -0.0337\u001b[0m)\n",
            "    └── F1@0.50 = 0.127\n",
            "        ├── Epoch N-1      = 0.1709 (\u001b[31m↘ -0.044\u001b[0m)\n",
            "        └── Best until now = 0.2738 (\u001b[31m↘ -0.1468\u001b[0m)\n",
            "\n",
            "===========================================================\n"
          ]
        },
        {
          "metadata": {
            "tags": null
          },
          "name": "stderr",
          "output_type": "stream",
          "text": [
            "Train epoch 135: 100%|██████████| 26/26 [00:19<00:00,  1.35it/s, PPYoloELoss/loss=1.81, PPYoloELoss/loss_cls=0.827, PPYoloELoss/loss_dfl=0.553, PPYoloELoss/loss_iou=0.434, gpu_mem=6.98]\n",
            "Validating epoch 135: 100%|██████████| 8/8 [00:03<00:00,  2.51it/s]\n"
          ]
        },
        {
          "metadata": {
            "tags": null
          },
          "name": "stdout",
          "output_type": "stream",
          "text": [
            "===========================================================\n",
            "SUMMARY OF EPOCH 135\n",
            "├── Train\n",
            "│   ├── Ppyoloeloss/loss_cls = 0.827\n",
            "│   │   ├── Epoch N-1      = 0.8143 (\u001b[31m↗ 0.0127\u001b[0m)\n",
            "│   │   └── Best until now = 0.7895 (\u001b[31m↗ 0.0375\u001b[0m)\n",
            "│   ├── Ppyoloeloss/loss_iou = 0.4344\n",
            "│   │   ├── Epoch N-1      = 0.4211 (\u001b[31m↗ 0.0133\u001b[0m)\n",
            "│   │   └── Best until now = 0.4113 (\u001b[31m↗ 0.0231\u001b[0m)\n",
            "│   ├── Ppyoloeloss/loss_dfl = 0.5528\n",
            "│   │   ├── Epoch N-1      = 0.5519 (\u001b[31m↗ 0.0009\u001b[0m)\n",
            "│   │   └── Best until now = 0.5229 (\u001b[31m↗ 0.0299\u001b[0m)\n",
            "│   └── Ppyoloeloss/loss = 1.8142\n",
            "│       ├── Epoch N-1      = 1.7873 (\u001b[31m↗ 0.0269\u001b[0m)\n",
            "│       └── Best until now = 1.7274 (\u001b[31m↗ 0.0868\u001b[0m)\n",
            "└── Validation\n",
            "    ├── Ppyoloeloss/loss_cls = 0.7499\n",
            "    │   ├── Epoch N-1      = 0.7458 (\u001b[31m↗ 0.004\u001b[0m)\n",
            "    │   └── Best until now = 0.6828 (\u001b[31m↗ 0.0671\u001b[0m)\n",
            "    ├── Ppyoloeloss/loss_iou = 0.4169\n",
            "    │   ├── Epoch N-1      = 0.4266 (\u001b[32m↘ -0.0098\u001b[0m)\n",
            "    │   └── Best until now = 0.3708 (\u001b[31m↗ 0.0461\u001b[0m)\n",
            "    ├── Ppyoloeloss/loss_dfl = 0.5558\n",
            "    │   ├── Epoch N-1      = 0.5898 (\u001b[32m↘ -0.034\u001b[0m)\n",
            "    │   └── Best until now = 0.5269 (\u001b[31m↗ 0.0289\u001b[0m)\n",
            "    ├── Ppyoloeloss/loss = 1.7225\n",
            "    │   ├── Epoch N-1      = 1.7622 (\u001b[32m↘ -0.0397\u001b[0m)\n",
            "    │   └── Best until now = 1.6541 (\u001b[31m↗ 0.0684\u001b[0m)\n",
            "    ├── Precision@0.50 = 0.0441\n",
            "    │   ├── Epoch N-1      = 0.068  (\u001b[31m↘ -0.0239\u001b[0m)\n",
            "    │   └── Best until now = 0.1599 (\u001b[31m↘ -0.1158\u001b[0m)\n",
            "    ├── Recall@0.50 = 0.9677\n",
            "    │   ├── Epoch N-1      = 0.9677 (\u001b[37m= 0.0\u001b[0m)\n",
            "    │   └── Best until now = 0.9839 (\u001b[31m↘ -0.0161\u001b[0m)\n",
            "    ├── Map@0.50 = 0.9429\n",
            "    │   ├── Epoch N-1      = 0.9174 (\u001b[32m↗ 0.0255\u001b[0m)\n",
            "    │   └── Best until now = 0.9511 (\u001b[31m↘ -0.0081\u001b[0m)\n",
            "    └── F1@0.50 = 0.0843\n",
            "        ├── Epoch N-1      = 0.127  (\u001b[31m↘ -0.0427\u001b[0m)\n",
            "        └── Best until now = 0.2738 (\u001b[31m↘ -0.1895\u001b[0m)\n",
            "\n",
            "===========================================================\n"
          ]
        },
        {
          "metadata": {
            "tags": null
          },
          "name": "stderr",
          "output_type": "stream",
          "text": [
            "Train epoch 136: 100%|██████████| 26/26 [00:18<00:00,  1.43it/s, PPYoloELoss/loss=1.8, PPYoloELoss/loss_cls=0.82, PPYoloELoss/loss_dfl=0.553, PPYoloELoss/loss_iou=0.423, gpu_mem=6.83]\n",
            "Validating epoch 136: 100%|██████████| 8/8 [00:02<00:00,  2.67it/s]\n"
          ]
        },
        {
          "metadata": {
            "tags": null
          },
          "name": "stdout",
          "output_type": "stream",
          "text": [
            "===========================================================\n",
            "SUMMARY OF EPOCH 136\n",
            "├── Train\n",
            "│   ├── Ppyoloeloss/loss_cls = 0.8197\n",
            "│   │   ├── Epoch N-1      = 0.827  (\u001b[32m↘ -0.0073\u001b[0m)\n",
            "│   │   └── Best until now = 0.7895 (\u001b[31m↗ 0.0302\u001b[0m)\n",
            "│   ├── Ppyoloeloss/loss_iou = 0.4231\n",
            "│   │   ├── Epoch N-1      = 0.4344 (\u001b[32m↘ -0.0112\u001b[0m)\n",
            "│   │   └── Best until now = 0.4113 (\u001b[31m↗ 0.0118\u001b[0m)\n",
            "│   ├── Ppyoloeloss/loss_dfl = 0.553\n",
            "│   │   ├── Epoch N-1      = 0.5528 (\u001b[31m↗ 0.0002\u001b[0m)\n",
            "│   │   └── Best until now = 0.5229 (\u001b[31m↗ 0.0301\u001b[0m)\n",
            "│   └── Ppyoloeloss/loss = 1.7959\n",
            "│       ├── Epoch N-1      = 1.8142 (\u001b[32m↘ -0.0183\u001b[0m)\n",
            "│       └── Best until now = 1.7274 (\u001b[31m↗ 0.0684\u001b[0m)\n",
            "└── Validation\n",
            "    ├── Ppyoloeloss/loss_cls = 0.8399\n",
            "    │   ├── Epoch N-1      = 0.7499 (\u001b[31m↗ 0.0901\u001b[0m)\n",
            "    │   └── Best until now = 0.6828 (\u001b[31m↗ 0.1572\u001b[0m)\n",
            "    ├── Ppyoloeloss/loss_iou = 0.4312\n",
            "    │   ├── Epoch N-1      = 0.4169 (\u001b[31m↗ 0.0143\u001b[0m)\n",
            "    │   └── Best until now = 0.3708 (\u001b[31m↗ 0.0604\u001b[0m)\n",
            "    ├── Ppyoloeloss/loss_dfl = 0.5816\n",
            "    │   ├── Epoch N-1      = 0.5558 (\u001b[31m↗ 0.0258\u001b[0m)\n",
            "    │   └── Best until now = 0.5269 (\u001b[31m↗ 0.0547\u001b[0m)\n",
            "    ├── Ppyoloeloss/loss = 1.8527\n",
            "    │   ├── Epoch N-1      = 1.7225 (\u001b[31m↗ 0.1302\u001b[0m)\n",
            "    │   └── Best until now = 1.6541 (\u001b[31m↗ 0.1986\u001b[0m)\n",
            "    ├── Precision@0.50 = 0.0295\n",
            "    │   ├── Epoch N-1      = 0.0441 (\u001b[31m↘ -0.0146\u001b[0m)\n",
            "    │   └── Best until now = 0.1599 (\u001b[31m↘ -0.1304\u001b[0m)\n",
            "    ├── Recall@0.50 = 0.9677\n",
            "    │   ├── Epoch N-1      = 0.9677 (\u001b[37m= 0.0\u001b[0m)\n",
            "    │   └── Best until now = 0.9839 (\u001b[31m↘ -0.0161\u001b[0m)\n",
            "    ├── Map@0.50 = 0.8684\n",
            "    │   ├── Epoch N-1      = 0.9429 (\u001b[31m↘ -0.0745\u001b[0m)\n",
            "    │   └── Best until now = 0.9511 (\u001b[31m↘ -0.0826\u001b[0m)\n",
            "    └── F1@0.50 = 0.0573\n",
            "        ├── Epoch N-1      = 0.0843 (\u001b[31m↘ -0.027\u001b[0m)\n",
            "        └── Best until now = 0.2738 (\u001b[31m↘ -0.2165\u001b[0m)\n",
            "\n",
            "===========================================================\n"
          ]
        },
        {
          "metadata": {
            "tags": null
          },
          "name": "stderr",
          "output_type": "stream",
          "text": [
            "Train epoch 137: 100%|██████████| 26/26 [00:18<00:00,  1.44it/s, PPYoloELoss/loss=1.79, PPYoloELoss/loss_cls=0.832, PPYoloELoss/loss_dfl=0.529, PPYoloELoss/loss_iou=0.429, gpu_mem=6.84]\n",
            "Validating epoch 137: 100%|██████████| 8/8 [00:03<00:00,  2.64it/s]\n"
          ]
        },
        {
          "metadata": {
            "tags": null
          },
          "name": "stdout",
          "output_type": "stream",
          "text": [
            "===========================================================\n",
            "SUMMARY OF EPOCH 137\n",
            "├── Train\n",
            "│   ├── Ppyoloeloss/loss_cls = 0.8317\n",
            "│   │   ├── Epoch N-1      = 0.8197 (\u001b[31m↗ 0.012\u001b[0m)\n",
            "│   │   └── Best until now = 0.7895 (\u001b[31m↗ 0.0422\u001b[0m)\n",
            "│   ├── Ppyoloeloss/loss_iou = 0.4289\n",
            "│   │   ├── Epoch N-1      = 0.4231 (\u001b[31m↗ 0.0057\u001b[0m)\n",
            "│   │   └── Best until now = 0.4113 (\u001b[31m↗ 0.0176\u001b[0m)\n",
            "│   ├── Ppyoloeloss/loss_dfl = 0.5291\n",
            "│   │   ├── Epoch N-1      = 0.553  (\u001b[32m↘ -0.024\u001b[0m)\n",
            "│   │   └── Best until now = 0.5229 (\u001b[31m↗ 0.0062\u001b[0m)\n",
            "│   └── Ppyoloeloss/loss = 1.7896\n",
            "│       ├── Epoch N-1      = 1.7959 (\u001b[32m↘ -0.0062\u001b[0m)\n",
            "│       └── Best until now = 1.7274 (\u001b[31m↗ 0.0622\u001b[0m)\n",
            "└── Validation\n",
            "    ├── Ppyoloeloss/loss_cls = 0.8177\n",
            "    │   ├── Epoch N-1      = 0.8399 (\u001b[32m↘ -0.0222\u001b[0m)\n",
            "    │   └── Best until now = 0.6828 (\u001b[31m↗ 0.1349\u001b[0m)\n",
            "    ├── Ppyoloeloss/loss_iou = 0.4087\n",
            "    │   ├── Epoch N-1      = 0.4312 (\u001b[32m↘ -0.0224\u001b[0m)\n",
            "    │   └── Best until now = 0.3708 (\u001b[31m↗ 0.038\u001b[0m)\n",
            "    ├── Ppyoloeloss/loss_dfl = 0.5624\n",
            "    │   ├── Epoch N-1      = 0.5816 (\u001b[32m↘ -0.0193\u001b[0m)\n",
            "    │   └── Best until now = 0.5269 (\u001b[31m↗ 0.0354\u001b[0m)\n",
            "    ├── Ppyoloeloss/loss = 1.7888\n",
            "    │   ├── Epoch N-1      = 1.8527 (\u001b[32m↘ -0.0639\u001b[0m)\n",
            "    │   └── Best until now = 1.6541 (\u001b[31m↗ 0.1346\u001b[0m)\n",
            "    ├── Precision@0.50 = 0.0362\n",
            "    │   ├── Epoch N-1      = 0.0295 (\u001b[32m↗ 0.0066\u001b[0m)\n",
            "    │   └── Best until now = 0.1599 (\u001b[31m↘ -0.1237\u001b[0m)\n",
            "    ├── Recall@0.50 = 0.9516\n",
            "    │   ├── Epoch N-1      = 0.9677 (\u001b[31m↘ -0.0161\u001b[0m)\n",
            "    │   └── Best until now = 0.9839 (\u001b[31m↘ -0.0323\u001b[0m)\n",
            "    ├── Map@0.50 = 0.888\n",
            "    │   ├── Epoch N-1      = 0.8684 (\u001b[32m↗ 0.0196\u001b[0m)\n",
            "    │   └── Best until now = 0.9511 (\u001b[31m↘ -0.0631\u001b[0m)\n",
            "    └── F1@0.50 = 0.0697\n",
            "        ├── Epoch N-1      = 0.0573 (\u001b[32m↗ 0.0124\u001b[0m)\n",
            "        └── Best until now = 0.2738 (\u001b[31m↘ -0.2041\u001b[0m)\n",
            "\n",
            "===========================================================\n"
          ]
        },
        {
          "metadata": {
            "tags": null
          },
          "name": "stderr",
          "output_type": "stream",
          "text": [
            "Train epoch 138: 100%|██████████| 26/26 [00:17<00:00,  1.49it/s, PPYoloELoss/loss=1.84, PPYoloELoss/loss_cls=0.839, PPYoloELoss/loss_dfl=0.562, PPYoloELoss/loss_iou=0.435, gpu_mem=6.84]\n",
            "Validating epoch 138: 100%|██████████| 8/8 [00:03<00:00,  2.64it/s]\n"
          ]
        },
        {
          "metadata": {
            "tags": null
          },
          "name": "stdout",
          "output_type": "stream",
          "text": [
            "===========================================================\n",
            "SUMMARY OF EPOCH 138\n",
            "├── Train\n",
            "│   ├── Ppyoloeloss/loss_cls = 0.839\n",
            "│   │   ├── Epoch N-1      = 0.8317 (\u001b[31m↗ 0.0073\u001b[0m)\n",
            "│   │   └── Best until now = 0.7895 (\u001b[31m↗ 0.0495\u001b[0m)\n",
            "│   ├── Ppyoloeloss/loss_iou = 0.4348\n",
            "│   │   ├── Epoch N-1      = 0.4289 (\u001b[31m↗ 0.006\u001b[0m)\n",
            "│   │   └── Best until now = 0.4113 (\u001b[31m↗ 0.0235\u001b[0m)\n",
            "│   ├── Ppyoloeloss/loss_dfl = 0.5623\n",
            "│   │   ├── Epoch N-1      = 0.5291 (\u001b[31m↗ 0.0332\u001b[0m)\n",
            "│   │   └── Best until now = 0.5229 (\u001b[31m↗ 0.0394\u001b[0m)\n",
            "│   └── Ppyoloeloss/loss = 1.8361\n",
            "│       ├── Epoch N-1      = 1.7896 (\u001b[31m↗ 0.0465\u001b[0m)\n",
            "│       └── Best until now = 1.7274 (\u001b[31m↗ 0.1087\u001b[0m)\n",
            "└── Validation\n",
            "    ├── Ppyoloeloss/loss_cls = 0.72\n",
            "    │   ├── Epoch N-1      = 0.8177 (\u001b[32m↘ -0.0977\u001b[0m)\n",
            "    │   └── Best until now = 0.6828 (\u001b[31m↗ 0.0372\u001b[0m)\n",
            "    ├── Ppyoloeloss/loss_iou = 0.4169\n",
            "    │   ├── Epoch N-1      = 0.4087 (\u001b[31m↗ 0.0082\u001b[0m)\n",
            "    │   └── Best until now = 0.3708 (\u001b[31m↗ 0.0461\u001b[0m)\n",
            "    ├── Ppyoloeloss/loss_dfl = 0.5755\n",
            "    │   ├── Epoch N-1      = 0.5624 (\u001b[31m↗ 0.0132\u001b[0m)\n",
            "    │   └── Best until now = 0.5269 (\u001b[31m↗ 0.0486\u001b[0m)\n",
            "    ├── Ppyoloeloss/loss = 1.7125\n",
            "    │   ├── Epoch N-1      = 1.7888 (\u001b[32m↘ -0.0763\u001b[0m)\n",
            "    │   └── Best until now = 1.6541 (\u001b[31m↗ 0.0583\u001b[0m)\n",
            "    ├── Precision@0.50 = 0.0831\n",
            "    │   ├── Epoch N-1      = 0.0362 (\u001b[32m↗ 0.047\u001b[0m)\n",
            "    │   └── Best until now = 0.1599 (\u001b[31m↘ -0.0768\u001b[0m)\n",
            "    ├── Recall@0.50 = 0.9677\n",
            "    │   ├── Epoch N-1      = 0.9516 (\u001b[32m↗ 0.0161\u001b[0m)\n",
            "    │   └── Best until now = 0.9839 (\u001b[31m↘ -0.0161\u001b[0m)\n",
            "    ├── Map@0.50 = 0.9149\n",
            "    │   ├── Epoch N-1      = 0.888  (\u001b[32m↗ 0.0269\u001b[0m)\n",
            "    │   └── Best until now = 0.9511 (\u001b[31m↘ -0.0361\u001b[0m)\n",
            "    └── F1@0.50 = 0.1531\n",
            "        ├── Epoch N-1      = 0.0697 (\u001b[32m↗ 0.0834\u001b[0m)\n",
            "        └── Best until now = 0.2738 (\u001b[31m↘ -0.1207\u001b[0m)\n",
            "\n",
            "===========================================================\n"
          ]
        },
        {
          "metadata": {
            "tags": null
          },
          "name": "stderr",
          "output_type": "stream",
          "text": [
            "Train epoch 139: 100%|██████████| 26/26 [00:17<00:00,  1.46it/s, PPYoloELoss/loss=1.78, PPYoloELoss/loss_cls=0.8, PPYoloELoss/loss_dfl=0.549, PPYoloELoss/loss_iou=0.428, gpu_mem=6.83]\n",
            "Validating epoch 139: 100%|██████████| 8/8 [00:03<00:00,  2.55it/s]\n"
          ]
        },
        {
          "metadata": {
            "tags": null
          },
          "name": "stdout",
          "output_type": "stream",
          "text": [
            "===========================================================\n",
            "SUMMARY OF EPOCH 139\n",
            "├── Train\n",
            "│   ├── Ppyoloeloss/loss_cls = 0.7997\n",
            "│   │   ├── Epoch N-1      = 0.839  (\u001b[32m↘ -0.0393\u001b[0m)\n",
            "│   │   └── Best until now = 0.7895 (\u001b[31m↗ 0.0102\u001b[0m)\n",
            "│   ├── Ppyoloeloss/loss_iou = 0.4283\n",
            "│   │   ├── Epoch N-1      = 0.4348 (\u001b[32m↘ -0.0066\u001b[0m)\n",
            "│   │   └── Best until now = 0.4113 (\u001b[31m↗ 0.0169\u001b[0m)\n",
            "│   ├── Ppyoloeloss/loss_dfl = 0.5487\n",
            "│   │   ├── Epoch N-1      = 0.5623 (\u001b[32m↘ -0.0136\u001b[0m)\n",
            "│   │   └── Best until now = 0.5229 (\u001b[31m↗ 0.0258\u001b[0m)\n",
            "│   └── Ppyoloeloss/loss = 1.7767\n",
            "│       ├── Epoch N-1      = 1.8361 (\u001b[32m↘ -0.0594\u001b[0m)\n",
            "│       └── Best until now = 1.7274 (\u001b[31m↗ 0.0493\u001b[0m)\n",
            "└── Validation\n",
            "    ├── Ppyoloeloss/loss_cls = 0.7327\n",
            "    │   ├── Epoch N-1      = 0.72   (\u001b[31m↗ 0.0127\u001b[0m)\n",
            "    │   └── Best until now = 0.6828 (\u001b[31m↗ 0.0499\u001b[0m)\n",
            "    ├── Ppyoloeloss/loss_iou = 0.4037\n",
            "    │   ├── Epoch N-1      = 0.4169 (\u001b[32m↘ -0.0132\u001b[0m)\n",
            "    │   └── Best until now = 0.3708 (\u001b[31m↗ 0.033\u001b[0m)\n",
            "    ├── Ppyoloeloss/loss_dfl = 0.5499\n",
            "    │   ├── Epoch N-1      = 0.5755 (\u001b[32m↘ -0.0256\u001b[0m)\n",
            "    │   └── Best until now = 0.5269 (\u001b[31m↗ 0.023\u001b[0m)\n",
            "    ├── Ppyoloeloss/loss = 1.6863\n",
            "    │   ├── Epoch N-1      = 1.7125 (\u001b[32m↘ -0.0261\u001b[0m)\n",
            "    │   └── Best until now = 1.6541 (\u001b[31m↗ 0.0322\u001b[0m)\n",
            "    ├── Precision@0.50 = 0.1014\n",
            "    │   ├── Epoch N-1      = 0.0831 (\u001b[32m↗ 0.0183\u001b[0m)\n",
            "    │   └── Best until now = 0.1599 (\u001b[31m↘ -0.0585\u001b[0m)\n",
            "    ├── Recall@0.50 = 0.9516\n",
            "    │   ├── Epoch N-1      = 0.9677 (\u001b[31m↘ -0.0161\u001b[0m)\n",
            "    │   └── Best until now = 0.9839 (\u001b[31m↘ -0.0323\u001b[0m)\n",
            "    ├── Map@0.50 = 0.8933\n",
            "    │   ├── Epoch N-1      = 0.9149 (\u001b[31m↘ -0.0216\u001b[0m)\n",
            "    │   └── Best until now = 0.9511 (\u001b[31m↘ -0.0577\u001b[0m)\n",
            "    └── F1@0.50 = 0.1832\n",
            "        ├── Epoch N-1      = 0.1531 (\u001b[32m↗ 0.0302\u001b[0m)\n",
            "        └── Best until now = 0.2738 (\u001b[31m↘ -0.0906\u001b[0m)\n",
            "\n",
            "===========================================================\n"
          ]
        },
        {
          "metadata": {
            "tags": null
          },
          "name": "stderr",
          "output_type": "stream",
          "text": [
            "Train epoch 140: 100%|██████████| 26/26 [00:18<00:00,  1.41it/s, PPYoloELoss/loss=1.81, PPYoloELoss/loss_cls=0.822, PPYoloELoss/loss_dfl=0.555, PPYoloELoss/loss_iou=0.431, gpu_mem=6.83]\n",
            "Validating epoch 140: 100%|██████████| 8/8 [00:03<00:00,  2.64it/s]\n"
          ]
        },
        {
          "metadata": {
            "tags": null
          },
          "name": "stdout",
          "output_type": "stream",
          "text": [
            "===========================================================\n",
            "SUMMARY OF EPOCH 140\n",
            "├── Train\n",
            "│   ├── Ppyoloeloss/loss_cls = 0.8221\n",
            "│   │   ├── Epoch N-1      = 0.7997 (\u001b[31m↗ 0.0224\u001b[0m)\n",
            "│   │   └── Best until now = 0.7895 (\u001b[31m↗ 0.0326\u001b[0m)\n",
            "│   ├── Ppyoloeloss/loss_iou = 0.4311\n",
            "│   │   ├── Epoch N-1      = 0.4283 (\u001b[31m↗ 0.0029\u001b[0m)\n",
            "│   │   └── Best until now = 0.4113 (\u001b[31m↗ 0.0198\u001b[0m)\n",
            "│   ├── Ppyoloeloss/loss_dfl = 0.5546\n",
            "│   │   ├── Epoch N-1      = 0.5487 (\u001b[31m↗ 0.0059\u001b[0m)\n",
            "│   │   └── Best until now = 0.5229 (\u001b[31m↗ 0.0317\u001b[0m)\n",
            "│   └── Ppyoloeloss/loss = 1.8079\n",
            "│       ├── Epoch N-1      = 1.7767 (\u001b[31m↗ 0.0312\u001b[0m)\n",
            "│       └── Best until now = 1.7274 (\u001b[31m↗ 0.0805\u001b[0m)\n",
            "└── Validation\n",
            "    ├── Ppyoloeloss/loss_cls = 0.7465\n",
            "    │   ├── Epoch N-1      = 0.7327 (\u001b[31m↗ 0.0138\u001b[0m)\n",
            "    │   └── Best until now = 0.6828 (\u001b[31m↗ 0.0637\u001b[0m)\n",
            "    ├── Ppyoloeloss/loss_iou = 0.4167\n",
            "    │   ├── Epoch N-1      = 0.4037 (\u001b[31m↗ 0.013\u001b[0m)\n",
            "    │   └── Best until now = 0.3708 (\u001b[31m↗ 0.0459\u001b[0m)\n",
            "    ├── Ppyoloeloss/loss_dfl = 0.5661\n",
            "    │   ├── Epoch N-1      = 0.5499 (\u001b[31m↗ 0.0162\u001b[0m)\n",
            "    │   └── Best until now = 0.5269 (\u001b[31m↗ 0.0392\u001b[0m)\n",
            "    ├── Ppyoloeloss/loss = 1.7292\n",
            "    │   ├── Epoch N-1      = 1.6863 (\u001b[31m↗ 0.0429\u001b[0m)\n",
            "    │   └── Best until now = 1.6541 (\u001b[31m↗ 0.0751\u001b[0m)\n",
            "    ├── Precision@0.50 = 0.1535\n",
            "    │   ├── Epoch N-1      = 0.1014 (\u001b[32m↗ 0.0521\u001b[0m)\n",
            "    │   └── Best until now = 0.1599 (\u001b[31m↘ -0.0064\u001b[0m)\n",
            "    ├── Recall@0.50 = 0.9677\n",
            "    │   ├── Epoch N-1      = 0.9516 (\u001b[32m↗ 0.0161\u001b[0m)\n",
            "    │   └── Best until now = 0.9839 (\u001b[31m↘ -0.0161\u001b[0m)\n",
            "    ├── Map@0.50 = 0.8971\n",
            "    │   ├── Epoch N-1      = 0.8933 (\u001b[32m↗ 0.0038\u001b[0m)\n",
            "    │   └── Best until now = 0.9511 (\u001b[31m↘ -0.0539\u001b[0m)\n",
            "    └── F1@0.50 = 0.2649\n",
            "        ├── Epoch N-1      = 0.1832 (\u001b[32m↗ 0.0817\u001b[0m)\n",
            "        └── Best until now = 0.2738 (\u001b[31m↘ -0.0089\u001b[0m)\n",
            "\n",
            "===========================================================\n"
          ]
        },
        {
          "metadata": {
            "tags": null
          },
          "name": "stderr",
          "output_type": "stream",
          "text": [
            "Train epoch 141: 100%|██████████| 26/26 [00:18<00:00,  1.44it/s, PPYoloELoss/loss=1.82, PPYoloELoss/loss_cls=0.824, PPYoloELoss/loss_dfl=0.561, PPYoloELoss/loss_iou=0.432, gpu_mem=6.83]\n",
            "Validating epoch 141: 100%|██████████| 8/8 [00:03<00:00,  2.54it/s]\n"
          ]
        },
        {
          "metadata": {
            "tags": null
          },
          "name": "stdout",
          "output_type": "stream",
          "text": [
            "===========================================================\n",
            "SUMMARY OF EPOCH 141\n",
            "├── Train\n",
            "│   ├── Ppyoloeloss/loss_cls = 0.8236\n",
            "│   │   ├── Epoch N-1      = 0.8221 (\u001b[31m↗ 0.0015\u001b[0m)\n",
            "│   │   └── Best until now = 0.7895 (\u001b[31m↗ 0.0341\u001b[0m)\n",
            "│   ├── Ppyoloeloss/loss_iou = 0.4318\n",
            "│   │   ├── Epoch N-1      = 0.4311 (\u001b[31m↗ 0.0007\u001b[0m)\n",
            "│   │   └── Best until now = 0.4113 (\u001b[31m↗ 0.0205\u001b[0m)\n",
            "│   ├── Ppyoloeloss/loss_dfl = 0.5613\n",
            "│   │   ├── Epoch N-1      = 0.5546 (\u001b[31m↗ 0.0067\u001b[0m)\n",
            "│   │   └── Best until now = 0.5229 (\u001b[31m↗ 0.0384\u001b[0m)\n",
            "│   └── Ppyoloeloss/loss = 1.8167\n",
            "│       ├── Epoch N-1      = 1.8079 (\u001b[31m↗ 0.0088\u001b[0m)\n",
            "│       └── Best until now = 1.7274 (\u001b[31m↗ 0.0893\u001b[0m)\n",
            "└── Validation\n",
            "    ├── Ppyoloeloss/loss_cls = 0.8237\n",
            "    │   ├── Epoch N-1      = 0.7465 (\u001b[31m↗ 0.0773\u001b[0m)\n",
            "    │   └── Best until now = 0.6828 (\u001b[31m↗ 0.141\u001b[0m)\n",
            "    ├── Ppyoloeloss/loss_iou = 0.4376\n",
            "    │   ├── Epoch N-1      = 0.4167 (\u001b[31m↗ 0.021\u001b[0m)\n",
            "    │   └── Best until now = 0.3708 (\u001b[31m↗ 0.0669\u001b[0m)\n",
            "    ├── Ppyoloeloss/loss_dfl = 0.5888\n",
            "    │   ├── Epoch N-1      = 0.5661 (\u001b[31m↗ 0.0227\u001b[0m)\n",
            "    │   └── Best until now = 0.5269 (\u001b[31m↗ 0.0619\u001b[0m)\n",
            "    ├── Ppyoloeloss/loss = 1.8502\n",
            "    │   ├── Epoch N-1      = 1.7292 (\u001b[31m↗ 0.1209\u001b[0m)\n",
            "    │   └── Best until now = 1.6541 (\u001b[31m↗ 0.196\u001b[0m)\n",
            "    ├── Precision@0.50 = 0.0466\n",
            "    │   ├── Epoch N-1      = 0.1535 (\u001b[31m↘ -0.1068\u001b[0m)\n",
            "    │   └── Best until now = 0.1599 (\u001b[31m↘ -0.1133\u001b[0m)\n",
            "    ├── Recall@0.50 = 0.9677\n",
            "    │   ├── Epoch N-1      = 0.9677 (\u001b[37m= 0.0\u001b[0m)\n",
            "    │   └── Best until now = 0.9839 (\u001b[31m↘ -0.0161\u001b[0m)\n",
            "    ├── Map@0.50 = 0.8603\n",
            "    │   ├── Epoch N-1      = 0.8971 (\u001b[31m↘ -0.0369\u001b[0m)\n",
            "    │   └── Best until now = 0.9511 (\u001b[31m↘ -0.0908\u001b[0m)\n",
            "    └── F1@0.50 = 0.089\n",
            "        ├── Epoch N-1      = 0.2649 (\u001b[31m↘ -0.1759\u001b[0m)\n",
            "        └── Best until now = 0.2738 (\u001b[31m↘ -0.1848\u001b[0m)\n",
            "\n",
            "===========================================================\n"
          ]
        },
        {
          "metadata": {
            "tags": null
          },
          "name": "stderr",
          "output_type": "stream",
          "text": [
            "Train epoch 142: 100%|██████████| 26/26 [00:18<00:00,  1.42it/s, PPYoloELoss/loss=1.76, PPYoloELoss/loss_cls=0.799, PPYoloELoss/loss_dfl=0.538, PPYoloELoss/loss_iou=0.422, gpu_mem=6.83]\n",
            "Validating epoch 142: 100%|██████████| 8/8 [00:03<00:00,  2.54it/s]\n"
          ]
        },
        {
          "metadata": {
            "tags": null
          },
          "name": "stdout",
          "output_type": "stream",
          "text": [
            "===========================================================\n",
            "SUMMARY OF EPOCH 142\n",
            "├── Train\n",
            "│   ├── Ppyoloeloss/loss_cls = 0.7988\n",
            "│   │   ├── Epoch N-1      = 0.8236 (\u001b[32m↘ -0.0248\u001b[0m)\n",
            "│   │   └── Best until now = 0.7895 (\u001b[31m↗ 0.0093\u001b[0m)\n",
            "│   ├── Ppyoloeloss/loss_iou = 0.4221\n",
            "│   │   ├── Epoch N-1      = 0.4318 (\u001b[32m↘ -0.0097\u001b[0m)\n",
            "│   │   └── Best until now = 0.4113 (\u001b[31m↗ 0.0108\u001b[0m)\n",
            "│   ├── Ppyoloeloss/loss_dfl = 0.5378\n",
            "│   │   ├── Epoch N-1      = 0.5613 (\u001b[32m↘ -0.0235\u001b[0m)\n",
            "│   │   └── Best until now = 0.5229 (\u001b[31m↗ 0.0149\u001b[0m)\n",
            "│   └── Ppyoloeloss/loss = 1.7586\n",
            "│       ├── Epoch N-1      = 1.8167 (\u001b[32m↘ -0.0581\u001b[0m)\n",
            "│       └── Best until now = 1.7274 (\u001b[31m↗ 0.0312\u001b[0m)\n",
            "└── Validation\n",
            "    ├── Ppyoloeloss/loss_cls = 0.7418\n",
            "    │   ├── Epoch N-1      = 0.8237 (\u001b[32m↘ -0.0819\u001b[0m)\n",
            "    │   └── Best until now = 0.6828 (\u001b[31m↗ 0.0591\u001b[0m)\n",
            "    ├── Ppyoloeloss/loss_iou = 0.4067\n",
            "    │   ├── Epoch N-1      = 0.4376 (\u001b[32m↘ -0.0309\u001b[0m)\n",
            "    │   └── Best until now = 0.3708 (\u001b[31m↗ 0.036\u001b[0m)\n",
            "    ├── Ppyoloeloss/loss_dfl = 0.5551\n",
            "    │   ├── Epoch N-1      = 0.5888 (\u001b[32m↘ -0.0336\u001b[0m)\n",
            "    │   └── Best until now = 0.5269 (\u001b[31m↗ 0.0282\u001b[0m)\n",
            "    ├── Ppyoloeloss/loss = 1.7037\n",
            "    │   ├── Epoch N-1      = 1.8502 (\u001b[32m↘ -0.1465\u001b[0m)\n",
            "    │   └── Best until now = 1.6541 (\u001b[31m↗ 0.0496\u001b[0m)\n",
            "    ├── Precision@0.50 = 0.0566\n",
            "    │   ├── Epoch N-1      = 0.0466 (\u001b[32m↗ 0.01\u001b[0m)\n",
            "    │   └── Best until now = 0.1599 (\u001b[31m↘ -0.1033\u001b[0m)\n",
            "    ├── Recall@0.50 = 0.9677\n",
            "    │   ├── Epoch N-1      = 0.9677 (\u001b[37m= 0.0\u001b[0m)\n",
            "    │   └── Best until now = 0.9839 (\u001b[31m↘ -0.0161\u001b[0m)\n",
            "    ├── Map@0.50 = 0.933\n",
            "    │   ├── Epoch N-1      = 0.8603 (\u001b[32m↗ 0.0727\u001b[0m)\n",
            "    │   └── Best until now = 0.9511 (\u001b[31m↘ -0.0181\u001b[0m)\n",
            "    └── F1@0.50 = 0.107\n",
            "        ├── Epoch N-1      = 0.089  (\u001b[32m↗ 0.018\u001b[0m)\n",
            "        └── Best until now = 0.2738 (\u001b[31m↘ -0.1668\u001b[0m)\n",
            "\n",
            "===========================================================\n"
          ]
        },
        {
          "metadata": {
            "tags": null
          },
          "name": "stderr",
          "output_type": "stream",
          "text": [
            "Train epoch 143: 100%|██████████| 26/26 [00:17<00:00,  1.45it/s, PPYoloELoss/loss=1.78, PPYoloELoss/loss_cls=0.805, PPYoloELoss/loss_dfl=0.547, PPYoloELoss/loss_iou=0.424, gpu_mem=6.82]\n",
            "Validating epoch 143: 100%|██████████| 8/8 [00:03<00:00,  2.66it/s]\n"
          ]
        },
        {
          "metadata": {
            "tags": null
          },
          "name": "stdout",
          "output_type": "stream",
          "text": [
            "===========================================================\n",
            "SUMMARY OF EPOCH 143\n",
            "├── Train\n",
            "│   ├── Ppyoloeloss/loss_cls = 0.8053\n",
            "│   │   ├── Epoch N-1      = 0.7988 (\u001b[31m↗ 0.0066\u001b[0m)\n",
            "│   │   └── Best until now = 0.7895 (\u001b[31m↗ 0.0158\u001b[0m)\n",
            "│   ├── Ppyoloeloss/loss_iou = 0.4241\n",
            "│   │   ├── Epoch N-1      = 0.4221 (\u001b[31m↗ 0.0021\u001b[0m)\n",
            "│   │   └── Best until now = 0.4113 (\u001b[31m↗ 0.0128\u001b[0m)\n",
            "│   ├── Ppyoloeloss/loss_dfl = 0.5474\n",
            "│   │   ├── Epoch N-1      = 0.5378 (\u001b[31m↗ 0.0096\u001b[0m)\n",
            "│   │   └── Best until now = 0.5229 (\u001b[31m↗ 0.0244\u001b[0m)\n",
            "│   └── Ppyoloeloss/loss = 1.7768\n",
            "│       ├── Epoch N-1      = 1.7586 (\u001b[31m↗ 0.0182\u001b[0m)\n",
            "│       └── Best until now = 1.7274 (\u001b[31m↗ 0.0494\u001b[0m)\n",
            "└── Validation\n",
            "    ├── Ppyoloeloss/loss_cls = 0.8213\n",
            "    │   ├── Epoch N-1      = 0.7418 (\u001b[31m↗ 0.0795\u001b[0m)\n",
            "    │   └── Best until now = 0.6828 (\u001b[31m↗ 0.1386\u001b[0m)\n",
            "    ├── Ppyoloeloss/loss_iou = 0.3989\n",
            "    │   ├── Epoch N-1      = 0.4067 (\u001b[32m↘ -0.0078\u001b[0m)\n",
            "    │   └── Best until now = 0.3708 (\u001b[31m↗ 0.0282\u001b[0m)\n",
            "    ├── Ppyoloeloss/loss_dfl = 0.5611\n",
            "    │   ├── Epoch N-1      = 0.5551 (\u001b[31m↗ 0.006\u001b[0m)\n",
            "    │   └── Best until now = 0.5269 (\u001b[31m↗ 0.0342\u001b[0m)\n",
            "    ├── Ppyoloeloss/loss = 1.7814\n",
            "    │   ├── Epoch N-1      = 1.7037 (\u001b[31m↗ 0.0777\u001b[0m)\n",
            "    │   └── Best until now = 1.6541 (\u001b[31m↗ 0.1272\u001b[0m)\n",
            "    ├── Precision@0.50 = 0.0486\n",
            "    │   ├── Epoch N-1      = 0.0566 (\u001b[31m↘ -0.008\u001b[0m)\n",
            "    │   └── Best until now = 0.1599 (\u001b[31m↘ -0.1113\u001b[0m)\n",
            "    ├── Recall@0.50 = 0.9516\n",
            "    │   ├── Epoch N-1      = 0.9677 (\u001b[31m↘ -0.0161\u001b[0m)\n",
            "    │   └── Best until now = 0.9839 (\u001b[31m↘ -0.0323\u001b[0m)\n",
            "    ├── Map@0.50 = 0.8639\n",
            "    │   ├── Epoch N-1      = 0.933  (\u001b[31m↘ -0.0691\u001b[0m)\n",
            "    │   └── Best until now = 0.9511 (\u001b[31m↘ -0.0871\u001b[0m)\n",
            "    └── F1@0.50 = 0.0925\n",
            "        ├── Epoch N-1      = 0.107  (\u001b[31m↘ -0.0144\u001b[0m)\n",
            "        └── Best until now = 0.2738 (\u001b[31m↘ -0.1812\u001b[0m)\n",
            "\n",
            "===========================================================\n"
          ]
        },
        {
          "metadata": {
            "tags": null
          },
          "name": "stderr",
          "output_type": "stream",
          "text": [
            "Train epoch 144: 100%|██████████| 26/26 [00:17<00:00,  1.46it/s, PPYoloELoss/loss=1.76, PPYoloELoss/loss_cls=0.791, PPYoloELoss/loss_dfl=0.542, PPYoloELoss/loss_iou=0.427, gpu_mem=6.83]\n",
            "Validating epoch 144: 100%|██████████| 8/8 [00:02<00:00,  2.67it/s]\n"
          ]
        },
        {
          "metadata": {
            "tags": null
          },
          "name": "stdout",
          "output_type": "stream",
          "text": [
            "===========================================================\n",
            "SUMMARY OF EPOCH 144\n",
            "├── Train\n",
            "│   ├── Ppyoloeloss/loss_cls = 0.7907\n",
            "│   │   ├── Epoch N-1      = 0.8053 (\u001b[32m↘ -0.0146\u001b[0m)\n",
            "│   │   └── Best until now = 0.7895 (\u001b[31m↗ 0.0012\u001b[0m)\n",
            "│   ├── Ppyoloeloss/loss_iou = 0.4266\n",
            "│   │   ├── Epoch N-1      = 0.4241 (\u001b[31m↗ 0.0024\u001b[0m)\n",
            "│   │   └── Best until now = 0.4113 (\u001b[31m↗ 0.0153\u001b[0m)\n",
            "│   ├── Ppyoloeloss/loss_dfl = 0.5415\n",
            "│   │   ├── Epoch N-1      = 0.5474 (\u001b[32m↘ -0.0058\u001b[0m)\n",
            "│   │   └── Best until now = 0.5229 (\u001b[31m↗ 0.0186\u001b[0m)\n",
            "│   └── Ppyoloeloss/loss = 1.7589\n",
            "│       ├── Epoch N-1      = 1.7768 (\u001b[32m↘ -0.018\u001b[0m)\n",
            "│       └── Best until now = 1.7274 (\u001b[31m↗ 0.0314\u001b[0m)\n",
            "└── Validation\n",
            "    ├── Ppyoloeloss/loss_cls = 0.8149\n",
            "    │   ├── Epoch N-1      = 0.8213 (\u001b[32m↘ -0.0065\u001b[0m)\n",
            "    │   └── Best until now = 0.6828 (\u001b[31m↗ 0.1321\u001b[0m)\n",
            "    ├── Ppyoloeloss/loss_iou = 0.4125\n",
            "    │   ├── Epoch N-1      = 0.3989 (\u001b[31m↗ 0.0135\u001b[0m)\n",
            "    │   └── Best until now = 0.3708 (\u001b[31m↗ 0.0417\u001b[0m)\n",
            "    ├── Ppyoloeloss/loss_dfl = 0.5656\n",
            "    │   ├── Epoch N-1      = 0.5611 (\u001b[31m↗ 0.0045\u001b[0m)\n",
            "    │   └── Best until now = 0.5269 (\u001b[31m↗ 0.0387\u001b[0m)\n",
            "    ├── Ppyoloeloss/loss = 1.7929\n",
            "    │   ├── Epoch N-1      = 1.7814 (\u001b[31m↗ 0.0116\u001b[0m)\n",
            "    │   └── Best until now = 1.6541 (\u001b[31m↗ 0.1388\u001b[0m)\n",
            "    ├── Precision@0.50 = 0.037\n",
            "    │   ├── Epoch N-1      = 0.0486 (\u001b[31m↘ -0.0116\u001b[0m)\n",
            "    │   └── Best until now = 0.1599 (\u001b[31m↘ -0.1229\u001b[0m)\n",
            "    ├── Recall@0.50 = 0.9677\n",
            "    │   ├── Epoch N-1      = 0.9516 (\u001b[32m↗ 0.0161\u001b[0m)\n",
            "    │   └── Best until now = 0.9839 (\u001b[31m↘ -0.0161\u001b[0m)\n",
            "    ├── Map@0.50 = 0.8964\n",
            "    │   ├── Epoch N-1      = 0.8639 (\u001b[32m↗ 0.0325\u001b[0m)\n",
            "    │   └── Best until now = 0.9511 (\u001b[31m↘ -0.0547\u001b[0m)\n",
            "    └── F1@0.50 = 0.0713\n",
            "        ├── Epoch N-1      = 0.0925 (\u001b[31m↘ -0.0212\u001b[0m)\n",
            "        └── Best until now = 0.2738 (\u001b[31m↘ -0.2025\u001b[0m)\n",
            "\n",
            "===========================================================\n"
          ]
        },
        {
          "metadata": {
            "tags": null
          },
          "name": "stderr",
          "output_type": "stream",
          "text": [
            "Train epoch 145: 100%|██████████| 26/26 [00:17<00:00,  1.46it/s, PPYoloELoss/loss=1.75, PPYoloELoss/loss_cls=0.793, PPYoloELoss/loss_dfl=0.545, PPYoloELoss/loss_iou=0.414, gpu_mem=6.84]\n",
            "Validating epoch 145: 100%|██████████| 8/8 [00:02<00:00,  2.67it/s]\n"
          ]
        },
        {
          "metadata": {
            "tags": null
          },
          "name": "stdout",
          "output_type": "stream",
          "text": [
            "===========================================================\n",
            "SUMMARY OF EPOCH 145\n",
            "├── Train\n",
            "│   ├── Ppyoloeloss/loss_cls = 0.7926\n",
            "│   │   ├── Epoch N-1      = 0.7907 (\u001b[31m↗ 0.0019\u001b[0m)\n",
            "│   │   └── Best until now = 0.7895 (\u001b[31m↗ 0.0031\u001b[0m)\n",
            "│   ├── Ppyoloeloss/loss_iou = 0.4141\n",
            "│   │   ├── Epoch N-1      = 0.4266 (\u001b[32m↘ -0.0125\u001b[0m)\n",
            "│   │   └── Best until now = 0.4113 (\u001b[31m↗ 0.0028\u001b[0m)\n",
            "│   ├── Ppyoloeloss/loss_dfl = 0.5454\n",
            "│   │   ├── Epoch N-1      = 0.5415 (\u001b[31m↗ 0.0039\u001b[0m)\n",
            "│   │   └── Best until now = 0.5229 (\u001b[31m↗ 0.0225\u001b[0m)\n",
            "│   └── Ppyoloeloss/loss = 1.7521\n",
            "│       ├── Epoch N-1      = 1.7589 (\u001b[32m↘ -0.0068\u001b[0m)\n",
            "│       └── Best until now = 1.7274 (\u001b[31m↗ 0.0247\u001b[0m)\n",
            "└── Validation\n",
            "    ├── Ppyoloeloss/loss_cls = 0.7872\n",
            "    │   ├── Epoch N-1      = 0.8149 (\u001b[32m↘ -0.0277\u001b[0m)\n",
            "    │   └── Best until now = 0.6828 (\u001b[31m↗ 0.1044\u001b[0m)\n",
            "    ├── Ppyoloeloss/loss_iou = 0.4191\n",
            "    │   ├── Epoch N-1      = 0.4125 (\u001b[31m↗ 0.0067\u001b[0m)\n",
            "    │   └── Best until now = 0.3708 (\u001b[31m↗ 0.0484\u001b[0m)\n",
            "    ├── Ppyoloeloss/loss_dfl = 0.5777\n",
            "    │   ├── Epoch N-1      = 0.5656 (\u001b[31m↗ 0.0121\u001b[0m)\n",
            "    │   └── Best until now = 0.5269 (\u001b[31m↗ 0.0508\u001b[0m)\n",
            "    ├── Ppyoloeloss/loss = 1.7841\n",
            "    │   ├── Epoch N-1      = 1.7929 (\u001b[32m↘ -0.0089\u001b[0m)\n",
            "    │   └── Best until now = 1.6541 (\u001b[31m↗ 0.1299\u001b[0m)\n",
            "    ├── Precision@0.50 = 0.0589\n",
            "    │   ├── Epoch N-1      = 0.037  (\u001b[32m↗ 0.0219\u001b[0m)\n",
            "    │   └── Best until now = 0.1599 (\u001b[31m↘ -0.101\u001b[0m)\n",
            "    ├── Recall@0.50 = 0.9677\n",
            "    │   ├── Epoch N-1      = 0.9677 (\u001b[37m= 0.0\u001b[0m)\n",
            "    │   └── Best until now = 0.9839 (\u001b[31m↘ -0.0161\u001b[0m)\n",
            "    ├── Map@0.50 = 0.8952\n",
            "    │   ├── Epoch N-1      = 0.8964 (\u001b[31m↘ -0.0012\u001b[0m)\n",
            "    │   └── Best until now = 0.9511 (\u001b[31m↘ -0.0558\u001b[0m)\n",
            "    └── F1@0.50 = 0.1111\n",
            "        ├── Epoch N-1      = 0.0713 (\u001b[32m↗ 0.0398\u001b[0m)\n",
            "        └── Best until now = 0.2738 (\u001b[31m↘ -0.1627\u001b[0m)\n",
            "\n",
            "===========================================================\n"
          ]
        },
        {
          "metadata": {
            "tags": null
          },
          "name": "stderr",
          "output_type": "stream",
          "text": [
            "Train epoch 146: 100%|██████████| 26/26 [00:17<00:00,  1.45it/s, PPYoloELoss/loss=1.71, PPYoloELoss/loss_cls=0.775, PPYoloELoss/loss_dfl=0.521, PPYoloELoss/loss_iou=0.412, gpu_mem=6.84]\n",
            "Validating epoch 146: 100%|██████████| 8/8 [00:03<00:00,  2.45it/s]\n"
          ]
        },
        {
          "metadata": {
            "tags": null
          },
          "name": "stdout",
          "output_type": "stream",
          "text": [
            "===========================================================\n",
            "SUMMARY OF EPOCH 146\n",
            "├── Train\n",
            "│   ├── Ppyoloeloss/loss_cls = 0.7753\n",
            "│   │   ├── Epoch N-1      = 0.7926 (\u001b[32m↘ -0.0173\u001b[0m)\n",
            "│   │   └── Best until now = 0.7895 (\u001b[32m↘ -0.0142\u001b[0m)\n",
            "│   ├── Ppyoloeloss/loss_iou = 0.4122\n",
            "│   │   ├── Epoch N-1      = 0.4141 (\u001b[32m↘ -0.0019\u001b[0m)\n",
            "│   │   └── Best until now = 0.4113 (\u001b[31m↗ 0.0009\u001b[0m)\n",
            "│   ├── Ppyoloeloss/loss_dfl = 0.5208\n",
            "│   │   ├── Epoch N-1      = 0.5454 (\u001b[32m↘ -0.0247\u001b[0m)\n",
            "│   │   └── Best until now = 0.5229 (\u001b[32m↘ -0.0021\u001b[0m)\n",
            "│   └── Ppyoloeloss/loss = 1.7083\n",
            "│       ├── Epoch N-1      = 1.7521 (\u001b[32m↘ -0.0438\u001b[0m)\n",
            "│       └── Best until now = 1.7274 (\u001b[32m↘ -0.0192\u001b[0m)\n",
            "└── Validation\n",
            "    ├── Ppyoloeloss/loss_cls = 0.7589\n",
            "    │   ├── Epoch N-1      = 0.7872 (\u001b[32m↘ -0.0283\u001b[0m)\n",
            "    │   └── Best until now = 0.6828 (\u001b[31m↗ 0.0761\u001b[0m)\n",
            "    ├── Ppyoloeloss/loss_iou = 0.3998\n",
            "    │   ├── Epoch N-1      = 0.4191 (\u001b[32m↘ -0.0193\u001b[0m)\n",
            "    │   └── Best until now = 0.3708 (\u001b[31m↗ 0.0291\u001b[0m)\n",
            "    ├── Ppyoloeloss/loss_dfl = 0.5431\n",
            "    │   ├── Epoch N-1      = 0.5777 (\u001b[32m↘ -0.0347\u001b[0m)\n",
            "    │   └── Best until now = 0.5269 (\u001b[31m↗ 0.0162\u001b[0m)\n",
            "    ├── Ppyoloeloss/loss = 1.7017\n",
            "    │   ├── Epoch N-1      = 1.7841 (\u001b[32m↘ -0.0823\u001b[0m)\n",
            "    │   └── Best until now = 1.6541 (\u001b[31m↗ 0.0476\u001b[0m)\n",
            "    ├── Precision@0.50 = 0.125\n",
            "    │   ├── Epoch N-1      = 0.0589 (\u001b[32m↗ 0.0661\u001b[0m)\n",
            "    │   └── Best until now = 0.1599 (\u001b[31m↘ -0.0349\u001b[0m)\n",
            "    ├── Recall@0.50 = 0.9677\n",
            "    │   ├── Epoch N-1      = 0.9677 (\u001b[37m= 0.0\u001b[0m)\n",
            "    │   └── Best until now = 0.9839 (\u001b[31m↘ -0.0161\u001b[0m)\n",
            "    ├── Map@0.50 = 0.9023\n",
            "    │   ├── Epoch N-1      = 0.8952 (\u001b[32m↗ 0.0071\u001b[0m)\n",
            "    │   └── Best until now = 0.9511 (\u001b[31m↘ -0.0488\u001b[0m)\n",
            "    └── F1@0.50 = 0.2214\n",
            "        ├── Epoch N-1      = 0.1111 (\u001b[32m↗ 0.1103\u001b[0m)\n",
            "        └── Best until now = 0.2738 (\u001b[31m↘ -0.0524\u001b[0m)\n",
            "\n",
            "===========================================================\n"
          ]
        },
        {
          "metadata": {
            "tags": null
          },
          "name": "stderr",
          "output_type": "stream",
          "text": [
            "Train epoch 147: 100%|██████████| 26/26 [00:18<00:00,  1.38it/s, PPYoloELoss/loss=1.78, PPYoloELoss/loss_cls=0.825, PPYoloELoss/loss_dfl=0.538, PPYoloELoss/loss_iou=0.418, gpu_mem=6.82]\n",
            "Validating epoch 147: 100%|██████████| 8/8 [00:03<00:00,  2.67it/s]\n"
          ]
        },
        {
          "metadata": {
            "tags": null
          },
          "name": "stdout",
          "output_type": "stream",
          "text": [
            "===========================================================\n",
            "SUMMARY OF EPOCH 147\n",
            "├── Train\n",
            "│   ├── Ppyoloeloss/loss_cls = 0.8249\n",
            "│   │   ├── Epoch N-1      = 0.7753 (\u001b[31m↗ 0.0496\u001b[0m)\n",
            "│   │   └── Best until now = 0.7753 (\u001b[31m↗ 0.0496\u001b[0m)\n",
            "│   ├── Ppyoloeloss/loss_iou = 0.4178\n",
            "│   │   ├── Epoch N-1      = 0.4122 (\u001b[31m↗ 0.0056\u001b[0m)\n",
            "│   │   └── Best until now = 0.4113 (\u001b[31m↗ 0.0065\u001b[0m)\n",
            "│   ├── Ppyoloeloss/loss_dfl = 0.5377\n",
            "│   │   ├── Epoch N-1      = 0.5208 (\u001b[31m↗ 0.0169\u001b[0m)\n",
            "│   │   └── Best until now = 0.5208 (\u001b[31m↗ 0.0169\u001b[0m)\n",
            "│   └── Ppyoloeloss/loss = 1.7804\n",
            "│       ├── Epoch N-1      = 1.7083 (\u001b[31m↗ 0.0722\u001b[0m)\n",
            "│       └── Best until now = 1.7083 (\u001b[31m↗ 0.0722\u001b[0m)\n",
            "└── Validation\n",
            "    ├── Ppyoloeloss/loss_cls = 0.8668\n",
            "    │   ├── Epoch N-1      = 0.7589 (\u001b[31m↗ 0.1079\u001b[0m)\n",
            "    │   └── Best until now = 0.6828 (\u001b[31m↗ 0.184\u001b[0m)\n",
            "    ├── Ppyoloeloss/loss_iou = 0.4488\n",
            "    │   ├── Epoch N-1      = 0.3998 (\u001b[31m↗ 0.049\u001b[0m)\n",
            "    │   └── Best until now = 0.3708 (\u001b[31m↗ 0.078\u001b[0m)\n",
            "    ├── Ppyoloeloss/loss_dfl = 0.5955\n",
            "    │   ├── Epoch N-1      = 0.5431 (\u001b[31m↗ 0.0525\u001b[0m)\n",
            "    │   └── Best until now = 0.5269 (\u001b[31m↗ 0.0686\u001b[0m)\n",
            "    ├── Ppyoloeloss/loss = 1.9112\n",
            "    │   ├── Epoch N-1      = 1.7017 (\u001b[31m↗ 0.2094\u001b[0m)\n",
            "    │   └── Best until now = 1.6541 (\u001b[31m↗ 0.257\u001b[0m)\n",
            "    ├── Precision@0.50 = 0.0381\n",
            "    │   ├── Epoch N-1      = 0.125  (\u001b[31m↘ -0.0869\u001b[0m)\n",
            "    │   └── Best until now = 0.1599 (\u001b[31m↘ -0.1218\u001b[0m)\n",
            "    ├── Recall@0.50 = 0.9677\n",
            "    │   ├── Epoch N-1      = 0.9677 (\u001b[37m= 0.0\u001b[0m)\n",
            "    │   └── Best until now = 0.9839 (\u001b[31m↘ -0.0161\u001b[0m)\n",
            "    ├── Map@0.50 = 0.8368\n",
            "    │   ├── Epoch N-1      = 0.9023 (\u001b[31m↘ -0.0655\u001b[0m)\n",
            "    │   └── Best until now = 0.9511 (\u001b[31m↘ -0.1143\u001b[0m)\n",
            "    └── F1@0.50 = 0.0733\n",
            "        ├── Epoch N-1      = 0.2214 (\u001b[31m↘ -0.1481\u001b[0m)\n",
            "        └── Best until now = 0.2738 (\u001b[31m↘ -0.2004\u001b[0m)\n",
            "\n",
            "===========================================================\n"
          ]
        },
        {
          "metadata": {
            "tags": null
          },
          "name": "stderr",
          "output_type": "stream",
          "text": [
            "Train epoch 148: 100%|██████████| 26/26 [00:18<00:00,  1.43it/s, PPYoloELoss/loss=1.79, PPYoloELoss/loss_cls=0.818, PPYoloELoss/loss_dfl=0.542, PPYoloELoss/loss_iou=0.431, gpu_mem=6.96]\n",
            "Validating epoch 148: 100%|██████████| 8/8 [00:03<00:00,  2.48it/s]\n"
          ]
        },
        {
          "metadata": {
            "tags": null
          },
          "name": "stdout",
          "output_type": "stream",
          "text": [
            "===========================================================\n",
            "SUMMARY OF EPOCH 148\n",
            "├── Train\n",
            "│   ├── Ppyoloeloss/loss_cls = 0.8176\n",
            "│   │   ├── Epoch N-1      = 0.8249 (\u001b[32m↘ -0.0073\u001b[0m)\n",
            "│   │   └── Best until now = 0.7753 (\u001b[31m↗ 0.0423\u001b[0m)\n",
            "│   ├── Ppyoloeloss/loss_iou = 0.4309\n",
            "│   │   ├── Epoch N-1      = 0.4178 (\u001b[31m↗ 0.0131\u001b[0m)\n",
            "│   │   └── Best until now = 0.4113 (\u001b[31m↗ 0.0196\u001b[0m)\n",
            "│   ├── Ppyoloeloss/loss_dfl = 0.5422\n",
            "│   │   ├── Epoch N-1      = 0.5377 (\u001b[31m↗ 0.0045\u001b[0m)\n",
            "│   │   └── Best until now = 0.5208 (\u001b[31m↗ 0.0214\u001b[0m)\n",
            "│   └── Ppyoloeloss/loss = 1.7907\n",
            "│       ├── Epoch N-1      = 1.7804 (\u001b[31m↗ 0.0103\u001b[0m)\n",
            "│       └── Best until now = 1.7083 (\u001b[31m↗ 0.0824\u001b[0m)\n",
            "└── Validation\n",
            "    ├── Ppyoloeloss/loss_cls = 0.7885\n",
            "    │   ├── Epoch N-1      = 0.8668 (\u001b[32m↘ -0.0783\u001b[0m)\n",
            "    │   └── Best until now = 0.6828 (\u001b[31m↗ 0.1058\u001b[0m)\n",
            "    ├── Ppyoloeloss/loss_iou = 0.4087\n",
            "    │   ├── Epoch N-1      = 0.4488 (\u001b[32m↘ -0.0401\u001b[0m)\n",
            "    │   └── Best until now = 0.3708 (\u001b[31m↗ 0.038\u001b[0m)\n",
            "    ├── Ppyoloeloss/loss_dfl = 0.5556\n",
            "    │   ├── Epoch N-1      = 0.5955 (\u001b[32m↘ -0.0399\u001b[0m)\n",
            "    │   └── Best until now = 0.5269 (\u001b[31m↗ 0.0287\u001b[0m)\n",
            "    ├── Ppyoloeloss/loss = 1.7528\n",
            "    │   ├── Epoch N-1      = 1.9112 (\u001b[32m↘ -0.1583\u001b[0m)\n",
            "    │   └── Best until now = 1.6541 (\u001b[31m↗ 0.0987\u001b[0m)\n",
            "    ├── Precision@0.50 = 0.0381\n",
            "    │   ├── Epoch N-1      = 0.0381 (\u001b[31m↘ -0.0\u001b[0m)\n",
            "    │   └── Best until now = 0.1599 (\u001b[31m↘ -0.1218\u001b[0m)\n",
            "    ├── Recall@0.50 = 0.9677\n",
            "    │   ├── Epoch N-1      = 0.9677 (\u001b[37m= 0.0\u001b[0m)\n",
            "    │   └── Best until now = 0.9839 (\u001b[31m↘ -0.0161\u001b[0m)\n",
            "    ├── Map@0.50 = 0.8997\n",
            "    │   ├── Epoch N-1      = 0.8368 (\u001b[32m↗ 0.063\u001b[0m)\n",
            "    │   └── Best until now = 0.9511 (\u001b[31m↘ -0.0513\u001b[0m)\n",
            "    └── F1@0.50 = 0.0733\n",
            "        ├── Epoch N-1      = 0.0733 (\u001b[31m↘ -0.0001\u001b[0m)\n",
            "        └── Best until now = 0.2738 (\u001b[31m↘ -0.2005\u001b[0m)\n",
            "\n",
            "===========================================================\n"
          ]
        },
        {
          "metadata": {
            "tags": null
          },
          "name": "stderr",
          "output_type": "stream",
          "text": [
            "Train epoch 149: 100%|██████████| 26/26 [00:17<00:00,  1.50it/s, PPYoloELoss/loss=1.85, PPYoloELoss/loss_cls=0.848, PPYoloELoss/loss_dfl=0.56, PPYoloELoss/loss_iou=0.445, gpu_mem=6.98]\n",
            "Validating epoch 149: 100%|██████████| 8/8 [00:02<00:00,  2.68it/s]\n"
          ]
        },
        {
          "metadata": {
            "tags": null
          },
          "name": "stdout",
          "output_type": "stream",
          "text": [
            "===========================================================\n",
            "SUMMARY OF EPOCH 149\n",
            "├── Train\n",
            "│   ├── Ppyoloeloss/loss_cls = 0.8478\n",
            "│   │   ├── Epoch N-1      = 0.8176 (\u001b[31m↗ 0.0302\u001b[0m)\n",
            "│   │   └── Best until now = 0.7753 (\u001b[31m↗ 0.0725\u001b[0m)\n",
            "│   ├── Ppyoloeloss/loss_iou = 0.4451\n",
            "│   │   ├── Epoch N-1      = 0.4309 (\u001b[31m↗ 0.0142\u001b[0m)\n",
            "│   │   └── Best until now = 0.4113 (\u001b[31m↗ 0.0338\u001b[0m)\n",
            "│   ├── Ppyoloeloss/loss_dfl = 0.5599\n",
            "│   │   ├── Epoch N-1      = 0.5422 (\u001b[31m↗ 0.0177\u001b[0m)\n",
            "│   │   └── Best until now = 0.5208 (\u001b[31m↗ 0.0392\u001b[0m)\n",
            "│   └── Ppyoloeloss/loss = 1.8528\n",
            "│       ├── Epoch N-1      = 1.7907 (\u001b[31m↗ 0.0622\u001b[0m)\n",
            "│       └── Best until now = 1.7083 (\u001b[31m↗ 0.1446\u001b[0m)\n",
            "└── Validation\n",
            "    ├── Ppyoloeloss/loss_cls = 0.8428\n",
            "    │   ├── Epoch N-1      = 0.7885 (\u001b[31m↗ 0.0543\u001b[0m)\n",
            "    │   └── Best until now = 0.6828 (\u001b[31m↗ 0.16\u001b[0m)\n",
            "    ├── Ppyoloeloss/loss_iou = 0.4338\n",
            "    │   ├── Epoch N-1      = 0.4087 (\u001b[31m↗ 0.0251\u001b[0m)\n",
            "    │   └── Best until now = 0.3708 (\u001b[31m↗ 0.063\u001b[0m)\n",
            "    ├── Ppyoloeloss/loss_dfl = 0.5706\n",
            "    │   ├── Epoch N-1      = 0.5556 (\u001b[31m↗ 0.015\u001b[0m)\n",
            "    │   └── Best until now = 0.5269 (\u001b[31m↗ 0.0437\u001b[0m)\n",
            "    ├── Ppyoloeloss/loss = 1.8472\n",
            "    │   ├── Epoch N-1      = 1.7528 (\u001b[31m↗ 0.0944\u001b[0m)\n",
            "    │   └── Best until now = 1.6541 (\u001b[31m↗ 0.1931\u001b[0m)\n",
            "    ├── Precision@0.50 = 0.0537\n",
            "    │   ├── Epoch N-1      = 0.0381 (\u001b[32m↗ 0.0156\u001b[0m)\n",
            "    │   └── Best until now = 0.1599 (\u001b[31m↘ -0.1062\u001b[0m)\n",
            "    ├── Recall@0.50 = 0.9677\n",
            "    │   ├── Epoch N-1      = 0.9677 (\u001b[37m= 0.0\u001b[0m)\n",
            "    │   └── Best until now = 0.9839 (\u001b[31m↘ -0.0161\u001b[0m)\n",
            "    ├── Map@0.50 = 0.8606\n",
            "    │   ├── Epoch N-1      = 0.8997 (\u001b[31m↘ -0.0391\u001b[0m)\n",
            "    │   └── Best until now = 0.9511 (\u001b[31m↘ -0.0904\u001b[0m)\n",
            "    └── F1@0.50 = 0.1018\n",
            "        ├── Epoch N-1      = 0.0733 (\u001b[32m↗ 0.0285\u001b[0m)\n",
            "        └── Best until now = 0.2738 (\u001b[31m↘ -0.172\u001b[0m)\n",
            "\n",
            "===========================================================\n"
          ]
        },
        {
          "metadata": {
            "tags": null
          },
          "name": "stderr",
          "output_type": "stream",
          "text": [
            "Train epoch 150: 100%|██████████| 26/26 [00:17<00:00,  1.51it/s, PPYoloELoss/loss=1.73, PPYoloELoss/loss_cls=0.799, PPYoloELoss/loss_dfl=0.523, PPYoloELoss/loss_iou=0.408, gpu_mem=6.83]\n",
            "Validating epoch 150: 100%|██████████| 8/8 [00:02<00:00,  2.68it/s]\n"
          ]
        },
        {
          "metadata": {
            "tags": null
          },
          "name": "stdout",
          "output_type": "stream",
          "text": [
            "===========================================================\n",
            "SUMMARY OF EPOCH 150\n",
            "├── Train\n",
            "│   ├── Ppyoloeloss/loss_cls = 0.7992\n",
            "│   │   ├── Epoch N-1      = 0.8478 (\u001b[32m↘ -0.0486\u001b[0m)\n",
            "│   │   └── Best until now = 0.7753 (\u001b[31m↗ 0.0239\u001b[0m)\n",
            "│   ├── Ppyoloeloss/loss_iou = 0.4085\n",
            "│   │   ├── Epoch N-1      = 0.4451 (\u001b[32m↘ -0.0366\u001b[0m)\n",
            "│   │   └── Best until now = 0.4113 (\u001b[32m↘ -0.0029\u001b[0m)\n",
            "│   ├── Ppyoloeloss/loss_dfl = 0.5231\n",
            "│   │   ├── Epoch N-1      = 0.5599 (\u001b[32m↘ -0.0368\u001b[0m)\n",
            "│   │   └── Best until now = 0.5208 (\u001b[31m↗ 0.0024\u001b[0m)\n",
            "│   └── Ppyoloeloss/loss = 1.7308\n",
            "│       ├── Epoch N-1      = 1.8528 (\u001b[32m↘ -0.1221\u001b[0m)\n",
            "│       └── Best until now = 1.7083 (\u001b[31m↗ 0.0225\u001b[0m)\n",
            "└── Validation\n",
            "    ├── Ppyoloeloss/loss_cls = 0.7155\n",
            "    │   ├── Epoch N-1      = 0.8428 (\u001b[32m↘ -0.1273\u001b[0m)\n",
            "    │   └── Best until now = 0.6828 (\u001b[31m↗ 0.0328\u001b[0m)\n",
            "    ├── Ppyoloeloss/loss_iou = 0.4172\n",
            "    │   ├── Epoch N-1      = 0.4338 (\u001b[32m↘ -0.0166\u001b[0m)\n",
            "    │   └── Best until now = 0.3708 (\u001b[31m↗ 0.0464\u001b[0m)\n",
            "    ├── Ppyoloeloss/loss_dfl = 0.5776\n",
            "    │   ├── Epoch N-1      = 0.5706 (\u001b[31m↗ 0.007\u001b[0m)\n",
            "    │   └── Best until now = 0.5269 (\u001b[31m↗ 0.0507\u001b[0m)\n",
            "    ├── Ppyoloeloss/loss = 1.7104\n",
            "    │   ├── Epoch N-1      = 1.8472 (\u001b[32m↘ -0.1369\u001b[0m)\n",
            "    │   └── Best until now = 1.6541 (\u001b[31m↗ 0.0562\u001b[0m)\n",
            "    ├── Precision@0.50 = 0.08\n",
            "    │   ├── Epoch N-1      = 0.0537 (\u001b[32m↗ 0.0263\u001b[0m)\n",
            "    │   └── Best until now = 0.1599 (\u001b[31m↘ -0.0799\u001b[0m)\n",
            "    ├── Recall@0.50 = 0.9677\n",
            "    │   ├── Epoch N-1      = 0.9677 (\u001b[37m= 0.0\u001b[0m)\n",
            "    │   └── Best until now = 0.9839 (\u001b[31m↘ -0.0161\u001b[0m)\n",
            "    ├── Map@0.50 = 0.9447\n",
            "    │   ├── Epoch N-1      = 0.8606 (\u001b[32m↗ 0.0841\u001b[0m)\n",
            "    │   └── Best until now = 0.9511 (\u001b[31m↘ -0.0063\u001b[0m)\n",
            "    └── F1@0.50 = 0.1478\n",
            "        ├── Epoch N-1      = 0.1018 (\u001b[32m↗ 0.046\u001b[0m)\n",
            "        └── Best until now = 0.2738 (\u001b[31m↘ -0.126\u001b[0m)\n",
            "\n",
            "===========================================================\n"
          ]
        },
        {
          "metadata": {
            "tags": null
          },
          "name": "stderr",
          "output_type": "stream",
          "text": [
            "Train epoch 151: 100%|██████████| 26/26 [00:17<00:00,  1.50it/s, PPYoloELoss/loss=1.82, PPYoloELoss/loss_cls=0.831, PPYoloELoss/loss_dfl=0.553, PPYoloELoss/loss_iou=0.431, gpu_mem=6.84]\n",
            "Validating epoch 151: 100%|██████████| 8/8 [00:03<00:00,  2.63it/s]\n"
          ]
        },
        {
          "metadata": {
            "tags": null
          },
          "name": "stdout",
          "output_type": "stream",
          "text": [
            "===========================================================\n",
            "SUMMARY OF EPOCH 151\n",
            "├── Train\n",
            "│   ├── Ppyoloeloss/loss_cls = 0.8308\n",
            "│   │   ├── Epoch N-1      = 0.7992 (\u001b[31m↗ 0.0316\u001b[0m)\n",
            "│   │   └── Best until now = 0.7753 (\u001b[31m↗ 0.0555\u001b[0m)\n",
            "│   ├── Ppyoloeloss/loss_iou = 0.4311\n",
            "│   │   ├── Epoch N-1      = 0.4085 (\u001b[31m↗ 0.0227\u001b[0m)\n",
            "│   │   └── Best until now = 0.4085 (\u001b[31m↗ 0.0227\u001b[0m)\n",
            "│   ├── Ppyoloeloss/loss_dfl = 0.5532\n",
            "│   │   ├── Epoch N-1      = 0.5231 (\u001b[31m↗ 0.0301\u001b[0m)\n",
            "│   │   └── Best until now = 0.5208 (\u001b[31m↗ 0.0324\u001b[0m)\n",
            "│   └── Ppyoloeloss/loss = 1.8151\n",
            "│       ├── Epoch N-1      = 1.7308 (\u001b[31m↗ 0.0843\u001b[0m)\n",
            "│       └── Best until now = 1.7083 (\u001b[31m↗ 0.1068\u001b[0m)\n",
            "└── Validation\n",
            "    ├── Ppyoloeloss/loss_cls = 0.7507\n",
            "    │   ├── Epoch N-1      = 0.7155 (\u001b[31m↗ 0.0352\u001b[0m)\n",
            "    │   └── Best until now = 0.6828 (\u001b[31m↗ 0.0679\u001b[0m)\n",
            "    ├── Ppyoloeloss/loss_iou = 0.4317\n",
            "    │   ├── Epoch N-1      = 0.4172 (\u001b[31m↗ 0.0145\u001b[0m)\n",
            "    │   └── Best until now = 0.3708 (\u001b[31m↗ 0.061\u001b[0m)\n",
            "    ├── Ppyoloeloss/loss_dfl = 0.5901\n",
            "    │   ├── Epoch N-1      = 0.5776 (\u001b[31m↗ 0.0125\u001b[0m)\n",
            "    │   └── Best until now = 0.5269 (\u001b[31m↗ 0.0632\u001b[0m)\n",
            "    ├── Ppyoloeloss/loss = 1.7725\n",
            "    │   ├── Epoch N-1      = 1.7104 (\u001b[31m↗ 0.0621\u001b[0m)\n",
            "    │   └── Best until now = 1.6541 (\u001b[31m↗ 0.1184\u001b[0m)\n",
            "    ├── Precision@0.50 = 0.0724\n",
            "    │   ├── Epoch N-1      = 0.08   (\u001b[31m↘ -0.0076\u001b[0m)\n",
            "    │   └── Best until now = 0.1599 (\u001b[31m↘ -0.0875\u001b[0m)\n",
            "    ├── Recall@0.50 = 0.9677\n",
            "    │   ├── Epoch N-1      = 0.9677 (\u001b[37m= 0.0\u001b[0m)\n",
            "    │   └── Best until now = 0.9839 (\u001b[31m↘ -0.0161\u001b[0m)\n",
            "    ├── Map@0.50 = 0.9141\n",
            "    │   ├── Epoch N-1      = 0.9447 (\u001b[31m↘ -0.0306\u001b[0m)\n",
            "    │   └── Best until now = 0.9511 (\u001b[31m↘ -0.0369\u001b[0m)\n",
            "    └── F1@0.50 = 0.1347\n",
            "        ├── Epoch N-1      = 0.1478 (\u001b[31m↘ -0.0131\u001b[0m)\n",
            "        └── Best until now = 0.2738 (\u001b[31m↘ -0.1391\u001b[0m)\n",
            "\n",
            "===========================================================\n"
          ]
        },
        {
          "metadata": {
            "tags": null
          },
          "name": "stderr",
          "output_type": "stream",
          "text": [
            "Train epoch 152: 100%|██████████| 26/26 [00:17<00:00,  1.52it/s, PPYoloELoss/loss=1.87, PPYoloELoss/loss_cls=0.845, PPYoloELoss/loss_dfl=0.574, PPYoloELoss/loss_iou=0.448, gpu_mem=6.84]\n",
            "Validating epoch 152: 100%|██████████| 8/8 [00:02<00:00,  2.68it/s]\n"
          ]
        },
        {
          "metadata": {
            "tags": null
          },
          "name": "stdout",
          "output_type": "stream",
          "text": [
            "===========================================================\n",
            "SUMMARY OF EPOCH 152\n",
            "├── Train\n",
            "│   ├── Ppyoloeloss/loss_cls = 0.8446\n",
            "│   │   ├── Epoch N-1      = 0.8308 (\u001b[31m↗ 0.0139\u001b[0m)\n",
            "│   │   └── Best until now = 0.7753 (\u001b[31m↗ 0.0693\u001b[0m)\n",
            "│   ├── Ppyoloeloss/loss_iou = 0.4484\n",
            "│   │   ├── Epoch N-1      = 0.4311 (\u001b[31m↗ 0.0172\u001b[0m)\n",
            "│   │   └── Best until now = 0.4085 (\u001b[31m↗ 0.0399\u001b[0m)\n",
            "│   ├── Ppyoloeloss/loss_dfl = 0.5738\n",
            "│   │   ├── Epoch N-1      = 0.5532 (\u001b[31m↗ 0.0207\u001b[0m)\n",
            "│   │   └── Best until now = 0.5208 (\u001b[31m↗ 0.0531\u001b[0m)\n",
            "│   └── Ppyoloeloss/loss = 1.8668\n",
            "│       ├── Epoch N-1      = 1.8151 (\u001b[31m↗ 0.0518\u001b[0m)\n",
            "│       └── Best until now = 1.7083 (\u001b[31m↗ 0.1586\u001b[0m)\n",
            "└── Validation\n",
            "    ├── Ppyoloeloss/loss_cls = 0.7173\n",
            "    │   ├── Epoch N-1      = 0.7507 (\u001b[32m↘ -0.0334\u001b[0m)\n",
            "    │   └── Best until now = 0.6828 (\u001b[31m↗ 0.0346\u001b[0m)\n",
            "    ├── Ppyoloeloss/loss_iou = 0.4033\n",
            "    │   ├── Epoch N-1      = 0.4317 (\u001b[32m↘ -0.0284\u001b[0m)\n",
            "    │   └── Best until now = 0.3708 (\u001b[31m↗ 0.0325\u001b[0m)\n",
            "    ├── Ppyoloeloss/loss_dfl = 0.572\n",
            "    │   ├── Epoch N-1      = 0.5901 (\u001b[32m↘ -0.0181\u001b[0m)\n",
            "    │   └── Best until now = 0.5269 (\u001b[31m↗ 0.0451\u001b[0m)\n",
            "    ├── Ppyoloeloss/loss = 1.6927\n",
            "    │   ├── Epoch N-1      = 1.7725 (\u001b[32m↘ -0.0798\u001b[0m)\n",
            "    │   └── Best until now = 1.6541 (\u001b[31m↗ 0.0385\u001b[0m)\n",
            "    ├── Precision@0.50 = 0.0855\n",
            "    │   ├── Epoch N-1      = 0.0724 (\u001b[32m↗ 0.0131\u001b[0m)\n",
            "    │   └── Best until now = 0.1599 (\u001b[31m↘ -0.0744\u001b[0m)\n",
            "    ├── Recall@0.50 = 0.9677\n",
            "    │   ├── Epoch N-1      = 0.9677 (\u001b[37m= 0.0\u001b[0m)\n",
            "    │   └── Best until now = 0.9839 (\u001b[31m↘ -0.0161\u001b[0m)\n",
            "    ├── Map@0.50 = 0.9216\n",
            "    │   ├── Epoch N-1      = 0.9141 (\u001b[32m↗ 0.0074\u001b[0m)\n",
            "    │   └── Best until now = 0.9511 (\u001b[31m↘ -0.0295\u001b[0m)\n",
            "    └── F1@0.50 = 0.1571\n",
            "        ├── Epoch N-1      = 0.1347 (\u001b[32m↗ 0.0224\u001b[0m)\n",
            "        └── Best until now = 0.2738 (\u001b[31m↘ -0.1167\u001b[0m)\n",
            "\n",
            "===========================================================\n"
          ]
        },
        {
          "metadata": {
            "tags": null
          },
          "name": "stderr",
          "output_type": "stream",
          "text": [
            "Train epoch 153: 100%|██████████| 26/26 [00:17<00:00,  1.47it/s, PPYoloELoss/loss=1.78, PPYoloELoss/loss_cls=0.803, PPYoloELoss/loss_dfl=0.549, PPYoloELoss/loss_iou=0.426, gpu_mem=6.84]\n",
            "Validating epoch 153: 100%|██████████| 8/8 [00:03<00:00,  2.50it/s]\n"
          ]
        },
        {
          "metadata": {
            "tags": null
          },
          "name": "stdout",
          "output_type": "stream",
          "text": [
            "===========================================================\n",
            "SUMMARY OF EPOCH 153\n",
            "├── Train\n",
            "│   ├── Ppyoloeloss/loss_cls = 0.803\n",
            "│   │   ├── Epoch N-1      = 0.8446 (\u001b[32m↘ -0.0416\u001b[0m)\n",
            "│   │   └── Best until now = 0.7753 (\u001b[31m↗ 0.0278\u001b[0m)\n",
            "│   ├── Ppyoloeloss/loss_iou = 0.4261\n",
            "│   │   ├── Epoch N-1      = 0.4484 (\u001b[32m↘ -0.0223\u001b[0m)\n",
            "│   │   └── Best until now = 0.4085 (\u001b[31m↗ 0.0176\u001b[0m)\n",
            "│   ├── Ppyoloeloss/loss_dfl = 0.5491\n",
            "│   │   ├── Epoch N-1      = 0.5738 (\u001b[32m↘ -0.0248\u001b[0m)\n",
            "│   │   └── Best until now = 0.5208 (\u001b[31m↗ 0.0283\u001b[0m)\n",
            "│   └── Ppyoloeloss/loss = 1.7782\n",
            "│       ├── Epoch N-1      = 1.8668 (\u001b[32m↘ -0.0887\u001b[0m)\n",
            "│       └── Best until now = 1.7083 (\u001b[31m↗ 0.0699\u001b[0m)\n",
            "└── Validation\n",
            "    ├── Ppyoloeloss/loss_cls = 0.7802\n",
            "    │   ├── Epoch N-1      = 0.7173 (\u001b[31m↗ 0.0629\u001b[0m)\n",
            "    │   └── Best until now = 0.6828 (\u001b[31m↗ 0.0974\u001b[0m)\n",
            "    ├── Ppyoloeloss/loss_iou = 0.4299\n",
            "    │   ├── Epoch N-1      = 0.4033 (\u001b[31m↗ 0.0266\u001b[0m)\n",
            "    │   └── Best until now = 0.3708 (\u001b[31m↗ 0.0591\u001b[0m)\n",
            "    ├── Ppyoloeloss/loss_dfl = 0.5835\n",
            "    │   ├── Epoch N-1      = 0.572  (\u001b[31m↗ 0.0115\u001b[0m)\n",
            "    │   └── Best until now = 0.5269 (\u001b[31m↗ 0.0566\u001b[0m)\n",
            "    ├── Ppyoloeloss/loss = 1.7936\n",
            "    │   ├── Epoch N-1      = 1.6927 (\u001b[31m↗ 0.101\u001b[0m)\n",
            "    │   └── Best until now = 1.6541 (\u001b[31m↗ 0.1395\u001b[0m)\n",
            "    ├── Precision@0.50 = 0.0649\n",
            "    │   ├── Epoch N-1      = 0.0855 (\u001b[31m↘ -0.0205\u001b[0m)\n",
            "    │   └── Best until now = 0.1599 (\u001b[31m↘ -0.095\u001b[0m)\n",
            "    ├── Recall@0.50 = 0.9677\n",
            "    │   ├── Epoch N-1      = 0.9677 (\u001b[37m= 0.0\u001b[0m)\n",
            "    │   └── Best until now = 0.9839 (\u001b[31m↘ -0.0161\u001b[0m)\n",
            "    ├── Map@0.50 = 0.8707\n",
            "    │   ├── Epoch N-1      = 0.9216 (\u001b[31m↘ -0.0509\u001b[0m)\n",
            "    │   └── Best until now = 0.9511 (\u001b[31m↘ -0.0804\u001b[0m)\n",
            "    └── F1@0.50 = 0.1217\n",
            "        ├── Epoch N-1      = 0.1571 (\u001b[31m↘ -0.0354\u001b[0m)\n",
            "        └── Best until now = 0.2738 (\u001b[31m↘ -0.1521\u001b[0m)\n",
            "\n",
            "===========================================================\n"
          ]
        },
        {
          "metadata": {
            "tags": null
          },
          "name": "stderr",
          "output_type": "stream",
          "text": [
            "Train epoch 154: 100%|██████████| 26/26 [00:17<00:00,  1.47it/s, PPYoloELoss/loss=1.72, PPYoloELoss/loss_cls=0.783, PPYoloELoss/loss_dfl=0.529, PPYoloELoss/loss_iou=0.411, gpu_mem=6.83]\n",
            "Validating epoch 154: 100%|██████████| 8/8 [00:03<00:00,  2.48it/s]\n"
          ]
        },
        {
          "metadata": {
            "tags": null
          },
          "name": "stdout",
          "output_type": "stream",
          "text": [
            "===========================================================\n",
            "SUMMARY OF EPOCH 154\n",
            "├── Train\n",
            "│   ├── Ppyoloeloss/loss_cls = 0.7834\n",
            "│   │   ├── Epoch N-1      = 0.803  (\u001b[32m↘ -0.0197\u001b[0m)\n",
            "│   │   └── Best until now = 0.7753 (\u001b[31m↗ 0.0081\u001b[0m)\n",
            "│   ├── Ppyoloeloss/loss_iou = 0.4105\n",
            "│   │   ├── Epoch N-1      = 0.4261 (\u001b[32m↘ -0.0155\u001b[0m)\n",
            "│   │   └── Best until now = 0.4085 (\u001b[31m↗ 0.0021\u001b[0m)\n",
            "│   ├── Ppyoloeloss/loss_dfl = 0.529\n",
            "│   │   ├── Epoch N-1      = 0.5491 (\u001b[32m↘ -0.0201\u001b[0m)\n",
            "│   │   └── Best until now = 0.5208 (\u001b[31m↗ 0.0082\u001b[0m)\n",
            "│   └── Ppyoloeloss/loss = 1.7229\n",
            "│       ├── Epoch N-1      = 1.7782 (\u001b[32m↘ -0.0553\u001b[0m)\n",
            "│       └── Best until now = 1.7083 (\u001b[31m↗ 0.0147\u001b[0m)\n",
            "└── Validation\n",
            "    ├── Ppyoloeloss/loss_cls = 0.8382\n",
            "    │   ├── Epoch N-1      = 0.7802 (\u001b[31m↗ 0.058\u001b[0m)\n",
            "    │   └── Best until now = 0.6828 (\u001b[31m↗ 0.1555\u001b[0m)\n",
            "    ├── Ppyoloeloss/loss_iou = 0.4216\n",
            "    │   ├── Epoch N-1      = 0.4299 (\u001b[32m↘ -0.0083\u001b[0m)\n",
            "    │   └── Best until now = 0.3708 (\u001b[31m↗ 0.0509\u001b[0m)\n",
            "    ├── Ppyoloeloss/loss_dfl = 0.5592\n",
            "    │   ├── Epoch N-1      = 0.5835 (\u001b[32m↘ -0.0243\u001b[0m)\n",
            "    │   └── Best until now = 0.5269 (\u001b[31m↗ 0.0323\u001b[0m)\n",
            "    ├── Ppyoloeloss/loss = 1.8191\n",
            "    │   ├── Epoch N-1      = 1.7936 (\u001b[31m↗ 0.0254\u001b[0m)\n",
            "    │   └── Best until now = 1.6541 (\u001b[31m↗ 0.1649\u001b[0m)\n",
            "    ├── Precision@0.50 = 0.0604\n",
            "    │   ├── Epoch N-1      = 0.0649 (\u001b[31m↘ -0.0046\u001b[0m)\n",
            "    │   └── Best until now = 0.1599 (\u001b[31m↘ -0.0995\u001b[0m)\n",
            "    ├── Recall@0.50 = 0.9355\n",
            "    │   ├── Epoch N-1      = 0.9677 (\u001b[31m↘ -0.0323\u001b[0m)\n",
            "    │   └── Best until now = 0.9839 (\u001b[31m↘ -0.0484\u001b[0m)\n",
            "    ├── Map@0.50 = 0.8602\n",
            "    │   ├── Epoch N-1      = 0.8707 (\u001b[31m↘ -0.0104\u001b[0m)\n",
            "    │   └── Best until now = 0.9511 (\u001b[31m↘ -0.0908\u001b[0m)\n",
            "    └── F1@0.50 = 0.1134\n",
            "        ├── Epoch N-1      = 0.1217 (\u001b[31m↘ -0.0083\u001b[0m)\n",
            "        └── Best until now = 0.2738 (\u001b[31m↘ -0.1604\u001b[0m)\n",
            "\n",
            "===========================================================\n"
          ]
        },
        {
          "metadata": {
            "tags": null
          },
          "name": "stderr",
          "output_type": "stream",
          "text": [
            "Train epoch 155: 100%|██████████| 26/26 [00:17<00:00,  1.50it/s, PPYoloELoss/loss=1.76, PPYoloELoss/loss_cls=0.794, PPYoloELoss/loss_dfl=0.547, PPYoloELoss/loss_iou=0.414, gpu_mem=6.83]\n",
            "Validating epoch 155: 100%|██████████| 8/8 [00:03<00:00,  2.65it/s]\n"
          ]
        },
        {
          "metadata": {
            "tags": null
          },
          "name": "stdout",
          "output_type": "stream",
          "text": [
            "===========================================================\n",
            "SUMMARY OF EPOCH 155\n",
            "├── Train\n",
            "│   ├── Ppyoloeloss/loss_cls = 0.7943\n",
            "│   │   ├── Epoch N-1      = 0.7834 (\u001b[31m↗ 0.0109\u001b[0m)\n",
            "│   │   └── Best until now = 0.7753 (\u001b[31m↗ 0.019\u001b[0m)\n",
            "│   ├── Ppyoloeloss/loss_iou = 0.4138\n",
            "│   │   ├── Epoch N-1      = 0.4105 (\u001b[31m↗ 0.0033\u001b[0m)\n",
            "│   │   └── Best until now = 0.4085 (\u001b[31m↗ 0.0053\u001b[0m)\n",
            "│   ├── Ppyoloeloss/loss_dfl = 0.5474\n",
            "│   │   ├── Epoch N-1      = 0.529  (\u001b[31m↗ 0.0184\u001b[0m)\n",
            "│   │   └── Best until now = 0.5208 (\u001b[31m↗ 0.0267\u001b[0m)\n",
            "│   └── Ppyoloeloss/loss = 1.7555\n",
            "│       ├── Epoch N-1      = 1.7229 (\u001b[31m↗ 0.0326\u001b[0m)\n",
            "│       └── Best until now = 1.7083 (\u001b[31m↗ 0.0472\u001b[0m)\n",
            "└── Validation\n",
            "    ├── Ppyoloeloss/loss_cls = 0.7074\n",
            "    │   ├── Epoch N-1      = 0.8382 (\u001b[32m↘ -0.1308\u001b[0m)\n",
            "    │   └── Best until now = 0.6828 (\u001b[31m↗ 0.0247\u001b[0m)\n",
            "    ├── Ppyoloeloss/loss_iou = 0.4066\n",
            "    │   ├── Epoch N-1      = 0.4216 (\u001b[32m↘ -0.0151\u001b[0m)\n",
            "    │   └── Best until now = 0.3708 (\u001b[31m↗ 0.0358\u001b[0m)\n",
            "    ├── Ppyoloeloss/loss_dfl = 0.5551\n",
            "    │   ├── Epoch N-1      = 0.5592 (\u001b[32m↘ -0.0041\u001b[0m)\n",
            "    │   └── Best until now = 0.5269 (\u001b[31m↗ 0.0282\u001b[0m)\n",
            "    ├── Ppyoloeloss/loss = 1.6691\n",
            "    │   ├── Epoch N-1      = 1.8191 (\u001b[32m↘ -0.1499\u001b[0m)\n",
            "    │   └── Best until now = 1.6541 (\u001b[31m↗ 0.015\u001b[0m)\n",
            "    ├── Precision@0.50 = 0.0737\n",
            "    │   ├── Epoch N-1      = 0.0604 (\u001b[32m↗ 0.0134\u001b[0m)\n",
            "    │   └── Best until now = 0.1599 (\u001b[31m↘ -0.0862\u001b[0m)\n",
            "    ├── Recall@0.50 = 0.9677\n",
            "    │   ├── Epoch N-1      = 0.9355 (\u001b[32m↗ 0.0323\u001b[0m)\n",
            "    │   └── Best until now = 0.9839 (\u001b[31m↘ -0.0161\u001b[0m)\n",
            "    ├── Map@0.50 = 0.9418\n",
            "    │   ├── Epoch N-1      = 0.8602 (\u001b[32m↗ 0.0816\u001b[0m)\n",
            "    │   └── Best until now = 0.9511 (\u001b[31m↘ -0.0092\u001b[0m)\n",
            "    └── F1@0.50 = 0.137\n",
            "        ├── Epoch N-1      = 0.1134 (\u001b[32m↗ 0.0236\u001b[0m)\n",
            "        └── Best until now = 0.2738 (\u001b[31m↘ -0.1368\u001b[0m)\n",
            "\n",
            "===========================================================\n"
          ]
        },
        {
          "metadata": {
            "tags": null
          },
          "name": "stderr",
          "output_type": "stream",
          "text": [
            "Train epoch 156: 100%|██████████| 26/26 [00:17<00:00,  1.45it/s, PPYoloELoss/loss=1.75, PPYoloELoss/loss_cls=0.78, PPYoloELoss/loss_dfl=0.546, PPYoloELoss/loss_iou=0.424, gpu_mem=6.83]\n",
            "Validating epoch 156: 100%|██████████| 8/8 [00:03<00:00,  2.63it/s]\n"
          ]
        },
        {
          "metadata": {
            "tags": null
          },
          "name": "stdout",
          "output_type": "stream",
          "text": [
            "===========================================================\n",
            "SUMMARY OF EPOCH 156\n",
            "├── Train\n",
            "│   ├── Ppyoloeloss/loss_cls = 0.7802\n",
            "│   │   ├── Epoch N-1      = 0.7943 (\u001b[32m↘ -0.0141\u001b[0m)\n",
            "│   │   └── Best until now = 0.7753 (\u001b[31m↗ 0.0049\u001b[0m)\n",
            "│   ├── Ppyoloeloss/loss_iou = 0.4242\n",
            "│   │   ├── Epoch N-1      = 0.4138 (\u001b[31m↗ 0.0104\u001b[0m)\n",
            "│   │   └── Best until now = 0.4085 (\u001b[31m↗ 0.0158\u001b[0m)\n",
            "│   ├── Ppyoloeloss/loss_dfl = 0.5462\n",
            "│   │   ├── Epoch N-1      = 0.5474 (\u001b[32m↘ -0.0012\u001b[0m)\n",
            "│   │   └── Best until now = 0.5208 (\u001b[31m↗ 0.0255\u001b[0m)\n",
            "│   └── Ppyoloeloss/loss = 1.7507\n",
            "│       ├── Epoch N-1      = 1.7555 (\u001b[32m↘ -0.0048\u001b[0m)\n",
            "│       └── Best until now = 1.7083 (\u001b[31m↗ 0.0424\u001b[0m)\n",
            "└── Validation\n",
            "    ├── Ppyoloeloss/loss_cls = 0.7157\n",
            "    │   ├── Epoch N-1      = 0.7074 (\u001b[31m↗ 0.0083\u001b[0m)\n",
            "    │   └── Best until now = 0.6828 (\u001b[31m↗ 0.0329\u001b[0m)\n",
            "    ├── Ppyoloeloss/loss_iou = 0.4402\n",
            "    │   ├── Epoch N-1      = 0.4066 (\u001b[31m↗ 0.0336\u001b[0m)\n",
            "    │   └── Best until now = 0.3708 (\u001b[31m↗ 0.0694\u001b[0m)\n",
            "    ├── Ppyoloeloss/loss_dfl = 0.5656\n",
            "    │   ├── Epoch N-1      = 0.5551 (\u001b[31m↗ 0.0104\u001b[0m)\n",
            "    │   └── Best until now = 0.5269 (\u001b[31m↗ 0.0387\u001b[0m)\n",
            "    ├── Ppyoloeloss/loss = 1.7215\n",
            "    │   ├── Epoch N-1      = 1.6691 (\u001b[31m↗ 0.0523\u001b[0m)\n",
            "    │   └── Best until now = 1.6541 (\u001b[31m↗ 0.0673\u001b[0m)\n",
            "    ├── Precision@0.50 = 0.1034\n",
            "    │   ├── Epoch N-1      = 0.0737 (\u001b[32m↗ 0.0297\u001b[0m)\n",
            "    │   └── Best until now = 0.1599 (\u001b[31m↘ -0.0564\u001b[0m)\n",
            "    ├── Recall@0.50 = 0.9677\n",
            "    │   ├── Epoch N-1      = 0.9677 (\u001b[37m= 0.0\u001b[0m)\n",
            "    │   └── Best until now = 0.9839 (\u001b[31m↘ -0.0161\u001b[0m)\n",
            "    ├── Map@0.50 = 0.9222\n",
            "    │   ├── Epoch N-1      = 0.9418 (\u001b[31m↘ -0.0196\u001b[0m)\n",
            "    │   └── Best until now = 0.9511 (\u001b[31m↘ -0.0288\u001b[0m)\n",
            "    └── F1@0.50 = 0.1869\n",
            "        ├── Epoch N-1      = 0.137  (\u001b[32m↗ 0.0499\u001b[0m)\n",
            "        └── Best until now = 0.2738 (\u001b[31m↘ -0.0869\u001b[0m)\n",
            "\n",
            "===========================================================\n"
          ]
        },
        {
          "metadata": {
            "tags": null
          },
          "name": "stderr",
          "output_type": "stream",
          "text": [
            "Train epoch 157: 100%|██████████| 26/26 [00:18<00:00,  1.42it/s, PPYoloELoss/loss=1.76, PPYoloELoss/loss_cls=0.785, PPYoloELoss/loss_dfl=0.544, PPYoloELoss/loss_iou=0.427, gpu_mem=6.83]\n",
            "Validating epoch 157: 100%|██████████| 8/8 [00:03<00:00,  2.60it/s]\n"
          ]
        },
        {
          "metadata": {
            "tags": null
          },
          "name": "stdout",
          "output_type": "stream",
          "text": [
            "===========================================================\n",
            "SUMMARY OF EPOCH 157\n",
            "├── Train\n",
            "│   ├── Ppyoloeloss/loss_cls = 0.7852\n",
            "│   │   ├── Epoch N-1      = 0.7802 (\u001b[31m↗ 0.0049\u001b[0m)\n",
            "│   │   └── Best until now = 0.7753 (\u001b[31m↗ 0.0099\u001b[0m)\n",
            "│   ├── Ppyoloeloss/loss_iou = 0.4268\n",
            "│   │   ├── Epoch N-1      = 0.4242 (\u001b[31m↗ 0.0026\u001b[0m)\n",
            "│   │   └── Best until now = 0.4085 (\u001b[31m↗ 0.0183\u001b[0m)\n",
            "│   ├── Ppyoloeloss/loss_dfl = 0.5444\n",
            "│   │   ├── Epoch N-1      = 0.5462 (\u001b[32m↘ -0.0018\u001b[0m)\n",
            "│   │   └── Best until now = 0.5208 (\u001b[31m↗ 0.0236\u001b[0m)\n",
            "│   └── Ppyoloeloss/loss = 1.7564\n",
            "│       ├── Epoch N-1      = 1.7507 (\u001b[31m↗ 0.0057\u001b[0m)\n",
            "│       └── Best until now = 1.7083 (\u001b[31m↗ 0.0481\u001b[0m)\n",
            "└── Validation\n",
            "    ├── Ppyoloeloss/loss_cls = 0.7142\n",
            "    │   ├── Epoch N-1      = 0.7157 (\u001b[32m↘ -0.0015\u001b[0m)\n",
            "    │   └── Best until now = 0.6828 (\u001b[31m↗ 0.0314\u001b[0m)\n",
            "    ├── Ppyoloeloss/loss_iou = 0.4377\n",
            "    │   ├── Epoch N-1      = 0.4402 (\u001b[32m↘ -0.0025\u001b[0m)\n",
            "    │   └── Best until now = 0.3708 (\u001b[31m↗ 0.0669\u001b[0m)\n",
            "    ├── Ppyoloeloss/loss_dfl = 0.5851\n",
            "    │   ├── Epoch N-1      = 0.5656 (\u001b[31m↗ 0.0195\u001b[0m)\n",
            "    │   └── Best until now = 0.5269 (\u001b[31m↗ 0.0582\u001b[0m)\n",
            "    ├── Ppyoloeloss/loss = 1.737\n",
            "    │   ├── Epoch N-1      = 1.7215 (\u001b[31m↗ 0.0155\u001b[0m)\n",
            "    │   └── Best until now = 1.6541 (\u001b[31m↗ 0.0828\u001b[0m)\n",
            "    ├── Precision@0.50 = 0.1134\n",
            "    │   ├── Epoch N-1      = 0.1034 (\u001b[32m↗ 0.01\u001b[0m)\n",
            "    │   └── Best until now = 0.1599 (\u001b[31m↘ -0.0465\u001b[0m)\n",
            "    ├── Recall@0.50 = 0.9677\n",
            "    │   ├── Epoch N-1      = 0.9677 (\u001b[37m= 0.0\u001b[0m)\n",
            "    │   └── Best until now = 0.9839 (\u001b[31m↘ -0.0161\u001b[0m)\n",
            "    ├── Map@0.50 = 0.9126\n",
            "    │   ├── Epoch N-1      = 0.9222 (\u001b[31m↘ -0.0096\u001b[0m)\n",
            "    │   └── Best until now = 0.9511 (\u001b[31m↘ -0.0385\u001b[0m)\n",
            "    └── F1@0.50 = 0.203\n",
            "        ├── Epoch N-1      = 0.1869 (\u001b[32m↗ 0.0161\u001b[0m)\n",
            "        └── Best until now = 0.2738 (\u001b[31m↘ -0.0707\u001b[0m)\n",
            "\n",
            "===========================================================\n"
          ]
        },
        {
          "metadata": {
            "tags": null
          },
          "name": "stderr",
          "output_type": "stream",
          "text": [
            "Train epoch 158: 100%|██████████| 26/26 [00:18<00:00,  1.38it/s, PPYoloELoss/loss=1.74, PPYoloELoss/loss_cls=0.8, PPYoloELoss/loss_dfl=0.533, PPYoloELoss/loss_iou=0.408, gpu_mem=6.83]\n",
            "Validating epoch 158: 100%|██████████| 8/8 [00:03<00:00,  2.61it/s]\n"
          ]
        },
        {
          "metadata": {
            "tags": null
          },
          "name": "stdout",
          "output_type": "stream",
          "text": [
            "===========================================================\n",
            "SUMMARY OF EPOCH 158\n",
            "├── Train\n",
            "│   ├── Ppyoloeloss/loss_cls = 0.7996\n",
            "│   │   ├── Epoch N-1      = 0.7852 (\u001b[31m↗ 0.0144\u001b[0m)\n",
            "│   │   └── Best until now = 0.7753 (\u001b[31m↗ 0.0243\u001b[0m)\n",
            "│   ├── Ppyoloeloss/loss_iou = 0.4075\n",
            "│   │   ├── Epoch N-1      = 0.4268 (\u001b[32m↘ -0.0193\u001b[0m)\n",
            "│   │   └── Best until now = 0.4085 (\u001b[32m↘ -0.0009\u001b[0m)\n",
            "│   ├── Ppyoloeloss/loss_dfl = 0.5333\n",
            "│   │   ├── Epoch N-1      = 0.5444 (\u001b[32m↘ -0.0111\u001b[0m)\n",
            "│   │   └── Best until now = 0.5208 (\u001b[31m↗ 0.0126\u001b[0m)\n",
            "│   └── Ppyoloeloss/loss = 1.7404\n",
            "│       ├── Epoch N-1      = 1.7564 (\u001b[32m↘ -0.016\u001b[0m)\n",
            "│       └── Best until now = 1.7083 (\u001b[31m↗ 0.0321\u001b[0m)\n",
            "└── Validation\n",
            "    ├── Ppyoloeloss/loss_cls = 0.9953\n",
            "    │   ├── Epoch N-1      = 0.7142 (\u001b[31m↗ 0.2811\u001b[0m)\n",
            "    │   └── Best until now = 0.6828 (\u001b[31m↗ 0.3125\u001b[0m)\n",
            "    ├── Ppyoloeloss/loss_iou = 0.4482\n",
            "    │   ├── Epoch N-1      = 0.4377 (\u001b[31m↗ 0.0105\u001b[0m)\n",
            "    │   └── Best until now = 0.3708 (\u001b[31m↗ 0.0774\u001b[0m)\n",
            "    ├── Ppyoloeloss/loss_dfl = 0.6039\n",
            "    │   ├── Epoch N-1      = 0.5851 (\u001b[31m↗ 0.0188\u001b[0m)\n",
            "    │   └── Best until now = 0.5269 (\u001b[31m↗ 0.077\u001b[0m)\n",
            "    ├── Ppyoloeloss/loss = 2.0474\n",
            "    │   ├── Epoch N-1      = 1.737  (\u001b[31m↗ 0.3104\u001b[0m)\n",
            "    │   └── Best until now = 1.6541 (\u001b[31m↗ 0.3933\u001b[0m)\n",
            "    ├── Precision@0.50 = 0.0427\n",
            "    │   ├── Epoch N-1      = 0.1134 (\u001b[31m↘ -0.0707\u001b[0m)\n",
            "    │   └── Best until now = 0.1599 (\u001b[31m↘ -0.1172\u001b[0m)\n",
            "    ├── Recall@0.50 = 0.9355\n",
            "    │   ├── Epoch N-1      = 0.9677 (\u001b[31m↘ -0.0323\u001b[0m)\n",
            "    │   └── Best until now = 0.9839 (\u001b[31m↘ -0.0484\u001b[0m)\n",
            "    ├── Map@0.50 = 0.7207\n",
            "    │   ├── Epoch N-1      = 0.9126 (\u001b[31m↘ -0.1918\u001b[0m)\n",
            "    │   └── Best until now = 0.9511 (\u001b[31m↘ -0.2303\u001b[0m)\n",
            "    └── F1@0.50 = 0.0817\n",
            "        ├── Epoch N-1      = 0.203  (\u001b[31m↘ -0.1213\u001b[0m)\n",
            "        └── Best until now = 0.2738 (\u001b[31m↘ -0.192\u001b[0m)\n",
            "\n",
            "===========================================================\n"
          ]
        },
        {
          "metadata": {
            "tags": null
          },
          "name": "stderr",
          "output_type": "stream",
          "text": [
            "Train epoch 159: 100%|██████████| 26/26 [00:18<00:00,  1.41it/s, PPYoloELoss/loss=1.76, PPYoloELoss/loss_cls=0.792, PPYoloELoss/loss_dfl=0.543, PPYoloELoss/loss_iou=0.427, gpu_mem=6.84]\n",
            "Validating epoch 159: 100%|██████████| 8/8 [00:03<00:00,  2.33it/s]\n"
          ]
        },
        {
          "metadata": {
            "tags": null
          },
          "name": "stdout",
          "output_type": "stream",
          "text": [
            "===========================================================\n",
            "SUMMARY OF EPOCH 159\n",
            "├── Train\n",
            "│   ├── Ppyoloeloss/loss_cls = 0.7918\n",
            "│   │   ├── Epoch N-1      = 0.7996 (\u001b[32m↘ -0.0077\u001b[0m)\n",
            "│   │   └── Best until now = 0.7753 (\u001b[31m↗ 0.0165\u001b[0m)\n",
            "│   ├── Ppyoloeloss/loss_iou = 0.4274\n",
            "│   │   ├── Epoch N-1      = 0.4075 (\u001b[31m↗ 0.0199\u001b[0m)\n",
            "│   │   └── Best until now = 0.4075 (\u001b[31m↗ 0.0199\u001b[0m)\n",
            "│   ├── Ppyoloeloss/loss_dfl = 0.5429\n",
            "│   │   ├── Epoch N-1      = 0.5333 (\u001b[31m↗ 0.0096\u001b[0m)\n",
            "│   │   └── Best until now = 0.5208 (\u001b[31m↗ 0.0221\u001b[0m)\n",
            "│   └── Ppyoloeloss/loss = 1.7621\n",
            "│       ├── Epoch N-1      = 1.7404 (\u001b[31m↗ 0.0217\u001b[0m)\n",
            "│       └── Best until now = 1.7083 (\u001b[31m↗ 0.0539\u001b[0m)\n",
            "└── Validation\n",
            "    ├── Ppyoloeloss/loss_cls = 0.8542\n",
            "    │   ├── Epoch N-1      = 0.9953 (\u001b[32m↘ -0.1411\u001b[0m)\n",
            "    │   └── Best until now = 0.6828 (\u001b[31m↗ 0.1715\u001b[0m)\n",
            "    ├── Ppyoloeloss/loss_iou = 0.4191\n",
            "    │   ├── Epoch N-1      = 0.4482 (\u001b[32m↘ -0.0291\u001b[0m)\n",
            "    │   └── Best until now = 0.3708 (\u001b[31m↗ 0.0483\u001b[0m)\n",
            "    ├── Ppyoloeloss/loss_dfl = 0.578\n",
            "    │   ├── Epoch N-1      = 0.6039 (\u001b[32m↘ -0.0259\u001b[0m)\n",
            "    │   └── Best until now = 0.5269 (\u001b[31m↗ 0.0511\u001b[0m)\n",
            "    ├── Ppyoloeloss/loss = 1.8513\n",
            "    │   ├── Epoch N-1      = 2.0474 (\u001b[32m↘ -0.1961\u001b[0m)\n",
            "    │   └── Best until now = 1.6541 (\u001b[31m↗ 0.1972\u001b[0m)\n",
            "    ├── Precision@0.50 = 0.0383\n",
            "    │   ├── Epoch N-1      = 0.0427 (\u001b[31m↘ -0.0044\u001b[0m)\n",
            "    │   └── Best until now = 0.1599 (\u001b[31m↘ -0.1216\u001b[0m)\n",
            "    ├── Recall@0.50 = 0.9677\n",
            "    │   ├── Epoch N-1      = 0.9355 (\u001b[32m↗ 0.0323\u001b[0m)\n",
            "    │   └── Best until now = 0.9839 (\u001b[31m↘ -0.0161\u001b[0m)\n",
            "    ├── Map@0.50 = 0.8907\n",
            "    │   ├── Epoch N-1      = 0.7207 (\u001b[32m↗ 0.1699\u001b[0m)\n",
            "    │   └── Best until now = 0.9511 (\u001b[31m↘ -0.0604\u001b[0m)\n",
            "    └── F1@0.50 = 0.0737\n",
            "        ├── Epoch N-1      = 0.0817 (\u001b[31m↘ -0.008\u001b[0m)\n",
            "        └── Best until now = 0.2738 (\u001b[31m↘ -0.2001\u001b[0m)\n",
            "\n",
            "===========================================================\n"
          ]
        },
        {
          "metadata": {
            "tags": null
          },
          "name": "stderr",
          "output_type": "stream",
          "text": [
            "Train epoch 160: 100%|██████████| 26/26 [00:17<00:00,  1.48it/s, PPYoloELoss/loss=1.71, PPYoloELoss/loss_cls=0.78, PPYoloELoss/loss_dfl=0.521, PPYoloELoss/loss_iou=0.407, gpu_mem=6.84]\n",
            "Validating epoch 160: 100%|██████████| 8/8 [00:03<00:00,  2.66it/s]\n"
          ]
        },
        {
          "metadata": {
            "tags": null
          },
          "name": "stdout",
          "output_type": "stream",
          "text": [
            "===========================================================\n",
            "SUMMARY OF EPOCH 160\n",
            "├── Train\n",
            "│   ├── Ppyoloeloss/loss_cls = 0.7805\n",
            "│   │   ├── Epoch N-1      = 0.7918 (\u001b[32m↘ -0.0113\u001b[0m)\n",
            "│   │   └── Best until now = 0.7753 (\u001b[31m↗ 0.0052\u001b[0m)\n",
            "│   ├── Ppyoloeloss/loss_iou = 0.4069\n",
            "│   │   ├── Epoch N-1      = 0.4274 (\u001b[32m↘ -0.0205\u001b[0m)\n",
            "│   │   └── Best until now = 0.4075 (\u001b[32m↘ -0.0006\u001b[0m)\n",
            "│   ├── Ppyoloeloss/loss_dfl = 0.5209\n",
            "│   │   ├── Epoch N-1      = 0.5429 (\u001b[32m↘ -0.022\u001b[0m)\n",
            "│   │   └── Best until now = 0.5208 (\u001b[31m↗ 1e-04\u001b[0m)\n",
            "│   └── Ppyoloeloss/loss = 1.7083\n",
            "│       ├── Epoch N-1      = 1.7621 (\u001b[32m↘ -0.0538\u001b[0m)\n",
            "│       └── Best until now = 1.7083 (\u001b[31m↗ 0.0\u001b[0m)\n",
            "└── Validation\n",
            "    ├── Ppyoloeloss/loss_cls = 0.8028\n",
            "    │   ├── Epoch N-1      = 0.8542 (\u001b[32m↘ -0.0515\u001b[0m)\n",
            "    │   └── Best until now = 0.6828 (\u001b[31m↗ 0.12\u001b[0m)\n",
            "    ├── Ppyoloeloss/loss_iou = 0.3967\n",
            "    │   ├── Epoch N-1      = 0.4191 (\u001b[32m↘ -0.0224\u001b[0m)\n",
            "    │   └── Best until now = 0.3708 (\u001b[31m↗ 0.0259\u001b[0m)\n",
            "    ├── Ppyoloeloss/loss_dfl = 0.5535\n",
            "    │   ├── Epoch N-1      = 0.578  (\u001b[32m↘ -0.0245\u001b[0m)\n",
            "    │   └── Best until now = 0.5269 (\u001b[31m↗ 0.0266\u001b[0m)\n",
            "    ├── Ppyoloeloss/loss = 1.753\n",
            "    │   ├── Epoch N-1      = 1.8513 (\u001b[32m↘ -0.0983\u001b[0m)\n",
            "    │   └── Best until now = 1.6541 (\u001b[31m↗ 0.0989\u001b[0m)\n",
            "    ├── Precision@0.50 = 0.058\n",
            "    │   ├── Epoch N-1      = 0.0383 (\u001b[32m↗ 0.0197\u001b[0m)\n",
            "    │   └── Best until now = 0.1599 (\u001b[31m↘ -0.1019\u001b[0m)\n",
            "    ├── Recall@0.50 = 0.9677\n",
            "    │   ├── Epoch N-1      = 0.9677 (\u001b[37m= 0.0\u001b[0m)\n",
            "    │   └── Best until now = 0.9839 (\u001b[31m↘ -0.0161\u001b[0m)\n",
            "    ├── Map@0.50 = 0.9387\n",
            "    │   ├── Epoch N-1      = 0.8907 (\u001b[32m↗ 0.048\u001b[0m)\n",
            "    │   └── Best until now = 0.9511 (\u001b[31m↘ -0.0123\u001b[0m)\n",
            "    └── F1@0.50 = 0.1095\n",
            "        ├── Epoch N-1      = 0.0737 (\u001b[32m↗ 0.0358\u001b[0m)\n",
            "        └── Best until now = 0.2738 (\u001b[31m↘ -0.1643\u001b[0m)\n",
            "\n",
            "===========================================================\n"
          ]
        },
        {
          "metadata": {
            "tags": null
          },
          "name": "stderr",
          "output_type": "stream",
          "text": [
            "Train epoch 161: 100%|██████████| 26/26 [00:17<00:00,  1.45it/s, PPYoloELoss/loss=1.74, PPYoloELoss/loss_cls=0.783, PPYoloELoss/loss_dfl=0.541, PPYoloELoss/loss_iou=0.417, gpu_mem=6.82]\n",
            "Validating epoch 161: 100%|██████████| 8/8 [00:03<00:00,  2.33it/s]\n"
          ]
        },
        {
          "metadata": {
            "tags": null
          },
          "name": "stdout",
          "output_type": "stream",
          "text": [
            "===========================================================\n",
            "SUMMARY OF EPOCH 161\n",
            "├── Train\n",
            "│   ├── Ppyoloeloss/loss_cls = 0.7829\n",
            "│   │   ├── Epoch N-1      = 0.7805 (\u001b[31m↗ 0.0025\u001b[0m)\n",
            "│   │   └── Best until now = 0.7753 (\u001b[31m↗ 0.0077\u001b[0m)\n",
            "│   ├── Ppyoloeloss/loss_iou = 0.417\n",
            "│   │   ├── Epoch N-1      = 0.4069 (\u001b[31m↗ 0.0101\u001b[0m)\n",
            "│   │   └── Best until now = 0.4069 (\u001b[31m↗ 0.0101\u001b[0m)\n",
            "│   ├── Ppyoloeloss/loss_dfl = 0.5415\n",
            "│   │   ├── Epoch N-1      = 0.5209 (\u001b[31m↗ 0.0206\u001b[0m)\n",
            "│   │   └── Best until now = 0.5208 (\u001b[31m↗ 0.0207\u001b[0m)\n",
            "│   └── Ppyoloeloss/loss = 1.7414\n",
            "│       ├── Epoch N-1      = 1.7083 (\u001b[31m↗ 0.0331\u001b[0m)\n",
            "│       └── Best until now = 1.7083 (\u001b[31m↗ 0.0332\u001b[0m)\n",
            "└── Validation\n",
            "    ├── Ppyoloeloss/loss_cls = 0.7682\n",
            "    │   ├── Epoch N-1      = 0.8028 (\u001b[32m↘ -0.0346\u001b[0m)\n",
            "    │   └── Best until now = 0.6828 (\u001b[31m↗ 0.0854\u001b[0m)\n",
            "    ├── Ppyoloeloss/loss_iou = 0.3925\n",
            "    │   ├── Epoch N-1      = 0.3967 (\u001b[32m↘ -0.0042\u001b[0m)\n",
            "    │   └── Best until now = 0.3708 (\u001b[31m↗ 0.0218\u001b[0m)\n",
            "    ├── Ppyoloeloss/loss_dfl = 0.5553\n",
            "    │   ├── Epoch N-1      = 0.5535 (\u001b[31m↗ 0.0018\u001b[0m)\n",
            "    │   └── Best until now = 0.5269 (\u001b[31m↗ 0.0284\u001b[0m)\n",
            "    ├── Ppyoloeloss/loss = 1.7161\n",
            "    │   ├── Epoch N-1      = 1.753  (\u001b[32m↘ -0.0369\u001b[0m)\n",
            "    │   └── Best until now = 1.6541 (\u001b[31m↗ 0.0619\u001b[0m)\n",
            "    ├── Precision@0.50 = 0.0498\n",
            "    │   ├── Epoch N-1      = 0.058  (\u001b[31m↘ -0.0083\u001b[0m)\n",
            "    │   └── Best until now = 0.1599 (\u001b[31m↘ -0.1101\u001b[0m)\n",
            "    ├── Recall@0.50 = 0.9677\n",
            "    │   ├── Epoch N-1      = 0.9677 (\u001b[37m= 0.0\u001b[0m)\n",
            "    │   └── Best until now = 0.9839 (\u001b[31m↘ -0.0161\u001b[0m)\n",
            "    ├── Map@0.50 = 0.9343\n",
            "    │   ├── Epoch N-1      = 0.9387 (\u001b[31m↘ -0.0044\u001b[0m)\n",
            "    │   └── Best until now = 0.9511 (\u001b[31m↘ -0.0167\u001b[0m)\n",
            "    └── F1@0.50 = 0.0946\n",
            "        ├── Epoch N-1      = 0.1095 (\u001b[31m↘ -0.0149\u001b[0m)\n",
            "        └── Best until now = 0.2738 (\u001b[31m↘ -0.1791\u001b[0m)\n",
            "\n",
            "===========================================================\n"
          ]
        },
        {
          "metadata": {
            "tags": null
          },
          "name": "stderr",
          "output_type": "stream",
          "text": [
            "Train epoch 162: 100%|██████████| 26/26 [00:18<00:00,  1.43it/s, PPYoloELoss/loss=1.76, PPYoloELoss/loss_cls=0.798, PPYoloELoss/loss_dfl=0.541, PPYoloELoss/loss_iou=0.418, gpu_mem=6.96]\n",
            "Validating epoch 162: 100%|██████████| 8/8 [00:03<00:00,  2.57it/s]\n"
          ]
        },
        {
          "metadata": {
            "tags": null
          },
          "name": "stdout",
          "output_type": "stream",
          "text": [
            "===========================================================\n",
            "SUMMARY OF EPOCH 162\n",
            "├── Train\n",
            "│   ├── Ppyoloeloss/loss_cls = 0.7978\n",
            "│   │   ├── Epoch N-1      = 0.7829 (\u001b[31m↗ 0.0148\u001b[0m)\n",
            "│   │   └── Best until now = 0.7753 (\u001b[31m↗ 0.0225\u001b[0m)\n",
            "│   ├── Ppyoloeloss/loss_iou = 0.4177\n",
            "│   │   ├── Epoch N-1      = 0.417  (\u001b[31m↗ 0.0007\u001b[0m)\n",
            "│   │   └── Best until now = 0.4069 (\u001b[31m↗ 0.0108\u001b[0m)\n",
            "│   ├── Ppyoloeloss/loss_dfl = 0.5411\n",
            "│   │   ├── Epoch N-1      = 0.5415 (\u001b[32m↘ -0.0004\u001b[0m)\n",
            "│   │   └── Best until now = 0.5208 (\u001b[31m↗ 0.0203\u001b[0m)\n",
            "│   └── Ppyoloeloss/loss = 1.7566\n",
            "│       ├── Epoch N-1      = 1.7414 (\u001b[31m↗ 0.0151\u001b[0m)\n",
            "│       └── Best until now = 1.7083 (\u001b[31m↗ 0.0483\u001b[0m)\n",
            "└── Validation\n",
            "    ├── Ppyoloeloss/loss_cls = 0.7722\n",
            "    │   ├── Epoch N-1      = 0.7682 (\u001b[31m↗ 0.004\u001b[0m)\n",
            "    │   └── Best until now = 0.6828 (\u001b[31m↗ 0.0894\u001b[0m)\n",
            "    ├── Ppyoloeloss/loss_iou = 0.393\n",
            "    │   ├── Epoch N-1      = 0.3925 (\u001b[31m↗ 0.0005\u001b[0m)\n",
            "    │   └── Best until now = 0.3708 (\u001b[31m↗ 0.0222\u001b[0m)\n",
            "    ├── Ppyoloeloss/loss_dfl = 0.5709\n",
            "    │   ├── Epoch N-1      = 0.5553 (\u001b[31m↗ 0.0155\u001b[0m)\n",
            "    │   └── Best until now = 0.5269 (\u001b[31m↗ 0.044\u001b[0m)\n",
            "    ├── Ppyoloeloss/loss = 1.7361\n",
            "    │   ├── Epoch N-1      = 1.7161 (\u001b[31m↗ 0.02\u001b[0m)\n",
            "    │   └── Best until now = 1.6541 (\u001b[31m↗ 0.0819\u001b[0m)\n",
            "    ├── Precision@0.50 = 0.0567\n",
            "    │   ├── Epoch N-1      = 0.0498 (\u001b[32m↗ 0.0069\u001b[0m)\n",
            "    │   └── Best until now = 0.1599 (\u001b[31m↘ -0.1032\u001b[0m)\n",
            "    ├── Recall@0.50 = 0.9677\n",
            "    │   ├── Epoch N-1      = 0.9677 (\u001b[37m= 0.0\u001b[0m)\n",
            "    │   └── Best until now = 0.9839 (\u001b[31m↘ -0.0161\u001b[0m)\n",
            "    ├── Map@0.50 = 0.9368\n",
            "    │   ├── Epoch N-1      = 0.9343 (\u001b[32m↗ 0.0024\u001b[0m)\n",
            "    │   └── Best until now = 0.9511 (\u001b[31m↘ -0.0143\u001b[0m)\n",
            "    └── F1@0.50 = 0.107\n",
            "        ├── Epoch N-1      = 0.0946 (\u001b[32m↗ 0.0124\u001b[0m)\n",
            "        └── Best until now = 0.2738 (\u001b[31m↘ -0.1667\u001b[0m)\n",
            "\n",
            "===========================================================\n"
          ]
        },
        {
          "metadata": {
            "tags": null
          },
          "name": "stderr",
          "output_type": "stream",
          "text": [
            "Train epoch 163: 100%|██████████| 26/26 [00:18<00:00,  1.39it/s, PPYoloELoss/loss=1.75, PPYoloELoss/loss_cls=0.792, PPYoloELoss/loss_dfl=0.538, PPYoloELoss/loss_iou=0.421, gpu_mem=6.85]\n",
            "Validating epoch 163: 100%|██████████| 8/8 [00:03<00:00,  2.63it/s]\n"
          ]
        },
        {
          "metadata": {
            "tags": null
          },
          "name": "stdout",
          "output_type": "stream",
          "text": [
            "===========================================================\n",
            "SUMMARY OF EPOCH 163\n",
            "├── Train\n",
            "│   ├── Ppyoloeloss/loss_cls = 0.7925\n",
            "│   │   ├── Epoch N-1      = 0.7978 (\u001b[32m↘ -0.0053\u001b[0m)\n",
            "│   │   └── Best until now = 0.7753 (\u001b[31m↗ 0.0172\u001b[0m)\n",
            "│   ├── Ppyoloeloss/loss_iou = 0.4205\n",
            "│   │   ├── Epoch N-1      = 0.4177 (\u001b[31m↗ 0.0028\u001b[0m)\n",
            "│   │   └── Best until now = 0.4069 (\u001b[31m↗ 0.0136\u001b[0m)\n",
            "│   ├── Ppyoloeloss/loss_dfl = 0.5376\n",
            "│   │   ├── Epoch N-1      = 0.5411 (\u001b[32m↘ -0.0035\u001b[0m)\n",
            "│   │   └── Best until now = 0.5208 (\u001b[31m↗ 0.0168\u001b[0m)\n",
            "│   └── Ppyoloeloss/loss = 1.7506\n",
            "│       ├── Epoch N-1      = 1.7566 (\u001b[32m↘ -0.006\u001b[0m)\n",
            "│       └── Best until now = 1.7083 (\u001b[31m↗ 0.0423\u001b[0m)\n",
            "└── Validation\n",
            "    ├── Ppyoloeloss/loss_cls = 0.7252\n",
            "    │   ├── Epoch N-1      = 0.7722 (\u001b[32m↘ -0.047\u001b[0m)\n",
            "    │   └── Best until now = 0.6828 (\u001b[31m↗ 0.0425\u001b[0m)\n",
            "    ├── Ppyoloeloss/loss_iou = 0.3926\n",
            "    │   ├── Epoch N-1      = 0.393  (\u001b[32m↘ -0.0004\u001b[0m)\n",
            "    │   └── Best until now = 0.3708 (\u001b[31m↗ 0.0218\u001b[0m)\n",
            "    ├── Ppyoloeloss/loss_dfl = 0.5601\n",
            "    │   ├── Epoch N-1      = 0.5709 (\u001b[32m↘ -0.0108\u001b[0m)\n",
            "    │   └── Best until now = 0.5269 (\u001b[31m↗ 0.0332\u001b[0m)\n",
            "    ├── Ppyoloeloss/loss = 1.6779\n",
            "    │   ├── Epoch N-1      = 1.7361 (\u001b[32m↘ -0.0582\u001b[0m)\n",
            "    │   └── Best until now = 1.6541 (\u001b[31m↗ 0.0238\u001b[0m)\n",
            "    ├── Precision@0.50 = 0.0663\n",
            "    │   ├── Epoch N-1      = 0.0567 (\u001b[32m↗ 0.0096\u001b[0m)\n",
            "    │   └── Best until now = 0.1599 (\u001b[31m↘ -0.0936\u001b[0m)\n",
            "    ├── Recall@0.50 = 0.9677\n",
            "    │   ├── Epoch N-1      = 0.9677 (\u001b[37m= 0.0\u001b[0m)\n",
            "    │   └── Best until now = 0.9839 (\u001b[31m↘ -0.0161\u001b[0m)\n",
            "    ├── Map@0.50 = 0.9422\n",
            "    │   ├── Epoch N-1      = 0.9368 (\u001b[32m↗ 0.0054\u001b[0m)\n",
            "    │   └── Best until now = 0.9511 (\u001b[31m↘ -0.0089\u001b[0m)\n",
            "    └── F1@0.50 = 0.1241\n",
            "        ├── Epoch N-1      = 0.107  (\u001b[32m↗ 0.017\u001b[0m)\n",
            "        └── Best until now = 0.2738 (\u001b[31m↘ -0.1497\u001b[0m)\n",
            "\n",
            "===========================================================\n"
          ]
        },
        {
          "metadata": {
            "tags": null
          },
          "name": "stderr",
          "output_type": "stream",
          "text": [
            "Train epoch 164: 100%|██████████| 26/26 [00:18<00:00,  1.37it/s, PPYoloELoss/loss=1.68, PPYoloELoss/loss_cls=0.769, PPYoloELoss/loss_dfl=0.512, PPYoloELoss/loss_iou=0.394, gpu_mem=6.84]\n",
            "Validating epoch 164: 100%|██████████| 8/8 [00:03<00:00,  2.64it/s]\n"
          ]
        },
        {
          "metadata": {
            "tags": null
          },
          "name": "stdout",
          "output_type": "stream",
          "text": [
            "===========================================================\n",
            "SUMMARY OF EPOCH 164\n",
            "├── Train\n",
            "│   ├── Ppyoloeloss/loss_cls = 0.7692\n",
            "│   │   ├── Epoch N-1      = 0.7925 (\u001b[32m↘ -0.0232\u001b[0m)\n",
            "│   │   └── Best until now = 0.7753 (\u001b[32m↘ -0.006\u001b[0m)\n",
            "│   ├── Ppyoloeloss/loss_iou = 0.3939\n",
            "│   │   ├── Epoch N-1      = 0.4205 (\u001b[32m↘ -0.0266\u001b[0m)\n",
            "│   │   └── Best until now = 0.4069 (\u001b[32m↘ -0.013\u001b[0m)\n",
            "│   ├── Ppyoloeloss/loss_dfl = 0.5123\n",
            "│   │   ├── Epoch N-1      = 0.5376 (\u001b[32m↘ -0.0253\u001b[0m)\n",
            "│   │   └── Best until now = 0.5208 (\u001b[32m↘ -0.0084\u001b[0m)\n",
            "│   └── Ppyoloeloss/loss = 1.6755\n",
            "│       ├── Epoch N-1      = 1.7506 (\u001b[32m↘ -0.0751\u001b[0m)\n",
            "│       └── Best until now = 1.7083 (\u001b[32m↘ -0.0328\u001b[0m)\n",
            "└── Validation\n",
            "    ├── Ppyoloeloss/loss_cls = 0.7228\n",
            "    │   ├── Epoch N-1      = 0.7252 (\u001b[32m↘ -0.0025\u001b[0m)\n",
            "    │   └── Best until now = 0.6828 (\u001b[31m↗ 0.04\u001b[0m)\n",
            "    ├── Ppyoloeloss/loss_iou = 0.4076\n",
            "    │   ├── Epoch N-1      = 0.3926 (\u001b[31m↗ 0.015\u001b[0m)\n",
            "    │   └── Best until now = 0.3708 (\u001b[31m↗ 0.0368\u001b[0m)\n",
            "    ├── Ppyoloeloss/loss_dfl = 0.5763\n",
            "    │   ├── Epoch N-1      = 0.5601 (\u001b[31m↗ 0.0162\u001b[0m)\n",
            "    │   └── Best until now = 0.5269 (\u001b[31m↗ 0.0494\u001b[0m)\n",
            "    ├── Ppyoloeloss/loss = 1.7066\n",
            "    │   ├── Epoch N-1      = 1.6779 (\u001b[31m↗ 0.0286\u001b[0m)\n",
            "    │   └── Best until now = 1.6541 (\u001b[31m↗ 0.0524\u001b[0m)\n",
            "    ├── Precision@0.50 = 0.1038\n",
            "    │   ├── Epoch N-1      = 0.0663 (\u001b[32m↗ 0.0375\u001b[0m)\n",
            "    │   └── Best until now = 0.1599 (\u001b[31m↘ -0.0561\u001b[0m)\n",
            "    ├── Recall@0.50 = 0.9677\n",
            "    │   ├── Epoch N-1      = 0.9677 (\u001b[37m= 0.0\u001b[0m)\n",
            "    │   └── Best until now = 0.9839 (\u001b[31m↘ -0.0161\u001b[0m)\n",
            "    ├── Map@0.50 = 0.9406\n",
            "    │   ├── Epoch N-1      = 0.9422 (\u001b[31m↘ -0.0016\u001b[0m)\n",
            "    │   └── Best until now = 0.9511 (\u001b[31m↘ -0.0105\u001b[0m)\n",
            "    └── F1@0.50 = 0.1875\n",
            "        ├── Epoch N-1      = 0.1241 (\u001b[32m↗ 0.0634\u001b[0m)\n",
            "        └── Best until now = 0.2738 (\u001b[31m↘ -0.0863\u001b[0m)\n",
            "\n",
            "===========================================================\n"
          ]
        },
        {
          "metadata": {
            "tags": null
          },
          "name": "stderr",
          "output_type": "stream",
          "text": [
            "Train epoch 165: 100%|██████████| 26/26 [00:18<00:00,  1.39it/s, PPYoloELoss/loss=1.76, PPYoloELoss/loss_cls=0.811, PPYoloELoss/loss_dfl=0.529, PPYoloELoss/loss_iou=0.417, gpu_mem=6.96]\n",
            "Validating epoch 165: 100%|██████████| 8/8 [00:03<00:00,  2.41it/s]\n"
          ]
        },
        {
          "metadata": {
            "tags": null
          },
          "name": "stdout",
          "output_type": "stream",
          "text": [
            "===========================================================\n",
            "SUMMARY OF EPOCH 165\n",
            "├── Train\n",
            "│   ├── Ppyoloeloss/loss_cls = 0.8113\n",
            "│   │   ├── Epoch N-1      = 0.7692 (\u001b[31m↗ 0.042\u001b[0m)\n",
            "│   │   └── Best until now = 0.7692 (\u001b[31m↗ 0.042\u001b[0m)\n",
            "│   ├── Ppyoloeloss/loss_iou = 0.4174\n",
            "│   │   ├── Epoch N-1      = 0.3939 (\u001b[31m↗ 0.0235\u001b[0m)\n",
            "│   │   └── Best until now = 0.3939 (\u001b[31m↗ 0.0235\u001b[0m)\n",
            "│   ├── Ppyoloeloss/loss_dfl = 0.5294\n",
            "│   │   ├── Epoch N-1      = 0.5123 (\u001b[31m↗ 0.017\u001b[0m)\n",
            "│   │   └── Best until now = 0.5123 (\u001b[31m↗ 0.017\u001b[0m)\n",
            "│   └── Ppyoloeloss/loss = 1.758\n",
            "│       ├── Epoch N-1      = 1.6755 (\u001b[31m↗ 0.0826\u001b[0m)\n",
            "│       └── Best until now = 1.6755 (\u001b[31m↗ 0.0826\u001b[0m)\n",
            "└── Validation\n",
            "    ├── Ppyoloeloss/loss_cls = 0.7681\n",
            "    │   ├── Epoch N-1      = 0.7228 (\u001b[31m↗ 0.0454\u001b[0m)\n",
            "    │   └── Best until now = 0.6828 (\u001b[31m↗ 0.0854\u001b[0m)\n",
            "    ├── Ppyoloeloss/loss_iou = 0.4125\n",
            "    │   ├── Epoch N-1      = 0.4076 (\u001b[31m↗ 0.005\u001b[0m)\n",
            "    │   └── Best until now = 0.3708 (\u001b[31m↗ 0.0418\u001b[0m)\n",
            "    ├── Ppyoloeloss/loss_dfl = 0.5639\n",
            "    │   ├── Epoch N-1      = 0.5763 (\u001b[32m↘ -0.0124\u001b[0m)\n",
            "    │   └── Best until now = 0.5269 (\u001b[31m↗ 0.037\u001b[0m)\n",
            "    ├── Ppyoloeloss/loss = 1.7445\n",
            "    │   ├── Epoch N-1      = 1.7066 (\u001b[31m↗ 0.0379\u001b[0m)\n",
            "    │   └── Best until now = 1.6541 (\u001b[31m↗ 0.0904\u001b[0m)\n",
            "    ├── Precision@0.50 = 0.068\n",
            "    │   ├── Epoch N-1      = 0.1038 (\u001b[31m↘ -0.0359\u001b[0m)\n",
            "    │   └── Best until now = 0.1599 (\u001b[31m↘ -0.0919\u001b[0m)\n",
            "    ├── Recall@0.50 = 0.9677\n",
            "    │   ├── Epoch N-1      = 0.9677 (\u001b[37m= 0.0\u001b[0m)\n",
            "    │   └── Best until now = 0.9839 (\u001b[31m↘ -0.0161\u001b[0m)\n",
            "    ├── Map@0.50 = 0.9149\n",
            "    │   ├── Epoch N-1      = 0.9406 (\u001b[31m↘ -0.0256\u001b[0m)\n",
            "    │   └── Best until now = 0.9511 (\u001b[31m↘ -0.0361\u001b[0m)\n",
            "    └── F1@0.50 = 0.127\n",
            "        ├── Epoch N-1      = 0.1875 (\u001b[31m↘ -0.0605\u001b[0m)\n",
            "        └── Best until now = 0.2738 (\u001b[31m↘ -0.1468\u001b[0m)\n",
            "\n",
            "===========================================================\n"
          ]
        },
        {
          "metadata": {
            "tags": null
          },
          "name": "stderr",
          "output_type": "stream",
          "text": [
            "Train epoch 166: 100%|██████████| 26/26 [00:18<00:00,  1.39it/s, PPYoloELoss/loss=1.76, PPYoloELoss/loss_cls=0.793, PPYoloELoss/loss_dfl=0.538, PPYoloELoss/loss_iou=0.428, gpu_mem=6.82]\n",
            "Validating epoch 166: 100%|██████████| 8/8 [00:03<00:00,  2.44it/s]\n"
          ]
        },
        {
          "metadata": {
            "tags": null
          },
          "name": "stdout",
          "output_type": "stream",
          "text": [
            "===========================================================\n",
            "SUMMARY OF EPOCH 166\n",
            "├── Train\n",
            "│   ├── Ppyoloeloss/loss_cls = 0.7932\n",
            "│   │   ├── Epoch N-1      = 0.8113 (\u001b[32m↘ -0.0181\u001b[0m)\n",
            "│   │   └── Best until now = 0.7692 (\u001b[31m↗ 0.024\u001b[0m)\n",
            "│   ├── Ppyoloeloss/loss_iou = 0.428\n",
            "│   │   ├── Epoch N-1      = 0.4174 (\u001b[31m↗ 0.0106\u001b[0m)\n",
            "│   │   └── Best until now = 0.3939 (\u001b[31m↗ 0.0341\u001b[0m)\n",
            "│   ├── Ppyoloeloss/loss_dfl = 0.5382\n",
            "│   │   ├── Epoch N-1      = 0.5294 (\u001b[31m↗ 0.0088\u001b[0m)\n",
            "│   │   └── Best until now = 0.5123 (\u001b[31m↗ 0.0259\u001b[0m)\n",
            "│   └── Ppyoloeloss/loss = 1.7594\n",
            "│       ├── Epoch N-1      = 1.758  (\u001b[31m↗ 0.0014\u001b[0m)\n",
            "│       └── Best until now = 1.6755 (\u001b[31m↗ 0.084\u001b[0m)\n",
            "└── Validation\n",
            "    ├── Ppyoloeloss/loss_cls = 0.7296\n",
            "    │   ├── Epoch N-1      = 0.7681 (\u001b[32m↘ -0.0385\u001b[0m)\n",
            "    │   └── Best until now = 0.6828 (\u001b[31m↗ 0.0469\u001b[0m)\n",
            "    ├── Ppyoloeloss/loss_iou = 0.407\n",
            "    │   ├── Epoch N-1      = 0.4125 (\u001b[32m↘ -0.0055\u001b[0m)\n",
            "    │   └── Best until now = 0.3708 (\u001b[31m↗ 0.0362\u001b[0m)\n",
            "    ├── Ppyoloeloss/loss_dfl = 0.5487\n",
            "    │   ├── Epoch N-1      = 0.5639 (\u001b[32m↘ -0.0152\u001b[0m)\n",
            "    │   └── Best until now = 0.5269 (\u001b[31m↗ 0.0218\u001b[0m)\n",
            "    ├── Ppyoloeloss/loss = 1.6853\n",
            "    │   ├── Epoch N-1      = 1.7445 (\u001b[32m↘ -0.0592\u001b[0m)\n",
            "    │   └── Best until now = 1.6541 (\u001b[31m↗ 0.0312\u001b[0m)\n",
            "    ├── Precision@0.50 = 0.092\n",
            "    │   ├── Epoch N-1      = 0.068  (\u001b[32m↗ 0.0241\u001b[0m)\n",
            "    │   └── Best until now = 0.1599 (\u001b[31m↘ -0.0679\u001b[0m)\n",
            "    ├── Recall@0.50 = 0.9677\n",
            "    │   ├── Epoch N-1      = 0.9677 (\u001b[37m= 0.0\u001b[0m)\n",
            "    │   └── Best until now = 0.9839 (\u001b[31m↘ -0.0161\u001b[0m)\n",
            "    ├── Map@0.50 = 0.9165\n",
            "    │   ├── Epoch N-1      = 0.9149 (\u001b[32m↗ 0.0016\u001b[0m)\n",
            "    │   └── Best until now = 0.9511 (\u001b[31m↘ -0.0345\u001b[0m)\n",
            "    └── F1@0.50 = 0.1681\n",
            "        ├── Epoch N-1      = 0.127  (\u001b[32m↗ 0.0411\u001b[0m)\n",
            "        └── Best until now = 0.2738 (\u001b[31m↘ -0.1057\u001b[0m)\n",
            "\n",
            "===========================================================\n"
          ]
        },
        {
          "metadata": {
            "tags": null
          },
          "name": "stderr",
          "output_type": "stream",
          "text": [
            "Train epoch 167: 100%|██████████| 26/26 [00:18<00:00,  1.44it/s, PPYoloELoss/loss=1.76, PPYoloELoss/loss_cls=0.807, PPYoloELoss/loss_dfl=0.538, PPYoloELoss/loss_iou=0.42, gpu_mem=6.98]\n",
            "Validating epoch 167: 100%|██████████| 8/8 [00:03<00:00,  2.32it/s]\n"
          ]
        },
        {
          "output_type": "stream",
          "name": "stdout",
          "text": [
            "===========================================================\n",
            "SUMMARY OF EPOCH 167\n",
            "├── Train\n",
            "│   ├── Ppyoloeloss/loss_cls = 0.8073\n",
            "│   │   ├── Epoch N-1      = 0.7932 (\u001b[31m↗ 0.0141\u001b[0m)\n",
            "│   │   └── Best until now = 0.7692 (\u001b[31m↗ 0.0381\u001b[0m)\n",
            "│   ├── Ppyoloeloss/loss_iou = 0.4195\n",
            "│   │   ├── Epoch N-1      = 0.428  (\u001b[32m↘ -0.0085\u001b[0m)\n",
            "│   │   └── Best until now = 0.3939 (\u001b[31m↗ 0.0256\u001b[0m)\n",
            "│   ├── Ppyoloeloss/loss_dfl = 0.5378\n",
            "│   │   ├── Epoch N-1      = 0.5382 (\u001b[32m↘ -0.0004\u001b[0m)\n",
            "│   │   └── Best until now = 0.5123 (\u001b[31m↗ 0.0255\u001b[0m)\n",
            "│   └── Ppyoloeloss/loss = 1.7647\n",
            "│       ├── Epoch N-1      = 1.7594 (\u001b[31m↗ 0.0052\u001b[0m)\n",
            "│       └── Best until now = 1.6755 (\u001b[31m↗ 0.0892\u001b[0m)\n",
            "└── Validation\n",
            "    ├── Ppyoloeloss/loss_cls = 0.8365\n",
            "    │   ├── Epoch N-1      = 0.7296 (\u001b[31m↗ 0.1068\u001b[0m)\n",
            "    │   └── Best until now = 0.6828 (\u001b[31m↗ 0.1537\u001b[0m)\n",
            "    ├── Ppyoloeloss/loss_iou = 0.4337\n",
            "    │   ├── Epoch N-1      = 0.407  (\u001b[31m↗ 0.0267\u001b[0m)\n",
            "    │   └── Best until now = 0.3708 (\u001b[31m↗ 0.0629\u001b[0m)\n",
            "    ├── Ppyoloeloss/loss_dfl = 0.5698\n",
            "    │   ├── Epoch N-1      = 0.5487 (\u001b[31m↗ 0.0211\u001b[0m)\n",
            "    │   └── Best until now = 0.5269 (\u001b[31m↗ 0.0429\u001b[0m)\n",
            "    ├── Ppyoloeloss/loss = 1.84\n",
            "    │   ├── Epoch N-1      = 1.6853 (\u001b[31m↗ 0.1547\u001b[0m)\n",
            "    │   └── Best until now = 1.6541 (\u001b[31m↗ 0.1858\u001b[0m)\n",
            "    ├── Precision@0.50 = 0.0656\n",
            "    │   ├── Epoch N-1      = 0.092  (\u001b[31m↘ -0.0264\u001b[0m)\n",
            "    │   └── Best until now = 0.1599 (\u001b[31m↘ -0.0942\u001b[0m)\n",
            "    ├── Recall@0.50 = 0.9677\n",
            "    │   ├── Epoch N-1      = 0.9677 (\u001b[37m= 0.0\u001b[0m)\n",
            "    │   └── Best until now = 0.9839 (\u001b[31m↘ -0.0161\u001b[0m)\n",
            "    ├── Map@0.50 = 0.8675\n",
            "    │   ├── Epoch N-1      = 0.9165 (\u001b[31m↘ -0.049\u001b[0m)\n",
            "    │   └── Best until now = 0.9511 (\u001b[31m↘ -0.0835\u001b[0m)\n",
            "    └── F1@0.50 = 0.123\n",
            "        ├── Epoch N-1      = 0.1681 (\u001b[31m↘ -0.0451\u001b[0m)\n",
            "        └── Best until now = 0.2738 (\u001b[31m↘ -0.1508\u001b[0m)\n",
            "\n",
            "===========================================================\n"
          ]
        },
        {
          "output_type": "stream",
          "name": "stderr",
          "text": [
            "Train epoch 168: 100%|██████████| 26/26 [00:18<00:00,  1.43it/s, PPYoloELoss/loss=1.73, PPYoloELoss/loss_cls=0.779, PPYoloELoss/loss_dfl=0.532, PPYoloELoss/loss_iou=0.423, gpu_mem=6.83]\n",
            "Validating epoch 168: 100%|██████████| 8/8 [00:03<00:00,  2.55it/s]\n"
          ]
        },
        {
          "output_type": "stream",
          "name": "stdout",
          "text": [
            "===========================================================\n",
            "SUMMARY OF EPOCH 168\n",
            "├── Train\n",
            "│   ├── Ppyoloeloss/loss_cls = 0.7794\n",
            "│   │   ├── Epoch N-1      = 0.8073 (\u001b[32m↘ -0.0279\u001b[0m)\n",
            "│   │   └── Best until now = 0.7692 (\u001b[31m↗ 0.0101\u001b[0m)\n",
            "│   ├── Ppyoloeloss/loss_iou = 0.4226\n",
            "│   │   ├── Epoch N-1      = 0.4195 (\u001b[31m↗ 0.0031\u001b[0m)\n",
            "│   │   └── Best until now = 0.3939 (\u001b[31m↗ 0.0287\u001b[0m)\n",
            "│   ├── Ppyoloeloss/loss_dfl = 0.5319\n",
            "│   │   ├── Epoch N-1      = 0.5378 (\u001b[32m↘ -0.0059\u001b[0m)\n",
            "│   │   └── Best until now = 0.5123 (\u001b[31m↗ 0.0196\u001b[0m)\n",
            "│   └── Ppyoloeloss/loss = 1.7339\n",
            "│       ├── Epoch N-1      = 1.7647 (\u001b[32m↘ -0.0308\u001b[0m)\n",
            "│       └── Best until now = 1.6755 (\u001b[31m↗ 0.0584\u001b[0m)\n",
            "└── Validation\n",
            "    ├── Ppyoloeloss/loss_cls = 0.7299\n",
            "    │   ├── Epoch N-1      = 0.8365 (\u001b[32m↘ -0.1065\u001b[0m)\n",
            "    │   └── Best until now = 0.6828 (\u001b[31m↗ 0.0472\u001b[0m)\n",
            "    ├── Ppyoloeloss/loss_iou = 0.4111\n",
            "    │   ├── Epoch N-1      = 0.4337 (\u001b[32m↘ -0.0226\u001b[0m)\n",
            "    │   └── Best until now = 0.3708 (\u001b[31m↗ 0.0403\u001b[0m)\n",
            "    ├── Ppyoloeloss/loss_dfl = 0.5656\n",
            "    │   ├── Epoch N-1      = 0.5698 (\u001b[32m↘ -0.0043\u001b[0m)\n",
            "    │   └── Best until now = 0.5269 (\u001b[31m↗ 0.0387\u001b[0m)\n",
            "    ├── Ppyoloeloss/loss = 1.7066\n",
            "    │   ├── Epoch N-1      = 1.84   (\u001b[32m↘ -0.1334\u001b[0m)\n",
            "    │   └── Best until now = 1.6541 (\u001b[31m↗ 0.0524\u001b[0m)\n",
            "    ├── Precision@0.50 = 0.0683\n",
            "    │   ├── Epoch N-1      = 0.0656 (\u001b[32m↗ 0.0027\u001b[0m)\n",
            "    │   └── Best until now = 0.1599 (\u001b[31m↘ -0.0916\u001b[0m)\n",
            "    ├── Recall@0.50 = 0.9677\n",
            "    │   ├── Epoch N-1      = 0.9677 (\u001b[37m= 0.0\u001b[0m)\n",
            "    │   └── Best until now = 0.9839 (\u001b[31m↘ -0.0161\u001b[0m)\n",
            "    ├── Map@0.50 = 0.9298\n",
            "    │   ├── Epoch N-1      = 0.8675 (\u001b[32m↗ 0.0622\u001b[0m)\n",
            "    │   └── Best until now = 0.9511 (\u001b[31m↘ -0.0213\u001b[0m)\n",
            "    └── F1@0.50 = 0.1277\n",
            "        ├── Epoch N-1      = 0.123  (\u001b[32m↗ 0.0047\u001b[0m)\n",
            "        └── Best until now = 0.2738 (\u001b[31m↘ -0.1461\u001b[0m)\n",
            "\n",
            "===========================================================\n"
          ]
        },
        {
          "output_type": "stream",
          "name": "stderr",
          "text": [
            "Train epoch 169: 100%|██████████| 26/26 [00:17<00:00,  1.47it/s, PPYoloELoss/loss=1.7, PPYoloELoss/loss_cls=0.775, PPYoloELoss/loss_dfl=0.525, PPYoloELoss/loss_iou=0.402, gpu_mem=6.84]\n",
            "Validating epoch 169: 100%|██████████| 8/8 [00:03<00:00,  2.64it/s]\n"
          ]
        },
        {
          "output_type": "stream",
          "name": "stdout",
          "text": [
            "===========================================================\n",
            "SUMMARY OF EPOCH 169\n",
            "├── Train\n",
            "│   ├── Ppyoloeloss/loss_cls = 0.775\n",
            "│   │   ├── Epoch N-1      = 0.7794 (\u001b[32m↘ -0.0044\u001b[0m)\n",
            "│   │   └── Best until now = 0.7692 (\u001b[31m↗ 0.0058\u001b[0m)\n",
            "│   ├── Ppyoloeloss/loss_iou = 0.402\n",
            "│   │   ├── Epoch N-1      = 0.4226 (\u001b[32m↘ -0.0206\u001b[0m)\n",
            "│   │   └── Best until now = 0.3939 (\u001b[31m↗ 0.0081\u001b[0m)\n",
            "│   ├── Ppyoloeloss/loss_dfl = 0.5246\n",
            "│   │   ├── Epoch N-1      = 0.5319 (\u001b[32m↘ -0.0073\u001b[0m)\n",
            "│   │   └── Best until now = 0.5123 (\u001b[31m↗ 0.0123\u001b[0m)\n",
            "│   └── Ppyoloeloss/loss = 1.7016\n",
            "│       ├── Epoch N-1      = 1.7339 (\u001b[32m↘ -0.0323\u001b[0m)\n",
            "│       └── Best until now = 1.6755 (\u001b[31m↗ 0.0261\u001b[0m)\n",
            "└── Validation\n",
            "    ├── Ppyoloeloss/loss_cls = 0.8156\n",
            "    │   ├── Epoch N-1      = 0.7299 (\u001b[31m↗ 0.0857\u001b[0m)\n",
            "    │   └── Best until now = 0.6828 (\u001b[31m↗ 0.1328\u001b[0m)\n",
            "    ├── Ppyoloeloss/loss_iou = 0.4176\n",
            "    │   ├── Epoch N-1      = 0.4111 (\u001b[31m↗ 0.0065\u001b[0m)\n",
            "    │   └── Best until now = 0.3708 (\u001b[31m↗ 0.0468\u001b[0m)\n",
            "    ├── Ppyoloeloss/loss_dfl = 0.5863\n",
            "    │   ├── Epoch N-1      = 0.5656 (\u001b[31m↗ 0.0207\u001b[0m)\n",
            "    │   └── Best until now = 0.5269 (\u001b[31m↗ 0.0594\u001b[0m)\n",
            "    ├── Ppyoloeloss/loss = 1.8194\n",
            "    │   ├── Epoch N-1      = 1.7066 (\u001b[31m↗ 0.1128\u001b[0m)\n",
            "    │   └── Best until now = 1.6541 (\u001b[31m↗ 0.1653\u001b[0m)\n",
            "    ├── Precision@0.50 = 0.0389\n",
            "    │   ├── Epoch N-1      = 0.0683 (\u001b[31m↘ -0.0294\u001b[0m)\n",
            "    │   └── Best until now = 0.1599 (\u001b[31m↘ -0.121\u001b[0m)\n",
            "    ├── Recall@0.50 = 0.9677\n",
            "    │   ├── Epoch N-1      = 0.9677 (\u001b[37m= 0.0\u001b[0m)\n",
            "    │   └── Best until now = 0.9839 (\u001b[31m↘ -0.0161\u001b[0m)\n",
            "    ├── Map@0.50 = 0.9448\n",
            "    │   ├── Epoch N-1      = 0.9298 (\u001b[32m↗ 0.015\u001b[0m)\n",
            "    │   └── Best until now = 0.9511 (\u001b[31m↘ -0.0062\u001b[0m)\n",
            "    └── F1@0.50 = 0.0749\n",
            "        ├── Epoch N-1      = 0.1277 (\u001b[31m↘ -0.0528\u001b[0m)\n",
            "        └── Best until now = 0.2738 (\u001b[31m↘ -0.1989\u001b[0m)\n",
            "\n",
            "===========================================================\n"
          ]
        },
        {
          "output_type": "stream",
          "name": "stderr",
          "text": [
            "Train epoch 170: 100%|██████████| 26/26 [00:17<00:00,  1.49it/s, PPYoloELoss/loss=1.71, PPYoloELoss/loss_cls=0.774, PPYoloELoss/loss_dfl=0.535, PPYoloELoss/loss_iou=0.404, gpu_mem=6.83]\n",
            "Validating epoch 170: 100%|██████████| 8/8 [00:03<00:00,  2.59it/s]\n"
          ]
        },
        {
          "output_type": "stream",
          "name": "stdout",
          "text": [
            "===========================================================\n",
            "SUMMARY OF EPOCH 170\n",
            "├── Train\n",
            "│   ├── Ppyoloeloss/loss_cls = 0.7736\n",
            "│   │   ├── Epoch N-1      = 0.775  (\u001b[32m↘ -0.0014\u001b[0m)\n",
            "│   │   └── Best until now = 0.7692 (\u001b[31m↗ 0.0044\u001b[0m)\n",
            "│   ├── Ppyoloeloss/loss_iou = 0.4037\n",
            "│   │   ├── Epoch N-1      = 0.402  (\u001b[31m↗ 0.0017\u001b[0m)\n",
            "│   │   └── Best until now = 0.3939 (\u001b[31m↗ 0.0098\u001b[0m)\n",
            "│   ├── Ppyoloeloss/loss_dfl = 0.5353\n",
            "│   │   ├── Epoch N-1      = 0.5246 (\u001b[31m↗ 0.0107\u001b[0m)\n",
            "│   │   └── Best until now = 0.5123 (\u001b[31m↗ 0.023\u001b[0m)\n",
            "│   └── Ppyoloeloss/loss = 1.7126\n",
            "│       ├── Epoch N-1      = 1.7016 (\u001b[31m↗ 0.011\u001b[0m)\n",
            "│       └── Best until now = 1.6755 (\u001b[31m↗ 0.0372\u001b[0m)\n",
            "└── Validation\n",
            "    ├── Ppyoloeloss/loss_cls = 0.7998\n",
            "    │   ├── Epoch N-1      = 0.8156 (\u001b[32m↘ -0.0158\u001b[0m)\n",
            "    │   └── Best until now = 0.6828 (\u001b[31m↗ 0.1171\u001b[0m)\n",
            "    ├── Ppyoloeloss/loss_iou = 0.4137\n",
            "    │   ├── Epoch N-1      = 0.4176 (\u001b[32m↘ -0.0039\u001b[0m)\n",
            "    │   └── Best until now = 0.3708 (\u001b[31m↗ 0.0429\u001b[0m)\n",
            "    ├── Ppyoloeloss/loss_dfl = 0.5688\n",
            "    │   ├── Epoch N-1      = 0.5863 (\u001b[32m↘ -0.0175\u001b[0m)\n",
            "    │   └── Best until now = 0.5269 (\u001b[31m↗ 0.0419\u001b[0m)\n",
            "    ├── Ppyoloeloss/loss = 1.7823\n",
            "    │   ├── Epoch N-1      = 1.8194 (\u001b[32m↘ -0.0371\u001b[0m)\n",
            "    │   └── Best until now = 1.6541 (\u001b[31m↗ 0.1282\u001b[0m)\n",
            "    ├── Precision@0.50 = 0.0444\n",
            "    │   ├── Epoch N-1      = 0.0389 (\u001b[32m↗ 0.0054\u001b[0m)\n",
            "    │   └── Best until now = 0.1599 (\u001b[31m↘ -0.1155\u001b[0m)\n",
            "    ├── Recall@0.50 = 0.9677\n",
            "    │   ├── Epoch N-1      = 0.9677 (\u001b[37m= 0.0\u001b[0m)\n",
            "    │   └── Best until now = 0.9839 (\u001b[31m↘ -0.0161\u001b[0m)\n",
            "    ├── Map@0.50 = 0.8999\n",
            "    │   ├── Epoch N-1      = 0.9448 (\u001b[31m↘ -0.0449\u001b[0m)\n",
            "    │   └── Best until now = 0.9511 (\u001b[31m↘ -0.0512\u001b[0m)\n",
            "    └── F1@0.50 = 0.0849\n",
            "        ├── Epoch N-1      = 0.0749 (\u001b[32m↗ 0.01\u001b[0m)\n",
            "        └── Best until now = 0.2738 (\u001b[31m↘ -0.1889\u001b[0m)\n",
            "\n",
            "===========================================================\n"
          ]
        },
        {
          "output_type": "stream",
          "name": "stderr",
          "text": [
            "Train epoch 171: 100%|██████████| 26/26 [00:18<00:00,  1.44it/s, PPYoloELoss/loss=1.73, PPYoloELoss/loss_cls=0.79, PPYoloELoss/loss_dfl=0.526, PPYoloELoss/loss_iou=0.417, gpu_mem=6.83]\n",
            "Validating epoch 171: 100%|██████████| 8/8 [00:03<00:00,  2.54it/s]\n"
          ]
        },
        {
          "output_type": "stream",
          "name": "stdout",
          "text": [
            "===========================================================\n",
            "SUMMARY OF EPOCH 171\n",
            "├── Train\n",
            "│   ├── Ppyoloeloss/loss_cls = 0.7901\n",
            "│   │   ├── Epoch N-1      = 0.7736 (\u001b[31m↗ 0.0165\u001b[0m)\n",
            "│   │   └── Best until now = 0.7692 (\u001b[31m↗ 0.0208\u001b[0m)\n",
            "│   ├── Ppyoloeloss/loss_iou = 0.4166\n",
            "│   │   ├── Epoch N-1      = 0.4037 (\u001b[31m↗ 0.0129\u001b[0m)\n",
            "│   │   └── Best until now = 0.3939 (\u001b[31m↗ 0.0227\u001b[0m)\n",
            "│   ├── Ppyoloeloss/loss_dfl = 0.5263\n",
            "│   │   ├── Epoch N-1      = 0.5353 (\u001b[32m↘ -0.0089\u001b[0m)\n",
            "│   │   └── Best until now = 0.5123 (\u001b[31m↗ 0.014\u001b[0m)\n",
            "│   └── Ppyoloeloss/loss = 1.733\n",
            "│       ├── Epoch N-1      = 1.7126 (\u001b[31m↗ 0.0204\u001b[0m)\n",
            "│       └── Best until now = 1.6755 (\u001b[31m↗ 0.0575\u001b[0m)\n",
            "└── Validation\n",
            "    ├── Ppyoloeloss/loss_cls = 0.7929\n",
            "    │   ├── Epoch N-1      = 0.7998 (\u001b[32m↘ -0.007\u001b[0m)\n",
            "    │   └── Best until now = 0.6828 (\u001b[31m↗ 0.1101\u001b[0m)\n",
            "    ├── Ppyoloeloss/loss_iou = 0.4101\n",
            "    │   ├── Epoch N-1      = 0.4137 (\u001b[32m↘ -0.0036\u001b[0m)\n",
            "    │   └── Best until now = 0.3708 (\u001b[31m↗ 0.0393\u001b[0m)\n",
            "    ├── Ppyoloeloss/loss_dfl = 0.5703\n",
            "    │   ├── Epoch N-1      = 0.5688 (\u001b[31m↗ 0.0015\u001b[0m)\n",
            "    │   └── Best until now = 0.5269 (\u001b[31m↗ 0.0434\u001b[0m)\n",
            "    ├── Ppyoloeloss/loss = 1.7732\n",
            "    │   ├── Epoch N-1      = 1.7823 (\u001b[32m↘ -0.0091\u001b[0m)\n",
            "    │   └── Best until now = 1.6541 (\u001b[31m↗ 0.1191\u001b[0m)\n",
            "    ├── Precision@0.50 = 0.0524\n",
            "    │   ├── Epoch N-1      = 0.0444 (\u001b[32m↗ 0.0081\u001b[0m)\n",
            "    │   └── Best until now = 0.1599 (\u001b[31m↘ -0.1074\u001b[0m)\n",
            "    ├── Recall@0.50 = 0.9677\n",
            "    │   ├── Epoch N-1      = 0.9677 (\u001b[37m= 0.0\u001b[0m)\n",
            "    │   └── Best until now = 0.9839 (\u001b[31m↘ -0.0161\u001b[0m)\n",
            "    ├── Map@0.50 = 0.9114\n",
            "    │   ├── Epoch N-1      = 0.8999 (\u001b[32m↗ 0.0115\u001b[0m)\n",
            "    │   └── Best until now = 0.9511 (\u001b[31m↘ -0.0397\u001b[0m)\n",
            "    └── F1@0.50 = 0.0995\n",
            "        ├── Epoch N-1      = 0.0849 (\u001b[32m↗ 0.0146\u001b[0m)\n",
            "        └── Best until now = 0.2738 (\u001b[31m↘ -0.1743\u001b[0m)\n",
            "\n",
            "===========================================================\n"
          ]
        },
        {
          "output_type": "stream",
          "name": "stderr",
          "text": [
            "Train epoch 172: 100%|██████████| 26/26 [00:17<00:00,  1.46it/s, PPYoloELoss/loss=1.74, PPYoloELoss/loss_cls=0.791, PPYoloELoss/loss_dfl=0.533, PPYoloELoss/loss_iou=0.412, gpu_mem=6.83]\n",
            "Validating epoch 172: 100%|██████████| 8/8 [00:03<00:00,  2.66it/s]\n",
            "[2023-12-14 20:11:57] INFO - base_sg_logger.py - Checkpoint saved in ./checkpoints/csilab-braintumor-detection/RUN_20231214_144702_032990/ckpt_best.pth\n",
            "[2023-12-14 20:11:57] INFO - sg_trainer.py - Best checkpoint overriden: validation mAP@0.50: 0.9511182308197021\n"
          ]
        },
        {
          "output_type": "stream",
          "name": "stdout",
          "text": [
            "===========================================================\n",
            "SUMMARY OF EPOCH 172\n",
            "├── Train\n",
            "│   ├── Ppyoloeloss/loss_cls = 0.7914\n",
            "│   │   ├── Epoch N-1      = 0.7901 (\u001b[31m↗ 0.0013\u001b[0m)\n",
            "│   │   └── Best until now = 0.7692 (\u001b[31m↗ 0.0222\u001b[0m)\n",
            "│   ├── Ppyoloeloss/loss_iou = 0.4119\n",
            "│   │   ├── Epoch N-1      = 0.4166 (\u001b[32m↘ -0.0046\u001b[0m)\n",
            "│   │   └── Best until now = 0.3939 (\u001b[31m↗ 0.0181\u001b[0m)\n",
            "│   ├── Ppyoloeloss/loss_dfl = 0.5335\n",
            "│   │   ├── Epoch N-1      = 0.5263 (\u001b[31m↗ 0.0071\u001b[0m)\n",
            "│   │   └── Best until now = 0.5123 (\u001b[31m↗ 0.0212\u001b[0m)\n",
            "│   └── Ppyoloeloss/loss = 1.7368\n",
            "│       ├── Epoch N-1      = 1.733  (\u001b[31m↗ 0.0039\u001b[0m)\n",
            "│       └── Best until now = 1.6755 (\u001b[31m↗ 0.0614\u001b[0m)\n",
            "└── Validation\n",
            "    ├── Ppyoloeloss/loss_cls = 0.6789\n",
            "    │   ├── Epoch N-1      = 0.7929 (\u001b[32m↘ -0.1139\u001b[0m)\n",
            "    │   └── Best until now = 0.6828 (\u001b[32m↘ -0.0038\u001b[0m)\n",
            "    ├── Ppyoloeloss/loss_iou = 0.3854\n",
            "    │   ├── Epoch N-1      = 0.4101 (\u001b[32m↘ -0.0247\u001b[0m)\n",
            "    │   └── Best until now = 0.3708 (\u001b[31m↗ 0.0146\u001b[0m)\n",
            "    ├── Ppyoloeloss/loss_dfl = 0.5457\n",
            "    │   ├── Epoch N-1      = 0.5703 (\u001b[32m↘ -0.0246\u001b[0m)\n",
            "    │   └── Best until now = 0.5269 (\u001b[31m↗ 0.0188\u001b[0m)\n",
            "    ├── Ppyoloeloss/loss = 1.61\n",
            "    │   ├── Epoch N-1      = 1.7732 (\u001b[32m↘ -0.1632\u001b[0m)\n",
            "    │   └── Best until now = 1.6541 (\u001b[32m↘ -0.0441\u001b[0m)\n",
            "    ├── Precision@0.50 = 0.0955\n",
            "    │   ├── Epoch N-1      = 0.0524 (\u001b[32m↗ 0.0431\u001b[0m)\n",
            "    │   └── Best until now = 0.1599 (\u001b[31m↘ -0.0644\u001b[0m)\n",
            "    ├── Recall@0.50 = 0.9677\n",
            "    │   ├── Epoch N-1      = 0.9677 (\u001b[37m= 0.0\u001b[0m)\n",
            "    │   └── Best until now = 0.9839 (\u001b[31m↘ -0.0161\u001b[0m)\n",
            "    ├── Map@0.50 = 0.9511\n",
            "    │   ├── Epoch N-1      = 0.9114 (\u001b[32m↗ 0.0397\u001b[0m)\n",
            "    │   └── Best until now = 0.9511 (\u001b[32m↗ 0.0001\u001b[0m)\n",
            "    └── F1@0.50 = 0.1739\n",
            "        ├── Epoch N-1      = 0.0995 (\u001b[32m↗ 0.0744\u001b[0m)\n",
            "        └── Best until now = 0.2738 (\u001b[31m↘ -0.0999\u001b[0m)\n",
            "\n",
            "===========================================================\n"
          ]
        },
        {
          "output_type": "stream",
          "name": "stderr",
          "text": [
            "Train epoch 173: 100%|██████████| 26/26 [00:17<00:00,  1.50it/s, PPYoloELoss/loss=1.7, PPYoloELoss/loss_cls=0.782, PPYoloELoss/loss_dfl=0.513, PPYoloELoss/loss_iou=0.405, gpu_mem=6.83]\n",
            "Validating epoch 173: 100%|██████████| 8/8 [00:03<00:00,  2.47it/s]\n"
          ]
        },
        {
          "output_type": "stream",
          "name": "stdout",
          "text": [
            "===========================================================\n",
            "SUMMARY OF EPOCH 173\n",
            "├── Train\n",
            "│   ├── Ppyoloeloss/loss_cls = 0.782\n",
            "│   │   ├── Epoch N-1      = 0.7914 (\u001b[32m↘ -0.0094\u001b[0m)\n",
            "│   │   └── Best until now = 0.7692 (\u001b[31m↗ 0.0127\u001b[0m)\n",
            "│   ├── Ppyoloeloss/loss_iou = 0.4051\n",
            "│   │   ├── Epoch N-1      = 0.4119 (\u001b[32m↘ -0.0069\u001b[0m)\n",
            "│   │   └── Best until now = 0.3939 (\u001b[31m↗ 0.0112\u001b[0m)\n",
            "│   ├── Ppyoloeloss/loss_dfl = 0.5134\n",
            "│   │   ├── Epoch N-1      = 0.5335 (\u001b[32m↘ -0.0201\u001b[0m)\n",
            "│   │   └── Best until now = 0.5123 (\u001b[31m↗ 0.0011\u001b[0m)\n",
            "│   └── Ppyoloeloss/loss = 1.7004\n",
            "│       ├── Epoch N-1      = 1.7368 (\u001b[32m↘ -0.0364\u001b[0m)\n",
            "│       └── Best until now = 1.6755 (\u001b[31m↗ 0.0249\u001b[0m)\n",
            "└── Validation\n",
            "    ├── Ppyoloeloss/loss_cls = 0.7187\n",
            "    │   ├── Epoch N-1      = 0.6789 (\u001b[31m↗ 0.0398\u001b[0m)\n",
            "    │   └── Best until now = 0.6789 (\u001b[31m↗ 0.0398\u001b[0m)\n",
            "    ├── Ppyoloeloss/loss_iou = 0.3913\n",
            "    │   ├── Epoch N-1      = 0.3854 (\u001b[31m↗ 0.0059\u001b[0m)\n",
            "    │   └── Best until now = 0.3708 (\u001b[31m↗ 0.0205\u001b[0m)\n",
            "    ├── Ppyoloeloss/loss_dfl = 0.5541\n",
            "    │   ├── Epoch N-1      = 0.5457 (\u001b[31m↗ 0.0084\u001b[0m)\n",
            "    │   └── Best until now = 0.5269 (\u001b[31m↗ 0.0272\u001b[0m)\n",
            "    ├── Ppyoloeloss/loss = 1.6641\n",
            "    │   ├── Epoch N-1      = 1.61   (\u001b[31m↗ 0.054\u001b[0m)\n",
            "    │   └── Best until now = 1.61   (\u001b[31m↗ 0.054\u001b[0m)\n",
            "    ├── Precision@0.50 = 0.063\n",
            "    │   ├── Epoch N-1      = 0.0955 (\u001b[31m↘ -0.0326\u001b[0m)\n",
            "    │   └── Best until now = 0.1599 (\u001b[31m↘ -0.0969\u001b[0m)\n",
            "    ├── Recall@0.50 = 0.9677\n",
            "    │   ├── Epoch N-1      = 0.9677 (\u001b[37m= 0.0\u001b[0m)\n",
            "    │   └── Best until now = 0.9839 (\u001b[31m↘ -0.0161\u001b[0m)\n",
            "    ├── Map@0.50 = 0.944\n",
            "    │   ├── Epoch N-1      = 0.9511 (\u001b[31m↘ -0.0071\u001b[0m)\n",
            "    │   └── Best until now = 0.9511 (\u001b[31m↘ -0.0071\u001b[0m)\n",
            "    └── F1@0.50 = 0.1182\n",
            "        ├── Epoch N-1      = 0.1739 (\u001b[31m↘ -0.0557\u001b[0m)\n",
            "        └── Best until now = 0.2738 (\u001b[31m↘ -0.1556\u001b[0m)\n",
            "\n",
            "===========================================================\n"
          ]
        },
        {
          "output_type": "stream",
          "name": "stderr",
          "text": [
            "Train epoch 174: 100%|██████████| 26/26 [00:17<00:00,  1.50it/s, PPYoloELoss/loss=1.7, PPYoloELoss/loss_cls=0.768, PPYoloELoss/loss_dfl=0.534, PPYoloELoss/loss_iou=0.402, gpu_mem=6.83]\n",
            "Validating epoch 174: 100%|██████████| 8/8 [00:02<00:00,  2.67it/s]\n"
          ]
        },
        {
          "output_type": "stream",
          "name": "stdout",
          "text": [
            "===========================================================\n",
            "SUMMARY OF EPOCH 174\n",
            "├── Train\n",
            "│   ├── Ppyoloeloss/loss_cls = 0.7677\n",
            "│   │   ├── Epoch N-1      = 0.782  (\u001b[32m↘ -0.0143\u001b[0m)\n",
            "│   │   └── Best until now = 0.7692 (\u001b[32m↘ -0.0016\u001b[0m)\n",
            "│   ├── Ppyoloeloss/loss_iou = 0.4025\n",
            "│   │   ├── Epoch N-1      = 0.4051 (\u001b[32m↘ -0.0026\u001b[0m)\n",
            "│   │   └── Best until now = 0.3939 (\u001b[31m↗ 0.0086\u001b[0m)\n",
            "│   ├── Ppyoloeloss/loss_dfl = 0.5339\n",
            "│   │   ├── Epoch N-1      = 0.5134 (\u001b[31m↗ 0.0205\u001b[0m)\n",
            "│   │   └── Best until now = 0.5123 (\u001b[31m↗ 0.0215\u001b[0m)\n",
            "│   └── Ppyoloeloss/loss = 1.704\n",
            "│       ├── Epoch N-1      = 1.7004 (\u001b[31m↗ 0.0036\u001b[0m)\n",
            "│       └── Best until now = 1.6755 (\u001b[31m↗ 0.0285\u001b[0m)\n",
            "└── Validation\n",
            "    ├── Ppyoloeloss/loss_cls = 0.7127\n",
            "    │   ├── Epoch N-1      = 0.7187 (\u001b[32m↘ -0.006\u001b[0m)\n",
            "    │   └── Best until now = 0.6789 (\u001b[31m↗ 0.0338\u001b[0m)\n",
            "    ├── Ppyoloeloss/loss_iou = 0.3753\n",
            "    │   ├── Epoch N-1      = 0.3913 (\u001b[32m↘ -0.016\u001b[0m)\n",
            "    │   └── Best until now = 0.3708 (\u001b[31m↗ 0.0046\u001b[0m)\n",
            "    ├── Ppyoloeloss/loss_dfl = 0.5598\n",
            "    │   ├── Epoch N-1      = 0.5541 (\u001b[31m↗ 0.0058\u001b[0m)\n",
            "    │   └── Best until now = 0.5269 (\u001b[31m↗ 0.0329\u001b[0m)\n",
            "    ├── Ppyoloeloss/loss = 1.6479\n",
            "    │   ├── Epoch N-1      = 1.6641 (\u001b[32m↘ -0.0162\u001b[0m)\n",
            "    │   └── Best until now = 1.61   (\u001b[31m↗ 0.0378\u001b[0m)\n",
            "    ├── Precision@0.50 = 0.1087\n",
            "    │   ├── Epoch N-1      = 0.063  (\u001b[32m↗ 0.0457\u001b[0m)\n",
            "    │   └── Best until now = 0.1599 (\u001b[31m↘ -0.0512\u001b[0m)\n",
            "    ├── Recall@0.50 = 0.9677\n",
            "    │   ├── Epoch N-1      = 0.9677 (\u001b[37m= 0.0\u001b[0m)\n",
            "    │   └── Best until now = 0.9839 (\u001b[31m↘ -0.0161\u001b[0m)\n",
            "    ├── Map@0.50 = 0.9349\n",
            "    │   ├── Epoch N-1      = 0.944  (\u001b[31m↘ -0.009\u001b[0m)\n",
            "    │   └── Best until now = 0.9511 (\u001b[31m↘ -0.0162\u001b[0m)\n",
            "    └── F1@0.50 = 0.1954\n",
            "        ├── Epoch N-1      = 0.1182 (\u001b[32m↗ 0.0772\u001b[0m)\n",
            "        └── Best until now = 0.2738 (\u001b[31m↘ -0.0783\u001b[0m)\n",
            "\n",
            "===========================================================\n"
          ]
        },
        {
          "output_type": "stream",
          "name": "stderr",
          "text": [
            "Train epoch 175: 100%|██████████| 26/26 [00:19<00:00,  1.33it/s, PPYoloELoss/loss=1.79, PPYoloELoss/loss_cls=0.816, PPYoloELoss/loss_dfl=0.549, PPYoloELoss/loss_iou=0.425, gpu_mem=6.84]\n",
            "Validating epoch 175: 100%|██████████| 8/8 [00:03<00:00,  2.61it/s]\n"
          ]
        },
        {
          "output_type": "stream",
          "name": "stdout",
          "text": [
            "===========================================================\n",
            "SUMMARY OF EPOCH 175\n",
            "├── Train\n",
            "│   ├── Ppyoloeloss/loss_cls = 0.8163\n",
            "│   │   ├── Epoch N-1      = 0.7677 (\u001b[31m↗ 0.0486\u001b[0m)\n",
            "│   │   └── Best until now = 0.7677 (\u001b[31m↗ 0.0486\u001b[0m)\n",
            "│   ├── Ppyoloeloss/loss_iou = 0.4255\n",
            "│   │   ├── Epoch N-1      = 0.4025 (\u001b[31m↗ 0.023\u001b[0m)\n",
            "│   │   └── Best until now = 0.3939 (\u001b[31m↗ 0.0316\u001b[0m)\n",
            "│   ├── Ppyoloeloss/loss_dfl = 0.5489\n",
            "│   │   ├── Epoch N-1      = 0.5339 (\u001b[31m↗ 0.015\u001b[0m)\n",
            "│   │   └── Best until now = 0.5123 (\u001b[31m↗ 0.0365\u001b[0m)\n",
            "│   └── Ppyoloeloss/loss = 1.7907\n",
            "│       ├── Epoch N-1      = 1.704  (\u001b[31m↗ 0.0867\u001b[0m)\n",
            "│       └── Best until now = 1.6755 (\u001b[31m↗ 0.1152\u001b[0m)\n",
            "└── Validation\n",
            "    ├── Ppyoloeloss/loss_cls = 0.7953\n",
            "    │   ├── Epoch N-1      = 0.7127 (\u001b[31m↗ 0.0826\u001b[0m)\n",
            "    │   └── Best until now = 0.6789 (\u001b[31m↗ 0.1163\u001b[0m)\n",
            "    ├── Ppyoloeloss/loss_iou = 0.3853\n",
            "    │   ├── Epoch N-1      = 0.3753 (\u001b[31m↗ 0.01\u001b[0m)\n",
            "    │   └── Best until now = 0.3708 (\u001b[31m↗ 0.0146\u001b[0m)\n",
            "    ├── Ppyoloeloss/loss_dfl = 0.5507\n",
            "    │   ├── Epoch N-1      = 0.5598 (\u001b[32m↘ -0.0091\u001b[0m)\n",
            "    │   └── Best until now = 0.5269 (\u001b[31m↗ 0.0238\u001b[0m)\n",
            "    ├── Ppyoloeloss/loss = 1.7313\n",
            "    │   ├── Epoch N-1      = 1.6479 (\u001b[31m↗ 0.0834\u001b[0m)\n",
            "    │   └── Best until now = 1.61   (\u001b[31m↗ 0.1213\u001b[0m)\n",
            "    ├── Precision@0.50 = 0.0474\n",
            "    │   ├── Epoch N-1      = 0.1087 (\u001b[31m↘ -0.0613\u001b[0m)\n",
            "    │   └── Best until now = 0.1599 (\u001b[31m↘ -0.1125\u001b[0m)\n",
            "    ├── Recall@0.50 = 0.9677\n",
            "    │   ├── Epoch N-1      = 0.9677 (\u001b[37m= 0.0\u001b[0m)\n",
            "    │   └── Best until now = 0.9839 (\u001b[31m↘ -0.0161\u001b[0m)\n",
            "    ├── Map@0.50 = 0.9358\n",
            "    │   ├── Epoch N-1      = 0.9349 (\u001b[32m↗ 0.0009\u001b[0m)\n",
            "    │   └── Best until now = 0.9511 (\u001b[31m↘ -0.0153\u001b[0m)\n",
            "    └── F1@0.50 = 0.0904\n",
            "        ├── Epoch N-1      = 0.1954 (\u001b[31m↘ -0.1051\u001b[0m)\n",
            "        └── Best until now = 0.2738 (\u001b[31m↘ -0.1834\u001b[0m)\n",
            "\n",
            "===========================================================\n"
          ]
        },
        {
          "output_type": "stream",
          "name": "stderr",
          "text": [
            "Train epoch 176: 100%|██████████| 26/26 [00:17<00:00,  1.46it/s, PPYoloELoss/loss=1.71, PPYoloELoss/loss_cls=0.772, PPYoloELoss/loss_dfl=0.523, PPYoloELoss/loss_iou=0.412, gpu_mem=6.83]\n",
            "Validating epoch 176: 100%|██████████| 8/8 [00:03<00:00,  2.64it/s]\n"
          ]
        },
        {
          "output_type": "stream",
          "name": "stdout",
          "text": [
            "===========================================================\n",
            "SUMMARY OF EPOCH 176\n",
            "├── Train\n",
            "│   ├── Ppyoloeloss/loss_cls = 0.772\n",
            "│   │   ├── Epoch N-1      = 0.8163 (\u001b[32m↘ -0.0444\u001b[0m)\n",
            "│   │   └── Best until now = 0.7677 (\u001b[31m↗ 0.0043\u001b[0m)\n",
            "│   ├── Ppyoloeloss/loss_iou = 0.4123\n",
            "│   │   ├── Epoch N-1      = 0.4255 (\u001b[32m↘ -0.0132\u001b[0m)\n",
            "│   │   └── Best until now = 0.3939 (\u001b[31m↗ 0.0184\u001b[0m)\n",
            "│   ├── Ppyoloeloss/loss_dfl = 0.523\n",
            "│   │   ├── Epoch N-1      = 0.5489 (\u001b[32m↘ -0.0258\u001b[0m)\n",
            "│   │   └── Best until now = 0.5123 (\u001b[31m↗ 0.0107\u001b[0m)\n",
            "│   └── Ppyoloeloss/loss = 1.7073\n",
            "│       ├── Epoch N-1      = 1.7907 (\u001b[32m↘ -0.0834\u001b[0m)\n",
            "│       └── Best until now = 1.6755 (\u001b[31m↗ 0.0318\u001b[0m)\n",
            "└── Validation\n",
            "    ├── Ppyoloeloss/loss_cls = 0.8205\n",
            "    │   ├── Epoch N-1      = 0.7953 (\u001b[31m↗ 0.0252\u001b[0m)\n",
            "    │   └── Best until now = 0.6789 (\u001b[31m↗ 0.1416\u001b[0m)\n",
            "    ├── Ppyoloeloss/loss_iou = 0.3863\n",
            "    │   ├── Epoch N-1      = 0.3853 (\u001b[31m↗ 0.001\u001b[0m)\n",
            "    │   └── Best until now = 0.3708 (\u001b[31m↗ 0.0155\u001b[0m)\n",
            "    ├── Ppyoloeloss/loss_dfl = 0.557\n",
            "    │   ├── Epoch N-1      = 0.5507 (\u001b[31m↗ 0.0063\u001b[0m)\n",
            "    │   └── Best until now = 0.5269 (\u001b[31m↗ 0.0301\u001b[0m)\n",
            "    ├── Ppyoloeloss/loss = 1.7638\n",
            "    │   ├── Epoch N-1      = 1.7313 (\u001b[31m↗ 0.0325\u001b[0m)\n",
            "    │   └── Best until now = 1.61   (\u001b[31m↗ 0.1538\u001b[0m)\n",
            "    ├── Precision@0.50 = 0.0465\n",
            "    │   ├── Epoch N-1      = 0.0474 (\u001b[31m↘ -0.0008\u001b[0m)\n",
            "    │   └── Best until now = 0.1599 (\u001b[31m↘ -0.1133\u001b[0m)\n",
            "    ├── Recall@0.50 = 0.9677\n",
            "    │   ├── Epoch N-1      = 0.9677 (\u001b[37m= 0.0\u001b[0m)\n",
            "    │   └── Best until now = 0.9839 (\u001b[31m↘ -0.0161\u001b[0m)\n",
            "    ├── Map@0.50 = 0.9029\n",
            "    │   ├── Epoch N-1      = 0.9358 (\u001b[31m↘ -0.0329\u001b[0m)\n",
            "    │   └── Best until now = 0.9511 (\u001b[31m↘ -0.0482\u001b[0m)\n",
            "    └── F1@0.50 = 0.0888\n",
            "        ├── Epoch N-1      = 0.0904 (\u001b[31m↘ -0.0015\u001b[0m)\n",
            "        └── Best until now = 0.2738 (\u001b[31m↘ -0.185\u001b[0m)\n",
            "\n",
            "===========================================================\n"
          ]
        },
        {
          "output_type": "stream",
          "name": "stderr",
          "text": [
            "Train epoch 177: 100%|██████████| 26/26 [00:17<00:00,  1.47it/s, PPYoloELoss/loss=1.74, PPYoloELoss/loss_cls=0.797, PPYoloELoss/loss_dfl=0.535, PPYoloELoss/loss_iou=0.404, gpu_mem=6.82]\n",
            "Validating epoch 177: 100%|██████████| 8/8 [00:03<00:00,  2.66it/s]\n"
          ]
        },
        {
          "output_type": "stream",
          "name": "stdout",
          "text": [
            "===========================================================\n",
            "SUMMARY OF EPOCH 177\n",
            "├── Train\n",
            "│   ├── Ppyoloeloss/loss_cls = 0.7972\n",
            "│   │   ├── Epoch N-1      = 0.772  (\u001b[31m↗ 0.0252\u001b[0m)\n",
            "│   │   └── Best until now = 0.7677 (\u001b[31m↗ 0.0295\u001b[0m)\n",
            "│   ├── Ppyoloeloss/loss_iou = 0.4036\n",
            "│   │   ├── Epoch N-1      = 0.4123 (\u001b[32m↘ -0.0087\u001b[0m)\n",
            "│   │   └── Best until now = 0.3939 (\u001b[31m↗ 0.0097\u001b[0m)\n",
            "│   ├── Ppyoloeloss/loss_dfl = 0.5348\n",
            "│   │   ├── Epoch N-1      = 0.523  (\u001b[31m↗ 0.0118\u001b[0m)\n",
            "│   │   └── Best until now = 0.5123 (\u001b[31m↗ 0.0225\u001b[0m)\n",
            "│   └── Ppyoloeloss/loss = 1.7356\n",
            "│       ├── Epoch N-1      = 1.7073 (\u001b[31m↗ 0.0283\u001b[0m)\n",
            "│       └── Best until now = 1.6755 (\u001b[31m↗ 0.0601\u001b[0m)\n",
            "└── Validation\n",
            "    ├── Ppyoloeloss/loss_cls = 0.7739\n",
            "    │   ├── Epoch N-1      = 0.8205 (\u001b[32m↘ -0.0466\u001b[0m)\n",
            "    │   └── Best until now = 0.6789 (\u001b[31m↗ 0.095\u001b[0m)\n",
            "    ├── Ppyoloeloss/loss_iou = 0.3909\n",
            "    │   ├── Epoch N-1      = 0.3863 (\u001b[31m↗ 0.0046\u001b[0m)\n",
            "    │   └── Best until now = 0.3708 (\u001b[31m↗ 0.0201\u001b[0m)\n",
            "    ├── Ppyoloeloss/loss_dfl = 0.5639\n",
            "    │   ├── Epoch N-1      = 0.557  (\u001b[31m↗ 0.0069\u001b[0m)\n",
            "    │   └── Best until now = 0.5269 (\u001b[31m↗ 0.037\u001b[0m)\n",
            "    ├── Ppyoloeloss/loss = 1.7287\n",
            "    │   ├── Epoch N-1      = 1.7638 (\u001b[32m↘ -0.0351\u001b[0m)\n",
            "    │   └── Best until now = 1.61   (\u001b[31m↗ 0.1186\u001b[0m)\n",
            "    ├── Precision@0.50 = 0.1271\n",
            "    │   ├── Epoch N-1      = 0.0465 (\u001b[32m↗ 0.0806\u001b[0m)\n",
            "    │   └── Best until now = 0.1599 (\u001b[31m↘ -0.0328\u001b[0m)\n",
            "    ├── Recall@0.50 = 0.9677\n",
            "    │   ├── Epoch N-1      = 0.9677 (\u001b[37m= 0.0\u001b[0m)\n",
            "    │   └── Best until now = 0.9839 (\u001b[31m↘ -0.0161\u001b[0m)\n",
            "    ├── Map@0.50 = 0.8998\n",
            "    │   ├── Epoch N-1      = 0.9029 (\u001b[31m↘ -0.0031\u001b[0m)\n",
            "    │   └── Best until now = 0.9511 (\u001b[31m↘ -0.0513\u001b[0m)\n",
            "    └── F1@0.50 = 0.2247\n",
            "        ├── Epoch N-1      = 0.0888 (\u001b[32m↗ 0.1359\u001b[0m)\n",
            "        └── Best until now = 0.2738 (\u001b[31m↘ -0.0491\u001b[0m)\n",
            "\n",
            "===========================================================\n"
          ]
        },
        {
          "output_type": "stream",
          "name": "stderr",
          "text": [
            "Train epoch 178: 100%|██████████| 26/26 [00:18<00:00,  1.44it/s, PPYoloELoss/loss=1.78, PPYoloELoss/loss_cls=0.817, PPYoloELoss/loss_dfl=0.538, PPYoloELoss/loss_iou=0.424, gpu_mem=6.97]\n",
            "Validating epoch 178: 100%|██████████| 8/8 [00:03<00:00,  2.58it/s]\n"
          ]
        },
        {
          "output_type": "stream",
          "name": "stdout",
          "text": [
            "===========================================================\n",
            "SUMMARY OF EPOCH 178\n",
            "├── Train\n",
            "│   ├── Ppyoloeloss/loss_cls = 0.8173\n",
            "│   │   ├── Epoch N-1      = 0.7972 (\u001b[31m↗ 0.0202\u001b[0m)\n",
            "│   │   └── Best until now = 0.7677 (\u001b[31m↗ 0.0496\u001b[0m)\n",
            "│   ├── Ppyoloeloss/loss_iou = 0.424\n",
            "│   │   ├── Epoch N-1      = 0.4036 (\u001b[31m↗ 0.0203\u001b[0m)\n",
            "│   │   └── Best until now = 0.3939 (\u001b[31m↗ 0.0301\u001b[0m)\n",
            "│   ├── Ppyoloeloss/loss_dfl = 0.5382\n",
            "│   │   ├── Epoch N-1      = 0.5348 (\u001b[31m↗ 0.0033\u001b[0m)\n",
            "│   │   └── Best until now = 0.5123 (\u001b[31m↗ 0.0258\u001b[0m)\n",
            "│   └── Ppyoloeloss/loss = 1.7794\n",
            "│       ├── Epoch N-1      = 1.7356 (\u001b[31m↗ 0.0438\u001b[0m)\n",
            "│       └── Best until now = 1.6755 (\u001b[31m↗ 0.104\u001b[0m)\n",
            "└── Validation\n",
            "    ├── Ppyoloeloss/loss_cls = 0.7847\n",
            "    │   ├── Epoch N-1      = 0.7739 (\u001b[31m↗ 0.0107\u001b[0m)\n",
            "    │   └── Best until now = 0.6789 (\u001b[31m↗ 0.1057\u001b[0m)\n",
            "    ├── Ppyoloeloss/loss_iou = 0.424\n",
            "    │   ├── Epoch N-1      = 0.3909 (\u001b[31m↗ 0.0331\u001b[0m)\n",
            "    │   └── Best until now = 0.3708 (\u001b[31m↗ 0.0533\u001b[0m)\n",
            "    ├── Ppyoloeloss/loss_dfl = 0.5917\n",
            "    │   ├── Epoch N-1      = 0.5639 (\u001b[31m↗ 0.0278\u001b[0m)\n",
            "    │   └── Best until now = 0.5269 (\u001b[31m↗ 0.0648\u001b[0m)\n",
            "    ├── Ppyoloeloss/loss = 1.8004\n",
            "    │   ├── Epoch N-1      = 1.7287 (\u001b[31m↗ 0.0717\u001b[0m)\n",
            "    │   └── Best until now = 1.61   (\u001b[31m↗ 0.1904\u001b[0m)\n",
            "    ├── Precision@0.50 = 0.0571\n",
            "    │   ├── Epoch N-1      = 0.1271 (\u001b[31m↘ -0.07\u001b[0m)\n",
            "    │   └── Best until now = 0.1599 (\u001b[31m↘ -0.1027\u001b[0m)\n",
            "    ├── Recall@0.50 = 0.9677\n",
            "    │   ├── Epoch N-1      = 0.9677 (\u001b[37m= 0.0\u001b[0m)\n",
            "    │   └── Best until now = 0.9839 (\u001b[31m↘ -0.0161\u001b[0m)\n",
            "    ├── Map@0.50 = 0.8972\n",
            "    │   ├── Epoch N-1      = 0.8998 (\u001b[31m↘ -0.0025\u001b[0m)\n",
            "    │   └── Best until now = 0.9511 (\u001b[31m↘ -0.0539\u001b[0m)\n",
            "    └── F1@0.50 = 0.1079\n",
            "        ├── Epoch N-1      = 0.2247 (\u001b[31m↘ -0.1168\u001b[0m)\n",
            "        └── Best until now = 0.2738 (\u001b[31m↘ -0.1659\u001b[0m)\n",
            "\n",
            "===========================================================\n"
          ]
        },
        {
          "output_type": "stream",
          "name": "stderr",
          "text": [
            "Train epoch 179: 100%|██████████| 26/26 [00:17<00:00,  1.47it/s, PPYoloELoss/loss=1.76, PPYoloELoss/loss_cls=0.804, PPYoloELoss/loss_dfl=0.536, PPYoloELoss/loss_iou=0.424, gpu_mem=6.97]\n",
            "Validating epoch 179: 100%|██████████| 8/8 [00:03<00:00,  2.61it/s]\n"
          ]
        },
        {
          "output_type": "stream",
          "name": "stdout",
          "text": [
            "===========================================================\n",
            "SUMMARY OF EPOCH 179\n",
            "├── Train\n",
            "│   ├── Ppyoloeloss/loss_cls = 0.8041\n",
            "│   │   ├── Epoch N-1      = 0.8173 (\u001b[32m↘ -0.0132\u001b[0m)\n",
            "│   │   └── Best until now = 0.7677 (\u001b[31m↗ 0.0364\u001b[0m)\n",
            "│   ├── Ppyoloeloss/loss_iou = 0.4239\n",
            "│   │   ├── Epoch N-1      = 0.424  (\u001b[32m↘ -0.0\u001b[0m)\n",
            "│   │   └── Best until now = 0.3939 (\u001b[31m↗ 0.0301\u001b[0m)\n",
            "│   ├── Ppyoloeloss/loss_dfl = 0.5359\n",
            "│   │   ├── Epoch N-1      = 0.5382 (\u001b[32m↘ -0.0023\u001b[0m)\n",
            "│   │   └── Best until now = 0.5123 (\u001b[31m↗ 0.0236\u001b[0m)\n",
            "│   └── Ppyoloeloss/loss = 1.764\n",
            "│       ├── Epoch N-1      = 1.7794 (\u001b[32m↘ -0.0155\u001b[0m)\n",
            "│       └── Best until now = 1.6755 (\u001b[31m↗ 0.0885\u001b[0m)\n",
            "└── Validation\n",
            "    ├── Ppyoloeloss/loss_cls = 0.849\n",
            "    │   ├── Epoch N-1      = 0.7847 (\u001b[31m↗ 0.0644\u001b[0m)\n",
            "    │   └── Best until now = 0.6789 (\u001b[31m↗ 0.1701\u001b[0m)\n",
            "    ├── Ppyoloeloss/loss_iou = 0.4371\n",
            "    │   ├── Epoch N-1      = 0.424  (\u001b[31m↗ 0.0131\u001b[0m)\n",
            "    │   └── Best until now = 0.3708 (\u001b[31m↗ 0.0663\u001b[0m)\n",
            "    ├── Ppyoloeloss/loss_dfl = 0.6162\n",
            "    │   ├── Epoch N-1      = 0.5917 (\u001b[31m↗ 0.0246\u001b[0m)\n",
            "    │   └── Best until now = 0.5269 (\u001b[31m↗ 0.0893\u001b[0m)\n",
            "    ├── Ppyoloeloss/loss = 1.9024\n",
            "    │   ├── Epoch N-1      = 1.8004 (\u001b[31m↗ 0.102\u001b[0m)\n",
            "    │   └── Best until now = 1.61   (\u001b[31m↗ 0.2923\u001b[0m)\n",
            "    ├── Precision@0.50 = 0.0464\n",
            "    │   ├── Epoch N-1      = 0.0571 (\u001b[31m↘ -0.0107\u001b[0m)\n",
            "    │   └── Best until now = 0.1599 (\u001b[31m↘ -0.1135\u001b[0m)\n",
            "    ├── Recall@0.50 = 0.9677\n",
            "    │   ├── Epoch N-1      = 0.9677 (\u001b[37m= 0.0\u001b[0m)\n",
            "    │   └── Best until now = 0.9839 (\u001b[31m↘ -0.0161\u001b[0m)\n",
            "    ├── Map@0.50 = 0.8798\n",
            "    │   ├── Epoch N-1      = 0.8972 (\u001b[31m↘ -0.0174\u001b[0m)\n",
            "    │   └── Best until now = 0.9511 (\u001b[31m↘ -0.0713\u001b[0m)\n",
            "    └── F1@0.50 = 0.0886\n",
            "        ├── Epoch N-1      = 0.1079 (\u001b[31m↘ -0.0194\u001b[0m)\n",
            "        └── Best until now = 0.2738 (\u001b[31m↘ -0.1852\u001b[0m)\n",
            "\n",
            "===========================================================\n"
          ]
        },
        {
          "output_type": "stream",
          "name": "stderr",
          "text": [
            "Train epoch 180: 100%|██████████| 26/26 [00:17<00:00,  1.51it/s, PPYoloELoss/loss=1.75, PPYoloELoss/loss_cls=0.804, PPYoloELoss/loss_dfl=0.536, PPYoloELoss/loss_iou=0.411, gpu_mem=6.97]\n",
            "Validating epoch 180: 100%|██████████| 8/8 [00:03<00:00,  2.64it/s]\n"
          ]
        },
        {
          "output_type": "stream",
          "name": "stdout",
          "text": [
            "===========================================================\n",
            "SUMMARY OF EPOCH 180\n",
            "├── Train\n",
            "│   ├── Ppyoloeloss/loss_cls = 0.8041\n",
            "│   │   ├── Epoch N-1      = 0.8041 (\u001b[32m↘ -0.0\u001b[0m)\n",
            "│   │   └── Best until now = 0.7677 (\u001b[31m↗ 0.0364\u001b[0m)\n",
            "│   ├── Ppyoloeloss/loss_iou = 0.4112\n",
            "│   │   ├── Epoch N-1      = 0.4239 (\u001b[32m↘ -0.0127\u001b[0m)\n",
            "│   │   └── Best until now = 0.3939 (\u001b[31m↗ 0.0173\u001b[0m)\n",
            "│   ├── Ppyoloeloss/loss_dfl = 0.5356\n",
            "│   │   ├── Epoch N-1      = 0.5359 (\u001b[32m↘ -0.0003\u001b[0m)\n",
            "│   │   └── Best until now = 0.5123 (\u001b[31m↗ 0.0233\u001b[0m)\n",
            "│   └── Ppyoloeloss/loss = 1.7509\n",
            "│       ├── Epoch N-1      = 1.764  (\u001b[32m↘ -0.0131\u001b[0m)\n",
            "│       └── Best until now = 1.6755 (\u001b[31m↗ 0.0755\u001b[0m)\n",
            "└── Validation\n",
            "    ├── Ppyoloeloss/loss_cls = 0.7896\n",
            "    │   ├── Epoch N-1      = 0.849  (\u001b[32m↘ -0.0594\u001b[0m)\n",
            "    │   └── Best until now = 0.6789 (\u001b[31m↗ 0.1107\u001b[0m)\n",
            "    ├── Ppyoloeloss/loss_iou = 0.4413\n",
            "    │   ├── Epoch N-1      = 0.4371 (\u001b[31m↗ 0.0042\u001b[0m)\n",
            "    │   └── Best until now = 0.3708 (\u001b[31m↗ 0.0705\u001b[0m)\n",
            "    ├── Ppyoloeloss/loss_dfl = 0.6058\n",
            "    │   ├── Epoch N-1      = 0.6162 (\u001b[32m↘ -0.0104\u001b[0m)\n",
            "    │   └── Best until now = 0.5269 (\u001b[31m↗ 0.0789\u001b[0m)\n",
            "    ├── Ppyoloeloss/loss = 1.8368\n",
            "    │   ├── Epoch N-1      = 1.9024 (\u001b[32m↘ -0.0656\u001b[0m)\n",
            "    │   └── Best until now = 1.61   (\u001b[31m↗ 0.2267\u001b[0m)\n",
            "    ├── Precision@0.50 = 0.057\n",
            "    │   ├── Epoch N-1      = 0.0464 (\u001b[32m↗ 0.0106\u001b[0m)\n",
            "    │   └── Best until now = 0.1599 (\u001b[31m↘ -0.1029\u001b[0m)\n",
            "    ├── Recall@0.50 = 0.9677\n",
            "    │   ├── Epoch N-1      = 0.9677 (\u001b[37m= 0.0\u001b[0m)\n",
            "    │   └── Best until now = 0.9839 (\u001b[31m↘ -0.0161\u001b[0m)\n",
            "    ├── Map@0.50 = 0.9076\n",
            "    │   ├── Epoch N-1      = 0.8798 (\u001b[32m↗ 0.0278\u001b[0m)\n",
            "    │   └── Best until now = 0.9511 (\u001b[31m↘ -0.0435\u001b[0m)\n",
            "    └── F1@0.50 = 0.1076\n",
            "        ├── Epoch N-1      = 0.0886 (\u001b[32m↗ 0.0191\u001b[0m)\n",
            "        └── Best until now = 0.2738 (\u001b[31m↘ -0.1662\u001b[0m)\n",
            "\n",
            "===========================================================\n"
          ]
        },
        {
          "output_type": "stream",
          "name": "stderr",
          "text": [
            "Train epoch 181: 100%|██████████| 26/26 [00:18<00:00,  1.44it/s, PPYoloELoss/loss=1.74, PPYoloELoss/loss_cls=0.794, PPYoloELoss/loss_dfl=0.528, PPYoloELoss/loss_iou=0.415, gpu_mem=6.83]\n",
            "Validating epoch 181: 100%|██████████| 8/8 [00:03<00:00,  2.63it/s]\n"
          ]
        },
        {
          "output_type": "stream",
          "name": "stdout",
          "text": [
            "===========================================================\n",
            "SUMMARY OF EPOCH 181\n",
            "├── Train\n",
            "│   ├── Ppyoloeloss/loss_cls = 0.7943\n",
            "│   │   ├── Epoch N-1      = 0.8041 (\u001b[32m↘ -0.0098\u001b[0m)\n",
            "│   │   └── Best until now = 0.7677 (\u001b[31m↗ 0.0266\u001b[0m)\n",
            "│   ├── Ppyoloeloss/loss_iou = 0.4152\n",
            "│   │   ├── Epoch N-1      = 0.4112 (\u001b[31m↗ 0.004\u001b[0m)\n",
            "│   │   └── Best until now = 0.3939 (\u001b[31m↗ 0.0213\u001b[0m)\n",
            "│   ├── Ppyoloeloss/loss_dfl = 0.528\n",
            "│   │   ├── Epoch N-1      = 0.5356 (\u001b[32m↘ -0.0077\u001b[0m)\n",
            "│   │   └── Best until now = 0.5123 (\u001b[31m↗ 0.0157\u001b[0m)\n",
            "│   └── Ppyoloeloss/loss = 1.7375\n",
            "│       ├── Epoch N-1      = 1.7509 (\u001b[32m↘ -0.0134\u001b[0m)\n",
            "│       └── Best until now = 1.6755 (\u001b[31m↗ 0.0621\u001b[0m)\n",
            "└── Validation\n",
            "    ├── Ppyoloeloss/loss_cls = 0.7256\n",
            "    │   ├── Epoch N-1      = 0.7896 (\u001b[32m↘ -0.064\u001b[0m)\n",
            "    │   └── Best until now = 0.6789 (\u001b[31m↗ 0.0467\u001b[0m)\n",
            "    ├── Ppyoloeloss/loss_iou = 0.4125\n",
            "    │   ├── Epoch N-1      = 0.4413 (\u001b[32m↘ -0.0288\u001b[0m)\n",
            "    │   └── Best until now = 0.3708 (\u001b[31m↗ 0.0417\u001b[0m)\n",
            "    ├── Ppyoloeloss/loss_dfl = 0.5768\n",
            "    │   ├── Epoch N-1      = 0.6058 (\u001b[32m↘ -0.0291\u001b[0m)\n",
            "    │   └── Best until now = 0.5269 (\u001b[31m↗ 0.0499\u001b[0m)\n",
            "    ├── Ppyoloeloss/loss = 1.7149\n",
            "    │   ├── Epoch N-1      = 1.8368 (\u001b[32m↘ -0.1219\u001b[0m)\n",
            "    │   └── Best until now = 1.61   (\u001b[31m↗ 0.1048\u001b[0m)\n",
            "    ├── Precision@0.50 = 0.0663\n",
            "    │   ├── Epoch N-1      = 0.057  (\u001b[32m↗ 0.0093\u001b[0m)\n",
            "    │   └── Best until now = 0.1599 (\u001b[31m↘ -0.0936\u001b[0m)\n",
            "    ├── Recall@0.50 = 0.9677\n",
            "    │   ├── Epoch N-1      = 0.9677 (\u001b[37m= 0.0\u001b[0m)\n",
            "    │   └── Best until now = 0.9839 (\u001b[31m↘ -0.0161\u001b[0m)\n",
            "    ├── Map@0.50 = 0.949\n",
            "    │   ├── Epoch N-1      = 0.9076 (\u001b[32m↗ 0.0414\u001b[0m)\n",
            "    │   └── Best until now = 0.9511 (\u001b[31m↘ -0.0021\u001b[0m)\n",
            "    └── F1@0.50 = 0.1241\n",
            "        ├── Epoch N-1      = 0.1076 (\u001b[32m↗ 0.0165\u001b[0m)\n",
            "        └── Best until now = 0.2738 (\u001b[31m↘ -0.1497\u001b[0m)\n",
            "\n",
            "===========================================================\n"
          ]
        },
        {
          "output_type": "stream",
          "name": "stderr",
          "text": [
            "Train epoch 182: 100%|██████████| 26/26 [00:17<00:00,  1.49it/s, PPYoloELoss/loss=1.75, PPYoloELoss/loss_cls=0.791, PPYoloELoss/loss_dfl=0.547, PPYoloELoss/loss_iou=0.411, gpu_mem=6.84]\n",
            "Validating epoch 182: 100%|██████████| 8/8 [00:03<00:00,  2.66it/s]\n"
          ]
        },
        {
          "output_type": "stream",
          "name": "stdout",
          "text": [
            "===========================================================\n",
            "SUMMARY OF EPOCH 182\n",
            "├── Train\n",
            "│   ├── Ppyoloeloss/loss_cls = 0.7909\n",
            "│   │   ├── Epoch N-1      = 0.7943 (\u001b[32m↘ -0.0034\u001b[0m)\n",
            "│   │   └── Best until now = 0.7677 (\u001b[31m↗ 0.0232\u001b[0m)\n",
            "│   ├── Ppyoloeloss/loss_iou = 0.411\n",
            "│   │   ├── Epoch N-1      = 0.4152 (\u001b[32m↘ -0.0042\u001b[0m)\n",
            "│   │   └── Best until now = 0.3939 (\u001b[31m↗ 0.0171\u001b[0m)\n",
            "│   ├── Ppyoloeloss/loss_dfl = 0.5472\n",
            "│   │   ├── Epoch N-1      = 0.528  (\u001b[31m↗ 0.0192\u001b[0m)\n",
            "│   │   └── Best until now = 0.5123 (\u001b[31m↗ 0.0348\u001b[0m)\n",
            "│   └── Ppyoloeloss/loss = 1.7491\n",
            "│       ├── Epoch N-1      = 1.7375 (\u001b[31m↗ 0.0116\u001b[0m)\n",
            "│       └── Best until now = 1.6755 (\u001b[31m↗ 0.0736\u001b[0m)\n",
            "└── Validation\n",
            "    ├── Ppyoloeloss/loss_cls = 0.8056\n",
            "    │   ├── Epoch N-1      = 0.7256 (\u001b[31m↗ 0.08\u001b[0m)\n",
            "    │   └── Best until now = 0.6789 (\u001b[31m↗ 0.1266\u001b[0m)\n",
            "    ├── Ppyoloeloss/loss_iou = 0.4209\n",
            "    │   ├── Epoch N-1      = 0.4125 (\u001b[31m↗ 0.0084\u001b[0m)\n",
            "    │   └── Best until now = 0.3708 (\u001b[31m↗ 0.0501\u001b[0m)\n",
            "    ├── Ppyoloeloss/loss_dfl = 0.5886\n",
            "    │   ├── Epoch N-1      = 0.5768 (\u001b[31m↗ 0.0119\u001b[0m)\n",
            "    │   └── Best until now = 0.5269 (\u001b[31m↗ 0.0617\u001b[0m)\n",
            "    ├── Ppyoloeloss/loss = 1.8151\n",
            "    │   ├── Epoch N-1      = 1.7149 (\u001b[31m↗ 0.1003\u001b[0m)\n",
            "    │   └── Best until now = 1.61   (\u001b[31m↗ 0.2051\u001b[0m)\n",
            "    ├── Precision@0.50 = 0.0433\n",
            "    │   ├── Epoch N-1      = 0.0663 (\u001b[31m↘ -0.023\u001b[0m)\n",
            "    │   └── Best until now = 0.1599 (\u001b[31m↘ -0.1166\u001b[0m)\n",
            "    ├── Recall@0.50 = 0.9677\n",
            "    │   ├── Epoch N-1      = 0.9677 (\u001b[37m= 0.0\u001b[0m)\n",
            "    │   └── Best until now = 0.9839 (\u001b[31m↘ -0.0161\u001b[0m)\n",
            "    ├── Map@0.50 = 0.9451\n",
            "    │   ├── Epoch N-1      = 0.949  (\u001b[31m↘ -0.0038\u001b[0m)\n",
            "    │   └── Best until now = 0.9511 (\u001b[31m↘ -0.006\u001b[0m)\n",
            "    └── F1@0.50 = 0.0829\n",
            "        ├── Epoch N-1      = 0.1241 (\u001b[31m↘ -0.0412\u001b[0m)\n",
            "        └── Best until now = 0.2738 (\u001b[31m↘ -0.1909\u001b[0m)\n",
            "\n",
            "===========================================================\n"
          ]
        },
        {
          "output_type": "stream",
          "name": "stderr",
          "text": [
            "Train epoch 183: 100%|██████████| 26/26 [00:18<00:00,  1.43it/s, PPYoloELoss/loss=1.76, PPYoloELoss/loss_cls=0.811, PPYoloELoss/loss_dfl=0.534, PPYoloELoss/loss_iou=0.416, gpu_mem=6.83]\n",
            "Validating epoch 183: 100%|██████████| 8/8 [00:03<00:00,  2.65it/s]\n",
            "[2023-12-14 20:32:31] INFO - base_sg_logger.py - Checkpoint saved in ./checkpoints/csilab-braintumor-detection/RUN_20231214_144702_032990/ckpt_best.pth\n",
            "[2023-12-14 20:32:31] INFO - sg_trainer.py - Best checkpoint overriden: validation mAP@0.50: 0.9541988372802734\n"
          ]
        },
        {
          "output_type": "stream",
          "name": "stdout",
          "text": [
            "===========================================================\n",
            "SUMMARY OF EPOCH 183\n",
            "├── Train\n",
            "│   ├── Ppyoloeloss/loss_cls = 0.8111\n",
            "│   │   ├── Epoch N-1      = 0.7909 (\u001b[31m↗ 0.0202\u001b[0m)\n",
            "│   │   └── Best until now = 0.7677 (\u001b[31m↗ 0.0434\u001b[0m)\n",
            "│   ├── Ppyoloeloss/loss_iou = 0.4157\n",
            "│   │   ├── Epoch N-1      = 0.411  (\u001b[31m↗ 0.0048\u001b[0m)\n",
            "│   │   └── Best until now = 0.3939 (\u001b[31m↗ 0.0219\u001b[0m)\n",
            "│   ├── Ppyoloeloss/loss_dfl = 0.5343\n",
            "│   │   ├── Epoch N-1      = 0.5472 (\u001b[32m↘ -0.0129\u001b[0m)\n",
            "│   │   └── Best until now = 0.5123 (\u001b[31m↗ 0.022\u001b[0m)\n",
            "│   └── Ppyoloeloss/loss = 1.7611\n",
            "│       ├── Epoch N-1      = 1.7491 (\u001b[31m↗ 0.012\u001b[0m)\n",
            "│       └── Best until now = 1.6755 (\u001b[31m↗ 0.0857\u001b[0m)\n",
            "└── Validation\n",
            "    ├── Ppyoloeloss/loss_cls = 0.8158\n",
            "    │   ├── Epoch N-1      = 0.8056 (\u001b[31m↗ 0.0103\u001b[0m)\n",
            "    │   └── Best until now = 0.6789 (\u001b[31m↗ 0.1369\u001b[0m)\n",
            "    ├── Ppyoloeloss/loss_iou = 0.4205\n",
            "    │   ├── Epoch N-1      = 0.4209 (\u001b[32m↘ -0.0004\u001b[0m)\n",
            "    │   └── Best until now = 0.3708 (\u001b[31m↗ 0.0497\u001b[0m)\n",
            "    ├── Ppyoloeloss/loss_dfl = 0.5881\n",
            "    │   ├── Epoch N-1      = 0.5886 (\u001b[32m↘ -0.0005\u001b[0m)\n",
            "    │   └── Best until now = 0.5269 (\u001b[31m↗ 0.0612\u001b[0m)\n",
            "    ├── Ppyoloeloss/loss = 1.8244\n",
            "    │   ├── Epoch N-1      = 1.8151 (\u001b[31m↗ 0.0093\u001b[0m)\n",
            "    │   └── Best until now = 1.61   (\u001b[31m↗ 0.2144\u001b[0m)\n",
            "    ├── Precision@0.50 = 0.0508\n",
            "    │   ├── Epoch N-1      = 0.0433 (\u001b[32m↗ 0.0074\u001b[0m)\n",
            "    │   └── Best until now = 0.1599 (\u001b[31m↘ -0.1091\u001b[0m)\n",
            "    ├── Recall@0.50 = 0.9677\n",
            "    │   ├── Epoch N-1      = 0.9677 (\u001b[37m= 0.0\u001b[0m)\n",
            "    │   └── Best until now = 0.9839 (\u001b[31m↘ -0.0161\u001b[0m)\n",
            "    ├── Map@0.50 = 0.9542\n",
            "    │   ├── Epoch N-1      = 0.9451 (\u001b[32m↗ 0.0091\u001b[0m)\n",
            "    │   └── Best until now = 0.9511 (\u001b[32m↗ 0.0031\u001b[0m)\n",
            "    └── F1@0.50 = 0.0965\n",
            "        ├── Epoch N-1      = 0.0829 (\u001b[32m↗ 0.0135\u001b[0m)\n",
            "        └── Best until now = 0.2738 (\u001b[31m↘ -0.1773\u001b[0m)\n",
            "\n",
            "===========================================================\n"
          ]
        },
        {
          "output_type": "stream",
          "name": "stderr",
          "text": [
            "Train epoch 184: 100%|██████████| 26/26 [00:17<00:00,  1.52it/s, PPYoloELoss/loss=1.74, PPYoloELoss/loss_cls=0.794, PPYoloELoss/loss_dfl=0.532, PPYoloELoss/loss_iou=0.41, gpu_mem=6.83]\n",
            "Validating epoch 184: 100%|██████████| 8/8 [00:03<00:00,  2.62it/s]\n"
          ]
        },
        {
          "output_type": "stream",
          "name": "stdout",
          "text": [
            "===========================================================\n",
            "SUMMARY OF EPOCH 184\n",
            "├── Train\n",
            "│   ├── Ppyoloeloss/loss_cls = 0.7942\n",
            "│   │   ├── Epoch N-1      = 0.8111 (\u001b[32m↘ -0.0169\u001b[0m)\n",
            "│   │   └── Best until now = 0.7677 (\u001b[31m↗ 0.0265\u001b[0m)\n",
            "│   ├── Ppyoloeloss/loss_iou = 0.4095\n",
            "│   │   ├── Epoch N-1      = 0.4157 (\u001b[32m↘ -0.0062\u001b[0m)\n",
            "│   │   └── Best until now = 0.3939 (\u001b[31m↗ 0.0156\u001b[0m)\n",
            "│   ├── Ppyoloeloss/loss_dfl = 0.532\n",
            "│   │   ├── Epoch N-1      = 0.5343 (\u001b[32m↘ -0.0023\u001b[0m)\n",
            "│   │   └── Best until now = 0.5123 (\u001b[31m↗ 0.0197\u001b[0m)\n",
            "│   └── Ppyoloeloss/loss = 1.7358\n",
            "│       ├── Epoch N-1      = 1.7611 (\u001b[32m↘ -0.0254\u001b[0m)\n",
            "│       └── Best until now = 1.6755 (\u001b[31m↗ 0.0603\u001b[0m)\n",
            "└── Validation\n",
            "    ├── Ppyoloeloss/loss_cls = 0.8514\n",
            "    │   ├── Epoch N-1      = 0.8158 (\u001b[31m↗ 0.0356\u001b[0m)\n",
            "    │   └── Best until now = 0.6789 (\u001b[31m↗ 0.1725\u001b[0m)\n",
            "    ├── Ppyoloeloss/loss_iou = 0.4077\n",
            "    │   ├── Epoch N-1      = 0.4205 (\u001b[32m↘ -0.0127\u001b[0m)\n",
            "    │   └── Best until now = 0.3708 (\u001b[31m↗ 0.037\u001b[0m)\n",
            "    ├── Ppyoloeloss/loss_dfl = 0.5744\n",
            "    │   ├── Epoch N-1      = 0.5881 (\u001b[32m↘ -0.0137\u001b[0m)\n",
            "    │   └── Best until now = 0.5269 (\u001b[31m↗ 0.0475\u001b[0m)\n",
            "    ├── Ppyoloeloss/loss = 1.8335\n",
            "    │   ├── Epoch N-1      = 1.8244 (\u001b[31m↗ 0.0091\u001b[0m)\n",
            "    │   └── Best until now = 1.61   (\u001b[31m↗ 0.2235\u001b[0m)\n",
            "    ├── Precision@0.50 = 0.0364\n",
            "    │   ├── Epoch N-1      = 0.0508 (\u001b[31m↘ -0.0143\u001b[0m)\n",
            "    │   └── Best until now = 0.1599 (\u001b[31m↘ -0.1235\u001b[0m)\n",
            "    ├── Recall@0.50 = 0.9677\n",
            "    │   ├── Epoch N-1      = 0.9677 (\u001b[37m= 0.0\u001b[0m)\n",
            "    │   └── Best until now = 0.9839 (\u001b[31m↘ -0.0161\u001b[0m)\n",
            "    ├── Map@0.50 = 0.9178\n",
            "    │   ├── Epoch N-1      = 0.9542 (\u001b[31m↘ -0.0364\u001b[0m)\n",
            "    │   └── Best until now = 0.9542 (\u001b[31m↘ -0.0364\u001b[0m)\n",
            "    └── F1@0.50 = 0.0702\n",
            "        ├── Epoch N-1      = 0.0965 (\u001b[31m↘ -0.0262\u001b[0m)\n",
            "        └── Best until now = 0.2738 (\u001b[31m↘ -0.2036\u001b[0m)\n",
            "\n",
            "===========================================================\n"
          ]
        },
        {
          "output_type": "stream",
          "name": "stderr",
          "text": [
            "Train epoch 185: 100%|██████████| 26/26 [00:17<00:00,  1.45it/s, PPYoloELoss/loss=1.8, PPYoloELoss/loss_cls=0.819, PPYoloELoss/loss_dfl=0.549, PPYoloELoss/loss_iou=0.432, gpu_mem=6.83]\n",
            "Validating epoch 185: 100%|██████████| 8/8 [00:03<00:00,  2.54it/s]\n"
          ]
        },
        {
          "output_type": "stream",
          "name": "stdout",
          "text": [
            "===========================================================\n",
            "SUMMARY OF EPOCH 185\n",
            "├── Train\n",
            "│   ├── Ppyoloeloss/loss_cls = 0.8195\n",
            "│   │   ├── Epoch N-1      = 0.7942 (\u001b[31m↗ 0.0252\u001b[0m)\n",
            "│   │   └── Best until now = 0.7677 (\u001b[31m↗ 0.0518\u001b[0m)\n",
            "│   ├── Ppyoloeloss/loss_iou = 0.4318\n",
            "│   │   ├── Epoch N-1      = 0.4095 (\u001b[31m↗ 0.0223\u001b[0m)\n",
            "│   │   └── Best until now = 0.3939 (\u001b[31m↗ 0.038\u001b[0m)\n",
            "│   ├── Ppyoloeloss/loss_dfl = 0.5489\n",
            "│   │   ├── Epoch N-1      = 0.532  (\u001b[31m↗ 0.0169\u001b[0m)\n",
            "│   │   └── Best until now = 0.5123 (\u001b[31m↗ 0.0366\u001b[0m)\n",
            "│   └── Ppyoloeloss/loss = 1.8002\n",
            "│       ├── Epoch N-1      = 1.7358 (\u001b[31m↗ 0.0645\u001b[0m)\n",
            "│       └── Best until now = 1.6755 (\u001b[31m↗ 0.1248\u001b[0m)\n",
            "└── Validation\n",
            "    ├── Ppyoloeloss/loss_cls = 0.7389\n",
            "    │   ├── Epoch N-1      = 0.8514 (\u001b[32m↘ -0.1126\u001b[0m)\n",
            "    │   └── Best until now = 0.6789 (\u001b[31m↗ 0.0599\u001b[0m)\n",
            "    ├── Ppyoloeloss/loss_iou = 0.4177\n",
            "    │   ├── Epoch N-1      = 0.4077 (\u001b[31m↗ 0.01\u001b[0m)\n",
            "    │   └── Best until now = 0.3708 (\u001b[31m↗ 0.047\u001b[0m)\n",
            "    ├── Ppyoloeloss/loss_dfl = 0.5624\n",
            "    │   ├── Epoch N-1      = 0.5744 (\u001b[32m↘ -0.012\u001b[0m)\n",
            "    │   └── Best until now = 0.5269 (\u001b[31m↗ 0.0355\u001b[0m)\n",
            "    ├── Ppyoloeloss/loss = 1.719\n",
            "    │   ├── Epoch N-1      = 1.8335 (\u001b[32m↘ -0.1145\u001b[0m)\n",
            "    │   └── Best until now = 1.61   (\u001b[31m↗ 0.109\u001b[0m)\n",
            "    ├── Precision@0.50 = 0.077\n",
            "    │   ├── Epoch N-1      = 0.0364 (\u001b[32m↗ 0.0406\u001b[0m)\n",
            "    │   └── Best until now = 0.1599 (\u001b[31m↘ -0.0829\u001b[0m)\n",
            "    ├── Recall@0.50 = 0.9677\n",
            "    │   ├── Epoch N-1      = 0.9677 (\u001b[37m= 0.0\u001b[0m)\n",
            "    │   └── Best until now = 0.9839 (\u001b[31m↘ -0.0161\u001b[0m)\n",
            "    ├── Map@0.50 = 0.9242\n",
            "    │   ├── Epoch N-1      = 0.9178 (\u001b[32m↗ 0.0064\u001b[0m)\n",
            "    │   └── Best until now = 0.9542 (\u001b[31m↘ -0.03\u001b[0m)\n",
            "    └── F1@0.50 = 0.1427\n",
            "        ├── Epoch N-1      = 0.0702 (\u001b[32m↗ 0.0725\u001b[0m)\n",
            "        └── Best until now = 0.2738 (\u001b[31m↘ -0.1311\u001b[0m)\n",
            "\n",
            "===========================================================\n"
          ]
        },
        {
          "output_type": "stream",
          "name": "stderr",
          "text": [
            "Train epoch 186: 100%|██████████| 26/26 [00:17<00:00,  1.52it/s, PPYoloELoss/loss=1.71, PPYoloELoss/loss_cls=0.788, PPYoloELoss/loss_dfl=0.517, PPYoloELoss/loss_iou=0.407, gpu_mem=6.83]\n",
            "Validating epoch 186: 100%|██████████| 8/8 [00:03<00:00,  2.64it/s]\n"
          ]
        },
        {
          "output_type": "stream",
          "name": "stdout",
          "text": [
            "===========================================================\n",
            "SUMMARY OF EPOCH 186\n",
            "├── Train\n",
            "│   ├── Ppyoloeloss/loss_cls = 0.7876\n",
            "│   │   ├── Epoch N-1      = 0.8195 (\u001b[32m↘ -0.0319\u001b[0m)\n",
            "│   │   └── Best until now = 0.7677 (\u001b[31m↗ 0.0199\u001b[0m)\n",
            "│   ├── Ppyoloeloss/loss_iou = 0.407\n",
            "│   │   ├── Epoch N-1      = 0.4318 (\u001b[32m↘ -0.0248\u001b[0m)\n",
            "│   │   └── Best until now = 0.3939 (\u001b[31m↗ 0.0132\u001b[0m)\n",
            "│   ├── Ppyoloeloss/loss_dfl = 0.5172\n",
            "│   │   ├── Epoch N-1      = 0.5489 (\u001b[32m↘ -0.0318\u001b[0m)\n",
            "│   │   └── Best until now = 0.5123 (\u001b[31m↗ 0.0048\u001b[0m)\n",
            "│   └── Ppyoloeloss/loss = 1.7118\n",
            "│       ├── Epoch N-1      = 1.8002 (\u001b[32m↘ -0.0884\u001b[0m)\n",
            "│       └── Best until now = 1.6755 (\u001b[31m↗ 0.0364\u001b[0m)\n",
            "└── Validation\n",
            "    ├── Ppyoloeloss/loss_cls = 0.7181\n",
            "    │   ├── Epoch N-1      = 0.7389 (\u001b[32m↘ -0.0207\u001b[0m)\n",
            "    │   └── Best until now = 0.6789 (\u001b[31m↗ 0.0392\u001b[0m)\n",
            "    ├── Ppyoloeloss/loss_iou = 0.394\n",
            "    │   ├── Epoch N-1      = 0.4177 (\u001b[32m↘ -0.0237\u001b[0m)\n",
            "    │   └── Best until now = 0.3708 (\u001b[31m↗ 0.0233\u001b[0m)\n",
            "    ├── Ppyoloeloss/loss_dfl = 0.5651\n",
            "    │   ├── Epoch N-1      = 0.5624 (\u001b[31m↗ 0.0027\u001b[0m)\n",
            "    │   └── Best until now = 0.5269 (\u001b[31m↗ 0.0382\u001b[0m)\n",
            "    ├── Ppyoloeloss/loss = 1.6773\n",
            "    │   ├── Epoch N-1      = 1.719  (\u001b[32m↘ -0.0417\u001b[0m)\n",
            "    │   └── Best until now = 1.61   (\u001b[31m↗ 0.0672\u001b[0m)\n",
            "    ├── Precision@0.50 = 0.0605\n",
            "    │   ├── Epoch N-1      = 0.077  (\u001b[31m↘ -0.0165\u001b[0m)\n",
            "    │   └── Best until now = 0.1599 (\u001b[31m↘ -0.0994\u001b[0m)\n",
            "    ├── Recall@0.50 = 0.9677\n",
            "    │   ├── Epoch N-1      = 0.9677 (\u001b[37m= 0.0\u001b[0m)\n",
            "    │   └── Best until now = 0.9839 (\u001b[31m↘ -0.0161\u001b[0m)\n",
            "    ├── Map@0.50 = 0.9415\n",
            "    │   ├── Epoch N-1      = 0.9242 (\u001b[32m↗ 0.0173\u001b[0m)\n",
            "    │   └── Best until now = 0.9542 (\u001b[31m↘ -0.0127\u001b[0m)\n",
            "    └── F1@0.50 = 0.1139\n",
            "        ├── Epoch N-1      = 0.1427 (\u001b[31m↘ -0.0288\u001b[0m)\n",
            "        └── Best until now = 0.2738 (\u001b[31m↘ -0.1599\u001b[0m)\n",
            "\n",
            "===========================================================\n"
          ]
        },
        {
          "output_type": "stream",
          "name": "stderr",
          "text": [
            "Train epoch 187: 100%|██████████| 26/26 [00:17<00:00,  1.45it/s, PPYoloELoss/loss=1.68, PPYoloELoss/loss_cls=0.759, PPYoloELoss/loss_dfl=0.52, PPYoloELoss/loss_iou=0.399, gpu_mem=6.82]\n",
            "Validating epoch 187: 100%|██████████| 8/8 [00:03<00:00,  2.32it/s]\n"
          ]
        },
        {
          "output_type": "stream",
          "name": "stdout",
          "text": [
            "===========================================================\n",
            "SUMMARY OF EPOCH 187\n",
            "├── Train\n",
            "│   ├── Ppyoloeloss/loss_cls = 0.7587\n",
            "│   │   ├── Epoch N-1      = 0.7876 (\u001b[32m↘ -0.0289\u001b[0m)\n",
            "│   │   └── Best until now = 0.7677 (\u001b[32m↘ -0.009\u001b[0m)\n",
            "│   ├── Ppyoloeloss/loss_iou = 0.3993\n",
            "│   │   ├── Epoch N-1      = 0.407  (\u001b[32m↘ -0.0078\u001b[0m)\n",
            "│   │   └── Best until now = 0.3939 (\u001b[31m↗ 0.0054\u001b[0m)\n",
            "│   ├── Ppyoloeloss/loss_dfl = 0.5204\n",
            "│   │   ├── Epoch N-1      = 0.5172 (\u001b[31m↗ 0.0032\u001b[0m)\n",
            "│   │   └── Best until now = 0.5123 (\u001b[31m↗ 0.0081\u001b[0m)\n",
            "│   └── Ppyoloeloss/loss = 1.6784\n",
            "│       ├── Epoch N-1      = 1.7118 (\u001b[32m↘ -0.0335\u001b[0m)\n",
            "│       └── Best until now = 1.6755 (\u001b[31m↗ 0.0029\u001b[0m)\n",
            "└── Validation\n",
            "    ├── Ppyoloeloss/loss_cls = 0.7464\n",
            "    │   ├── Epoch N-1      = 0.7181 (\u001b[31m↗ 0.0283\u001b[0m)\n",
            "    │   └── Best until now = 0.6789 (\u001b[31m↗ 0.0675\u001b[0m)\n",
            "    ├── Ppyoloeloss/loss_iou = 0.4072\n",
            "    │   ├── Epoch N-1      = 0.394  (\u001b[31m↗ 0.0132\u001b[0m)\n",
            "    │   └── Best until now = 0.3708 (\u001b[31m↗ 0.0365\u001b[0m)\n",
            "    ├── Ppyoloeloss/loss_dfl = 0.5563\n",
            "    │   ├── Epoch N-1      = 0.5651 (\u001b[32m↘ -0.0088\u001b[0m)\n",
            "    │   └── Best until now = 0.5269 (\u001b[31m↗ 0.0294\u001b[0m)\n",
            "    ├── Ppyoloeloss/loss = 1.71\n",
            "    │   ├── Epoch N-1      = 1.6773 (\u001b[31m↗ 0.0327\u001b[0m)\n",
            "    │   └── Best until now = 1.61   (\u001b[31m↗ 0.0999\u001b[0m)\n",
            "    ├── Precision@0.50 = 0.0511\n",
            "    │   ├── Epoch N-1      = 0.0605 (\u001b[31m↘ -0.0094\u001b[0m)\n",
            "    │   └── Best until now = 0.1599 (\u001b[31m↘ -0.1088\u001b[0m)\n",
            "    ├── Recall@0.50 = 0.9677\n",
            "    │   ├── Epoch N-1      = 0.9677 (\u001b[37m= 0.0\u001b[0m)\n",
            "    │   └── Best until now = 0.9839 (\u001b[31m↘ -0.0161\u001b[0m)\n",
            "    ├── Map@0.50 = 0.9188\n",
            "    │   ├── Epoch N-1      = 0.9415 (\u001b[31m↘ -0.0227\u001b[0m)\n",
            "    │   └── Best until now = 0.9542 (\u001b[31m↘ -0.0354\u001b[0m)\n",
            "    └── F1@0.50 = 0.097\n",
            "        ├── Epoch N-1      = 0.1139 (\u001b[31m↘ -0.0168\u001b[0m)\n",
            "        └── Best until now = 0.2738 (\u001b[31m↘ -0.1768\u001b[0m)\n",
            "\n",
            "===========================================================\n"
          ]
        },
        {
          "output_type": "stream",
          "name": "stderr",
          "text": [
            "Train epoch 188: 100%|██████████| 26/26 [00:17<00:00,  1.52it/s, PPYoloELoss/loss=1.78, PPYoloELoss/loss_cls=0.804, PPYoloELoss/loss_dfl=0.547, PPYoloELoss/loss_iou=0.431, gpu_mem=6.83]\n",
            "Validating epoch 188: 100%|██████████| 8/8 [00:03<00:00,  2.64it/s]\n"
          ]
        },
        {
          "output_type": "stream",
          "name": "stdout",
          "text": [
            "===========================================================\n",
            "SUMMARY OF EPOCH 188\n",
            "├── Train\n",
            "│   ├── Ppyoloeloss/loss_cls = 0.8044\n",
            "│   │   ├── Epoch N-1      = 0.7587 (\u001b[31m↗ 0.0458\u001b[0m)\n",
            "│   │   └── Best until now = 0.7587 (\u001b[31m↗ 0.0458\u001b[0m)\n",
            "│   ├── Ppyoloeloss/loss_iou = 0.4312\n",
            "│   │   ├── Epoch N-1      = 0.3993 (\u001b[31m↗ 0.0319\u001b[0m)\n",
            "│   │   └── Best until now = 0.3939 (\u001b[31m↗ 0.0373\u001b[0m)\n",
            "│   ├── Ppyoloeloss/loss_dfl = 0.5471\n",
            "│   │   ├── Epoch N-1      = 0.5204 (\u001b[31m↗ 0.0267\u001b[0m)\n",
            "│   │   └── Best until now = 0.5123 (\u001b[31m↗ 0.0348\u001b[0m)\n",
            "│   └── Ppyoloeloss/loss = 1.7827\n",
            "│       ├── Epoch N-1      = 1.6784 (\u001b[31m↗ 0.1044\u001b[0m)\n",
            "│       └── Best until now = 1.6755 (\u001b[31m↗ 0.1073\u001b[0m)\n",
            "└── Validation\n",
            "    ├── Ppyoloeloss/loss_cls = 0.6661\n",
            "    │   ├── Epoch N-1      = 0.7464 (\u001b[32m↘ -0.0803\u001b[0m)\n",
            "    │   └── Best until now = 0.6789 (\u001b[32m↘ -0.0128\u001b[0m)\n",
            "    ├── Ppyoloeloss/loss_iou = 0.3924\n",
            "    │   ├── Epoch N-1      = 0.4072 (\u001b[32m↘ -0.0149\u001b[0m)\n",
            "    │   └── Best until now = 0.3708 (\u001b[31m↗ 0.0216\u001b[0m)\n",
            "    ├── Ppyoloeloss/loss_dfl = 0.5498\n",
            "    │   ├── Epoch N-1      = 0.5563 (\u001b[32m↘ -0.0065\u001b[0m)\n",
            "    │   └── Best until now = 0.5269 (\u001b[31m↗ 0.0229\u001b[0m)\n",
            "    ├── Ppyoloeloss/loss = 1.6083\n",
            "    │   ├── Epoch N-1      = 1.71   (\u001b[32m↘ -0.1017\u001b[0m)\n",
            "    │   └── Best until now = 1.61   (\u001b[32m↘ -0.0017\u001b[0m)\n",
            "    ├── Precision@0.50 = 0.1085\n",
            "    │   ├── Epoch N-1      = 0.0511 (\u001b[32m↗ 0.0574\u001b[0m)\n",
            "    │   └── Best until now = 0.1599 (\u001b[31m↘ -0.0514\u001b[0m)\n",
            "    ├── Recall@0.50 = 0.9677\n",
            "    │   ├── Epoch N-1      = 0.9677 (\u001b[37m= 0.0\u001b[0m)\n",
            "    │   └── Best until now = 0.9839 (\u001b[31m↘ -0.0161\u001b[0m)\n",
            "    ├── Map@0.50 = 0.9467\n",
            "    │   ├── Epoch N-1      = 0.9188 (\u001b[32m↗ 0.0279\u001b[0m)\n",
            "    │   └── Best until now = 0.9542 (\u001b[31m↘ -0.0075\u001b[0m)\n",
            "    └── F1@0.50 = 0.1951\n",
            "        ├── Epoch N-1      = 0.097  (\u001b[32m↗ 0.0981\u001b[0m)\n",
            "        └── Best until now = 0.2738 (\u001b[31m↘ -0.0787\u001b[0m)\n",
            "\n",
            "===========================================================\n"
          ]
        },
        {
          "output_type": "stream",
          "name": "stderr",
          "text": [
            "Train epoch 189: 100%|██████████| 26/26 [00:17<00:00,  1.49it/s, PPYoloELoss/loss=1.7, PPYoloELoss/loss_cls=0.775, PPYoloELoss/loss_dfl=0.523, PPYoloELoss/loss_iou=0.399, gpu_mem=6.84]\n",
            "Validating epoch 189: 100%|██████████| 8/8 [00:03<00:00,  2.59it/s]\n"
          ]
        },
        {
          "output_type": "stream",
          "name": "stdout",
          "text": [
            "===========================================================\n",
            "SUMMARY OF EPOCH 189\n",
            "├── Train\n",
            "│   ├── Ppyoloeloss/loss_cls = 0.7747\n",
            "│   │   ├── Epoch N-1      = 0.8044 (\u001b[32m↘ -0.0297\u001b[0m)\n",
            "│   │   └── Best until now = 0.7587 (\u001b[31m↗ 0.016\u001b[0m)\n",
            "│   ├── Ppyoloeloss/loss_iou = 0.3992\n",
            "│   │   ├── Epoch N-1      = 0.4312 (\u001b[32m↘ -0.032\u001b[0m)\n",
            "│   │   └── Best until now = 0.3939 (\u001b[31m↗ 0.0053\u001b[0m)\n",
            "│   ├── Ppyoloeloss/loss_dfl = 0.5227\n",
            "│   │   ├── Epoch N-1      = 0.5471 (\u001b[32m↘ -0.0244\u001b[0m)\n",
            "│   │   └── Best until now = 0.5123 (\u001b[31m↗ 0.0104\u001b[0m)\n",
            "│   └── Ppyoloeloss/loss = 1.6966\n",
            "│       ├── Epoch N-1      = 1.7827 (\u001b[32m↘ -0.0861\u001b[0m)\n",
            "│       └── Best until now = 1.6755 (\u001b[31m↗ 0.0212\u001b[0m)\n",
            "└── Validation\n",
            "    ├── Ppyoloeloss/loss_cls = 0.6913\n",
            "    │   ├── Epoch N-1      = 0.6661 (\u001b[31m↗ 0.0252\u001b[0m)\n",
            "    │   └── Best until now = 0.6661 (\u001b[31m↗ 0.0252\u001b[0m)\n",
            "    ├── Ppyoloeloss/loss_iou = 0.3852\n",
            "    │   ├── Epoch N-1      = 0.3924 (\u001b[32m↘ -0.0072\u001b[0m)\n",
            "    │   └── Best until now = 0.3708 (\u001b[31m↗ 0.0144\u001b[0m)\n",
            "    ├── Ppyoloeloss/loss_dfl = 0.5354\n",
            "    │   ├── Epoch N-1      = 0.5498 (\u001b[32m↘ -0.0144\u001b[0m)\n",
            "    │   └── Best until now = 0.5269 (\u001b[31m↗ 0.0085\u001b[0m)\n",
            "    ├── Ppyoloeloss/loss = 1.6119\n",
            "    │   ├── Epoch N-1      = 1.6083 (\u001b[31m↗ 0.0036\u001b[0m)\n",
            "    │   └── Best until now = 1.6083 (\u001b[31m↗ 0.0036\u001b[0m)\n",
            "    ├── Precision@0.50 = 0.0885\n",
            "    │   ├── Epoch N-1      = 0.1085 (\u001b[31m↘ -0.02\u001b[0m)\n",
            "    │   └── Best until now = 0.1599 (\u001b[31m↘ -0.0714\u001b[0m)\n",
            "    ├── Recall@0.50 = 0.9677\n",
            "    │   ├── Epoch N-1      = 0.9677 (\u001b[37m= 0.0\u001b[0m)\n",
            "    │   └── Best until now = 0.9839 (\u001b[31m↘ -0.0161\u001b[0m)\n",
            "    ├── Map@0.50 = 0.9321\n",
            "    │   ├── Epoch N-1      = 0.9467 (\u001b[31m↘ -0.0146\u001b[0m)\n",
            "    │   └── Best until now = 0.9542 (\u001b[31m↘ -0.0221\u001b[0m)\n",
            "    └── F1@0.50 = 0.1622\n",
            "        ├── Epoch N-1      = 0.1951 (\u001b[31m↘ -0.033\u001b[0m)\n",
            "        └── Best until now = 0.2738 (\u001b[31m↘ -0.1116\u001b[0m)\n",
            "\n",
            "===========================================================\n"
          ]
        },
        {
          "output_type": "stream",
          "name": "stderr",
          "text": [
            "Train epoch 190: 100%|██████████| 26/26 [00:17<00:00,  1.47it/s, PPYoloELoss/loss=1.74, PPYoloELoss/loss_cls=0.783, PPYoloELoss/loss_dfl=0.538, PPYoloELoss/loss_iou=0.422, gpu_mem=6.83]\n",
            "Validating epoch 190: 100%|██████████| 8/8 [00:02<00:00,  2.67it/s]\n"
          ]
        },
        {
          "output_type": "stream",
          "name": "stdout",
          "text": [
            "===========================================================\n",
            "SUMMARY OF EPOCH 190\n",
            "├── Train\n",
            "│   ├── Ppyoloeloss/loss_cls = 0.7832\n",
            "│   │   ├── Epoch N-1      = 0.7747 (\u001b[31m↗ 0.0085\u001b[0m)\n",
            "│   │   └── Best until now = 0.7587 (\u001b[31m↗ 0.0245\u001b[0m)\n",
            "│   ├── Ppyoloeloss/loss_iou = 0.4221\n",
            "│   │   ├── Epoch N-1      = 0.3992 (\u001b[31m↗ 0.0229\u001b[0m)\n",
            "│   │   └── Best until now = 0.3939 (\u001b[31m↗ 0.0282\u001b[0m)\n",
            "│   ├── Ppyoloeloss/loss_dfl = 0.5379\n",
            "│   │   ├── Epoch N-1      = 0.5227 (\u001b[31m↗ 0.0152\u001b[0m)\n",
            "│   │   └── Best until now = 0.5123 (\u001b[31m↗ 0.0256\u001b[0m)\n",
            "│   └── Ppyoloeloss/loss = 1.7432\n",
            "│       ├── Epoch N-1      = 1.6966 (\u001b[31m↗ 0.0466\u001b[0m)\n",
            "│       └── Best until now = 1.6755 (\u001b[31m↗ 0.0678\u001b[0m)\n",
            "└── Validation\n",
            "    ├── Ppyoloeloss/loss_cls = 0.7331\n",
            "    │   ├── Epoch N-1      = 0.6913 (\u001b[31m↗ 0.0418\u001b[0m)\n",
            "    │   └── Best until now = 0.6661 (\u001b[31m↗ 0.0669\u001b[0m)\n",
            "    ├── Ppyoloeloss/loss_iou = 0.4018\n",
            "    │   ├── Epoch N-1      = 0.3852 (\u001b[31m↗ 0.0166\u001b[0m)\n",
            "    │   └── Best until now = 0.3708 (\u001b[31m↗ 0.0311\u001b[0m)\n",
            "    ├── Ppyoloeloss/loss_dfl = 0.5468\n",
            "    │   ├── Epoch N-1      = 0.5354 (\u001b[31m↗ 0.0114\u001b[0m)\n",
            "    │   └── Best until now = 0.5269 (\u001b[31m↗ 0.0199\u001b[0m)\n",
            "    ├── Ppyoloeloss/loss = 1.6817\n",
            "    │   ├── Epoch N-1      = 1.6119 (\u001b[31m↗ 0.0698\u001b[0m)\n",
            "    │   └── Best until now = 1.6083 (\u001b[31m↗ 0.0734\u001b[0m)\n",
            "    ├── Precision@0.50 = 0.0978\n",
            "    │   ├── Epoch N-1      = 0.0885 (\u001b[32m↗ 0.0093\u001b[0m)\n",
            "    │   └── Best until now = 0.1599 (\u001b[31m↘ -0.062\u001b[0m)\n",
            "    ├── Recall@0.50 = 0.9516\n",
            "    │   ├── Epoch N-1      = 0.9677 (\u001b[31m↘ -0.0161\u001b[0m)\n",
            "    │   └── Best until now = 0.9839 (\u001b[31m↘ -0.0323\u001b[0m)\n",
            "    ├── Map@0.50 = 0.911\n",
            "    │   ├── Epoch N-1      = 0.9321 (\u001b[31m↘ -0.0211\u001b[0m)\n",
            "    │   └── Best until now = 0.9542 (\u001b[31m↘ -0.0432\u001b[0m)\n",
            "    └── F1@0.50 = 0.1774\n",
            "        ├── Epoch N-1      = 0.1622 (\u001b[32m↗ 0.0153\u001b[0m)\n",
            "        └── Best until now = 0.2738 (\u001b[31m↘ -0.0963\u001b[0m)\n",
            "\n",
            "===========================================================\n"
          ]
        },
        {
          "output_type": "stream",
          "name": "stderr",
          "text": [
            "Train epoch 191: 100%|██████████| 26/26 [00:16<00:00,  1.53it/s, PPYoloELoss/loss=1.73, PPYoloELoss/loss_cls=0.794, PPYoloELoss/loss_dfl=0.525, PPYoloELoss/loss_iou=0.414, gpu_mem=6.83]\n",
            "Validating epoch 191: 100%|██████████| 8/8 [00:03<00:00,  2.33it/s]\n"
          ]
        },
        {
          "output_type": "stream",
          "name": "stdout",
          "text": [
            "===========================================================\n",
            "SUMMARY OF EPOCH 191\n",
            "├── Train\n",
            "│   ├── Ppyoloeloss/loss_cls = 0.7938\n",
            "│   │   ├── Epoch N-1      = 0.7832 (\u001b[31m↗ 0.0106\u001b[0m)\n",
            "│   │   └── Best until now = 0.7587 (\u001b[31m↗ 0.0351\u001b[0m)\n",
            "│   ├── Ppyoloeloss/loss_iou = 0.4139\n",
            "│   │   ├── Epoch N-1      = 0.4221 (\u001b[32m↘ -0.0082\u001b[0m)\n",
            "│   │   └── Best until now = 0.3939 (\u001b[31m↗ 0.02\u001b[0m)\n",
            "│   ├── Ppyoloeloss/loss_dfl = 0.5249\n",
            "│   │   ├── Epoch N-1      = 0.5379 (\u001b[32m↘ -0.013\u001b[0m)\n",
            "│   │   └── Best until now = 0.5123 (\u001b[31m↗ 0.0126\u001b[0m)\n",
            "│   └── Ppyoloeloss/loss = 1.7326\n",
            "│       ├── Epoch N-1      = 1.7432 (\u001b[32m↘ -0.0106\u001b[0m)\n",
            "│       └── Best until now = 1.6755 (\u001b[31m↗ 0.0572\u001b[0m)\n",
            "└── Validation\n",
            "    ├── Ppyoloeloss/loss_cls = 0.6989\n",
            "    │   ├── Epoch N-1      = 0.7331 (\u001b[32m↘ -0.0341\u001b[0m)\n",
            "    │   └── Best until now = 0.6661 (\u001b[31m↗ 0.0328\u001b[0m)\n",
            "    ├── Ppyoloeloss/loss_iou = 0.4027\n",
            "    │   ├── Epoch N-1      = 0.4018 (\u001b[31m↗ 0.0008\u001b[0m)\n",
            "    │   └── Best until now = 0.3708 (\u001b[31m↗ 0.0319\u001b[0m)\n",
            "    ├── Ppyoloeloss/loss_dfl = 0.5564\n",
            "    │   ├── Epoch N-1      = 0.5468 (\u001b[31m↗ 0.0096\u001b[0m)\n",
            "    │   └── Best until now = 0.5269 (\u001b[31m↗ 0.0295\u001b[0m)\n",
            "    ├── Ppyoloeloss/loss = 1.658\n",
            "    │   ├── Epoch N-1      = 1.6817 (\u001b[32m↘ -0.0237\u001b[0m)\n",
            "    │   └── Best until now = 1.6083 (\u001b[31m↗ 0.0497\u001b[0m)\n",
            "    ├── Precision@0.50 = 0.1073\n",
            "    │   ├── Epoch N-1      = 0.0978 (\u001b[32m↗ 0.0095\u001b[0m)\n",
            "    │   └── Best until now = 0.1599 (\u001b[31m↘ -0.0526\u001b[0m)\n",
            "    ├── Recall@0.50 = 0.9677\n",
            "    │   ├── Epoch N-1      = 0.9516 (\u001b[32m↗ 0.0161\u001b[0m)\n",
            "    │   └── Best until now = 0.9839 (\u001b[31m↘ -0.0161\u001b[0m)\n",
            "    ├── Map@0.50 = 0.9335\n",
            "    │   ├── Epoch N-1      = 0.911  (\u001b[32m↗ 0.0225\u001b[0m)\n",
            "    │   └── Best until now = 0.9542 (\u001b[31m↘ -0.0207\u001b[0m)\n",
            "    └── F1@0.50 = 0.1932\n",
            "        ├── Epoch N-1      = 0.1774 (\u001b[32m↗ 0.0158\u001b[0m)\n",
            "        └── Best until now = 0.2738 (\u001b[31m↘ -0.0805\u001b[0m)\n",
            "\n",
            "===========================================================\n"
          ]
        },
        {
          "output_type": "stream",
          "name": "stderr",
          "text": [
            "Train epoch 192: 100%|██████████| 26/26 [00:17<00:00,  1.49it/s, PPYoloELoss/loss=1.78, PPYoloELoss/loss_cls=0.8, PPYoloELoss/loss_dfl=0.547, PPYoloELoss/loss_iou=0.429, gpu_mem=6.83]\n",
            "Validating epoch 192: 100%|██████████| 8/8 [00:03<00:00,  2.66it/s]\n"
          ]
        },
        {
          "output_type": "stream",
          "name": "stdout",
          "text": [
            "===========================================================\n",
            "SUMMARY OF EPOCH 192\n",
            "├── Train\n",
            "│   ├── Ppyoloeloss/loss_cls = 0.7998\n",
            "│   │   ├── Epoch N-1      = 0.7938 (\u001b[31m↗ 0.006\u001b[0m)\n",
            "│   │   └── Best until now = 0.7587 (\u001b[31m↗ 0.0411\u001b[0m)\n",
            "│   ├── Ppyoloeloss/loss_iou = 0.4286\n",
            "│   │   ├── Epoch N-1      = 0.4139 (\u001b[31m↗ 0.0146\u001b[0m)\n",
            "│   │   └── Best until now = 0.3939 (\u001b[31m↗ 0.0347\u001b[0m)\n",
            "│   ├── Ppyoloeloss/loss_dfl = 0.5469\n",
            "│   │   ├── Epoch N-1      = 0.5249 (\u001b[31m↗ 0.022\u001b[0m)\n",
            "│   │   └── Best until now = 0.5123 (\u001b[31m↗ 0.0345\u001b[0m)\n",
            "│   └── Ppyoloeloss/loss = 1.7753\n",
            "│       ├── Epoch N-1      = 1.7326 (\u001b[31m↗ 0.0426\u001b[0m)\n",
            "│       └── Best until now = 1.6755 (\u001b[31m↗ 0.0998\u001b[0m)\n",
            "└── Validation\n",
            "    ├── Ppyoloeloss/loss_cls = 0.6946\n",
            "    │   ├── Epoch N-1      = 0.6989 (\u001b[32m↘ -0.0043\u001b[0m)\n",
            "    │   └── Best until now = 0.6661 (\u001b[31m↗ 0.0285\u001b[0m)\n",
            "    ├── Ppyoloeloss/loss_iou = 0.4099\n",
            "    │   ├── Epoch N-1      = 0.4027 (\u001b[31m↗ 0.0072\u001b[0m)\n",
            "    │   └── Best until now = 0.3708 (\u001b[31m↗ 0.0391\u001b[0m)\n",
            "    ├── Ppyoloeloss/loss_dfl = 0.5741\n",
            "    │   ├── Epoch N-1      = 0.5564 (\u001b[31m↗ 0.0176\u001b[0m)\n",
            "    │   └── Best until now = 0.5269 (\u001b[31m↗ 0.0472\u001b[0m)\n",
            "    ├── Ppyoloeloss/loss = 1.6786\n",
            "    │   ├── Epoch N-1      = 1.658  (\u001b[31m↗ 0.0206\u001b[0m)\n",
            "    │   └── Best until now = 1.6083 (\u001b[31m↗ 0.0703\u001b[0m)\n",
            "    ├── Precision@0.50 = 0.091\n",
            "    │   ├── Epoch N-1      = 0.1073 (\u001b[31m↘ -0.0163\u001b[0m)\n",
            "    │   └── Best until now = 0.1599 (\u001b[31m↘ -0.0688\u001b[0m)\n",
            "    ├── Recall@0.50 = 0.9677\n",
            "    │   ├── Epoch N-1      = 0.9677 (\u001b[37m= 0.0\u001b[0m)\n",
            "    │   └── Best until now = 0.9839 (\u001b[31m↘ -0.0161\u001b[0m)\n",
            "    ├── Map@0.50 = 0.9467\n",
            "    │   ├── Epoch N-1      = 0.9335 (\u001b[32m↗ 0.0132\u001b[0m)\n",
            "    │   └── Best until now = 0.9542 (\u001b[31m↘ -0.0075\u001b[0m)\n",
            "    └── F1@0.50 = 0.1664\n",
            "        ├── Epoch N-1      = 0.1932 (\u001b[31m↘ -0.0268\u001b[0m)\n",
            "        └── Best until now = 0.2738 (\u001b[31m↘ -0.1073\u001b[0m)\n",
            "\n",
            "===========================================================\n"
          ]
        },
        {
          "output_type": "stream",
          "name": "stderr",
          "text": [
            "Train epoch 193: 100%|██████████| 26/26 [00:17<00:00,  1.52it/s, PPYoloELoss/loss=1.75, PPYoloELoss/loss_cls=0.783, PPYoloELoss/loss_dfl=0.538, PPYoloELoss/loss_iou=0.425, gpu_mem=6.83]\n",
            "Validating epoch 193: 100%|██████████| 8/8 [00:03<00:00,  2.49it/s]\n"
          ]
        },
        {
          "output_type": "stream",
          "name": "stdout",
          "text": [
            "===========================================================\n",
            "SUMMARY OF EPOCH 193\n",
            "├── Train\n",
            "│   ├── Ppyoloeloss/loss_cls = 0.7828\n",
            "│   │   ├── Epoch N-1      = 0.7998 (\u001b[32m↘ -0.017\u001b[0m)\n",
            "│   │   └── Best until now = 0.7587 (\u001b[31m↗ 0.0241\u001b[0m)\n",
            "│   ├── Ppyoloeloss/loss_iou = 0.425\n",
            "│   │   ├── Epoch N-1      = 0.4286 (\u001b[32m↘ -0.0036\u001b[0m)\n",
            "│   │   └── Best until now = 0.3939 (\u001b[31m↗ 0.0311\u001b[0m)\n",
            "│   ├── Ppyoloeloss/loss_dfl = 0.5377\n",
            "│   │   ├── Epoch N-1      = 0.5469 (\u001b[32m↘ -0.0092\u001b[0m)\n",
            "│   │   └── Best until now = 0.5123 (\u001b[31m↗ 0.0254\u001b[0m)\n",
            "│   └── Ppyoloeloss/loss = 1.7455\n",
            "│       ├── Epoch N-1      = 1.7753 (\u001b[32m↘ -0.0298\u001b[0m)\n",
            "│       └── Best until now = 1.6755 (\u001b[31m↗ 0.07\u001b[0m)\n",
            "└── Validation\n",
            "    ├── Ppyoloeloss/loss_cls = 0.7172\n",
            "    │   ├── Epoch N-1      = 0.6946 (\u001b[31m↗ 0.0226\u001b[0m)\n",
            "    │   └── Best until now = 0.6661 (\u001b[31m↗ 0.0511\u001b[0m)\n",
            "    ├── Ppyoloeloss/loss_iou = 0.3805\n",
            "    │   ├── Epoch N-1      = 0.4099 (\u001b[32m↘ -0.0293\u001b[0m)\n",
            "    │   └── Best until now = 0.3708 (\u001b[31m↗ 0.0098\u001b[0m)\n",
            "    ├── Ppyoloeloss/loss_dfl = 0.5365\n",
            "    │   ├── Epoch N-1      = 0.5741 (\u001b[32m↘ -0.0376\u001b[0m)\n",
            "    │   └── Best until now = 0.5269 (\u001b[31m↗ 0.0096\u001b[0m)\n",
            "    ├── Ppyoloeloss/loss = 1.6343\n",
            "    │   ├── Epoch N-1      = 1.6786 (\u001b[32m↘ -0.0443\u001b[0m)\n",
            "    │   └── Best until now = 1.6083 (\u001b[31m↗ 0.026\u001b[0m)\n",
            "    ├── Precision@0.50 = 0.137\n",
            "    │   ├── Epoch N-1      = 0.091  (\u001b[32m↗ 0.0459\u001b[0m)\n",
            "    │   └── Best until now = 0.1599 (\u001b[31m↘ -0.0229\u001b[0m)\n",
            "    ├── Recall@0.50 = 0.9677\n",
            "    │   ├── Epoch N-1      = 0.9677 (\u001b[37m= 0.0\u001b[0m)\n",
            "    │   └── Best until now = 0.9839 (\u001b[31m↘ -0.0161\u001b[0m)\n",
            "    ├── Map@0.50 = 0.9264\n",
            "    │   ├── Epoch N-1      = 0.9467 (\u001b[31m↘ -0.0203\u001b[0m)\n",
            "    │   └── Best until now = 0.9542 (\u001b[31m↘ -0.0278\u001b[0m)\n",
            "    └── F1@0.50 = 0.24\n",
            "        ├── Epoch N-1      = 0.1664 (\u001b[32m↗ 0.0736\u001b[0m)\n",
            "        └── Best until now = 0.2738 (\u001b[31m↘ -0.0338\u001b[0m)\n",
            "\n",
            "===========================================================\n"
          ]
        },
        {
          "output_type": "stream",
          "name": "stderr",
          "text": [
            "Train epoch 194: 100%|██████████| 26/26 [00:17<00:00,  1.52it/s, PPYoloELoss/loss=1.72, PPYoloELoss/loss_cls=0.793, PPYoloELoss/loss_dfl=0.524, PPYoloELoss/loss_iou=0.403, gpu_mem=6.83]\n",
            "Validating epoch 194: 100%|██████████| 8/8 [00:03<00:00,  2.59it/s]\n"
          ]
        },
        {
          "output_type": "stream",
          "name": "stdout",
          "text": [
            "===========================================================\n",
            "SUMMARY OF EPOCH 194\n",
            "├── Train\n",
            "│   ├── Ppyoloeloss/loss_cls = 0.793\n",
            "│   │   ├── Epoch N-1      = 0.7828 (\u001b[31m↗ 0.0101\u001b[0m)\n",
            "│   │   └── Best until now = 0.7587 (\u001b[31m↗ 0.0343\u001b[0m)\n",
            "│   ├── Ppyoloeloss/loss_iou = 0.4027\n",
            "│   │   ├── Epoch N-1      = 0.425  (\u001b[32m↘ -0.0223\u001b[0m)\n",
            "│   │   └── Best until now = 0.3939 (\u001b[31m↗ 0.0088\u001b[0m)\n",
            "│   ├── Ppyoloeloss/loss_dfl = 0.5236\n",
            "│   │   ├── Epoch N-1      = 0.5377 (\u001b[32m↘ -0.0141\u001b[0m)\n",
            "│   │   └── Best until now = 0.5123 (\u001b[31m↗ 0.0113\u001b[0m)\n",
            "│   └── Ppyoloeloss/loss = 1.7192\n",
            "│       ├── Epoch N-1      = 1.7455 (\u001b[32m↘ -0.0263\u001b[0m)\n",
            "│       └── Best until now = 1.6755 (\u001b[31m↗ 0.0438\u001b[0m)\n",
            "└── Validation\n",
            "    ├── Ppyoloeloss/loss_cls = 0.7094\n",
            "    │   ├── Epoch N-1      = 0.7172 (\u001b[32m↘ -0.0079\u001b[0m)\n",
            "    │   └── Best until now = 0.6661 (\u001b[31m↗ 0.0432\u001b[0m)\n",
            "    ├── Ppyoloeloss/loss_iou = 0.4009\n",
            "    │   ├── Epoch N-1      = 0.3805 (\u001b[31m↗ 0.0203\u001b[0m)\n",
            "    │   └── Best until now = 0.3708 (\u001b[31m↗ 0.0301\u001b[0m)\n",
            "    ├── Ppyoloeloss/loss_dfl = 0.5477\n",
            "    │   ├── Epoch N-1      = 0.5365 (\u001b[31m↗ 0.0112\u001b[0m)\n",
            "    │   └── Best until now = 0.5269 (\u001b[31m↗ 0.0208\u001b[0m)\n",
            "    ├── Ppyoloeloss/loss = 1.658\n",
            "    │   ├── Epoch N-1      = 1.6343 (\u001b[31m↗ 0.0237\u001b[0m)\n",
            "    │   └── Best until now = 1.6083 (\u001b[31m↗ 0.0497\u001b[0m)\n",
            "    ├── Precision@0.50 = 0.0897\n",
            "    │   ├── Epoch N-1      = 0.137  (\u001b[31m↘ -0.0473\u001b[0m)\n",
            "    │   └── Best until now = 0.1599 (\u001b[31m↘ -0.0702\u001b[0m)\n",
            "    ├── Recall@0.50 = 0.9677\n",
            "    │   ├── Epoch N-1      = 0.9677 (\u001b[37m= 0.0\u001b[0m)\n",
            "    │   └── Best until now = 0.9839 (\u001b[31m↘ -0.0161\u001b[0m)\n",
            "    ├── Map@0.50 = 0.9336\n",
            "    │   ├── Epoch N-1      = 0.9264 (\u001b[32m↗ 0.0072\u001b[0m)\n",
            "    │   └── Best until now = 0.9542 (\u001b[31m↘ -0.0206\u001b[0m)\n",
            "    └── F1@0.50 = 0.1642\n",
            "        ├── Epoch N-1      = 0.24   (\u001b[31m↘ -0.0758\u001b[0m)\n",
            "        └── Best until now = 0.2738 (\u001b[31m↘ -0.1096\u001b[0m)\n",
            "\n",
            "===========================================================\n"
          ]
        },
        {
          "output_type": "stream",
          "name": "stderr",
          "text": [
            "Train epoch 195: 100%|██████████| 26/26 [00:17<00:00,  1.48it/s, PPYoloELoss/loss=1.71, PPYoloELoss/loss_cls=0.785, PPYoloELoss/loss_dfl=0.523, PPYoloELoss/loss_iou=0.402, gpu_mem=6.82]\n",
            "Validating epoch 195: 100%|██████████| 8/8 [00:03<00:00,  2.66it/s]\n"
          ]
        },
        {
          "output_type": "stream",
          "name": "stdout",
          "text": [
            "===========================================================\n",
            "SUMMARY OF EPOCH 195\n",
            "├── Train\n",
            "│   ├── Ppyoloeloss/loss_cls = 0.7847\n",
            "│   │   ├── Epoch N-1      = 0.793  (\u001b[32m↘ -0.0083\u001b[0m)\n",
            "│   │   └── Best until now = 0.7587 (\u001b[31m↗ 0.026\u001b[0m)\n",
            "│   ├── Ppyoloeloss/loss_iou = 0.4015\n",
            "│   │   ├── Epoch N-1      = 0.4027 (\u001b[32m↘ -0.0012\u001b[0m)\n",
            "│   │   └── Best until now = 0.3939 (\u001b[31m↗ 0.0076\u001b[0m)\n",
            "│   ├── Ppyoloeloss/loss_dfl = 0.5229\n",
            "│   │   ├── Epoch N-1      = 0.5236 (\u001b[32m↘ -0.0007\u001b[0m)\n",
            "│   │   └── Best until now = 0.5123 (\u001b[31m↗ 0.0106\u001b[0m)\n",
            "│   └── Ppyoloeloss/loss = 1.7091\n",
            "│       ├── Epoch N-1      = 1.7192 (\u001b[32m↘ -0.0102\u001b[0m)\n",
            "│       └── Best until now = 1.6755 (\u001b[31m↗ 0.0336\u001b[0m)\n",
            "└── Validation\n",
            "    ├── Ppyoloeloss/loss_cls = 0.7113\n",
            "    │   ├── Epoch N-1      = 0.7094 (\u001b[31m↗ 0.0019\u001b[0m)\n",
            "    │   └── Best until now = 0.6661 (\u001b[31m↗ 0.0452\u001b[0m)\n",
            "    ├── Ppyoloeloss/loss_iou = 0.4077\n",
            "    │   ├── Epoch N-1      = 0.4009 (\u001b[31m↗ 0.0068\u001b[0m)\n",
            "    │   └── Best until now = 0.3708 (\u001b[31m↗ 0.0369\u001b[0m)\n",
            "    ├── Ppyoloeloss/loss_dfl = 0.572\n",
            "    │   ├── Epoch N-1      = 0.5477 (\u001b[31m↗ 0.0243\u001b[0m)\n",
            "    │   └── Best until now = 0.5269 (\u001b[31m↗ 0.0451\u001b[0m)\n",
            "    ├── Ppyoloeloss/loss = 1.691\n",
            "    │   ├── Epoch N-1      = 1.658  (\u001b[31m↗ 0.0331\u001b[0m)\n",
            "    │   └── Best until now = 1.6083 (\u001b[31m↗ 0.0827\u001b[0m)\n",
            "    ├── Precision@0.50 = 0.0812\n",
            "    │   ├── Epoch N-1      = 0.0897 (\u001b[31m↘ -0.0085\u001b[0m)\n",
            "    │   └── Best until now = 0.1599 (\u001b[31m↘ -0.0787\u001b[0m)\n",
            "    ├── Recall@0.50 = 0.9677\n",
            "    │   ├── Epoch N-1      = 0.9677 (\u001b[37m= 0.0\u001b[0m)\n",
            "    │   └── Best until now = 0.9839 (\u001b[31m↘ -0.0161\u001b[0m)\n",
            "    ├── Map@0.50 = 0.926\n",
            "    │   ├── Epoch N-1      = 0.9336 (\u001b[31m↘ -0.0077\u001b[0m)\n",
            "    │   └── Best until now = 0.9542 (\u001b[31m↘ -0.0282\u001b[0m)\n",
            "    └── F1@0.50 = 0.1498\n",
            "        ├── Epoch N-1      = 0.1642 (\u001b[31m↘ -0.0143\u001b[0m)\n",
            "        └── Best until now = 0.2738 (\u001b[31m↘ -0.124\u001b[0m)\n",
            "\n",
            "===========================================================\n"
          ]
        },
        {
          "output_type": "stream",
          "name": "stderr",
          "text": [
            "Train epoch 196: 100%|██████████| 26/26 [00:17<00:00,  1.50it/s, PPYoloELoss/loss=1.74, PPYoloELoss/loss_cls=0.762, PPYoloELoss/loss_dfl=0.551, PPYoloELoss/loss_iou=0.432, gpu_mem=6.98]\n",
            "Validating epoch 196: 100%|██████████| 8/8 [00:03<00:00,  2.53it/s]\n"
          ]
        },
        {
          "output_type": "stream",
          "name": "stdout",
          "text": [
            "===========================================================\n",
            "SUMMARY OF EPOCH 196\n",
            "├── Train\n",
            "│   ├── Ppyoloeloss/loss_cls = 0.7617\n",
            "│   │   ├── Epoch N-1      = 0.7847 (\u001b[32m↘ -0.0229\u001b[0m)\n",
            "│   │   └── Best until now = 0.7587 (\u001b[31m↗ 0.003\u001b[0m)\n",
            "│   ├── Ppyoloeloss/loss_iou = 0.432\n",
            "│   │   ├── Epoch N-1      = 0.4015 (\u001b[31m↗ 0.0305\u001b[0m)\n",
            "│   │   └── Best until now = 0.3939 (\u001b[31m↗ 0.0382\u001b[0m)\n",
            "│   ├── Ppyoloeloss/loss_dfl = 0.5506\n",
            "│   │   ├── Epoch N-1      = 0.5229 (\u001b[31m↗ 0.0277\u001b[0m)\n",
            "│   │   └── Best until now = 0.5123 (\u001b[31m↗ 0.0382\u001b[0m)\n",
            "│   └── Ppyoloeloss/loss = 1.7443\n",
            "│       ├── Epoch N-1      = 1.7091 (\u001b[31m↗ 0.0353\u001b[0m)\n",
            "│       └── Best until now = 1.6755 (\u001b[31m↗ 0.0689\u001b[0m)\n",
            "└── Validation\n",
            "    ├── Ppyoloeloss/loss_cls = 0.8711\n",
            "    │   ├── Epoch N-1      = 0.7113 (\u001b[31m↗ 0.1598\u001b[0m)\n",
            "    │   └── Best until now = 0.6661 (\u001b[31m↗ 0.205\u001b[0m)\n",
            "    ├── Ppyoloeloss/loss_iou = 0.441\n",
            "    │   ├── Epoch N-1      = 0.4077 (\u001b[31m↗ 0.0333\u001b[0m)\n",
            "    │   └── Best until now = 0.3708 (\u001b[31m↗ 0.0702\u001b[0m)\n",
            "    ├── Ppyoloeloss/loss_dfl = 0.6001\n",
            "    │   ├── Epoch N-1      = 0.572  (\u001b[31m↗ 0.028\u001b[0m)\n",
            "    │   └── Best until now = 0.5269 (\u001b[31m↗ 0.0732\u001b[0m)\n",
            "    ├── Ppyoloeloss/loss = 1.9122\n",
            "    │   ├── Epoch N-1      = 1.691  (\u001b[31m↗ 0.2212\u001b[0m)\n",
            "    │   └── Best until now = 1.6083 (\u001b[31m↗ 0.3039\u001b[0m)\n",
            "    ├── Precision@0.50 = 0.0857\n",
            "    │   ├── Epoch N-1      = 0.0812 (\u001b[32m↗ 0.0045\u001b[0m)\n",
            "    │   └── Best until now = 0.1599 (\u001b[31m↘ -0.0742\u001b[0m)\n",
            "    ├── Recall@0.50 = 0.9194\n",
            "    │   ├── Epoch N-1      = 0.9677 (\u001b[31m↘ -0.0484\u001b[0m)\n",
            "    │   └── Best until now = 0.9839 (\u001b[31m↘ -0.0645\u001b[0m)\n",
            "    ├── Map@0.50 = 0.8265\n",
            "    │   ├── Epoch N-1      = 0.926  (\u001b[31m↘ -0.0995\u001b[0m)\n",
            "    │   └── Best until now = 0.9542 (\u001b[31m↘ -0.1277\u001b[0m)\n",
            "    └── F1@0.50 = 0.1568\n",
            "        ├── Epoch N-1      = 0.1498 (\u001b[32m↗ 0.007\u001b[0m)\n",
            "        └── Best until now = 0.2738 (\u001b[31m↘ -0.117\u001b[0m)\n",
            "\n",
            "===========================================================\n"
          ]
        },
        {
          "output_type": "stream",
          "name": "stderr",
          "text": [
            "Train epoch 197: 100%|██████████| 26/26 [00:17<00:00,  1.45it/s, PPYoloELoss/loss=1.74, PPYoloELoss/loss_cls=0.794, PPYoloELoss/loss_dfl=0.536, PPYoloELoss/loss_iou=0.409, gpu_mem=6.82]\n",
            "Validating epoch 197: 100%|██████████| 8/8 [00:02<00:00,  2.67it/s]\n"
          ]
        },
        {
          "output_type": "stream",
          "name": "stdout",
          "text": [
            "===========================================================\n",
            "SUMMARY OF EPOCH 197\n",
            "├── Train\n",
            "│   ├── Ppyoloeloss/loss_cls = 0.7937\n",
            "│   │   ├── Epoch N-1      = 0.7617 (\u001b[31m↗ 0.032\u001b[0m)\n",
            "│   │   └── Best until now = 0.7587 (\u001b[31m↗ 0.035\u001b[0m)\n",
            "│   ├── Ppyoloeloss/loss_iou = 0.409\n",
            "│   │   ├── Epoch N-1      = 0.432  (\u001b[32m↘ -0.0231\u001b[0m)\n",
            "│   │   └── Best until now = 0.3939 (\u001b[31m↗ 0.0151\u001b[0m)\n",
            "│   ├── Ppyoloeloss/loss_dfl = 0.5361\n",
            "│   │   ├── Epoch N-1      = 0.5506 (\u001b[32m↘ -0.0144\u001b[0m)\n",
            "│   │   └── Best until now = 0.5123 (\u001b[31m↗ 0.0238\u001b[0m)\n",
            "│   └── Ppyoloeloss/loss = 1.7388\n",
            "│       ├── Epoch N-1      = 1.7443 (\u001b[32m↘ -0.0056\u001b[0m)\n",
            "│       └── Best until now = 1.6755 (\u001b[31m↗ 0.0633\u001b[0m)\n",
            "└── Validation\n",
            "    ├── Ppyoloeloss/loss_cls = 0.8089\n",
            "    │   ├── Epoch N-1      = 0.8711 (\u001b[32m↘ -0.0622\u001b[0m)\n",
            "    │   └── Best until now = 0.6661 (\u001b[31m↗ 0.1428\u001b[0m)\n",
            "    ├── Ppyoloeloss/loss_iou = 0.424\n",
            "    │   ├── Epoch N-1      = 0.441  (\u001b[32m↘ -0.017\u001b[0m)\n",
            "    │   └── Best until now = 0.3708 (\u001b[31m↗ 0.0532\u001b[0m)\n",
            "    ├── Ppyoloeloss/loss_dfl = 0.5693\n",
            "    │   ├── Epoch N-1      = 0.6001 (\u001b[32m↘ -0.0307\u001b[0m)\n",
            "    │   └── Best until now = 0.5269 (\u001b[31m↗ 0.0424\u001b[0m)\n",
            "    ├── Ppyoloeloss/loss = 1.8022\n",
            "    │   ├── Epoch N-1      = 1.9122 (\u001b[32m↘ -0.11\u001b[0m)\n",
            "    │   └── Best until now = 1.6083 (\u001b[31m↗ 0.1939\u001b[0m)\n",
            "    ├── Precision@0.50 = 0.0559\n",
            "    │   ├── Epoch N-1      = 0.0857 (\u001b[31m↘ -0.0298\u001b[0m)\n",
            "    │   └── Best until now = 0.1599 (\u001b[31m↘ -0.104\u001b[0m)\n",
            "    ├── Recall@0.50 = 0.9677\n",
            "    │   ├── Epoch N-1      = 0.9194 (\u001b[32m↗ 0.0484\u001b[0m)\n",
            "    │   └── Best until now = 0.9839 (\u001b[31m↘ -0.0161\u001b[0m)\n",
            "    ├── Map@0.50 = 0.877\n",
            "    │   ├── Epoch N-1      = 0.8265 (\u001b[32m↗ 0.0505\u001b[0m)\n",
            "    │   └── Best until now = 0.9542 (\u001b[31m↘ -0.0772\u001b[0m)\n",
            "    └── F1@0.50 = 0.1056\n",
            "        ├── Epoch N-1      = 0.1568 (\u001b[31m↘ -0.0512\u001b[0m)\n",
            "        └── Best until now = 0.2738 (\u001b[31m↘ -0.1681\u001b[0m)\n",
            "\n",
            "===========================================================\n"
          ]
        },
        {
          "output_type": "stream",
          "name": "stderr",
          "text": [
            "Train epoch 198: 100%|██████████| 26/26 [00:17<00:00,  1.48it/s, PPYoloELoss/loss=1.74, PPYoloELoss/loss_cls=0.794, PPYoloELoss/loss_dfl=0.535, PPYoloELoss/loss_iou=0.414, gpu_mem=6.83]\n",
            "Validating epoch 198: 100%|██████████| 8/8 [00:03<00:00,  2.65it/s]\n"
          ]
        },
        {
          "output_type": "stream",
          "name": "stdout",
          "text": [
            "===========================================================\n",
            "SUMMARY OF EPOCH 198\n",
            "├── Train\n",
            "│   ├── Ppyoloeloss/loss_cls = 0.7939\n",
            "│   │   ├── Epoch N-1      = 0.7937 (\u001b[31m↗ 0.0002\u001b[0m)\n",
            "│   │   └── Best until now = 0.7587 (\u001b[31m↗ 0.0352\u001b[0m)\n",
            "│   ├── Ppyoloeloss/loss_iou = 0.4139\n",
            "│   │   ├── Epoch N-1      = 0.409  (\u001b[31m↗ 0.005\u001b[0m)\n",
            "│   │   └── Best until now = 0.3939 (\u001b[31m↗ 0.02\u001b[0m)\n",
            "│   ├── Ppyoloeloss/loss_dfl = 0.535\n",
            "│   │   ├── Epoch N-1      = 0.5361 (\u001b[32m↘ -0.0012\u001b[0m)\n",
            "│   │   └── Best until now = 0.5123 (\u001b[31m↗ 0.0226\u001b[0m)\n",
            "│   └── Ppyoloeloss/loss = 1.7427\n",
            "│       ├── Epoch N-1      = 1.7388 (\u001b[31m↗ 0.004\u001b[0m)\n",
            "│       └── Best until now = 1.6755 (\u001b[31m↗ 0.0673\u001b[0m)\n",
            "└── Validation\n",
            "    ├── Ppyoloeloss/loss_cls = 0.7799\n",
            "    │   ├── Epoch N-1      = 0.8089 (\u001b[32m↘ -0.029\u001b[0m)\n",
            "    │   └── Best until now = 0.6661 (\u001b[31m↗ 0.1138\u001b[0m)\n",
            "    ├── Ppyoloeloss/loss_iou = 0.4123\n",
            "    │   ├── Epoch N-1      = 0.424  (\u001b[32m↘ -0.0117\u001b[0m)\n",
            "    │   └── Best until now = 0.3708 (\u001b[31m↗ 0.0415\u001b[0m)\n",
            "    ├── Ppyoloeloss/loss_dfl = 0.5603\n",
            "    │   ├── Epoch N-1      = 0.5693 (\u001b[32m↘ -0.009\u001b[0m)\n",
            "    │   └── Best until now = 0.5269 (\u001b[31m↗ 0.0334\u001b[0m)\n",
            "    ├── Ppyoloeloss/loss = 1.7525\n",
            "    │   ├── Epoch N-1      = 1.8022 (\u001b[32m↘ -0.0496\u001b[0m)\n",
            "    │   └── Best until now = 1.6083 (\u001b[31m↗ 0.1443\u001b[0m)\n",
            "    ├── Precision@0.50 = 0.0441\n",
            "    │   ├── Epoch N-1      = 0.0559 (\u001b[31m↘ -0.0118\u001b[0m)\n",
            "    │   └── Best until now = 0.1599 (\u001b[31m↘ -0.1158\u001b[0m)\n",
            "    ├── Recall@0.50 = 0.9677\n",
            "    │   ├── Epoch N-1      = 0.9677 (\u001b[37m= 0.0\u001b[0m)\n",
            "    │   └── Best until now = 0.9839 (\u001b[31m↘ -0.0161\u001b[0m)\n",
            "    ├── Map@0.50 = 0.921\n",
            "    │   ├── Epoch N-1      = 0.877  (\u001b[32m↗ 0.044\u001b[0m)\n",
            "    │   └── Best until now = 0.9542 (\u001b[31m↘ -0.0332\u001b[0m)\n",
            "    └── F1@0.50 = 0.0843\n",
            "        ├── Epoch N-1      = 0.1056 (\u001b[31m↘ -0.0214\u001b[0m)\n",
            "        └── Best until now = 0.2738 (\u001b[31m↘ -0.1895\u001b[0m)\n",
            "\n",
            "===========================================================\n"
          ]
        },
        {
          "output_type": "stream",
          "name": "stderr",
          "text": [
            "Train epoch 199: 100%|██████████| 26/26 [00:17<00:00,  1.51it/s, PPYoloELoss/loss=1.73, PPYoloELoss/loss_cls=0.786, PPYoloELoss/loss_dfl=0.537, PPYoloELoss/loss_iou=0.405, gpu_mem=6.84]\n",
            "Validating epoch 199: 100%|██████████| 8/8 [00:03<00:00,  2.65it/s]\n"
          ]
        }
      ],
      "source": [
        "trainer.train(\n",
        "    model=model,\n",
        "    training_params=train_params,\n",
        "    train_loader=train_data,\n",
        "    valid_loader=val_data\n",
        ")"
      ]
    },
    {
      "cell_type": "code",
      "execution_count": null,
      "id": "6e89fc22",
      "metadata": {
        "colab": {
          "base_uri": "https://localhost:8080/"
        },
        "id": "6e89fc22",
        "outputId": "31bdeb08-a3e7-4127-deff-d652aa7bf9ad"
      },
      "outputs": [
        {
          "output_type": "stream",
          "name": "stderr",
          "text": [
            "[2023-10-19 13:52:07] INFO - checkpoint_utils.py - Successfully loaded model weights from /content/drive/MyDrive/checkpoints/csilab-braintumor-detection/RUN_20231018_162746_414674/average_model.pth EMA checkpoint.\n"
          ]
        }
      ],
      "source": [
        "best_model = models.get(\n",
        "    MODEL_ARCH,\n",
        "    num_classes=len(dataset_params['classes']),\n",
        "    checkpoint_path=\"/content/drive/MyDrive/checkpoints/csilab-braintumor-detection/RUN_20231018_162746_414674/average_model.pth\"\n",
        ").to(DEVICE)\n"
      ]
    },
    {
      "cell_type": "code",
      "execution_count": null,
      "id": "hX0bMXz0H_mk",
      "metadata": {
        "colab": {
          "base_uri": "https://localhost:8080/"
        },
        "id": "hX0bMXz0H_mk",
        "outputId": "78630aa4-0257-482b-c385-3c026bfbc7db"
      },
      "outputs": [
        {
          "output_type": "stream",
          "name": "stderr",
          "text": [
            "Testing:  75%|███████▌  | 3/4 [00:11<00:02,  2.58s/it]"
          ]
        },
        {
          "output_type": "execute_result",
          "data": {
            "text/plain": [
              "{'Precision@0.50': 0.15075376629829407,\n",
              " 'Recall@0.50': 1.0,\n",
              " 'mAP@0.50': 0.9390162825584412,\n",
              " 'F1@0.50': 0.2620087265968323}"
            ]
          },
          "metadata": {},
          "execution_count": 11
        },
        {
          "output_type": "stream",
          "name": "stderr",
          "text": [
            "\rTesting: 100%|██████████| 4/4 [00:11<00:00,  1.66s/it]\rTesting: 100%|██████████| 4/4 [00:11<00:00,  2.85s/it]\n"
          ]
        }
      ],
      "source": [
        "trainer.test(\n",
        "    model=best_model,\n",
        "    test_loader=test_data,\n",
        "    test_metrics_list=DetectionMetrics_050(\n",
        "        score_thres=0.1,\n",
        "        top_k_predictions=300,\n",
        "        num_cls=len(dataset_params['classes']),\n",
        "        normalize_targets=True,\n",
        "        post_prediction_callback=PPYoloEPostPredictionCallback(\n",
        "            score_threshold=0.01,\n",
        "            nms_top_k=1000,\n",
        "            max_predictions=300,\n",
        "            nms_threshold=0.7\n",
        "        )\n",
        "    )\n",
        ")"
      ]
    },
    {
      "cell_type": "code",
      "execution_count": null,
      "id": "63f1045c",
      "metadata": {
        "id": "63f1045c"
      },
      "outputs": [],
      "source": [
        "import supervision as sv\n",
        "\n",
        "ds = sv.DetectionDataset.from_yolo(\n",
        "    images_directory_path=f\"{dataset.location}/test/images\",\n",
        "    annotations_directory_path=f\"{dataset.location}/test/labels\",\n",
        "    data_yaml_path=f\"{dataset.location}/data.yaml\",\n",
        "    force_masks=False\n",
        ")\n"
      ]
    },
    {
      "cell_type": "code",
      "execution_count": null,
      "id": "89e4e1b7",
      "metadata": {
        "colab": {
          "base_uri": "https://localhost:8080/"
        },
        "id": "89e4e1b7",
        "outputId": "bed897ce-533a-4a44-cfe9-6fda097d9d58"
      },
      "outputs": [
        {
          "output_type": "stream",
          "name": "stderr",
          "text": [
            "[2023-10-19 14:09:20] INFO - pipelines.py - Fusing some of the model's layers. If this takes too much memory, you can deactivate it by setting `fuse_model=False`\n",
            "[2023-10-19 14:09:21] INFO - pipelines.py - Fusing some of the model's layers. If this takes too much memory, you can deactivate it by setting `fuse_model=False`\n"
          ]
        },
        {
          "output_type": "stream",
          "name": "stdout",
          "text": [
            "/content/CsiLab-BrainTumor-Detection-2/test/images/40_jpg.rf.736ee6792123cd61290057daabf1cfc6.jpg\n"
          ]
        },
        {
          "output_type": "stream",
          "name": "stderr",
          "text": [
            "[2023-10-19 14:09:21] INFO - pipelines.py - Fusing some of the model's layers. If this takes too much memory, you can deactivate it by setting `fuse_model=False`\n"
          ]
        },
        {
          "output_type": "stream",
          "name": "stdout",
          "text": [
            "/content/CsiLab-BrainTumor-Detection-2/test/images/Te-me_0185_jpg.rf.e2b9c4c2cea69421cec16d4517cd00cb.jpg\n"
          ]
        },
        {
          "output_type": "stream",
          "name": "stderr",
          "text": [
            "[2023-10-19 14:09:21] INFO - pipelines.py - Fusing some of the model's layers. If this takes too much memory, you can deactivate it by setting `fuse_model=False`\n"
          ]
        },
        {
          "output_type": "stream",
          "name": "stdout",
          "text": [
            "/content/CsiLab-BrainTumor-Detection-2/test/images/66_jpg.rf.804da7c3830217be212507157665affa.jpg\n"
          ]
        },
        {
          "output_type": "stream",
          "name": "stderr",
          "text": [
            "[2023-10-19 14:09:21] INFO - pipelines.py - Fusing some of the model's layers. If this takes too much memory, you can deactivate it by setting `fuse_model=False`\n"
          ]
        },
        {
          "output_type": "stream",
          "name": "stdout",
          "text": [
            "/content/CsiLab-BrainTumor-Detection-2/test/images/4_jpg.rf.2be8e3f4afa4752b9e07a4da0601eae4.jpg\n"
          ]
        },
        {
          "output_type": "stream",
          "name": "stderr",
          "text": [
            "[2023-10-19 14:09:21] INFO - pipelines.py - Fusing some of the model's layers. If this takes too much memory, you can deactivate it by setting `fuse_model=False`\n"
          ]
        },
        {
          "output_type": "stream",
          "name": "stdout",
          "text": [
            "/content/CsiLab-BrainTumor-Detection-2/test/images/Te-me_0125_jpg.rf.c972b09d30d46451ebb46c810a3f1ec1.jpg\n"
          ]
        },
        {
          "output_type": "stream",
          "name": "stderr",
          "text": [
            "[2023-10-19 14:09:22] INFO - pipelines.py - Fusing some of the model's layers. If this takes too much memory, you can deactivate it by setting `fuse_model=False`\n"
          ]
        },
        {
          "output_type": "stream",
          "name": "stdout",
          "text": [
            "/content/CsiLab-BrainTumor-Detection-2/test/images/Te-me_0122_jpg.rf.387be9120771a6f3348d65e214fa81cc.jpg\n"
          ]
        },
        {
          "output_type": "stream",
          "name": "stderr",
          "text": [
            "[2023-10-19 14:09:22] INFO - pipelines.py - Fusing some of the model's layers. If this takes too much memory, you can deactivate it by setting `fuse_model=False`\n"
          ]
        },
        {
          "output_type": "stream",
          "name": "stdout",
          "text": [
            "/content/CsiLab-BrainTumor-Detection-2/test/images/Te-me_0047_jpg.rf.8b8d6403b65ecde05392b5447788de48.jpg\n"
          ]
        },
        {
          "output_type": "stream",
          "name": "stderr",
          "text": [
            "[2023-10-19 14:09:23] INFO - pipelines.py - Fusing some of the model's layers. If this takes too much memory, you can deactivate it by setting `fuse_model=False`\n"
          ]
        },
        {
          "output_type": "stream",
          "name": "stdout",
          "text": [
            "/content/CsiLab-BrainTumor-Detection-2/test/images/Te-me_0188_jpg.rf.b4f4733a0a773c68895bf0e1c9dd20c0.jpg\n"
          ]
        },
        {
          "output_type": "stream",
          "name": "stderr",
          "text": [
            "[2023-10-19 14:09:23] INFO - pipelines.py - Fusing some of the model's layers. If this takes too much memory, you can deactivate it by setting `fuse_model=False`\n"
          ]
        },
        {
          "output_type": "stream",
          "name": "stdout",
          "text": [
            "/content/CsiLab-BrainTumor-Detection-2/test/images/Te-me_0024_jpg.rf.288a0c8835a3b18e4c7618a06c8d1c67.jpg\n"
          ]
        },
        {
          "output_type": "stream",
          "name": "stderr",
          "text": [
            "[2023-10-19 14:09:23] INFO - pipelines.py - Fusing some of the model's layers. If this takes too much memory, you can deactivate it by setting `fuse_model=False`\n"
          ]
        },
        {
          "output_type": "stream",
          "name": "stdout",
          "text": [
            "/content/CsiLab-BrainTumor-Detection-2/test/images/80_jpg.rf.6adb11e53168bd64016d802e59c42d83.jpg\n"
          ]
        },
        {
          "output_type": "stream",
          "name": "stderr",
          "text": [
            "[2023-10-19 14:09:24] INFO - pipelines.py - Fusing some of the model's layers. If this takes too much memory, you can deactivate it by setting `fuse_model=False`\n"
          ]
        },
        {
          "output_type": "stream",
          "name": "stdout",
          "text": [
            "/content/CsiLab-BrainTumor-Detection-2/test/images/Te-me_0123_jpg.rf.a46fdfcb4557f4c9189c9c5238c4e31f.jpg\n"
          ]
        },
        {
          "output_type": "stream",
          "name": "stderr",
          "text": [
            "[2023-10-19 14:09:24] INFO - pipelines.py - Fusing some of the model's layers. If this takes too much memory, you can deactivate it by setting `fuse_model=False`\n"
          ]
        },
        {
          "output_type": "stream",
          "name": "stdout",
          "text": [
            "/content/CsiLab-BrainTumor-Detection-2/test/images/Te-me_0058_jpg.rf.e2e8385920cb74bb8ffdd744c5f1bf60.jpg\n"
          ]
        },
        {
          "output_type": "stream",
          "name": "stderr",
          "text": [
            "[2023-10-19 14:09:24] INFO - pipelines.py - Fusing some of the model's layers. If this takes too much memory, you can deactivate it by setting `fuse_model=False`\n"
          ]
        },
        {
          "output_type": "stream",
          "name": "stdout",
          "text": [
            "/content/CsiLab-BrainTumor-Detection-2/test/images/97_jpg.rf.cd4bb5f52949a15689a4be55d00ef183.jpg\n"
          ]
        },
        {
          "output_type": "stream",
          "name": "stderr",
          "text": [
            "[2023-10-19 14:09:25] INFO - pipelines.py - Fusing some of the model's layers. If this takes too much memory, you can deactivate it by setting `fuse_model=False`\n"
          ]
        },
        {
          "output_type": "stream",
          "name": "stdout",
          "text": [
            "/content/CsiLab-BrainTumor-Detection-2/test/images/Te-me_0090_jpg.rf.8b018feecacd9d5ce67eabaa101bfecd.jpg\n"
          ]
        },
        {
          "output_type": "stream",
          "name": "stderr",
          "text": [
            "[2023-10-19 14:09:25] INFO - pipelines.py - Fusing some of the model's layers. If this takes too much memory, you can deactivate it by setting `fuse_model=False`\n"
          ]
        },
        {
          "output_type": "stream",
          "name": "stdout",
          "text": [
            "/content/CsiLab-BrainTumor-Detection-2/test/images/Te-me_0030_jpg.rf.2d3a0928075689c4d40613059da115e8.jpg\n"
          ]
        },
        {
          "output_type": "stream",
          "name": "stderr",
          "text": [
            "[2023-10-19 14:09:25] INFO - pipelines.py - Fusing some of the model's layers. If this takes too much memory, you can deactivate it by setting `fuse_model=False`\n"
          ]
        },
        {
          "output_type": "stream",
          "name": "stdout",
          "text": [
            "/content/CsiLab-BrainTumor-Detection-2/test/images/35_jpg.rf.cab669c5610c769bb471aec8910c8175.jpg\n"
          ]
        },
        {
          "output_type": "stream",
          "name": "stderr",
          "text": [
            "[2023-10-19 14:09:26] INFO - pipelines.py - Fusing some of the model's layers. If this takes too much memory, you can deactivate it by setting `fuse_model=False`\n"
          ]
        },
        {
          "output_type": "stream",
          "name": "stdout",
          "text": [
            "/content/CsiLab-BrainTumor-Detection-2/test/images/Te-me_0104_jpg.rf.5b77bca98732a082283e64dcbe9eaa32.jpg\n"
          ]
        },
        {
          "output_type": "stream",
          "name": "stderr",
          "text": [
            "[2023-10-19 14:09:26] INFO - pipelines.py - Fusing some of the model's layers. If this takes too much memory, you can deactivate it by setting `fuse_model=False`\n"
          ]
        },
        {
          "output_type": "stream",
          "name": "stdout",
          "text": [
            "/content/CsiLab-BrainTumor-Detection-2/test/images/Te-me_0068_jpg.rf.6b70899c316927bf06f5de9e7f8688c8.jpg\n"
          ]
        },
        {
          "output_type": "stream",
          "name": "stderr",
          "text": [
            "[2023-10-19 14:09:26] INFO - pipelines.py - Fusing some of the model's layers. If this takes too much memory, you can deactivate it by setting `fuse_model=False`\n"
          ]
        },
        {
          "output_type": "stream",
          "name": "stdout",
          "text": [
            "/content/CsiLab-BrainTumor-Detection-2/test/images/Te-me_0060_jpg.rf.dc089059d973dd70b00d5ba9d9e2a593.jpg\n"
          ]
        },
        {
          "output_type": "stream",
          "name": "stderr",
          "text": [
            "[2023-10-19 14:09:27] INFO - pipelines.py - Fusing some of the model's layers. If this takes too much memory, you can deactivate it by setting `fuse_model=False`\n"
          ]
        },
        {
          "output_type": "stream",
          "name": "stdout",
          "text": [
            "/content/CsiLab-BrainTumor-Detection-2/test/images/Te-me_0205_jpg.rf.22d874683a8b7d16c1c08392be8f7d3e.jpg\n"
          ]
        },
        {
          "output_type": "stream",
          "name": "stderr",
          "text": [
            "[2023-10-19 14:09:28] INFO - pipelines.py - Fusing some of the model's layers. If this takes too much memory, you can deactivate it by setting `fuse_model=False`\n"
          ]
        },
        {
          "output_type": "stream",
          "name": "stdout",
          "text": [
            "/content/CsiLab-BrainTumor-Detection-2/test/images/Te-me_0021_jpg.rf.61dee38d1edd1571e4acf51cf9d918c9.jpg\n"
          ]
        },
        {
          "output_type": "stream",
          "name": "stderr",
          "text": [
            "[2023-10-19 14:09:28] INFO - pipelines.py - Fusing some of the model's layers. If this takes too much memory, you can deactivate it by setting `fuse_model=False`\n"
          ]
        },
        {
          "output_type": "stream",
          "name": "stdout",
          "text": [
            "/content/CsiLab-BrainTumor-Detection-2/test/images/Te-me_0119_jpg.rf.73c4b7c16278b1b3f2757408be32470a.jpg\n"
          ]
        },
        {
          "output_type": "stream",
          "name": "stderr",
          "text": [
            "[2023-10-19 14:09:28] INFO - pipelines.py - Fusing some of the model's layers. If this takes too much memory, you can deactivate it by setting `fuse_model=False`\n"
          ]
        },
        {
          "output_type": "stream",
          "name": "stdout",
          "text": [
            "/content/CsiLab-BrainTumor-Detection-2/test/images/90_jpg.rf.737f92e5b7bd51fe4581dcfa5f9a791a.jpg\n"
          ]
        },
        {
          "output_type": "stream",
          "name": "stderr",
          "text": [
            "[2023-10-19 14:09:29] INFO - pipelines.py - Fusing some of the model's layers. If this takes too much memory, you can deactivate it by setting `fuse_model=False`\n"
          ]
        },
        {
          "output_type": "stream",
          "name": "stdout",
          "text": [
            "/content/CsiLab-BrainTumor-Detection-2/test/images/Te-me_0127_jpg.rf.b7593e9432117bc4f3c1bba8cbc4688e.jpg\n"
          ]
        },
        {
          "output_type": "stream",
          "name": "stderr",
          "text": [
            "[2023-10-19 14:09:29] INFO - pipelines.py - Fusing some of the model's layers. If this takes too much memory, you can deactivate it by setting `fuse_model=False`\n"
          ]
        },
        {
          "output_type": "stream",
          "name": "stdout",
          "text": [
            "/content/CsiLab-BrainTumor-Detection-2/test/images/Te-me_0049_jpg.rf.bd0ae319cdec547a5da604d630c8e572.jpg\n"
          ]
        },
        {
          "output_type": "stream",
          "name": "stderr",
          "text": [
            "[2023-10-19 14:09:29] INFO - pipelines.py - Fusing some of the model's layers. If this takes too much memory, you can deactivate it by setting `fuse_model=False`\n"
          ]
        },
        {
          "output_type": "stream",
          "name": "stdout",
          "text": [
            "/content/CsiLab-BrainTumor-Detection-2/test/images/Te-me_0130_jpg.rf.1feb35c3bf682ee4c94059a5f495bffa.jpg\n"
          ]
        },
        {
          "output_type": "stream",
          "name": "stderr",
          "text": [
            "[2023-10-19 14:09:29] INFO - pipelines.py - Fusing some of the model's layers. If this takes too much memory, you can deactivate it by setting `fuse_model=False`\n"
          ]
        },
        {
          "output_type": "stream",
          "name": "stdout",
          "text": [
            "/content/CsiLab-BrainTumor-Detection-2/test/images/Te-me_0133_jpg.rf.489fde902fd3ef68d0c2246ba63256fe.jpg\n"
          ]
        },
        {
          "output_type": "stream",
          "name": "stderr",
          "text": [
            "[2023-10-19 14:09:30] INFO - pipelines.py - Fusing some of the model's layers. If this takes too much memory, you can deactivate it by setting `fuse_model=False`\n"
          ]
        },
        {
          "output_type": "stream",
          "name": "stdout",
          "text": [
            "/content/CsiLab-BrainTumor-Detection-2/test/images/52_jpg.rf.ddeb36fb7aa1fab30d8abfd754e4672a.jpg\n"
          ]
        },
        {
          "output_type": "stream",
          "name": "stderr",
          "text": [
            "[2023-10-19 14:09:30] INFO - pipelines.py - Fusing some of the model's layers. If this takes too much memory, you can deactivate it by setting `fuse_model=False`\n"
          ]
        },
        {
          "output_type": "stream",
          "name": "stdout",
          "text": [
            "/content/CsiLab-BrainTumor-Detection-2/test/images/6_jpg.rf.50131eca8e5f987cf87f021751cdfe92.jpg\n"
          ]
        }
      ],
      "source": [
        "CONFIDENCE_TRESHOLD = 0.5\n",
        "\n",
        "predictions = {}\n",
        "\n",
        "for image_name, image in ds.images.items():\n",
        "    result = list(best_model.predict(image, conf=CONFIDENCE_TRESHOLD))[0]\n",
        "    detections = sv.Detections(\n",
        "        xyxy=result.prediction.bboxes_xyxy,\n",
        "        confidence=result.prediction.confidence,\n",
        "        class_id=result.prediction.labels.astype(int)\n",
        "    )\n",
        "    predictions[image_name] = detections"
      ]
    },
    {
      "cell_type": "code",
      "source": [
        "previsao = list(best_model.predict('/content/CsiLab-BrainTumor-Detection-2/test/images/Te-me_0125_jpg.rf.c972b09d30d46451ebb46c810a3f1ec1.jpg', conf=CONFIDENCE_TRESHOLD))[0]\n",
        "print(type(previsao))\n",
        "print(previsao.prediction.bboxes_xyxy) ## bounding boxes de previsão\n"
      ],
      "metadata": {
        "colab": {
          "base_uri": "https://localhost:8080/"
        },
        "id": "bfWxTFfDx0j8",
        "outputId": "d419b7c4-58cb-49ad-ac56-e704ad9f51ae"
      },
      "id": "bfWxTFfDx0j8",
      "execution_count": null,
      "outputs": [
        {
          "output_type": "stream",
          "name": "stderr",
          "text": [
            "[2023-10-19 13:53:51] INFO - pipelines.py - Fusing some of the model's layers. If this takes too much memory, you can deactivate it by setting `fuse_model=False`\n"
          ]
        },
        {
          "output_type": "stream",
          "name": "stdout",
          "text": [
            "<class 'super_gradients.training.utils.predict.prediction_results.ImageDetectionPrediction'>\n",
            "[[229.75 394.5  299.75 483.  ]]\n"
          ]
        }
      ]
    },
    {
      "cell_type": "code",
      "execution_count": null,
      "id": "c18c0e67",
      "metadata": {
        "colab": {
          "base_uri": "https://localhost:8080/",
          "height": 245
        },
        "id": "c18c0e67",
        "outputId": "d7fa6e77-df32-4db4-f7d7-8f617003c47a"
      },
      "outputs": [
        {
          "output_type": "error",
          "ename": "TypeError",
          "evalue": "ignored",
          "traceback": [
            "\u001b[0;31m---------------------------------------------------------------------------\u001b[0m",
            "\u001b[0;31mTypeError\u001b[0m                                 Traceback (most recent call last)",
            "\u001b[0;32m<ipython-input-30-5d3de51002d4>\u001b[0m in \u001b[0;36m<cell line: 18>\u001b[0;34m()\u001b[0m\n\u001b[1;32m     27\u001b[0m     frame_with_predictions = box_annotator.annotate(\n\u001b[1;32m     28\u001b[0m         \u001b[0mscene\u001b[0m\u001b[0;34m=\u001b[0m\u001b[0mds\u001b[0m\u001b[0;34m.\u001b[0m\u001b[0mimages\u001b[0m\u001b[0;34m[\u001b[0m\u001b[0mkey\u001b[0m\u001b[0;34m]\u001b[0m\u001b[0;34m.\u001b[0m\u001b[0mcopy\u001b[0m\u001b[0;34m(\u001b[0m\u001b[0;34m)\u001b[0m\u001b[0;34m,\u001b[0m\u001b[0;34m\u001b[0m\u001b[0;34m\u001b[0m\u001b[0m\n\u001b[0;32m---> 29\u001b[0;31m         \u001b[0mdetections\u001b[0m\u001b[0;34m=\u001b[0m\u001b[0mpredictions\u001b[0m\u001b[0;34m[\u001b[0m\u001b[0mkey\u001b[0m\u001b[0;34m]\u001b[0m\u001b[0;34m,\u001b[0m\u001b[0;34m\u001b[0m\u001b[0;34m\u001b[0m\u001b[0m\n\u001b[0m\u001b[1;32m     30\u001b[0m         \u001b[0mskip_label\u001b[0m\u001b[0;34m=\u001b[0m\u001b[0;32mTrue\u001b[0m\u001b[0;34m\u001b[0m\u001b[0;34m\u001b[0m\u001b[0m\n\u001b[1;32m     31\u001b[0m \u001b[0;34m\u001b[0m\u001b[0m\n",
            "\u001b[0;31mTypeError\u001b[0m: list indices must be integers or slices, not str"
          ]
        }
      ],
      "source": [
        "import random\n",
        "import supervision as sv\n",
        "\n",
        "random.seed(10)\n",
        "\n",
        "MAX_IMAGE_COUNT = 5\n",
        "\n",
        "n = min(MAX_IMAGE_COUNT, len(ds.images))\n",
        "\n",
        "keys = list(ds.images.keys())\n",
        "keys = random.sample(keys, n)\n",
        "\n",
        "box_annotator = sv.BoxAnnotator()\n",
        "\n",
        "images = []\n",
        "titles = []\n",
        "\n",
        "for key in keys:\n",
        "    frame_with_annotations = box_annotator.annotate(\n",
        "        scene=ds.images[key].copy(),\n",
        "        detections=ds.annotations[key],\n",
        "        skip_label=True\n",
        "\n",
        "    )\n",
        "    images.append(frame_with_annotations)\n",
        "    titles.append('annotations')\n",
        "    frame_with_predictions = box_annotator.annotate(\n",
        "        scene=ds.images[key].copy(),\n",
        "        detections=predictions[key],\n",
        "        skip_label=True\n",
        "\n",
        "    )\n",
        "    #checar os prints\n",
        "    #print(frame_with_predictions)\n",
        "    images.append(frame_with_predictions)\n",
        "    titles.append('predictions')\n",
        "\n",
        "%matplotlib inline\n",
        "sv.plot_images_grid(images=images, titles=titles, grid_size=(n, 2), size=(2 * 4, n * 4))"
      ]
    },
    {
      "cell_type": "code",
      "execution_count": null,
      "id": "cd1dd988",
      "metadata": {
        "colab": {
          "base_uri": "https://localhost:8080/",
          "height": 1000
        },
        "id": "cd1dd988",
        "outputId": "b1caa6ca-07c6-4537-d6b9-604566af27ca"
      },
      "outputs": [
        {
          "ename": "FileNotFoundError",
          "evalue": "ignored",
          "output_type": "error",
          "traceback": [
            "\u001b[0;31m---------------------------------------------------------------------------\u001b[0m",
            "\u001b[0;31mFileNotFoundError\u001b[0m                         Traceback (most recent call last)",
            "\u001b[0;32m<ipython-input-15-7426407c0e2d>\u001b[0m in \u001b[0;36m<cell line: 34>\u001b[0;34m()\u001b[0m\n\u001b[1;32m     32\u001b[0m )\n\u001b[1;32m     33\u001b[0m \u001b[0;34m\u001b[0m\u001b[0m\n\u001b[0;32m---> 34\u001b[0;31m \u001b[0mconfusion_matrix\u001b[0m\u001b[0;34m.\u001b[0m\u001b[0mplot\u001b[0m\u001b[0;34m(\u001b[0m\u001b[0mos\u001b[0m\u001b[0;34m.\u001b[0m\u001b[0mpath\u001b[0m\u001b[0;34m.\u001b[0m\u001b[0mjoin\u001b[0m\u001b[0;34m(\u001b[0m\u001b[0;34m\"./content\"\u001b[0m\u001b[0;34m,\u001b[0m \u001b[0;34m\"confusion_matrix.png\"\u001b[0m\u001b[0;34m)\u001b[0m\u001b[0;34m,\u001b[0m \u001b[0mclass_names\u001b[0m\u001b[0;34m=\u001b[0m\u001b[0mds\u001b[0m\u001b[0;34m.\u001b[0m\u001b[0mclasses\u001b[0m\u001b[0;34m)\u001b[0m\u001b[0;34m\u001b[0m\u001b[0;34m\u001b[0m\u001b[0m\n\u001b[0m",
            "\u001b[0;32m/usr/local/lib/python3.10/dist-packages/onemetric/cv/object_detection/confusion_matrix.py\u001b[0m in \u001b[0;36mplot\u001b[0;34m(self, target_path, title, class_names, normalize)\u001b[0m\n\u001b[1;32m    144\u001b[0m         \u001b[0mfig\u001b[0m\u001b[0;34m.\u001b[0m\u001b[0maxes\u001b[0m\u001b[0;34m[\u001b[0m\u001b[0;36m0\u001b[0m\u001b[0;34m]\u001b[0m\u001b[0;34m.\u001b[0m\u001b[0mset_ylabel\u001b[0m\u001b[0;34m(\u001b[0m\u001b[0;34m'True'\u001b[0m\u001b[0;34m)\u001b[0m\u001b[0;34m\u001b[0m\u001b[0;34m\u001b[0m\u001b[0m\n\u001b[1;32m    145\u001b[0m         \u001b[0mfig\u001b[0m\u001b[0;34m.\u001b[0m\u001b[0maxes\u001b[0m\u001b[0;34m[\u001b[0m\u001b[0;36m0\u001b[0m\u001b[0;34m]\u001b[0m\u001b[0;34m.\u001b[0m\u001b[0mset_facecolor\u001b[0m\u001b[0;34m(\u001b[0m\u001b[0;34m'white'\u001b[0m\u001b[0;34m)\u001b[0m\u001b[0;34m\u001b[0m\u001b[0;34m\u001b[0m\u001b[0m\n\u001b[0;32m--> 146\u001b[0;31m         \u001b[0mfig\u001b[0m\u001b[0;34m.\u001b[0m\u001b[0msavefig\u001b[0m\u001b[0;34m(\u001b[0m\u001b[0mtarget_path\u001b[0m\u001b[0;34m,\u001b[0m \u001b[0mdpi\u001b[0m\u001b[0;34m=\u001b[0m\u001b[0;36m250\u001b[0m\u001b[0;34m,\u001b[0m \u001b[0mfacecolor\u001b[0m\u001b[0;34m=\u001b[0m\u001b[0mfig\u001b[0m\u001b[0;34m.\u001b[0m\u001b[0mget_facecolor\u001b[0m\u001b[0;34m(\u001b[0m\u001b[0;34m)\u001b[0m\u001b[0;34m,\u001b[0m \u001b[0mtransparent\u001b[0m\u001b[0;34m=\u001b[0m\u001b[0;32mTrue\u001b[0m\u001b[0;34m)\u001b[0m\u001b[0;34m\u001b[0m\u001b[0;34m\u001b[0m\u001b[0m\n\u001b[0m\u001b[1;32m    147\u001b[0m \u001b[0;34m\u001b[0m\u001b[0m\n\u001b[1;32m    148\u001b[0m     \u001b[0;34m@\u001b[0m\u001b[0mstaticmethod\u001b[0m\u001b[0;34m\u001b[0m\u001b[0;34m\u001b[0m\u001b[0m\n",
            "\u001b[0;32m/usr/local/lib/python3.10/dist-packages/matplotlib/figure.py\u001b[0m in \u001b[0;36msavefig\u001b[0;34m(self, fname, transparent, **kwargs)\u001b[0m\n\u001b[1;32m   3341\u001b[0m                         ax.patch._cm_set(facecolor='none', edgecolor='none'))\n\u001b[1;32m   3342\u001b[0m \u001b[0;34m\u001b[0m\u001b[0m\n\u001b[0;32m-> 3343\u001b[0;31m             \u001b[0mself\u001b[0m\u001b[0;34m.\u001b[0m\u001b[0mcanvas\u001b[0m\u001b[0;34m.\u001b[0m\u001b[0mprint_figure\u001b[0m\u001b[0;34m(\u001b[0m\u001b[0mfname\u001b[0m\u001b[0;34m,\u001b[0m \u001b[0;34m**\u001b[0m\u001b[0mkwargs\u001b[0m\u001b[0;34m)\u001b[0m\u001b[0;34m\u001b[0m\u001b[0;34m\u001b[0m\u001b[0m\n\u001b[0m\u001b[1;32m   3344\u001b[0m \u001b[0;34m\u001b[0m\u001b[0m\n\u001b[1;32m   3345\u001b[0m     def ginput(self, n=1, timeout=30, show_clicks=True,\n",
            "\u001b[0;32m/usr/local/lib/python3.10/dist-packages/matplotlib/backend_bases.py\u001b[0m in \u001b[0;36mprint_figure\u001b[0;34m(self, filename, dpi, facecolor, edgecolor, orientation, format, bbox_inches, pad_inches, bbox_extra_artists, backend, **kwargs)\u001b[0m\n\u001b[1;32m   2364\u001b[0m                 \u001b[0;31m# force the figure dpi to 72), so we need to set it again here.\u001b[0m\u001b[0;34m\u001b[0m\u001b[0;34m\u001b[0m\u001b[0m\n\u001b[1;32m   2365\u001b[0m                 \u001b[0;32mwith\u001b[0m \u001b[0mcbook\u001b[0m\u001b[0;34m.\u001b[0m\u001b[0m_setattr_cm\u001b[0m\u001b[0;34m(\u001b[0m\u001b[0mself\u001b[0m\u001b[0;34m.\u001b[0m\u001b[0mfigure\u001b[0m\u001b[0;34m,\u001b[0m \u001b[0mdpi\u001b[0m\u001b[0;34m=\u001b[0m\u001b[0mdpi\u001b[0m\u001b[0;34m)\u001b[0m\u001b[0;34m:\u001b[0m\u001b[0;34m\u001b[0m\u001b[0;34m\u001b[0m\u001b[0m\n\u001b[0;32m-> 2366\u001b[0;31m                     result = print_method(\n\u001b[0m\u001b[1;32m   2367\u001b[0m                         \u001b[0mfilename\u001b[0m\u001b[0;34m,\u001b[0m\u001b[0;34m\u001b[0m\u001b[0;34m\u001b[0m\u001b[0m\n\u001b[1;32m   2368\u001b[0m                         \u001b[0mfacecolor\u001b[0m\u001b[0;34m=\u001b[0m\u001b[0mfacecolor\u001b[0m\u001b[0;34m,\u001b[0m\u001b[0;34m\u001b[0m\u001b[0;34m\u001b[0m\u001b[0m\n",
            "\u001b[0;32m/usr/local/lib/python3.10/dist-packages/matplotlib/backend_bases.py\u001b[0m in \u001b[0;36m<lambda>\u001b[0;34m(*args, **kwargs)\u001b[0m\n\u001b[1;32m   2230\u001b[0m                 \"bbox_inches_restore\"}\n\u001b[1;32m   2231\u001b[0m             \u001b[0mskip\u001b[0m \u001b[0;34m=\u001b[0m \u001b[0moptional_kws\u001b[0m \u001b[0;34m-\u001b[0m \u001b[0;34m{\u001b[0m\u001b[0;34m*\u001b[0m\u001b[0minspect\u001b[0m\u001b[0;34m.\u001b[0m\u001b[0msignature\u001b[0m\u001b[0;34m(\u001b[0m\u001b[0mmeth\u001b[0m\u001b[0;34m)\u001b[0m\u001b[0;34m.\u001b[0m\u001b[0mparameters\u001b[0m\u001b[0;34m}\u001b[0m\u001b[0;34m\u001b[0m\u001b[0;34m\u001b[0m\u001b[0m\n\u001b[0;32m-> 2232\u001b[0;31m             print_method = functools.wraps(meth)(lambda *args, **kwargs: meth(\n\u001b[0m\u001b[1;32m   2233\u001b[0m                 *args, **{k: v for k, v in kwargs.items() if k not in skip}))\n\u001b[1;32m   2234\u001b[0m         \u001b[0;32melse\u001b[0m\u001b[0;34m:\u001b[0m  \u001b[0;31m# Let third-parties do as they see fit.\u001b[0m\u001b[0;34m\u001b[0m\u001b[0;34m\u001b[0m\u001b[0m\n",
            "\u001b[0;32m/usr/local/lib/python3.10/dist-packages/matplotlib/backends/backend_agg.py\u001b[0m in \u001b[0;36mprint_png\u001b[0;34m(self, filename_or_obj, metadata, pil_kwargs)\u001b[0m\n\u001b[1;32m    507\u001b[0m             \u001b[0;34m*\u001b[0m\u001b[0mmetadata\u001b[0m\u001b[0;34m*\u001b[0m\u001b[0;34m,\u001b[0m \u001b[0mincluding\u001b[0m \u001b[0mthe\u001b[0m \u001b[0mdefault\u001b[0m \u001b[0;34m'Software'\u001b[0m \u001b[0mkey\u001b[0m\u001b[0;34m.\u001b[0m\u001b[0;34m\u001b[0m\u001b[0;34m\u001b[0m\u001b[0m\n\u001b[1;32m    508\u001b[0m         \"\"\"\n\u001b[0;32m--> 509\u001b[0;31m         \u001b[0mself\u001b[0m\u001b[0;34m.\u001b[0m\u001b[0m_print_pil\u001b[0m\u001b[0;34m(\u001b[0m\u001b[0mfilename_or_obj\u001b[0m\u001b[0;34m,\u001b[0m \u001b[0;34m\"png\"\u001b[0m\u001b[0;34m,\u001b[0m \u001b[0mpil_kwargs\u001b[0m\u001b[0;34m,\u001b[0m \u001b[0mmetadata\u001b[0m\u001b[0;34m)\u001b[0m\u001b[0;34m\u001b[0m\u001b[0;34m\u001b[0m\u001b[0m\n\u001b[0m\u001b[1;32m    510\u001b[0m \u001b[0;34m\u001b[0m\u001b[0m\n\u001b[1;32m    511\u001b[0m     \u001b[0;32mdef\u001b[0m \u001b[0mprint_to_buffer\u001b[0m\u001b[0;34m(\u001b[0m\u001b[0mself\u001b[0m\u001b[0;34m)\u001b[0m\u001b[0;34m:\u001b[0m\u001b[0;34m\u001b[0m\u001b[0;34m\u001b[0m\u001b[0m\n",
            "\u001b[0;32m/usr/local/lib/python3.10/dist-packages/matplotlib/backends/backend_agg.py\u001b[0m in \u001b[0;36m_print_pil\u001b[0;34m(self, filename_or_obj, fmt, pil_kwargs, metadata)\u001b[0m\n\u001b[1;32m    456\u001b[0m         \"\"\"\n\u001b[1;32m    457\u001b[0m         \u001b[0mFigureCanvasAgg\u001b[0m\u001b[0;34m.\u001b[0m\u001b[0mdraw\u001b[0m\u001b[0;34m(\u001b[0m\u001b[0mself\u001b[0m\u001b[0;34m)\u001b[0m\u001b[0;34m\u001b[0m\u001b[0;34m\u001b[0m\u001b[0m\n\u001b[0;32m--> 458\u001b[0;31m         mpl.image.imsave(\n\u001b[0m\u001b[1;32m    459\u001b[0m             \u001b[0mfilename_or_obj\u001b[0m\u001b[0;34m,\u001b[0m \u001b[0mself\u001b[0m\u001b[0;34m.\u001b[0m\u001b[0mbuffer_rgba\u001b[0m\u001b[0;34m(\u001b[0m\u001b[0;34m)\u001b[0m\u001b[0;34m,\u001b[0m \u001b[0mformat\u001b[0m\u001b[0;34m=\u001b[0m\u001b[0mfmt\u001b[0m\u001b[0;34m,\u001b[0m \u001b[0morigin\u001b[0m\u001b[0;34m=\u001b[0m\u001b[0;34m\"upper\"\u001b[0m\u001b[0;34m,\u001b[0m\u001b[0;34m\u001b[0m\u001b[0;34m\u001b[0m\u001b[0m\n\u001b[1;32m    460\u001b[0m             dpi=self.figure.dpi, metadata=metadata, pil_kwargs=pil_kwargs)\n",
            "\u001b[0;32m/usr/local/lib/python3.10/dist-packages/matplotlib/image.py\u001b[0m in \u001b[0;36mimsave\u001b[0;34m(fname, arr, vmin, vmax, cmap, format, origin, dpi, metadata, pil_kwargs)\u001b[0m\n\u001b[1;32m   1687\u001b[0m         \u001b[0mpil_kwargs\u001b[0m\u001b[0;34m.\u001b[0m\u001b[0msetdefault\u001b[0m\u001b[0;34m(\u001b[0m\u001b[0;34m\"format\"\u001b[0m\u001b[0;34m,\u001b[0m \u001b[0mformat\u001b[0m\u001b[0;34m)\u001b[0m\u001b[0;34m\u001b[0m\u001b[0;34m\u001b[0m\u001b[0m\n\u001b[1;32m   1688\u001b[0m         \u001b[0mpil_kwargs\u001b[0m\u001b[0;34m.\u001b[0m\u001b[0msetdefault\u001b[0m\u001b[0;34m(\u001b[0m\u001b[0;34m\"dpi\"\u001b[0m\u001b[0;34m,\u001b[0m \u001b[0;34m(\u001b[0m\u001b[0mdpi\u001b[0m\u001b[0;34m,\u001b[0m \u001b[0mdpi\u001b[0m\u001b[0;34m)\u001b[0m\u001b[0;34m)\u001b[0m\u001b[0;34m\u001b[0m\u001b[0;34m\u001b[0m\u001b[0m\n\u001b[0;32m-> 1689\u001b[0;31m         \u001b[0mimage\u001b[0m\u001b[0;34m.\u001b[0m\u001b[0msave\u001b[0m\u001b[0;34m(\u001b[0m\u001b[0mfname\u001b[0m\u001b[0;34m,\u001b[0m \u001b[0;34m**\u001b[0m\u001b[0mpil_kwargs\u001b[0m\u001b[0;34m)\u001b[0m\u001b[0;34m\u001b[0m\u001b[0;34m\u001b[0m\u001b[0m\n\u001b[0m\u001b[1;32m   1690\u001b[0m \u001b[0;34m\u001b[0m\u001b[0m\n\u001b[1;32m   1691\u001b[0m \u001b[0;34m\u001b[0m\u001b[0m\n",
            "\u001b[0;32m/usr/local/lib/python3.10/dist-packages/PIL/Image.py\u001b[0m in \u001b[0;36msave\u001b[0;34m(self, fp, format, **params)\u001b[0m\n\u001b[1;32m   2426\u001b[0m                 \u001b[0mfp\u001b[0m \u001b[0;34m=\u001b[0m \u001b[0mbuiltins\u001b[0m\u001b[0;34m.\u001b[0m\u001b[0mopen\u001b[0m\u001b[0;34m(\u001b[0m\u001b[0mfilename\u001b[0m\u001b[0;34m,\u001b[0m \u001b[0;34m\"r+b\"\u001b[0m\u001b[0;34m)\u001b[0m\u001b[0;34m\u001b[0m\u001b[0;34m\u001b[0m\u001b[0m\n\u001b[1;32m   2427\u001b[0m             \u001b[0;32melse\u001b[0m\u001b[0;34m:\u001b[0m\u001b[0;34m\u001b[0m\u001b[0;34m\u001b[0m\u001b[0m\n\u001b[0;32m-> 2428\u001b[0;31m                 \u001b[0mfp\u001b[0m \u001b[0;34m=\u001b[0m \u001b[0mbuiltins\u001b[0m\u001b[0;34m.\u001b[0m\u001b[0mopen\u001b[0m\u001b[0;34m(\u001b[0m\u001b[0mfilename\u001b[0m\u001b[0;34m,\u001b[0m \u001b[0;34m\"w+b\"\u001b[0m\u001b[0;34m)\u001b[0m\u001b[0;34m\u001b[0m\u001b[0;34m\u001b[0m\u001b[0m\n\u001b[0m\u001b[1;32m   2429\u001b[0m \u001b[0;34m\u001b[0m\u001b[0m\n\u001b[1;32m   2430\u001b[0m         \u001b[0;32mtry\u001b[0m\u001b[0;34m:\u001b[0m\u001b[0;34m\u001b[0m\u001b[0;34m\u001b[0m\u001b[0m\n",
            "\u001b[0;31mFileNotFoundError\u001b[0m: [Errno 2] No such file or directory: './content/confusion_matrix.png'"
          ]
        },
        {
          "data": {
            "image/png": "[encoded data removed]",
            "text/plain": [
              "<Figure size 1200x1000 with 2 Axes>"
            ]
          },
          "metadata": {},
          "output_type": "display_data"
        }
      ],
      "source": [
        "\n",
        "import os\n",
        "\n",
        "import numpy as np\n",
        "\n",
        "from onemetric.cv.object_detection import ConfusionMatrix\n",
        "\n",
        "keys = list(ds.images.keys())\n",
        "\n",
        "annotation_batches, prediction_batches = [], []\n",
        "\n",
        "for key in keys:\n",
        "    annotation=ds.annotations[key]\n",
        "    annotation_batch = np.column_stack((\n",
        "        annotation.xyxy,\n",
        "        annotation.class_id\n",
        "    ))\n",
        "    annotation_batches.append(annotation_batch)\n",
        "\n",
        "    prediction=predictions[key]\n",
        "    prediction_batch = np.column_stack((\n",
        "        prediction.xyxy,\n",
        "        prediction.class_id,\n",
        "        prediction.confidence\n",
        "    ))\n",
        "    prediction_batches.append(prediction_batch)\n",
        "\n",
        "confusion_matrix = ConfusionMatrix.from_detections(\n",
        "    true_batches=annotation_batches,\n",
        "    detection_batches=prediction_batches,\n",
        "    num_classes=len(ds.classes),\n",
        "    conf_threshold=CONFIDENCE_TRESHOLD\n",
        ")\n",
        "\n",
        "confusion_matrix.plot(os.path.join(\"/content\", \"confusion_matrix.png\"), class_names=ds.classes)"
      ]
    },
    {
      "cell_type": "code",
      "execution_count": null,
      "id": "353b72f5",
      "metadata": {
        "id": "353b72f5"
      },
      "outputs": [],
      "source": [
        "import random\n",
        "import supervision as sv\n",
        "\n",
        "random.seed(10)\n",
        "\n",
        "MAX_IMAGE_COUNT = 5\n",
        "\n",
        "n = min(MAX_IMAGE_COUNT, len(ds.images))\n",
        "\n",
        "keys = list(ds.images.keys())\n",
        "keys = random.sample(keys, n)\n",
        "\n",
        "box_annotator = sv.BoxAnnotator()\n",
        "\n",
        "images = []\n",
        "titles = []"
      ]
    },
    {
      "cell_type": "code",
      "source": [
        "detections_list = []\n",
        "prediction_list = []\n",
        "for key in keys:\n",
        "    # Para anotações\n",
        "    annotation_detections = ds.annotations[key]\n",
        "    for detection in annotation_detections:\n",
        "        detections_list.append(detection[0])\n",
        "\n",
        "    # Para previsões\n",
        "    prediction_detections = predictions[key]\n",
        "    for prediction in prediction_detections:\n",
        "        prediction_list.append(prediction[0])"
      ],
      "metadata": {
        "id": "Ext1BDE2P35p"
      },
      "id": "Ext1BDE2P35p",
      "execution_count": null,
      "outputs": []
    },
    {
      "cell_type": "code",
      "source": [
        "import numpy as np\n",
        "\n",
        "\n",
        "def iou(box1, box2):\n",
        "    # Verifica se as bounding boxes são válidas.\n",
        "    if box1[2] is None or box2[2] is None:\n",
        "        return 0.0\n",
        "\n",
        "    # Calcula as interseções das bounding boxes.\n",
        "    inter_top = np.maximum(box1[0], box2[0])\n",
        "    inter_bottom = np.minimum(box1[2], box2[2])\n",
        "    inter_left = np.maximum(box1[1], box2[1])\n",
        "    inter_right = np.minimum(box1[3], box2[3])\n",
        "    inter_area = (inter_right - inter_left) * (inter_bottom - inter_top)\n",
        "\n",
        "    # Calcula as áreas das bounding boxes.\n",
        "    box1_area = (box1[2] - box1[0]) * (box1[3] - box1[1])\n",
        "    box2_area = (box2[2] - box2[0]) * (box2[3] - box2[1])\n",
        "\n",
        "    # Calcula o IoU.\n",
        "    iou = inter_area / (box1_area + box2_area - inter_area)\n",
        "\n",
        "    return iou\n",
        "\n",
        "for i in range(len(detections_list)):\n",
        "  iou_score = iou(detections_list[i], prediction_list[i])\n",
        "\n",
        "  # Imprime o IoU.\n",
        "  print(iou_score)"
      ],
      "metadata": {
        "id": "HiUJvDozP4ry",
        "outputId": "99328226-9e62-412e-d95c-dac2e881359c",
        "colab": {
          "base_uri": "https://localhost:8080/"
        }
      },
      "execution_count": null,
      "outputs": [
        {
          "output_type": "stream",
          "name": "stdout",
          "text": [
            "0.8873508\n",
            "0.8898279\n",
            "0.91539186\n",
            "0.91630524\n",
            "0.8592779\n"
          ]
        }
      ],
      "id": "HiUJvDozP4ry"
    },
    {
      "cell_type": "code",
      "source": [
        "!zip -r /content/YoloNas.zip /content/checkpoints"
      ],
      "metadata": {
        "id": "QDF1q-06-JTT",
        "outputId": "2cc5d07c-c6db-42fc-ec61-c8ddea289106",
        "colab": {
          "base_uri": "https://localhost:8080/"
        }
      },
      "execution_count": null,
      "outputs": [
        {
          "output_type": "stream",
          "name": "stdout",
          "text": [
            "<class 'list'>\n"
          ]
        }
      ],
      "id": "QDF1q-06-JTT"
    },
    {
      "cell_type": "code",
      "source": [
        "from google.colab import drive\n",
        "drive.mount('/content/drive')\n"
      ],
      "metadata": {
        "id": "9jGfPc7L-LYm"
      },
      "id": "9jGfPc7L-LYm",
      "execution_count": null,
      "outputs": []
    },
    {
      "cell_type": "code",
      "source": [
        "%cp -av \"/content/YoloNas.Zip\" \"/content/drive/MyDrive\""
      ],
      "metadata": {
        "id": "P0CLIyJ90aSK"
      },
      "id": "P0CLIyJ90aSK",
      "execution_count": null,
      "outputs": []
    }
  ],
  "metadata": {
    "accelerator": "GPU",
    "colab": {
      "gpuType": "T4",
      "provenance": []
    },
    "kernelspec": {
      "display_name": "Python 3",
      "name": "python3"
    },
    "language_info": {
      "codemirror_mode": {
        "name": "ipython",
        "version": 3
      },
      "file_extension": ".py",
      "mimetype": "text/x-python",
      "name": "python",
      "nbconvert_exporter": "python",
      "pygments_lexer": "ipython3",
      "version": "3.9.0"
    }
  },
  "nbformat": 4,
  "nbformat_minor": 5
}